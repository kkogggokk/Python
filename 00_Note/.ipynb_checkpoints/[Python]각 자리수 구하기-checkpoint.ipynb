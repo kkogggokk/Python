{
 "cells": [
  {
   "cell_type": "markdown",
   "metadata": {},
   "source": [
    "> 입력받은 숫자의 각 자리수의 값을 구해보자\n",
    "- 각 자리 값들을 담을 리스트를 선언해준다. \n",
    "- 리스트에 한 자리 씩 분리하기 위해서는 str으로 변환 해주어야 한다.\n",
    "- 저장 시 int로 변환하면 문자가 아닌 숫자형태로 저장된다. "
   ]
  },
  {
   "cell_type": "code",
   "execution_count": null,
   "metadata": {},
   "outputs": [],
   "source": [
    "number = int(input()) # 12345\n",
    "lst = list()\n",
    "\n",
    "for i in str(number):\n",
    "    lst.append(int(i))\n",
    "\n",
    "print(lst)\n",
    "print(sum(lst)) # 각 자리수의 값을 더함\n",
    "\n",
    "[결과]\n",
    "[1, 2, 3, 4, 5]\n",
    "15"
   ]
  }
 ],
 "metadata": {
  "kernelspec": {
   "display_name": "Python 3",
   "language": "python",
   "name": "python3"
  },
  "language_info": {
   "codemirror_mode": {
    "name": "ipython",
    "version": 3
   },
   "file_extension": ".py",
   "mimetype": "text/x-python",
   "name": "python",
   "nbconvert_exporter": "python",
   "pygments_lexer": "ipython3",
   "version": "3.8.5"
  }
 },
 "nbformat": 4,
 "nbformat_minor": 4
}
