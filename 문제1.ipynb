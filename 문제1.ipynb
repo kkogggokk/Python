{
 "cells": [
  {
   "cell_type": "code",
   "execution_count": 1,
   "metadata": {},
   "outputs": [],
   "source": [
    "#핵심 소스코드의 설명을 주석으로 작성하면 평가에 큰 도움이 됩니다.\n",
    "class Solution:\n",
    "    def solution(self, weights, maxWeight):\n",
    "        return 0"
   ]
  },
  {
   "cell_type": "markdown",
   "metadata": {},
   "source": [
    "1. 새로운 배열 선언 \n",
    "2. 배열의 순서대로 하나씩 빼서 저장한다. \n",
    "3. 배열의 합을 구한다.\n",
    "4. 합의 값이 maxweight보다 작거나 같아야 한다. \n",
    "5. 이상이 되면 앞의 내용을 pop, 삭제한다. count+1 한다.\n",
    "6. 반복한다. "
   ]
  },
  {
   "cell_type": "code",
   "execution_count": 42,
   "metadata": {},
   "outputs": [
    {
     "name": "stdout",
     "output_type": "stream",
     "text": [
      "index, value :  0 1\n",
      "lst :  [1]\n",
      "0\n",
      "index, value :  1 1\n",
      "lst :  [1, 1]\n",
      "0\n",
      "index, value :  2 1\n",
      "lst :  [1, 1, 1]\n",
      "0\n",
      "index, value :  3 7\n",
      "lst :  [1, 1, 1, 7]\n",
      "0\n",
      "index, value :  4 7\n",
      "lst :  [7]\n",
      "1\n",
      "index, value :  5 7\n",
      "lst :  [7, 7]\n",
      "1\n"
     ]
    }
   ],
   "source": [
    "weights = [1,1,1,7,7,7]\n",
    "maxWeight = 8\n",
    "\n",
    "lst = list()\n",
    "count = 0\n",
    "\n",
    "for index, value in enumerate(weights) : \n",
    "    print(\"index, value : \",index, value)\n",
    "    if sum(lst) <= maxWeight : \n",
    "        lst.append(value) \n",
    "        print(\"lst : \", lst)\n",
    "    else : \n",
    "        count += 1 \n",
    "        del lst[:index-1]\n",
    "        print(\"lst : \",lst)\n",
    "        \n",
    "    print(count)"
   ]
  },
  {
   "cell_type": "code",
   "execution_count": 162,
   "metadata": {},
   "outputs": [
    {
     "name": "stdout",
     "output_type": "stream",
     "text": [
      "-------- [] 1\n",
      "-------- [5] 1\n",
      "-------- [5, 5] 1\n",
      "-------- [5] 2\n",
      "-------- [5, 5] 2\n",
      "-------- [5] 3\n",
      "3\n"
     ]
    }
   ],
   "source": [
    "# weights = [1,1,1,7,7,7]\n",
    "# maxWeight = 8\n",
    "# # 리턴(정답): 4\n",
    "\n",
    "# weights = [1]\n",
    "# maxWeight = 1\n",
    "# # 리턴(정답): 1\n",
    "\n",
    "# weights = [1,15,1,15,1,15,1,15,1,15]\n",
    "# maxWeight = 15\n",
    "# 리턴(정답): 10\n",
    "\n",
    "\n",
    "# weights = []\n",
    "# maxWeight = 1\n",
    "# 리턴(정답): 0\n",
    "\n",
    "weights = [5,5,5,5,5,5]\n",
    "maxWeight = 10\n",
    "# 리턴(정답): 3\n",
    "\n",
    "lst = list()\n",
    "count = 0\n",
    "\n",
    "while True :\n",
    "   \n",
    "    if weights != [] :\n",
    "        count +=1 \n",
    "        \n",
    "    for index, value in enumerate(weights) :\n",
    "        print(\"--------\",lst, count)\n",
    "        lst.append(value)\n",
    "        \n",
    "        if sum(lst) <= maxWeight : \n",
    "            continue \n",
    "        else : \n",
    "            del lst[:len(lst)-1]\n",
    "            count += 1\n",
    "        \n",
    "    break\n",
    "print(count)"
   ]
  },
  {
   "cell_type": "code",
   "execution_count": 175,
   "metadata": {},
   "outputs": [
    {
     "data": {
      "text/plain": [
       "4"
      ]
     },
     "execution_count": 175,
     "metadata": {},
     "output_type": "execute_result"
    }
   ],
   "source": [
    "class Solution:\n",
    "    def solution(self, weights, maxWeight):\n",
    "        lst = list()\n",
    "        count = 0\n",
    "\n",
    "        while True :\n",
    "\n",
    "            if weights != [] :\n",
    "                count +=1 \n",
    "\n",
    "            for index, value in enumerate(weights) :\n",
    "#                 print(\"--------\",lst, count)\n",
    "                lst.append(value)\n",
    "\n",
    "                if sum(lst) <= maxWeight : \n",
    "                    continue \n",
    "                else : \n",
    "                    del lst[:len(lst)-1]\n",
    "                    count += 1\n",
    "\n",
    "            break\n",
    "        return count\n",
    "\n",
    "\n",
    "weights1 = [1,1,1,7,7,7]\n",
    "maxWeight1 = 8\n",
    "test = Solution()\n",
    "print(test.solution(weights1,maxWeight1))"
   ]
  },
  {
   "cell_type": "code",
   "execution_count": null,
   "metadata": {},
   "outputs": [],
   "source": []
  }
 ],
 "metadata": {
  "kernelspec": {
   "display_name": "Python 3",
   "language": "python",
   "name": "python3"
  },
  "language_info": {
   "codemirror_mode": {
    "name": "ipython",
    "version": 3
   },
   "file_extension": ".py",
   "mimetype": "text/x-python",
   "name": "python",
   "nbconvert_exporter": "python",
   "pygments_lexer": "ipython3",
   "version": "3.8.5"
  }
 },
 "nbformat": 4,
 "nbformat_minor": 4
}
