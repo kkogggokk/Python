{
 "cells": [
  {
   "cell_type": "markdown",
   "metadata": {},
   "source": [
    "# 자리수 더하기 \n",
    "- 문제 설명           \n",
    "자연수 N이 주어지면, N의 각 자릿수의 합을 구해서 return 하는 solution 함수를 만들어 주세요.\n",
    "예를들어 N = 123이면 1 + 2 + 3 = 6을 return 하면 됩니다.      \n",
    "\n",
    "\n",
    "- 제한사항               \n",
    "N의 범위 : 100,000,000 이하의 자연수\n",
    "\n",
    "    \n",
    "- URL : https://programmers.co.kr/learn/courses/30/lessons/12931"
   ]
  },
  {
   "cell_type": "markdown",
   "metadata": {},
   "source": [
    "#### 희진 풀이 및 과정"
   ]
  },
  {
   "cell_type": "markdown",
   "metadata": {},
   "source": [
    "#### 2020.01.27 (+1)\n",
    "1. 자연수 받기 int \n",
    "2. len(n) ==> 10의 n승을 나눈 값의 몫과 나머지를 통해서 연산\n",
    "    - 2.1 pythonic way \n",
    "    - 2.2 log\n",
    "    - 2.3 10으로 나누기 \n",
    "3. n-1씩 해서 n=이 될때까지 하면 1의 자리 수 까지 구할 수 있음\n",
    "4. 몫 합을 더해서 리턴 \n",
    "\n",
    "\n",
    "##### 참고 \n",
    "자릿수 구하기 : https://shoark7.github.io/programming/algorithm/3-ways-to-get-length-of-natural-number\n",
    "\n",
    "제곱 구하기 :https://blockdmask.tistory.com/377\n"
   ]
  },
  {
   "cell_type": "code",
   "execution_count": 63,
   "metadata": {},
   "outputs": [
    {
     "name": "stdout",
     "output_type": "stream",
     "text": [
      "3\n",
      "9\n",
      "17\n",
      "24\n"
     ]
    }
   ],
   "source": [
    "123 % 10**3 # 123\n",
    "123 // 10**2 # 1 --> 저장\n",
    "\n",
    "123 % 10**2 #23\n",
    "23 // 10**1 #2 --> 저장 \n",
    "\n",
    "23 % 10**1 # 3 \n",
    "3 // 10**0 # 3 --> 저장 \n",
    "\n",
    "n = 987 \n",
    "na = 0 \n",
    "store = 0 \n",
    "\n",
    "length = len(str(n))\n",
    "print(length)\n",
    "\n",
    "n = n % pow(10,length) # 123\n",
    "na = n // pow(10,length-1) # 1\n",
    "store += na # 1\n",
    "length -= 1\n",
    "print(store)\n",
    "\n",
    "n = n % pow(10,length) #23\n",
    "na = n // pow(10,length-1) # 2\n",
    "store += na # 1+2 \n",
    "length -= 1\n",
    "print(store)\n",
    "\n",
    "n = n % pow(10,length) #23\n",
    "na = n // pow(10,length-1) # 2\n",
    "store += na # 1+2+3\n",
    "length -= 1\n",
    "print(store)\n",
    "\n",
    "# 반복 : 길이가 1까지 "
   ]
  },
  {
   "cell_type": "code",
   "execution_count": 74,
   "metadata": {},
   "outputs": [
    {
     "name": "stdout",
     "output_type": "stream",
     "text": [
      "123\n",
      "6\n"
     ]
    }
   ],
   "source": [
    "n = int(input())\n",
    "length = len(str(n))\n",
    "\n",
    "na = 0 \n",
    "answer = 0 \n",
    "\n",
    "for i in range(length) :\n",
    "    n = n% pow(10,length)\n",
    "    na = n // pow(10,length-1)\n",
    "    answer += na\n",
    "    length -= 1 \n",
    "    \n",
    "print(answer)"
   ]
  },
  {
   "cell_type": "code",
   "execution_count": 78,
   "metadata": {},
   "outputs": [
    {
     "name": "stdout",
     "output_type": "stream",
     "text": [
      "897\n"
     ]
    },
    {
     "data": {
      "text/plain": [
       "24"
      ]
     },
     "execution_count": 78,
     "metadata": {},
     "output_type": "execute_result"
    }
   ],
   "source": [
    "def solution(n) : \n",
    "    na = 0 \n",
    "    answer = 0\n",
    "    \n",
    "    length = len(str(n))\n",
    "   \n",
    "    for i in range(length) : \n",
    "        n = n % pow(10,length)\n",
    "        na = n // pow(10,length-1)\n",
    "        answer += na \n",
    "        length -= 1\n",
    "    \n",
    "    return answer \n",
    "\n",
    "\n",
    "n = int(input())\n",
    "solution(n)"
   ]
  },
  {
   "cell_type": "markdown",
   "metadata": {},
   "source": [
    "#### 다른 풀이"
   ]
  },
  {
   "cell_type": "code",
   "execution_count": 79,
   "metadata": {},
   "outputs": [
    {
     "name": "stdout",
     "output_type": "stream",
     "text": [
      "결과 : 6\n"
     ]
    }
   ],
   "source": [
    "def sum_digit(number):\n",
    "    if number < 10:\n",
    "        return number;\n",
    "    return (number % 10) + sum_digit(number // 10) \n",
    "\n",
    "# 아래는 테스트로 출력해 보기 위한 코드입니다.\n",
    "print(\"결과 : {}\".format(sum_digit(123)));\n",
    "\n",
    "## 풀이는 재귀함수 통해서 함수 호출해서 풀어냈네"
   ]
  },
  {
   "cell_type": "code",
   "execution_count": 81,
   "metadata": {},
   "outputs": [
    {
     "name": "stdout",
     "output_type": "stream",
     "text": [
      "결과 : 6\n"
     ]
    }
   ],
   "source": [
    "def sum_digit(number):\n",
    "    return sum([int(i) for i in str(number)])\n",
    "# 아래는 테스트로 출력해 보기 위한 코드입니다.\n",
    "print(\"결과 : {}\".format(sum_digit(123)));\n",
    "\n",
    "# 이 풀이는 리스트에 넣어서 풀어냈네 , \n",
    "#리스트도 생각했지만 인트값으로 받아서 리스트보다는 10으로 나누는 형태로 풀어나갔지 나는 "
   ]
  },
  {
   "cell_type": "code",
   "execution_count": 83,
   "metadata": {},
   "outputs": [
    {
     "name": "stdout",
     "output_type": "stream",
     "text": [
      "결과 : 6\n"
     ]
    }
   ],
   "source": [
    "def sum_digit(number):\n",
    "    '''number의 각 자릿수를 더해서 return하세요'''\n",
    "    return sum(map(int,str(number)))\n",
    "\n",
    "# 아래는 테스트로 출력해 보기 위한 코드입니다.\n",
    "print(\"결과 : {}\".format(sum_digit(123)));\n",
    "\n",
    "\n",
    "# 입력받을때 스트링값으로 받고 인트로 map나눠서 합치는 방법 와우.. 대박이네.."
   ]
  },
  {
   "cell_type": "markdown",
   "metadata": {},
   "source": [
    "#### 내가 생각하지 못한 점 "
   ]
  },
  {
   "cell_type": "code",
   "execution_count": null,
   "metadata": {},
   "outputs": [],
   "source": []
  },
  {
   "cell_type": "code",
   "execution_count": null,
   "metadata": {},
   "outputs": [],
   "source": []
  },
  {
   "cell_type": "code",
   "execution_count": null,
   "metadata": {},
   "outputs": [],
   "source": []
  },
  {
   "cell_type": "code",
   "execution_count": null,
   "metadata": {},
   "outputs": [],
   "source": []
  },
  {
   "cell_type": "code",
   "execution_count": null,
   "metadata": {},
   "outputs": [],
   "source": []
  },
  {
   "cell_type": "code",
   "execution_count": null,
   "metadata": {},
   "outputs": [],
   "source": []
  },
  {
   "cell_type": "code",
   "execution_count": null,
   "metadata": {},
   "outputs": [],
   "source": []
  },
  {
   "cell_type": "code",
   "execution_count": null,
   "metadata": {},
   "outputs": [],
   "source": []
  },
  {
   "cell_type": "code",
   "execution_count": null,
   "metadata": {},
   "outputs": [],
   "source": []
  },
  {
   "cell_type": "code",
   "execution_count": null,
   "metadata": {},
   "outputs": [],
   "source": []
  },
  {
   "cell_type": "code",
   "execution_count": null,
   "metadata": {},
   "outputs": [],
   "source": []
  }
 ],
 "metadata": {
  "kernelspec": {
   "display_name": "Python 3",
   "language": "python",
   "name": "python3"
  },
  "language_info": {
   "codemirror_mode": {
    "name": "ipython",
    "version": 3
   },
   "file_extension": ".py",
   "mimetype": "text/x-python",
   "name": "python",
   "nbconvert_exporter": "python",
   "pygments_lexer": "ipython3",
   "version": "3.8.5"
  }
 },
 "nbformat": 4,
 "nbformat_minor": 4
}
