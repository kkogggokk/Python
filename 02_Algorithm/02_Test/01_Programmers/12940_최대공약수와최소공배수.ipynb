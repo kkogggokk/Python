{
 "cells": [
  {
   "cell_type": "markdown",
   "metadata": {},
   "source": [
    "# 최대공약수와 최소공배수 \n",
    "- 문제 설명          \n",
    "두 수를 입력받아 두 수의 최대공약수와 최소공배수를 반환하는 함수, solution을 완성해 보세요. 배열의 맨 앞에 최대공약수, 그다음 최소공배수를 넣어 반환하면 됩니다. 예를 들어 두 수 3, 12의 최대공약수는 3, 최소공배수는 12이므로 solution(3, 12)는 [3, 12]를 반환해야 합니다.\n",
    "\n",
    "\n",
    "- 제한 사항              \n",
    "두 수는 1이상 1000000이하의 자연수입니다.\n"
   ]
  },
  {
   "cell_type": "markdown",
   "metadata": {},
   "source": [
    "#### 희진 풀이 및 과정"
   ]
  },
  {
   "cell_type": "markdown",
   "metadata": {},
   "source": [
    "#### 2021.01.27 \n",
    "- 재귀함수를 통해서 푸는 방법도 있긴 한데, 아직까진 재귀함수가 익숙치가 않아서..연습 해보면서 다음번에는 재귀함수 통해서 풀어보자. \n",
    "\n",
    "### 최대 공약수 \n",
    "1. 두 값 중 더 작은 값을 확인 \n",
    "2. 작은 값으로 나눠지는지 공통된 약수인지 확인 \n",
    "3. 공통된 약수이면 결과값을 돌려주고 종료 \n",
    "4. 공통된 약수가 아니면 -1씩 감소시켜 반복하기 i가 1이되면 결과값으로 돌려주기 \n",
    "\n",
    "### 최소공배수 \n",
    "최소 공배수 = 두 자연수의 곱 / 최대공약수 \n"
   ]
  },
  {
   "cell_type": "code",
   "execution_count": 3,
   "metadata": {},
   "outputs": [
    {
     "ename": "IndentationError",
     "evalue": "expected an indented block (<ipython-input-3-eda138f48a0d>, line 5)",
     "output_type": "error",
     "traceback": [
      "\u001b[0;36m  File \u001b[0;32m\"<ipython-input-3-eda138f48a0d>\"\u001b[0;36m, line \u001b[0;32m5\u001b[0m\n\u001b[0;31m    while True :\u001b[0m\n\u001b[0m    ^\u001b[0m\n\u001b[0;31mIndentationError\u001b[0m\u001b[0;31m:\u001b[0m expected an indented block\n"
     ]
    }
   ],
   "source": [
    "n, m = map(int,input().split())\n",
    "\n",
    "\n",
    "def gcd(n,m) :\n",
    "i = min(n,m)\n",
    "    while True : \n",
    "    if n % i == 0 and m % i == 0 :\n",
    "        return i \n",
    "    i = i - 1\n",
    "    \n"
   ]
  },
  {
   "cell_type": "markdown",
   "metadata": {},
   "source": [
    "#### 다른 풀이"
   ]
  },
  {
   "cell_type": "code",
   "execution_count": null,
   "metadata": {},
   "outputs": [],
   "source": []
  },
  {
   "cell_type": "code",
   "execution_count": null,
   "metadata": {},
   "outputs": [],
   "source": []
  },
  {
   "cell_type": "markdown",
   "metadata": {},
   "source": [
    "#### 내가 생각하지 못한 점 "
   ]
  },
  {
   "cell_type": "code",
   "execution_count": null,
   "metadata": {},
   "outputs": [],
   "source": []
  },
  {
   "cell_type": "code",
   "execution_count": null,
   "metadata": {},
   "outputs": [],
   "source": []
  },
  {
   "cell_type": "code",
   "execution_count": null,
   "metadata": {},
   "outputs": [],
   "source": []
  },
  {
   "cell_type": "code",
   "execution_count": null,
   "metadata": {},
   "outputs": [],
   "source": []
  }
 ],
 "metadata": {
  "kernelspec": {
   "display_name": "Python 3",
   "language": "python",
   "name": "python3"
  },
  "language_info": {
   "codemirror_mode": {
    "name": "ipython",
    "version": 3
   },
   "file_extension": ".py",
   "mimetype": "text/x-python",
   "name": "python",
   "nbconvert_exporter": "python",
   "pygments_lexer": "ipython3",
   "version": "3.8.5"
  }
 },
 "nbformat": 4,
 "nbformat_minor": 4
}
