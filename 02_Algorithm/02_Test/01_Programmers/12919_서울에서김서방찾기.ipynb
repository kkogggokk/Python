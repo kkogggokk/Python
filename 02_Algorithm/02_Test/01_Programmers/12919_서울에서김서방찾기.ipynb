{
 "cells": [
  {
   "cell_type": "markdown",
   "metadata": {},
   "source": [
    "# 서울에서 김서방 찾기\n",
    "String형 배열 seoul의 element중 Kim의 위치 x를 찾아,       \n",
    "김서방은 x에 있다는 String을 반환하는 함수, solution을 완성하세요.      \n",
    "seoul에 Kim은 오직 한 번만 나타나며 잘못된 값이 입력되는 경우는 없습니다.     \n",
    "\n",
    "- seoul은 길이 1 이상, 1000 이하인 배열입니다.\n",
    "- seoul의 원소는 길이 1 이상, 20 이하인 문자열입니다.\n",
    "- Kim은 반드시 seoul 안에 포함되어 있습니다.\n",
    "\n",
    "- URL : https://programmers.co.kr/learn/courses/30/lessons/12919 "
   ]
  },
  {
   "cell_type": "markdown",
   "metadata": {},
   "source": [
    "#### 희진풀이"
   ]
  },
  {
   "cell_type": "code",
   "execution_count": 21,
   "metadata": {},
   "outputs": [
    {
     "data": {
      "text/plain": [
       "'김서방은 1에 있다.'"
      ]
     },
     "execution_count": 21,
     "metadata": {},
     "output_type": "execute_result"
    }
   ],
   "source": [
    "def solution(seoul):\n",
    "    index = seoul.index('Kim')\n",
    "    answer = f'김서방은 {index}에 있다'\n",
    "    return answer\n",
    "\n",
    "seoul = ['Jane','Kim']\n",
    "solution(seoul)"
   ]
  },
  {
   "cell_type": "markdown",
   "metadata": {},
   "source": [
    "1. list seoul에 kim 넣기\n",
    "2. kim을 찾아 인덱스를 뽑아내기 -  seoul.index('kim')\n",
    "3. return에 값 출력하기 "
   ]
  },
  {
   "cell_type": "markdown",
   "metadata": {},
   "source": [
    "#### 풀이과정 "
   ]
  },
  {
   "cell_type": "code",
   "execution_count": 16,
   "metadata": {},
   "outputs": [
    {
     "name": "stdout",
     "output_type": "stream",
     "text": [
      "1\n",
      "김서방은 1에 있다\n",
      "0 jane\n",
      "1 kim\n"
     ]
    }
   ],
   "source": [
    "seoul = ['jane', 'kim']\n",
    "\n",
    "\n",
    "result = seoul.index('kim')\n",
    "print(result)\n",
    "print('김서방은 {}에 있다'.format(seoul.index('kim')))\n",
    "\n",
    "for index, value in enumerate(seoul) :\n",
    "    print(index,value)"
   ]
  },
  {
   "cell_type": "markdown",
   "metadata": {},
   "source": [
    "####  다른사람 풀이"
   ]
  },
  {
   "cell_type": "code",
   "execution_count": null,
   "metadata": {},
   "outputs": [],
   "source": [
    "return \"김서방은 {}에 있다\".format(seoul.index('Kim'))"
   ]
  },
  {
   "cell_type": "code",
   "execution_count": null,
   "metadata": {},
   "outputs": [],
   "source": [
    "for i in range(len(seoul)):\n",
    "        if seoul[i]==\"Kim\":\n",
    "            return \"김서방은 {}에 있다\".format(i)"
   ]
  }
 ],
 "metadata": {
  "kernelspec": {
   "display_name": "Python 3",
   "language": "python",
   "name": "python3"
  },
  "language_info": {
   "codemirror_mode": {
    "name": "ipython",
    "version": 3
   },
   "file_extension": ".py",
   "mimetype": "text/x-python",
   "name": "python",
   "nbconvert_exporter": "python",
   "pygments_lexer": "ipython3",
   "version": "3.8.5"
  }
 },
 "nbformat": 4,
 "nbformat_minor": 4
}
