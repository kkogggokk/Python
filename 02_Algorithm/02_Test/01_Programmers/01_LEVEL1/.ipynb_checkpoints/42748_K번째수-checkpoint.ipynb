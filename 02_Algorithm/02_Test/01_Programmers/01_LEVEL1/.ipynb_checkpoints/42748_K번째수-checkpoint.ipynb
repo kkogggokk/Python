{
 "cells": [
  {
   "cell_type": "markdown",
   "metadata": {},
   "source": [
    "# K번째 수 \n",
    "- 문제 설명      \n",
    "배열 array의 i번째 숫자부터 j번째 숫자까지 자르고 정렬했을 때, k번째에 있는 수를 구하려 합니다.     \n",
    "\n",
    "\n",
    "\n",
    "예를 들어 array가 [1, 5, 2, 6, 3, 7, 4], i = 2, j = 5, k = 3이라면\n",
    "\n",
    "\n",
    "\n",
    "array의 2번째부터 5번째까지 자르면 [5, 2, 6, 3]입니다.\n",
    "1에서 나온 배열을 정렬하면 [2, 3, 5, 6]입니다.   \n",
    "2에서 나온 배열의 3번째 숫자는 5입니다.    \n",
    "\n",
    "\n",
    "배열 array, [i, j, k]를 원소로 가진 2차원 배열 commands가 매개변수로 주어질 때, commands의 모든 원소에 대해 앞서 설명한 연산을 적용했을 때 나온 결과를 배열에 담아 return 하도록 solution 함수를 작성해주세요.     \n",
    "\n",
    "\n",
    "\n",
    "- 제한사항     \n",
    "array의 길이는 1 이상 100 이하입니다.\n",
    "array의 각 원소는 1 이상 100 이하입니다.\n",
    "commands의 길이는 1 이상 50 이하입니다.\n",
    "commands의 각 원소는 길이가 3입니다.\n",
    "\n",
    "\n",
    "- URL : https://programmers.co.kr/learn/courses/30/lessons/42748"
   ]
  },
  {
   "cell_type": "markdown",
   "metadata": {},
   "source": [
    "#### 풀이 및 과정"
   ]
  },
  {
   "cell_type": "markdown",
   "metadata": {},
   "source": [
    "#### 2021.01.28 (+2)\n",
    "1. 배열 i,j 까지 슬라이싱 하기 \n",
    "    - arr[i-1,j]\n",
    "2. 오름차순 정렬하기\n",
    "    - sort()\n",
    "3. k번째 추출하기\n",
    "    - result[k-1]"
   ]
  },
  {
   "cell_type": "code",
   "execution_count": 7,
   "metadata": {},
   "outputs": [
    {
     "name": "stdout",
     "output_type": "stream",
     "text": [
      "[5, 2, 6, 3]\n",
      "[2, 3, 5, 6]\n"
     ]
    },
    {
     "data": {
      "text/plain": [
       "5"
      ]
     },
     "execution_count": 7,
     "metadata": {},
     "output_type": "execute_result"
    }
   ],
   "source": [
    "# 1차열 배열로 해보기 \n",
    "arr = [1, 5, 2, 6, 3, 7, 4]\n",
    "commands = [2, 5, 3]\n",
    "\n",
    "# i, j, k 할당하기 \n",
    "i, j, k = commands[0], commands[1], commands[2] \n",
    "\n",
    "# i ~ j 번째 슬라이싱 하기 \n",
    "result = arr[i-1:j]\n",
    "print(result)\n",
    "\n",
    "# 오름차순하기\n",
    "result.sort()\n",
    "print(result)\n",
    "\n",
    "# k번째 추출하기 \n",
    "result[k-1]"
   ]
  },
  {
   "cell_type": "code",
   "execution_count": 43,
   "metadata": {},
   "outputs": [
    {
     "name": "stdout",
     "output_type": "stream",
     "text": [
      "[5, 6, 3]\n"
     ]
    }
   ],
   "source": [
    "# 좀더 간소화해서 표현해보기 \n",
    "arr = [1, 5, 2, 6, 3, 7, 4]\n",
    "commands = [[2, 5, 3], [4, 4, 1], [1, 7, 3]]\n",
    "result = []\n",
    "        \n",
    "for i, j, k in commands : \n",
    "    result.append(sorted(arr[i-1:j])[k-1])\n",
    "    \n",
    "print(result)"
   ]
  },
  {
   "cell_type": "code",
   "execution_count": 45,
   "metadata": {},
   "outputs": [
    {
     "data": {
      "text/plain": [
       "[5, 6, 3]"
      ]
     },
     "execution_count": 45,
     "metadata": {},
     "output_type": "execute_result"
    }
   ],
   "source": [
    "def solution(array,commands) : \n",
    "    answer = []\n",
    "    \n",
    "    for i, j, k in commands :\n",
    "        answer.append(sorted(array[i-1:j])[k-1])\n",
    "        \n",
    "    return answer\n",
    "\n",
    "solution([1, 5, 2, 6, 3, 7, 4],[[2, 5, 3], [4, 4, 1], [1, 7, 3]])"
   ]
  },
  {
   "cell_type": "markdown",
   "metadata": {},
   "source": [
    "#### 다른 풀이"
   ]
  },
  {
   "cell_type": "code",
   "execution_count": null,
   "metadata": {},
   "outputs": [],
   "source": [
    "def solution(array, commands):\n",
    "    return list(map(lambda x:sorted(array[x[0]-1:x[1]])[x[2]-1], commands))\n"
   ]
  },
  {
   "cell_type": "code",
   "execution_count": null,
   "metadata": {},
   "outputs": [],
   "source": []
  },
  {
   "cell_type": "code",
   "execution_count": null,
   "metadata": {},
   "outputs": [],
   "source": []
  },
  {
   "cell_type": "markdown",
   "metadata": {},
   "source": [
    "#### 내가 알지 못한 점"
   ]
  },
  {
   "cell_type": "markdown",
   "metadata": {},
   "source": [
    "- 리스트 컴프리헨션 사용 => 파이써닉한 표현을 연습 많이 해야할듯"
   ]
  },
  {
   "cell_type": "code",
   "execution_count": null,
   "metadata": {},
   "outputs": [],
   "source": []
  },
  {
   "cell_type": "code",
   "execution_count": null,
   "metadata": {},
   "outputs": [],
   "source": []
  }
 ],
 "metadata": {
  "kernelspec": {
   "display_name": "Python 3",
   "language": "python",
   "name": "python3"
  },
  "language_info": {
   "codemirror_mode": {
    "name": "ipython",
    "version": 3
   },
   "file_extension": ".py",
   "mimetype": "text/x-python",
   "name": "python",
   "nbconvert_exporter": "python",
   "pygments_lexer": "ipython3",
   "version": "3.8.5"
  }
 },
 "nbformat": 4,
 "nbformat_minor": 4
}
