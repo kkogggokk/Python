{
 "cells": [
  {
   "cell_type": "code",
   "execution_count": 23,
   "metadata": {},
   "outputs": [
    {
     "name": "stdout",
     "output_type": "stream",
     "text": [
      "   0  1  2\n",
      "0  0  0  0\n",
      "1  1  0  0\n",
      "2  0  1  1\n"
     ]
    }
   ],
   "source": [
    "# 완전탐색 \n",
    "# key 와 lock + 해서 모든 값이 1이 되어야 하는 상황 \n",
    "# key - M*M , lock - N*N = > 입력된 값 활용잘 해야할 듯. (내약점 ㅜㅜ)\n",
    "# 회전 & 이동 이 포인트 \n",
    "# 이동에서 쉬프트를 사용하면 편할까? 이동할때 0으로 채워지는 건가? YES \n",
    "\n",
    "# 리스트보다 행렬를 쓰기때문에 판다스를 쓰면 좋을것 같긴한데.. ok \n",
    "# 판다스에서 회전시키는 방법? 피봇? 아닌듯.. --> 배열로 90 도 회전시켜보기 \n",
    "# 판다스에서 이동하는 방법?\n",
    "\n",
    "import pandas as pd \n",
    "\n",
    "key = [\n",
    "    [0, 0, 0], \n",
    "    [1, 0, 0],  \n",
    "    [0, 1, 1] \n",
    "]\n",
    "lock = [\n",
    "    [1, 1, 1], \n",
    "    [1, 1, 0], \n",
    "    [1, 0, 1]\n",
    "] \n",
    "\n",
    "\n",
    "df_key = pd.DataFrame(key)\n",
    "print(df_key)\n",
    "# df_key = df_key.pivot() # 인덱스? 컬럼? 밸류? 값으로 ?? 음.. \n",
    "\n",
    "df_lock = pd.DataFrame(lock)\n",
    "# print(df_lock)\n",
    "\n",
    "# 판다스 =>공부를 더 해야할듯 \n"
   ]
  },
  {
   "cell_type": "code",
   "execution_count": 21,
   "metadata": {},
   "outputs": [
    {
     "name": "stdout",
     "output_type": "stream",
     "text": [
      "[[0, 0, 0], [1, 0, 0], [0, 1, 1]]\n",
      "[[0, 1, 0], [1, 0, 0], [1, 0, 0]]\n"
     ]
    }
   ],
   "source": [
    "# key 와 lock + 해서 모든 값이 1이 되어야 하는 상황 \n",
    "# key M*M , lock : N*N \n",
    "# 이동을 하면 0으로 채워지는 건가? \n",
    "\n",
    "# 배열로 \n",
    "# 입력받은 2차열 배열 M*M <- 키가 움직여야 하니 \n",
    "\n",
    "def rotate_90(m) :\n",
    "    M = len(m) \n",
    "    new_arr = [[0] * M for _ in range(M)] # 새로 만들 배열 선언\n",
    "    \n",
    "    for i in range(M) : \n",
    "        for j in range(M) : \n",
    "            new_arr[j][M-1-i] = m[i][j]\n",
    "    return new_arr\n",
    "            \n",
    "\n",
    "key = [ \n",
    "    [0, 0, 0], \n",
    "    [1, 0, 0], \n",
    "    [0, 1, 1]\n",
    "]\n",
    "\n",
    "print(key)\n",
    "print(rotate_90(key))"
   ]
  },
  {
   "cell_type": "markdown",
   "metadata": {},
   "source": []
  },
  {
   "cell_type": "code",
   "execution_count": null,
   "metadata": {},
   "outputs": [],
   "source": []
  },
  {
   "cell_type": "code",
   "execution_count": null,
   "metadata": {},
   "outputs": [],
   "source": []
  },
  {
   "cell_type": "code",
   "execution_count": null,
   "metadata": {},
   "outputs": [],
   "source": []
  },
  {
   "cell_type": "code",
   "execution_count": null,
   "metadata": {},
   "outputs": [],
   "source": []
  },
  {
   "cell_type": "code",
   "execution_count": null,
   "metadata": {},
   "outputs": [],
   "source": []
  },
  {
   "cell_type": "code",
   "execution_count": null,
   "metadata": {},
   "outputs": [],
   "source": []
  },
  {
   "cell_type": "code",
   "execution_count": null,
   "metadata": {},
   "outputs": [],
   "source": []
  },
  {
   "cell_type": "code",
   "execution_count": null,
   "metadata": {},
   "outputs": [],
   "source": []
  },
  {
   "cell_type": "code",
   "execution_count": null,
   "metadata": {},
   "outputs": [],
   "source": []
  },
  {
   "cell_type": "code",
   "execution_count": null,
   "metadata": {},
   "outputs": [],
   "source": []
  }
 ],
 "metadata": {
  "kernelspec": {
   "display_name": "Python 3",
   "language": "python",
   "name": "python3"
  },
  "language_info": {
   "codemirror_mode": {
    "name": "ipython",
    "version": 3
   },
   "file_extension": ".py",
   "mimetype": "text/x-python",
   "name": "python",
   "nbconvert_exporter": "python",
   "pygments_lexer": "ipython3",
   "version": "3.8.5"
  }
 },
 "nbformat": 4,
 "nbformat_minor": 4
}
