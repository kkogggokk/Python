{
 "cells": [
  {
   "cell_type": "markdown",
   "metadata": {},
   "source": [
    "# 자연수 뒤집어 배열로 만들기 \n",
    "- 문제 설명     \n",
    "자연수 n을 뒤집어 각 자리 숫자를 원소로 가지는 배열 형태로 리턴해주세요. 예를들어 n이 12345이면 [5,4,3,2,1]을 리턴합니다.\n",
    "\n",
    "\n",
    "\n",
    "- 제한 조건     \n",
    "n은 10,000,000,000이하인 자연수입니다.\n",
    "\n",
    "\n",
    "- URL : https://programmers.co.kr/learn/courses/30/lessons/12932"
   ]
  },
  {
   "cell_type": "markdown",
   "metadata": {},
   "source": [
    "### 풀이 및 과정"
   ]
  },
  {
   "cell_type": "markdown",
   "metadata": {},
   "source": [
    "#### 2021.01.28 (+4)\n",
    "1. 자연수를 배열 처리 먼저하기 \n",
    "    - 이때 int값은 문자열이 아니기때문에 str처리를 하게됨 \n",
    "    - 결과도 int값으로 나와야 하는건지? YES \n",
    "2. 뒤집기 "
   ]
  },
  {
   "cell_type": "code",
   "execution_count": 6,
   "metadata": {},
   "outputs": [
    {
     "name": "stdout",
     "output_type": "stream",
     "text": [
      "['5', '4', '3', '2', '1']\n"
     ]
    }
   ],
   "source": [
    "n = 12345 \n",
    "\n",
    "lst = list(str(n))\n",
    "lst.reverse()\n",
    "print(lst)"
   ]
  },
  {
   "cell_type": "code",
   "execution_count": 22,
   "metadata": {},
   "outputs": [
    {
     "name": "stdout",
     "output_type": "stream",
     "text": [
      "[1, 2, 3, 4, 5]\n",
      "[5, 4, 3, 2, 1]\n"
     ]
    }
   ],
   "source": [
    "# 위에 코드는 문자열로 들어가는 것이니.. 아예 들어갈때 인트값으로 들어가서 정렬하는게 낫겠네\n",
    "\n",
    "n = 12345 \n",
    "\n",
    "lst = list(map(int,str(n)))\n",
    "print(lst)\n",
    "lst.reverse()\n",
    "print(lst)"
   ]
  },
  {
   "cell_type": "code",
   "execution_count": 23,
   "metadata": {},
   "outputs": [
    {
     "data": {
      "text/plain": [
       "[5, 4, 3, 2, 1]"
      ]
     },
     "execution_count": 23,
     "metadata": {},
     "output_type": "execute_result"
    }
   ],
   "source": [
    "def solution(n) :\n",
    "    answer = list(map(int,str(n)))\n",
    "    answer.reverse()\n",
    "    return answer\n",
    "\n",
    "solution(12345)"
   ]
  },
  {
   "cell_type": "code",
   "execution_count": 27,
   "metadata": {},
   "outputs": [
    {
     "data": {
      "text/plain": [
       "[5, 4, 3, 2, 1]"
      ]
     },
     "execution_count": 27,
     "metadata": {},
     "output_type": "execute_result"
    }
   ],
   "source": [
    "#reversed 사용해서 풀어보기. \n",
    "# 애초에 들어갈 때  reversed(값) 해서\n",
    "def solution(n) :\n",
    "    return list(map(int,reversed(str(n))))\n",
    "\n",
    "solution(12345)"
   ]
  },
  {
   "cell_type": "markdown",
   "metadata": {},
   "source": [
    "#### 다른풀이"
   ]
  },
  {
   "cell_type": "code",
   "execution_count": 25,
   "metadata": {},
   "outputs": [
    {
     "name": "stdout",
     "output_type": "stream",
     "text": [
      "결과 : [5, 4, 3, 2, 1]\n"
     ]
    }
   ],
   "source": [
    "def digit_reverse(n):\n",
    "    return list(map(int, reversed(str(n))))\n",
    "\n",
    "print(\"결과 : {}\".format(digit_reverse(12345)));"
   ]
  },
  {
   "cell_type": "code",
   "execution_count": 24,
   "metadata": {},
   "outputs": [
    {
     "name": "stdout",
     "output_type": "stream",
     "text": [
      "결과 : [5, 4, 3, 2, 1]\n"
     ]
    }
   ],
   "source": [
    "def digit_reverse(n):\n",
    "    return [int(i) for i in str(n)][::-1]\n",
    "\n",
    "# 아래는 테스트로 출력해 보기 위한 코드입니다.\n",
    "print(\"결과 : {}\".format(digit_reverse(12345)));"
   ]
  },
  {
   "cell_type": "code",
   "execution_count": null,
   "metadata": {},
   "outputs": [],
   "source": []
  },
  {
   "cell_type": "markdown",
   "metadata": {},
   "source": [
    "#### 내가 알지 못한 점"
   ]
  },
  {
   "cell_type": "markdown",
   "metadata": {},
   "source": [
    "- reverse랑 reversed 차이를 좀 더 구분해야할 것 "
   ]
  },
  {
   "cell_type": "code",
   "execution_count": null,
   "metadata": {},
   "outputs": [],
   "source": []
  }
 ],
 "metadata": {
  "kernelspec": {
   "display_name": "Python 3",
   "language": "python",
   "name": "python3"
  },
  "language_info": {
   "codemirror_mode": {
    "name": "ipython",
    "version": 3
   },
   "file_extension": ".py",
   "mimetype": "text/x-python",
   "name": "python",
   "nbconvert_exporter": "python",
   "pygments_lexer": "ipython3",
   "version": "3.8.5"
  }
 },
 "nbformat": 4,
 "nbformat_minor": 4
}
