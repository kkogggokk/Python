{
 "cells": [
  {
   "cell_type": "markdown",
   "metadata": {},
   "source": [
    "# 비밀지도 \n",
    "- 문제 설명         \n",
    "비밀지도\n",
    "네오는 평소 프로도가 비상금을 숨겨놓는 장소를 알려줄 비밀지도를 손에 넣었다. 그런데 이 비밀지도는 숫자로 암호화되어 있어 위치를 확인하기 위해서는 암호를 해독해야 한다. 다행히 지도 암호를 해독할 방법을 적어놓은 메모도 함께 발견했다.\n",
    "\n",
    "지도는 한 변의 길이가 n인 정사각형 배열 형태로, 각 칸은 공백(\" ) 또는벽(#\") 두 종류로 이루어져 있다.\n",
    "전체 지도는 두 장의 지도를 겹쳐서 얻을 수 있다. 각각 지도 1과 지도 2라고 하자. 지도 1 또는 지도 2 중 어느 하나라도 벽인 부분은 전체 지도에서도 벽이다. 지도 1과 지도 2에서 모두 공백인 부분은 전체 지도에서도 공백이다.\n",
    "지도 1과 지도 2는 각각 정수 배열로 암호화되어 있다.\n",
    "암호화된 배열은 지도의 각 가로줄에서 벽 부분을 1, 공백 부분을 0으로 부호화했을 때 얻어지는 이진수에 해당하는 값의 배열이다.\n",
    "\n",
    "네오가 프로도의 비상금을 손에 넣을 수 있도록, 비밀지도의 암호를 해독하는 작업을 도와줄 프로그램을 작성하라.\n",
    "\n",
    "\n",
    "- 입력 형식        \n",
    "입력으로 지도의 한 변 크기 n 과 2개의 정수 배열 arr1, arr2가 들어온다.\n",
    "\n",
    "1 ≦ n ≦ 16\n",
    "arr1, arr2는 길이 n인 정수 배열로 주어진다.\n",
    "정수 배열의 각 원소 x를 이진수로 변환했을 때의 길이는 n 이하이다. 즉, 0 ≦ x ≦ 2n - 1을 만족한다.\n",
    "\n",
    "\n",
    "- 출력 형식     \n",
    "원래의 비밀지도를 해독하여 '#', 공백으로 구성된 문자열 배열로 출력하라.\n",
    "\n",
    "\n",
    "- URL : https://programmers.co.kr/learn/courses/30/lessons/17681"
   ]
  },
  {
   "cell_type": "markdown",
   "metadata": {},
   "source": [
    "#### 풀이 및 과정"
   ]
  },
  {
   "cell_type": "markdown",
   "metadata": {},
   "source": [
    "#### 2021.01.28\n",
    "1. 배열에 입력된 값 2진수로 변환 : bin(n) \n",
    "    - 한변의 길이가 n이므로 n 만큼 자리값 지정할 수 있나? 비트 연산자 할때 자리값 ? 상관없으려나? YES \n",
    "    - 공백과 벽 구분하기 위한 연산 : OR (|)"
   ]
  },
  {
   "cell_type": "code",
   "execution_count": 19,
   "metadata": {},
   "outputs": [
    {
     "name": "stdout",
     "output_type": "stream",
     "text": [
      "0b1001 0b11110\n",
      "OR 연산 : 0b11111\n",
      "0b11100 0b10101\n",
      "OR 연산 : 0b11101\n"
     ]
    }
   ],
   "source": [
    "# 2진수 변환 및 비트연산 \n",
    "print(bin(9),bin(30))\n",
    "\n",
    "print(\"OR 연산 :\",bin(0b1001 | 0b11110))\n",
    "\n",
    "print(bin(28), bin(21)) \n",
    "print('OR 연산 :', bin(0b11100|0b10101)) # str값 비트 연산 안됨 "
   ]
  },
  {
   "cell_type": "code",
   "execution_count": 40,
   "metadata": {},
   "outputs": [
    {
     "name": "stdout",
     "output_type": "stream",
     "text": [
      "['0b11110', '0b1', '0b10101', '0b10001', '0b11100']\n"
     ]
    }
   ],
   "source": [
    "# 배열에 있는 각원소 2진수로 변환하기 \n",
    "\n",
    "arr1 = [9, 20, 28, 18, 11]\n",
    "arr2 = [30, 1, 21, 17, 28]\n",
    "\n",
    "lst = list()\n",
    "\n",
    "for i in arr2 : \n",
    "#     print(bin(i))\n",
    "    lst.append(bin(i)) #이렇게 하면 스트링값으로 넘어감, 인트값(?)으로 넘어가려면? \n",
    "    \n",
    "print(lst)\n",
    "\n",
    "# 변환은 했는데.. 스트링값말고 바이너리 형태로 바꾸려면?  \n"
   ]
  },
  {
   "cell_type": "code",
   "execution_count": 61,
   "metadata": {},
   "outputs": [
    {
     "name": "stdout",
     "output_type": "stream",
     "text": [
      "0b11111\n",
      "0b10101\n",
      "0b11101\n",
      "0b10011\n",
      "0b11111\n",
      "['0b11111', '0b10101', '0b11101', '0b10011', '0b11111']\n"
     ]
    }
   ],
   "source": [
    "arr1 = [0b1001, 0b10100, 0b11100, 0b10010, 0b1011]\n",
    "arr2 = [0b11110, 0b1, 0b10101, 0b10001, 0b11100]\n",
    "lst = list()\n",
    "\n",
    "# 비트 연산자 OR 진행해야함..  i 인덱스 값별로 비트 or 연산자 못하나? \n",
    "for i in range(5) : \n",
    "#     print(bin(arr1[i]), bin(arr2[i]))\n",
    "    print(bin(arr1[i] | arr2[i]))\n",
    "    lst.append(bin(arr1[i] | arr2[i]))\n",
    "    \n",
    "    \n",
    "a1 = 0b1001\n",
    "b1 = 0b11110\n",
    "# print(bin(a1|b1))\n",
    "print(lst)"
   ]
  },
  {
   "cell_type": "code",
   "execution_count": 76,
   "metadata": {},
   "outputs": [
    {
     "name": "stdout",
     "output_type": "stream",
     "text": [
      "[(9, 30), (20, 1), (28, 21), (18, 17), (11, 28)]\n",
      "#####\n",
      "# # #\n",
      "### #\n",
      "#  ##\n",
      "#####\n",
      "['#####', '# # #', '### #', '#  ##', '#####']\n"
     ]
    }
   ],
   "source": [
    "arr1 = [0b1001, 0b10100, 0b11100, 0b10010, 0b1011]\n",
    "arr2 = [0b11110, 0b1, 0b10101, 0b10001, 0b11100]\n",
    "# lst = ['0b11111', '0b10101', '0b11101', '0b10011', '0b11111']\n",
    "\n",
    "lst = list(zip(arr1,arr2))\n",
    "print(lst)\n",
    "\n",
    "# 여기서 각 요소별로 or 비트 연산자 가능한가?\n",
    "answer = []\n",
    "\n",
    "for a1, a2 in zip(arr1,arr2) : \n",
    "#     print(bin(a1|a2)) \n",
    "    # 근데.. 앞에 0b는 빼야하는데.. \n",
    "    bin_result = bin(a1|a2)[2:]\n",
    "    \n",
    "    #그럼 여기서 1 -> '#', 0 -> ' ' 처리는 어떻게? replace \n",
    "    # 리플레이스 해서 리스트에 넣어두자. 이거 처리가 관건인거 같은데.. ㅜㅜ \n",
    "    bin_result = bin_result.replace('1','#')\n",
    "    bin_result = bin_result.replace('0',' ')\n",
    "    print(bin_result)\n",
    "    answer.append(bin_result)\n",
    "    \n",
    "\n",
    "print(answer)\n",
    "    \n",
    "    "
   ]
  },
  {
   "cell_type": "code",
   "execution_count": 83,
   "metadata": {},
   "outputs": [
    {
     "data": {
      "text/plain": [
       "['######', '###  #', '##  ##', ' #### ', ' #####', '### # ']"
      ]
     },
     "execution_count": 83,
     "metadata": {},
     "output_type": "execute_result"
    }
   ],
   "source": [
    " #  근데 n을 활용을 안하네.. \n",
    "def solution(n, arr1, arr2) : \n",
    "    answer = []\n",
    "    \n",
    "    for a1, a2 in zip(arr1, arr2) : \n",
    "        bin_result = bin(a1|a2)[2:]\n",
    "        bin_result = bin_result.replace('1','#')\n",
    "        bin_result = bin_result.replace('0',' ')\n",
    "        answer.append(bin_result)\n",
    "    \n",
    "    return answer \n",
    "\n",
    "# n = 5\n",
    "# arr1 = [9, 20, 28, 18, 11]\n",
    "# arr2 = [30, 1, 21, 17, 28]\n",
    "n = 6 \n",
    "arr1 = [46, 33, 33 ,22, 31, 50]\n",
    "arr2 = \t[27 ,56, 19, 14, 14, 10]\n",
    "solution(n, arr1, arr2)\n",
    "# 오류가 있네.. 흠 . 우선 PASS \n",
    "[\"######\", \"###  #\", \"##  ##\", \" #### \", \" #####\", \"### # \"]"
   ]
  },
  {
   "cell_type": "markdown",
   "metadata": {},
   "source": [
    "=======================time out pass"
   ]
  },
  {
   "cell_type": "markdown",
   "metadata": {},
   "source": [
    "#### 다른 풀이 "
   ]
  },
  {
   "cell_type": "code",
   "execution_count": 81,
   "metadata": {},
   "outputs": [
    {
     "data": {
      "text/plain": [
       "['######', '###  #', '##  ##', ' #### ', ' #####', '### # ']"
      ]
     },
     "execution_count": 81,
     "metadata": {},
     "output_type": "execute_result"
    }
   ],
   "source": [
    "def solution(n, arr1, arr2):\n",
    "    ans = []\n",
    "    for i in range(n):\n",
    "        bin_str = bin(arr1[i] | arr2[i])[2:]\n",
    "        ans.append((\"0\" *(n - len(bin_str)) + bin_str).replace(\"1\", \"#\").replace(\"0\", \" \"))\n",
    "    return ans\n",
    "\n",
    "n = 6 \n",
    "arr1 = [46, 33, 33 ,22, 31, 50]\n",
    "arr2 = \t[27 ,56, 19, 14, 14, 10]\n",
    "solution(n, arr1, arr2)"
   ]
  },
  {
   "cell_type": "code",
   "execution_count": null,
   "metadata": {},
   "outputs": [],
   "source": []
  },
  {
   "cell_type": "code",
   "execution_count": null,
   "metadata": {},
   "outputs": [],
   "source": []
  },
  {
   "cell_type": "markdown",
   "metadata": {},
   "source": [
    "#### 내가 생각하지 못한 점 "
   ]
  },
  {
   "cell_type": "markdown",
   "metadata": {},
   "source": [
    "- Pythonic 한 코드 연습하기. \n",
    "- 주어진 변수 잘 활용하고 있는지 체크하기"
   ]
  },
  {
   "cell_type": "code",
   "execution_count": null,
   "metadata": {},
   "outputs": [],
   "source": []
  },
  {
   "cell_type": "code",
   "execution_count": null,
   "metadata": {},
   "outputs": [],
   "source": []
  },
  {
   "cell_type": "code",
   "execution_count": null,
   "metadata": {},
   "outputs": [],
   "source": []
  }
 ],
 "metadata": {
  "kernelspec": {
   "display_name": "Python 3",
   "language": "python",
   "name": "python3"
  },
  "language_info": {
   "codemirror_mode": {
    "name": "ipython",
    "version": 3
   },
   "file_extension": ".py",
   "mimetype": "text/x-python",
   "name": "python",
   "nbconvert_exporter": "python",
   "pygments_lexer": "ipython3",
   "version": "3.8.5"
  }
 },
 "nbformat": 4,
 "nbformat_minor": 4
}
