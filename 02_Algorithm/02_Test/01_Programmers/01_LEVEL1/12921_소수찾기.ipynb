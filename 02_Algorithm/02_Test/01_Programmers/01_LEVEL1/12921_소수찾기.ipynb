{
 "cells": [
  {
   "cell_type": "markdown",
   "metadata": {},
   "source": [
    "# 소수찾기\n",
    "- 문제 설명            \n",
    "1부터 입력받은 숫자 n 사이에 있는 소수의 개수를 반환하는 함수, solution을 만들어 보세요. 소수는 1과 자기 자신으로만 나누어지는 수를 의미합니다.(1은 소수가 아닙니다.)\n",
    "\n",
    "\n",
    "- 제한 조건       \n",
    "n은 2이상 1000000이하의 자연수입니다.\n",
    "\n",
    "- URL : https://programmers.co.kr/learn/courses/30/lessons/12921"
   ]
  },
  {
   "cell_type": "markdown",
   "metadata": {},
   "source": [
    "#### 과정 및 풀이"
   ]
  },
  {
   "cell_type": "markdown",
   "metadata": {},
   "source": [
    "#### 2021.01.28\n",
    "- 소수를 먼저 구해보자. \n",
    "    - 1과 자기 자신으로만 나누어지는 수 (1은 소수가아님) \n",
    "    - 방법1 : 2부터 나눠서 나머지가 0이 안나오면 소수 - 시간복잡도O(N) \n",
    "    - 방법2 : 해당숫자의 절반까지만 확인 "
   ]
  },
  {
   "cell_type": "code",
   "execution_count": 24,
   "metadata": {},
   "outputs": [
    {
     "name": "stdout",
     "output_type": "stream",
     "text": [
      "4\n",
      "3\n"
     ]
    }
   ],
   "source": [
    "def solution(n) :\n",
    "    num_set = set(range(2,n+1))\n",
    "    for i in range(2,n+1) :\n",
    "        if i in num_set :\n",
    "            num_set -= set(range(2*i,n+1,i))\n",
    "    return len(num_set)\n",
    "\n",
    "print(solution(10))\n",
    "print(solution(5))"
   ]
  },
  {
   "cell_type": "code",
   "execution_count": null,
   "metadata": {},
   "outputs": [],
   "source": []
  },
  {
   "cell_type": "markdown",
   "metadata": {},
   "source": [
    "#### 다른풀이"
   ]
  },
  {
   "cell_type": "code",
   "execution_count": 10,
   "metadata": {},
   "outputs": [
    {
     "name": "stdout",
     "output_type": "stream",
     "text": [
      "4\n",
      "3\n"
     ]
    }
   ],
   "source": [
    "# 에라토스테네스 체 \n",
    "def solution(n) :\n",
    "    a = [False, False] + [True] *(n-1)\n",
    "    primes = []\n",
    "    \n",
    "    for i in range(2,n+1) :\n",
    "        if a[i] :\n",
    "            primes.append(i)\n",
    "            for j in range(2*i, n+1, i) : \n",
    "                a[j] = False\n",
    "    return len(primes)\n",
    "                \n",
    "print(solution(10))\n",
    "print(solution(5))"
   ]
  },
  {
   "cell_type": "code",
   "execution_count": 12,
   "metadata": {},
   "outputs": [
    {
     "name": "stdout",
     "output_type": "stream",
     "text": [
      "4\n",
      "3\n"
     ]
    }
   ],
   "source": [
    "# 에라토스테네스체 응용 \n",
    "def solution(n) :\n",
    "    num = set(range(2,n+1)) #미리 셋으로 n까지 범위 정해놓기\n",
    "    \n",
    "    for i in range(2,n+1) : \n",
    "        if i in num :\n",
    "            num -= set(range(2*i, n+1, i)) # 소수가 아닌부분 제외하기 \n",
    "    return len(num)\n",
    "\n",
    "print(solution(10))\n",
    "print(solution(5))"
   ]
  },
  {
   "cell_type": "markdown",
   "metadata": {},
   "source": [
    "#### 느낀점"
   ]
  },
  {
   "cell_type": "markdown",
   "metadata": {},
   "source": [
    "- 에라토스테네스 체 : 범위에서 합성수를 지우는 방식으로 소수 찾는 방법\n",
    "    - 1은 제거, \n",
    "    - 2를 소수로 채택, 나머지 2의 배수 모두 지우기 \n",
    "    - 3을 소수로 채택, 나머지 3의 배수 모두 지우기 \n",
    "    - 5를 소수로 채택, 나머지 5의 배수 모두 지우기 \n",
    "    - 반복 "
   ]
  },
  {
   "cell_type": "markdown",
   "metadata": {},
   "source": [
    "- 시간복잡도도 생각해봐야함\n",
    "- 완전탐색"
   ]
  },
  {
   "cell_type": "code",
   "execution_count": null,
   "metadata": {},
   "outputs": [],
   "source": []
  }
 ],
 "metadata": {
  "kernelspec": {
   "display_name": "Python 3",
   "language": "python",
   "name": "python3"
  },
  "language_info": {
   "codemirror_mode": {
    "name": "ipython",
    "version": 3
   },
   "file_extension": ".py",
   "mimetype": "text/x-python",
   "name": "python",
   "nbconvert_exporter": "python",
   "pygments_lexer": "ipython3",
   "version": "3.8.5"
  }
 },
 "nbformat": 4,
 "nbformat_minor": 4
}
