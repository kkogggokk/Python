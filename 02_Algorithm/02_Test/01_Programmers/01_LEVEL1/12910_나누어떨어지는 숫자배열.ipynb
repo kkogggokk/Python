{
 "cells": [
  {
   "cell_type": "markdown",
   "metadata": {},
   "source": [
    "# 나누어 떨어지는 숫자 배열 \n",
    "- 문제 설명      \n",
    "array의 각 element 중 divisor로 나누어 떨어지는 값을 오름차순으로 정렬한 배열을 반환하는 함수, solution을 작성해주세요.\n",
    "divisor로 나누어 떨어지는 element가 하나도 없다면 배열에 -1을 담아 반환하세요.\n",
    "\n",
    "\n",
    "\n",
    "- 제한사항    \n",
    "arr은 자연수를 담은 배열입니다.\n",
    "정수 i, j에 대해 i ≠ j 이면 arr[i] ≠ arr[j] 입니다.\n",
    "divisor는 자연수입니다.\n",
    "array는 길이 1 이상인 배열입니다.\n",
    "\n",
    "\n",
    "- URL : https://programmers.co.kr/learn/courses/30/lessons/12910"
   ]
  },
  {
   "cell_type": "markdown",
   "metadata": {},
   "source": [
    "#### 풀이 및 과정"
   ]
  },
  {
   "cell_type": "markdown",
   "metadata": {},
   "source": [
    "#### 2021.01.28 (+2)\n",
    "1. for 구문을 통해서 하나씩 확인 \n",
    "2. if 조건 :     \n",
    "arr[i] % divisior == 0 -> append해서 추가 --> 오름차순 정렬   \n",
    "else : 안 나눠지면 continue \n",
    "3. 만약 빈 리스트이면 -1 추가 "
   ]
  },
  {
   "cell_type": "code",
   "execution_count": 12,
   "metadata": {},
   "outputs": [
    {
     "name": "stdout",
     "output_type": "stream",
     "text": [
      "5 9 7 10 [5]\n",
      "[5, 10]\n",
      "[5, 10]\n",
      "[5, 10]\n"
     ]
    }
   ],
   "source": [
    "arr = [5, 9, 7, 10]\n",
    "\n",
    "# for i, value in enumerate(arr) : \n",
    "#     print(i, value)\n",
    "    \n",
    "for i in arr : \n",
    "    print(i, end=' ')\n",
    "    \n",
    "divisior = 5 \n",
    "lst = []\n",
    "\n",
    "for value in arr : \n",
    "    if value % divisior == 0 :\n",
    "        lst.append(value)\n",
    "        print(lst)\n",
    "\n",
    "print(lst)\n",
    "lst.sort()\n",
    "print(lst)"
   ]
  },
  {
   "cell_type": "code",
   "execution_count": 29,
   "metadata": {},
   "outputs": [
    {
     "data": {
      "text/plain": [
       "[-1]"
      ]
     },
     "execution_count": 29,
     "metadata": {},
     "output_type": "execute_result"
    }
   ],
   "source": [
    "def solution(arr, divisior) :\n",
    "    lst = []\n",
    "    \n",
    "    for value in arr :\n",
    "        if value % divisior == 0 :\n",
    "            lst.append(value)\n",
    "            lst.sort()\n",
    "    \n",
    "    if lst == [] :\n",
    "        lst = [-1]\n",
    "\n",
    "    return lst\n",
    "\n",
    "arr = [3,2,6]\n",
    "solution(arr,10)"
   ]
  },
  {
   "cell_type": "code",
   "execution_count": null,
   "metadata": {},
   "outputs": [],
   "source": []
  },
  {
   "cell_type": "code",
   "execution_count": null,
   "metadata": {},
   "outputs": [],
   "source": []
  },
  {
   "cell_type": "markdown",
   "metadata": {},
   "source": [
    "#### 다른 풀이"
   ]
  },
  {
   "cell_type": "code",
   "execution_count": 30,
   "metadata": {},
   "outputs": [],
   "source": [
    "def solution(arr, divisor):\n",
    "    arr = [x for x in arr if x % divisor == 0];\n",
    "    arr.sort();\n",
    "    return arr if len(arr) != 0 else [-1];"
   ]
  },
  {
   "cell_type": "code",
   "execution_count": 31,
   "metadata": {},
   "outputs": [],
   "source": [
    "def solution(arr, divisor):\n",
    "    return sorted([n for n in arr if n%divisor == 0]) or [-1]\n"
   ]
  },
  {
   "cell_type": "markdown",
   "metadata": {},
   "source": [
    "#### 내가 생각하지 못한 점"
   ]
  },
  {
   "cell_type": "markdown",
   "metadata": {},
   "source": [
    "- 람다 표현식이 아직 익숙치 않은듯 , 다음번에 풀때는 람다를 활용해서 풀어봐야겠다."
   ]
  },
  {
   "cell_type": "code",
   "execution_count": null,
   "metadata": {},
   "outputs": [],
   "source": []
  }
 ],
 "metadata": {
  "kernelspec": {
   "display_name": "Python 3",
   "language": "python",
   "name": "python3"
  },
  "language_info": {
   "codemirror_mode": {
    "name": "ipython",
    "version": 3
   },
   "file_extension": ".py",
   "mimetype": "text/x-python",
   "name": "python",
   "nbconvert_exporter": "python",
   "pygments_lexer": "ipython3",
   "version": "3.8.5"
  }
 },
 "nbformat": 4,
 "nbformat_minor": 4
}
