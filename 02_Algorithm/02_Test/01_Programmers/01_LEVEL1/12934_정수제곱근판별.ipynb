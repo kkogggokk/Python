{
 "cells": [
  {
   "cell_type": "markdown",
   "metadata": {},
   "source": [
    "# 정수 제곱근 판별 \n",
    "- 문제 설명      \n",
    "임의의 양의 정수 n에 대해, n이 어떤 양의 정수 x의 제곱인지 아닌지 판단하려 합니다.\n",
    "n이 양의 정수 x의 제곱이라면 x+1의 제곱을 리턴하고, n이 양의 정수 x의 제곱이 아니라면 -1을 리턴하는 함수를 완성하세요.\n",
    "\n",
    "\n",
    "\n",
    "- 제한 사항          \n",
    "n은 1이상, 50000000000000 이하인 양의 정수입니다."
   ]
  },
  {
   "cell_type": "markdown",
   "metadata": {},
   "source": [
    "#### 희진 풀이 및 과정"
   ]
  },
  {
   "cell_type": "markdown",
   "metadata": {},
   "source": [
    "* 2021.01.27 (+8)\n",
    "1. pow(n,1/2)하기\n",
    "2. 정수 인지 확인 \n",
    "3. 정수면 n+1 의 제곱 리턴\n",
    "4. 정수가 아니면 -1 리턴 "
   ]
  },
  {
   "cell_type": "code",
   "execution_count": 23,
   "metadata": {},
   "outputs": [
    {
     "name": "stdout",
     "output_type": "stream",
     "text": [
      "11.0\n",
      "True\n",
      "<class 'float'>\n",
      "<class 'int'>\n",
      "1.7320508075688772\n",
      "False\n"
     ]
    }
   ],
   "source": [
    "n = 121 \n",
    "result = pow(n,1/2)\n",
    "print(result)\n",
    "print(int(result) == result)\n",
    "print(type(result))\n",
    "print(type(int(result)))\n",
    "\n",
    "result = pow(3,1/2)\n",
    "print(result)\n",
    "print(int(result) == result)\n"
   ]
  },
  {
   "cell_type": "code",
   "execution_count": 29,
   "metadata": {},
   "outputs": [
    {
     "name": "stdout",
     "output_type": "stream",
     "text": [
      "121\n"
     ]
    },
    {
     "data": {
      "text/plain": [
       "144.0"
      ]
     },
     "execution_count": 29,
     "metadata": {},
     "output_type": "execute_result"
    }
   ],
   "source": [
    "def solution(n) :\n",
    "    result = pow(n,1/2)\n",
    "    if int(result) == result :\n",
    "        return pow((result+1), 2) \n",
    "    else :\n",
    "        return -1\n",
    "\n",
    "n = int(input())\n",
    "solution(n)"
   ]
  },
  {
   "cell_type": "markdown",
   "metadata": {},
   "source": [
    "#### 다른 풀이 및 과정 "
   ]
  },
  {
   "cell_type": "code",
   "execution_count": null,
   "metadata": {},
   "outputs": [],
   "source": [
    "def nextSqure(n):\n",
    "    sqrt = n ** (1/2)\n",
    "\n",
    "    if sqrt % 1 == 0:\n",
    "        return (sqrt + 1) ** 2\n",
    "    return 'no'"
   ]
  },
  {
   "cell_type": "code",
   "execution_count": null,
   "metadata": {},
   "outputs": [],
   "source": []
  },
  {
   "cell_type": "markdown",
   "metadata": {},
   "source": [
    "#### 내가 생각하지 못한 점 "
   ]
  },
  {
   "cell_type": "markdown",
   "metadata": {},
   "source": [
    "- sqrt가 뭐지? \n",
    "- sqrt 참고 : https://jsitclub.tistory.com/66\n",
    "- 1로 나눴을때 == 0 이면 정수지.. 오 이방법도 좋네"
   ]
  },
  {
   "cell_type": "code",
   "execution_count": null,
   "metadata": {},
   "outputs": [],
   "source": []
  },
  {
   "cell_type": "code",
   "execution_count": null,
   "metadata": {},
   "outputs": [],
   "source": []
  },
  {
   "cell_type": "code",
   "execution_count": null,
   "metadata": {},
   "outputs": [],
   "source": []
  },
  {
   "cell_type": "code",
   "execution_count": null,
   "metadata": {},
   "outputs": [],
   "source": []
  },
  {
   "cell_type": "code",
   "execution_count": null,
   "metadata": {},
   "outputs": [],
   "source": []
  },
  {
   "cell_type": "code",
   "execution_count": null,
   "metadata": {},
   "outputs": [],
   "source": []
  },
  {
   "cell_type": "code",
   "execution_count": null,
   "metadata": {},
   "outputs": [],
   "source": []
  },
  {
   "cell_type": "code",
   "execution_count": null,
   "metadata": {},
   "outputs": [],
   "source": []
  },
  {
   "cell_type": "code",
   "execution_count": null,
   "metadata": {},
   "outputs": [],
   "source": []
  },
  {
   "cell_type": "code",
   "execution_count": null,
   "metadata": {},
   "outputs": [],
   "source": []
  }
 ],
 "metadata": {
  "kernelspec": {
   "display_name": "Python 3",
   "language": "python",
   "name": "python3"
  },
  "language_info": {
   "codemirror_mode": {
    "name": "ipython",
    "version": 3
   },
   "file_extension": ".py",
   "mimetype": "text/x-python",
   "name": "python",
   "nbconvert_exporter": "python",
   "pygments_lexer": "ipython3",
   "version": "3.8.5"
  }
 },
 "nbformat": 4,
 "nbformat_minor": 4
}
