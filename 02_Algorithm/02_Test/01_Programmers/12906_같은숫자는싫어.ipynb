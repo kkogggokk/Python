{
 "cells": [
  {
   "cell_type": "markdown",
   "metadata": {},
   "source": [
    "# 같은 숫자는 싫어 \n",
    "배열 arr가 주어집니다. 배열 arr의 각 원소는 숫자 0부터 9까지로 이루어져 있습니다.       \n",
    "이때, 배열 arr에서 연속적으로 나타나는 숫자는 하나만 남기고 전부 제거하려고 합니다.       \n",
    "단, 제거된 후 남은 수들을 반환할 때는 배열 arr의 원소들의 순서를 유지해야 합니다. 예를 들면,      \n",
    "   \n",
    "arr = [1, 1, 3, 3, 0, 1, 1] 이면 [1, 3, 0, 1] 을 return 합니다.     \n",
    "arr = [4, 4, 4, 3, 3] 이면 [4, 3] 을 return 합니다.       \n",
    "배열 arr에서 연속적으로 나타나는 숫자는 제거하고 남은 수들을 return 하는 solution 함수를 완성해 주세요.       \n",
    "\n",
    "제한사항      \n",
    "배열 arr의 크기 : 1,000,000 이하의 자연수      \n",
    "배열 arr의 원소의 크기 : 0보다 크거나 같고 9보다 작거나 같은 정수\n",
    "\n",
    "\n",
    "- URL : https://programmers.co.kr/learn/courses/30/lessons/12906"
   ]
  },
  {
   "cell_type": "markdown",
   "metadata": {},
   "source": [
    "#### 희진 풀이 및 과정"
   ]
  },
  {
   "cell_type": "markdown",
   "metadata": {},
   "source": [
    "#### 2020.01.26 (화)\n",
    "- 연속적으로 나타나는 값 비교 \n",
    "    - for in 구문 통해서 값 비교 \n",
    "    - i, i+1 를 통해서 연속적인 값 비교 \n",
    "- 다른 값이면 append하여 추가. \n",
    "- 새로 담을 배열도 필요 "
   ]
  },
  {
   "cell_type": "code",
   "execution_count": 77,
   "metadata": {},
   "outputs": [
    {
     "name": "stdout",
     "output_type": "stream",
     "text": [
      "[1, 3, 0]\n",
      "[4]\n"
     ]
    }
   ],
   "source": [
    "def solution(arr) :\n",
    "    answer = []\n",
    "    for i in range(len(arr)-1) : # 범위 error\n",
    "        if arr[i] != arr[i+1] : # error : 범위가 끝까지 못함. \n",
    "            answer.append(arr[i]) \n",
    "    return answer \n",
    "\n",
    "arr1 = [1, 1, 3, 3, 0, 1, 1] \n",
    "print(solution(arr1))\n",
    "arr2 = [4,4,4,3,3]\n",
    "print(solution(arr2))"
   ]
  },
  {
   "cell_type": "code",
   "execution_count": 69,
   "metadata": {},
   "outputs": [],
   "source": [
    "# 다시 풀기 \n",
    "def solution(arr) :\n",
    "    answer = []\n",
    "    for i in range(len(arr)-1) :  \n",
    "        if arr[i] == arr[i+1] : \n",
    "            continue\n",
    "        answer.append(arr[i])\n",
    "\n",
    "\n",
    "\n",
    "arr1 = [1, 1, 3, 3, 0, 1, 1] \n",
    "solution(arr1)\n",
    "arr2 = [4,4,4,3,3]\n",
    "solution(arr2)"
   ]
  },
  {
   "cell_type": "markdown",
   "metadata": {},
   "source": [
    "#### 다른 풀이 및 답안"
   ]
  },
  {
   "cell_type": "code",
   "execution_count": null,
   "metadata": {},
   "outputs": [],
   "source": []
  },
  {
   "cell_type": "code",
   "execution_count": null,
   "metadata": {},
   "outputs": [],
   "source": []
  },
  {
   "cell_type": "markdown",
   "metadata": {},
   "source": [
    "#### 내가 생각하지 못한 점 "
   ]
  },
  {
   "cell_type": "code",
   "execution_count": null,
   "metadata": {},
   "outputs": [],
   "source": []
  },
  {
   "cell_type": "code",
   "execution_count": null,
   "metadata": {},
   "outputs": [],
   "source": []
  },
  {
   "cell_type": "code",
   "execution_count": null,
   "metadata": {},
   "outputs": [],
   "source": []
  }
 ],
 "metadata": {
  "kernelspec": {
   "display_name": "Python 3",
   "language": "python",
   "name": "python3"
  },
  "language_info": {
   "codemirror_mode": {
    "name": "ipython",
    "version": 3
   },
   "file_extension": ".py",
   "mimetype": "text/x-python",
   "name": "python",
   "nbconvert_exporter": "python",
   "pygments_lexer": "ipython3",
   "version": "3.8.5"
  }
 },
 "nbformat": 4,
 "nbformat_minor": 4
}
