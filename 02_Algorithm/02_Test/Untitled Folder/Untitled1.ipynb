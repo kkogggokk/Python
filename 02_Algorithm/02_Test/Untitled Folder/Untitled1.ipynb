{
 "cells": [
  {
   "cell_type": "markdown",
   "metadata": {},
   "source": [
    "Finn은 요즘 수학공부에 빠져 있습니다. 수학 공부를 하던 Finn은 자연수 n을 연속한 자연수들로 표현 하는 방법이 여러개라는 사실을 알게 되었습니다. 예를들어 15는 다음과 같이 4가지로 표현 할 수 있습니다.\n",
    "\n",
    "1 + 2 + 3 + 4 + 5 = 15    \n",
    "4 + 5 + 6 = 15     \n",
    "7 + 8 = 15     \n",
    "15 = 15    \n",
    "자연수 n이 매개변수로 주어질 때, 연속된 자연수들로 n을 표현하는 방법의 수를 return하는 solution를 완성해주세요."
   ]
  },
  {
   "cell_type": "markdown",
   "metadata": {},
   "source": [
    "- 0. 15까지 1씩 넣은 리스트 만들기 \n",
    "    - 변수 lst() 리스트 선언\n",
    "\n",
    "- 1. 2중 포문 사용해서 i, j 까지의 합을 구해보기 \n",
    "    - i 는 인덱스 0부터 마지막 까지 하나씩 증가\n",
    "    - j 는 인덱스 1(i+1)부터 마지막 앞까지 하나씩 증가 \n",
    "- 2. 조건 i,j까지의 합 15이면 카운트 1씩 증가\n",
    "    - 변수 count = 0 선언 "
   ]
  },
  {
   "cell_type": "code",
   "execution_count": 8,
   "metadata": {},
   "outputs": [
    {
     "name": "stdout",
     "output_type": "stream",
     "text": [
      "1\n",
      "2\n",
      "3\n",
      "4\n",
      "5\n",
      "6\n",
      "7\n",
      "8\n",
      "9\n",
      "10\n",
      "11\n",
      "12\n",
      "13\n",
      "14\n",
      "15\n",
      "[1, 2, 3, 4, 5, 6, 7, 8, 9, 10, 11, 12, 13, 14, 15]\n"
     ]
    }
   ],
   "source": [
    "n = 15 \n",
    "\n",
    "# 15까지 1부터 값이 들어가는 리스트 만들기\n",
    "lst = list()\n",
    "\n",
    "for i in range(n) :\n",
    "#     print(i+1)\n",
    "    lst.append(i+1)\n",
    "\n",
    "    \n",
    "print(lst)"
   ]
  },
  {
   "cell_type": "code",
   "execution_count": 24,
   "metadata": {},
   "outputs": [
    {
     "name": "stdout",
     "output_type": "stream",
     "text": [
      "4\n"
     ]
    }
   ],
   "source": [
    "# i : 0 ~ 마지막까지 확인 \n",
    "# j : i+1 인덱스부터 마지막 앞\n",
    "# 맨 마지막은 자기자신이니 +1 하기 \n",
    "\n",
    "count = 1 \n",
    "# print(n)\n",
    "for i in range(n) : \n",
    "    for j in range(i+1, n) :\n",
    "#         print(i,j, sum(lst[i:j]))\n",
    "        if sum(lst[i:j]) == n : \n",
    "            count += 1 \n",
    "\n",
    "print(count)"
   ]
  },
  {
   "cell_type": "code",
   "execution_count": 35,
   "metadata": {},
   "outputs": [
    {
     "name": "stdout",
     "output_type": "stream",
     "text": [
      "0 1 1\n",
      "0 2 3\n",
      "0 3 6\n",
      "0 4 10\n",
      "0 5 15\n",
      "0 6 21\n",
      "0 7 28\n",
      "0 8 36\n",
      "0 9 45\n",
      "0 10 55\n",
      "0 11 66\n",
      "0 12 78\n",
      "0 13 91\n",
      "0 14 105\n",
      "1 2 2\n",
      "1 3 5\n",
      "1 4 9\n",
      "1 5 14\n",
      "1 6 20\n",
      "1 7 27\n",
      "1 8 35\n",
      "1 9 44\n",
      "1 10 54\n",
      "1 11 65\n",
      "1 12 77\n",
      "1 13 90\n",
      "1 14 104\n",
      "2 3 3\n",
      "2 4 7\n",
      "2 5 12\n",
      "2 6 18\n",
      "2 7 25\n",
      "2 8 33\n",
      "2 9 42\n",
      "2 10 52\n",
      "2 11 63\n",
      "2 12 75\n",
      "2 13 88\n",
      "2 14 102\n",
      "3 4 4\n",
      "3 5 9\n",
      "3 6 15\n",
      "3 7 22\n",
      "3 8 30\n",
      "3 9 39\n",
      "3 10 49\n",
      "3 11 60\n",
      "3 12 72\n",
      "3 13 85\n",
      "3 14 99\n",
      "4 5 5\n",
      "4 6 11\n",
      "4 7 18\n",
      "4 8 26\n",
      "4 9 35\n",
      "4 10 45\n",
      "4 11 56\n",
      "4 12 68\n",
      "4 13 81\n",
      "4 14 95\n",
      "5 6 6\n",
      "5 7 13\n",
      "5 8 21\n",
      "5 9 30\n",
      "5 10 40\n",
      "5 11 51\n",
      "5 12 63\n",
      "5 13 76\n",
      "5 14 90\n",
      "6 7 7\n",
      "6 8 15\n",
      "6 9 24\n",
      "6 10 34\n",
      "6 11 45\n",
      "6 12 57\n",
      "6 13 70\n",
      "6 14 84\n",
      "7 8 8\n",
      "7 9 17\n",
      "7 10 27\n",
      "7 11 38\n",
      "7 12 50\n",
      "7 13 63\n",
      "7 14 77\n",
      "8 9 9\n",
      "8 10 19\n",
      "8 11 30\n",
      "8 12 42\n",
      "8 13 55\n",
      "8 14 69\n",
      "9 10 10\n",
      "9 11 21\n",
      "9 12 33\n",
      "9 13 46\n",
      "9 14 60\n",
      "10 11 11\n",
      "10 12 23\n",
      "10 13 36\n",
      "10 14 50\n",
      "11 12 12\n",
      "11 13 25\n",
      "11 14 39\n",
      "12 13 13\n",
      "12 14 27\n",
      "13 14 14\n"
     ]
    },
    {
     "data": {
      "text/plain": [
       "4"
      ]
     },
     "execution_count": 35,
     "metadata": {},
     "output_type": "execute_result"
    }
   ],
   "source": [
    "def solution(n):\n",
    "    lst = list()\n",
    "\n",
    "    for i in range(n) :\n",
    "    #     print(i+1)\n",
    "        lst.append(i+1)\n",
    "\n",
    "    count = 1 \n",
    "    # print(n)\n",
    "    for i in range(n) : \n",
    "        for j in range(i+1, n) :\n",
    "            print(i,j, sum(lst[i:j]))\n",
    "            if sum(lst[i:j]) == n : \n",
    "                count += 1 \n",
    "    return count\n",
    "\n",
    "n= 15\n",
    "solution(n)"
   ]
  },
  {
   "cell_type": "code",
   "execution_count": null,
   "metadata": {},
   "outputs": [],
   "source": []
  },
  {
   "cell_type": "code",
   "execution_count": null,
   "metadata": {},
   "outputs": [],
   "source": []
  },
  {
   "cell_type": "code",
   "execution_count": null,
   "metadata": {},
   "outputs": [],
   "source": []
  },
  {
   "cell_type": "code",
   "execution_count": null,
   "metadata": {},
   "outputs": [],
   "source": []
  },
  {
   "cell_type": "code",
   "execution_count": null,
   "metadata": {},
   "outputs": [],
   "source": []
  },
  {
   "cell_type": "code",
   "execution_count": null,
   "metadata": {},
   "outputs": [],
   "source": []
  },
  {
   "cell_type": "code",
   "execution_count": null,
   "metadata": {},
   "outputs": [],
   "source": []
  },
  {
   "cell_type": "code",
   "execution_count": null,
   "metadata": {},
   "outputs": [],
   "source": []
  }
 ],
 "metadata": {
  "kernelspec": {
   "display_name": "Python 3",
   "language": "python",
   "name": "python3"
  },
  "language_info": {
   "codemirror_mode": {
    "name": "ipython",
    "version": 3
   },
   "file_extension": ".py",
   "mimetype": "text/x-python",
   "name": "python",
   "nbconvert_exporter": "python",
   "pygments_lexer": "ipython3",
   "version": "3.8.5"
  }
 },
 "nbformat": 4,
 "nbformat_minor": 4
}
