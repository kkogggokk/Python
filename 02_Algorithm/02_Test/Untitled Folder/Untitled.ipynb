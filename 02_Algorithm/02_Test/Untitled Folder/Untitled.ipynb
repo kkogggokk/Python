{
 "cells": [
  {
   "cell_type": "code",
   "execution_count": 61,
   "metadata": {},
   "outputs": [
    {
     "data": {
      "text/plain": [
       "(0, -3)"
      ]
     },
     "execution_count": 61,
     "metadata": {},
     "output_type": "execute_result"
    }
   ],
   "source": [
    "count = 0 \n",
    "\n",
    "width = 6\n",
    "length = 4 \n",
    "\n",
    "x = 0\n",
    "y = 0\n",
    "\n",
    "# 좌표로만 표시해도 되는거니까.. \n",
    "\n",
    "def move_right(count, width, length, x, y):\n",
    "    for _ in range(width-count-1) : \n",
    "        x += 1\n",
    "    return x, y\n",
    "    \n",
    "def move_up(count, width, length, x, y):\n",
    "    for _ in range(length-count-1) :\n",
    "        y += 1\n",
    "    return x, y\n",
    "\n",
    "def move_left(count, width, length, x, y) :\n",
    "    for _ in range(width-count-1,count,-1) : \n",
    "        x -= 1 \n",
    "    # 1 - Cycle \n",
    "    count += 1 \n",
    "    return x, y\n",
    "\n",
    "def move_down(count, width, length, x, y) : \n",
    "    for _ in range(length-count-1, count,-1) : \n",
    "        y -= 1 \n",
    "    return x, y \n",
    "\n",
    "# print(x,y)\n",
    "# x, y 결과값을 계속 이어져가야함. \n",
    "# move_right(count, width, length, x, y)\n",
    "# move_up(count, width, length, x, y) \n",
    "# move_left(count, width, length, x, y)\n",
    "move_down(count, width, length, x, y)"
   ]
  },
  {
   "cell_type": "code",
   "execution_count": 2,
   "metadata": {},
   "outputs": [
    {
     "name": "stdout",
     "output_type": "stream",
     "text": [
      "0\n",
      "move_right :  5 0\n",
      "move_up :  5 3\n",
      "move_left :  0 3\n",
      "move_down :  0 1\n",
      "1\n",
      "move_right :  4 1\n",
      "move_up :  4 3\n",
      "move_left :  1 3\n",
      "move_down :  1 3\n",
      "2\n",
      "x : 1 , y : 3\n"
     ]
    }
   ],
   "source": [
    "def solution(width, length) :\n",
    "    count = 0\n",
    "\n",
    "    x = 0\n",
    "    y = 0\n",
    "\n",
    "    # 반복한다. 언제까지? \n",
    "    while True :\n",
    "        print(count)\n",
    "        if (count == length //2) or (count == width // 2):\n",
    "            print('x :', x, ', y :', y)\n",
    "            break;\n",
    "        \n",
    "        # move_right \n",
    "        for _ in range(width-count-1) : \n",
    "            x += 1\n",
    "        print(\"move_right : \", x, y)\n",
    "\n",
    "        # move_up\n",
    "        for _ in range(length-count-1) : # 오잉... \n",
    "            y += 1\n",
    "        print(\"move_up : \",x, y)\n",
    "        #move_left\n",
    "        for _ in range(width-count-1,count, -1) : \n",
    "            x -= 1 \n",
    "        print(\"move_left : \",x, y)\n",
    "        # 1 - Cycle \n",
    "        count += 1 \n",
    "\n",
    "        # move_down\n",
    "        for _ in range(length-count-1, count-1, -1) : \n",
    "            y -= 1 \n",
    "        print(\"move_down : \",x, y)\n",
    "\n",
    "\n",
    "s = solution(6, 4) \n",
    "# s = solution(6, 5)  \n",
    "# s = solution(1, 11)\n",
    "# s = solution(12, 50)\n",
    "# s = solution(50, 50) "
   ]
  },
  {
   "cell_type": "code",
   "execution_count": null,
   "metadata": {},
   "outputs": [],
   "source": []
  },
  {
   "cell_type": "code",
   "execution_count": null,
   "metadata": {},
   "outputs": [],
   "source": []
  },
  {
   "cell_type": "code",
   "execution_count": null,
   "metadata": {},
   "outputs": [],
   "source": []
  },
  {
   "cell_type": "code",
   "execution_count": null,
   "metadata": {},
   "outputs": [],
   "source": []
  },
  {
   "cell_type": "code",
   "execution_count": null,
   "metadata": {},
   "outputs": [],
   "source": [
    "#클로저 어렵다.. ㅜ.ㅜ ... ㅜㅜㅜㅜㅜㅜ 뭔가 반복되면서도 그 값이 이어져가야 하는것도 그렇고.. \n"
   ]
  },
  {
   "cell_type": "code",
   "execution_count": null,
   "metadata": {},
   "outputs": [],
   "source": []
  },
  {
   "cell_type": "code",
   "execution_count": 14,
   "metadata": {},
   "outputs": [
    {
     "name": "stdout",
     "output_type": "stream",
     "text": [
      "move_right :  0 0\n",
      "move_up :  0 10\n",
      "move_left :  0 10\n",
      "move_down :  0 1\n"
     ]
    }
   ],
   "source": [
    "# 우선 쉽게 접근해보자. \n",
    "\n",
    "# width, length = 6, 4 \n",
    "width, length =  1, 11\n",
    "count = 0\n",
    "x, y = 0, 0\n",
    "\n",
    "# move_right \n",
    "for x in range(width-count-1) : \n",
    "    x += 1\n",
    "print(\"move_right : \", x, y)\n",
    "\n",
    "# move_up\n",
    "for y in range(length-count-1) : # 오잉... \n",
    "    y += 1\n",
    "print(\"move_up : \",x, y)\n",
    "\n",
    "#move_left\n",
    "for x in range(width-count-1,count, -1) : \n",
    "    x -= 1 \n",
    "print(\"move_left : \",x, y)\n",
    "# 1 - Cycle \n",
    "count += 1 \n",
    "\n",
    "# move_down\n",
    "for y in range(length-count-1, count, -1) : \n",
    "    y -= 1 \n",
    "    \n",
    "print(\"move_down : \",x, y)\n"
   ]
  },
  {
   "cell_type": "code",
   "execution_count": null,
   "metadata": {},
   "outputs": [],
   "source": []
  },
  {
   "cell_type": "code",
   "execution_count": null,
   "metadata": {},
   "outputs": [],
   "source": []
  }
 ],
 "metadata": {
  "kernelspec": {
   "display_name": "Python 3",
   "language": "python",
   "name": "python3"
  },
  "language_info": {
   "codemirror_mode": {
    "name": "ipython",
    "version": 3
   },
   "file_extension": ".py",
   "mimetype": "text/x-python",
   "name": "python",
   "nbconvert_exporter": "python",
   "pygments_lexer": "ipython3",
   "version": "3.8.5"
  }
 },
 "nbformat": 4,
 "nbformat_minor": 4
}
