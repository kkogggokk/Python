{
 "cells": [
  {
   "cell_type": "markdown",
   "metadata": {},
   "source": [
    "# 정수내림차순으로 배치하기\n",
    "- 문제 설명      \n",
    "함수 solution은 정수 n을 매개변수로 입력받습니다. n의 각 자릿수를 큰것부터 작은 순으로 정렬한 새로운 정수를 리턴해주세요. 예를들어 n이 118372면 873211을 리턴하면 됩니다.       \n",
    "\n",
    "\n",
    "\n",
    "- 제한 조건        \n",
    "n은 1이상 8000000000 이하인 자연수입니다.    \n",
    "\n",
    "\n",
    "- URL : https://programmers.co.kr/learn/courses/30/lessons/12933"
   ]
  },
  {
   "cell_type": "markdown",
   "metadata": {},
   "source": [
    "#### 희진 풀이 및 과정"
   ]
  },
  {
   "cell_type": "markdown",
   "metadata": {},
   "source": [
    "#### 2021.01.27 (+2)\n",
    "- 방법1 : 리스트로 하는 방법\n",
    "    0. 리스트로 변환 \n",
    "    1. 입력값 1차 정렬 오름차순 sort()\n",
    "    2. 입력값 2차 정렬 내림차순 혹은 리버스 : sort(reverse=True), reversed()\n",
    "    3. 리스트에서 스트링값으로 변환 "
   ]
  },
  {
   "cell_type": "code",
   "execution_count": 45,
   "metadata": {},
   "outputs": [
    {
     "name": "stdout",
     "output_type": "stream",
     "text": [
      "118372\n",
      "873211\n"
     ]
    }
   ],
   "source": [
    "n = list(input())\n",
    "y = n.sort()\n",
    "# print(y) # 왜 None으로 뜨지? \n",
    "\n",
    "y = sorted(n)\n",
    "# print(y)\n",
    "\n",
    "# y = reversed(y)\n",
    "# print(list(y))\n",
    "\n",
    "y.sort(reverse=True)\n",
    "\n",
    "# 리스트에서 문자열로 변환 \n",
    "st  = \"\".join(y)\n",
    "print(st)"
   ]
  },
  {
   "cell_type": "code",
   "execution_count": 59,
   "metadata": {},
   "outputs": [
    {
     "name": "stdout",
     "output_type": "stream",
     "text": [
      "118372\n",
      "873211\n"
     ]
    }
   ],
   "source": [
    "n = input()\n",
    "lst = [int(i) for i in n]\n",
    "\n",
    "y = sorted(n)\n",
    "y.sort(reverse=True)\n",
    "answer = ''.join(y)\n",
    "print(answer)"
   ]
  },
  {
   "cell_type": "code",
   "execution_count": 65,
   "metadata": {},
   "outputs": [
    {
     "data": {
      "text/plain": [
       "873211"
      ]
     },
     "execution_count": 65,
     "metadata": {},
     "output_type": "execute_result"
    }
   ],
   "source": [
    "def solution(n) :\n",
    "    n = list(n)\n",
    "    n.sort(reverse=True)\n",
    "    \n",
    "    return int(\"\".join(n))\n",
    "\n",
    "n = '118372'\n",
    "solution(n)"
   ]
  },
  {
   "cell_type": "markdown",
   "metadata": {},
   "source": [
    "#### 다른 풀이"
   ]
  },
  {
   "cell_type": "code",
   "execution_count": null,
   "metadata": {},
   "outputs": [],
   "source": []
  },
  {
   "cell_type": "code",
   "execution_count": null,
   "metadata": {},
   "outputs": [],
   "source": []
  },
  {
   "cell_type": "markdown",
   "metadata": {},
   "source": [
    "#### 내가 생각하지 못한 점 "
   ]
  },
  {
   "cell_type": "markdown",
   "metadata": {},
   "source": [
    "- sort() 와 sorted() 차이가?"
   ]
  },
  {
   "cell_type": "code",
   "execution_count": 57,
   "metadata": {},
   "outputs": [
    {
     "name": "stdout",
     "output_type": "stream",
     "text": [
      "[1, 2, 3, 4, 5, 6, 7, 8, 9, 0]\n",
      "[0, 1, 2, 3, 4, 5, 6, 7, 8, 9]\n"
     ]
    }
   ],
   "source": [
    "# 숫자로 이루어진 문자열에서 문자를 추출하여 숫자 리스트로 가져오는 방법\n",
    "str = '1234567890'\n",
    "lst = [int(i) for i in str]\n",
    "print(lst)\n",
    "lst.sort()\n",
    "print(lst)\n"
   ]
  },
  {
   "cell_type": "code",
   "execution_count": null,
   "metadata": {},
   "outputs": [],
   "source": []
  },
  {
   "cell_type": "code",
   "execution_count": null,
   "metadata": {},
   "outputs": [],
   "source": []
  },
  {
   "cell_type": "code",
   "execution_count": null,
   "metadata": {},
   "outputs": [],
   "source": []
  },
  {
   "cell_type": "code",
   "execution_count": null,
   "metadata": {},
   "outputs": [],
   "source": []
  }
 ],
 "metadata": {
  "kernelspec": {
   "display_name": "Python 3",
   "language": "python",
   "name": "python3"
  },
  "language_info": {
   "codemirror_mode": {
    "name": "ipython",
    "version": 3
   },
   "file_extension": ".py",
   "mimetype": "text/x-python",
   "name": "python",
   "nbconvert_exporter": "python",
   "pygments_lexer": "ipython3",
   "version": "3.8.5"
  }
 },
 "nbformat": 4,
 "nbformat_minor": 4
}
