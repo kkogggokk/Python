{
 "cells": [
  {
   "cell_type": "markdown",
   "metadata": {},
   "source": [
    "# 시저암호 \n",
    "- 문제 설명            \n",
    "어떤 문장의 각 알파벳을 일정한 거리만큼 밀어서 다른 알파벳으로 바꾸는 암호화 방식을 시저 암호라고 합니다. 예를 들어 AB는 1만큼 밀면 BC가 되고, 3만큼 밀면 DE가 됩니다. z는 1만큼 밀면 a가 됩니다. 문자열 s와 거리 n을 입력받아 s를 n만큼 민 암호문을 만드는 함수, solution을 완성해 보세요.\n",
    "\n",
    "\n",
    "\n",
    "- 제한 조건           \n",
    "공백은 아무리 밀어도 공백입니다.\n",
    "s는 알파벳 소문자, 대문자, 공백으로만 이루어져 있습니다.\n",
    "s의 길이는 8000이하입니다.\n",
    "n은 1 이상, 25이하인 자연수입니다.\n",
    "\n",
    "\n",
    "- URL : https://programmers.co.kr/learn/courses/30/lessons/12926"
   ]
  },
  {
   "cell_type": "markdown",
   "metadata": {},
   "source": [
    "#### 풀이 및 과정"
   ]
  },
  {
   "cell_type": "markdown",
   "metadata": {},
   "source": [
    "#### 2021.01.28\n",
    "- 'aBz' -> 4 -> 'eFd' 이건 규칙이 뭐지/..? 소문자 -> 대문자 -> 이전소문자\n",
    "- 대소문자 구별\n",
    "- 몇번째 인지 알파벳 확인 --> 대문자 소문자 나눠서 \n",
    "    - 알파벳 총25자 , ASCII 'A'- 97 , 'a' - 65\n",
    "    - 대문자 : 97+n , 소문자 65 + n \n",
    "    - z,Z 값 넘어가는데... => 26으로 나누기\n",
    "    - 해당 문자 ACII 정수값 반환 : ard(문자)\n",
    "- 구한 값 합치기 "
   ]
  },
  {
   "cell_type": "code",
   "execution_count": 11,
   "metadata": {},
   "outputs": [
    {
     "name": "stdout",
     "output_type": "stream",
     "text": [
      "BC\n",
      "a\n",
      "e F d\n",
      "b C a\n"
     ]
    }
   ],
   "source": [
    "def solution(s, n): \n",
    "    s = list(s) \n",
    "    for i in range(len(s)): \n",
    "        if s[i].isupper(): \n",
    "            s[i]=chr((ord(s[i])-ord('A')+ n)%26+ord('A')) \n",
    "        elif s[i].islower(): \n",
    "            s[i]=chr((ord(s[i])-ord('a')+ n)%26+ord('a')) \n",
    "            \n",
    "    return \"\".join(s)\n",
    "\n",
    "print(solution('AB',1)) \n",
    "print(solution('z',1)) \n",
    "print(solution('a B z',4)) \n",
    "print(solution('a B z',1)) "
   ]
  },
  {
   "cell_type": "markdown",
   "metadata": {},
   "source": [
    "#### 다른 풀이"
   ]
  },
  {
   "cell_type": "code",
   "execution_count": 9,
   "metadata": {},
   "outputs": [
    {
     "name": "stdout",
     "output_type": "stream",
     "text": [
      "BC\n",
      "a\n",
      "e F d\n",
      "b C a\n"
     ]
    }
   ],
   "source": [
    "import string \n",
    "def solution(s, n): \n",
    "    result = \"\" \n",
    "    base = \"\" \n",
    "    for c in s: \n",
    "        if c in string.ascii_lowercase : \n",
    "            base = string.ascii_lowercase \n",
    "        elif c in string.ascii_uppercase : \n",
    "            base = string.ascii_uppercase \n",
    "        else: \n",
    "            result += c \n",
    "            continue \n",
    "        a = base.index(c) + n \n",
    "        result += base[a % len(base)] \n",
    "    return result\n",
    "\n",
    "\n",
    "    \n",
    "print(solution('AB',1)) \n",
    "print(solution('z',1)) \n",
    "print(solution('a B z',4)) \n",
    "print(solution('a B z',1)) "
   ]
  },
  {
   "cell_type": "code",
   "execution_count": null,
   "metadata": {},
   "outputs": [],
   "source": []
  },
  {
   "cell_type": "markdown",
   "metadata": {},
   "source": [
    "#### 내가 생각하지 못한 점 "
   ]
  },
  {
   "cell_type": "markdown",
   "metadata": {},
   "source": [
    "- 아스키코드에도 lowercase, uppercase 메소드 있음 "
   ]
  },
  {
   "cell_type": "code",
   "execution_count": null,
   "metadata": {},
   "outputs": [],
   "source": []
  },
  {
   "cell_type": "code",
   "execution_count": null,
   "metadata": {},
   "outputs": [],
   "source": []
  },
  {
   "cell_type": "code",
   "execution_count": null,
   "metadata": {},
   "outputs": [],
   "source": []
  },
  {
   "cell_type": "code",
   "execution_count": null,
   "metadata": {},
   "outputs": [],
   "source": []
  },
  {
   "cell_type": "code",
   "execution_count": null,
   "metadata": {},
   "outputs": [],
   "source": []
  },
  {
   "cell_type": "code",
   "execution_count": null,
   "metadata": {},
   "outputs": [],
   "source": []
  }
 ],
 "metadata": {
  "kernelspec": {
   "display_name": "Python 3",
   "language": "python",
   "name": "python3"
  },
  "language_info": {
   "codemirror_mode": {
    "name": "ipython",
    "version": 3
   },
   "file_extension": ".py",
   "mimetype": "text/x-python",
   "name": "python",
   "nbconvert_exporter": "python",
   "pygments_lexer": "ipython3",
   "version": "3.8.5"
  }
 },
 "nbformat": 4,
 "nbformat_minor": 4
}
