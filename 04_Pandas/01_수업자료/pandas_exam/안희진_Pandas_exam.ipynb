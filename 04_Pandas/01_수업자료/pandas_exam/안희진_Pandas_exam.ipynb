{
 "cells": [
  {
   "cell_type": "markdown",
   "metadata": {},
   "source": [
    "# Seoul_report.csv 읽기\n",
    "+ 서울시 주민등록인구 (구별) 통계 - [서울열린데이터광장 ](http://data.seoul.go.kr/dataList/datasetView.do?serviceKind=2&infId=419&stcSrl=419&srvType=S) "
   ]
  },
  {
   "cell_type": "markdown",
   "metadata": {},
   "source": [
    "## CSV 파일 읽기\n",
    "- Seoul_report.csv 파일의 내용을 DataFrame으로 읽고 변수에 대입"
   ]
  },
  {
   "cell_type": "code",
   "execution_count": null,
   "metadata": {},
   "outputs": [],
   "source": []
  },
  {
   "cell_type": "code",
   "execution_count": null,
   "metadata": {},
   "outputs": [],
   "source": []
  },
  {
   "cell_type": "markdown",
   "metadata": {},
   "source": [
    "# 열명 변경\n",
    "- 읽은 DataFrame에 어떤 컬럼이 있는지 확인하고 열명을 아래와 같이 바꾼다. (이외 열이름은 그대로 유지)    \n",
    "    - '총합계' : '총인구' \n",
    "    - '한국인합계': '한국인'\n",
    "    - '외국인합계' : '외국인'\n",
    "    - '65세이상고령자' : '고령자'"
   ]
  },
  {
   "cell_type": "code",
   "execution_count": null,
   "metadata": {},
   "outputs": [],
   "source": []
  },
  {
   "cell_type": "markdown",
   "metadata": {},
   "source": [
    "# 사용할 열들만 추출\n",
    "- 자치구, 총인구, 한국인, 외국인, 고령자 열만 가지는 dataframe 생성\n",
    "    - shape이 (5, n) 이 되도록"
   ]
  },
  {
   "cell_type": "code",
   "execution_count": null,
   "metadata": {},
   "outputs": [],
   "source": []
  },
  {
   "cell_type": "markdown",
   "metadata": {},
   "source": [
    "# DataFrame 개괄 정보 조회\n",
    "1. 몇행/몇열인지 조회\n",
    "1. 결측치가 있는지 조회\n",
    "1. DataFrame에 대한 정보(index, columns) 확인\n",
    "1. 상위 5개 행만 조회\n",
    "1. 하위 5개 행만 조회\n",
    "1. 컬럼별 통계량 요약 조회"
   ]
  },
  {
   "cell_type": "code",
   "execution_count": null,
   "metadata": {},
   "outputs": [],
   "source": []
  },
  {
   "cell_type": "code",
   "execution_count": null,
   "metadata": {},
   "outputs": [],
   "source": []
  },
  {
   "cell_type": "code",
   "execution_count": null,
   "metadata": {},
   "outputs": [],
   "source": []
  },
  {
   "cell_type": "code",
   "execution_count": null,
   "metadata": {},
   "outputs": [],
   "source": []
  },
  {
   "cell_type": "code",
   "execution_count": null,
   "metadata": {},
   "outputs": [],
   "source": []
  },
  {
   "cell_type": "markdown",
   "metadata": {},
   "source": [
    "# 열이름으로 조회\n",
    "1. 총인구 열의 모든 값들을 조회\n",
    "1. 한국인, 외국인 열의 모든 값들을 조회"
   ]
  },
  {
   "cell_type": "code",
   "execution_count": null,
   "metadata": {},
   "outputs": [],
   "source": []
  },
  {
   "cell_type": "code",
   "execution_count": null,
   "metadata": {},
   "outputs": [],
   "source": []
  },
  {
   "cell_type": "markdown",
   "metadata": {},
   "source": [
    "# 행기준 조회\n",
    "1. 5번째 행의 데이터를 조회.\n",
    "1. 1, 5, 7, 10 번째 행의 데이터를 조회\n",
    "1. 15 ~ 20 번째 행의 데이터를 조회\n",
    "1. 10~15 행에서 자치구, 총인구, 한국인 열의 값을 조회\n",
    "1. 6, 7, 8 번째 행의 한국인, 외국인 열의 값을 조회"
   ]
  },
  {
   "cell_type": "code",
   "execution_count": null,
   "metadata": {},
   "outputs": [],
   "source": []
  },
  {
   "cell_type": "code",
   "execution_count": null,
   "metadata": {},
   "outputs": [],
   "source": []
  },
  {
   "cell_type": "code",
   "execution_count": null,
   "metadata": {},
   "outputs": [],
   "source": []
  },
  {
   "cell_type": "code",
   "execution_count": null,
   "metadata": {},
   "outputs": [],
   "source": []
  },
  {
   "cell_type": "code",
   "execution_count": null,
   "metadata": {},
   "outputs": [],
   "source": []
  },
  {
   "cell_type": "markdown",
   "metadata": {},
   "source": [
    "# index 이름 지정\n",
    "1. '자치구' 열을 index로 설정\n",
    "1. 데이터 프레임의 index이름 조회\n",
    "1. 강남구 행 조회\n",
    "1. 종로구, 성동구, 서대문구 행 조회\n",
    "1. 노원구 ~ 금천구 조회\n",
    "1. 종로구의 한국인,외국인 열의 값 조회\n",
    "1. 도봉구, 노원구, 송파구의 총인구와 고령자 열의 값 조회"
   ]
  },
  {
   "cell_type": "code",
   "execution_count": null,
   "metadata": {},
   "outputs": [],
   "source": []
  },
  {
   "cell_type": "code",
   "execution_count": null,
   "metadata": {},
   "outputs": [],
   "source": []
  },
  {
   "cell_type": "code",
   "execution_count": null,
   "metadata": {},
   "outputs": [],
   "source": []
  },
  {
   "cell_type": "code",
   "execution_count": null,
   "metadata": {},
   "outputs": [],
   "source": []
  },
  {
   "cell_type": "code",
   "execution_count": null,
   "metadata": {},
   "outputs": [],
   "source": []
  },
  {
   "cell_type": "code",
   "execution_count": null,
   "metadata": {},
   "outputs": [],
   "source": []
  },
  {
   "cell_type": "code",
   "execution_count": null,
   "metadata": {},
   "outputs": [],
   "source": []
  },
  {
   "cell_type": "markdown",
   "metadata": {},
   "source": [
    "# Boolean 인덱싱 - 조건으로 조회\n",
    "1. 총인구가 500,000 이상인 행 조회\n",
    "1. 외국인이 15,000 이상인 행의 한국인, 외국인 열 조회\n",
    "1. 외국인이 고령자보다 많은 행을 조회 (없으므로 아무 행도 안나오는게 정상임)\n",
    "1. 고령자수가 60,000 ~ 70,000 인 행 조회\n",
    "1. 외국인이 15,000 이상이고 고령자가 50,000 이상인 행을 조회"
   ]
  },
  {
   "cell_type": "code",
   "execution_count": null,
   "metadata": {},
   "outputs": [],
   "source": []
  },
  {
   "cell_type": "code",
   "execution_count": null,
   "metadata": {},
   "outputs": [],
   "source": []
  },
  {
   "cell_type": "code",
   "execution_count": null,
   "metadata": {},
   "outputs": [],
   "source": []
  },
  {
   "cell_type": "code",
   "execution_count": null,
   "metadata": {},
   "outputs": [],
   "source": []
  },
  {
   "cell_type": "code",
   "execution_count": null,
   "metadata": {},
   "outputs": [],
   "source": []
  },
  {
   "cell_type": "markdown",
   "metadata": {},
   "source": [
    "# 정렬\n",
    "1. 자치구컬럼 기준 오름차순 순으로 정렬\n",
    "1. 자치구컬럼 기준 내림차순 순으로 정렬\n",
    "1. 외국인이 많이 있는 순으로 정렬\n",
    "1. 한국인이 많이 있는 순서로 정렬하고 혹시 같으면 고령자가 적은 순으로 2차 정렬\n",
    "1. 합계를 지우고 총인구 내림차순으로 정렬"
   ]
  },
  {
   "cell_type": "code",
   "execution_count": null,
   "metadata": {},
   "outputs": [],
   "source": []
  },
  {
   "cell_type": "code",
   "execution_count": null,
   "metadata": {},
   "outputs": [],
   "source": []
  },
  {
   "cell_type": "code",
   "execution_count": null,
   "metadata": {},
   "outputs": [],
   "source": []
  },
  {
   "cell_type": "code",
   "execution_count": null,
   "metadata": {},
   "outputs": [],
   "source": []
  },
  {
   "cell_type": "code",
   "execution_count": null,
   "metadata": {},
   "outputs": [],
   "source": []
  },
  {
   "cell_type": "markdown",
   "metadata": {},
   "source": [
    "# 열 추가 - 파생변수\n",
    "1. 총인구 대비 외국인의 비율을 계산한 값을 **외국인비율** 컬럼을 만들어 넣기 (외국인/총인구 * 100)\n",
    "1. 총인구 대비 고령자의 비율을 계산한 값을 **고령자비율** 컬럼을 만들어 넣기"
   ]
  },
  {
   "cell_type": "code",
   "execution_count": null,
   "metadata": {},
   "outputs": [],
   "source": []
  },
  {
   "cell_type": "code",
   "execution_count": null,
   "metadata": {},
   "outputs": [],
   "source": []
  },
  {
   "cell_type": "markdown",
   "metadata": {},
   "source": [
    "# 기술 통계정보\n",
    "1. 아래를 조회하는데 합계 행은 빼고 계산한다.\n",
    "1. 총인구 컬럼의 평균, 합계, 중위값, 표준편차, 분산, 데이터개수\n",
    "1. 외국인과 고령자의 평균, 표준편차 조회\n",
    "1. 외국인이 가장 적은 행을 조회"
   ]
  },
  {
   "cell_type": "code",
   "execution_count": null,
   "metadata": {},
   "outputs": [],
   "source": []
  },
  {
   "cell_type": "code",
   "execution_count": null,
   "metadata": {},
   "outputs": [],
   "source": []
  },
  {
   "cell_type": "code",
   "execution_count": null,
   "metadata": {},
   "outputs": [],
   "source": []
  },
  {
   "cell_type": "code",
   "execution_count": null,
   "metadata": {},
   "outputs": [],
   "source": []
  },
  {
   "cell_type": "code",
   "execution_count": null,
   "metadata": {},
   "outputs": [],
   "source": []
  },
  {
   "cell_type": "code",
   "execution_count": null,
   "metadata": {},
   "outputs": [],
   "source": []
  },
  {
   "cell_type": "code",
   "execution_count": null,
   "metadata": {},
   "outputs": [],
   "source": []
  },
  {
   "cell_type": "markdown",
   "metadata": {},
   "source": [
    "# DataFrame 병합하기\n",
    "### seoul_cctv.csv 파일\n",
    "- 서울 자치구 연도별 CCTV 데이터 셋 [서울열린데이터광장](http://data.seoul.go.kr/dataList/OA-2734/C/1/datasetView.do)    \n",
    "\n",
    "\n",
    "1. seoul_cctv.csv 파일을 DataFrame으로 읽기\n",
    "2. 서울시 자치구별 인구 DataFrame과 서울시 자치구 CCTV 데이터 셋을 **자치구명을 기준으로** 결합하여 하나의 DataFrame으로 만드시오."
   ]
  },
  {
   "cell_type": "code",
   "execution_count": null,
   "metadata": {},
   "outputs": [],
   "source": []
  },
  {
   "cell_type": "code",
   "execution_count": null,
   "metadata": {},
   "outputs": [],
   "source": []
  },
  {
   "cell_type": "code",
   "execution_count": null,
   "metadata": {},
   "outputs": [],
   "source": []
  },
  {
   "cell_type": "markdown",
   "metadata": {},
   "source": [
    "# Groupby와 집계\n",
    "## forestfire.csv 파일\n",
    "- 포르투칼 북서부 산림 산불관련 데이터 셋 [UCI Machine learning repository](https://archive.ics.uci.edu/ml/datasets/forest+fires)    \n",
    "\n",
    "\n",
    "1. forestfire.csv 파일을 DataFrame으로 읽기\n",
    "1. 어떤 컬럼들이 변수형 컬럼인지 확인.\n",
    "1. 월(month)과 요일(day) 의 고유한(unique) 값들과 각각의 행수 조회\n",
    "1. 요일(day) 별 wind의 평균을 조회\n",
    "1. 요일(day) 별 wind, rain의 평균을 조회\n",
    "1. 요일(day) 별 wind, rain의 평균과 합계과 개수 조회\n",
    "1. 요일(day) 별로 wind는 평균을 rain은 합계와 최대값을 조회\n",
    "1. 월(month) 그리고 요일별(day) temp의 최대값과 최소값을 조회\n",
    "1. X좌표(X), Y좌표(Y)별 temp의 평균울 pivot table로 조회\n"
   ]
  },
  {
   "cell_type": "code",
   "execution_count": null,
   "metadata": {},
   "outputs": [],
   "source": []
  },
  {
   "cell_type": "code",
   "execution_count": null,
   "metadata": {},
   "outputs": [],
   "source": []
  },
  {
   "cell_type": "code",
   "execution_count": null,
   "metadata": {},
   "outputs": [],
   "source": []
  },
  {
   "cell_type": "code",
   "execution_count": null,
   "metadata": {},
   "outputs": [],
   "source": []
  },
  {
   "cell_type": "code",
   "execution_count": null,
   "metadata": {},
   "outputs": [],
   "source": []
  },
  {
   "cell_type": "code",
   "execution_count": null,
   "metadata": {},
   "outputs": [],
   "source": []
  },
  {
   "cell_type": "code",
   "execution_count": null,
   "metadata": {},
   "outputs": [],
   "source": []
  }
 ],
 "metadata": {
  "kernelspec": {
   "display_name": "Python 3",
   "language": "python",
   "name": "python3"
  },
  "language_info": {
   "codemirror_mode": {
    "name": "ipython",
    "version": 3
   },
   "file_extension": ".py",
   "mimetype": "text/x-python",
   "name": "python",
   "nbconvert_exporter": "python",
   "pygments_lexer": "ipython3",
   "version": "3.8.5"
  },
  "toc": {
   "base_numbering": 1,
   "nav_menu": {},
   "number_sections": false,
   "sideBar": false,
   "skip_h1_title": false,
   "title_cell": "Table of Contents",
   "title_sidebar": "Contents",
   "toc_cell": false,
   "toc_position": {},
   "toc_section_display": true,
   "toc_window_display": false
  },
  "varInspector": {
   "cols": {
    "lenName": 16,
    "lenType": 16,
    "lenVar": 40
   },
   "kernels_config": {
    "python": {
     "delete_cmd_postfix": "",
     "delete_cmd_prefix": "del ",
     "library": "var_list.py",
     "varRefreshCmd": "print(var_dic_list())"
    },
    "r": {
     "delete_cmd_postfix": ") ",
     "delete_cmd_prefix": "rm(",
     "library": "var_list.r",
     "varRefreshCmd": "cat(var_dic_list()) "
    }
   },
   "types_to_exclude": [
    "module",
    "function",
    "builtin_function_or_method",
    "instance",
    "_Feature"
   ],
   "window_display": false
  }
 },
 "nbformat": 4,
 "nbformat_minor": 2
}
