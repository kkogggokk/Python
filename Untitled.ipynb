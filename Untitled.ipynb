{
 "cells": [
  {
   "cell_type": "code",
   "execution_count": 11,
   "metadata": {},
   "outputs": [
    {
     "name": "stdout",
     "output_type": "stream",
     "text": [
      "[('A', 'B'), ('A', 'C'), ('B', 'A'), ('B', 'C'), ('C', 'A'), ('C', 'B')]\n"
     ]
    }
   ],
   "source": [
    "from itertools import permutations\n",
    "\n",
    "data = ['A', 'B', 'C']\n",
    "result = list(permutations(data, 2)) # 모든 순열 구하기\n",
    "print(result)\n",
    "#결과 : [('A', 'B'), ('A', 'C'), ('B', 'A'), ('B', 'C'), ('C', 'A'), ('C', 'B')] "
   ]
  },
  {
   "cell_type": "code",
   "execution_count": 8,
   "metadata": {},
   "outputs": [
    {
     "name": "stdout",
     "output_type": "stream",
     "text": [
      "[('A', 'B'), ('A', 'C'), ('B', 'C')]\n"
     ]
    }
   ],
   "source": [
    "#  리스트['A', 'B', 'C']에서 2개를 뽑아 순서에 상관없이 나열하는 모든 경우\n",
    "from itertools import combinations\n",
    "data = ['A', 'B', 'C']\n",
    "result = list(combinations(data,2)) # 2개를 뽀는 모든 조합 구하기 \n",
    "print(result)\n",
    "#결과  : [('A', 'B'), ('A', 'C'), ('B', 'C')]"
   ]
  },
  {
   "cell_type": "code",
   "execution_count": 10,
   "metadata": {},
   "outputs": [
    {
     "name": "stdout",
     "output_type": "stream",
     "text": [
      "[('A', 'A'), ('A', 'B'), ('A', 'C'), ('B', 'A'), ('B', 'B'), ('B', 'C'), ('C', 'A'), ('C', 'B'), ('C', 'C')]\n"
     ]
    }
   ],
   "source": [
    "from itertools import product \n",
    "data = ['A', 'B', 'C']\n",
    "result = list(product(data, repeat=2)) #2개를 뽑는 모든 순열 구하기(중복허용)\n",
    "print(result)\n",
    "# 결과 : [('A', 'B'), ('A', 'C'), ('B', 'A'), ('B', 'C'), ('C', 'A'), ('C', 'B')]"
   ]
  },
  {
   "cell_type": "code",
   "execution_count": 13,
   "metadata": {},
   "outputs": [
    {
     "name": "stdout",
     "output_type": "stream",
     "text": [
      "[('A', 'A'), ('A', 'B'), ('A', 'C'), ('B', 'B'), ('B', 'C'), ('C', 'C')]\n"
     ]
    }
   ],
   "source": [
    "# 리스트 ['A', 'B', 'C']에서 중복을 포함하여 2개를 뽑아 순서에 상관없이 나열하는 모든 경우 \n",
    "from itertools import combinations_with_replacement\n",
    "data = ['A', 'B', 'C'] \n",
    "result = list(combinations_with_replacement(data, 2))\n",
    "print(result)\n",
    "# 결과 : [('A', 'A'), ('A', 'B'), ('A', 'C'), ('B', 'B'), ('B', 'C'), ('C', 'C')]"
   ]
  },
  {
   "cell_type": "code",
   "execution_count": 22,
   "metadata": {},
   "outputs": [
    {
     "name": "stdout",
     "output_type": "stream",
     "text": [
      "[0, 1, 2, 3, 4, 5, 6, 7, 8, 9]\n"
     ]
    }
   ],
   "source": [
    "# 힙정렬(Heap sort)을 heapq로 구현\n",
    "import heapq\n",
    "\n",
    "def heapsort(iterable) : \n",
    "    h = []\n",
    "    result = []\n",
    "    # 모든 원소를 차례대로 힙에 삽입\n",
    "    for value in iterable :\n",
    "        heapq.heappush(h, value) # h = [0, 1, 2, 6, 3, 5, 4, 7, 8, 9]\n",
    "    \n",
    "    # 힙에 삽입된 모든 원소를 차례대로 꺼내어 담기\n",
    "    for i in range(len(h)) : \n",
    "        result.append(heapq.heappop(h))\n",
    "    return result\n",
    "\n",
    "result = heapsort([1, 3, 5, 7, 9, 2, 4, 6, 8, 0])\n",
    "print(result) # 결과 : [0, 1, 2, 3, 4, 5, 6, 7, 8, 9] "
   ]
  },
  {
   "cell_type": "code",
   "execution_count": 28,
   "metadata": {},
   "outputs": [
    {
     "name": "stdout",
     "output_type": "stream",
     "text": [
      "[9, 8, 7, 6, 5, 4, 3, 2, 1, 0]\n"
     ]
    }
   ],
   "source": [
    "# 최대 힙 구현하기 위해 내림차순 힙 정렬\n",
    "import heapq\n",
    "def heapsort(iterable) :\n",
    "    h = []\n",
    "    result = []\n",
    "    # 모든 원소를 차례대로 힙에 삽입\n",
    "    for value in iterable : \n",
    "        heapq.heappush(h, -value) \n",
    "    # 힙에 삽입된 모든 원소를 차례대로 꺼내어 담기 \n",
    "    for i in range(len(h)) : \n",
    "        result.append(-heapq.heappop(h))\n",
    "    return result\n",
    "result = heapsort([1, 3, 5, 7, 9, 2, 4, 6, 8, 0])\n",
    "print(result) # [9, 8, 7, 6, 5, 4, 3, 2, 1, 0] "
   ]
  },
  {
   "cell_type": "code",
   "execution_count": 30,
   "metadata": {},
   "outputs": [
    {
     "name": "stdout",
     "output_type": "stream",
     "text": [
      "2\n",
      "4\n"
     ]
    }
   ],
   "source": [
    "# 정렬된 리스트 [1, 2, 4, 4, 8] 가 있을 때 새롭게 데이터4를 삽입 \n",
    "from bisect import bisect_left, bisect_right\n",
    "a = [1, 2, 4, 4, 8]\n",
    "x = 4 \n",
    "print(bisect_left(a, x)) # 결과 : 2 \n",
    "print(bisect_right(a, x)) # 결과 : 4"
   ]
  },
  {
   "cell_type": "code",
   "execution_count": 32,
   "metadata": {},
   "outputs": [
    {
     "name": "stdout",
     "output_type": "stream",
     "text": [
      "2\n",
      "6\n"
     ]
    }
   ],
   "source": [
    "from bisect import bisect_left, bisect_right\n",
    "\n",
    "# 값이 [left_value, right_value]인 데이터의 개수를 반환하는 함수 \n",
    "def count_by_range(a, left_value, right_value) : \n",
    "    right_index = bisect_right(a, right_value)\n",
    "    left_index = bisect_left(a, left_value)\n",
    "    return right_index - left_index \n",
    "\n",
    "a = [1, 2, 3, 3, 3, 3, 4, 4, 8, 9]\n",
    "\n",
    "# 값이 4인 데이터 개수 출력 \n",
    "print(count_by_range(a, 4, 4)) # 결과 : 3\n",
    "\n",
    "# 값이 [-1, 3]있는 데이터 개수 출력\n",
    "print(count_by_range(a, -1, 3)) # 결과 : 6"
   ]
  },
  {
   "cell_type": "code",
   "execution_count": 35,
   "metadata": {},
   "outputs": [
    {
     "name": "stdout",
     "output_type": "stream",
     "text": [
      "deque([1, 2, 3, 4, 5])\n",
      "[1, 2, 3, 4, 5]\n"
     ]
    }
   ],
   "source": [
    "from collections import deque\n",
    "data = deque([2, 3, 4])\n",
    "data.appendleft(1)\n",
    "data.append(5)\n",
    "print(data) # deque([1, 2, 3, 4, 5])\n",
    "print(list(data)) # [1, 2, 3, 4, 5]"
   ]
  },
  {
   "cell_type": "code",
   "execution_count": 47,
   "metadata": {},
   "outputs": [
    {
     "name": "stdout",
     "output_type": "stream",
     "text": [
      "3\n",
      "1\n",
      "{'red': 2, 'blue': 3, 'green': 1}\n"
     ]
    }
   ],
   "source": [
    "from collections import Counter\n",
    "counter = Counter(['red', 'blue', 'red', 'green', 'blue', 'blue'])\n",
    "print(counter['blue']) # 3\n",
    "print(counter['green']) # 1\n",
    "print(dict(counter)) # {'red': 2, 'blue': 3, 'green': 1}"
   ]
  },
  {
   "cell_type": "code",
   "execution_count": 49,
   "metadata": {},
   "outputs": [
    {
     "name": "stdout",
     "output_type": "stream",
     "text": [
      "120\n",
      "2.6457513110645907\n",
      "7\n",
      "3.141592653589793\n",
      "2.718281828459045\n"
     ]
    }
   ],
   "source": [
    "import math\n",
    "\n",
    "print(math.factorial(5)) #5의 팩토리얼 출력 : 120 \n",
    "print(math.sqrt(7)) # 7의 제곱근 출력 : 2.6457513110645907\n",
    "print(math.gcd(21, 14)) #21과 14의 최대공약수 출력 : 7 \n",
    "print(math.pi) # 파이 출력 : 3.141592653589793\n",
    "print(math.e) # 자연상수 e 출력 : 2.718281828459045"
   ]
  },
  {
   "cell_type": "code",
   "execution_count": 50,
   "metadata": {},
   "outputs": [
    {
     "name": "stdout",
     "output_type": "stream",
     "text": [
      "15\n"
     ]
    }
   ],
   "source": [
    "result = sum([1, 2, 3, 4, 5])\n",
    "print(result) # 15 "
   ]
  },
  {
   "cell_type": "code",
   "execution_count": 54,
   "metadata": {},
   "outputs": [
    {
     "name": "stdout",
     "output_type": "stream",
     "text": [
      "56\n"
     ]
    }
   ],
   "source": [
    "result = eval('(3+5)*7')\n",
    "print(result)"
   ]
  },
  {
   "cell_type": "code",
   "execution_count": 56,
   "metadata": {
    "scrolled": true
   },
   "outputs": [
    {
     "name": "stdout",
     "output_type": "stream",
     "text": [
      "[1, 4, 5, 8, 9]\n",
      "[9, 8, 5, 4, 1]\n"
     ]
    }
   ],
   "source": [
    "print(sorted([9, 1, 8, 5, 4])) # 오름차순 정렬 : [1, 4, 5, 8, 9] \n",
    "print(sorted([9, 1, 8, 5, 4], reverse = True)) # 내림차순 정렬 : [9, 8, 5, 4, 1]"
   ]
  },
  {
   "cell_type": "code",
   "execution_count": 61,
   "metadata": {},
   "outputs": [
    {
     "name": "stdout",
     "output_type": "stream",
     "text": [
      "[('이순신', 75), ('아무개', 50), ('홍길동', 35)]\n"
     ]
    }
   ],
   "source": [
    "# 원소를 튜플의 두번째 원소(수)를 기준으로 내림차순 정렬 \n",
    "result = sorted([('홍길동',35), ('이순신',75), ('아무개',50)], key = lambda x : x[1], reverse = True)\n",
    "print(result) # [('이순신', 75), ('아무개', 50), ('홍길동', 35)]"
   ]
  },
  {
   "cell_type": "code",
   "execution_count": 62,
   "metadata": {},
   "outputs": [
    {
     "name": "stdout",
     "output_type": "stream",
     "text": [
      "[1, 4, 5, 8, 9]\n"
     ]
    }
   ],
   "source": [
    "data = [9, 1, 8, 5, 4]\n",
    "data.sort()\n",
    "print(data) # [1, 4, 5, 8, 9]"
   ]
  },
  {
   "cell_type": "code",
   "execution_count": null,
   "metadata": {},
   "outputs": [],
   "source": []
  }
 ],
 "metadata": {
  "kernelspec": {
   "display_name": "Python 3",
   "language": "python",
   "name": "python3"
  },
  "language_info": {
   "codemirror_mode": {
    "name": "ipython",
    "version": 3
   },
   "file_extension": ".py",
   "mimetype": "text/x-python",
   "name": "python",
   "nbconvert_exporter": "python",
   "pygments_lexer": "ipython3",
   "version": "3.8.5"
  }
 },
 "nbformat": 4,
 "nbformat_minor": 4
}
