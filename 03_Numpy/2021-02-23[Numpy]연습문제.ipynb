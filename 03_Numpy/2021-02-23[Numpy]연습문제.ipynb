{
 "cells": [
  {
   "cell_type": "code",
   "execution_count": null,
   "metadata": {},
   "outputs": [],
   "source": [
    "import numpy as np"
   ]
  },
  {
   "cell_type": "markdown",
   "metadata": {},
   "source": [
    "# [1번]\n",
    "> 10, 7, 5, 90, 100 을 가지는 1차원 배열을 생성."
   ]
  },
  {
   "cell_type": "code",
   "execution_count": null,
   "metadata": {},
   "outputs": [],
   "source": [
    "a1 = np.array([10, 7, 5, 90, 100])\n",
    "a1 # array([ 10,   7,   5,  90, 100])"
   ]
  },
  {
   "cell_type": "markdown",
   "metadata": {},
   "source": [
    "#  [2번]\n",
    "> 100 ~ 200 범위의 숫자중 짝수를 가지는 배열을 생성."
   ]
  },
  {
   "cell_type": "code",
   "execution_count": null,
   "metadata": {},
   "outputs": [],
   "source": [
    "a2 = np.arange(100,201,2)\n",
    "a2.shape #(51,)\n",
    "a2\n",
    "\n",
    "array([100, 102, 104, 106, 108, 110, 112, 114, 116, 118, 120, 122, 124,\n",
    "       126, 128, 130, 132, 134, 136, 138, 140, 142, 144, 146, 148, 150,\n",
    "       152, 154, 156, 158, 160, 162, 164, 166, 168, 170, 172, 174, 176,\n",
    "       178, 180, 182, 184, 186, 188, 190, 192, 194, 196, 198, 200])"
   ]
  },
  {
   "cell_type": "markdown",
   "metadata": {},
   "source": [
    "#  [3번] \n",
    "> 2번에서 생성한 배열과 동일한 shape에 0을 원소로 가지는 배열 생성."
   ]
  },
  {
   "cell_type": "code",
   "execution_count": null,
   "metadata": {},
   "outputs": [],
   "source": [
    "#방법1 \n",
    "a3 = np.zeros_like(a2) \n",
    "\n",
    "# 방법2 \n",
    "a3 = np.zeros(shape = a2.shape) \n",
    "\n",
    "# 방법3 \n",
    "a3 = np.linspace(100,200,num = 51) \n",
    "\n",
    "a3.shape # (51,)"
   ]
  },
  {
   "cell_type": "markdown",
   "metadata": {},
   "source": [
    "#  [4번] \n",
    "> 1001 ~ 10000 범위의 정수 중 100의 배수만 가지는 3차원 배열을 생성. (shape은 상관없음.)"
   ]
  },
  {
   "cell_type": "code",
   "execution_count": null,
   "metadata": {},
   "outputs": [],
   "source": [
    "a4 = np.arange(1001,10001,100).reshape(10,3,3)\n",
    "len(a4) # 90\n",
    "a4"
   ]
  },
  {
   "cell_type": "markdown",
   "metadata": {},
   "source": [
    "#  [5번]\n",
    "> (4,4) 형태의 단위행렬(항등행렬)을 생성."
   ]
  },
  {
   "cell_type": "code",
   "execution_count": null,
   "metadata": {},
   "outputs": [],
   "source": [
    "a5 = np.identity(4)\n",
    "a5\n",
    "\n",
    "array([[1., 0., 0., 0.],\n",
    "       [0., 1., 0., 0.],\n",
    "       [0., 0., 1., 0.],\n",
    "       [0., 0., 0., 1.]])"
   ]
  },
  {
   "cell_type": "markdown",
   "metadata": {},
   "source": [
    "#  [6번] \n",
    "> 다음 값을 가지는 배열을 생성하고 배열의 차원수(rank)와 형태, 총 원소(element)의 개수를 조회.      \n",
    "> [[20, 90, 80, 100, -20, 30], [50, -10, 25, 120, -40, 90]]"
   ]
  },
  {
   "cell_type": "code",
   "execution_count": null,
   "metadata": {},
   "outputs": [],
   "source": [
    "a6 = np.array([[20, 90, 80, 100, -20, 30], [50, -10, 25, 120, -40, 90]])\n",
    "print(a6.ndim) # 차원수 : 2\n",
    "print(a6.shape) # 형태 : (2,6)\n",
    "print(a6.size) # 원소의 개수 : 12\n",
    "print(a6.dtype) # 타입 : int32 "
   ]
  },
  {
   "cell_type": "markdown",
   "metadata": {},
   "source": [
    "#  [7번]\n",
    "> 정규분포를 따르는 난수를 가지는 (3,2,7) 형태의 배열을 생성."
   ]
  },
  {
   "cell_type": "code",
   "execution_count": null,
   "metadata": {},
   "outputs": [],
   "source": [
    "a7 = np.random.normal(size = (3, 2, 7)) # 평균 \n",
    "a7"
   ]
  },
  {
   "cell_type": "markdown",
   "metadata": {},
   "source": [
    "#  [8번]\n",
    "> 1 ~ 100 사이의 정수 난수를 가지는 (4, 5) 형태의 배열을 생성한 뒤 arr.npy 파일로 저장."
   ]
  },
  {
   "cell_type": "code",
   "execution_count": null,
   "metadata": {},
   "outputs": [],
   "source": [
    "a8 = np.random.randint(1,101,(4,5))\n",
    "np.save('arr.npy',a8)\n",
    "a8\n",
    "\n",
    "array([[ 26, 100,  46,  86,  98],\n",
    "       [100,  20,  18,  92,  82],\n",
    "       [ 79,  53,  22,  34,   5],\n",
    "       [ 75,  95,  48,  92,  79]])"
   ]
  },
  {
   "cell_type": "code",
   "execution_count": null,
   "metadata": {},
   "outputs": [],
   "source": [
    "# backup 폴더가 없으면 생성해서 backup폴더에 저장\n",
    "import os \n",
    "if not os.path.isdir('backup') : \n",
    "    os.mkdir('backup')\n",
    "np.save('arr.npy',a8)"
   ]
  },
  {
   "cell_type": "markdown",
   "metadata": {},
   "source": [
    "#  [9번]\n",
    "> 8번에서 저장한 arr.npy 의 배열을 불러와서 출력."
   ]
  },
  {
   "cell_type": "code",
   "execution_count": null,
   "metadata": {},
   "outputs": [],
   "source": [
    "a9 = np.load('arr.npy')\n",
    "a9\n",
    "\n",
    "array([[ 26, 100,  46,  86,  98],\n",
    "       [100,  20,  18,  92,  82],\n",
    "       [ 79,  53,  22,  34,   5],\n",
    "       [ 75,  95,  48,  92,  79]])"
   ]
  },
  {
   "cell_type": "markdown",
   "metadata": {},
   "source": [
    "#  [10번]\n",
    "> 9번에서 불러온 배열에서 전체 값의 총합, 0번축 기준의 총합, 1번축 기준의 총합을 구하기."
   ]
  },
  {
   "cell_type": "code",
   "execution_count": null,
   "metadata": {},
   "outputs": [],
   "source": [
    "np.sum(a9)\n",
    "np.sum(a9, axis = 0)\n",
    "np.sum(a9, axis = 1)\n",
    "\n",
    "array([356, 312, 193, 389])"
   ]
  },
  {
   "cell_type": "markdown",
   "metadata": {},
   "source": [
    "#  [11번]\n",
    "> 임의의 Boolean 값을 가지는 (5, 10) 배열을 생성하고 True의 개수를 출력하시오."
   ]
  },
  {
   "cell_type": "code",
   "execution_count": null,
   "metadata": {},
   "outputs": [],
   "source": [
    "#방법 1 \n",
    "a11_1 = np.random.choice([True, False], size = (5,10))\n",
    "print(a11_1)\n",
    "print(np.sum(a11_1))\n",
    "\n",
    "#방법 2 \n",
    "a11_2 = np.random.randint(0,2, size = (5, 10), dtype = bool)\n",
    "print(a11_2)\n",
    "print(np.sum(a11_2))"
   ]
  },
  {
   "cell_type": "markdown",
   "metadata": {},
   "source": [
    "#  [12-17번]\n",
    "> - 아래 배열을 생성하고 12번 ~ 17번 문제는 아래 조건으로 생성한 배열을 가지고 푸세요.     \n",
    "> 0 ~ 29 범위의 정수를 원소로 가지는 (5,6) 의 배열을 생성하고 변수에 저장.        "
   ]
  },
  {
   "cell_type": "code",
   "execution_count": null,
   "metadata": {},
   "outputs": [],
   "source": [
    "arr = np.arange(0,30).reshape(5,6)\n",
    "arr\n",
    "\n",
    "array([[ 0,  1,  2,  3,  4,  5],\n",
    "       [ 6,  7,  8,  9, 10, 11],\n",
    "       [12, 13, 14, 15, 16, 17],\n",
    "       [18, 19, 20, 21, 22, 23],\n",
    "       [24, 25, 26, 27, 28, 29]])"
   ]
  },
  {
   "cell_type": "markdown",
   "metadata": {},
   "source": [
    "12. index (1,1), (2,3), (1,5)의 값들 조회           "
   ]
  },
  {
   "cell_type": "code",
   "execution_count": null,
   "metadata": {},
   "outputs": [],
   "source": [
    "arr[[1, 2, 1],[1, 3, 5]]\n",
    "\n",
    "array([ 7, 15, 11])"
   ]
  },
  {
   "cell_type": "markdown",
   "metadata": {},
   "source": [
    "13. index (1,1), (1,2), (1,3), (2,1), (2,2), (2,3), (3,1), (3,2), (3,3)의 값들을 조회. "
   ]
  },
  {
   "cell_type": "code",
   "execution_count": null,
   "metadata": {},
   "outputs": [],
   "source": [
    "arr[1:4, 1:4]\n",
    "\n",
    "array([[ 7,  8,  9],\n",
    "       [13, 14, 15],\n",
    "       [19, 20, 21]])"
   ]
  },
  {
   "cell_type": "markdown",
   "metadata": {},
   "source": [
    "14. 13와 같은 index의 값들을 뒤집어서(reversing) 조회.       "
   ]
  },
  {
   "cell_type": "code",
   "execution_count": null,
   "metadata": {},
   "outputs": [],
   "source": [
    "arr[3:0:-1, 3:0:-1]\n",
    "\n",
    "array([[21, 20, 19],\n",
    "       [15, 14, 13],\n",
    "       [ 9,  8,  7]])"
   ]
  },
  {
   "cell_type": "markdown",
   "metadata": {},
   "source": [
    "15. 배열에서 15 이상의 원소만 조회해서 그 평균을 출력.     "
   ]
  },
  {
   "cell_type": "code",
   "execution_count": null,
   "metadata": {},
   "outputs": [],
   "source": [
    "np.mean(arr[arr >= 15]) # 22.0 "
   ]
  },
  {
   "cell_type": "markdown",
   "metadata": {},
   "source": [
    "16. 배열에서 15이상의 원소들의 index를 조회. (0축 index, 1축 index) 형식으로 출력.       \n",
    "    ex: (0,0), (0,1) 식으로 출력"
   ]
  },
  {
   "cell_type": "code",
   "execution_count": null,
   "metadata": {},
   "outputs": [],
   "source": [
    "indics = np.where(arr >= 15)\n",
    "for idx in zip(indics[0], indics[1]) : #zip(배열, 배열): 한번 반복시마다 두 배열의 같은 index의 값을 tuple로 묶어서 반환\n",
    "    print(idx, end = ' ')\n",
    "    \n",
    "(2, 3) (2, 4) (2, 5) (3, 0) (3, 1) (3, 2) (3, 3) (3, 4) (3, 5) (4, 0) (4, 1) (4, 2) (4, 3) (4, 4) (4, 5) "
   ]
  },
  {
   "cell_type": "markdown",
   "metadata": {},
   "source": [
    "17. 배열을 axis 1을 기준으로 내림차순으로 정렬. \n",
    "<!-- [[ 5,  4,  3,  2,  1,  0],\n",
    " [11, 10,  9,  8,  7,  6],\n",
    " [17, 16, 15, 14, 13, 12],\n",
    " [23, 22, 21, 20, 19, 18],\n",
    " [29, 28, 27, 26, 25, 24]]    -->"
   ]
  },
  {
   "cell_type": "code",
   "execution_count": null,
   "metadata": {},
   "outputs": [],
   "source": [
    "np.sort(arr,axis = 1)[::-1,] "
   ]
  },
  {
   "cell_type": "markdown",
   "metadata": {},
   "source": [
    "# [18-21번] \n",
    "> - 아래 배열을 생성하고 18번 ~ 21번 문제는 아래 조건으로 생성한 배열을 가지고 푸세요.    \n",
    "(3, 2) shape의 배열을 생성 하시오.          "
   ]
  },
  {
   "cell_type": "code",
   "execution_count": null,
   "metadata": {},
   "outputs": [],
   "source": [
    "arr = np.arange(6).reshape(3,2)\n",
    "arr.shape"
   ]
  },
  {
   "cell_type": "markdown",
   "metadata": {},
   "source": [
    "18. 배열의 shape을 (1, 3, 2) 로 변환한 배열을 생성.      "
   ]
  },
  {
   "cell_type": "code",
   "execution_count": null,
   "metadata": {},
   "outputs": [],
   "source": [
    "# 방법 1 \n",
    "r1 = arr[np.newaxis,:]\n",
    "r1.shape\n",
    "\n",
    "# 방법 2 \n",
    "r2 = arr[np.newaxis, ...]\n",
    "r2.shape\n",
    "\n",
    "# 방법 3 \n",
    "r3 = arr.reshape(1, 3, 2)\n",
    "r3.shape\n",
    "\n",
    "# 방법 4 \n",
    "r4 = np.expand_dims(arr, axis = 0)\n",
    "r4.shape"
   ]
  },
  {
   "cell_type": "markdown",
   "metadata": {},
   "source": [
    "19. 배열의 shape을 (1, 3, 2, 1) 로 변환한 배열을 생성.       "
   ]
  },
  {
   "cell_type": "code",
   "execution_count": null,
   "metadata": {},
   "outputs": [],
   "source": [
    "# 방법 1\n",
    "r1 = arr[np.newaxis,...,np.newaxis]\n",
    "r1.shape\n",
    "\n",
    "# 방법 2 \n",
    "r2 = arr[np.newaxis,:,np.newaxis]\n",
    "r2.shape\n",
    "\n",
    "# 방법 3 \n",
    "r3 = arr.reshape(1, 3, 2, 1)\n",
    "r3.shape\n",
    "\n",
    "# 방법 4 \n",
    "r4 = np.expand_dims(arr, axis = [0,3])\n",
    "r4.shape"
   ]
  },
  {
   "cell_type": "markdown",
   "metadata": {},
   "source": [
    "20. 배열을 1차원 배열로 변환한 배열을 생성.    "
   ]
  },
  {
   "cell_type": "code",
   "execution_count": null,
   "metadata": {},
   "outputs": [],
   "source": [
    "a20 = arr.flatten()\n",
    "a20.shape # (6,)"
   ]
  },
  {
   "cell_type": "markdown",
   "metadata": {},
   "source": [
    "21. 배열의 0번 축에 2개의 값을 추가. (추가된 배열의 shape: (5,2))     "
   ]
  },
  {
   "cell_type": "code",
   "execution_count": null,
   "metadata": {},
   "outputs": [],
   "source": [
    "a21 = np.append(arr, [[60, 70], [80, 90]], axis = 0)\n",
    "a21.shape"
   ]
  },
  {
   "cell_type": "markdown",
   "metadata": {},
   "source": [
    "# [22-28번] \n",
    "> - 다음 배열은 5명 학생의 국어, 영어, 수학, 과학 시험 점수이다. 행(axis=0)은 각 학생의 시험점수이고 컬럼(axis=1)은 과목을 가리킨다.      \n",
    "> [[ 60,  80,  60, 100], [ 80,  80,  90,  90],[ 90,  60,  70,  50],[ 40,  80,  60,  50],[ 60,  50,  70, 100]]   "
   ]
  },
  {
   "cell_type": "code",
   "execution_count": null,
   "metadata": {},
   "outputs": [],
   "source": [
    "score = np.array([\n",
    " [ 60,  80,  60, 100],\n",
    " [ 80,  80,  90,  90],\n",
    " [ 90,  60,  70,  50],\n",
    " [ 40,  80,  60,  50],\n",
    " [ 60,  50,  70, 100]\n",
    "])"
   ]
  },
  {
   "cell_type": "markdown",
   "metadata": {},
   "source": [
    "22. 각 과목별 평균점수를 조회."
   ]
  },
  {
   "cell_type": "code",
   "execution_count": null,
   "metadata": {},
   "outputs": [],
   "source": [
    "mean_score = np.mean(score, axis = 0)\n",
    "mean_score # array([66., 70., 70., 78.])"
   ]
  },
  {
   "cell_type": "markdown",
   "metadata": {},
   "source": [
    "23. 각 과목별 평균 점수를 성적 배열에 추가. "
   ]
  },
  {
   "cell_type": "code",
   "execution_count": null,
   "metadata": {},
   "outputs": [],
   "source": [
    "np.append(score, [mean_score], axis = 0)\n",
    "\n",
    "np.append(score, [np.mean(score, axis = 0)], axis = 0)\n",
    "\n",
    "array([[ 60.,  80.,  60., 100.],\n",
    "       [ 80.,  80.,  90.,  90.],\n",
    "       [ 90.,  60.,  70.,  50.],\n",
    "       [ 40.,  80.,  60.,  50.],\n",
    "       [ 60.,  50.,  70., 100.],\n",
    "       [ 66.,  70.,  70.,  78.]])"
   ]
  },
  {
   "cell_type": "markdown",
   "metadata": {},
   "source": [
    "24. 각 학생들의 평균 점수 조회"
   ]
  },
  {
   "cell_type": "code",
   "execution_count": null,
   "metadata": {},
   "outputs": [],
   "source": [
    "np.mean(score, axis = 1)\n",
    "np.mean(score, axis = 1, keepdims = True)\n",
    "\n",
    "array([[75. ],\n",
    "       [85. ],\n",
    "       [67.5],\n",
    "       [57.5],\n",
    "       [70. ]])"
   ]
  },
  {
   "cell_type": "markdown",
   "metadata": {},
   "source": [
    "25. 과목별로 몇번째 학생의 성적이 가장 높은지 조회"
   ]
  },
  {
   "cell_type": "code",
   "execution_count": null,
   "metadata": {},
   "outputs": [],
   "source": [
    "np.argmax(score, axis = 0) + 1 # 인덱스 0부터 시작하니 +1 해줘야 n번째 학생\n",
    "array([3, 1, 2, 1], dtype=int64) # 국어 : 3번째학생, 영어 : 1번째 학생, 수학 :2번째 학생 , 과학 :1번째 학생  "
   ]
  },
  {
   "cell_type": "markdown",
   "metadata": {},
   "source": [
    "26. 학생별로 어떤 과목의 점수가 가장 낮은지 조회."
   ]
  },
  {
   "cell_type": "code",
   "execution_count": null,
   "metadata": {},
   "outputs": [],
   "source": [
    "np.argmin(score, axis = 1) # array([0, 0, 3, 0, 1], dtype=int64)\n",
    "subject[np.argmin(score, axis = 1)] # array(['국어', '국어', '과학', '국어', '영어'], dtype='<U2')"
   ]
  },
  {
   "cell_type": "markdown",
   "metadata": {},
   "source": [
    "27. 각 과목별로 편차가 가장 적은 과목과 가장 큰 과목을 조회"
   ]
  },
  {
   "cell_type": "code",
   "execution_count": null,
   "metadata": {},
   "outputs": [],
   "source": [
    "std_score = np.std(score, axis=0) # 과목별 편차 : [17.43559577 12.64911064 10.95445115 23.15167381]\n",
    "\n",
    "argmax_std = np.argmax(std_score) # 편차가 가장 큰 과목 : 3\n",
    "argmin_std = np.argmin(std_score) # 편차가 가장 작은 과목 : 2\n",
    "\n",
    "subject[[argmax_std, argmin_std]] # 과목명으로 출력 :['과학' '수학']"
   ]
  },
  {
   "cell_type": "markdown",
   "metadata": {},
   "source": [
    "28. 학생들 중 과목간의 점수의 편차가 가장 적은 학생을 조회"
   ]
  },
  {
   "cell_type": "code",
   "execution_count": null,
   "metadata": {},
   "outputs": [],
   "source": [
    "std_score_stu = np.std(score, axis = 1) # 학생별 편차 : array([16.58312395,  5.        , 14.79019946, 14.79019946, 18.70828693])\n",
    "\n",
    "argmax_std_stu = np.argmax(std_score_stu) # 편차가 가장 큰 학생 : 4\n",
    "argmin_std_stu = np.argmin(std_score_stu) # 편차가 가장 작은 학생 : 1"
   ]
  },
  {
   "cell_type": "markdown",
   "metadata": {},
   "source": [
    "# [29-30번] \n",
    "> - 다음 두 배열을 가지고 29,30번 문제를 푸세요.      \n",
    "> A: [[1,2,3],[4,5,6],[7,8,9]]         \n",
    "> B: [[10,20,30],[40,50,60],[70,80,90]]         "
   ]
  },
  {
   "cell_type": "code",
   "execution_count": null,
   "metadata": {},
   "outputs": [],
   "source": [
    "A = np.array([[1,2,3],[4,5,6],[7,8,9]])\n",
    "B = np.array([[10,20,30],[40,50,60],[70,80,90]])"
   ]
  },
  {
   "cell_type": "markdown",
   "metadata": {},
   "source": [
    "29. 두 배열을 수직방향으로 합치기.      "
   ]
  },
  {
   "cell_type": "code",
   "execution_count": null,
   "metadata": {},
   "outputs": [],
   "source": [
    "# 방법 1 \n",
    "C = np.concatenate([A, B], axis = 0)\n",
    "\n",
    "# 방법 2 \n",
    "C = np.vstack([A, B])\n",
    "\n",
    "array([[ 1,  2,  3],\n",
    "       [ 4,  5,  6],\n",
    "       [ 7,  8,  9],\n",
    "       [10, 20, 30],\n",
    "       [40, 50, 60],\n",
    "       [70, 80, 90]])"
   ]
  },
  {
   "cell_type": "markdown",
   "metadata": {},
   "source": [
    "30. 29에서 합친 배열을 수평방향으로 index 2를 기준으로 나누기.        "
   ]
  },
  {
   "cell_type": "code",
   "execution_count": null,
   "metadata": {},
   "outputs": [],
   "source": [
    "# 방법 1 \n",
    "D = np.split(C, [2], axis = 1)\n",
    "\n",
    "# 방법 2 \n",
    "D = np.hsplit(C, [2])\n",
    "\n",
    "[array([[ 1,  2],\n",
    "        [ 4,  5],\n",
    "        [ 7,  8],\n",
    "        [10, 20],\n",
    "        [40, 50],\n",
    "        [70, 80]]),\n",
    " array([[ 3],\n",
    "        [ 6],\n",
    "        [ 9],\n",
    "        [30],\n",
    "        [60],\n",
    "        [90]])]"
   ]
  },
  {
   "cell_type": "markdown",
   "metadata": {},
   "source": [
    "# [31-32번] \n",
    "> - 다음은 7명의 학생의 점수이다. 배열을 생성한뒤 33번 ~ 35번 문제를 푸세요.        \n",
    "> [10, 50, 75, 20, 70, 50, 80]     "
   ]
  },
  {
   "cell_type": "code",
   "execution_count": null,
   "metadata": {},
   "outputs": [],
   "source": [
    "score = np.array([10, 50, 75, 20, 70, 50, 80])"
   ]
  },
  {
   "cell_type": "markdown",
   "metadata": {},
   "source": [
    "31. 다음 배열에서 평균 이상의 점수를 받은 학생이 몇명인지 조회       "
   ]
  },
  {
   "cell_type": "code",
   "execution_count": null,
   "metadata": {},
   "outputs": [],
   "source": [
    "# score[score >= np.mean(score)] # 평균 이상의 점수 \n",
    "\n",
    "# 방법 1 \n",
    "np.sum([score >= np.mean(score)])\n",
    "\n",
    "# 방법 2 \n",
    "len(score[score >= np.mean(score)])\n",
    "\n",
    "# 방법 3 \n",
    "score[score >= np.mean(score)].size"
   ]
  },
  {
   "cell_type": "markdown",
   "metadata": {},
   "source": [
    "32. 다음 배열에서 평균 이상의 점수를 받은 학생이 전체 학생 중 몇명인지 비율을 조회.        "
   ]
  },
  {
   "cell_type": "code",
   "execution_count": null,
   "metadata": {},
   "outputs": [],
   "source": [
    "np.mean(score >= np.mean(score)) * 100 # 42.857142857142854"
   ]
  },
  {
   "cell_type": "markdown",
   "metadata": {},
   "source": [
    "# [33-35번] \n",
    "> - 다음 배열은 스무명의 사람들의 연봉의 표본이다.(단위 만원)          \n",
    "> 배열을 생성한뒤 33번 ~ 35번 문제를 푸세요.            \n",
    "> [7650, 4210, 7260, 8020, 8200, 8740, 4960, 1420,5410, 9770, 2370, 7960, 8960, 2660, 7940, 5120,7100, 5220, 8810, 253000]     "
   ]
  },
  {
   "cell_type": "code",
   "execution_count": null,
   "metadata": {},
   "outputs": [],
   "source": [
    "salary = np.array([7650, 4210, 7260, 8020, 8200, 8740, 4960, 1420,5410, 9770, 2370, 7960, 8960, 2660, 7940, 5120,7100, 5220, 8810, 253000])"
   ]
  },
  {
   "cell_type": "markdown",
   "metadata": {},
   "source": [
    "33. 위 배열에서 상위 75% 는 얼마 이상을 받는지 조회.     "
   ]
  },
  {
   "cell_type": "code",
   "execution_count": null,
   "metadata": {},
   "outputs": [],
   "source": [
    "np.quantile(salary, q = 0.75) # 8335.0"
   ]
  },
  {
   "cell_type": "markdown",
   "metadata": {},
   "source": [
    "34. 위 배열에서 하위 25%는 얼마 이하를 받는지 조회.       "
   ]
  },
  {
   "cell_type": "code",
   "execution_count": null,
   "metadata": {},
   "outputs": [],
   "source": [
    "np.quantile(salary, q = 0.25) # 5080.0"
   ]
  },
  {
   "cell_type": "markdown",
   "metadata": {},
   "source": [
    "35. 위 배열의 평균과 중앙값을 구하고 배열의 대푯값으로 어떤 것을 사용하는 것이 맞는지 적으세요.        "
   ]
  },
  {
   "cell_type": "code",
   "execution_count": null,
   "metadata": {},
   "outputs": [],
   "source": [
    "salary_mean = np.mean(salary) # 평균값 :18739.0\n",
    "salary_median = np.median(salary) # 중앙값 : 7455.0"
   ]
  },
  {
   "cell_type": "code",
   "execution_count": null,
   "metadata": {},
   "outputs": [],
   "source": [
    "# 평균 > 중앙값 \n",
    "# 평균 < 중앙값 \n",
    "# 많이 차이가 나는 경우 : 극단값이 있는 배열에서는 대푯값을 중앙값으로 사용한다. \n",
    "np.sort(salary)\n",
    "array([  1420,   2370,   2660,   4210,   4960,   5120,   5220,   5410,\n",
    "         7100,   7260,   7650,   7940,   7960,   8020,   8200,   8740,\n",
    "         8810,   8960,   9770, 253000])"
   ]
  }
 ],
 "metadata": {
  "kernelspec": {
   "display_name": "Python 3",
   "language": "python",
   "name": "python3"
  },
  "language_info": {
   "codemirror_mode": {
    "name": "ipython",
    "version": 3
   },
   "file_extension": ".py",
   "mimetype": "text/x-python",
   "name": "python",
   "nbconvert_exporter": "python",
   "pygments_lexer": "ipython3",
   "version": "3.8.5"
  }
 },
 "nbformat": 4,
 "nbformat_minor": 4
}
