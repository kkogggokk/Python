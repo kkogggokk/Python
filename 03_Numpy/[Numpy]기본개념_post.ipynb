{
 "cells": [
  {
   "cell_type": "code",
   "execution_count": null,
   "metadata": {},
   "outputs": [],
   "source": []
  },
  {
   "cell_type": "markdown",
   "metadata": {},
   "source": [
    "# Unit01.추가해야함"
   ]
  },
  {
   "cell_type": "code",
   "execution_count": null,
   "metadata": {},
   "outputs": [],
   "source": [
    "import numpy as np"
   ]
  },
  {
   "cell_type": "code",
   "execution_count": null,
   "metadata": {},
   "outputs": [],
   "source": []
  },
  {
   "cell_type": "markdown",
   "metadata": {},
   "source": [
    "# Unit02.배열의 생성과 변형"
   ]
  },
  {
   "cell_type": "markdown",
   "metadata": {},
   "source": [
    "## 2.1 넘파이 자료형\n",
    "- 넘파이 배열 ndarray클래스는 원소가 모두 **같은 자료형**\n",
    "- array명령으로 배열을 만들 때 자료형을 명시적으로 적용하려면 dtype인수를 사용 \n",
    "- 만약 dtype인수가 없으면 주어진 데이터를 저장할수 있는 자료형을 유추\n",
    "- 배열의 자료형을 보려면 dtype속성 사용 \n",
    "\n",
    "- #TODO : 그림 자료 추가 "
   ]
  },
  {
   "cell_type": "code",
   "execution_count": null,
   "metadata": {},
   "outputs": [],
   "source": [
    "x = np.array([1, 2, 3])\n",
    "x.dtype # dtype('int64')\n",
    "\n",
    "y = np.array([1.0, 2.0, 3.0])\n",
    "y.dtype # dtype('float64')\n",
    "\n",
    "z = np.array([1, 2, 3.0])\n",
    "z.dtype # dtype('float64')\n",
    "\n",
    "x = np.array([1, 2, 3], dtype = 'f')\n",
    "x.dtype # dtype('float32')\n",
    "x[0] + x[1] # 3.0\n",
    "\n",
    "y = np.array([1, 2, 3], dtype = 'U')\n",
    "y.dtype # dtype('<U1')\n",
    "y[0] + y[1] # '12' "
   ]
  },
  {
   "cell_type": "markdown",
   "metadata": {},
   "source": [
    "# TODO : 설명추가\n",
    "# 강사님 자료 추가"
   ]
  },
  {
   "cell_type": "markdown",
   "metadata": {},
   "source": [
    "## 2.2 Inf, Nan\n",
    "- inf : 넘파이에서 무한대를 표현\n",
    "    - 예를 들면, 1을 0으로 나누려고 하거나 0에 대한 로그 값을 계산하면 무한대인 np.inf가 나온다.\n",
    "- Nan : 정의할 수 없는 숫자 \n",
    "    - 예를 들면, 0을 0으로 나누려고 시도하면 np.Nan이 나온다."
   ]
  },
  {
   "cell_type": "code",
   "execution_count": null,
   "metadata": {},
   "outputs": [],
   "source": [
    "np.array([0, 1, -1, 0]) / np.array([1, 0, 0, 0]) # array([  0.,  inf, -inf,  nan])\n",
    "np.log(0) # -inf\n",
    "np.exp(-np.inf) # 0.0"
   ]
  },
  {
   "cell_type": "markdown",
   "metadata": {},
   "source": [
    "# TODO : 설명추가, 강사님 설명 추가"
   ]
  },
  {
   "cell_type": "markdown",
   "metadata": {},
   "source": [
    "## 2.3  배열 생성"
   ]
  },
  {
   "cell_type": "code",
   "execution_count": null,
   "metadata": {},
   "outputs": [],
   "source": []
  },
  {
   "cell_type": "code",
   "execution_count": null,
   "metadata": {},
   "outputs": [],
   "source": []
  },
  {
   "cell_type": "markdown",
   "metadata": {},
   "source": [
    "### 2.3.1 zeros\n",
    "- 크기가 정해져 있고 **모든 값이 0인 배열** 생성 \n",
    "- 인수로는 배열의 크기를 넣는다. \n",
    "- dtype 인수를 넣어 자료형 원소를 가진 배열 생성 \n",
    "- 문자열 배열도 가능하지만 모든 원소의 문자열의 크기가 같아야 한다.\n",
    "- 만약 더 큰 크기의 문자열 할당하면 잘릴 수 있다. "
   ]
  },
  {
   "cell_type": "code",
   "execution_count": null,
   "metadata": {},
   "outputs": [],
   "source": [
    "# 1차원 zeros\n",
    "a = np.zeros(5) \n",
    "\n",
    "# 다차원 zeros\n",
    "b = np.zeros((2, 3))\n",
    "\n",
    "# dtype 지정\n",
    "c = np.zeros((5, 2), dtype = 'i')\n",
    "\n",
    "# 문자열 지정 가능 \n",
    "d = np.zeros(5, dtype = 'U4')"
   ]
  },
  {
   "cell_type": "markdown",
   "metadata": {},
   "source": [
    "# todo : 설명, 강사님 자료 추가 "
   ]
  },
  {
   "cell_type": "markdown",
   "metadata": {},
   "source": [
    "### 2.3.2 ones\n",
    "- 1로 초기화된 배열 생성"
   ]
  },
  {
   "cell_type": "code",
   "execution_count": null,
   "metadata": {},
   "outputs": [],
   "source": [
    "e = np.ones((2, 3, 4), dtype = 'int')\n",
    "\n",
    "# [결과]\n",
    "# array([[[1, 1, 1, 1],\n",
    "#         [1, 1, 1, 1],\n",
    "#         [1, 1, 1, 1]],\n",
    "\n",
    "#        [[1, 1, 1, 1],\n",
    "#         [1, 1, 1, 1],\n",
    "#         [1, 1, 1, 1]]])"
   ]
  },
  {
   "cell_type": "code",
   "execution_count": null,
   "metadata": {},
   "outputs": [],
   "source": []
  },
  {
   "cell_type": "markdown",
   "metadata": {},
   "source": [
    "### 2.3.3 zeros_like\n",
    "- 크기를 튜플로 명시하지 않고 다른 배열과 같은 크기의 배열 생성 "
   ]
  },
  {
   "cell_type": "code",
   "execution_count": null,
   "metadata": {},
   "outputs": [],
   "source": [
    "f = np.zeros_like(b, dtype = 'f')\n",
    "\n",
    "# [결과]\n",
    "# array([[0., 0., 0.],\n",
    "#        [0., 0., 0.]], dtype=float32)"
   ]
  },
  {
   "cell_type": "code",
   "execution_count": null,
   "metadata": {},
   "outputs": [],
   "source": []
  },
  {
   "cell_type": "markdown",
   "metadata": {},
   "source": [
    "### 2.3.4 ones_like"
   ]
  },
  {
   "cell_type": "code",
   "execution_count": null,
   "metadata": {},
   "outputs": [],
   "source": []
  },
  {
   "cell_type": "code",
   "execution_count": null,
   "metadata": {},
   "outputs": [],
   "source": []
  },
  {
   "cell_type": "markdown",
   "metadata": {},
   "source": [
    "### 2.3.5 empty\n",
    "- 배열의 크기가 커지면 배열을 초기화 하는데도 시간이 걸린다.\n",
    "- 시간을 단축하려면 배열을 생성만 하고 특정한 값으로 초기화를 하지 않는 empty 명령을 사용할 수 있다.\n",
    "- empty명령으로 생선된 배열에는 기존에 메모리에 저장되어 있던 값이 있으므로 배열의 원소값을 미리 알 수 없다. "
   ]
  },
  {
   "cell_type": "code",
   "execution_count": null,
   "metadata": {},
   "outputs": [],
   "source": [
    "g = np.empty((4, 3))\n",
    "\n",
    "# [결과]\n",
    "# array([[2.68156159e+154, 2.68679050e+154, 2.96439388e-323],\n",
    "#        [0.00000000e+000, 2.12199579e-314, 2.42336543e-057],\n",
    "#        [7.42620238e-091, 1.33621713e+165, 8.26884811e-072],\n",
    "#        [5.24825413e+174, 3.99910963e+252, 9.03823221e-309]])"
   ]
  },
  {
   "cell_type": "code",
   "execution_count": null,
   "metadata": {},
   "outputs": [],
   "source": []
  },
  {
   "cell_type": "markdown",
   "metadata": {},
   "source": [
    "### 2.3.6 arange\n",
    "- np.arange(start, end, step) \n",
    "- 특정한 규칙에 따라 증가하는 수열 생성\n",
    "- 이때 end값은 포함하지 않는다."
   ]
  },
  {
   "cell_type": "code",
   "execution_count": null,
   "metadata": {},
   "outputs": [],
   "source": [
    "np.arange(10) # array([0, 1, 2, 3, 4, 5, 6, 7, 8, 9])\n",
    "np.arange(3, 21, 2) # array([ 3,  5,  7,  9, 11, 13, 15, 17, 19])"
   ]
  },
  {
   "cell_type": "code",
   "execution_count": null,
   "metadata": {},
   "outputs": [],
   "source": []
  },
  {
   "cell_type": "markdown",
   "metadata": {},
   "source": [
    "### 2.3.7 linspace\n",
    "- np.linspace(start, end, step)\n",
    "- 선형구간을 지정한 구간의 수만큼 분할한다. \n",
    "- 이때 끝값은 포함한다. "
   ]
  },
  {
   "cell_type": "code",
   "execution_count": null,
   "metadata": {},
   "outputs": [],
   "source": [
    "np.linspace(0, 100, 5) # array([  0.,  25.,  50.,  75., 100.])"
   ]
  },
  {
   "cell_type": "code",
   "execution_count": null,
   "metadata": {},
   "outputs": [],
   "source": []
  },
  {
   "cell_type": "markdown",
   "metadata": {},
   "source": [
    "### 2.3.8 logspace\n",
    "- 로그구간을 지정한 구간의 수만큼 분할"
   ]
  },
  {
   "cell_type": "code",
   "execution_count": null,
   "metadata": {},
   "outputs": [],
   "source": [
    "np.logspace(0.1, 1, 10)\n",
    "\n",
    "# [결과]\n",
    "# array([ 1.25892541,  1.58489319,  1.99526231,  2.51188643,  3.16227766,\n",
    "#         3.98107171,  5.01187234,  6.30957344,  7.94328235, 10.        ])"
   ]
  },
  {
   "cell_type": "markdown",
   "metadata": {},
   "source": [
    "### 2.3.9 full"
   ]
  },
  {
   "cell_type": "code",
   "execution_count": null,
   "metadata": {},
   "outputs": [],
   "source": []
  },
  {
   "cell_type": "code",
   "execution_count": null,
   "metadata": {},
   "outputs": [],
   "source": []
  },
  {
   "cell_type": "markdown",
   "metadata": {},
   "source": [
    "### 2.3.10 eye"
   ]
  },
  {
   "cell_type": "code",
   "execution_count": null,
   "metadata": {},
   "outputs": [],
   "source": []
  },
  {
   "cell_type": "markdown",
   "metadata": {},
   "source": [
    "## 2.4 전치연산\n",
    "- 배열의 전치연산(transpose) : 행과 열을 바꾸는 작업\n",
    "- 이는 배열의 T속성으로 구할 수 있다."
   ]
  },
  {
   "cell_type": "code",
   "execution_count": null,
   "metadata": {},
   "outputs": [],
   "source": [
    "A = np.array([[1, 2, 3],[4, 5, 6]])\n",
    "\n",
    "A\n",
    "# [결과]\n",
    "# array([[1, 2, 3],\n",
    "#        [4, 5, 6]])\n",
    "\n",
    "A.T\n",
    "# [결과]\n",
    "# array([[1, 4],\n",
    "#        [2, 5],\n",
    "#        [3, 6]])"
   ]
  },
  {
   "cell_type": "markdown",
   "metadata": {},
   "source": [
    "## 2.5 배열의 형태 변경\n",
    "- 배열의 내부데이터는 보존한 채로 형태만 바꾸려면 reshape명령이나 메서드를 사용한다. "
   ]
  },
  {
   "cell_type": "markdown",
   "metadata": {},
   "source": [
    "### 2.5.1 reshape\n",
    "- 사용하는 원소의 갯수가 정해져있기 때문에 reshape명령의 형태\n",
    "- -1를 통해 나머지 reshape 값을 계산하여 형태를 만들어 준다. "
   ]
  },
  {
   "cell_type": "code",
   "execution_count": null,
   "metadata": {},
   "outputs": [],
   "source": [
    "a = np.arange(12)\n",
    "a.size # (12,)\n",
    "\n",
    "a1 = a.reshape(3, -1)\n",
    "a1.shape # (3, 4)\n",
    "a1\n",
    "\n",
    "# [결과]\n",
    "# array([[ 0,  1,  2,  3],\n",
    "#        [ 4,  5,  6,  7],\n",
    "#        [ 8,  9, 10, 11]])\n",
    "\n",
    "a2 = a.reshape(2, 2, -1)\n",
    "a2.shape # (2, 2, 3)\n",
    "a2\n",
    "\n",
    "# [결과]\n",
    "# array([[[ 0,  1,  2],\n",
    "#         [ 3,  4,  5]],\n",
    "#        [[ 6,  7,  8],\n",
    "#         [ 9, 10, 11]]])\n",
    "\n",
    "a3 = a.reshape(2, -1, 3)\n",
    "a3.shape # (2, 2, 3)\n",
    "a3\n",
    "\n",
    "# [결과]\n",
    "# array([[[ 0,  1,  2],\n",
    "#         [ 3,  4,  5]],\n",
    "#        [[ 6,  7,  8],\n",
    "#         [ 9, 10, 11]]])"
   ]
  },
  {
   "cell_type": "code",
   "execution_count": null,
   "metadata": {},
   "outputs": [],
   "source": []
  },
  {
   "cell_type": "markdown",
   "metadata": {},
   "source": []
  },
  {
   "cell_type": "markdown",
   "metadata": {},
   "source": [
    "## 2.6 차원 늘리기(확대)"
   ]
  },
  {
   "cell_type": "markdown",
   "metadata": {},
   "source": [
    "### 2.6.1 newaxis"
   ]
  },
  {
   "cell_type": "code",
   "execution_count": null,
   "metadata": {},
   "outputs": [],
   "source": []
  },
  {
   "cell_type": "code",
   "execution_count": null,
   "metadata": {},
   "outputs": [],
   "source": []
  },
  {
   "cell_type": "markdown",
   "metadata": {},
   "source": [
    "### 2.6.2 expand_dims"
   ]
  },
  {
   "cell_type": "code",
   "execution_count": null,
   "metadata": {},
   "outputs": [],
   "source": []
  },
  {
   "cell_type": "code",
   "execution_count": null,
   "metadata": {},
   "outputs": [],
   "source": []
  },
  {
   "cell_type": "code",
   "execution_count": null,
   "metadata": {},
   "outputs": [],
   "source": []
  },
  {
   "cell_type": "markdown",
   "metadata": {},
   "source": [
    "## 2.7 차원 줄이기(축소)"
   ]
  },
  {
   "cell_type": "markdown",
   "metadata": {},
   "source": [
    "### 2.7.1 squeeze"
   ]
  },
  {
   "cell_type": "code",
   "execution_count": null,
   "metadata": {},
   "outputs": [],
   "source": []
  },
  {
   "cell_type": "code",
   "execution_count": null,
   "metadata": {},
   "outputs": [],
   "source": []
  },
  {
   "cell_type": "markdown",
   "metadata": {},
   "source": [
    "### 2.7.2 flatten, ravel\n",
    "- 다차원 배열을 무조건 1차원으로 만들기 위해서 flatten 이나 ravel 메서드를 사용한다."
   ]
  },
  {
   "cell_type": "code",
   "execution_count": null,
   "metadata": {},
   "outputs": [],
   "source": [
    "a = np.arange(12).reshape(3,4)\n",
    "a\n",
    "# array([[ 0,  1,  2,  3],\n",
    "#        [ 4,  5,  6,  7],\n",
    "#        [ 8,  9, 10, 11]])\n",
    "\n",
    "b = a.flatten()\n",
    "print(b) # [ 0  1  2  3  4  5  6  7  8  9 10 11]\n",
    "\n",
    "c = a.ravel()\n",
    "print(c) # [ 0  1  2  3  4  5  6  7  8  9 10 11]"
   ]
  },
  {
   "cell_type": "code",
   "execution_count": null,
   "metadata": {},
   "outputs": [],
   "source": []
  },
  {
   "cell_type": "code",
   "execution_count": null,
   "metadata": {},
   "outputs": [],
   "source": []
  },
  {
   "cell_type": "markdown",
   "metadata": {},
   "source": [
    "## 2.8 배열연결"
   ]
  },
  {
   "cell_type": "markdown",
   "metadata": {},
   "source": [
    "### 2.8.1 concatencate"
   ]
  },
  {
   "cell_type": "code",
   "execution_count": null,
   "metadata": {},
   "outputs": [],
   "source": []
  },
  {
   "cell_type": "code",
   "execution_count": null,
   "metadata": {},
   "outputs": [],
   "source": []
  },
  {
   "cell_type": "markdown",
   "metadata": {},
   "source": [
    "### 2.8.2 hstack\n",
    "- **행의 수가 같은** 2개 이상의 배열을 **옆으로 연결**하며 **열의 수를 늘린다.**\n",
    "- 연결한 배열은 하나의 리스트에 담아야 한다. "
   ]
  },
  {
   "cell_type": "code",
   "execution_count": null,
   "metadata": {},
   "outputs": [],
   "source": [
    "a1 = np.ones((2, 3))\n",
    "a2 = np.zeros((2, 2))\n",
    "\n",
    "print(np.hstack([a1, a2]))\n",
    "\n",
    "# [결과]\n",
    "# [[1. 1. 1. 0. 0.]\n",
    "#  [1. 1. 1. 0. 0.]]"
   ]
  },
  {
   "cell_type": "code",
   "execution_count": null,
   "metadata": {},
   "outputs": [],
   "source": []
  },
  {
   "cell_type": "markdown",
   "metadata": {},
   "source": [
    "### 2.8.3 vstack\n",
    "- **열의 수가 같은** 두개 이상의 배열을 **위아래로 연결**하여 **행의 수를 늘린다.**"
   ]
  },
  {
   "cell_type": "code",
   "execution_count": null,
   "metadata": {},
   "outputs": [],
   "source": [
    "b1 = np.ones((2, 3))\n",
    "b2 = np.zeros((3, 3))\n",
    "\n",
    "print(np.vstack([b1, b2]))\n",
    "\n",
    "# [결과]\n",
    "# [[1. 1. 1.]\n",
    "#  [1. 1. 1.]\n",
    "#  [0. 0. 0.]\n",
    "#  [0. 0. 0.]\n",
    "#  [0. 0. 0.]]"
   ]
  },
  {
   "cell_type": "code",
   "execution_count": null,
   "metadata": {},
   "outputs": [],
   "source": []
  },
  {
   "cell_type": "markdown",
   "metadata": {},
   "source": [
    "### 2.8.4 dstack \n",
    "- 제3의 축 : 행이나 열이 아닌 깊이(depth)방향으로 배열을 합친다.\n",
    "- 가장 안쪽 원소의 차원이 증가한다. \n",
    "- 즉, 가장 내부의 숫자 원소가 배열이 된다.\n",
    "- shape정보로 보자면 가장 끝값 ??"
   ]
  },
  {
   "cell_type": "markdown",
   "metadata": {},
   "source": [
    "# ?? 무슨말인지 이해 안됨  다시 확인"
   ]
  },
  {
   "cell_type": "code",
   "execution_count": null,
   "metadata": {},
   "outputs": [],
   "source": []
  },
  {
   "cell_type": "code",
   "execution_count": null,
   "metadata": {},
   "outputs": [],
   "source": []
  },
  {
   "cell_type": "markdown",
   "metadata": {},
   "source": [
    "### 2.8.5 stack\n",
    "- stack명령은 dstack의 기능을 확장한 것으로 dstack처럼 마지막차원으로 연결하는 것이 아니라\n",
    "- 사용자가 지정한 차원(축으로) 배열을 연결 \n",
    "- axis인수를 사용하여 연결 후의 회전 방향을 정한다.\n",
    "- axis인수의 기본값은 0이고 가장 앞쪽에 차원이 생성된다.\n",
    "- 즉, 배열 두개가 겹치게 되므로 연결하고자 하는 배열들의 크기가 모두 같아야 한다."
   ]
  },
  {
   "cell_type": "markdown",
   "metadata": {},
   "source": [
    "# TODO: 여기 예제 다시 확인 기억이 잘 안남"
   ]
  },
  {
   "cell_type": "code",
   "execution_count": null,
   "metadata": {},
   "outputs": [],
   "source": []
  },
  {
   "cell_type": "markdown",
   "metadata": {},
   "source": [
    "### 2.8.6 r_메서드\n",
    "- hstack명령과 비슷하게 배열을 좌우로 연결 \n",
    "- 다만 메서드임에도 불구하고 소괄호\\(\\)를 사용하지 않고 대괄호\\[\\]를 사용\n",
    "- 이런 특수메서드를 인덱서라 한다."
   ]
  },
  {
   "cell_type": "code",
   "execution_count": null,
   "metadata": {},
   "outputs": [],
   "source": [
    "np.r_[np.array([1, 2, 3]), np.array([4, 5, 6])]\n",
    "\n",
    "# [결과]\n",
    "# array([1, 2, 3, 4, 5, 6])"
   ]
  },
  {
   "cell_type": "markdown",
   "metadata": {},
   "source": [
    "### 2.8.7 c_메서드 \n",
    "- 배열의 차원을 증가시킨 후 좌우로 연결 \n",
    "- 만약 1차원 배열을 연결하면 2차원 배열이 된다 "
   ]
  },
  {
   "cell_type": "code",
   "execution_count": null,
   "metadata": {},
   "outputs": [],
   "source": [
    "np.c_[np.array([1, 2, 3]), np.array([4, 5, 6])]\n",
    "\n",
    "# [결과]\n",
    "# array([[1, 4],\n",
    "#        [2, 5],\n",
    "#        [3, 6]])"
   ]
  },
  {
   "cell_type": "markdown",
   "metadata": {},
   "source": [
    "### 2.8.8 tile\n",
    "- 동일한 배열을 반복하여 연결"
   ]
  },
  {
   "cell_type": "code",
   "execution_count": null,
   "metadata": {},
   "outputs": [],
   "source": [
    "a = np.array([[0, 1, 2],[3, 4, 5]])\n",
    "\n",
    "np.tile(a, 2)\n",
    "#[결과]\n",
    "# array([[0, 1, 2, 0, 1, 2],\n",
    "#        [3, 4, 5, 3, 4, 5]])\n",
    "\n",
    "np.tile(a, (3,2))\n",
    "#[결과]\n",
    "# array([[0, 1, 2, 0, 1, 2],\n",
    "#        [3, 4, 5, 3, 4, 5],\n",
    "#        [0, 1, 2, 0, 1, 2],\n",
    "#        [3, 4, 5, 3, 4, 5],\n",
    "#        [0, 1, 2, 0, 1, 2],\n",
    "#        [3, 4, 5, 3, 4, 5]])"
   ]
  },
  {
   "cell_type": "markdown",
   "metadata": {},
   "source": [
    "## 2.9 배열분할하기"
   ]
  },
  {
   "cell_type": "markdown",
   "metadata": {},
   "source": [
    "### 2.9.1 split()"
   ]
  },
  {
   "cell_type": "code",
   "execution_count": null,
   "metadata": {},
   "outputs": [],
   "source": []
  },
  {
   "cell_type": "code",
   "execution_count": null,
   "metadata": {},
   "outputs": [],
   "source": []
  },
  {
   "cell_type": "markdown",
   "metadata": {},
   "source": [
    "### 2.9.2 hsplit()"
   ]
  },
  {
   "cell_type": "code",
   "execution_count": null,
   "metadata": {},
   "outputs": [],
   "source": []
  },
  {
   "cell_type": "code",
   "execution_count": null,
   "metadata": {},
   "outputs": [],
   "source": []
  },
  {
   "cell_type": "markdown",
   "metadata": {},
   "source": [
    "### 2.9.3 vsplit()"
   ]
  },
  {
   "cell_type": "code",
   "execution_count": null,
   "metadata": {},
   "outputs": [],
   "source": []
  },
  {
   "cell_type": "code",
   "execution_count": null,
   "metadata": {},
   "outputs": [],
   "source": []
  },
  {
   "cell_type": "code",
   "execution_count": null,
   "metadata": {},
   "outputs": [],
   "source": []
  },
  {
   "cell_type": "markdown",
   "metadata": {},
   "source": [
    "## 2.10 원소 추가 및 삭제"
   ]
  },
  {
   "cell_type": "markdown",
   "metadata": {},
   "source": [
    "### 2.10.1 append"
   ]
  },
  {
   "cell_type": "code",
   "execution_count": null,
   "metadata": {},
   "outputs": [],
   "source": []
  },
  {
   "cell_type": "code",
   "execution_count": null,
   "metadata": {},
   "outputs": [],
   "source": []
  },
  {
   "cell_type": "markdown",
   "metadata": {},
   "source": [
    "### 2.10.2 insert"
   ]
  },
  {
   "cell_type": "code",
   "execution_count": null,
   "metadata": {},
   "outputs": [],
   "source": []
  },
  {
   "cell_type": "code",
   "execution_count": null,
   "metadata": {},
   "outputs": [],
   "source": []
  },
  {
   "cell_type": "markdown",
   "metadata": {},
   "source": [
    "### 2.10.3 delete"
   ]
  },
  {
   "cell_type": "code",
   "execution_count": null,
   "metadata": {},
   "outputs": [],
   "source": []
  },
  {
   "cell_type": "markdown",
   "metadata": {},
   "source": [
    "# ======Unit03. ========="
   ]
  },
  {
   "cell_type": "markdown",
   "metadata": {},
   "source": [
    "# Unit03.배열의 연산"
   ]
  },
  {
   "cell_type": "markdown",
   "metadata": {},
   "source": [
    "## 3.1 벡터화, 벡터연산\n",
    "- 벡터화 연산을 쓰면 명시적으로 반복문을 사용하지 않고도 배열의 모든 원소에 대해 반복 연산 할 수 있다.\n",
    "- 선형대수공식과 동일한 \n",
    "- TODO : 그림 추가 ? "
   ]
  },
  {
   "cell_type": "markdown",
   "metadata": {},
   "source": [
    "만약 벡터화 연산을 사용하지 않으면? 반복문을 사용해서 만들어야 하는 번거로움이 있다. "
   ]
  },
  {
   "cell_type": "code",
   "execution_count": null,
   "metadata": {},
   "outputs": [],
   "source": [
    "# 반복문 사용 코드 "
   ]
  },
  {
   "cell_type": "markdown",
   "metadata": {},
   "source": [
    "벡터화 연산을 사용하면 덧셈 연산 하나로 끝난다."
   ]
  },
  {
   "cell_type": "code",
   "execution_count": null,
   "metadata": {},
   "outputs": [],
   "source": []
  },
  {
   "cell_type": "markdown",
   "metadata": {},
   "source": [
    "사칙연산뿐 아니라 비교연산자 같은 논리연산도 벡터 연산이 가능하다."
   ]
  },
  {
   "cell_type": "code",
   "execution_count": null,
   "metadata": {},
   "outputs": [],
   "source": []
  },
  {
   "cell_type": "markdown",
   "metadata": {},
   "source": [
    "원소들을 일일이 비교하는 것이 아니라 배열의 모든 원소가 같은지 알고싶다면 all명령어를 사용한다. "
   ]
  },
  {
   "cell_type": "code",
   "execution_count": null,
   "metadata": {},
   "outputs": [],
   "source": [
    "a = np.array([1, 2, 3, 4])\n",
    "b = np.array([4, 2, 2, 4])\n",
    "c = np.array([1, 2, 3, 4])\n",
    "\n",
    "np.all(a == b) # False\n",
    "np.all(a == c) # True"
   ]
  },
  {
   "cell_type": "markdown",
   "metadata": {},
   "source": [
    "지수함수, 로그함수 등 수학함수도 벡터화 연산을 지원한다."
   ]
  },
  {
   "cell_type": "code",
   "execution_count": null,
   "metadata": {},
   "outputs": [],
   "source": [
    "a = np.arange(5) # [0 1 2 3 4]\n",
    "np.exp(a)   # array([ 1.        ,  2.71828183,  7.3890561 , 20.08553692, 54.59815003])\n",
    "\n",
    "10**a       # array([    1,    10,   100,  1000, 10000])\n",
    "\n",
    "np.log(a+1) # array([0.        , 0.69314718, 1.09861229, 1.38629436, 1.60943791])"
   ]
  },
  {
   "cell_type": "markdown",
   "metadata": {},
   "source": [
    "### 3.1.1 벡터,행렬과 스칼라 연산"
   ]
  },
  {
   "cell_type": "code",
   "execution_count": null,
   "metadata": {},
   "outputs": [],
   "source": []
  },
  {
   "cell_type": "code",
   "execution_count": null,
   "metadata": {},
   "outputs": [],
   "source": [
    "a = np.arange(10) # array([0, 1, 2, 3, 4, 5, 6, 7, 8, 9])\n",
    "100 * x # array([  0, 100, 200, 300, 400, 500, 600, 700, 800, 900])\n",
    "\n",
    "b = np.arange(12).reshape(3,4)\n",
    "100 * b\n",
    "#[결과]\n",
    "# array([[   0,  100,  200,  300],\n",
    "#        [ 400,  500,  600,  700],\n",
    "#        [ 800,  900, 1000, 1100]])"
   ]
  },
  {
   "cell_type": "markdown",
   "metadata": {},
   "source": [
    "### 3.1.2 벡터, 행렬간 연산"
   ]
  },
  {
   "cell_type": "code",
   "execution_count": null,
   "metadata": {},
   "outputs": [],
   "source": []
  },
  {
   "cell_type": "code",
   "execution_count": null,
   "metadata": {},
   "outputs": [],
   "source": []
  },
  {
   "cell_type": "markdown",
   "metadata": {},
   "source": [
    "## 3.2 브로드캐스팅\n",
    "- 벡터(또는 행렬)끼리 덧셈, 혹은 뺄셈을 하려면 두 벡터(또는 행렬)의 크리가 같아야 한다.\n",
    "- 넘파이에서는 서로 다른 크기를 가진 두 배열의 사칙연산도 지원한다.\n",
    "- 이 기능을 브로드캐스팅(broadcasting)이라고 하는데 크기가 작은 배열을 자동으로 반복 확장하여 크기가 큰 배열에 맞추는 방법이다.\n",
    "\n",
    "- ToDO : 예시그림?"
   ]
  },
  {
   "cell_type": "markdown",
   "metadata": {},
   "source": [
    "브로드캐스팅은 다음처럼 더 차원 높은 경우에도 적용된다."
   ]
  },
  {
   "cell_type": "code",
   "execution_count": null,
   "metadata": {},
   "outputs": [],
   "source": [
    "# TODO : 예시"
   ]
  },
  {
   "cell_type": "code",
   "execution_count": null,
   "metadata": {},
   "outputs": [],
   "source": []
  },
  {
   "cell_type": "code",
   "execution_count": null,
   "metadata": {},
   "outputs": [],
   "source": []
  },
  {
   "cell_type": "code",
   "execution_count": null,
   "metadata": {},
   "outputs": [],
   "source": []
  },
  {
   "cell_type": "code",
   "execution_count": null,
   "metadata": {},
   "outputs": [],
   "source": []
  },
  {
   "cell_type": "code",
   "execution_count": null,
   "metadata": {},
   "outputs": [],
   "source": []
  },
  {
   "cell_type": "markdown",
   "metadata": {},
   "source": [
    "## 3.3 내적"
   ]
  },
  {
   "cell_type": "code",
   "execution_count": null,
   "metadata": {},
   "outputs": [],
   "source": []
  },
  {
   "cell_type": "code",
   "execution_count": null,
   "metadata": {},
   "outputs": [],
   "source": []
  },
  {
   "cell_type": "markdown",
   "metadata": {},
   "source": [
    "### 3.3.1 벡터간 내적"
   ]
  },
  {
   "cell_type": "code",
   "execution_count": null,
   "metadata": {},
   "outputs": [],
   "source": []
  },
  {
   "cell_type": "code",
   "execution_count": null,
   "metadata": {},
   "outputs": [],
   "source": []
  },
  {
   "cell_type": "markdown",
   "metadata": {},
   "source": [
    "### 3.3.2 행렬간 내적"
   ]
  },
  {
   "cell_type": "code",
   "execution_count": null,
   "metadata": {},
   "outputs": [],
   "source": []
  },
  {
   "cell_type": "code",
   "execution_count": null,
   "metadata": {},
   "outputs": [],
   "source": []
  },
  {
   "cell_type": "markdown",
   "metadata": {},
   "source": [
    "## 3.4 범용함수"
   ]
  },
  {
   "cell_type": "code",
   "execution_count": null,
   "metadata": {},
   "outputs": [],
   "source": []
  },
  {
   "cell_type": "code",
   "execution_count": null,
   "metadata": {},
   "outputs": [],
   "source": []
  },
  {
   "cell_type": "markdown",
   "metadata": {},
   "source": [
    "### 3.4.1 단항범용함수"
   ]
  },
  {
   "cell_type": "code",
   "execution_count": null,
   "metadata": {},
   "outputs": [],
   "source": []
  },
  {
   "cell_type": "code",
   "execution_count": null,
   "metadata": {},
   "outputs": [],
   "source": []
  },
  {
   "cell_type": "markdown",
   "metadata": {},
   "source": [
    "### 3.4.2 이항범용함수"
   ]
  },
  {
   "cell_type": "code",
   "execution_count": null,
   "metadata": {},
   "outputs": [],
   "source": []
  },
  {
   "cell_type": "code",
   "execution_count": null,
   "metadata": {},
   "outputs": [],
   "source": []
  },
  {
   "cell_type": "markdown",
   "metadata": {},
   "source": [
    "## 3.5 누적연산함수"
   ]
  },
  {
   "cell_type": "markdown",
   "metadata": {},
   "source": [
    "### 3.5.1 reduce"
   ]
  },
  {
   "cell_type": "markdown",
   "metadata": {},
   "source": [
    "### 3.5.2 accumulate"
   ]
  },
  {
   "cell_type": "code",
   "execution_count": null,
   "metadata": {},
   "outputs": [],
   "source": []
  },
  {
   "cell_type": "markdown",
   "metadata": {},
   "source": [
    "### 3.6.3 불리언\n",
    "- all\n",
    "- any"
   ]
  },
  {
   "cell_type": "code",
   "execution_count": null,
   "metadata": {},
   "outputs": [],
   "source": [
    "np.all([True, True, False]) # False\n",
    "np.any([True, True, False]) # True"
   ]
  },
  {
   "cell_type": "code",
   "execution_count": null,
   "metadata": {},
   "outputs": [],
   "source": [
    "a = np.zeros((100,100), dtype = int)\n",
    "np.any(a != 0) # False\n",
    "np.all(a == 0) # True"
   ]
  },
  {
   "cell_type": "code",
   "execution_count": null,
   "metadata": {},
   "outputs": [],
   "source": [
    "x = np.array([1, 2, 3, 2])\n",
    "y = np.array([2, 2, 3, 2])\n",
    "z = np.array([6, 4, 4, 5])\n",
    "\n",
    "(x <= y) & (y <= z) # array([ True,  True,  True,  True])\n",
    "((x <= y) & (y <= z)).all() # True"
   ]
  },
  {
   "cell_type": "code",
   "execution_count": null,
   "metadata": {},
   "outputs": [],
   "source": []
  },
  {
   "cell_type": "markdown",
   "metadata": {},
   "source": [
    "## 3.7 정렬"
   ]
  },
  {
   "cell_type": "markdown",
   "metadata": {},
   "source": [
    "### 3.7.1 sort\n",
    "- axis인수를 사용하여 행을 정렬할 것인지 열을 정렬할 것인지 결정한다.\n",
    "- axis = 0 각각의 행을 따로따로 정렬\n",
    "- axis = 1 각각의 열을 따로따로 정렬 \n",
    "- 디폴트 값은 -1, 즉 가장 안쪽(나중)의 차원이다. "
   ]
  },
  {
   "cell_type": "code",
   "execution_count": null,
   "metadata": {},
   "outputs": [],
   "source": [
    "a = np.array([\n",
    "    [4, 3, 5, 7], \n",
    "    [1, 12, 11, 9],\n",
    "    [2, 15, 1, 14]\n",
    "])\n",
    "\n",
    "np.sort(a) # axis의 기본값은 -1\n",
    "# [결과]\n",
    "# array([[ 3,  4,  5,  7],\n",
    "#        [ 1,  9, 11, 12],\n",
    "#        [ 1,  2, 14, 15]])\n",
    "\n",
    "np.sort(a, axis = 0)\n",
    "# [결과]\n",
    "# array([[ 1,  3,  1,  7],\n",
    "#        [ 2, 12,  5,  9],\n",
    "#        [ 4, 15, 11, 14]])"
   ]
  },
  {
   "cell_type": "markdown",
   "metadata": {},
   "source": [
    "sort메서드는 해당 객체의 자료 자체가 변화하는 자체변화(inplace)메서드이므로 사용할 때 주의해야 한다."
   ]
  },
  {
   "cell_type": "code",
   "execution_count": null,
   "metadata": {},
   "outputs": [],
   "source": []
  },
  {
   "cell_type": "markdown",
   "metadata": {},
   "source": [
    "### 3.7.2 argsort --> 이부분 확인\n",
    "- 자료를 정렬하는 것이 아니라 순서만 알고 싶다면 argsort"
   ]
  },
  {
   "cell_type": "code",
   "execution_count": null,
   "metadata": {},
   "outputs": [],
   "source": [
    "# a = np.array([]) "
   ]
  },
  {
   "cell_type": "code",
   "execution_count": null,
   "metadata": {},
   "outputs": [],
   "source": []
  },
  {
   "cell_type": "code",
   "execution_count": null,
   "metadata": {},
   "outputs": [],
   "source": []
  },
  {
   "cell_type": "code",
   "execution_count": null,
   "metadata": {},
   "outputs": [],
   "source": []
  },
  {
   "cell_type": "code",
   "execution_count": null,
   "metadata": {},
   "outputs": [],
   "source": []
  },
  {
   "cell_type": "markdown",
   "metadata": {},
   "source": [
    "# =====Unit04. 기술통계 ====="
   ]
  },
  {
   "cell_type": "markdown",
   "metadata": {},
   "source": [
    "# Unit04. 기술통계"
   ]
  },
  {
   "cell_type": "markdown",
   "metadata": {},
   "source": [
    "## 4.1 데이터의 개수\n",
    "- len()\n",
    "- 데이터의 개수는 len명령으로 구한다."
   ]
  },
  {
   "cell_type": "code",
   "execution_count": null,
   "metadata": {},
   "outputs": [],
   "source": [
    "x = {}\n",
    "len(x)"
   ]
  },
  {
   "cell_type": "markdown",
   "metadata": {},
   "source": [
    "## 4.2 표본 평균\n",
    "- np.mean()\n",
    "- 평균을 통계용어로는 표본평균이라 한다.(sample average, smple mean)\n",
    "- x데이터에 대한 표본 평균은 {}로 표시\n",
    "- TODO : 식 \n"
   ]
  },
  {
   "cell_type": "code",
   "execution_count": null,
   "metadata": {},
   "outputs": [],
   "source": []
  },
  {
   "cell_type": "markdown",
   "metadata": {},
   "source": [
    "## 4.3 표본 분산\n",
    "- np.var()\n",
    "- 표본분산(sample variance) : 데이터와 표본 평균간의 거리의 제곱의 평균 \n",
    "- 표본 분산이 작으면 데이터가 모여 있는것이고, 크면 데이터가 흩어진 것이다. \n",
    "- TODO : 식 = ?? "
   ]
  },
  {
   "cell_type": "code",
   "execution_count": 1,
   "metadata": {
    "collapsed": true
   },
   "outputs": [
    {
     "ename": "NameError",
     "evalue": "name 'np' is not defined",
     "output_type": "error",
     "traceback": [
      "\u001b[0;31m---------------------------------------------------------------------------\u001b[0m",
      "\u001b[0;31mNameError\u001b[0m                                 Traceback (most recent call last)",
      "\u001b[0;32m<ipython-input-1-9851313444f1>\u001b[0m in \u001b[0;36m<module>\u001b[0;34m\u001b[0m\n\u001b[0;32m----> 1\u001b[0;31m \u001b[0mnp\u001b[0m\u001b[0;34m.\u001b[0m\u001b[0mvar\u001b[0m\u001b[0;34m(\u001b[0m\u001b[0mx\u001b[0m\u001b[0;34m)\u001b[0m\u001b[0;34m\u001b[0m\u001b[0;34m\u001b[0m\u001b[0m\n\u001b[0m\u001b[1;32m      2\u001b[0m \u001b[0mnp\u001b[0m\u001b[0;34m.\u001b[0m\u001b[0mvar\u001b[0m\u001b[0;34m(\u001b[0m\u001b[0mx\u001b[0m\u001b[0;34m,\u001b[0m \u001b[0mddof\u001b[0m \u001b[0;34m=\u001b[0m \u001b[0;36m1\u001b[0m\u001b[0;34m)\u001b[0m\u001b[0;34m\u001b[0m\u001b[0;34m\u001b[0m\u001b[0m\n",
      "\u001b[0;31mNameError\u001b[0m: name 'np' is not defined"
     ]
    }
   ],
   "source": [
    "np.var(x) # 분산\n",
    "np.var(x, ddof = 1) # 비편향분산"
   ]
  },
  {
   "cell_type": "markdown",
   "metadata": {},
   "source": [
    "## 4.4 표본 표준편차\n",
    "- np.std()\n",
    "- 표본 표준편차"
   ]
  },
  {
   "cell_type": "code",
   "execution_count": null,
   "metadata": {},
   "outputs": [],
   "source": []
  },
  {
   "cell_type": "markdown",
   "metadata": {},
   "source": [
    "## 4.5 최댓값과 최솟값\n",
    "    - np.min()\n",
    "    - np.max()\n",
    "    - np.argmin() : 최솟값의 인덱스\n",
    "    - npargmax() : 최댓값의 인덱스"
   ]
  },
  {
   "cell_type": "code",
   "execution_count": null,
   "metadata": {},
   "outputs": [],
   "source": [
    "x = np.array([4, 2, 3, 6])\n",
    "print(x.max())     # 6\n",
    "print(x.min())     # 2\n",
    "print(x.argmin())  # 1\n",
    "print(x.argmax())  # 3"
   ]
  },
  {
   "cell_type": "markdown",
   "metadata": {},
   "source": [
    "## 4.6 중앙값 \n",
    "- np.median()\n",
    "- 데이터를 크기대로 정렬하였을 때 가장 가운데 있는 수 \n",
    "- 만약 데이터의 수가 짝수이면 가장 가운데 있는 두수의 평균을 사용한다."
   ]
  },
  {
   "cell_type": "code",
   "execution_count": null,
   "metadata": {},
   "outputs": [],
   "source": []
  },
  {
   "cell_type": "markdown",
   "metadata": {},
   "source": [
    "## 4.7 사분위수 \n",
    "- np.quartile()\n",
    "- 데이터를 가장 작은 수 부터 가장 큰 수 까지 크기가 커지는 순서대로 정렬하였을 때 \n",
    "- 1/4(1사분위) : \n",
    "- 2/4(2사분위) :  \n",
    "- 3/4(3사분위) : \n",
    "- 4/4(4사분위) : "
   ]
  },
  {
   "cell_type": "code",
   "execution_count": null,
   "metadata": {},
   "outputs": [],
   "source": []
  },
  {
   "cell_type": "markdown",
   "metadata": {},
   "source": [
    "## 4.8 백분위수\n",
    "- np.percentile()\n",
    "- 위치를 1/100단위로 나눔 "
   ]
  },
  {
   "cell_type": "code",
   "execution_count": null,
   "metadata": {},
   "outputs": [],
   "source": []
  },
  {
   "cell_type": "code",
   "execution_count": null,
   "metadata": {},
   "outputs": [],
   "source": []
  },
  {
   "cell_type": "code",
   "execution_count": null,
   "metadata": {},
   "outputs": [],
   "source": []
  },
  {
   "cell_type": "code",
   "execution_count": null,
   "metadata": {},
   "outputs": [],
   "source": []
  },
  {
   "cell_type": "code",
   "execution_count": null,
   "metadata": {},
   "outputs": [],
   "source": []
  },
  {
   "cell_type": "code",
   "execution_count": null,
   "metadata": {},
   "outputs": [],
   "source": []
  },
  {
   "cell_type": "code",
   "execution_count": null,
   "metadata": {},
   "outputs": [],
   "source": []
  },
  {
   "cell_type": "code",
   "execution_count": null,
   "metadata": {},
   "outputs": [],
   "source": []
  },
  {
   "cell_type": "code",
   "execution_count": null,
   "metadata": {},
   "outputs": [],
   "source": []
  },
  {
   "cell_type": "code",
   "execution_count": null,
   "metadata": {},
   "outputs": [],
   "source": []
  },
  {
   "cell_type": "code",
   "execution_count": null,
   "metadata": {},
   "outputs": [],
   "source": []
  },
  {
   "cell_type": "code",
   "execution_count": null,
   "metadata": {},
   "outputs": [],
   "source": []
  },
  {
   "cell_type": "code",
   "execution_count": null,
   "metadata": {},
   "outputs": [],
   "source": []
  },
  {
   "cell_type": "code",
   "execution_count": null,
   "metadata": {},
   "outputs": [],
   "source": []
  },
  {
   "cell_type": "code",
   "execution_count": null,
   "metadata": {},
   "outputs": [],
   "source": []
  },
  {
   "cell_type": "code",
   "execution_count": null,
   "metadata": {},
   "outputs": [],
   "source": []
  },
  {
   "cell_type": "code",
   "execution_count": null,
   "metadata": {},
   "outputs": [],
   "source": []
  },
  {
   "cell_type": "code",
   "execution_count": null,
   "metadata": {},
   "outputs": [],
   "source": []
  },
  {
   "cell_type": "code",
   "execution_count": null,
   "metadata": {},
   "outputs": [],
   "source": []
  },
  {
   "cell_type": "code",
   "execution_count": null,
   "metadata": {},
   "outputs": [],
   "source": []
  },
  {
   "cell_type": "code",
   "execution_count": null,
   "metadata": {},
   "outputs": [],
   "source": []
  },
  {
   "cell_type": "code",
   "execution_count": null,
   "metadata": {},
   "outputs": [],
   "source": []
  },
  {
   "cell_type": "code",
   "execution_count": null,
   "metadata": {},
   "outputs": [],
   "source": []
  }
 ],
 "metadata": {
  "kernelspec": {
   "display_name": "Python 3",
   "language": "python",
   "name": "python3"
  },
  "language_info": {
   "codemirror_mode": {
    "name": "ipython",
    "version": 3
   },
   "file_extension": ".py",
   "mimetype": "text/x-python",
   "name": "python",
   "nbconvert_exporter": "python",
   "pygments_lexer": "ipython3",
   "version": "3.8.5"
  }
 },
 "nbformat": 4,
 "nbformat_minor": 4
}
