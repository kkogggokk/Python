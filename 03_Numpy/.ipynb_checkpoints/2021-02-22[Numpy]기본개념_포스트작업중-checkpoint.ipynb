{
 "cells": [
  {
   "cell_type": "markdown",
   "metadata": {},
   "source": [
    "# Unit01.넘파이배열\n",
    "- Numeriacal Python \n",
    "- 고성능 과학 연산을 위한 패키지로 데이터 분석, 머신러닝 등에 필수로 사용된다. \n",
    "- 강력한 다차원 배열(array)를 지원한다. \n",
    "- 벡터 연산을 지원한다. \n",
    "\n",
    "## 1.1 구조\n",
    "|구조|내용|\n",
    "|--|--|\n",
    "|스칼라(Scalar)|하나의 숫자로 이루어진 데이터|\n",
    "|벡터(Vector)|1D Array (1차원 배열)<br>여러개의 숫자들을 특정한 순서대로 모아놓은 데이터 모음(데이터 레코드)|\n",
    "|행렬(Matrix)|2D Array (2차원 배열)<br>벡터들을 모아놓은 데이터 집합|\n",
    "|텐서(Tensor)|ND Array (다차원 배열)<br>같은 크기의 행렬들(텐서들)을 모아놓은 데이터 집합|\n",
    "\n",
    "\n",
    "\n",
    "## 1.2 용어\n",
    "|용어|내용|\n",
    "|--|--|\n",
    "|축(axis)|값들의 나열 방향<br>하나의 축(axis)은 하나의 범주(category)이다.|\n",
    "|랭크(rank)|데이터 집합에서 축의 갯수|\n",
    "|형태/형상(shape)|각 축(axis)별 데이터 갯수|\n",
    "|크기(size)|배열 내 원소의 총 갯수|\n",
    "\n",
    "## 1.3 차원 dimension\n",
    "- 벡터에서 차원 : 원소의 갯수\n",
    "- 넘파이배열에서 차원 : 축의 갯수 \n",
    "\n",
    "![ndarray dimensions](https://www.oreilly.com/library/view/elegant-scipy/9781491922927/assets/elsp_0105.png)\n",
    "[출처: https://www.oreilly.com/library/view/elegant-scipy/9781491922927/ch01.html]"
   ]
  },
  {
   "cell_type": "markdown",
   "metadata": {},
   "source": [
    "## 1.1 넘파이 패키지 임포트\n",
    "- 배열을 사용하기 위해서 넘파이 패키지를 임포트.\n",
    "- 넘파이는 np라는 이름으로 임포트 하는 것이 관례."
   ]
  },
  {
   "cell_type": "code",
   "execution_count": 151,
   "metadata": {},
   "outputs": [],
   "source": [
    "import numpy as np"
   ]
  },
  {
   "cell_type": "markdown",
   "metadata": {},
   "source": [
    "## 1.2 배열 생성 array\n",
    "- np.array(배열형태객체, [dtype])\n",
    "- 배열형태 겍체가 가진 원소들로 구성된 넘파이 배열을 생성한다. \n",
    "- 이때 배열 형태의 객체는 리스트, 튜플, 넘파이배열(ndarray), Series를 의미한다. \n",
    "\n",
    "### 1.2.1 1차원 배열 생성\n",
    "- 넘파이의 array함수에 리스트를 넣으면 ndarray(배열)클래스 객체로 변환\n",
    "- 리스트와 비슷해보이지만 type명령으로 자료형을 보면 ndarray(배열)이다. \n",
    "- 배열객체와 리스트 객체의 차이점 \n",
    "    - 리스트 클래스 객체 : 각각의 원소가 다른 자료형 가능.\n",
    "    - 배열 클래스 객체 : 모든 원소가 같은 자료형. \n",
    "        - C 언어의 배열처럼 연속적인 메모리에 배치하기 때문에 같은 자료형\n",
    "        - 따라서 원소에 대한 접근과 반복문 실행이 빠름"
   ]
  },
  {
   "cell_type": "code",
   "execution_count": 2,
   "metadata": {},
   "outputs": [
    {
     "name": "stdout",
     "output_type": "stream",
     "text": [
      "[0 1 2 3 4 5 6 7 8 9]\n",
      "<class 'numpy.ndarray'>\n"
     ]
    }
   ],
   "source": [
    "a = np.array([0, 1, 2, 3, 4, 5, 6, 7, 8, 9])\n",
    "print(a) \n",
    "print(type(a))"
   ]
  },
  {
   "cell_type": "markdown",
   "metadata": {},
   "source": [
    "## 1.2.2  2차원 배열 생성\n",
    "- ndarray (N-dimension Array)는 1차원, 2차원, 3차원 배열 등 다차원 배열 자료구조를 지원.\n",
    "- 리스트의 리스트(list of list)를 이용하여 2차원 배열 생성.\n",
    "- 2차원 배열은 행렬(matrix)라고 하며 \n",
    "    - 가로줄을 행(Row) , 바깥쪽 리스트의 길이 = 행렬의 행의 수 = 세로크기\n",
    "    - 세로줄을 열(Column), 안쪽 리스트의 길이 = 행렬의 열의 수 = 가로크기\n",
    "- ![그림넣기]()  # todo"
   ]
  },
  {
   "cell_type": "code",
   "execution_count": null,
   "metadata": {},
   "outputs": [],
   "source": [
    "a = np.array([[0, 1, 2],[3, 4, 5]]) # 2 * 3 array\n",
    "print(len(a)) # 행의 갯수 : 2\n",
    "print(len(a[0])) # 열의 갯수 : 3 "
   ]
  },
  {
   "cell_type": "code",
   "execution_count": null,
   "metadata": {},
   "outputs": [],
   "source": [
    "a = np.array([[10, 20, 30, 40],[50, 60, 70, 80]])\n",
    "a # array([[10, 20, 30, 40],[50, 60, 70, 80]])"
   ]
  },
  {
   "cell_type": "code",
   "execution_count": null,
   "metadata": {},
   "outputs": [],
   "source": [
    "a = np.arange(10,90,10).reshape(2,4)\n",
    "a # # array([[10, 20, 30, 40],[50, 60, 70, 80]])"
   ]
  },
  {
   "cell_type": "markdown",
   "metadata": {},
   "source": [
    "## 1.2.3 3차원 배열만들기\n",
    "- 리스트의 리스트의 리스트를 이용하면 3차원 배열 생성\n",
    "- 3차원 배열의 깊이, 행, 열 <-- 구조 의 기준 axis0, axis1, axis2 다르다? \n",
    "- |--|--|\n",
    "|--|--|\n",
    "|3차원 배열의 깊이|len(d)|\n",
    "|3차원 배열의 행|len(d[0]|\n",
    "|3차원 배열의 열|len(d[0][0])|"
   ]
  },
  {
   "cell_type": "code",
   "execution_count": 160,
   "metadata": {},
   "outputs": [
    {
     "data": {
      "text/plain": [
       "4"
      ]
     },
     "execution_count": 160,
     "metadata": {},
     "output_type": "execute_result"
    }
   ],
   "source": [
    "d = np.array([[[1, 2, 3, 4],\n",
    "               [5, 6, 7, 8],\n",
    "               [9, 10, 11, 12]],\n",
    "              [[11, 12, 13, 14],\n",
    "               [15, 16, 17, 18],\n",
    "               [19, 20, 21, 22]]])   # 2 x 3 x 4 array\n",
    "len(d) # 3차원 배열의 깊이 : 2\n",
    "len(d[0]) # 3차원 배열의 행 : 3 \n",
    "len(d[0][0]) # 3차원 배열의 열 : 4 "
   ]
  },
  {
   "cell_type": "markdown",
   "metadata": {},
   "source": [
    "## 1.3 벡터화 연산\n",
    "- 배열 객체는 배열의 각 원소에 대한 반복 연산을 하나의 명령어로 처리하는 벡터화 연산을 지원 \n",
    "- 벡터화 연산을 하면 for반복문 없이 한번의 연산을 할 수 있다.\n",
    "- 따라서 계산 속도도 반복문을 사용할 때 보다 훨씬 빠르다. \n",
    "- 벡터화 연산은 비교연산과 논리 연산을 포함한 모든 종류의 수학 연산에 적용 "
   ]
  },
  {
   "cell_type": "code",
   "execution_count": 161,
   "metadata": {},
   "outputs": [
    {
     "name": "stdout",
     "output_type": "stream",
     "text": [
      "[0, 2, 4, 6, 8, 10, 12, 14, 16, 18]\n",
      "[0, 1, 2, 3, 4, 5, 6, 7, 8, 9, 0, 1, 2, 3, 4, 5, 6, 7, 8, 9]\n"
     ]
    }
   ],
   "source": [
    "# 리스트에서 각 원소에 2배 하기위해서는 for문을 돌려서 연산 해야한다. \n",
    "\n",
    "data = [0, 1, 2, 3, 4, 5, 6, 7, 8, 9]\n",
    "answer = []\n",
    "for di in data : \n",
    "    answer.append(2 * di)\n",
    "print(answer) # [0, 2, 4, 6, 8, 10, 12, 14, 16, 18] \n",
    "print(data * 2)  # [0, 1, 2, 3, 4, 5, 6, 7, 8, 9, 0, 1, 2, 3, 4, 5, 6, 7, 8, 9]"
   ]
  },
  {
   "cell_type": "code",
   "execution_count": 162,
   "metadata": {},
   "outputs": [
    {
     "data": {
      "text/plain": [
       "array([ 0,  2,  4,  6,  8, 10, 12, 14, 16, 18])"
      ]
     },
     "execution_count": 162,
     "metadata": {},
     "output_type": "execute_result"
    }
   ],
   "source": [
    "# 하지만 벡터화 연산은 for 반복문 없이 한번에 연산 가능\n",
    "\n",
    "x = np.array(data)\n",
    "2 * x # array([ 0,  2,  4,  6,  8, 10, 12, 14, 16, 18])"
   ]
  },
  {
   "cell_type": "code",
   "execution_count": 163,
   "metadata": {},
   "outputs": [
    {
     "name": "stdout",
     "output_type": "stream",
     "text": [
      "[12 24 36]\n",
      "[False  True False]\n",
      "[False  True  True]\n",
      "[False  True False]\n"
     ]
    }
   ],
   "source": [
    "# 벡터화 연산은 비교연산, 논리연산 등 연산 가능 \n",
    "\n",
    "a = np.array([1, 2, 3])\n",
    "b = np.array([10, 20, 30])\n",
    "\n",
    "print(2*a+b) # [12 24 36]\n",
    "print(a == 2) # [False  True False]\n",
    "print(b > 10) # [False  True  True]\n",
    "print((a == 2)&(b > 10)) # [False  True False]"
   ]
  },
  {
   "cell_type": "markdown",
   "metadata": {},
   "source": [
    "## 1.4  배열의 차원과 크기\n",
    "- 배열의 차원 : ndim속성\n",
    "- 배열의 크기 : shape속성"
   ]
  },
  {
   "cell_type": "code",
   "execution_count": 164,
   "metadata": {},
   "outputs": [
    {
     "name": "stdout",
     "output_type": "stream",
     "text": [
      "1\n",
      "(3,)\n",
      "2\n",
      "(2, 3)\n",
      "3\n",
      "(2, 3, 4)\n"
     ]
    }
   ],
   "source": [
    "# 1차원 배열 \n",
    "a = np.array([1, 2, 3]) \n",
    "print(a.ndim) # 1\n",
    "print(a.shape) # (3,)\n",
    "\n",
    "# 2차원 배열 \n",
    "b = np.array([[0, 1, 2], [3, 4, 5]]) \n",
    "print(b.ndim) # 2\n",
    "print(b.shape) # (2,3)\n",
    "\n",
    "# 3차원 배열 \n",
    "c = np.array([[[1, 2, 3, 4],\n",
    "               [5, 6, 7, 8],\n",
    "               [9, 10, 11, 12]],\n",
    "              [[11, 12, 13, 14],\n",
    "               [15, 16, 17, 18],\n",
    "               [19, 20, 21, 22]]])\n",
    "print(c.ndim) # 3\n",
    "print(c.shape) # (2, 3, 4)"
   ]
  },
  {
   "cell_type": "markdown",
   "metadata": {},
   "source": [
    "## 1.4 배열의 인덱싱\n",
    "### 1.4.1 1차원 배열인덱싱\n",
    "- 1차원 배열의 인덱싱은 리스트의 인덱싱과 같다"
   ]
  },
  {
   "cell_type": "code",
   "execution_count": 165,
   "metadata": {},
   "outputs": [
    {
     "data": {
      "text/plain": [
       "4"
      ]
     },
     "execution_count": 165,
     "metadata": {},
     "output_type": "execute_result"
    }
   ],
   "source": [
    "a = np.array([0, 1, 2, 3, 4])\n",
    "a[2] # 2\n",
    "a[-1] # 4"
   ]
  },
  {
   "cell_type": "markdown",
   "metadata": {},
   "source": [
    "### 1.4.2 다차원배열 인덱싱\n",
    "- 다차원 배열일때는 콤마를 사용해 접근\n",
    "- 콤마로 구분된 차원을 축(axis)이라 한다.\n",
    "- 축(axis) : 그래프의 x축 ,y축을 떠올리면 된다."
   ]
  },
  {
   "cell_type": "code",
   "execution_count": 166,
   "metadata": {},
   "outputs": [
    {
     "data": {
      "text/plain": [
       "5"
      ]
     },
     "execution_count": 166,
     "metadata": {},
     "output_type": "execute_result"
    }
   ],
   "source": [
    "a = np.array([[0, 1, 2], [3, 4, 5]])\n",
    "a[0,0] # 0\n",
    "a[0,1] # 1\n",
    "a[-1,-1] # 마지막행의 마지막열 : 5"
   ]
  },
  {
   "cell_type": "markdown",
   "metadata": {},
   "source": [
    "## 1.5 배열의 슬라이싱\n",
    "- 배열 객체로 구현한 다차원 배열 원소 중 복수개를 접근하려면 일반적인 파이썬 슬라이싱과 콤마(,)를 함께 사용\n"
   ]
  },
  {
   "cell_type": "code",
   "execution_count": 167,
   "metadata": {},
   "outputs": [
    {
     "data": {
      "text/plain": [
       "array([[0, 1],\n",
       "       [4, 5]])"
      ]
     },
     "execution_count": 167,
     "metadata": {},
     "output_type": "execute_result"
    }
   ],
   "source": [
    "# 2차원 배열 슬라이싱\n",
    "a = np.array([[0, 1, 2, 3], [4, 5, 6, 7]])\n",
    "a[0,:] # 첫번째 행 전체 : array([0, 1, 2, 3])\n",
    "a[:,1] # 두번째 열 전체 : array([1, 5])\n",
    "a[1,1:] # 두번째 행 두번째 열부터 : array([5, 6, 7]) \n",
    "a[:2, :2] # array([[0, 1],[4, 5]]) "
   ]
  },
  {
   "cell_type": "markdown",
   "metadata": {},
   "source": [
    "> <B>연습문제 2</B>\n",
    "> - m = np.array([[ 0,  1,  2,  3,  4], [ 5,  6,  7,  8,  9],[10, 11, 12, 13, 14]])     \n",
    "> 1) 이 행렬에서 값 7을 인덱싱한다.    \n",
    "> 2) 이 행렬에서 값 14을 인덱싱한다.     \n",
    "> 3) 이 행렬에서 배열 [6,7] 을 슬라이싱한다.      \n",
    "> 4) 이 행렬에서 배열 [7, 12] 을 슬라이싱 한다.     \n",
    "> 5) 이 행렬에서 배열[[3, 4], [8, 9]]을 슬라이싱 한다.     "
   ]
  },
  {
   "cell_type": "code",
   "execution_count": 168,
   "metadata": {},
   "outputs": [
    {
     "data": {
      "text/plain": [
       "array([[3, 4],\n",
       "       [8, 9]])"
      ]
     },
     "execution_count": 168,
     "metadata": {},
     "output_type": "execute_result"
    }
   ],
   "source": [
    "m = np.array([[ 0, 1, 2, 3, 4], [ 5, 6, 7, 8, 9],[10, 11, 12, 13, 14]])\n",
    "m[1,2] # 7 \n",
    "m[-1,-1] # 14\n",
    "m[1,1:3] # array([6, 7])\n",
    "m[1:3,2] # array([ 7, 12])\n",
    "m[:2, 3:5] # array([[3, 4],[8, 9]])"
   ]
  },
  {
   "cell_type": "markdown",
   "metadata": {},
   "source": [
    "## 1.6 배열 인덱싱\n",
    "- 넘파이 배열 객체의 또다른 강력한 기능 팬시인덱싱(\n",
    "- DB질의(Query)기능을 수행\n",
    "- 배열 인덱싱에는 대괄호([])안에 인덱싱 정보를 숫자나 슬라이스가 아닌 위치정보를 나타내는 또 다른 ndarray배열을 받을 수있다.\n",
    "- 배열 인덱싱 방법 2가지\n",
    "    - 1) 불리언(boolean)방식\n",
    "    - 2) 정수 배열 방식\n",
    "    \n",
    "    \n",
    "### 1.6.1 불리언 방식\n",
    "- 인덱스 배열의 원소가 True, False 두 값으로만 구성\n",
    "- 인덱스 배열의 크기가 원래 ndarray객체의 크기가 같아야 한다."
   ]
  },
  {
   "cell_type": "code",
   "execution_count": 169,
   "metadata": {},
   "outputs": [
    {
     "data": {
      "text/plain": [
       "array([0, 2, 4, 6, 8])"
      ]
     },
     "execution_count": 169,
     "metadata": {},
     "output_type": "execute_result"
    }
   ],
   "source": [
    "a = np.array([0, 1, 2, 3, 4, 5, 6, 7, 8, 9])\n",
    "idx = np.array([ True, False,  True, False,  True, False,  True, False,  True, False])\n",
    "a[idx] # array([0, 2, 4, 6, 8])"
   ]
  },
  {
   "cell_type": "code",
   "execution_count": 170,
   "metadata": {},
   "outputs": [
    {
     "name": "stdout",
     "output_type": "stream",
     "text": [
      "[0 1 0 1 0 1 0 1 0 1]\n",
      "[ True False  True False  True False  True False  True False]\n",
      "[0 2 4 6 8]\n"
     ]
    }
   ],
   "source": [
    "print(a % 2) # array([0, 1, 0, 1, 0, 1, 0, 1, 0, 1], dtype=int32)\n",
    "print(a % 2 == 0) # array([ True, False,  True, False,  True, False,  True, False,  True, False])\n",
    "print(a[a % 2 == 0]) # [0 2 4 6 8]"
   ]
  },
  {
   "cell_type": "markdown",
   "metadata": {},
   "source": [
    "### 1.6.2 정수 배열 방식\n",
    "- 인덱스 배열의 원소 각각이 원래 ndarray 객체 원소 하나를 가리키는 인덱스 정수여야 한다.\n",
    "- 배열 인덱스의 크기가 원래 배열 크기와 달라도 상관없음. \n",
    "- 즉, 같은 원소를 반복해서 가리키는 경우 배열 인덱스가 원래 배열보다 더 커짐"
   ]
  },
  {
   "cell_type": "code",
   "execution_count": 171,
   "metadata": {},
   "outputs": [
    {
     "data": {
      "text/plain": [
       "array([11, 33, 55, 77, 99])"
      ]
     },
     "execution_count": 171,
     "metadata": {},
     "output_type": "execute_result"
    }
   ],
   "source": [
    "# 1차원 배열에서 홀수번째 원소만 골라내기 \n",
    "a = np.array([11, 22, 33, 44, 55, 66, 77, 88, 99])\n",
    "idx = np.array([0, 2, 4, 6, 8])\n",
    "a[idx] # array([11, 33, 55, 77, 99])"
   ]
  },
  {
   "cell_type": "code",
   "execution_count": 155,
   "metadata": {},
   "outputs": [
    {
     "data": {
      "text/plain": [
       "array([11, 11, 11, 11, 11, 11, 22, 22, 22, 22, 22, 33, 33, 33, 33, 33])"
      ]
     },
     "execution_count": 155,
     "metadata": {},
     "output_type": "execute_result"
    }
   ],
   "source": [
    "# 배열 인덱스의 크기가 원래 배열 크기와 같지 않아도 됨.\n",
    "a = np.array([11, 22, 33, 44, 55, 66, 77, 88, 99])\n",
    "idx = np.array([0, 0, 0, 0, 0, 0, 1, 1, 1, 1, 1, 2, 2, 2, 2, 2])\n",
    "a[idx] # array([11, 11, 11, 11, 11, 11, 22, 22, 22, 22, 22, 33, 33, 33, 33, 33])"
   ]
  },
  {
   "cell_type": "markdown",
   "metadata": {},
   "source": [
    "### 1.6.3 다차원 배열 인덱싱"
   ]
  },
  {
   "cell_type": "code",
   "execution_count": 156,
   "metadata": {},
   "outputs": [
    {
     "data": {
      "text/plain": [
       "array([[ 9, 10, 11, 12],\n",
       "       [ 1,  2,  3,  4],\n",
       "       [ 5,  6,  7,  8]])"
      ]
     },
     "execution_count": 156,
     "metadata": {},
     "output_type": "execute_result"
    }
   ],
   "source": [
    "a = np.array([[1, 2, 3, 4], [5, 6, 7, 8], [9, 10, 11, 12]])\n",
    "a[:, [True, False, False, True]] # array([[ 1,  4], [ 5,  8], [ 9, 12]])\n",
    "a[[2, 0, 1],:] # array([[ 9, 10, 11, 12], [ 1,  2,  3,  4],[ 5,  6,  7,  8]])"
   ]
  },
  {
   "cell_type": "markdown",
   "metadata": {},
   "source": [
    "> <B>연습문제 3 </B>\n",
    "> - x = np.array([1, 2, 3, 4, 5, 6, 7, 8, 9, 10, 11, 12, 13, 14, 15, 16, 17, 18, 29, 20])\n",
    "> - 1) 이 배열에서 3의 배수를 찾아라.\n",
    "> - 2) 이 배열에서 4로 나누면 1이 남는 수를 찾아라.\n",
    "> - 3) 이 배열에서 3으로 나누면 나누어지고 4로 나누면 1이 남은 수를 찾아라.m"
   ]
  },
  {
   "cell_type": "code",
   "execution_count": 157,
   "metadata": {},
   "outputs": [
    {
     "data": {
      "text/plain": [
       "array([ 1,  3,  5,  6,  9, 12, 13, 15, 17, 18, 29])"
      ]
     },
     "execution_count": 157,
     "metadata": {},
     "output_type": "execute_result"
    }
   ],
   "source": [
    "x = np.array([1, 2, 3, 4, 5, 6, 7, 8, 9, 10, 11, 12, 13, 14, 15, 16, 17, 18, 29, 20])\n",
    "x[x % 3 == 0] # array([ 3,  6,  9, 12, 15, 18])\n",
    "x[x % 4 == 1] # array([ 1,  5,  9, 13, 17, 29])\n",
    "x[(x % 3 == 0) | (x % 4 == 1)] # array([ 1,  3,  5,  6,  9, 12, 13, 15, 17, 18, 29])"
   ]
  },
  {
   "cell_type": "markdown",
   "metadata": {},
   "source": [
    "# Unit02.배열의 생성과 변형"
   ]
  },
  {
   "cell_type": "markdown",
   "metadata": {},
   "source": [
    "## 2.1 넘파이 자료형\n",
    "- 넘파이 배열 ndarray클래스는 원소가 모두 **같은 자료형**\n",
    "- array명령으로 배열을 만들 때 자료형을 명시적으로 적용하려면 dtype인수를 사용 \n",
    "- 만약 dtype인수가 없으면 주어진 데이터를 저장할수 있는 자료형을 유추\n",
    "- 배열의 자료형을 보려면 dtype속성 사용 \n",
    "\n",
    "- #TODO : 그림 자료 추가 "
   ]
  },
  {
   "cell_type": "code",
   "execution_count": 158,
   "metadata": {},
   "outputs": [
    {
     "data": {
      "text/plain": [
       "'12'"
      ]
     },
     "execution_count": 158,
     "metadata": {},
     "output_type": "execute_result"
    }
   ],
   "source": [
    "x = np.array([1, 2, 3])\n",
    "x.dtype # dtype('int64')\n",
    "\n",
    "y = np.array([1.0, 2.0, 3.0])\n",
    "y.dtype # dtype('float64')\n",
    "\n",
    "z = np.array([1, 2, 3.0])\n",
    "z.dtype # dtype('float64')\n",
    "\n",
    "x = np.array([1, 2, 3], dtype = 'f')\n",
    "x.dtype # dtype('float32')\n",
    "x[0] + x[1] # 3.0\n",
    "\n",
    "y = np.array([1, 2, 3], dtype = 'U')\n",
    "y.dtype # dtype('<U1')\n",
    "y[0] + y[1] # '12' "
   ]
  },
  {
   "cell_type": "markdown",
   "metadata": {},
   "source": [
    "## 2.2 Inf, Nan\n",
    "- inf : 넘파이에서 무한대를 표현\n",
    "    - 예를 들면, 1을 0으로 나누려고 하거나 0에 대한 로그 값을 계산하면 무한대인 np.inf가 나온다.\n",
    "- Nan : 정의할 수 없는 숫자 \n",
    "    - 예를 들면, 0을 0으로 나누려고 시도하면 np.Nan이 나온다."
   ]
  },
  {
   "cell_type": "code",
   "execution_count": 159,
   "metadata": {},
   "outputs": [
    {
     "name": "stdout",
     "output_type": "stream",
     "text": [
      "[  0.  inf -inf  nan]\n"
     ]
    },
    {
     "name": "stderr",
     "output_type": "stream",
     "text": [
      "<ipython-input-159-89c65775fb21>:1: RuntimeWarning: divide by zero encountered in true_divide\n",
      "  print(np.array([0, 1, -1, 0])/np.array([1, 0, 0, 0])) # array([  0.,  inf, -inf,  nan])\n",
      "<ipython-input-159-89c65775fb21>:1: RuntimeWarning: invalid value encountered in true_divide\n",
      "  print(np.array([0, 1, -1, 0])/np.array([1, 0, 0, 0])) # array([  0.,  inf, -inf,  nan])\n",
      "<ipython-input-159-89c65775fb21>:2: RuntimeWarning: divide by zero encountered in log\n",
      "  np.log(0) # -inf\n"
     ]
    },
    {
     "data": {
      "text/plain": [
       "0.0"
      ]
     },
     "execution_count": 159,
     "metadata": {},
     "output_type": "execute_result"
    }
   ],
   "source": [
    "print(np.array([0, 1, -1, 0])/np.array([1, 0, 0, 0])) # array([  0.,  inf, -inf,  nan])\n",
    "np.log(0) # -inf\n",
    "np.exp(-np.inf) # 0.0"
   ]
  },
  {
   "cell_type": "markdown",
   "metadata": {},
   "source": [
    "# TODO : 설명추가, 강사님 설명 추가"
   ]
  },
  {
   "cell_type": "markdown",
   "metadata": {},
   "source": [
    "## 2.3  배열 생성"
   ]
  },
  {
   "cell_type": "code",
   "execution_count": null,
   "metadata": {},
   "outputs": [],
   "source": []
  },
  {
   "cell_type": "code",
   "execution_count": null,
   "metadata": {},
   "outputs": [],
   "source": []
  },
  {
   "cell_type": "markdown",
   "metadata": {},
   "source": [
    "### 2.3.1 zeros\n",
    "- 크기가 정해져 있고 **모든 값이 0인 배열** 생성 \n",
    "- 인수로는 배열의 크기를 넣는다. \n",
    "- dtype 인수를 넣어 자료형 원소를 가진 배열 생성 \n",
    "- 문자열 배열도 가능하지만 모든 원소의 문자열의 크기가 같아야 한다.\n",
    "- 만약 더 큰 크기의 문자열 할당하면 잘릴 수 있다. "
   ]
  },
  {
   "cell_type": "code",
   "execution_count": 23,
   "metadata": {},
   "outputs": [],
   "source": [
    "# 1차원 zeros\n",
    "a = np.zeros(5) \n",
    "\n",
    "# 다차원 zeros\n",
    "b = np.zeros((2, 3))\n",
    "\n",
    "# dtype 지정\n",
    "c = np.zeros((5, 2), dtype = 'i')\n",
    "\n",
    "# 문자열 지정 가능 \n",
    "d = np.zeros(5, dtype = 'U4')"
   ]
  },
  {
   "cell_type": "code",
   "execution_count": 24,
   "metadata": {},
   "outputs": [
    {
     "name": "stdout",
     "output_type": "stream",
     "text": [
      "(10,)\n"
     ]
    }
   ],
   "source": [
    "z1 = np.zeros(10) # size가 10인 vector(1d array)\n",
    "print(z1.shape)"
   ]
  },
  {
   "cell_type": "code",
   "execution_count": 25,
   "metadata": {},
   "outputs": [
    {
     "name": "stdout",
     "output_type": "stream",
     "text": [
      "(3, 5)\n",
      "[[0. 0. 0. 0. 0.]\n",
      " [0. 0. 0. 0. 0.]\n",
      " [0. 0. 0. 0. 0.]]\n",
      "float64\n"
     ]
    }
   ],
   "source": [
    "z2 = np.zeros([3,5]) #3 x 5 행렬\n",
    "print(z2.shape)\n",
    "print(z2)\n",
    "print(z2.dtype)"
   ]
  },
  {
   "cell_type": "code",
   "execution_count": 26,
   "metadata": {},
   "outputs": [
    {
     "name": "stdout",
     "output_type": "stream",
     "text": [
      "(5, 3, 2, 5, 6)\n",
      "float32\n"
     ]
    },
    {
     "data": {
      "text/plain": [
       "array([[[[[0., 0., 0., 0., 0., 0.],\n",
       "          [0., 0., 0., 0., 0., 0.],\n",
       "          [0., 0., 0., 0., 0., 0.],\n",
       "          [0., 0., 0., 0., 0., 0.],\n",
       "          [0., 0., 0., 0., 0., 0.]],\n",
       "\n",
       "         [[0., 0., 0., 0., 0., 0.],\n",
       "          [0., 0., 0., 0., 0., 0.],\n",
       "          [0., 0., 0., 0., 0., 0.],\n",
       "          [0., 0., 0., 0., 0., 0.],\n",
       "          [0., 0., 0., 0., 0., 0.]]],\n",
       "\n",
       "\n",
       "        [[[0., 0., 0., 0., 0., 0.],\n",
       "          [0., 0., 0., 0., 0., 0.],\n",
       "          [0., 0., 0., 0., 0., 0.],\n",
       "          [0., 0., 0., 0., 0., 0.],\n",
       "          [0., 0., 0., 0., 0., 0.]],\n",
       "\n",
       "         [[0., 0., 0., 0., 0., 0.],\n",
       "          [0., 0., 0., 0., 0., 0.],\n",
       "          [0., 0., 0., 0., 0., 0.],\n",
       "          [0., 0., 0., 0., 0., 0.],\n",
       "          [0., 0., 0., 0., 0., 0.]]],\n",
       "\n",
       "\n",
       "        [[[0., 0., 0., 0., 0., 0.],\n",
       "          [0., 0., 0., 0., 0., 0.],\n",
       "          [0., 0., 0., 0., 0., 0.],\n",
       "          [0., 0., 0., 0., 0., 0.],\n",
       "          [0., 0., 0., 0., 0., 0.]],\n",
       "\n",
       "         [[0., 0., 0., 0., 0., 0.],\n",
       "          [0., 0., 0., 0., 0., 0.],\n",
       "          [0., 0., 0., 0., 0., 0.],\n",
       "          [0., 0., 0., 0., 0., 0.],\n",
       "          [0., 0., 0., 0., 0., 0.]]]],\n",
       "\n",
       "\n",
       "\n",
       "       [[[[0., 0., 0., 0., 0., 0.],\n",
       "          [0., 0., 0., 0., 0., 0.],\n",
       "          [0., 0., 0., 0., 0., 0.],\n",
       "          [0., 0., 0., 0., 0., 0.],\n",
       "          [0., 0., 0., 0., 0., 0.]],\n",
       "\n",
       "         [[0., 0., 0., 0., 0., 0.],\n",
       "          [0., 0., 0., 0., 0., 0.],\n",
       "          [0., 0., 0., 0., 0., 0.],\n",
       "          [0., 0., 0., 0., 0., 0.],\n",
       "          [0., 0., 0., 0., 0., 0.]]],\n",
       "\n",
       "\n",
       "        [[[0., 0., 0., 0., 0., 0.],\n",
       "          [0., 0., 0., 0., 0., 0.],\n",
       "          [0., 0., 0., 0., 0., 0.],\n",
       "          [0., 0., 0., 0., 0., 0.],\n",
       "          [0., 0., 0., 0., 0., 0.]],\n",
       "\n",
       "         [[0., 0., 0., 0., 0., 0.],\n",
       "          [0., 0., 0., 0., 0., 0.],\n",
       "          [0., 0., 0., 0., 0., 0.],\n",
       "          [0., 0., 0., 0., 0., 0.],\n",
       "          [0., 0., 0., 0., 0., 0.]]],\n",
       "\n",
       "\n",
       "        [[[0., 0., 0., 0., 0., 0.],\n",
       "          [0., 0., 0., 0., 0., 0.],\n",
       "          [0., 0., 0., 0., 0., 0.],\n",
       "          [0., 0., 0., 0., 0., 0.],\n",
       "          [0., 0., 0., 0., 0., 0.]],\n",
       "\n",
       "         [[0., 0., 0., 0., 0., 0.],\n",
       "          [0., 0., 0., 0., 0., 0.],\n",
       "          [0., 0., 0., 0., 0., 0.],\n",
       "          [0., 0., 0., 0., 0., 0.],\n",
       "          [0., 0., 0., 0., 0., 0.]]]],\n",
       "\n",
       "\n",
       "\n",
       "       [[[[0., 0., 0., 0., 0., 0.],\n",
       "          [0., 0., 0., 0., 0., 0.],\n",
       "          [0., 0., 0., 0., 0., 0.],\n",
       "          [0., 0., 0., 0., 0., 0.],\n",
       "          [0., 0., 0., 0., 0., 0.]],\n",
       "\n",
       "         [[0., 0., 0., 0., 0., 0.],\n",
       "          [0., 0., 0., 0., 0., 0.],\n",
       "          [0., 0., 0., 0., 0., 0.],\n",
       "          [0., 0., 0., 0., 0., 0.],\n",
       "          [0., 0., 0., 0., 0., 0.]]],\n",
       "\n",
       "\n",
       "        [[[0., 0., 0., 0., 0., 0.],\n",
       "          [0., 0., 0., 0., 0., 0.],\n",
       "          [0., 0., 0., 0., 0., 0.],\n",
       "          [0., 0., 0., 0., 0., 0.],\n",
       "          [0., 0., 0., 0., 0., 0.]],\n",
       "\n",
       "         [[0., 0., 0., 0., 0., 0.],\n",
       "          [0., 0., 0., 0., 0., 0.],\n",
       "          [0., 0., 0., 0., 0., 0.],\n",
       "          [0., 0., 0., 0., 0., 0.],\n",
       "          [0., 0., 0., 0., 0., 0.]]],\n",
       "\n",
       "\n",
       "        [[[0., 0., 0., 0., 0., 0.],\n",
       "          [0., 0., 0., 0., 0., 0.],\n",
       "          [0., 0., 0., 0., 0., 0.],\n",
       "          [0., 0., 0., 0., 0., 0.],\n",
       "          [0., 0., 0., 0., 0., 0.]],\n",
       "\n",
       "         [[0., 0., 0., 0., 0., 0.],\n",
       "          [0., 0., 0., 0., 0., 0.],\n",
       "          [0., 0., 0., 0., 0., 0.],\n",
       "          [0., 0., 0., 0., 0., 0.],\n",
       "          [0., 0., 0., 0., 0., 0.]]]],\n",
       "\n",
       "\n",
       "\n",
       "       [[[[0., 0., 0., 0., 0., 0.],\n",
       "          [0., 0., 0., 0., 0., 0.],\n",
       "          [0., 0., 0., 0., 0., 0.],\n",
       "          [0., 0., 0., 0., 0., 0.],\n",
       "          [0., 0., 0., 0., 0., 0.]],\n",
       "\n",
       "         [[0., 0., 0., 0., 0., 0.],\n",
       "          [0., 0., 0., 0., 0., 0.],\n",
       "          [0., 0., 0., 0., 0., 0.],\n",
       "          [0., 0., 0., 0., 0., 0.],\n",
       "          [0., 0., 0., 0., 0., 0.]]],\n",
       "\n",
       "\n",
       "        [[[0., 0., 0., 0., 0., 0.],\n",
       "          [0., 0., 0., 0., 0., 0.],\n",
       "          [0., 0., 0., 0., 0., 0.],\n",
       "          [0., 0., 0., 0., 0., 0.],\n",
       "          [0., 0., 0., 0., 0., 0.]],\n",
       "\n",
       "         [[0., 0., 0., 0., 0., 0.],\n",
       "          [0., 0., 0., 0., 0., 0.],\n",
       "          [0., 0., 0., 0., 0., 0.],\n",
       "          [0., 0., 0., 0., 0., 0.],\n",
       "          [0., 0., 0., 0., 0., 0.]]],\n",
       "\n",
       "\n",
       "        [[[0., 0., 0., 0., 0., 0.],\n",
       "          [0., 0., 0., 0., 0., 0.],\n",
       "          [0., 0., 0., 0., 0., 0.],\n",
       "          [0., 0., 0., 0., 0., 0.],\n",
       "          [0., 0., 0., 0., 0., 0.]],\n",
       "\n",
       "         [[0., 0., 0., 0., 0., 0.],\n",
       "          [0., 0., 0., 0., 0., 0.],\n",
       "          [0., 0., 0., 0., 0., 0.],\n",
       "          [0., 0., 0., 0., 0., 0.],\n",
       "          [0., 0., 0., 0., 0., 0.]]]],\n",
       "\n",
       "\n",
       "\n",
       "       [[[[0., 0., 0., 0., 0., 0.],\n",
       "          [0., 0., 0., 0., 0., 0.],\n",
       "          [0., 0., 0., 0., 0., 0.],\n",
       "          [0., 0., 0., 0., 0., 0.],\n",
       "          [0., 0., 0., 0., 0., 0.]],\n",
       "\n",
       "         [[0., 0., 0., 0., 0., 0.],\n",
       "          [0., 0., 0., 0., 0., 0.],\n",
       "          [0., 0., 0., 0., 0., 0.],\n",
       "          [0., 0., 0., 0., 0., 0.],\n",
       "          [0., 0., 0., 0., 0., 0.]]],\n",
       "\n",
       "\n",
       "        [[[0., 0., 0., 0., 0., 0.],\n",
       "          [0., 0., 0., 0., 0., 0.],\n",
       "          [0., 0., 0., 0., 0., 0.],\n",
       "          [0., 0., 0., 0., 0., 0.],\n",
       "          [0., 0., 0., 0., 0., 0.]],\n",
       "\n",
       "         [[0., 0., 0., 0., 0., 0.],\n",
       "          [0., 0., 0., 0., 0., 0.],\n",
       "          [0., 0., 0., 0., 0., 0.],\n",
       "          [0., 0., 0., 0., 0., 0.],\n",
       "          [0., 0., 0., 0., 0., 0.]]],\n",
       "\n",
       "\n",
       "        [[[0., 0., 0., 0., 0., 0.],\n",
       "          [0., 0., 0., 0., 0., 0.],\n",
       "          [0., 0., 0., 0., 0., 0.],\n",
       "          [0., 0., 0., 0., 0., 0.],\n",
       "          [0., 0., 0., 0., 0., 0.]],\n",
       "\n",
       "         [[0., 0., 0., 0., 0., 0.],\n",
       "          [0., 0., 0., 0., 0., 0.],\n",
       "          [0., 0., 0., 0., 0., 0.],\n",
       "          [0., 0., 0., 0., 0., 0.],\n",
       "          [0., 0., 0., 0., 0., 0.]]]]], dtype=float32)"
      ]
     },
     "execution_count": 26,
     "metadata": {},
     "output_type": "execute_result"
    }
   ],
   "source": [
    "z3 = np.zeros((5,3,2,5,6), dtype=np.float32)\n",
    "print(z3.shape)\n",
    "print(z3.dtype)\n",
    "z3"
   ]
  },
  {
   "cell_type": "markdown",
   "metadata": {},
   "source": [
    "### 2.3.2 ones\n",
    "- 1로 초기화된 배열 생성"
   ]
  },
  {
   "cell_type": "code",
   "execution_count": 27,
   "metadata": {},
   "outputs": [
    {
     "data": {
      "text/plain": [
       "array([[[1, 1, 1, 1],\n",
       "        [1, 1, 1, 1],\n",
       "        [1, 1, 1, 1]],\n",
       "\n",
       "       [[1, 1, 1, 1],\n",
       "        [1, 1, 1, 1],\n",
       "        [1, 1, 1, 1]]])"
      ]
     },
     "execution_count": 27,
     "metadata": {},
     "output_type": "execute_result"
    }
   ],
   "source": [
    "e = np.ones((2, 3, 4), dtype = 'int')\n",
    "e"
   ]
  },
  {
   "cell_type": "code",
   "execution_count": 28,
   "metadata": {},
   "outputs": [
    {
     "name": "stdout",
     "output_type": "stream",
     "text": [
      "(10,)\n",
      "1\n",
      "float64\n"
     ]
    },
    {
     "data": {
      "text/plain": [
       "array([1., 1., 1., 1., 1., 1., 1., 1., 1., 1.])"
      ]
     },
     "execution_count": 28,
     "metadata": {},
     "output_type": "execute_result"
    }
   ],
   "source": [
    "o1 = np.ones(10) #shape 정수: 1차원배열\n",
    "print(o1.shape)\n",
    "print(o1.ndim)\n",
    "print(o1.dtype)\n",
    "o1"
   ]
  },
  {
   "cell_type": "code",
   "execution_count": 29,
   "metadata": {},
   "outputs": [
    {
     "name": "stdout",
     "output_type": "stream",
     "text": [
      "(10, 5)\n"
     ]
    },
    {
     "data": {
      "text/plain": [
       "array([[1., 1., 1., 1., 1.],\n",
       "       [1., 1., 1., 1., 1.],\n",
       "       [1., 1., 1., 1., 1.],\n",
       "       [1., 1., 1., 1., 1.],\n",
       "       [1., 1., 1., 1., 1.],\n",
       "       [1., 1., 1., 1., 1.],\n",
       "       [1., 1., 1., 1., 1.],\n",
       "       [1., 1., 1., 1., 1.],\n",
       "       [1., 1., 1., 1., 1.],\n",
       "       [1., 1., 1., 1., 1.]])"
      ]
     },
     "execution_count": 29,
     "metadata": {},
     "output_type": "execute_result"
    }
   ],
   "source": [
    "o2 = np.ones((10,5))\n",
    "print(o2.shape)\n",
    "o2"
   ]
  },
  {
   "cell_type": "code",
   "execution_count": 30,
   "metadata": {
    "scrolled": true
   },
   "outputs": [
    {
     "name": "stdout",
     "output_type": "stream",
     "text": [
      "(10, 5, 3)\n"
     ]
    },
    {
     "data": {
      "text/plain": [
       "array([[[1., 1., 1.],\n",
       "        [1., 1., 1.],\n",
       "        [1., 1., 1.],\n",
       "        [1., 1., 1.],\n",
       "        [1., 1., 1.]],\n",
       "\n",
       "       [[1., 1., 1.],\n",
       "        [1., 1., 1.],\n",
       "        [1., 1., 1.],\n",
       "        [1., 1., 1.],\n",
       "        [1., 1., 1.]],\n",
       "\n",
       "       [[1., 1., 1.],\n",
       "        [1., 1., 1.],\n",
       "        [1., 1., 1.],\n",
       "        [1., 1., 1.],\n",
       "        [1., 1., 1.]],\n",
       "\n",
       "       [[1., 1., 1.],\n",
       "        [1., 1., 1.],\n",
       "        [1., 1., 1.],\n",
       "        [1., 1., 1.],\n",
       "        [1., 1., 1.]],\n",
       "\n",
       "       [[1., 1., 1.],\n",
       "        [1., 1., 1.],\n",
       "        [1., 1., 1.],\n",
       "        [1., 1., 1.],\n",
       "        [1., 1., 1.]],\n",
       "\n",
       "       [[1., 1., 1.],\n",
       "        [1., 1., 1.],\n",
       "        [1., 1., 1.],\n",
       "        [1., 1., 1.],\n",
       "        [1., 1., 1.]],\n",
       "\n",
       "       [[1., 1., 1.],\n",
       "        [1., 1., 1.],\n",
       "        [1., 1., 1.],\n",
       "        [1., 1., 1.],\n",
       "        [1., 1., 1.]],\n",
       "\n",
       "       [[1., 1., 1.],\n",
       "        [1., 1., 1.],\n",
       "        [1., 1., 1.],\n",
       "        [1., 1., 1.],\n",
       "        [1., 1., 1.]],\n",
       "\n",
       "       [[1., 1., 1.],\n",
       "        [1., 1., 1.],\n",
       "        [1., 1., 1.],\n",
       "        [1., 1., 1.],\n",
       "        [1., 1., 1.]],\n",
       "\n",
       "       [[1., 1., 1.],\n",
       "        [1., 1., 1.],\n",
       "        [1., 1., 1.],\n",
       "        [1., 1., 1.],\n",
       "        [1., 1., 1.]]])"
      ]
     },
     "execution_count": 30,
     "metadata": {},
     "output_type": "execute_result"
    }
   ],
   "source": [
    "o3 = np.ones((10,5,3))\n",
    "print(o3.shape)\n",
    "o3"
   ]
  },
  {
   "cell_type": "markdown",
   "metadata": {},
   "source": [
    "### 2.3.3 zeros_like\n",
    "- 크기를 튜플로 명시하지 않고 다른 배열과 같은 크기의 배열 생성 "
   ]
  },
  {
   "cell_type": "code",
   "execution_count": 31,
   "metadata": {},
   "outputs": [
    {
     "data": {
      "text/plain": [
       "array([[0., 0., 0.],\n",
       "       [0., 0., 0.]], dtype=float32)"
      ]
     },
     "execution_count": 31,
     "metadata": {},
     "output_type": "execute_result"
    }
   ],
   "source": [
    "f = np.zeros_like(b, dtype = 'f')\n",
    "f"
   ]
  },
  {
   "cell_type": "code",
   "execution_count": 32,
   "metadata": {},
   "outputs": [
    {
     "ename": "NameError",
     "evalue": "name 'a8' is not defined",
     "output_type": "error",
     "traceback": [
      "\u001b[0;31m---------------------------------------------------------------------------\u001b[0m",
      "\u001b[0;31mNameError\u001b[0m                                 Traceback (most recent call last)",
      "\u001b[0;32m<ipython-input-32-5576431b74bd>\u001b[0m in \u001b[0;36m<module>\u001b[0;34m\u001b[0m\n\u001b[0;32m----> 1\u001b[0;31m \u001b[0mprint\u001b[0m\u001b[0;34m(\u001b[0m\u001b[0ma8\u001b[0m\u001b[0;34m.\u001b[0m\u001b[0mshape\u001b[0m\u001b[0;34m)\u001b[0m\u001b[0;34m\u001b[0m\u001b[0;34m\u001b[0m\u001b[0m\n\u001b[0m\u001b[1;32m      2\u001b[0m \u001b[0ma_8\u001b[0m \u001b[0;34m=\u001b[0m \u001b[0mnp\u001b[0m\u001b[0;34m.\u001b[0m\u001b[0mzeros_like\u001b[0m\u001b[0;34m(\u001b[0m\u001b[0ma8\u001b[0m\u001b[0;34m)\u001b[0m\u001b[0;34m\u001b[0m\u001b[0;34m\u001b[0m\u001b[0m\n\u001b[1;32m      3\u001b[0m \u001b[0mprint\u001b[0m\u001b[0;34m(\u001b[0m\u001b[0ma_8\u001b[0m\u001b[0;34m.\u001b[0m\u001b[0mshape\u001b[0m\u001b[0;34m)\u001b[0m\u001b[0;34m\u001b[0m\u001b[0;34m\u001b[0m\u001b[0m\n\u001b[1;32m      4\u001b[0m \u001b[0ma_8\u001b[0m\u001b[0;34m\u001b[0m\u001b[0;34m\u001b[0m\u001b[0m\n",
      "\u001b[0;31mNameError\u001b[0m: name 'a8' is not defined"
     ]
    }
   ],
   "source": [
    "print(a8.shape)\n",
    "a_8 = np.zeros_like(a8)\n",
    "print(a_8.shape)\n",
    "a_8"
   ]
  },
  {
   "cell_type": "markdown",
   "metadata": {},
   "source": [
    "### 2.3.4 ones_like"
   ]
  },
  {
   "cell_type": "code",
   "execution_count": 37,
   "metadata": {},
   "outputs": [
    {
     "name": "stdout",
     "output_type": "stream",
     "text": [
      "(5,) (5,)\n",
      "[1 1 1 1 1]\n"
     ]
    }
   ],
   "source": [
    "a = np.array([1, 2, 3, 4, 5])\n",
    "a_1 = np.ones_like(a)\n",
    "print(a.shape, a_1.shape)\n",
    "print(a_1)"
   ]
  },
  {
   "cell_type": "markdown",
   "metadata": {},
   "source": [
    "### 2.3.5 empty\n",
    "- 배열의 크기가 커지면 배열을 초기화 하는데도 시간이 걸린다.\n",
    "- 시간을 단축하려면 배열을 생성만 하고 특정한 값으로 초기화를 하지 않는 empty 명령을 사용할 수 있다.\n",
    "- empty명령으로 생선된 배열에는 기존에 메모리에 저장되어 있던 값이 있으므로 배열의 원소값을 미리 알 수 없다. "
   ]
  },
  {
   "cell_type": "code",
   "execution_count": null,
   "metadata": {},
   "outputs": [],
   "source": [
    "g = np.empty((4, 3))\n",
    "\n",
    "# [결과]\n",
    "# array([[2.68156159e+154, 2.68679050e+154, 2.96439388e-323],\n",
    "#        [0.00000000e+000, 2.12199579e-314, 2.42336543e-057],\n",
    "#        [7.42620238e-091, 1.33621713e+165, 8.26884811e-072],\n",
    "#        [5.24825413e+174, 3.99910963e+252, 9.03823221e-309]])"
   ]
  },
  {
   "cell_type": "code",
   "execution_count": null,
   "metadata": {},
   "outputs": [],
   "source": []
  },
  {
   "cell_type": "markdown",
   "metadata": {},
   "source": [
    "### 2.3.6 arange\n",
    "- np.arange(start, stop, step, dtype) \n",
    "- 특정한 규칙에 따라 증가하는 수열 생성\n",
    "- start : 범위의 시작값으로 포함되며 기본값 0으로 생략가능하다. \n",
    "- stop : 범위의 끝값으로 포함하지 않는다. 필수이다. \n",
    "- step : 간격으로 기본값은 1이다. \n",
    "- dtype: 요소의 타입 "
   ]
  },
  {
   "cell_type": "code",
   "execution_count": null,
   "metadata": {},
   "outputs": [],
   "source": [
    "np.arange(10) # array([0, 1, 2, 3, 4, 5, 6, 7, 8, 9])\n",
    "np.arange(3, 21, 2) # array([ 3,  5,  7,  9, 11, 13, 15, 17, 19])"
   ]
  },
  {
   "cell_type": "code",
   "execution_count": null,
   "metadata": {},
   "outputs": [],
   "source": [
    "a1 = np.arange(1, 10, 2)  #범위: 1 ~ 10-1, 2씩 증가\n",
    "a1"
   ]
  },
  {
   "cell_type": "code",
   "execution_count": null,
   "metadata": {},
   "outputs": [],
   "source": [
    "a2 = np.arange(1, 10) #범위: 1 ~ 9, [1씩증가]\n",
    "a2"
   ]
  },
  {
   "cell_type": "code",
   "execution_count": null,
   "metadata": {},
   "outputs": [],
   "source": [
    "a3 = np.arange(10) # 범위: [0] ~ 9, [1씩 증가]\n",
    "a3"
   ]
  },
  {
   "cell_type": "code",
   "execution_count": null,
   "metadata": {},
   "outputs": [],
   "source": [
    "a4 = np.arange(10,0,-1) #감소: 10 ~ 0+1, -1씩 증가\n",
    "a4"
   ]
  },
  {
   "cell_type": "code",
   "execution_count": null,
   "metadata": {},
   "outputs": [],
   "source": [
    "a5 = np.arange(0, 1, 0.1)  # 0 ~ 1-0.1, 0.1씩 증가\n",
    "a5"
   ]
  },
  {
   "cell_type": "code",
   "execution_count": null,
   "metadata": {},
   "outputs": [],
   "source": [
    "np.arange(0, 10).reshape(2,5)"
   ]
  },
  {
   "cell_type": "markdown",
   "metadata": {},
   "source": [
    "### 2.3.7 linspace\n",
    "- np.linspace(start, stop, num=50, endpoint=True, retstep=False, dtype=None)\n",
    "- 선형구간을 지정한 구간의 수만큼 분할한다. \n",
    "- 시작과 끝을 균등하게 나눈 값들을 가지는 배열을 생성한다. \n",
    "- start : 시작값\n",
    "- stop : 종료값\n",
    "- num : 나눌 개수. 기본-50, 양수 여야한다.\n",
    "- endpoint : stop을 포함시킬 것인지 여부. 기본 True\n",
    "- retstep : 생성된 배열 샘플과 함께 간격(step)도 리턴할지 여부. True일경우 간격도 리턴(sample, step) 튜플로 받는다.\n",
    "- dtype : 데이터 타입"
   ]
  },
  {
   "cell_type": "code",
   "execution_count": null,
   "metadata": {},
   "outputs": [],
   "source": [
    "np.linspace(0, 100, 5) # array([  0.,  25.,  50.,  75., 100.])"
   ]
  },
  {
   "cell_type": "code",
   "execution_count": null,
   "metadata": {},
   "outputs": [],
   "source": [
    "a = np.linspace(1,10) # 1 ~ 10 : 50개로 분할\n",
    "print(a.shape)\n",
    "a"
   ]
  },
  {
   "cell_type": "code",
   "execution_count": null,
   "metadata": {},
   "outputs": [],
   "source": [
    "a2 = np.linspace(1,100, num=10) \n",
    "print(a2.shape)\n",
    "a2"
   ]
  },
  {
   "cell_type": "code",
   "execution_count": null,
   "metadata": {},
   "outputs": [],
   "source": [
    "a3 = np.linspace(1,100, num=10, retstep=True) \n",
    "print(a3)\n",
    "# (배열, step)\n",
    "print(a3[0])\n",
    "print(a3[1])"
   ]
  },
  {
   "cell_type": "code",
   "execution_count": null,
   "metadata": {},
   "outputs": [],
   "source": [
    "a4 = np.linspace(1, 100, endpoint=False, num=10)\n",
    "a4"
   ]
  },
  {
   "cell_type": "markdown",
   "metadata": {},
   "source": [
    "### 2.3.8 logspace\n",
    "- 로그구간을 지정한 구간의 수만큼 분할"
   ]
  },
  {
   "cell_type": "code",
   "execution_count": null,
   "metadata": {},
   "outputs": [],
   "source": [
    "np.logspace(0.1, 1, 10)\n",
    "\n",
    "# [결과]\n",
    "# array([ 1.25892541,  1.58489319,  1.99526231,  2.51188643,  3.16227766,\n",
    "#         3.98107171,  5.01187234,  6.30957344,  7.94328235, 10.        ])"
   ]
  },
  {
   "cell_type": "markdown",
   "metadata": {},
   "source": [
    "### 2.3.9 full\n",
    "- 원소들을 원하는 값으로 채운 배열 생성"
   ]
  },
  {
   "cell_type": "code",
   "execution_count": 35,
   "metadata": {},
   "outputs": [
    {
     "name": "stdout",
     "output_type": "stream",
     "text": [
      "int64\n",
      "[5 5 5 5 5 5 5 5 5 5]\n"
     ]
    }
   ],
   "source": [
    "f1 = np.full(10, 5)\n",
    "print(f1.dtype)\n",
    "print(f1)"
   ]
  },
  {
   "cell_type": "code",
   "execution_count": 36,
   "metadata": {},
   "outputs": [
    {
     "name": "stdout",
     "output_type": "stream",
     "text": [
      "(5, 3)\n",
      "float32\n",
      "[[7. 7. 7.]\n",
      " [7. 7. 7.]\n",
      " [7. 7. 7.]\n",
      " [7. 7. 7.]\n",
      " [7. 7. 7.]]\n"
     ]
    }
   ],
   "source": [
    "f2 = np.full(shape = (5,3), fill_value = 7, dtype = np.float32)\n",
    "print(f2.shape)\n",
    "print(f2.dtype)\n",
    "print(f2)"
   ]
  },
  {
   "cell_type": "markdown",
   "metadata": {},
   "source": [
    "### 2.3.10 eye\n",
    "- todo : 설명 필요 \n",
    "- \n"
   ]
  },
  {
   "cell_type": "code",
   "execution_count": 179,
   "metadata": {},
   "outputs": [
    {
     "data": {
      "text/plain": [
       "array([[1., 0., 0., 0., 0.],\n",
       "       [0., 1., 0., 0., 0.],\n",
       "       [0., 0., 1., 0., 0.],\n",
       "       [0., 0., 0., 1., 0.],\n",
       "       [0., 0., 0., 0., 1.]])"
      ]
     },
     "execution_count": 179,
     "metadata": {},
     "output_type": "execute_result"
    }
   ],
   "source": [
    "e1 = np.eye(5) # 5 X 5\n",
    "e1"
   ]
  },
  {
   "cell_type": "code",
   "execution_count": 180,
   "metadata": {},
   "outputs": [
    {
     "data": {
      "text/plain": [
       "array([[1., 0., 0.],\n",
       "       [0., 1., 0.],\n",
       "       [0., 0., 1.],\n",
       "       [0., 0., 0.],\n",
       "       [0., 0., 0.]])"
      ]
     },
     "execution_count": 180,
     "metadata": {},
     "output_type": "execute_result"
    }
   ],
   "source": [
    "e2 = np.eye(5,3)\n",
    "e2"
   ]
  },
  {
   "cell_type": "markdown",
   "metadata": {},
   "source": [
    "### 2.3.11 identity\n",
    "- todo : 설명 필요 "
   ]
  },
  {
   "cell_type": "code",
   "execution_count": 176,
   "metadata": {},
   "outputs": [
    {
     "name": "stdout",
     "output_type": "stream",
     "text": [
      "(3, 3)\n"
     ]
    },
    {
     "data": {
      "text/plain": [
       "array([[1., 0., 0.],\n",
       "       [0., 1., 0.],\n",
       "       [0., 0., 1.]])"
      ]
     },
     "execution_count": 176,
     "metadata": {},
     "output_type": "execute_result"
    }
   ],
   "source": [
    "i = np.identity(3) # 3 X 3의 항등행렬\n",
    "print(i.shape)\n",
    "i"
   ]
  },
  {
   "cell_type": "code",
   "execution_count": 177,
   "metadata": {},
   "outputs": [
    {
     "data": {
      "text/plain": [
       "array([[1., 0., 0., 0., 0., 0., 0., 0., 0., 0.],\n",
       "       [0., 1., 0., 0., 0., 0., 0., 0., 0., 0.],\n",
       "       [0., 0., 1., 0., 0., 0., 0., 0., 0., 0.],\n",
       "       [0., 0., 0., 1., 0., 0., 0., 0., 0., 0.],\n",
       "       [0., 0., 0., 0., 1., 0., 0., 0., 0., 0.],\n",
       "       [0., 0., 0., 0., 0., 1., 0., 0., 0., 0.],\n",
       "       [0., 0., 0., 0., 0., 0., 1., 0., 0., 0.],\n",
       "       [0., 0., 0., 0., 0., 0., 0., 1., 0., 0.],\n",
       "       [0., 0., 0., 0., 0., 0., 0., 0., 1., 0.],\n",
       "       [0., 0., 0., 0., 0., 0., 0., 0., 0., 1.]])"
      ]
     },
     "execution_count": 177,
     "metadata": {},
     "output_type": "execute_result"
    }
   ],
   "source": [
    "np.identity(10)"
   ]
  },
  {
   "cell_type": "code",
   "execution_count": 178,
   "metadata": {},
   "outputs": [
    {
     "data": {
      "text/plain": [
       "array([[7., 0., 0., 0., 0.],\n",
       "       [0., 7., 0., 0., 0.],\n",
       "       [0., 0., 7., 0., 0.],\n",
       "       [0., 0., 0., 7., 0.],\n",
       "       [0., 0., 0., 0., 7.]])"
      ]
     },
     "execution_count": 178,
     "metadata": {},
     "output_type": "execute_result"
    }
   ],
   "source": [
    "np.identity(5) * 7"
   ]
  },
  {
   "cell_type": "markdown",
   "metadata": {},
   "source": [
    "## 2.4 전치연산\n",
    "- 배열의 전치연산(transpose) : 행과 열을 바꾸는 작업\n",
    "- 이는 배열의 T속성으로 구할 수 있다."
   ]
  },
  {
   "cell_type": "code",
   "execution_count": null,
   "metadata": {},
   "outputs": [],
   "source": [
    "A = np.array([[1, 2, 3],[4, 5, 6]])\n",
    "A\n",
    "# [결과]\n",
    "# array([[1, 2, 3],\n",
    "#        [4, 5, 6]])\n",
    "\n",
    "A.T\n",
    "# [결과]\n",
    "# array([[1, 4],\n",
    "#        [2, 5],\n",
    "#        [3, 6]])"
   ]
  },
  {
   "cell_type": "markdown",
   "metadata": {},
   "source": [
    "## 2.5 배열의 형태 변경\n",
    "- 배열의 내부데이터는 보존한 채로 형태만 바꾸려면 reshape명령이나 메서드를 사용한다. "
   ]
  },
  {
   "cell_type": "markdown",
   "metadata": {},
   "source": [
    "### 2.5.1 reshape\n",
    "- 사용하는 원소의 갯수가 정해져있기 때문에 reshape명령의 형태\n",
    "- -1를 통해 나머지 reshape 값을 계산하여 형태를 만들어 준다. "
   ]
  },
  {
   "cell_type": "code",
   "execution_count": null,
   "metadata": {},
   "outputs": [],
   "source": [
    "a = np.arange(12)\n",
    "a.size # (12,)"
   ]
  },
  {
   "cell_type": "code",
   "execution_count": null,
   "metadata": {},
   "outputs": [],
   "source": [
    "a1 = a.reshape(3, -1)\n",
    "a1.shape # (3, 4)\n",
    "a1"
   ]
  },
  {
   "cell_type": "code",
   "execution_count": null,
   "metadata": {},
   "outputs": [],
   "source": [
    "a2 = a.reshape(2, 2, -1)\n",
    "a2.shape # (2, 2, 3)\n",
    "a2"
   ]
  },
  {
   "cell_type": "code",
   "execution_count": null,
   "metadata": {},
   "outputs": [],
   "source": [
    "a3 = a.reshape(2, -1, 3)\n",
    "a3.shape # (2, 2, 3)\n",
    "a3"
   ]
  },
  {
   "cell_type": "markdown",
   "metadata": {},
   "source": [
    "## 2.6 차원 늘리기(확대)"
   ]
  },
  {
   "cell_type": "markdown",
   "metadata": {},
   "source": [
    "### 2.6.1 newaxis"
   ]
  },
  {
   "cell_type": "code",
   "execution_count": null,
   "metadata": {},
   "outputs": [],
   "source": []
  },
  {
   "cell_type": "code",
   "execution_count": null,
   "metadata": {},
   "outputs": [],
   "source": []
  },
  {
   "cell_type": "markdown",
   "metadata": {},
   "source": [
    "### 2.6.2 expand_dims"
   ]
  },
  {
   "cell_type": "code",
   "execution_count": null,
   "metadata": {},
   "outputs": [],
   "source": []
  },
  {
   "cell_type": "code",
   "execution_count": null,
   "metadata": {},
   "outputs": [],
   "source": []
  },
  {
   "cell_type": "code",
   "execution_count": null,
   "metadata": {},
   "outputs": [],
   "source": []
  },
  {
   "cell_type": "markdown",
   "metadata": {},
   "source": [
    "## 2.7 차원 줄이기(축소)"
   ]
  },
  {
   "cell_type": "markdown",
   "metadata": {},
   "source": [
    "### 2.7.1 squeeze"
   ]
  },
  {
   "cell_type": "code",
   "execution_count": null,
   "metadata": {},
   "outputs": [],
   "source": []
  },
  {
   "cell_type": "code",
   "execution_count": null,
   "metadata": {},
   "outputs": [],
   "source": []
  },
  {
   "cell_type": "markdown",
   "metadata": {},
   "source": [
    "### 2.7.2 flatten, ravel\n",
    "- 다차원 배열을 무조건 1차원으로 만들기 위해서 flatten 이나 ravel 메서드를 사용한다."
   ]
  },
  {
   "cell_type": "code",
   "execution_count": null,
   "metadata": {},
   "outputs": [],
   "source": [
    "a = np.arange(12).reshape(3,4)\n",
    "a\n",
    "# array([[ 0,  1,  2,  3],\n",
    "#        [ 4,  5,  6,  7],\n",
    "#        [ 8,  9, 10, 11]])\n",
    "\n",
    "b = a.flatten()\n",
    "print(b) # [ 0  1  2  3  4  5  6  7  8  9 10 11]\n",
    "\n",
    "c = a.ravel()\n",
    "print(c) # [ 0  1  2  3  4  5  6  7  8  9 10 11]"
   ]
  },
  {
   "cell_type": "code",
   "execution_count": null,
   "metadata": {},
   "outputs": [],
   "source": []
  },
  {
   "cell_type": "code",
   "execution_count": null,
   "metadata": {},
   "outputs": [],
   "source": []
  },
  {
   "cell_type": "markdown",
   "metadata": {},
   "source": [
    "## 2.8 배열연결"
   ]
  },
  {
   "cell_type": "markdown",
   "metadata": {},
   "source": [
    "### 2.8.1 concatencate"
   ]
  },
  {
   "cell_type": "code",
   "execution_count": null,
   "metadata": {},
   "outputs": [],
   "source": []
  },
  {
   "cell_type": "code",
   "execution_count": null,
   "metadata": {},
   "outputs": [],
   "source": []
  },
  {
   "cell_type": "markdown",
   "metadata": {},
   "source": [
    "### 2.8.2 hstack\n",
    "- **행의 수가 같은** 2개 이상의 배열을 **옆으로 연결**하며 **열의 수를 늘린다.**\n",
    "- 연결한 배열은 하나의 리스트에 담아야 한다. "
   ]
  },
  {
   "cell_type": "code",
   "execution_count": null,
   "metadata": {},
   "outputs": [],
   "source": [
    "a1 = np.ones((2, 3))\n",
    "a2 = np.zeros((2, 2))\n",
    "\n",
    "print(np.hstack([a1, a2]))\n",
    "\n",
    "# [결과]\n",
    "# [[1. 1. 1. 0. 0.]\n",
    "#  [1. 1. 1. 0. 0.]]"
   ]
  },
  {
   "cell_type": "code",
   "execution_count": null,
   "metadata": {},
   "outputs": [],
   "source": []
  },
  {
   "cell_type": "markdown",
   "metadata": {},
   "source": [
    "### 2.8.3 vstack\n",
    "- **열의 수가 같은** 두개 이상의 배열을 **위아래로 연결**하여 **행의 수를 늘린다.**"
   ]
  },
  {
   "cell_type": "code",
   "execution_count": null,
   "metadata": {},
   "outputs": [],
   "source": [
    "b1 = np.ones((2, 3))\n",
    "b2 = np.zeros((3, 3))\n",
    "\n",
    "print(np.vstack([b1, b2]))\n",
    "\n",
    "# [결과]\n",
    "# [[1. 1. 1.]\n",
    "#  [1. 1. 1.]\n",
    "#  [0. 0. 0.]\n",
    "#  [0. 0. 0.]\n",
    "#  [0. 0. 0.]]"
   ]
  },
  {
   "cell_type": "code",
   "execution_count": null,
   "metadata": {},
   "outputs": [],
   "source": []
  },
  {
   "cell_type": "markdown",
   "metadata": {},
   "source": [
    "### 2.8.4 dstack \n",
    "- 제3의 축 : 행이나 열이 아닌 깊이(depth)방향으로 배열을 합친다.\n",
    "- 가장 안쪽 원소의 차원이 증가한다. \n",
    "- 즉, 가장 내부의 숫자 원소가 배열이 된다.\n",
    "- shape정보로 보자면 가장 끝값 ??"
   ]
  },
  {
   "cell_type": "markdown",
   "metadata": {},
   "source": [
    "# ?? 무슨말인지 이해 안됨  다시 확인"
   ]
  },
  {
   "cell_type": "code",
   "execution_count": null,
   "metadata": {},
   "outputs": [],
   "source": []
  },
  {
   "cell_type": "code",
   "execution_count": null,
   "metadata": {},
   "outputs": [],
   "source": []
  },
  {
   "cell_type": "markdown",
   "metadata": {},
   "source": [
    "### 2.8.5 stack\n",
    "- stack명령은 dstack의 기능을 확장한 것으로 dstack처럼 마지막차원으로 연결하는 것이 아니라\n",
    "- 사용자가 지정한 차원(축으로) 배열을 연결 \n",
    "- axis인수를 사용하여 연결 후의 회전 방향을 정한다.\n",
    "- axis인수의 기본값은 0이고 가장 앞쪽에 차원이 생성된다.\n",
    "- 즉, 배열 두개가 겹치게 되므로 연결하고자 하는 배열들의 크기가 모두 같아야 한다."
   ]
  },
  {
   "cell_type": "markdown",
   "metadata": {},
   "source": [
    "# TODO: 여기 예제 다시 확인 기억이 잘 안남"
   ]
  },
  {
   "cell_type": "code",
   "execution_count": null,
   "metadata": {},
   "outputs": [],
   "source": []
  },
  {
   "cell_type": "markdown",
   "metadata": {},
   "source": [
    "### 2.8.6 r_메서드\n",
    "- hstack명령과 비슷하게 배열을 좌우로 연결 \n",
    "- 다만 메서드임에도 불구하고 소괄호\\(\\)를 사용하지 않고 대괄호\\[\\]를 사용\n",
    "- 이런 특수메서드를 인덱서라 한다."
   ]
  },
  {
   "cell_type": "code",
   "execution_count": null,
   "metadata": {},
   "outputs": [],
   "source": [
    "np.r_[np.array([1, 2, 3]), np.array([4, 5, 6])]\n",
    "\n",
    "# [결과]\n",
    "# array([1, 2, 3, 4, 5, 6])"
   ]
  },
  {
   "cell_type": "markdown",
   "metadata": {},
   "source": [
    "### 2.8.7 c_메서드 \n",
    "- 배열의 차원을 증가시킨 후 좌우로 연결 \n",
    "- 만약 1차원 배열을 연결하면 2차원 배열이 된다 "
   ]
  },
  {
   "cell_type": "code",
   "execution_count": null,
   "metadata": {},
   "outputs": [],
   "source": [
    "np.c_[np.array([1, 2, 3]), np.array([4, 5, 6])]\n",
    "\n",
    "# [결과]\n",
    "# array([[1, 4],\n",
    "#        [2, 5],\n",
    "#        [3, 6]])"
   ]
  },
  {
   "cell_type": "markdown",
   "metadata": {},
   "source": [
    "### 2.8.8 tile\n",
    "- 동일한 배열을 반복하여 연결"
   ]
  },
  {
   "cell_type": "code",
   "execution_count": null,
   "metadata": {},
   "outputs": [],
   "source": [
    "a = np.array([[0, 1, 2],[3, 4, 5]])\n",
    "\n",
    "np.tile(a, 2)\n",
    "#[결과]\n",
    "# array([[0, 1, 2, 0, 1, 2],\n",
    "#        [3, 4, 5, 3, 4, 5]])\n",
    "\n",
    "np.tile(a, (3,2))\n",
    "#[결과]\n",
    "# array([[0, 1, 2, 0, 1, 2],\n",
    "#        [3, 4, 5, 3, 4, 5],\n",
    "#        [0, 1, 2, 0, 1, 2],\n",
    "#        [3, 4, 5, 3, 4, 5],\n",
    "#        [0, 1, 2, 0, 1, 2],\n",
    "#        [3, 4, 5, 3, 4, 5]])"
   ]
  },
  {
   "cell_type": "markdown",
   "metadata": {},
   "source": [
    "## 2.9 배열분할하기"
   ]
  },
  {
   "cell_type": "markdown",
   "metadata": {},
   "source": [
    "### 2.9.1 split()"
   ]
  },
  {
   "cell_type": "code",
   "execution_count": null,
   "metadata": {},
   "outputs": [],
   "source": []
  },
  {
   "cell_type": "code",
   "execution_count": null,
   "metadata": {},
   "outputs": [],
   "source": []
  },
  {
   "cell_type": "markdown",
   "metadata": {},
   "source": [
    "### 2.9.2 hsplit()"
   ]
  },
  {
   "cell_type": "code",
   "execution_count": null,
   "metadata": {},
   "outputs": [],
   "source": []
  },
  {
   "cell_type": "code",
   "execution_count": null,
   "metadata": {},
   "outputs": [],
   "source": []
  },
  {
   "cell_type": "markdown",
   "metadata": {},
   "source": [
    "### 2.9.3 vsplit()"
   ]
  },
  {
   "cell_type": "code",
   "execution_count": null,
   "metadata": {},
   "outputs": [],
   "source": []
  },
  {
   "cell_type": "code",
   "execution_count": null,
   "metadata": {},
   "outputs": [],
   "source": []
  },
  {
   "cell_type": "code",
   "execution_count": null,
   "metadata": {},
   "outputs": [],
   "source": []
  },
  {
   "cell_type": "markdown",
   "metadata": {},
   "source": [
    "## 2.10 원소 추가 및 삭제"
   ]
  },
  {
   "cell_type": "markdown",
   "metadata": {},
   "source": [
    "### 2.10.1 append"
   ]
  },
  {
   "cell_type": "code",
   "execution_count": null,
   "metadata": {},
   "outputs": [],
   "source": []
  },
  {
   "cell_type": "code",
   "execution_count": null,
   "metadata": {},
   "outputs": [],
   "source": []
  },
  {
   "cell_type": "markdown",
   "metadata": {},
   "source": [
    "### 2.10.2 insert"
   ]
  },
  {
   "cell_type": "code",
   "execution_count": null,
   "metadata": {},
   "outputs": [],
   "source": []
  },
  {
   "cell_type": "code",
   "execution_count": null,
   "metadata": {},
   "outputs": [],
   "source": []
  },
  {
   "cell_type": "markdown",
   "metadata": {},
   "source": [
    "### 2.10.3 delete"
   ]
  },
  {
   "cell_type": "code",
   "execution_count": null,
   "metadata": {},
   "outputs": [],
   "source": []
  },
  {
   "cell_type": "markdown",
   "metadata": {},
   "source": [
    "# ======Unit03. ========="
   ]
  },
  {
   "cell_type": "markdown",
   "metadata": {},
   "source": [
    "# Unit03.배열의 연산"
   ]
  },
  {
   "cell_type": "markdown",
   "metadata": {},
   "source": [
    "## 3.1 벡터화, 벡터연산\n",
    "- 벡터화 연산을 쓰면 명시적으로 반복문을 사용하지 않고도 배열의 모든 원소에 대해 반복 연산 할 수 있다.\n",
    "- 선형대수공식과 동일한 \n",
    "- TODO : 그림 추가 ? "
   ]
  },
  {
   "cell_type": "markdown",
   "metadata": {},
   "source": [
    "만약 벡터화 연산을 사용하지 않으면? 반복문을 사용해서 만들어야 하는 번거로움이 있다. "
   ]
  },
  {
   "cell_type": "code",
   "execution_count": null,
   "metadata": {},
   "outputs": [],
   "source": [
    "# 반복문 사용 코드 "
   ]
  },
  {
   "cell_type": "markdown",
   "metadata": {},
   "source": [
    "벡터화 연산을 사용하면 덧셈 연산 하나로 끝난다."
   ]
  },
  {
   "cell_type": "code",
   "execution_count": null,
   "metadata": {},
   "outputs": [],
   "source": []
  },
  {
   "cell_type": "markdown",
   "metadata": {},
   "source": [
    "사칙연산뿐 아니라 비교연산자 같은 논리연산도 벡터 연산이 가능하다."
   ]
  },
  {
   "cell_type": "code",
   "execution_count": null,
   "metadata": {},
   "outputs": [],
   "source": []
  },
  {
   "cell_type": "markdown",
   "metadata": {},
   "source": [
    "원소들을 일일이 비교하는 것이 아니라 배열의 모든 원소가 같은지 알고싶다면 all명령어를 사용한다. "
   ]
  },
  {
   "cell_type": "code",
   "execution_count": null,
   "metadata": {},
   "outputs": [],
   "source": [
    "a = np.array([1, 2, 3, 4])\n",
    "b = np.array([4, 2, 2, 4])\n",
    "c = np.array([1, 2, 3, 4])\n",
    "\n",
    "np.all(a == b) # False\n",
    "np.all(a == c) # True"
   ]
  },
  {
   "cell_type": "markdown",
   "metadata": {},
   "source": [
    "지수함수, 로그함수 등 수학함수도 벡터화 연산을 지원한다."
   ]
  },
  {
   "cell_type": "code",
   "execution_count": null,
   "metadata": {},
   "outputs": [],
   "source": [
    "a = np.arange(5) # [0 1 2 3 4]\n",
    "np.exp(a)   # array([ 1.        ,  2.71828183,  7.3890561 , 20.08553692, 54.59815003])\n",
    "\n",
    "10**a       # array([    1,    10,   100,  1000, 10000])\n",
    "\n",
    "np.log(a+1) # array([0.        , 0.69314718, 1.09861229, 1.38629436, 1.60943791])"
   ]
  },
  {
   "cell_type": "markdown",
   "metadata": {},
   "source": [
    "### 3.1.1 벡터,행렬과 스칼라 연산"
   ]
  },
  {
   "cell_type": "code",
   "execution_count": null,
   "metadata": {},
   "outputs": [],
   "source": []
  },
  {
   "cell_type": "code",
   "execution_count": null,
   "metadata": {},
   "outputs": [],
   "source": [
    "a = np.arange(10) # array([0, 1, 2, 3, 4, 5, 6, 7, 8, 9])\n",
    "100 * x # array([  0, 100, 200, 300, 400, 500, 600, 700, 800, 900])\n",
    "\n",
    "b = np.arange(12).reshape(3,4)\n",
    "100 * b\n",
    "#[결과]\n",
    "# array([[   0,  100,  200,  300],\n",
    "#        [ 400,  500,  600,  700],\n",
    "#        [ 800,  900, 1000, 1100]])"
   ]
  },
  {
   "cell_type": "markdown",
   "metadata": {},
   "source": [
    "### 3.1.2 벡터, 행렬간 연산"
   ]
  },
  {
   "cell_type": "code",
   "execution_count": null,
   "metadata": {},
   "outputs": [],
   "source": []
  },
  {
   "cell_type": "code",
   "execution_count": null,
   "metadata": {},
   "outputs": [],
   "source": []
  },
  {
   "cell_type": "markdown",
   "metadata": {},
   "source": [
    "## 3.2 브로드캐스팅\n",
    "- 벡터(또는 행렬)끼리 덧셈, 혹은 뺄셈을 하려면 두 벡터(또는 행렬)의 크리가 같아야 한다.\n",
    "- 넘파이에서는 서로 다른 크기를 가진 두 배열의 사칙연산도 지원한다.\n",
    "- 이 기능을 브로드캐스팅(broadcasting)이라고 하는데 크기가 작은 배열을 자동으로 반복 확장하여 크기가 큰 배열에 맞추는 방법이다.\n",
    "\n",
    "- ToDO : 예시그림?"
   ]
  },
  {
   "cell_type": "code",
   "execution_count": 39,
   "metadata": {},
   "outputs": [
    {
     "name": "stdout",
     "output_type": "stream",
     "text": [
      "[1 2 3 4 5]\n",
      "[1 2 3 4 5]\n"
     ]
    }
   ],
   "source": [
    "x = np.arange(5)\n",
    "y = np.ones_like(x)\n",
    "print(x + y)\n",
    "print(x + 1)"
   ]
  },
  {
   "cell_type": "markdown",
   "metadata": {},
   "source": [
    "브로드캐스팅은 다음처럼 더 차원 높은 경우에도 적용된다."
   ]
  },
  {
   "cell_type": "code",
   "execution_count": 40,
   "metadata": {},
   "outputs": [
    {
     "data": {
      "text/plain": [
       "array([[0, 1, 2],\n",
       "       [1, 2, 3],\n",
       "       [2, 3, 4],\n",
       "       [3, 4, 5],\n",
       "       [4, 5, 6]])"
      ]
     },
     "execution_count": 40,
     "metadata": {},
     "output_type": "execute_result"
    }
   ],
   "source": [
    "x = np.vstack([range(7)[i:i+3] for i in range(5)])\n",
    "x"
   ]
  },
  {
   "cell_type": "code",
   "execution_count": 42,
   "metadata": {},
   "outputs": [
    {
     "data": {
      "text/plain": [
       "array([[0],\n",
       "       [1],\n",
       "       [2],\n",
       "       [3],\n",
       "       [4]])"
      ]
     },
     "execution_count": 42,
     "metadata": {},
     "output_type": "execute_result"
    }
   ],
   "source": [
    "y = np.arange(5)[:, np.newaxis]\n",
    "y"
   ]
  },
  {
   "cell_type": "code",
   "execution_count": 43,
   "metadata": {},
   "outputs": [
    {
     "name": "stdout",
     "output_type": "stream",
     "text": [
      "[[ 0  1  2]\n",
      " [ 2  3  4]\n",
      " [ 4  5  6]\n",
      " [ 6  7  8]\n",
      " [ 8  9 10]]\n"
     ]
    }
   ],
   "source": [
    "print(x + y)"
   ]
  },
  {
   "cell_type": "code",
   "execution_count": null,
   "metadata": {},
   "outputs": [],
   "source": []
  },
  {
   "cell_type": "code",
   "execution_count": null,
   "metadata": {},
   "outputs": [],
   "source": []
  },
  {
   "cell_type": "code",
   "execution_count": null,
   "metadata": {},
   "outputs": [],
   "source": []
  },
  {
   "cell_type": "markdown",
   "metadata": {},
   "source": [
    "## 3.3 내적"
   ]
  },
  {
   "cell_type": "code",
   "execution_count": null,
   "metadata": {},
   "outputs": [],
   "source": []
  },
  {
   "cell_type": "code",
   "execution_count": null,
   "metadata": {},
   "outputs": [],
   "source": []
  },
  {
   "cell_type": "markdown",
   "metadata": {},
   "source": [
    "### 3.3.1 벡터간 내적"
   ]
  },
  {
   "cell_type": "code",
   "execution_count": null,
   "metadata": {},
   "outputs": [],
   "source": []
  },
  {
   "cell_type": "code",
   "execution_count": null,
   "metadata": {},
   "outputs": [],
   "source": []
  },
  {
   "cell_type": "markdown",
   "metadata": {},
   "source": [
    "### 3.3.2 행렬간 내적"
   ]
  },
  {
   "cell_type": "code",
   "execution_count": null,
   "metadata": {},
   "outputs": [],
   "source": []
  },
  {
   "cell_type": "code",
   "execution_count": null,
   "metadata": {},
   "outputs": [],
   "source": []
  },
  {
   "cell_type": "markdown",
   "metadata": {},
   "source": [
    "## 3.4 범용함수"
   ]
  },
  {
   "cell_type": "code",
   "execution_count": null,
   "metadata": {},
   "outputs": [],
   "source": []
  },
  {
   "cell_type": "code",
   "execution_count": null,
   "metadata": {},
   "outputs": [],
   "source": []
  },
  {
   "cell_type": "markdown",
   "metadata": {},
   "source": [
    "### 3.4.1 단항범용함수"
   ]
  },
  {
   "cell_type": "code",
   "execution_count": null,
   "metadata": {},
   "outputs": [],
   "source": []
  },
  {
   "cell_type": "code",
   "execution_count": null,
   "metadata": {},
   "outputs": [],
   "source": []
  },
  {
   "cell_type": "markdown",
   "metadata": {},
   "source": [
    "### 3.4.2 이항범용함수"
   ]
  },
  {
   "cell_type": "code",
   "execution_count": null,
   "metadata": {},
   "outputs": [],
   "source": []
  },
  {
   "cell_type": "code",
   "execution_count": null,
   "metadata": {},
   "outputs": [],
   "source": []
  },
  {
   "cell_type": "markdown",
   "metadata": {},
   "source": [
    "## 3.5 누적연산함수"
   ]
  },
  {
   "cell_type": "markdown",
   "metadata": {},
   "source": [
    "### 3.5.1 reduce"
   ]
  },
  {
   "cell_type": "markdown",
   "metadata": {},
   "source": [
    "### 3.5.2 accumulate"
   ]
  },
  {
   "cell_type": "code",
   "execution_count": null,
   "metadata": {},
   "outputs": [],
   "source": []
  },
  {
   "cell_type": "markdown",
   "metadata": {},
   "source": [
    "### 3.6.3 불리언\n",
    "- all\n",
    "- any"
   ]
  },
  {
   "cell_type": "code",
   "execution_count": null,
   "metadata": {},
   "outputs": [],
   "source": [
    "np.all([True, True, False]) # False\n",
    "np.any([True, True, False]) # True"
   ]
  },
  {
   "cell_type": "code",
   "execution_count": null,
   "metadata": {},
   "outputs": [],
   "source": [
    "a = np.zeros((100,100), dtype = int)\n",
    "np.any(a != 0) # False\n",
    "np.all(a == 0) # True"
   ]
  },
  {
   "cell_type": "code",
   "execution_count": null,
   "metadata": {},
   "outputs": [],
   "source": [
    "x = np.array([1, 2, 3, 2])\n",
    "y = np.array([2, 2, 3, 2])\n",
    "z = np.array([6, 4, 4, 5])\n",
    "\n",
    "(x <= y) & (y <= z) # array([ True,  True,  True,  True])\n",
    "((x <= y) & (y <= z)).all() # True"
   ]
  },
  {
   "cell_type": "code",
   "execution_count": null,
   "metadata": {},
   "outputs": [],
   "source": []
  },
  {
   "cell_type": "markdown",
   "metadata": {},
   "source": [
    "## 3.7 정렬"
   ]
  },
  {
   "cell_type": "markdown",
   "metadata": {},
   "source": [
    "### 3.7.1 sort\n",
    "- axis인수를 사용하여 행을 정렬할 것인지 열을 정렬할 것인지 결정한다.\n",
    "- axis = 0 각각의 행을 따로따로 정렬\n",
    "- axis = 1 각각의 열을 따로따로 정렬 \n",
    "- 디폴트 값은 -1, 즉 가장 안쪽(나중)의 차원이다. "
   ]
  },
  {
   "cell_type": "code",
   "execution_count": null,
   "metadata": {},
   "outputs": [],
   "source": [
    "a = np.array([\n",
    "    [4, 3, 5, 7], \n",
    "    [1, 12, 11, 9],\n",
    "    [2, 15, 1, 14]\n",
    "])\n",
    "\n",
    "np.sort(a) # axis의 기본값은 -1\n",
    "# [결과]\n",
    "# array([[ 3,  4,  5,  7],\n",
    "#        [ 1,  9, 11, 12],\n",
    "#        [ 1,  2, 14, 15]])\n",
    "\n",
    "np.sort(a, axis = 0)\n",
    "# [결과]\n",
    "# array([[ 1,  3,  1,  7],\n",
    "#        [ 2, 12,  5,  9],\n",
    "#        [ 4, 15, 11, 14]])"
   ]
  },
  {
   "cell_type": "markdown",
   "metadata": {},
   "source": [
    "sort메서드는 해당 객체의 자료 자체가 변화하는 자체변화(inplace)메서드이므로 사용할 때 주의해야 한다."
   ]
  },
  {
   "cell_type": "code",
   "execution_count": null,
   "metadata": {},
   "outputs": [],
   "source": []
  },
  {
   "cell_type": "markdown",
   "metadata": {},
   "source": [
    "### 3.7.2 argsort --> 이부분 확인\n",
    "- 자료를 정렬하는 것이 아니라 순서만 알고 싶다면 argsort"
   ]
  },
  {
   "cell_type": "code",
   "execution_count": null,
   "metadata": {},
   "outputs": [],
   "source": [
    "# a = np.array([]) "
   ]
  },
  {
   "cell_type": "code",
   "execution_count": null,
   "metadata": {},
   "outputs": [],
   "source": []
  },
  {
   "cell_type": "code",
   "execution_count": null,
   "metadata": {},
   "outputs": [],
   "source": []
  },
  {
   "cell_type": "code",
   "execution_count": null,
   "metadata": {},
   "outputs": [],
   "source": []
  },
  {
   "cell_type": "code",
   "execution_count": null,
   "metadata": {},
   "outputs": [],
   "source": []
  },
  {
   "cell_type": "markdown",
   "metadata": {},
   "source": [
    "# =====Unit04. 기술통계 ====="
   ]
  },
  {
   "cell_type": "markdown",
   "metadata": {},
   "source": [
    "# Unit04. 기술통계"
   ]
  },
  {
   "cell_type": "markdown",
   "metadata": {},
   "source": [
    "## 4.1 데이터의 개수 :  len\n",
    "- 데이터의 개수는 len명령으로 구한다."
   ]
  },
  {
   "cell_type": "code",
   "execution_count": 44,
   "metadata": {},
   "outputs": [
    {
     "data": {
      "text/plain": [
       "26"
      ]
     },
     "execution_count": 44,
     "metadata": {},
     "output_type": "execute_result"
    }
   ],
   "source": [
    "x = np.array([18,   5,  10,  23,  19,  -8,  10,   0,   0,   5,   2,  15,   8,\n",
    "              2,   5,   4,  15,  -1,   4,  -7, -24,   7,   9,  -6,  23, -13])\n",
    "len(x)"
   ]
  },
  {
   "cell_type": "markdown",
   "metadata": {},
   "source": [
    "## 4.2 표본 평균 : mean\n",
    "- np.mean()\n",
    "- 평균을 통계용어로는 표본평균이라 한다.(sample average, smple mean)\n",
    "- x데이터에 대한 표본 평균은 {}로 표시\n",
    "- TODO : 식 \n"
   ]
  },
  {
   "cell_type": "code",
   "execution_count": 47,
   "metadata": {},
   "outputs": [
    {
     "data": {
      "text/plain": [
       "4.8076923076923075"
      ]
     },
     "execution_count": 47,
     "metadata": {},
     "output_type": "execute_result"
    }
   ],
   "source": [
    "x = np.array([18,   5,  10,  23,  19,  -8,  10,   0,   0,   5,   2,  15,   8,\n",
    "              2,   5,   4,  15,  -1,   4,  -7, -24,   7,   9,  -6,  23, -13])\n",
    "\n",
    "np.mean(x)"
   ]
  },
  {
   "cell_type": "markdown",
   "metadata": {},
   "source": [
    "## 4.3 표본 분산 : var\n",
    "- np.var()\n",
    "- 표본분산(sample variance) : 데이터와 표본 평균간의 거리의 제곱의 평균 \n",
    "- 표본 분산이 작으면 데이터가 모여 있는것이고, 크면 데이터가 흩어진 것이다. \n",
    "- TODO : 식 = ?? "
   ]
  },
  {
   "cell_type": "code",
   "execution_count": 49,
   "metadata": {},
   "outputs": [
    {
     "name": "stdout",
     "output_type": "stream",
     "text": [
      "115.23224852071006\n",
      "119.84153846153846\n"
     ]
    }
   ],
   "source": [
    "x = np.array([18,   5,  10,  23,  19,  -8,  10,   0,   0,   5,   2,  15,   8,\n",
    "              2,   5,   4,  15,  -1,   4,  -7, -24,   7,   9,  -6,  23, -13])\n",
    "\n",
    "print(np.var(x)) # 분산\n",
    "print(np.var(x, ddof = 1)) # 비편향 분산. "
   ]
  },
  {
   "cell_type": "markdown",
   "metadata": {},
   "source": [
    "## 4.4 표본 표준편차 :  std\n",
    "- np.std()\n",
    "- 표본 표준편차"
   ]
  },
  {
   "cell_type": "code",
   "execution_count": 50,
   "metadata": {},
   "outputs": [
    {
     "data": {
      "text/plain": [
       "10.734628476137871"
      ]
     },
     "execution_count": 50,
     "metadata": {},
     "output_type": "execute_result"
    }
   ],
   "source": [
    "x = np.array([18,   5,  10,  23,  19,  -8,  10,   0,   0,   5,   2,  15,   8,\n",
    "              2,   5,   4,  15,  -1,   4,  -7, -24,   7,   9,  -6,  23, -13])\n",
    "\n",
    "np.std(x)"
   ]
  },
  {
   "cell_type": "markdown",
   "metadata": {},
   "source": [
    "## 4.5 최댓값과 최솟값\n",
    "    - np.min()\n",
    "    - np.max()\n",
    "    - np.argmin() : 최솟값의 인덱스\n",
    "    - npargmax() : 최댓값의 인덱스"
   ]
  },
  {
   "cell_type": "code",
   "execution_count": null,
   "metadata": {},
   "outputs": [],
   "source": [
    "x = np.array([4, 2, 3, 6])\n",
    "print(x.max())     # 6\n",
    "print(x.min())     # 2\n",
    "print(x.argmin())  # 1\n",
    "print(x.argmax())  # 3"
   ]
  },
  {
   "cell_type": "markdown",
   "metadata": {},
   "source": [
    "## 4.6 중앙값 \n",
    "- np.median()\n",
    "- 데이터를 크기대로 정렬하였을 때 가장 가운데 있는 수 \n",
    "- 만약 데이터의 수가 짝수이면 가장 가운데 있는 두수의 평균을 사용한다."
   ]
  },
  {
   "cell_type": "code",
   "execution_count": null,
   "metadata": {},
   "outputs": [],
   "source": []
  },
  {
   "cell_type": "markdown",
   "metadata": {},
   "source": [
    "## 4.7 사분위수 \n",
    "- np.quartile()\n",
    "- 데이터를 가장 작은 수 부터 가장 큰 수 까지 크기가 커지는 순서대로 정렬하였을 때 \n",
    "- 1/4(1사분위) : \n",
    "- 2/4(2사분위) :  \n",
    "- 3/4(3사분위) : \n",
    "- 4/4(4사분위) : "
   ]
  },
  {
   "cell_type": "code",
   "execution_count": null,
   "metadata": {},
   "outputs": [],
   "source": []
  },
  {
   "cell_type": "markdown",
   "metadata": {},
   "source": [
    "## 4.8 백분위수\n",
    "- np.percentile()\n",
    "- 위치를 1/100단위로 나눔 "
   ]
  },
  {
   "cell_type": "code",
   "execution_count": null,
   "metadata": {},
   "outputs": [],
   "source": []
  },
  {
   "cell_type": "markdown",
   "metadata": {},
   "source": [
    "# Unit05. 난수발생과 카운팅"
   ]
  },
  {
   "cell_type": "markdown",
   "metadata": {},
   "source": [
    "## 5.1 시드설정 seed\n",
    "- 컴퓨터 프로그램에서 발생하는 무작위수는 사실 엄격히 무작위수가아니다. \n",
    "- 특정한 시작 숫자를 정해주면 컴퓨터가 정한 알고리즘에 의해 마치 난수처럼 보이는 수열을 생성한다. \n",
    "- 시작숫자를 시드라고 한다. \n",
    "- 시드 값은 한번만 정해주면 된다.\n",
    "- 특정한 시드값이 사용되면 그 다음에 만들어지는 난수들은 모두 예측가능하다. \n",
    "- 코드 결과를 재현하기 위해 항상 시드를 설정한다. \n",
    "- 인수로는 0 이상의 정수를 넣어준다. "
   ]
  },
  {
   "cell_type": "code",
   "execution_count": 94,
   "metadata": {},
   "outputs": [],
   "source": [
    "np.random.seed(0)"
   ]
  },
  {
   "cell_type": "code",
   "execution_count": 98,
   "metadata": {},
   "outputs": [
    {
     "name": "stdout",
     "output_type": "stream",
     "text": [
      "[0.67063787 0.21038256 0.1289263  0.31542835 0.36371077]\n",
      "[0.57019677 0.43860151 0.98837384 0.10204481 0.20887676 0.16130952\n",
      " 0.65310833 0.2532916  0.46631077 0.24442559]\n"
     ]
    }
   ],
   "source": [
    "# 밑에 계속 실행하면 계속 변한다. 시드 실행하고 다시 실행하면 \n",
    "print(np.random.rand(5))\n",
    "print(np.random.rand(10))"
   ]
  },
  {
   "cell_type": "code",
   "execution_count": null,
   "metadata": {},
   "outputs": [],
   "source": []
  },
  {
   "cell_type": "code",
   "execution_count": null,
   "metadata": {},
   "outputs": [],
   "source": []
  },
  {
   "cell_type": "code",
   "execution_count": null,
   "metadata": {},
   "outputs": [],
   "source": []
  },
  {
   "cell_type": "code",
   "execution_count": null,
   "metadata": {},
   "outputs": [],
   "source": []
  },
  {
   "cell_type": "code",
   "execution_count": null,
   "metadata": {},
   "outputs": [],
   "source": []
  },
  {
   "cell_type": "code",
   "execution_count": null,
   "metadata": {},
   "outputs": [],
   "source": []
  },
  {
   "cell_type": "code",
   "execution_count": null,
   "metadata": {},
   "outputs": [],
   "source": []
  },
  {
   "cell_type": "code",
   "execution_count": null,
   "metadata": {},
   "outputs": [],
   "source": []
  },
  {
   "cell_type": "code",
   "execution_count": null,
   "metadata": {},
   "outputs": [],
   "source": []
  },
  {
   "cell_type": "code",
   "execution_count": null,
   "metadata": {},
   "outputs": [],
   "source": []
  },
  {
   "cell_type": "code",
   "execution_count": null,
   "metadata": {},
   "outputs": [],
   "source": []
  },
  {
   "cell_type": "code",
   "execution_count": null,
   "metadata": {},
   "outputs": [],
   "source": []
  },
  {
   "cell_type": "markdown",
   "metadata": {},
   "source": [
    "## 5.2 데이터 순서 바꾸기 shuffle\n",
    "- 데이터 순서를 바꾸려면 shuffle함수를 사용한다. \n",
    "- suffle함수도 자체 변환(in-place)함수로 한번 사용하면 변수의 값이 바뀌므로 사용에 주의해야 한다. "
   ]
  },
  {
   "cell_type": "code",
   "execution_count": 106,
   "metadata": {},
   "outputs": [
    {
     "data": {
      "text/plain": [
       "array([5, 0, 8, 6, 7, 9, 2, 1, 4, 3])"
      ]
     },
     "execution_count": 106,
     "metadata": {},
     "output_type": "execute_result"
    }
   ],
   "source": [
    "x = np.arange(10)\n",
    "np.random.shuffle(x)\n",
    "x"
   ]
  },
  {
   "cell_type": "markdown",
   "metadata": {},
   "source": [
    "## 5.3 데이터 샘플링 choice\n",
    "- np.random.choid(a, size = Noen, replace = True, p = None)\n",
    "- a : 배열이면 원래의 데이터, 정수이면 arange(a)명령으로 데이터 생성\n",
    "- size : 정수, 샘플 숫자\n",
    "- replace : 불리언, True이면 한번 선택한 데이터를 다시 선택 가능\n",
    "- p : 배열, 각 데이터가 선택될 수 있는 확률 "
   ]
  },
  {
   "cell_type": "code",
   "execution_count": 107,
   "metadata": {},
   "outputs": [
    {
     "data": {
      "text/plain": [
       "array([2, 3, 0, 3, 2])"
      ]
     },
     "execution_count": 107,
     "metadata": {},
     "output_type": "execute_result"
    }
   ],
   "source": [
    "np.random.choice(5, 5, replace = True)"
   ]
  },
  {
   "cell_type": "code",
   "execution_count": 109,
   "metadata": {},
   "outputs": [
    {
     "data": {
      "text/plain": [
       "array([1, 2, 4])"
      ]
     },
     "execution_count": 109,
     "metadata": {},
     "output_type": "execute_result"
    }
   ],
   "source": [
    "np.random.choice(5, 3, replace = False)"
   ]
  },
  {
   "cell_type": "code",
   "execution_count": 110,
   "metadata": {},
   "outputs": [
    {
     "data": {
      "text/plain": [
       "array([0, 3, 2, 3, 0, 4, 0, 0, 2, 3])"
      ]
     },
     "execution_count": 110,
     "metadata": {},
     "output_type": "execute_result"
    }
   ],
   "source": [
    "np.random.choice(5, 10) # 반복해서 10개 선택"
   ]
  },
  {
   "cell_type": "code",
   "execution_count": 111,
   "metadata": {},
   "outputs": [
    {
     "data": {
      "text/plain": [
       "array([3, 2, 3, 3, 2, 3, 3, 3, 3, 3])"
      ]
     },
     "execution_count": 111,
     "metadata": {},
     "output_type": "execute_result"
    }
   ],
   "source": [
    "np.random.choice(5, 10, p = [0.1, 0, 0.3, 0.6, 0]) # 선택확률을 다르게 해서 10개 선택 "
   ]
  },
  {
   "cell_type": "markdown",
   "metadata": {},
   "source": [
    "## 5.4 난수 생성\n",
    "- 넘파이의 random서브 패키지는 이외에도 난수를 생성하는 다양한 함수를 제공한다. \n",
    "- rand : 0부터 1사이의 균일 분포\n",
    "- randn : 표준 정규 분포\n",
    "- randint : 균일 분포의 정수 난수\n",
    "- normal : todo \n",
    "\n",
    "### 5.4.1 rand\n",
    "- 0부터 1사이에서 균일한 확률 분포로 실수 난수를 생성한다.\n",
    "- 숫자 인수는 생성할 난수의 크기이다.\n",
    "- 여러개의 인수를 넣으면 해당 크기를 가진 행렬을 생성한다. \n",
    "\n",
    "np.random.rand(10) # 0 - 1 사이의 10개 생성 \n",
    "\n",
    "np.random.rand(3, 5)\n",
    "\n",
    "### 5.4.2 randn\n",
    "- 기댓값이 0이고 표준편차가 1인 표준 정규분포를 따르는 난수를 생성한다. \n",
    "- 질문 : 범위가 어떻게 되는거야?\n",
    "\n",
    "np.random.randn(10) # 10개 생성 \n",
    "\n",
    "np.random.randn(3, 5)\n",
    "\n",
    "### 5.4.3 randint\n",
    "- np.random.randint(low, high = None, size = None)\n",
    "- 만약 high를 입력하지 않으면 0과 low사이의 숫자를 \n",
    "- high를 입력하면 low와 high 사이의 숫자를 출력한다.\n",
    "- size는 난수의 숫자이다.\n",
    "\n",
    "np.random.randint(10, size = 10) # 0과 10사이의 숫자 10개 출력 \n",
    "np.random.randint(10, 20, size = 10) # 10 - 20 사이 숫자 10개 출력\n",
    "np.random.randint(10, 20, size = (3, 5)) \n",
    "\n",
    "### 5.4.4 normal\n",
    "- np.random.normal(loc=0.0, scale=1.0, size=None)\n",
    "- 정규분포를 따르는 난수이다. \n",
    "- loc: 평균\n",
    "- scale: 표준편차\n",
    "- loc, scale 생략시 표준정규 분포를 따르는 난수를 제공 "
   ]
  },
  {
   "cell_type": "markdown",
   "metadata": {},
   "source": []
  },
  {
   "cell_type": "code",
   "execution_count": 112,
   "metadata": {},
   "outputs": [
    {
     "data": {
      "text/plain": [
       "array([0.97857093, 0.11620191, 0.7670237 , 0.41182014, 0.67543908,\n",
       "       0.24979628, 0.31321833, 0.96541622, 0.58846509, 0.65966841])"
      ]
     },
     "execution_count": 112,
     "metadata": {},
     "output_type": "execute_result"
    }
   ],
   "source": []
  },
  {
   "cell_type": "code",
   "execution_count": 113,
   "metadata": {},
   "outputs": [
    {
     "data": {
      "text/plain": [
       "array([[0.53320625, 0.23053302, 0.39486929, 0.61880856, 0.47486752],\n",
       "       [0.47013219, 0.71607453, 0.287991  , 0.38346223, 0.74916984],\n",
       "       [0.87845219, 0.10286336, 0.09237389, 0.35404666, 0.55181626]])"
      ]
     },
     "execution_count": 113,
     "metadata": {},
     "output_type": "execute_result"
    }
   ],
   "source": []
  },
  {
   "cell_type": "markdown",
   "metadata": {},
   "source": []
  },
  {
   "cell_type": "code",
   "execution_count": 115,
   "metadata": {},
   "outputs": [
    {
     "data": {
      "text/plain": [
       "array([ 0.46235833,  0.35354835, -1.06197932, -0.26135467, -1.17139852,\n",
       "       -1.85708744, -0.14481625, -0.48386811, -0.77979698,  1.21390595])"
      ]
     },
     "execution_count": 115,
     "metadata": {},
     "output_type": "execute_result"
    }
   ],
   "source": []
  },
  {
   "cell_type": "code",
   "execution_count": 116,
   "metadata": {},
   "outputs": [
    {
     "data": {
      "text/plain": [
       "array([[-2.12251201e+00, -1.37766811e-01, -4.17322625e-01,\n",
       "        -4.06536527e-01,  1.06095115e+00],\n",
       "       [-1.03522496e-01,  1.41816829e-01,  5.81819743e-01,\n",
       "         1.35454064e+00,  4.61577057e-01],\n",
       "       [-6.51715276e-01,  3.81171943e-05,  8.89754310e-01,\n",
       "        -1.15628147e+00,  3.97217397e-01]])"
      ]
     },
     "execution_count": 116,
     "metadata": {},
     "output_type": "execute_result"
    }
   ],
   "source": []
  },
  {
   "cell_type": "markdown",
   "metadata": {},
   "source": []
  },
  {
   "cell_type": "code",
   "execution_count": 117,
   "metadata": {},
   "outputs": [
    {
     "data": {
      "text/plain": [
       "array([1, 2, 1, 4, 2, 5, 5, 5, 2, 5])"
      ]
     },
     "execution_count": 117,
     "metadata": {},
     "output_type": "execute_result"
    }
   ],
   "source": []
  },
  {
   "cell_type": "code",
   "execution_count": 119,
   "metadata": {},
   "outputs": [
    {
     "data": {
      "text/plain": [
       "array([17, 17, 16, 11, 16, 17, 12, 13, 11, 19])"
      ]
     },
     "execution_count": 119,
     "metadata": {},
     "output_type": "execute_result"
    }
   ],
   "source": []
  },
  {
   "cell_type": "code",
   "execution_count": 120,
   "metadata": {},
   "outputs": [
    {
     "data": {
      "text/plain": [
       "array([[15, 19, 19, 12, 10],\n",
       "       [19, 11, 19, 10, 16],\n",
       "       [10, 14, 18, 14, 13]])"
      ]
     },
     "execution_count": 120,
     "metadata": {},
     "output_type": "execute_result"
    }
   ],
   "source": []
  },
  {
   "cell_type": "markdown",
   "metadata": {},
   "source": []
  },
  {
   "cell_type": "markdown",
   "metadata": {},
   "source": [
    "## 5.5 정수데이터 카운팅\n",
    "- 이렇게 발생시킨 난수가 실수값이면 히스토그램 등을 사용하여 분석하면 된다. \n",
    "- 만약 난수가 정수 값이면 unique명령이나 bincount명령으로 데이터 값을 분석할 수 있다. "
   ]
  },
  {
   "cell_type": "markdown",
   "metadata": {},
   "source": [
    "### 5.5.1 unique\n",
    "- 데이터에서 중복된 값을 제거하고 중복되지 않는 값의 리스트를 출력한다. \n",
    "- return_counts인수를 True로 설정하면 각 값을 가진 데이터 갯수도 출력한다. "
   ]
  },
  {
   "cell_type": "code",
   "execution_count": 121,
   "metadata": {},
   "outputs": [
    {
     "data": {
      "text/plain": [
       "array([ 2, 11, 34])"
      ]
     },
     "execution_count": 121,
     "metadata": {},
     "output_type": "execute_result"
    }
   ],
   "source": [
    "np.unique([11, 11, 2, 2, 34, 34])"
   ]
  },
  {
   "cell_type": "code",
   "execution_count": 123,
   "metadata": {},
   "outputs": [
    {
     "name": "stdout",
     "output_type": "stream",
     "text": [
      "['a' 'b' 'c']\n",
      "[2 2 1]\n"
     ]
    }
   ],
   "source": [
    "a = np.array(['a','b','b','c','a'])\n",
    "index, count = np.unique(a, return_counts = True)\n",
    "print(index)\n",
    "print(count)"
   ]
  },
  {
   "cell_type": "markdown",
   "metadata": {},
   "source": [
    "- 그러나 unique함수는 데이터에 존재하는 값에 대해서만 갯수를 세므로 데이터 값이 나올 수 있음에도 불구하고 데이터가 하나도 없는 경우에는 정보를 주지 않는다. \n",
    "- 예를 들어 주사위 10번 던졌는데 6이 한번도 나오지 않으면 이 값을 0으로 세어주지 않는다.\n",
    "- 따라서 데이터가 주사위를 던졌을 때 나오는 수 처럼 특정범위안의 수인 경우에는 bincount를 사용한다. "
   ]
  },
  {
   "cell_type": "markdown",
   "metadata": {},
   "source": [
    "### 5.5.2 bincount\n",
    "- bincount함수는 0부터 minlength-1까지의 숫자에 대해 각각 카운트를 한다.\n",
    "- 데이터가 없을 경우에는 카운트 값이 0이 된다. "
   ]
  },
  {
   "cell_type": "code",
   "execution_count": 125,
   "metadata": {},
   "outputs": [
    {
     "data": {
      "text/plain": [
       "array([0, 2, 2, 1, 0, 0])"
      ]
     },
     "execution_count": 125,
     "metadata": {},
     "output_type": "execute_result"
    }
   ],
   "source": [
    "np.bincount([1, 1, 2, 2, 3], minlength = 6)"
   ]
  },
  {
   "cell_type": "markdown",
   "metadata": {},
   "source": [
    "- 0의 경우 : 0개 \n",
    "- 1의 경우 : 2개 \n",
    "- 2의 경우 : 2개 \n",
    "- 3의 경우 : 1개 \n",
    "- 4의 경우 : 0개 \n",
    "- 5의 경우 : 0개 "
   ]
  },
  {
   "cell_type": "markdown",
   "metadata": {},
   "source": [
    "# Unit06. 파일 저장 및 불러오기"
   ]
  },
  {
   "cell_type": "markdown",
   "metadata": {},
   "source": [
    "## 6.1 바이너리 파일로 저장 및 불러오기\n",
    "### 6.1.1 np.save\n",
    "- np.save('파일경로', 배열)\n",
    "- 배열을 압축하지 않은 raw바이너리 형식으로 저장한다. \n",
    "- 파일명에 확장자로 npy를 붙인다. \n",
    "\n",
    "\n",
    "### 6.1.2 np.load\n",
    "- np.load('파일경로')\n",
    "- 파일에 저장된 배열을 불러온다."
   ]
  },
  {
   "cell_type": "code",
   "execution_count": 127,
   "metadata": {},
   "outputs": [],
   "source": [
    "import numpy as np\n",
    "a = np.arange(10)\n",
    "b = np.arange(12).reshape(4,3)\n",
    "c = np.arange(24).reshape(4,2,3)"
   ]
  },
  {
   "cell_type": "code",
   "execution_count": 128,
   "metadata": {},
   "outputs": [],
   "source": [
    "# 한개의 배열저장\n",
    "np.save('a.npy', a) #배열 a를 'a.npy' 파일로 저장"
   ]
  },
  {
   "cell_type": "code",
   "execution_count": 133,
   "metadata": {},
   "outputs": [],
   "source": [
    "np.save('b', b) #확장자를 생략해도 npy 확장자는 자동으로 붙는다."
   ]
  },
  {
   "cell_type": "markdown",
   "metadata": {},
   "source": [
    "np.save('c.arr', c)"
   ]
  },
  {
   "cell_type": "code",
   "execution_count": 143,
   "metadata": {},
   "outputs": [],
   "source": [
    "np.save('c.arr', c) # 확장자를 생략해도 .npy 확장자는 자동으로 붙는다. "
   ]
  },
  {
   "cell_type": "code",
   "execution_count": 144,
   "metadata": {},
   "outputs": [
    {
     "data": {
      "text/plain": [
       "array([0, 1, 2, 3, 4, 5, 6, 7, 8, 9])"
      ]
     },
     "execution_count": 144,
     "metadata": {},
     "output_type": "execute_result"
    }
   ],
   "source": [
    "a2 = np.load('a.npy')\n",
    "a2"
   ]
  },
  {
   "cell_type": "code",
   "execution_count": 145,
   "metadata": {},
   "outputs": [
    {
     "data": {
      "text/plain": [
       "array([[ 0,  1,  2],\n",
       "       [ 3,  4,  5],\n",
       "       [ 6,  7,  8],\n",
       "       [ 9, 10, 11]])"
      ]
     },
     "execution_count": 145,
     "metadata": {},
     "output_type": "execute_result"
    }
   ],
   "source": [
    "b2 = np.load('b.npy')\n",
    "b2"
   ]
  },
  {
   "cell_type": "code",
   "execution_count": 146,
   "metadata": {},
   "outputs": [
    {
     "data": {
      "text/plain": [
       "array([[[ 0,  1,  2],\n",
       "        [ 3,  4,  5]],\n",
       "\n",
       "       [[ 6,  7,  8],\n",
       "        [ 9, 10, 11]],\n",
       "\n",
       "       [[12, 13, 14],\n",
       "        [15, 16, 17]],\n",
       "\n",
       "       [[18, 19, 20],\n",
       "        [21, 22, 23]]])"
      ]
     },
     "execution_count": 146,
     "metadata": {},
     "output_type": "execute_result"
    }
   ],
   "source": [
    "c2 = np.load('c.arr.npy')\n",
    "c2"
   ]
  },
  {
   "cell_type": "markdown",
   "metadata": {},
   "source": [
    "### 6.1.3 np.savez\n",
    "- np.load('파일경로', 이름 = 배열, 이름 = 배열, ...)\n",
    "- 여러개의 배열을 저장할 때 사용한다.\n",
    "- 파일명에 확장자로 npz가 붙는다. \n",
    "- 내부적으로 압축해서 저장한다.\n",
    "- load()함수로 불러오면 저장된 배열목록이 반환된다.\n",
    "- 저장 시 지정한 이름을 이용해 조회한다. "
   ]
  },
  {
   "cell_type": "code",
   "execution_count": null,
   "metadata": {},
   "outputs": [],
   "source": [
    "#  한파일에 여러배열 저장 (압축)\n",
    "np.savez('arr.npz', one=a, two=b, three=c)"
   ]
  },
  {
   "cell_type": "code",
   "execution_count": null,
   "metadata": {},
   "outputs": [],
   "source": [
    "arr = np.load('arr.npz')\n",
    "arr"
   ]
  },
  {
   "cell_type": "code",
   "execution_count": null,
   "metadata": {},
   "outputs": [],
   "source": [
    "arr.files #배열의 이름들을 반환"
   ]
  },
  {
   "cell_type": "code",
   "execution_count": null,
   "metadata": {},
   "outputs": [],
   "source": [
    "a3 = arr['one']\n",
    "b3 = arr['two']\n",
    "c3 = arr['three']"
   ]
  },
  {
   "cell_type": "code",
   "execution_count": null,
   "metadata": {},
   "outputs": [],
   "source": [
    "a3"
   ]
  },
  {
   "cell_type": "code",
   "execution_count": null,
   "metadata": {},
   "outputs": [],
   "source": [
    "b3"
   ]
  },
  {
   "cell_type": "code",
   "execution_count": null,
   "metadata": {},
   "outputs": [],
   "source": [
    "c3"
   ]
  },
  {
   "cell_type": "markdown",
   "metadata": {},
   "source": [
    "## 6.2 텍스트 파일로 저장 및 불러오기\n",
    "### 6.2.1 savetxt\n",
    "- savetxt('파일경로', 배열, [delimiter = '공백'])\n",
    "- 각 원소는 공백을 기준으로 나뉘며 delimiter속성으로 구분자를 지정할 수 있다. \n",
    "- delimiter 생략 시 공백으로 구분한다. \n",
    "- 1차원과 2차원 배열만 저장 가능하다. 3차원 이상은 저장이 안된다. \n",
    "\n",
    "\n",
    "### 6.2.2 loadtxt\n",
    "- loadtxt('파일경로', [dtype = float, delimiter = 공백])"
   ]
  },
  {
   "cell_type": "code",
   "execution_count": 147,
   "metadata": {},
   "outputs": [],
   "source": [
    "# 텍스트 파일로 저장\n",
    "np.savetxt('a.txt', a)"
   ]
  },
  {
   "cell_type": "markdown",
   "metadata": {},
   "source": [
    "np.savetxt('b.txt', b)"
   ]
  },
  {
   "cell_type": "code",
   "execution_count": 148,
   "metadata": {},
   "outputs": [],
   "source": [
    "np.savetxt('b.csv', b, delimiter=',')"
   ]
  },
  {
   "cell_type": "code",
   "execution_count": 149,
   "metadata": {},
   "outputs": [
    {
     "ename": "ValueError",
     "evalue": "Expected 1D or 2D array, got 3D array instead",
     "output_type": "error",
     "traceback": [
      "\u001b[0;31m---------------------------------------------------------------------------\u001b[0m",
      "\u001b[0;31mValueError\u001b[0m                                Traceback (most recent call last)",
      "\u001b[0;32m<ipython-input-149-32e82a45775b>\u001b[0m in \u001b[0;36m<module>\u001b[0;34m\u001b[0m\n\u001b[0;32m----> 1\u001b[0;31m \u001b[0mnp\u001b[0m\u001b[0;34m.\u001b[0m\u001b[0msavetxt\u001b[0m\u001b[0;34m(\u001b[0m\u001b[0;34m'c.txt'\u001b[0m\u001b[0;34m,\u001b[0m \u001b[0mc\u001b[0m\u001b[0;34m)\u001b[0m \u001b[0;31m#1,2차원 배열만 저장가능.\u001b[0m\u001b[0;34m\u001b[0m\u001b[0;34m\u001b[0m\u001b[0m\n\u001b[0m",
      "\u001b[0;32m<__array_function__ internals>\u001b[0m in \u001b[0;36msavetxt\u001b[0;34m(*args, **kwargs)\u001b[0m\n",
      "\u001b[0;32m/opt/anaconda3/lib/python3.8/site-packages/numpy/lib/npyio.py\u001b[0m in \u001b[0;36msavetxt\u001b[0;34m(fname, X, fmt, delimiter, newline, header, footer, comments, encoding)\u001b[0m\n\u001b[1;32m   1369\u001b[0m         \u001b[0;31m# Handle 1-dimensional arrays\u001b[0m\u001b[0;34m\u001b[0m\u001b[0;34m\u001b[0m\u001b[0;34m\u001b[0m\u001b[0m\n\u001b[1;32m   1370\u001b[0m         \u001b[0;32mif\u001b[0m \u001b[0mX\u001b[0m\u001b[0;34m.\u001b[0m\u001b[0mndim\u001b[0m \u001b[0;34m==\u001b[0m \u001b[0;36m0\u001b[0m \u001b[0;32mor\u001b[0m \u001b[0mX\u001b[0m\u001b[0;34m.\u001b[0m\u001b[0mndim\u001b[0m \u001b[0;34m>\u001b[0m \u001b[0;36m2\u001b[0m\u001b[0;34m:\u001b[0m\u001b[0;34m\u001b[0m\u001b[0;34m\u001b[0m\u001b[0m\n\u001b[0;32m-> 1371\u001b[0;31m             raise ValueError(\n\u001b[0m\u001b[1;32m   1372\u001b[0m                 \"Expected 1D or 2D array, got %dD array instead\" % X.ndim)\n\u001b[1;32m   1373\u001b[0m         \u001b[0;32melif\u001b[0m \u001b[0mX\u001b[0m\u001b[0;34m.\u001b[0m\u001b[0mndim\u001b[0m \u001b[0;34m==\u001b[0m \u001b[0;36m1\u001b[0m\u001b[0;34m:\u001b[0m\u001b[0;34m\u001b[0m\u001b[0;34m\u001b[0m\u001b[0m\n",
      "\u001b[0;31mValueError\u001b[0m: Expected 1D or 2D array, got 3D array instead"
     ]
    }
   ],
   "source": [
    "np.savetxt('c.txt', c) # error : 1,2차원 배열만 저장가능."
   ]
  },
  {
   "cell_type": "code",
   "execution_count": 150,
   "metadata": {},
   "outputs": [
    {
     "data": {
      "text/plain": [
       "array([[ 0.,  1.,  2.],\n",
       "       [ 3.,  4.,  5.],\n",
       "       [ 6.,  7.,  8.],\n",
       "       [ 9., 10., 11.]])"
      ]
     },
     "execution_count": 150,
     "metadata": {},
     "output_type": "execute_result"
    }
   ],
   "source": [
    "b4 = np.loadtxt('b.csv', delimiter=',')\n",
    "b4"
   ]
  }
 ],
 "metadata": {
  "kernelspec": {
   "display_name": "Python 3",
   "language": "python",
   "name": "python3"
  },
  "language_info": {
   "codemirror_mode": {
    "name": "ipython",
    "version": 3
   },
   "file_extension": ".py",
   "mimetype": "text/x-python",
   "name": "python",
   "nbconvert_exporter": "python",
   "pygments_lexer": "ipython3",
   "version": "3.8.5"
  }
 },
 "nbformat": 4,
 "nbformat_minor": 4
}
