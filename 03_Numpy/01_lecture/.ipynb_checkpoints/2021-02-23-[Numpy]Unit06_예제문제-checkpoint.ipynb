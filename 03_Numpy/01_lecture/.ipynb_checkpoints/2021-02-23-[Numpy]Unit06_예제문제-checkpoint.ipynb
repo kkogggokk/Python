{
 "cells": [
  {
   "cell_type": "code",
   "execution_count": 2,
   "metadata": {},
   "outputs": [],
   "source": [
    "import numpy as np"
   ]
  },
  {
   "cell_type": "markdown",
   "metadata": {},
   "source": [
    "# [1번]\n",
    "> 10, 7, 5, 90, 100 을 가지는 1차원 배열을 생성."
   ]
  },
  {
   "cell_type": "code",
   "execution_count": 3,
   "metadata": {},
   "outputs": [
    {
     "data": {
      "text/plain": [
       "array([ 10,   7,   5,  90, 100])"
      ]
     },
     "execution_count": 3,
     "metadata": {},
     "output_type": "execute_result"
    }
   ],
   "source": [
    "a1 = np.array([10, 7, 5, 90, 100])\n",
    "a1 # array([ 10,   7,   5,  90, 100])"
   ]
  },
  {
   "cell_type": "markdown",
   "metadata": {},
   "source": [
    "#  [2번]\n",
    "> 100 ~ 200 범위의 숫자중 짝수를 가지는 배열을 생성."
   ]
  },
  {
   "cell_type": "code",
   "execution_count": 10,
   "metadata": {},
   "outputs": [
    {
     "data": {
      "text/plain": [
       "array([100, 102, 104, 106, 108, 110, 112, 114, 116, 118, 120, 122, 124,\n",
       "       126, 128, 130, 132, 134, 136, 138, 140, 142, 144, 146, 148, 150,\n",
       "       152, 154, 156, 158, 160, 162, 164, 166, 168, 170, 172, 174, 176,\n",
       "       178, 180, 182, 184, 186, 188, 190, 192, 194, 196, 198, 200])"
      ]
     },
     "execution_count": 10,
     "metadata": {},
     "output_type": "execute_result"
    }
   ],
   "source": [
    "a2 = np.arange(100,201,2)\n",
    "a2.shape #(51,)\n",
    "a2\n",
    "\n",
    "array([100, 102, 104, 106, 108, 110, 112, 114, 116, 118, 120, 122, 124,\n",
    "       126, 128, 130, 132, 134, 136, 138, 140, 142, 144, 146, 148, 150,\n",
    "       152, 154, 156, 158, 160, 162, 164, 166, 168, 170, 172, 174, 176,\n",
    "       178, 180, 182, 184, 186, 188, 190, 192, 194, 196, 198, 200])"
   ]
  },
  {
   "cell_type": "markdown",
   "metadata": {},
   "source": [
    "#  [3번] \n",
    "> 2번에서 생성한 배열과 동일한 shape에 0을 원소로 가지는 배열 생성."
   ]
  },
  {
   "cell_type": "code",
   "execution_count": 14,
   "metadata": {},
   "outputs": [
    {
     "data": {
      "text/plain": [
       "(51,)"
      ]
     },
     "execution_count": 14,
     "metadata": {},
     "output_type": "execute_result"
    }
   ],
   "source": [
    "#방법1 \n",
    "a3 = np.zeros_like(a2) \n",
    "\n",
    "# 방법2 \n",
    "a3 = np.zeros(shape = a2.shape) \n",
    "\n",
    "# 방법3 \n",
    "a3 = np.linspace(100,200,num = 51) \n",
    "\n",
    "a3.shape # (51,)"
   ]
  },
  {
   "cell_type": "markdown",
   "metadata": {},
   "source": [
    "#  [4번] \n",
    "> 1001 ~ 10000 범위의 정수 중 100의 배수만 가지는 3차원 배열을 생성. (shape은 상관없음.)"
   ]
  },
  {
   "cell_type": "code",
   "execution_count": 22,
   "metadata": {
    "collapsed": true
   },
   "outputs": [
    {
     "data": {
      "text/plain": [
       "array([[[1001, 1101, 1201],\n",
       "        [1301, 1401, 1501],\n",
       "        [1601, 1701, 1801]],\n",
       "\n",
       "       [[1901, 2001, 2101],\n",
       "        [2201, 2301, 2401],\n",
       "        [2501, 2601, 2701]],\n",
       "\n",
       "       [[2801, 2901, 3001],\n",
       "        [3101, 3201, 3301],\n",
       "        [3401, 3501, 3601]],\n",
       "\n",
       "       [[3701, 3801, 3901],\n",
       "        [4001, 4101, 4201],\n",
       "        [4301, 4401, 4501]],\n",
       "\n",
       "       [[4601, 4701, 4801],\n",
       "        [4901, 5001, 5101],\n",
       "        [5201, 5301, 5401]],\n",
       "\n",
       "       [[5501, 5601, 5701],\n",
       "        [5801, 5901, 6001],\n",
       "        [6101, 6201, 6301]],\n",
       "\n",
       "       [[6401, 6501, 6601],\n",
       "        [6701, 6801, 6901],\n",
       "        [7001, 7101, 7201]],\n",
       "\n",
       "       [[7301, 7401, 7501],\n",
       "        [7601, 7701, 7801],\n",
       "        [7901, 8001, 8101]],\n",
       "\n",
       "       [[8201, 8301, 8401],\n",
       "        [8501, 8601, 8701],\n",
       "        [8801, 8901, 9001]],\n",
       "\n",
       "       [[9101, 9201, 9301],\n",
       "        [9401, 9501, 9601],\n",
       "        [9701, 9801, 9901]]])"
      ]
     },
     "execution_count": 22,
     "metadata": {},
     "output_type": "execute_result"
    }
   ],
   "source": [
    "a4 = np.arange(1001,10001,100).reshape(10,3,3)\n",
    "len(a4) # 90\n",
    "a4"
   ]
  },
  {
   "cell_type": "markdown",
   "metadata": {},
   "source": [
    "#  [5번]\n",
    "> (4,4) 형태의 단위행렬(항등행렬)을 생성."
   ]
  },
  {
   "cell_type": "code",
   "execution_count": 23,
   "metadata": {},
   "outputs": [
    {
     "data": {
      "text/plain": [
       "array([[1., 0., 0., 0.],\n",
       "       [0., 1., 0., 0.],\n",
       "       [0., 0., 1., 0.],\n",
       "       [0., 0., 0., 1.]])"
      ]
     },
     "execution_count": 23,
     "metadata": {},
     "output_type": "execute_result"
    }
   ],
   "source": [
    "a5 = np.identity(4)\n",
    "a5\n",
    "\n",
    "array([[1., 0., 0., 0.],\n",
    "       [0., 1., 0., 0.],\n",
    "       [0., 0., 1., 0.],\n",
    "       [0., 0., 0., 1.]])"
   ]
  },
  {
   "cell_type": "markdown",
   "metadata": {},
   "source": [
    "#  [6번] \n",
    "> 다음 값을 가지는 배열을 생성하고 배열의 차원수(rank)와 형태, 총 원소(element)의 개수를 조회.      \n",
    "> [[20, 90, 80, 100, -20, 30], [50, -10, 25, 120, -40, 90]]"
   ]
  },
  {
   "cell_type": "code",
   "execution_count": 27,
   "metadata": {},
   "outputs": [
    {
     "name": "stdout",
     "output_type": "stream",
     "text": [
      "2\n",
      "(2, 6)\n",
      "12\n",
      "int32\n"
     ]
    }
   ],
   "source": [
    "a6 = np.array([[20, 90, 80, 100, -20, 30], [50, -10, 25, 120, -40, 90]])\n",
    "print(a6.ndim) # 차원수 : 2\n",
    "print(a6.shape) # 형태 : (2,6)\n",
    "print(a6.size) # 원소의 개수 : 12\n",
    "print(a6.dtype) # 타입 : int32 "
   ]
  },
  {
   "cell_type": "markdown",
   "metadata": {},
   "source": [
    "#  [7번]\n",
    "> 정규분포를 따르는 난수를 가지는 (3,2,7) 형태의 배열을 생성."
   ]
  },
  {
   "cell_type": "code",
   "execution_count": 29,
   "metadata": {
    "collapsed": true
   },
   "outputs": [
    {
     "data": {
      "text/plain": [
       "array([[[-0.35425392, -0.79662003,  1.27673623,  0.92731315,\n",
       "          0.20022077, -0.37574754,  0.03474915],\n",
       "        [ 0.81085708,  1.90177819, -1.58648305, -0.55233066,\n",
       "         -1.07628291, -1.54183655,  1.73363771]],\n",
       "\n",
       "       [[-0.69785035,  0.05380851, -0.92228374, -0.48295075,\n",
       "          0.80513817,  0.58671438, -0.63061887],\n",
       "        [ 0.96651155,  0.8433563 , -1.31449379,  1.61702747,\n",
       "          0.62963697,  0.26160466,  1.36599094]],\n",
       "\n",
       "       [[ 1.15324425, -1.49622511,  1.12768664, -0.53847774,\n",
       "         -0.05298569,  0.01044843, -1.34647265],\n",
       "        [-0.29765374, -0.87371706,  0.27771445,  0.03949055,\n",
       "          0.2608434 , -0.87551324,  0.26623701]]])"
      ]
     },
     "execution_count": 29,
     "metadata": {},
     "output_type": "execute_result"
    }
   ],
   "source": [
    "a7 = np.random.normal(size = (3, 2, 7)) # 평균 \n",
    "a7"
   ]
  },
  {
   "cell_type": "markdown",
   "metadata": {},
   "source": [
    "#  [8번]\n",
    "> 1 ~ 100 사이의 정수 난수를 가지는 (4, 5) 형태의 배열을 생성한 뒤 arr.npy 파일로 저장."
   ]
  },
  {
   "cell_type": "code",
   "execution_count": 36,
   "metadata": {},
   "outputs": [
    {
     "data": {
      "text/plain": [
       "array([[ 26, 100,  46,  86,  98],\n",
       "       [100,  20,  18,  92,  82],\n",
       "       [ 79,  53,  22,  34,   5],\n",
       "       [ 75,  95,  48,  92,  79]])"
      ]
     },
     "execution_count": 36,
     "metadata": {},
     "output_type": "execute_result"
    }
   ],
   "source": [
    "a8 = np.random.randint(1,101,(4,5))\n",
    "np.save('arr.npy',a8)\n",
    "a8\n",
    "\n",
    "array([[ 26, 100,  46,  86,  98],\n",
    "       [100,  20,  18,  92,  82],\n",
    "       [ 79,  53,  22,  34,   5],\n",
    "       [ 75,  95,  48,  92,  79]])"
   ]
  },
  {
   "cell_type": "code",
   "execution_count": 39,
   "metadata": {},
   "outputs": [],
   "source": [
    "# backup 폴더가 없으면 생성해서 backup폴더에 저장\n",
    "import os \n",
    "if not os.path.isdir('backup') : \n",
    "    os.mkdir('backup')\n",
    "np.save('arr.npy',a8)"
   ]
  },
  {
   "cell_type": "markdown",
   "metadata": {},
   "source": [
    "#  [9번]\n",
    "> 8번에서 저장한 arr.npy 의 배열을 불러와서 출력."
   ]
  },
  {
   "cell_type": "code",
   "execution_count": 40,
   "metadata": {},
   "outputs": [
    {
     "data": {
      "text/plain": [
       "array([[ 26, 100,  46,  86,  98],\n",
       "       [100,  20,  18,  92,  82],\n",
       "       [ 79,  53,  22,  34,   5],\n",
       "       [ 75,  95,  48,  92,  79]])"
      ]
     },
     "execution_count": 40,
     "metadata": {},
     "output_type": "execute_result"
    }
   ],
   "source": [
    "a9 = np.load('arr.npy')\n",
    "a9\n",
    "\n",
    "array([[ 26, 100,  46,  86,  98],\n",
    "       [100,  20,  18,  92,  82],\n",
    "       [ 79,  53,  22,  34,   5],\n",
    "       [ 75,  95,  48,  92,  79]])"
   ]
  },
  {
   "cell_type": "markdown",
   "metadata": {},
   "source": [
    "#  [10번]\n",
    "> 9번에서 불러온 배열에서 전체 값의 총합, 0번축 기준의 총합, 1번축 기준의 총합을 구하기."
   ]
  },
  {
   "cell_type": "code",
   "execution_count": 41,
   "metadata": {},
   "outputs": [
    {
     "data": {
      "text/plain": [
       "array([356, 312, 193, 389])"
      ]
     },
     "execution_count": 41,
     "metadata": {},
     "output_type": "execute_result"
    }
   ],
   "source": [
    "np.sum(a9)\n",
    "np.sum(a9, axis = 0)\n",
    "np.sum(a9, axis = 1)\n",
    "\n",
    "array([356, 312, 193, 389])"
   ]
  },
  {
   "cell_type": "markdown",
   "metadata": {},
   "source": [
    "#  [11번]\n",
    "> 임의의 Boolean 값을 가지는 (5, 10) 배열을 생성하고 True의 개수를 출력하시오."
   ]
  },
  {
   "cell_type": "code",
   "execution_count": 48,
   "metadata": {},
   "outputs": [
    {
     "name": "stdout",
     "output_type": "stream",
     "text": [
      "[[ True  True  True  True False False False  True  True  True]\n",
      " [ True  True  True False False False  True False  True False]\n",
      " [ True  True  True  True False  True  True False  True False]\n",
      " [False False False  True False False False False  True False]\n",
      " [False False False False False  True  True False  True  True]]\n",
      "25\n",
      "[[False  True  True  True False  True  True False  True  True]\n",
      " [ True  True  True False False False False  True False False]\n",
      " [ True  True False  True False False False False False False]\n",
      " [False  True False  True  True  True  True  True  True False]\n",
      " [ True  True False False False  True  True False False  True]]\n",
      "26\n"
     ]
    }
   ],
   "source": [
    "#방법 1 \n",
    "a11_1 = np.random.choice([True, False], size = (5,10))\n",
    "print(a11_1)\n",
    "print(np.sum(a11_1))\n",
    "\n",
    "#방법 2 \n",
    "a11_2 = np.random.randint(0,2, size = (5, 10), dtype = bool)\n",
    "print(a11_2)\n",
    "print(np.sum(a11_2))"
   ]
  },
  {
   "cell_type": "markdown",
   "metadata": {},
   "source": [
    "#  [12-17번]\n",
    "> - 아래 배열을 생성하고 12번 ~ 17번 문제는 아래 조건으로 생성한 배열을 가지고 푸세요.     \n",
    "> 0 ~ 29 범위의 정수를 원소로 가지는 (5,6) 의 배열을 생성하고 변수에 저장.        "
   ]
  },
  {
   "cell_type": "code",
   "execution_count": 60,
   "metadata": {},
   "outputs": [
    {
     "data": {
      "text/plain": [
       "array([[ 0,  1,  2,  3,  4,  5],\n",
       "       [ 6,  7,  8,  9, 10, 11],\n",
       "       [12, 13, 14, 15, 16, 17],\n",
       "       [18, 19, 20, 21, 22, 23],\n",
       "       [24, 25, 26, 27, 28, 29]])"
      ]
     },
     "execution_count": 60,
     "metadata": {},
     "output_type": "execute_result"
    }
   ],
   "source": [
    "arr = np.arange(0,30).reshape(5,6)\n",
    "arr\n",
    "\n",
    "array([[ 0,  1,  2,  3,  4,  5],\n",
    "       [ 6,  7,  8,  9, 10, 11],\n",
    "       [12, 13, 14, 15, 16, 17],\n",
    "       [18, 19, 20, 21, 22, 23],\n",
    "       [24, 25, 26, 27, 28, 29]])"
   ]
  },
  {
   "cell_type": "markdown",
   "metadata": {},
   "source": [
    "12. index (1,1), (2,3), (1,5)의 값들 조회           "
   ]
  },
  {
   "cell_type": "code",
   "execution_count": 51,
   "metadata": {},
   "outputs": [
    {
     "data": {
      "text/plain": [
       "array([ 7, 15, 11])"
      ]
     },
     "execution_count": 51,
     "metadata": {},
     "output_type": "execute_result"
    }
   ],
   "source": [
    "arr[[1, 2, 1],[1, 3, 5]]\n",
    "\n",
    "array([ 7, 15, 11])"
   ]
  },
  {
   "cell_type": "markdown",
   "metadata": {},
   "source": [
    "13. index (1,1), (1,2), (1,3), (2,1), (2,2), (2,3), (3,1), (3,2), (3,3)의 값들을 조회. "
   ]
  },
  {
   "cell_type": "code",
   "execution_count": 55,
   "metadata": {},
   "outputs": [
    {
     "data": {
      "text/plain": [
       "array([[ 7,  8,  9],\n",
       "       [13, 14, 15],\n",
       "       [19, 20, 21]])"
      ]
     },
     "execution_count": 55,
     "metadata": {},
     "output_type": "execute_result"
    }
   ],
   "source": [
    "arr[1:4, 1:4]\n",
    "\n",
    "array([[ 7,  8,  9],\n",
    "       [13, 14, 15],\n",
    "       [19, 20, 21]])"
   ]
  },
  {
   "cell_type": "markdown",
   "metadata": {},
   "source": [
    "14. 13와 같은 index의 값들을 뒤집어서(reversing) 조회.       "
   ]
  },
  {
   "cell_type": "code",
   "execution_count": 62,
   "metadata": {},
   "outputs": [
    {
     "data": {
      "text/plain": [
       "array([[21, 20, 19],\n",
       "       [15, 14, 13],\n",
       "       [ 9,  8,  7]])"
      ]
     },
     "execution_count": 62,
     "metadata": {},
     "output_type": "execute_result"
    }
   ],
   "source": [
    "arr[3:0:-1, 3:0:-1]\n",
    "\n",
    "array([[21, 20, 19],\n",
    "       [15, 14, 13],\n",
    "       [ 9,  8,  7]])"
   ]
  },
  {
   "cell_type": "markdown",
   "metadata": {},
   "source": [
    "15. 배열에서 15 이상의 원소만 조회해서 그 평균을 출력.     "
   ]
  },
  {
   "cell_type": "code",
   "execution_count": 64,
   "metadata": {},
   "outputs": [
    {
     "data": {
      "text/plain": [
       "22.0"
      ]
     },
     "execution_count": 64,
     "metadata": {},
     "output_type": "execute_result"
    }
   ],
   "source": [
    "np.mean(arr[arr >= 15]) # 22.0 "
   ]
  },
  {
   "cell_type": "markdown",
   "metadata": {},
   "source": [
    "16. 배열에서 15이상의 원소들의 index를 조회. (0축 index, 1축 index) 형식으로 출력.       \n",
    "    ex: (0,0), (0,1) 식으로 출력"
   ]
  },
  {
   "cell_type": "code",
   "execution_count": 68,
   "metadata": {},
   "outputs": [
    {
     "name": "stdout",
     "output_type": "stream",
     "text": [
      "(2, 3) (2, 4) (2, 5) (3, 0) (3, 1) (3, 2) (3, 3) (3, 4) (3, 5) (4, 0) (4, 1) (4, 2) (4, 3) (4, 4) (4, 5) "
     ]
    },
    {
     "name": "stderr",
     "output_type": "stream",
     "text": [
      "<>:5: SyntaxWarning: 'tuple' object is not callable; perhaps you missed a comma?\n",
      "<>:5: SyntaxWarning: 'tuple' object is not callable; perhaps you missed a comma?\n",
      "<ipython-input-68-73940220b4be>:5: SyntaxWarning: 'tuple' object is not callable; perhaps you missed a comma?\n",
      "  (2, 3) (2, 4) (2, 5) (3, 0) (3, 1) (3, 2) (3, 3) (3, 4) (3, 5) (4, 0) (4, 1) (4, 2) (4, 3) (4, 4) (4, 5)\n"
     ]
    },
    {
     "ename": "TypeError",
     "evalue": "'tuple' object is not callable",
     "output_type": "error",
     "traceback": [
      "\u001b[1;31m---------------------------------------------------------------------------\u001b[0m",
      "\u001b[1;31mTypeError\u001b[0m                                 Traceback (most recent call last)",
      "\u001b[1;32m<ipython-input-68-73940220b4be>\u001b[0m in \u001b[0;36m<module>\u001b[1;34m\u001b[0m\n\u001b[0;32m      3\u001b[0m     \u001b[0mprint\u001b[0m\u001b[1;33m(\u001b[0m\u001b[0midx\u001b[0m\u001b[1;33m,\u001b[0m \u001b[0mend\u001b[0m \u001b[1;33m=\u001b[0m \u001b[1;34m' '\u001b[0m\u001b[1;33m)\u001b[0m\u001b[1;33m\u001b[0m\u001b[1;33m\u001b[0m\u001b[0m\n\u001b[0;32m      4\u001b[0m \u001b[1;33m\u001b[0m\u001b[0m\n\u001b[1;32m----> 5\u001b[1;33m \u001b[1;33m(\u001b[0m\u001b[1;36m2\u001b[0m\u001b[1;33m,\u001b[0m \u001b[1;36m3\u001b[0m\u001b[1;33m)\u001b[0m \u001b[1;33m(\u001b[0m\u001b[1;36m2\u001b[0m\u001b[1;33m,\u001b[0m \u001b[1;36m4\u001b[0m\u001b[1;33m)\u001b[0m \u001b[1;33m(\u001b[0m\u001b[1;36m2\u001b[0m\u001b[1;33m,\u001b[0m \u001b[1;36m5\u001b[0m\u001b[1;33m)\u001b[0m \u001b[1;33m(\u001b[0m\u001b[1;36m3\u001b[0m\u001b[1;33m,\u001b[0m \u001b[1;36m0\u001b[0m\u001b[1;33m)\u001b[0m \u001b[1;33m(\u001b[0m\u001b[1;36m3\u001b[0m\u001b[1;33m,\u001b[0m \u001b[1;36m1\u001b[0m\u001b[1;33m)\u001b[0m \u001b[1;33m(\u001b[0m\u001b[1;36m3\u001b[0m\u001b[1;33m,\u001b[0m \u001b[1;36m2\u001b[0m\u001b[1;33m)\u001b[0m \u001b[1;33m(\u001b[0m\u001b[1;36m3\u001b[0m\u001b[1;33m,\u001b[0m \u001b[1;36m3\u001b[0m\u001b[1;33m)\u001b[0m \u001b[1;33m(\u001b[0m\u001b[1;36m3\u001b[0m\u001b[1;33m,\u001b[0m \u001b[1;36m4\u001b[0m\u001b[1;33m)\u001b[0m \u001b[1;33m(\u001b[0m\u001b[1;36m3\u001b[0m\u001b[1;33m,\u001b[0m \u001b[1;36m5\u001b[0m\u001b[1;33m)\u001b[0m \u001b[1;33m(\u001b[0m\u001b[1;36m4\u001b[0m\u001b[1;33m,\u001b[0m \u001b[1;36m0\u001b[0m\u001b[1;33m)\u001b[0m \u001b[1;33m(\u001b[0m\u001b[1;36m4\u001b[0m\u001b[1;33m,\u001b[0m \u001b[1;36m1\u001b[0m\u001b[1;33m)\u001b[0m \u001b[1;33m(\u001b[0m\u001b[1;36m4\u001b[0m\u001b[1;33m,\u001b[0m \u001b[1;36m2\u001b[0m\u001b[1;33m)\u001b[0m \u001b[1;33m(\u001b[0m\u001b[1;36m4\u001b[0m\u001b[1;33m,\u001b[0m \u001b[1;36m3\u001b[0m\u001b[1;33m)\u001b[0m \u001b[1;33m(\u001b[0m\u001b[1;36m4\u001b[0m\u001b[1;33m,\u001b[0m \u001b[1;36m4\u001b[0m\u001b[1;33m)\u001b[0m \u001b[1;33m(\u001b[0m\u001b[1;36m4\u001b[0m\u001b[1;33m,\u001b[0m \u001b[1;36m5\u001b[0m\u001b[1;33m)\u001b[0m\u001b[1;33m\u001b[0m\u001b[1;33m\u001b[0m\u001b[0m\n\u001b[0m",
      "\u001b[1;31mTypeError\u001b[0m: 'tuple' object is not callable"
     ]
    }
   ],
   "source": [
    "indics = np.where(arr >= 15)\n",
    "for idx in zip(indics[0], indics[1]) : #zip(배열, 배열): 한번 반복시마다 두 배열의 같은 index의 값을 tuple로 묶어서 반환\n",
    "    print(idx, end = ' ')\n",
    "    \n",
    "(2, 3) (2, 4) (2, 5) (3, 0) (3, 1) (3, 2) (3, 3) (3, 4) (3, 5) (4, 0) (4, 1) (4, 2) (4, 3) (4, 4) (4, 5) "
   ]
  },
  {
   "cell_type": "markdown",
   "metadata": {},
   "source": [
    "17. 배열을 axis 1을 기준으로 내림차순으로 정렬. \n",
    "<!-- [[ 5,  4,  3,  2,  1,  0],\n",
    " [11, 10,  9,  8,  7,  6],\n",
    " [17, 16, 15, 14, 13, 12],\n",
    " [23, 22, 21, 20, 19, 18],\n",
    " [29, 28, 27, 26, 25, 24]]    -->"
   ]
  },
  {
   "cell_type": "code",
   "execution_count": 78,
   "metadata": {},
   "outputs": [
    {
     "data": {
      "text/plain": [
       "array([[24, 25, 26, 27, 28, 29],\n",
       "       [18, 19, 20, 21, 22, 23],\n",
       "       [12, 13, 14, 15, 16, 17],\n",
       "       [ 6,  7,  8,  9, 10, 11],\n",
       "       [ 0,  1,  2,  3,  4,  5]])"
      ]
     },
     "execution_count": 78,
     "metadata": {},
     "output_type": "execute_result"
    }
   ],
   "source": [
    "np.sort(arr,axis = 1)[::-1,] "
   ]
  },
  {
   "cell_type": "markdown",
   "metadata": {},
   "source": [
    "# [18-21번] \n",
    "> - 아래 배열을 생성하고 18번 ~ 21번 문제는 아래 조건으로 생성한 배열을 가지고 푸세요.    \n",
    "(3, 2) shape의 배열을 생성 하시오.          "
   ]
  },
  {
   "cell_type": "code",
   "execution_count": 80,
   "metadata": {},
   "outputs": [
    {
     "data": {
      "text/plain": [
       "(3, 2)"
      ]
     },
     "execution_count": 80,
     "metadata": {},
     "output_type": "execute_result"
    }
   ],
   "source": [
    "arr = np.arange(6).reshape(3,2)\n",
    "arr.shape"
   ]
  },
  {
   "cell_type": "markdown",
   "metadata": {},
   "source": [
    "18. 배열의 shape을 (1, 3, 2) 로 변환한 배열을 생성.      "
   ]
  },
  {
   "cell_type": "code",
   "execution_count": 88,
   "metadata": {},
   "outputs": [
    {
     "data": {
      "text/plain": [
       "(1, 3, 2)"
      ]
     },
     "execution_count": 88,
     "metadata": {},
     "output_type": "execute_result"
    }
   ],
   "source": [
    "# 방법 1 \n",
    "r1 = arr[np.newaxis,:]\n",
    "r1.shape\n",
    "\n",
    "# 방법 2 \n",
    "r2 = arr[np.newaxis, ...]\n",
    "r2.shape\n",
    "\n",
    "# 방법 3 \n",
    "r3 = arr.reshape(1, 3, 2)\n",
    "r3.shape\n",
    "\n",
    "# 방법 4 \n",
    "r4 = np.expand_dims(arr, axis = 0)\n",
    "r4.shape"
   ]
  },
  {
   "cell_type": "markdown",
   "metadata": {},
   "source": [
    "19. 배열의 shape을 (1, 3, 2, 1) 로 변환한 배열을 생성.       "
   ]
  },
  {
   "cell_type": "code",
   "execution_count": 95,
   "metadata": {},
   "outputs": [
    {
     "data": {
      "text/plain": [
       "(1, 3, 2, 1)"
      ]
     },
     "execution_count": 95,
     "metadata": {},
     "output_type": "execute_result"
    }
   ],
   "source": [
    "# 방법 1\n",
    "r1 = arr[np.newaxis,...,np.newaxis]\n",
    "r1.shape\n",
    "\n",
    "# 방법 2 \n",
    "r2 = arr[np.newaxis,:,np.newaxis]\n",
    "r2.shape\n",
    "\n",
    "# 방법 3 \n",
    "r3 = arr.reshape(1, 3, 2, 1)\n",
    "r3.shape\n",
    "\n",
    "# 방법 4 \n",
    "r4 = np.expand_dims(arr, axis = [0,3])\n",
    "r4.shape"
   ]
  },
  {
   "cell_type": "markdown",
   "metadata": {},
   "source": [
    "20. 배열을 1차원 배열로 변환한 배열을 생성.    "
   ]
  },
  {
   "cell_type": "code",
   "execution_count": 98,
   "metadata": {},
   "outputs": [
    {
     "data": {
      "text/plain": [
       "(6,)"
      ]
     },
     "execution_count": 98,
     "metadata": {},
     "output_type": "execute_result"
    }
   ],
   "source": [
    "a20 = arr.flatten()\n",
    "a20.shape # (6,)"
   ]
  },
  {
   "cell_type": "markdown",
   "metadata": {},
   "source": [
    "21. 배열의 0번 축에 2개의 값을 추가. (추가된 배열의 shape: (5,2))     "
   ]
  },
  {
   "cell_type": "code",
   "execution_count": 101,
   "metadata": {},
   "outputs": [
    {
     "data": {
      "text/plain": [
       "(5, 2)"
      ]
     },
     "execution_count": 101,
     "metadata": {},
     "output_type": "execute_result"
    }
   ],
   "source": [
    "a21 = np.append(arr, [[60, 70], [80, 90]], axis = 0)\n",
    "a21.shape"
   ]
  },
  {
   "cell_type": "markdown",
   "metadata": {},
   "source": [
    "# [22-28번] \n",
    "> - 다음 배열은 5명 학생의 국어, 영어, 수학, 과학 시험 점수이다. 행(axis=0)은 각 학생의 시험점수이고 컬럼(axis=1)은 과목을 가리킨다.      \n",
    "> [[ 60,  80,  60, 100], [ 80,  80,  90,  90],[ 90,  60,  70,  50],[ 40,  80,  60,  50],[ 60,  50,  70, 100]]   "
   ]
  },
  {
   "cell_type": "code",
   "execution_count": 103,
   "metadata": {},
   "outputs": [],
   "source": [
    "score = np.array([[ 60, 80, 60, 100], [ 80, 80, 90, 90],[ 90, 60, 70, 50],[ 40, 80, 60, 50],[ 60, 50, 70, 100]])"
   ]
  },
  {
   "cell_type": "markdown",
   "metadata": {},
   "source": [
    "22. 각 과목별 평균점수를 조회."
   ]
  },
  {
   "cell_type": "code",
   "execution_count": 105,
   "metadata": {},
   "outputs": [
    {
     "data": {
      "text/plain": [
       "array([66., 70., 70., 78.])"
      ]
     },
     "execution_count": 105,
     "metadata": {},
     "output_type": "execute_result"
    }
   ],
   "source": [
    "mean_score = np.mean(score, axis = 0)\n",
    "mean_score # array([66., 70., 70., 78.])"
   ]
  },
  {
   "cell_type": "markdown",
   "metadata": {},
   "source": [
    "23. 각 과목별 평균 점수를 성적 배열에 추가. "
   ]
  },
  {
   "cell_type": "code",
   "execution_count": 112,
   "metadata": {},
   "outputs": [
    {
     "data": {
      "text/plain": [
       "array([[ 60.,  80.,  60., 100.],\n",
       "       [ 80.,  80.,  90.,  90.],\n",
       "       [ 90.,  60.,  70.,  50.],\n",
       "       [ 40.,  80.,  60.,  50.],\n",
       "       [ 60.,  50.,  70., 100.],\n",
       "       [ 66.,  70.,  70.,  78.]])"
      ]
     },
     "execution_count": 112,
     "metadata": {},
     "output_type": "execute_result"
    }
   ],
   "source": [
    "np.append(score, [mean_score], axis = 0)\n",
    "\n",
    "np.append(score, [np.mean(score, axis = 0)], axis = 0)\n",
    "\n",
    "array([[ 60.,  80.,  60., 100.],\n",
    "       [ 80.,  80.,  90.,  90.],\n",
    "       [ 90.,  60.,  70.,  50.],\n",
    "       [ 40.,  80.,  60.,  50.],\n",
    "       [ 60.,  50.,  70., 100.],\n",
    "       [ 66.,  70.,  70.,  78.]])"
   ]
  },
  {
   "cell_type": "markdown",
   "metadata": {},
   "source": [
    "24. 각 학생들의 평균 점수 조회"
   ]
  },
  {
   "cell_type": "code",
   "execution_count": 115,
   "metadata": {},
   "outputs": [
    {
     "data": {
      "text/plain": [
       "array([[75. ],\n",
       "       [85. ],\n",
       "       [67.5],\n",
       "       [57.5],\n",
       "       [70. ]])"
      ]
     },
     "execution_count": 115,
     "metadata": {},
     "output_type": "execute_result"
    }
   ],
   "source": [
    "np.mean(score, axis = 1)\n",
    "np.mean(score, axis = 1, keepdims = True)\n",
    "\n",
    "array([[75. ],\n",
    "       [85. ],\n",
    "       [67.5],\n",
    "       [57.5],\n",
    "       [70. ]])"
   ]
  },
  {
   "cell_type": "markdown",
   "metadata": {},
   "source": [
    "25. 과목별로 몇번째 학생의 성적이 가장 높은지 조회"
   ]
  },
  {
   "cell_type": "code",
   "execution_count": null,
   "metadata": {},
   "outputs": [],
   "source": []
  },
  {
   "cell_type": "markdown",
   "metadata": {},
   "source": [
    "26. 학생별로 어떤 과목의 점수가 가장 낮은지 조회."
   ]
  },
  {
   "cell_type": "code",
   "execution_count": null,
   "metadata": {},
   "outputs": [],
   "source": []
  },
  {
   "cell_type": "markdown",
   "metadata": {},
   "source": [
    "27. 각 과목별로 편차가 가장 적은 과목과 가장 큰 과목을 조회"
   ]
  },
  {
   "cell_type": "code",
   "execution_count": null,
   "metadata": {},
   "outputs": [],
   "source": []
  },
  {
   "cell_type": "markdown",
   "metadata": {},
   "source": [
    "28. 학생들 중 과목간의 점수의 편차가 가장 적은 학생을 조회"
   ]
  },
  {
   "cell_type": "code",
   "execution_count": null,
   "metadata": {},
   "outputs": [],
   "source": []
  },
  {
   "cell_type": "markdown",
   "metadata": {},
   "source": [
    "# [29-30번] \n",
    "> - 다음 두 배열을 가지고 29,30번 문제를 푸세요.      \n",
    "> A: [[1,2,3],[4,5,6],[7,8,9]]         \n",
    "> B: [[10,20,30],[40,50,60],[70,80,90]]         "
   ]
  },
  {
   "cell_type": "markdown",
   "metadata": {},
   "source": [
    "29. 두 배열을 수직방향으로 합치기.      "
   ]
  },
  {
   "cell_type": "code",
   "execution_count": null,
   "metadata": {},
   "outputs": [],
   "source": []
  },
  {
   "cell_type": "markdown",
   "metadata": {},
   "source": [
    "30. 29에서 합친 배열을 수평방향으로 index 2를 기준으로 나누기.        "
   ]
  },
  {
   "cell_type": "code",
   "execution_count": null,
   "metadata": {},
   "outputs": [],
   "source": []
  },
  {
   "cell_type": "markdown",
   "metadata": {},
   "source": [
    "# [31-32번] \n",
    "> - 다음은 7명의 학생의 점수이다. 배열을 생성한뒤 33번 ~ 35번 문제를 푸세요.        \n",
    "> [10, 50, 75, 20, 70, 50, 80]     "
   ]
  },
  {
   "cell_type": "markdown",
   "metadata": {},
   "source": [
    "31. 다음 배열에서 평균 이상의 점수를 받은 학생이 몇명인지 조회       "
   ]
  },
  {
   "cell_type": "code",
   "execution_count": null,
   "metadata": {},
   "outputs": [],
   "source": []
  },
  {
   "cell_type": "markdown",
   "metadata": {},
   "source": [
    "32. 다음 배열에서 평균 이상의 점수를 받은 학생이 전체 학생 중 몇명인지 비율을 조회.        "
   ]
  },
  {
   "cell_type": "code",
   "execution_count": null,
   "metadata": {},
   "outputs": [],
   "source": []
  },
  {
   "cell_type": "markdown",
   "metadata": {},
   "source": [
    "# [33-35번] \n",
    "> - 다음 배열은 스무명의 사람들의 연봉의 표본이다.(단위 만원)          \n",
    "> 배열을 생성한뒤 33번 ~ 35번 문제를 푸세요.            \n",
    "> [7650, 4210, 7260, 8020, 8200, 8740, 4960, 1420,5410, 9770, 2370, 7960, 8960, 2660, 7940, 5120,7100, 5220, 8810, 253000]     "
   ]
  },
  {
   "cell_type": "markdown",
   "metadata": {},
   "source": [
    "33. 위 배열에서 상위 75% 는 얼마 이상을 받는지 조회.     "
   ]
  },
  {
   "cell_type": "code",
   "execution_count": null,
   "metadata": {},
   "outputs": [],
   "source": []
  },
  {
   "cell_type": "markdown",
   "metadata": {},
   "source": [
    "34. 위 배열에서 하위 25%는 얼마 이하를 받는지 조회.       "
   ]
  },
  {
   "cell_type": "code",
   "execution_count": null,
   "metadata": {},
   "outputs": [],
   "source": []
  },
  {
   "cell_type": "markdown",
   "metadata": {},
   "source": [
    "35. 위 배열의 평균과 중앙값을 구하고 배열의 대푯값으로 어떤 것을 사용하는 것이 맞는지 적으세요.        "
   ]
  },
  {
   "cell_type": "code",
   "execution_count": null,
   "metadata": {},
   "outputs": [],
   "source": []
  }
 ],
 "metadata": {
  "kernelspec": {
   "display_name": "Python 3",
   "language": "python",
   "name": "python3"
  },
  "language_info": {
   "codemirror_mode": {
    "name": "ipython",
    "version": 3
   },
   "file_extension": ".py",
   "mimetype": "text/x-python",
   "name": "python",
   "nbconvert_exporter": "python",
   "pygments_lexer": "ipython3",
   "version": "3.8.5"
  }
 },
 "nbformat": 4,
 "nbformat_minor": 4
}
