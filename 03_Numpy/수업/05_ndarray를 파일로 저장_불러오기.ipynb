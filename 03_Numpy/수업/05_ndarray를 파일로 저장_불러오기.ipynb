{
 "cells": [
  {
   "cell_type": "markdown",
   "metadata": {},
   "source": [
    "# 1. 배열을 파일에 저장 및 불러오기\n",
    "## 1.1 바이너리 파일로 저장/불러오기\n",
    "### 1.1.1 np.save(\"파일경로\", 배열)\n",
    "- 배열을 raw 바이너리 형식으로 저장한다. (압축하지 않은)\n",
    "- 파일명에 확장자 : npy (무조건 붙인다. abc.xxx 해도 abc.xxx.npy 로 저장)"
   ]
  },
  {
   "cell_type": "code",
   "execution_count": 1,
   "metadata": {},
   "outputs": [],
   "source": [
    "import numpy as np\n",
    "\n",
    "a = np.arange(10)\n",
    "b = np.arange(12).reshape(4,3)\n",
    "c = np.arange(24).reshape(4,2,3)\n",
    "\n",
    "# 메모리에 저장되기 때문에 프로그램이 끝나면 사라지게 된다.\n",
    "# 파일로 저장을 해보자. \n",
    "\n",
    "# 한 개의 배열 저장\n",
    "np.save('a.npy', a) # 배열 a를  'a.npy' 파일로 저장\n",
    "np.save('b',b) # 확장자를 생략해도 npy 확장자는 자동으로 붙는다. \n",
    "np.save('c.arr',c) # 확장자를 다르게 붙여도 npy 확장자가 자동으로 붙는다."
   ]
  },
  {
   "cell_type": "markdown",
   "metadata": {},
   "source": [
    "### 1.1.2 np.load(\"파일경로\") \n",
    "- 파일에 저장된 배열을 불러옴"
   ]
  },
  {
   "cell_type": "code",
   "execution_count": null,
   "metadata": {},
   "outputs": [],
   "source": [
    "# 불러오기 \n",
    "\n",
    "a2 = np.load('a.npy')\n",
    "b2 = np.load('b.npy') # 불러올때는 확장자 명까지 다 불러와야 한다. \n",
    "c2 = np.load('c.arr.npy')"
   ]
  },
  {
   "cell_type": "markdown",
   "metadata": {},
   "source": [
    "### 1.1.3 np.savez(\"파일경로\", 이름=배열, 이름=배열, ...)\n",
    "- 여러개의 배열을 저장할 때 사용.\n",
    "- 파일명에 확장자로 npz가 붙음.\n",
    "- 내부적으로 압축해서 저장.\n",
    "- load() 함수로 불러오면 저장된 배열목록이 반환 된다. 저장시 지정한 이름을 이용해 조회."
   ]
  },
  {
   "cell_type": "code",
   "execution_count": 18,
   "metadata": {},
   "outputs": [
    {
     "name": "stdout",
     "output_type": "stream",
     "text": [
      "[[[ 0  1  2]\n",
      "  [ 3  4  5]]\n",
      "\n",
      " [[ 6  7  8]\n",
      "  [ 9 10 11]]\n",
      "\n",
      " [[12 13 14]\n",
      "  [15 16 17]]\n",
      "\n",
      " [[18 19 20]\n",
      "  [21 22 23]]]\n"
     ]
    }
   ],
   "source": [
    "# 한 파일에 여러배열 저장 (압축) \n",
    "np.savez('arr.npz', one = a, two = b, three = c)\n",
    "\n",
    "# 불러오기 \n",
    "arr = np.load('arr.npz')\n",
    "arr # <numpy.lib.npyio.NpzFile at 0x27128fcaa90>\n",
    "arr.files # 배열의 이름들을 반환 : ['one', 'two', 'three'] \n",
    "\n",
    "# 딕셔너리로 조회.\n",
    "a3 = arr['one']\n",
    "b3 = arr['two']\n",
    "c3 = arr['three']\n",
    "\n",
    "print(a3) # [0 1 2 3 4 5 6 7 8 9]\n",
    "print(b3) # [[ 0  1  2][ 3  4  5][ 6  7  8][ 9 10 11]]\n",
    "print(c3) # [[[ 0  1  2] [ 3  4  5]] [[ 6  7  8] [ 9 10 11]] [[12 13 14] [15 16 17]] [[18 19 20] [21 22 23]]]"
   ]
  },
  {
   "cell_type": "markdown",
   "metadata": {},
   "source": [
    "## 1.2 텍스트 파일로 저장하고 불러오기\n",
    "### 1.2.1 savetxt(\"파일경로\", 배열 [, delimiter='공백'])\n",
    "- 텍스트 형태로 저장.\n",
    "- 각 원소는 공백을 기준으로 나뉘며 delimiter 속성으로 구분자를 지정할 수 있다. (delimiter생략시 공백)\n",
    "- 1차원과 2차원 배열만 저장 가능하다. (3차원 이상은 저장이 안된다.)\n",
    "\n",
    "### 1.2.2 loadtxt(\"파일경로\" [,dtype=float, delimiter=공백)"
   ]
  },
  {
   "cell_type": "code",
   "execution_count": null,
   "metadata": {},
   "outputs": [],
   "source": [
    "# 텍스트 파일로 저장 "
   ]
  },
  {
   "cell_type": "code",
   "execution_count": 22,
   "metadata": {},
   "outputs": [],
   "source": [
    "np.savetxt('b.txt',b)\n",
    "# np.savetxt('b.csv',b, delimiter = ',')\n",
    "# np.savetxt('c.txt',c)\n",
    "\n",
    "# b4 = np.loadtxt('b.csv',delimiter = ',')\n",
    "# b4"
   ]
  },
  {
   "cell_type": "code",
   "execution_count": null,
   "metadata": {},
   "outputs": [],
   "source": []
  }
 ],
 "metadata": {
  "kernelspec": {
   "display_name": "Python 3",
   "language": "python",
   "name": "python3"
  },
  "language_info": {
   "codemirror_mode": {
    "name": "ipython",
    "version": 3
   },
   "file_extension": ".py",
   "mimetype": "text/x-python",
   "name": "python",
   "nbconvert_exporter": "python",
   "pygments_lexer": "ipython3",
   "version": "3.8.5"
  },
  "toc": {
   "base_numbering": 1,
   "nav_menu": {},
   "number_sections": true,
   "sideBar": true,
   "skip_h1_title": false,
   "title_cell": "Table of Contents",
   "title_sidebar": "Contents",
   "toc_cell": false,
   "toc_position": {},
   "toc_section_display": true,
   "toc_window_display": false
  },
  "varInspector": {
   "cols": {
    "lenName": 16,
    "lenType": 16,
    "lenVar": 40
   },
   "kernels_config": {
    "python": {
     "delete_cmd_postfix": "",
     "delete_cmd_prefix": "del ",
     "library": "var_list.py",
     "varRefreshCmd": "print(var_dic_list())"
    },
    "r": {
     "delete_cmd_postfix": ") ",
     "delete_cmd_prefix": "rm(",
     "library": "var_list.r",
     "varRefreshCmd": "cat(var_dic_list()) "
    }
   },
   "types_to_exclude": [
    "module",
    "function",
    "builtin_function_or_method",
    "instance",
    "_Feature"
   ],
   "window_display": false
  }
 },
 "nbformat": 4,
 "nbformat_minor": 2
}
