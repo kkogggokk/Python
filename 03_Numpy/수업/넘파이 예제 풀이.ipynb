{
 "cells": [
  {
   "cell_type": "code",
   "execution_count": 1,
   "metadata": {},
   "outputs": [],
   "source": [
    "import numpy as np"
   ]
  },
  {
   "cell_type": "code",
   "execution_count": 3,
   "metadata": {},
   "outputs": [
    {
     "data": {
      "text/plain": [
       "array([ 10,   7,   5,  90, 100])"
      ]
     },
     "execution_count": 3,
     "metadata": {},
     "output_type": "execute_result"
    }
   ],
   "source": [
    "# 1. 10, 7, 5, 90, 100 을 가지는 1차원 배열을 생성.\n",
    "np.array([10, 7, 5, 90, 100])\n",
    "np.array((10, 7, 5, 90, 100))"
   ]
  },
  {
   "cell_type": "code",
   "execution_count": 15,
   "metadata": {},
   "outputs": [
    {
     "name": "stdout",
     "output_type": "stream",
     "text": [
      "(51,)\n"
     ]
    },
    {
     "data": {
      "text/plain": [
       "array([100, 102, 104, 106, 108, 110, 112, 114, 116, 118, 120, 122, 124,\n",
       "       126, 128, 130, 132, 134, 136, 138, 140, 142, 144, 146, 148, 150,\n",
       "       152, 154, 156, 158, 160, 162, 164, 166, 168, 170, 172, 174, 176,\n",
       "       178, 180, 182, 184, 186, 188, 190, 192, 194, 196, 198, 200])"
      ]
     },
     "execution_count": 15,
     "metadata": {},
     "output_type": "execute_result"
    }
   ],
   "source": [
    "# 2. 100 ~ 200 범위의 숫자중 짝수를 가지는 배열을 생성.\n",
    "a = np.arange(100, 201, 2)\n",
    "print(a.shape)\n",
    "a"
   ]
  },
  {
   "cell_type": "code",
   "execution_count": 9,
   "metadata": {
    "collapsed": true
   },
   "outputs": [
    {
     "data": {
      "text/plain": [
       "array([100., 102., 104., 106., 108., 110., 112., 114., 116., 118., 120.,\n",
       "       122., 124., 126., 128., 130., 132., 134., 136., 138., 140., 142.,\n",
       "       144., 146., 148., 150., 152., 154., 156., 158., 160., 162., 164.,\n",
       "       166., 168., 170., 172., 174., 176., 178., 180., 182., 184., 186.,\n",
       "       188., 190., 192., 194., 196., 198., 200.])"
      ]
     },
     "execution_count": 9,
     "metadata": {},
     "output_type": "execute_result"
    }
   ],
   "source": [
    "np.linspace(100, 200, num=51)"
   ]
  },
  {
   "cell_type": "code",
   "execution_count": 13,
   "metadata": {
    "collapsed": true
   },
   "outputs": [
    {
     "data": {
      "text/plain": [
       "array([100, 102, 104, 106, 108, 110, 112, 114, 116, 118, 120, 122, 124,\n",
       "       126, 128, 130, 132, 134, 136, 138, 140, 142, 144, 146, 148, 150,\n",
       "       152, 154, 156, 158, 160, 162, 164, 166, 168, 170, 172, 174, 176,\n",
       "       178, 180, 182, 184, 186, 188, 190, 192, 194, 196, 198, 200])"
      ]
     },
     "execution_count": 13,
     "metadata": {},
     "output_type": "execute_result"
    }
   ],
   "source": [
    "a = np.arange(100, 201)\n",
    "a[a % 2 == 0]"
   ]
  },
  {
   "cell_type": "code",
   "execution_count": 19,
   "metadata": {},
   "outputs": [
    {
     "data": {
      "text/plain": [
       "(51,)"
      ]
     },
     "execution_count": 19,
     "metadata": {},
     "output_type": "execute_result"
    }
   ],
   "source": [
    "# 3. 2번에서 생성한 배열과 동일한 shape에 0을 원소로 가지는 배열 생성.\n",
    "b = np.zeros(shape=a.shape)\n",
    "b.shape"
   ]
  },
  {
   "cell_type": "code",
   "execution_count": 21,
   "metadata": {},
   "outputs": [
    {
     "name": "stdout",
     "output_type": "stream",
     "text": [
      "(51,)\n"
     ]
    },
    {
     "data": {
      "text/plain": [
       "array([1, 1, 1, 1, 1, 1, 1, 1, 1, 1, 1, 1, 1, 1, 1, 1, 1, 1, 1, 1, 1, 1,\n",
       "       1, 1, 1, 1, 1, 1, 1, 1, 1, 1, 1, 1, 1, 1, 1, 1, 1, 1, 1, 1, 1, 1,\n",
       "       1, 1, 1, 1, 1, 1, 1])"
      ]
     },
     "execution_count": 21,
     "metadata": {},
     "output_type": "execute_result"
    }
   ],
   "source": [
    "b2 = np.zeros_like(a)\n",
    "print(b2.shape)\n",
    "b2"
   ]
  },
  {
   "cell_type": "code",
   "execution_count": 27,
   "metadata": {},
   "outputs": [
    {
     "name": "stdout",
     "output_type": "stream",
     "text": [
      "(3, 3, 10)\n"
     ]
    },
    {
     "data": {
      "text/plain": [
       "array([[[1000, 1100, 1200, 1300, 1400, 1500, 1600, 1700, 1800, 1900],\n",
       "        [2000, 2100, 2200, 2300, 2400, 2500, 2600, 2700, 2800, 2900],\n",
       "        [3000, 3100, 3200, 3300, 3400, 3500, 3600, 3700, 3800, 3900]],\n",
       "\n",
       "       [[4000, 4100, 4200, 4300, 4400, 4500, 4600, 4700, 4800, 4900],\n",
       "        [5000, 5100, 5200, 5300, 5400, 5500, 5600, 5700, 5800, 5900],\n",
       "        [6000, 6100, 6200, 6300, 6400, 6500, 6600, 6700, 6800, 6900]],\n",
       "\n",
       "       [[7000, 7100, 7200, 7300, 7400, 7500, 7600, 7700, 7800, 7900],\n",
       "        [8000, 8100, 8200, 8300, 8400, 8500, 8600, 8700, 8800, 8900],\n",
       "        [9000, 9100, 9200, 9300, 9400, 9500, 9600, 9700, 9800, 9900]]])"
      ]
     },
     "execution_count": 27,
     "metadata": {},
     "output_type": "execute_result"
    }
   ],
   "source": [
    "# 4. 1001 ~ 10000 범위의 정수 중 100의 배수만 가지는 3차원 배열을 생성. (shape은 상관없음.)\n",
    "a = np.arange(1000, 9999, 100).reshape(3,3,10)\n",
    "print(a.shape)\n",
    "a"
   ]
  },
  {
   "cell_type": "code",
   "execution_count": 29,
   "metadata": {},
   "outputs": [
    {
     "data": {
      "text/plain": [
       "array([[1., 0., 0., 0.],\n",
       "       [0., 1., 0., 0.],\n",
       "       [0., 0., 1., 0.],\n",
       "       [0., 0., 0., 1.]])"
      ]
     },
     "execution_count": 29,
     "metadata": {},
     "output_type": "execute_result"
    }
   ],
   "source": [
    "# 5. (4,4) 형태의 단위행렬(항등행렬)을 생성.\n",
    "i = np.identity(4)\n",
    "i"
   ]
  },
  {
   "cell_type": "code",
   "execution_count": 32,
   "metadata": {},
   "outputs": [
    {
     "name": "stdout",
     "output_type": "stream",
     "text": [
      "차원수: 2\n",
      "형태: (2, 6)\n",
      "원소의 개수 12\n",
      "타입: int32\n"
     ]
    }
   ],
   "source": [
    "# 6. 다음 값을 가지는 배열을 생성하고 배열의 차원수(rank)와 형태, 총 원소(element)의 개수를 조회.\n",
    "# 20, 90, 80, 100, -20, 30\n",
    "# 50, -10, 25, 120, -40, 90\n",
    "\n",
    "a = np.array([[20, 90, 80, 100, -20, 30],\n",
    "              [50, -10, 25, 120, -40, 90]])\n",
    "print(\"차원수:\",a.ndim)\n",
    "print('형태:', a.shape)\n",
    "print('원소의 개수', a.size)\n",
    "print('타입:', a.dtype)"
   ]
  },
  {
   "cell_type": "code",
   "execution_count": 34,
   "metadata": {
    "scrolled": true
   },
   "outputs": [
    {
     "data": {
      "text/plain": [
       "array([[[100.65704068,  99.91418466, 100.82367568, 101.27639244,\n",
       "         100.61531642, 100.00605177,  99.75480627],\n",
       "        [ 99.77881968, 100.26420706, 100.27145918,  99.98199213,\n",
       "          99.79120814,  99.60007824, 101.42405827]],\n",
       "\n",
       "       [[100.61356604, 101.55477828, 100.50473274,  99.87989888,\n",
       "         100.40946105,  99.75614578,  98.69224147],\n",
       "        [100.41116168,  99.48727582,  99.02959633,  99.8263076 ,\n",
       "          99.30795556, 100.1379231 , 101.84522972]],\n",
       "\n",
       "       [[ 99.05016657, 100.0805343 , 100.67276225,  98.8373858 ,\n",
       "          99.96733589,  99.78361101, 100.88234074],\n",
       "        [ 99.55501115, 100.92540872,  99.77696986, 101.64933671,\n",
       "          97.61981411,  99.23847312,  99.06059826]]])"
      ]
     },
     "execution_count": 34,
     "metadata": {},
     "output_type": "execute_result"
    }
   ],
   "source": [
    "# 7. 정규분포를 따르는 난수를 가지는 (3,2,7) 형태의 배열을 생성. - 평균, 표준편차\n",
    "np.random.normal(size=(3,2,7)) #평균:0, 표준편차:1 (-2 ~ 2)\n",
    "np.random.normal(loc=100, scale=1, size=(3,2,7)) # 98 ~ 102 "
   ]
  },
  {
   "cell_type": "code",
   "execution_count": 37,
   "metadata": {},
   "outputs": [],
   "source": [
    "# 8. 1 ~ 100 사이의 정수 난수를 가지는 (4, 5) 형태의 배열을 생성한 뒤 arr.npy 파일로 저장.\n",
    "a = np.random.randint(1,101, (4,5))\n",
    "np.save('arr.npy', a)\n",
    "np.save(r'c:\\temp\\arr.npy', a)"
   ]
  },
  {
   "cell_type": "code",
   "execution_count": 39,
   "metadata": {},
   "outputs": [],
   "source": [
    "import os\n",
    "# 배열 저장 디렉토리 : backup\n",
    "if not os.path.isdir('backup'):  # 현재 경로에 backup이란 디렉토리가 없냐?  없으면 디렉토리 생성\n",
    "    os.mkdir('backup')\n",
    "np.save('backup/arr.npy', a)    "
   ]
  },
  {
   "cell_type": "code",
   "execution_count": 41,
   "metadata": {},
   "outputs": [
    {
     "data": {
      "text/plain": [
       "array([[40, 99, 16, 74, 56],\n",
       "       [10, 46, 62, 63, 32],\n",
       "       [97, 79, 46, 57, 38],\n",
       "       [39, 49, 47, 66, 67]])"
      ]
     },
     "execution_count": 41,
     "metadata": {},
     "output_type": "execute_result"
    }
   ],
   "source": [
    "a"
   ]
  },
  {
   "cell_type": "code",
   "execution_count": 40,
   "metadata": {},
   "outputs": [
    {
     "data": {
      "text/plain": [
       "array([[40, 99, 16, 74, 56],\n",
       "       [10, 46, 62, 63, 32],\n",
       "       [97, 79, 46, 57, 38],\n",
       "       [39, 49, 47, 66, 67]])"
      ]
     },
     "execution_count": 40,
     "metadata": {},
     "output_type": "execute_result"
    }
   ],
   "source": [
    "# 9. 8번에서 저장한 arr.npy 의 배열을 불러와서 출력.\n",
    "a2 = np.load('backup/arr.npy')\n",
    "a2"
   ]
  },
  {
   "cell_type": "code",
   "execution_count": 44,
   "metadata": {},
   "outputs": [
    {
     "name": "stdout",
     "output_type": "stream",
     "text": [
      "1083\n",
      "[186 273 171 260 193]\n",
      "[285 213 317 268]\n"
     ]
    }
   ],
   "source": [
    "# 10. 9번에서 불러온 배열에서 전체 값의 총합, 0번축 기준의 총합, 1번축 기준의 총합을 구하기.\n",
    "print(np.sum(a2))\n",
    "print(np.sum(a2, axis=0))\n",
    "print(np.sum(a2, axis=1))"
   ]
  },
  {
   "cell_type": "code",
   "execution_count": 46,
   "metadata": {},
   "outputs": [
    {
     "data": {
      "text/plain": [
       "(5, 10)"
      ]
     },
     "execution_count": 46,
     "metadata": {},
     "output_type": "execute_result"
    }
   ],
   "source": [
    "# 11. 임의의 Boolean 값을 가지는 (5, 10) 배열을 생성하고 True의 개수를 출력하시오.\n",
    "b = np.array([\n",
    "    [True, False,  True, True, True, True, False,  True, True, True],\n",
    "    [True, False,  True, True, True, True, False,  True, True, True],\n",
    "    [True, False,  True, True, True, True, False,  True, True, True],\n",
    "    [True, False,  True, True, True, True, False,  True, True, True],\n",
    "    [True, False,  True, True, True, True, False,  True, True, True],\n",
    "])\n",
    "b.shape"
   ]
  },
  {
   "cell_type": "code",
   "execution_count": 54,
   "metadata": {},
   "outputs": [
    {
     "name": "stdout",
     "output_type": "stream",
     "text": [
      "(5, 10)\n"
     ]
    },
    {
     "data": {
      "text/plain": [
       "22"
      ]
     },
     "execution_count": 54,
     "metadata": {},
     "output_type": "execute_result"
    }
   ],
   "source": [
    "b = np.random.choice([True, False], size=(5,10))#, p=[0.1, 0.9])\n",
    "print(b.shape)\n",
    "np.sum(b)"
   ]
  },
  {
   "cell_type": "code",
   "execution_count": 57,
   "metadata": {},
   "outputs": [
    {
     "data": {
      "text/plain": [
       "29"
      ]
     },
     "execution_count": 57,
     "metadata": {},
     "output_type": "execute_result"
    }
   ],
   "source": [
    "#True:1, False:0\n",
    "a = np.random.randint(0, 2, size = (5,10), dtype=bool)\n",
    "np.sum(a)"
   ]
  },
  {
   "cell_type": "code",
   "execution_count": 58,
   "metadata": {},
   "outputs": [
    {
     "name": "stdout",
     "output_type": "stream",
     "text": [
      "(5, 6)\n"
     ]
    },
    {
     "data": {
      "text/plain": [
       "array([[ 0,  1,  2,  3,  4,  5],\n",
       "       [ 6,  7,  8,  9, 10, 11],\n",
       "       [12, 13, 14, 15, 16, 17],\n",
       "       [18, 19, 20, 21, 22, 23],\n",
       "       [24, 25, 26, 27, 28, 29]])"
      ]
     },
     "execution_count": 58,
     "metadata": {},
     "output_type": "execute_result"
    }
   ],
   "source": [
    "# 12-17. 아래 배열을 생성하고 12번 ~ 17번 문제는 아래 조건으로 생성한 배열을 가지고 푸세요.\n",
    "#  0 ~ 29 범위의 정수를 원소로 가지는 (5,6) 의 배열을 생성하고 변수에 저장.\n",
    "arr = np.arange(0,30).reshape(5,6)\n",
    "print(arr.shape)\n",
    "arr      "
   ]
  },
  {
   "cell_type": "code",
   "execution_count": 60,
   "metadata": {},
   "outputs": [
    {
     "name": "stdout",
     "output_type": "stream",
     "text": [
      "7\n",
      "15\n",
      "11\n"
     ]
    },
    {
     "data": {
      "text/plain": [
       "array([ 7, 15, 11])"
      ]
     },
     "execution_count": 60,
     "metadata": {},
     "output_type": "execute_result"
    }
   ],
   "source": [
    "# 12. index (1,1), (2,3), (1,5)의 값들 조회\n",
    "print(arr[1,1])\n",
    "print(arr[2,3])\n",
    "print(arr[1,5])\n",
    "arr[[1,2,1] ,[1,3,5]]"
   ]
  },
  {
   "cell_type": "code",
   "execution_count": 62,
   "metadata": {},
   "outputs": [
    {
     "data": {
      "text/plain": [
       "array([[ 7,  8,  9],\n",
       "       [13, 14, 15],\n",
       "       [19, 20, 21]])"
      ]
     },
     "execution_count": 62,
     "metadata": {},
     "output_type": "execute_result"
    }
   ],
   "source": [
    "# 13. index (1,1), (1,2), (1,3), (2,1), (2,2), (2,3), (3,1), (3,2), (3,3)의 값들을 조회.\n",
    "arr[1:4, 1:4]"
   ]
  },
  {
   "cell_type": "code",
   "execution_count": 64,
   "metadata": {},
   "outputs": [
    {
     "data": {
      "text/plain": [
       "array([[ 7,  8,  9],\n",
       "       [13, 14, 15],\n",
       "       [19, 20, 21]])"
      ]
     },
     "execution_count": 64,
     "metadata": {},
     "output_type": "execute_result"
    }
   ],
   "source": [
    "arr[[1,1,1,2,2,2,3,3,3], [1,2,3]*3].reshape(3,3)"
   ]
  },
  {
   "cell_type": "code",
   "execution_count": 68,
   "metadata": {},
   "outputs": [
    {
     "name": "stdout",
     "output_type": "stream",
     "text": [
      "[[21 20 19]\n",
      " [15 14 13]\n",
      " [ 9  8  7]]\n"
     ]
    }
   ],
   "source": [
    "# 14. 13와 같은 index의 값들을 뒤집어서(reversing) 조회.\n",
    "# [start:stop:-step] start > stop\n",
    "r1 = arr[3:0:-1,  3:0:-1]\n",
    "print(r1)\n"
   ]
  },
  {
   "cell_type": "code",
   "execution_count": 69,
   "metadata": {},
   "outputs": [
    {
     "name": "stdout",
     "output_type": "stream",
     "text": [
      "[[ 9  8  7]\n",
      " [15 14 13]\n",
      " [21 20 19]]\n"
     ]
    }
   ],
   "source": [
    "r2 = arr[1:4, 3:0:-1] # axis 1만 reversing\n",
    "print(r2)"
   ]
  },
  {
   "cell_type": "code",
   "execution_count": 70,
   "metadata": {},
   "outputs": [
    {
     "data": {
      "text/plain": [
       "array([[29, 28, 27, 26, 25, 24],\n",
       "       [23, 22, 21, 20, 19, 18],\n",
       "       [17, 16, 15, 14, 13, 12],\n",
       "       [11, 10,  9,  8,  7,  6],\n",
       "       [ 5,  4,  3,  2,  1,  0]])"
      ]
     },
     "execution_count": 70,
     "metadata": {},
     "output_type": "execute_result"
    }
   ],
   "source": [
    "np.flip(arr) #전체"
   ]
  },
  {
   "cell_type": "code",
   "execution_count": 71,
   "metadata": {},
   "outputs": [
    {
     "data": {
      "text/plain": [
       "array([[29, 28, 27, 26, 25, 24],\n",
       "       [23, 22, 21, 20, 19, 18],\n",
       "       [17, 16, 15, 14, 13, 12],\n",
       "       [11, 10,  9,  8,  7,  6],\n",
       "       [ 5,  4,  3,  2,  1,  0]])"
      ]
     },
     "execution_count": 71,
     "metadata": {},
     "output_type": "execute_result"
    }
   ],
   "source": [
    "arr[::-1, ::-1]"
   ]
  },
  {
   "cell_type": "code",
   "execution_count": 73,
   "metadata": {},
   "outputs": [
    {
     "data": {
      "text/plain": [
       "array([[ 7,  8,  9],\n",
       "       [13, 14, 15],\n",
       "       [19, 20, 21]])"
      ]
     },
     "execution_count": 73,
     "metadata": {},
     "output_type": "execute_result"
    }
   ],
   "source": [
    "r = arr[1:4, 1:4]\n",
    "r"
   ]
  },
  {
   "cell_type": "code",
   "execution_count": 74,
   "metadata": {},
   "outputs": [
    {
     "data": {
      "text/plain": [
       "array([[21, 20, 19],\n",
       "       [15, 14, 13],\n",
       "       [ 9,  8,  7]])"
      ]
     },
     "execution_count": 74,
     "metadata": {},
     "output_type": "execute_result"
    }
   ],
   "source": [
    "np.flip(r)"
   ]
  },
  {
   "cell_type": "code",
   "execution_count": 78,
   "metadata": {},
   "outputs": [
    {
     "data": {
      "text/plain": [
       "22.0"
      ]
     },
     "execution_count": 78,
     "metadata": {},
     "output_type": "execute_result"
    }
   ],
   "source": [
    "# 15. 배열에서 15 이상의 원소만 조회해서 그 평균을 출력.\n",
    "np.mean(arr[arr >= 15 ])"
   ]
  },
  {
   "cell_type": "code",
   "execution_count": 80,
   "metadata": {},
   "outputs": [
    {
     "data": {
      "text/plain": [
       "array([[ 0,  1,  2,  3,  4,  5],\n",
       "       [ 6,  7,  8,  9, 10, 11],\n",
       "       [12, 13, 14, 15, 16, 17],\n",
       "       [18, 19, 20, 21, 22, 23],\n",
       "       [24, 25, 26, 27, 28, 29]])"
      ]
     },
     "execution_count": 80,
     "metadata": {},
     "output_type": "execute_result"
    }
   ],
   "source": [
    "arr"
   ]
  },
  {
   "cell_type": "code",
   "execution_count": 87,
   "metadata": {},
   "outputs": [
    {
     "name": "stdout",
     "output_type": "stream",
     "text": [
      "<class 'tuple'>\n",
      "(2, 3), (2, 4), (2, 5), (3, 0), (3, 1), (3, 2), (3, 3), (3, 4), (3, 5), (4, 0), (4, 1), (4, 2), (4, 3), (4, 4), (4, 5), "
     ]
    }
   ],
   "source": [
    "# 16. 배열에서 15이상의 원소들의 index를 조회. (0축 index, 1축 index) 형식으로 출력. \n",
    "#     ex: (0,0), (0,1) 식으로 출력\n",
    "#(0축 index 배열, 1축 index 배열)\n",
    "indices = np.where(arr>=15)\n",
    "print(type(indices))\n",
    "#zip(배열, 배열): 한번 반복시마다 두 배열의 같은 index의 값을 tuple로 묶어서 반환\n",
    "for idx  in zip(indices[0], indices[1]): \n",
    "    print(idx, end=', ')\n",
    "# enumerate(자료구조), zip(자료구조1, 자료구조2 [,......]), range()   "
   ]
  },
  {
   "cell_type": "code",
   "execution_count": 93,
   "metadata": {},
   "outputs": [
    {
     "data": {
      "text/plain": [
       "array([[ 5,  4,  3,  2,  1,  0],\n",
       "       [11, 10,  9,  8,  7,  6],\n",
       "       [17, 16, 15, 14, 13, 12],\n",
       "       [23, 22, 21, 20, 19, 18],\n",
       "       [29, 28, 27, 26, 25, 24]])"
      ]
     },
     "execution_count": 93,
     "metadata": {},
     "output_type": "execute_result"
    }
   ],
   "source": [
    "# 17. 배열을 axis 1을 기준으로 내림차순으로 정렬. \n",
    "# 결과\n",
    "# [[ 5,  4,  3,  2,  1,  0],\n",
    "#  [11, 10,  9,  8,  7,  6],\n",
    "#  [17, 16, 15, 14, 13, 12],\n",
    "#  [23, 22, 21, 20, 19, 18],\n",
    "#  [29, 28, 27, 26, 25, 24]]   \n",
    "np.sort(arr, axis=1)[:, ::-1]"
   ]
  },
  {
   "cell_type": "code",
   "execution_count": 98,
   "metadata": {},
   "outputs": [
    {
     "name": "stdout",
     "output_type": "stream",
     "text": [
      "(3, 2)\n"
     ]
    }
   ],
   "source": [
    "# 18-21. 아래 배열을 생성하고 18번 ~ 21번 문제는 아래 조건으로 생성한 배열을 가지고 푸세요.\n",
    "# (3, 2) shape의 배열을 생성 하시오. \n",
    "arr = np.arange(6).reshape(3,2)\n",
    "print(arr.shape)"
   ]
  },
  {
   "cell_type": "code",
   "execution_count": 102,
   "metadata": {},
   "outputs": [
    {
     "name": "stdout",
     "output_type": "stream",
     "text": [
      "(1, 3, 2)\n",
      "(1, 3, 2)\n",
      "(1, 3, 2)\n",
      "(1, 3, 2)\n"
     ]
    }
   ],
   "source": [
    "# 18. 배열의 shape을 (1, 3, 2) 로 변환한 배열을 생성.\n",
    "r1 = arr[np.newaxis, ...]\n",
    "print(r1.shape)\n",
    "r2 = arr[np.newaxis, :, :]\n",
    "print(r2.shape)\n",
    "r3 = arr.reshape(1,3,2)\n",
    "print(r3.shape)\n",
    "r4 = np.expand_dims(arr, axis=0)\n",
    "print(r4.shape)"
   ]
  },
  {
   "cell_type": "code",
   "execution_count": 104,
   "metadata": {},
   "outputs": [
    {
     "data": {
      "text/plain": [
       "(1, 3, 2, 1)"
      ]
     },
     "execution_count": 104,
     "metadata": {},
     "output_type": "execute_result"
    }
   ],
   "source": [
    "# 19. 배열의 shape을 (1, 3, 2, 1) 로 변환한 배열을 생성.\n",
    "r1 = arr[np.newaxis, ..., np.newaxis]\n",
    "r1.shape\n",
    "r2 = arr.reshape(1,3,2,1)\n",
    "r2.shape"
   ]
  },
  {
   "cell_type": "code",
   "execution_count": 106,
   "metadata": {},
   "outputs": [
    {
     "data": {
      "text/plain": [
       "(6,)"
      ]
     },
     "execution_count": 106,
     "metadata": {},
     "output_type": "execute_result"
    }
   ],
   "source": [
    "# 20. 배열을 1차원 배열로 변환한 배열을 생성.\n",
    "f = arr.flatten()\n",
    "f.shape"
   ]
  },
  {
   "cell_type": "code",
   "execution_count": 108,
   "metadata": {},
   "outputs": [
    {
     "name": "stdout",
     "output_type": "stream",
     "text": [
      "(5, 2)\n"
     ]
    },
    {
     "data": {
      "text/plain": [
       "array([[ 0,  1],\n",
       "       [ 2,  3],\n",
       "       [ 4,  5],\n",
       "       [60, 70],\n",
       "       [80, 90]])"
      ]
     },
     "execution_count": 108,
     "metadata": {},
     "output_type": "execute_result"
    }
   ],
   "source": [
    "# 21. 배열의 0번 축에 2개의 값을 추가. (추가된 배열의 shape: (5,2))\n",
    "r = np.append(arr, [[60,70], [80,90]], axis=0)\n",
    "print(r.shape)\n",
    "r"
   ]
  },
  {
   "cell_type": "code",
   "execution_count": 110,
   "metadata": {},
   "outputs": [
    {
     "name": "stdout",
     "output_type": "stream",
     "text": [
      "(3, 4)\n"
     ]
    },
    {
     "data": {
      "text/plain": [
       "array([[ 0,  1, 10, 20],\n",
       "       [ 2,  3, 40, 50],\n",
       "       [ 4,  5, 60, 70]])"
      ]
     },
     "execution_count": 110,
     "metadata": {},
     "output_type": "execute_result"
    }
   ],
   "source": [
    "# 1번축 기준 추가\n",
    "r2 = np.append(arr, [[10,20], [40,50],[60,70]], axis=1)\n",
    "print(r2.shape)\n",
    "r2"
   ]
  },
  {
   "cell_type": "code",
   "execution_count": 167,
   "metadata": {},
   "outputs": [
    {
     "name": "stdout",
     "output_type": "stream",
     "text": [
      "(5, 4)\n"
     ]
    },
    {
     "data": {
      "text/plain": [
       "array([[ 60,  80,  60, 100],\n",
       "       [ 80,  80,  90,  90],\n",
       "       [ 90,  60,  70,  50],\n",
       "       [ 40,  80,  60,  50],\n",
       "       [ 60,  50,  70, 100]])"
      ]
     },
     "execution_count": 167,
     "metadata": {},
     "output_type": "execute_result"
    }
   ],
   "source": [
    "# 22-28. 다음 배열은 5명 학생의 국어, 영어, 수학, 과학 시험 점수이다. 행(axis=0)은 각 학생의 시험점수이고 컬럼(axis=1)은 과목을 가리킨다.\n",
    "# [\n",
    "#  [ 60,  80,  60, 100],\n",
    "#  [ 80,  80,  90,  90],\n",
    "#  [ 90,  60,  70,  50],\n",
    "#  [ 40,  80,  60,  50],\n",
    "#  [ 60,  50,  70, 100]\n",
    "# ]\n",
    "score = np.array([\n",
    " [ 60,  80,  60, 100],\n",
    " [ 80,  80,  90,  90],\n",
    " [ 90,  60,  70,  50],\n",
    " [ 40,  80,  60,  50],\n",
    " [ 60,  50,  70, 100]\n",
    "])\n",
    "print(score.shape)\n",
    "score"
   ]
  },
  {
   "cell_type": "code",
   "execution_count": 114,
   "metadata": {},
   "outputs": [
    {
     "data": {
      "text/plain": [
       "array([66., 70., 70., 78.])"
      ]
     },
     "execution_count": 114,
     "metadata": {},
     "output_type": "execute_result"
    }
   ],
   "source": [
    "# 22. 각 과목별 평균점수를 조회.\n",
    "mean_score = np.mean(score, axis=0)\n",
    "mean_score"
   ]
  },
  {
   "cell_type": "code",
   "execution_count": 116,
   "metadata": {},
   "outputs": [
    {
     "data": {
      "text/plain": [
       "array([[ 60.,  80.,  60., 100.],\n",
       "       [ 80.,  80.,  90.,  90.],\n",
       "       [ 90.,  60.,  70.,  50.],\n",
       "       [ 40.,  80.,  60.,  50.],\n",
       "       [ 60.,  50.,  70., 100.],\n",
       "       [ 66.,  70.,  70.,  78.]])"
      ]
     },
     "execution_count": 116,
     "metadata": {},
     "output_type": "execute_result"
    }
   ],
   "source": [
    "# 23. 각 과목별 평균 점수를 성적 배열에 추가. \n",
    "np.append(score, [mean_score], axis=0)\n",
    "np.append(score, [np.mean(score, axis=0)], axis=0)"
   ]
  },
  {
   "cell_type": "code",
   "execution_count": 118,
   "metadata": {},
   "outputs": [
    {
     "data": {
      "text/plain": [
       "array([[75. ],\n",
       "       [85. ],\n",
       "       [67.5],\n",
       "       [57.5],\n",
       "       [70. ]])"
      ]
     },
     "execution_count": 118,
     "metadata": {},
     "output_type": "execute_result"
    }
   ],
   "source": [
    "# 24. 각 학생들의 평균 점수 조회\n",
    "np.mean(score, axis=1)\n",
    "np.mean(score, axis=1, keepdims=True)"
   ]
  },
  {
   "cell_type": "code",
   "execution_count": 169,
   "metadata": {},
   "outputs": [
    {
     "data": {
      "text/plain": [
       "array([2, 0, 1, 0], dtype=int64)"
      ]
     },
     "execution_count": 169,
     "metadata": {},
     "output_type": "execute_result"
    }
   ],
   "source": [
    "# 25. 과목별로 몇번째 학생의 성적이 가장 높은지 조회\n",
    "np.argmax(score, axis=0)"
   ]
  },
  {
   "cell_type": "code",
   "execution_count": 122,
   "metadata": {},
   "outputs": [],
   "source": [
    "subject = np.array(['국어', '영어', '수학', '과학'])"
   ]
  },
  {
   "cell_type": "code",
   "execution_count": 125,
   "metadata": {},
   "outputs": [
    {
     "data": {
      "text/plain": [
       "array(['국어', '국어', '과학', '국어', '영어'], dtype='<U2')"
      ]
     },
     "execution_count": 125,
     "metadata": {},
     "output_type": "execute_result"
    }
   ],
   "source": [
    "# 26. 학생별로 어떤 과목의 점수가 가장 낮은지 조회.\n",
    "np.argmin(score, axis=1)\n",
    "subject[np.argmin(score, axis=1)]"
   ]
  },
  {
   "cell_type": "code",
   "execution_count": 135,
   "metadata": {},
   "outputs": [
    {
     "name": "stdout",
     "output_type": "stream",
     "text": [
      "[17.43559577 12.64911064 10.95445115 23.15167381]\n",
      "[17.44 12.65 10.95 23.15]\n",
      "3 2\n",
      "['과학' '수학']\n"
     ]
    }
   ],
   "source": [
    "# 27. 각 과목별로 편차가 가장 적은 과목과 가장 큰 과목을 조회\n",
    "std_score = np.std(score, axis=0)\n",
    "argmax_std = np.argmax(std_score)\n",
    "argmin_std = np.argmin(std_score)\n",
    "print(std_score)\n",
    "print(np.round(std_score, 2)) #반올림\n",
    "print(argmax_std, argmin_std)\n",
    "print(subject[[argmax_std, argmin_std]])"
   ]
  },
  {
   "cell_type": "code",
   "execution_count": 139,
   "metadata": {},
   "outputs": [
    {
     "name": "stdout",
     "output_type": "stream",
     "text": [
      "[16.58312395  5.         14.79019946 14.79019946 18.70828693]\n",
      "1 4\n"
     ]
    }
   ],
   "source": [
    "# 28. 학생들 중 과목간의 점수의 편차가 가장 적은 학생을 조회\n",
    "std_score_stu = np.std(score, axis=1)\n",
    "argmin_std_stu = np.argmin(std_score_stu)\n",
    "argmax_std_stu = np.argmax(std_score_stu)\n",
    "print(std_score_stu)\n",
    "print(argmin_std_stu, argmax_std_stu)"
   ]
  },
  {
   "cell_type": "code",
   "execution_count": 141,
   "metadata": {},
   "outputs": [
    {
     "name": "stdout",
     "output_type": "stream",
     "text": [
      "(3, 3) (3, 3)\n"
     ]
    }
   ],
   "source": [
    "# 29-30 다음 두 배열을 가지고 29,30번 문제를 푸세요.\n",
    "# A:\n",
    "# [\n",
    "#   [1,2,3],\n",
    "#   [4,5,6],\n",
    "#   [7,8,9]\n",
    "# ]\n",
    "# B:\n",
    "# [\n",
    "#   [10,20,30],\n",
    "#   [40,50,60],\n",
    "#   [70,80,90]\n",
    "# ]\n",
    "A = np.array([\n",
    "  [1,2,3],\n",
    "  [4,5,6],\n",
    "  [7,8,9]\n",
    "])\n",
    "\n",
    "B = np.array([\n",
    "  [10,20,30],\n",
    "  [40,50,60],\n",
    "  [70,80,90]\n",
    "])\n",
    "print(A.shape, B.shape)"
   ]
  },
  {
   "cell_type": "code",
   "execution_count": 144,
   "metadata": {},
   "outputs": [
    {
     "name": "stdout",
     "output_type": "stream",
     "text": [
      "(6, 3) (6, 3)\n"
     ]
    },
    {
     "data": {
      "text/plain": [
       "array([[ 1,  2,  3],\n",
       "       [ 4,  5,  6],\n",
       "       [ 7,  8,  9],\n",
       "       [10, 20, 30],\n",
       "       [40, 50, 60],\n",
       "       [70, 80, 90]])"
      ]
     },
     "execution_count": 144,
     "metadata": {},
     "output_type": "execute_result"
    }
   ],
   "source": [
    "# 29. 두 배열을 수직방향으로 합치기. \n",
    "C = np.concatenate([A, B], axis=0)\n",
    "C2 = np.vstack([A,B]) #vstack(), hstack() : 행렬(2차원배열)\n",
    "print(C.shape, C2.shape)\n",
    "C"
   ]
  },
  {
   "cell_type": "code",
   "execution_count": 148,
   "metadata": {},
   "outputs": [
    {
     "data": {
      "text/plain": [
       "[array([[ 1,  2],\n",
       "        [ 4,  5],\n",
       "        [ 7,  8],\n",
       "        [10, 20],\n",
       "        [40, 50],\n",
       "        [70, 80]]),\n",
       " array([[ 3],\n",
       "        [ 6],\n",
       "        [ 9],\n",
       "        [30],\n",
       "        [60],\n",
       "        [90]])]"
      ]
     },
     "execution_count": 148,
     "metadata": {},
     "output_type": "execute_result"
    }
   ],
   "source": [
    "# 30. 29에서 합친 배열을 수평방향으로 index 2를 기준으로 나누기.\n",
    "D = np.split(C, [2], axis=1)\n",
    "D2 = np.hsplit(C, [2]) #vsplit(), hsplit() : 2차원(행렬)\n",
    "D2"
   ]
  },
  {
   "cell_type": "code",
   "execution_count": 149,
   "metadata": {},
   "outputs": [
    {
     "data": {
      "text/plain": [
       "array([10, 50, 75, 20, 70, 50, 80])"
      ]
     },
     "execution_count": 149,
     "metadata": {},
     "output_type": "execute_result"
    }
   ],
   "source": [
    "# 31-32 다음은 7명의 학생의 점수이다. 배열을 생성한뒤 33번 ~ 35번 문제를 푸세요.\n",
    "# [10, 50, 75, 20, 70, 50, 80]\n",
    "score = np.array([10, 50, 75, 20, 70, 50, 80])\n",
    "score"
   ]
  },
  {
   "cell_type": "code",
   "execution_count": 152,
   "metadata": {},
   "outputs": [
    {
     "name": "stdout",
     "output_type": "stream",
     "text": [
      "50.714285714285715\n",
      "[75 70 80]\n",
      "3\n"
     ]
    }
   ],
   "source": [
    "# 31. 다음 배열에서 평균 이상의 점수를 받은 학생이 몇명인지 조회\n",
    "mean_score = np.mean(score)\n",
    "r = score[score >= mean_score]\n",
    "print(mean_score) #평균점수\n",
    "print(r) #평균이상을 받은 학생\n",
    "print(r.size) #명수"
   ]
  },
  {
   "cell_type": "code",
   "execution_count": 155,
   "metadata": {},
   "outputs": [
    {
     "data": {
      "text/plain": [
       "3"
      ]
     },
     "execution_count": 155,
     "metadata": {},
     "output_type": "execute_result"
    }
   ],
   "source": [
    "# 평균이상인 학생수\n",
    "np.sum(score>=np.mean(score))"
   ]
  },
  {
   "cell_type": "code",
   "execution_count": 158,
   "metadata": {},
   "outputs": [
    {
     "data": {
      "text/plain": [
       "42.857142857142854"
      ]
     },
     "execution_count": 158,
     "metadata": {},
     "output_type": "execute_result"
    }
   ],
   "source": [
    "# 32. 다음 배열에서 평균 이상의 점수를 받은 학생이 전체 학생 중 몇명인지 비율을 조회.\n",
    "np.mean(score >= np.mean(score))\n",
    "np.mean(score >= np.mean(score))*100"
   ]
  },
  {
   "cell_type": "code",
   "execution_count": 160,
   "metadata": {},
   "outputs": [
    {
     "data": {
      "text/plain": [
       "(20,)"
      ]
     },
     "execution_count": 160,
     "metadata": {},
     "output_type": "execute_result"
    }
   ],
   "source": [
    "# 33-35 다음 배열은 스무명의 사람들의 연봉의 표본이다. (단위 만원) 배열을 생성한뒤 33번 ~ 35번 문제를 푸세요.\n",
    "# [7650, 4210, 7260, 8020, 8200, 8740, 4960, 1420,\n",
    "#  5410, 9770, 2370, 7960, 8960, 2660, 7940, 5120,\n",
    "#  7100, 5220, 8810, 253000]\n",
    "salary = np.array([7650, 4210, 7260, 8020, 8200, 8740, 4960, 1420,\n",
    " 5410, 9770, 2370, 7960, 8960, 2660, 7940, 5120,\n",
    " 7100, 5220, 8810, 253000])\n",
    "salary.shape"
   ]
  },
  {
   "cell_type": "code",
   "execution_count": 161,
   "metadata": {},
   "outputs": [
    {
     "data": {
      "text/plain": [
       "8335.0"
      ]
     },
     "execution_count": 161,
     "metadata": {},
     "output_type": "execute_result"
    }
   ],
   "source": [
    "# 33. 위 배열에서 상위 75% 는 얼마 이상을 받는지 조회.\n",
    "np.quantile(salary, q=0.75)"
   ]
  },
  {
   "cell_type": "code",
   "execution_count": 162,
   "metadata": {},
   "outputs": [
    {
     "data": {
      "text/plain": [
       "5080.0"
      ]
     },
     "execution_count": 162,
     "metadata": {},
     "output_type": "execute_result"
    }
   ],
   "source": [
    "# 34. 위 배열에서 하위 25%는 얼마 이하를 받는지 조회.\n",
    "np.quantile(salary, q=0.25)"
   ]
  },
  {
   "cell_type": "code",
   "execution_count": 163,
   "metadata": {},
   "outputs": [
    {
     "data": {
      "text/plain": [
       "array([5080., 7455., 8335.])"
      ]
     },
     "execution_count": 163,
     "metadata": {},
     "output_type": "execute_result"
    }
   ],
   "source": [
    "# 4분위수: 0.25, 0.5, 0.75\n",
    "np.quantile(salary, q=[0.25, 0.5, 0.75])"
   ]
  },
  {
   "cell_type": "code",
   "execution_count": 164,
   "metadata": {},
   "outputs": [
    {
     "data": {
      "text/plain": [
       "array([5080., 7455., 8335.])"
      ]
     },
     "execution_count": 164,
     "metadata": {},
     "output_type": "execute_result"
    }
   ],
   "source": [
    "np.percentile(salary, q=[25, 50, 75])"
   ]
  },
  {
   "cell_type": "code",
   "execution_count": 165,
   "metadata": {},
   "outputs": [
    {
     "name": "stdout",
     "output_type": "stream",
     "text": [
      "18739.0 7455.0\n"
     ]
    }
   ],
   "source": [
    "# 35. 위 배열의 평균과 중앙값을 구하고 배열의 대푯값으로 어떤 것을 사용하는 것이 맞는지 적으세요.\n",
    "salary_mean = np.mean(salary)\n",
    "salary_median = np.median(salary)\n",
    "print(salary_mean, salary_median)"
   ]
  },
  {
   "cell_type": "code",
   "execution_count": null,
   "metadata": {},
   "outputs": [],
   "source": [
    "# 평균 > 중앙값\n",
    "# 평균 < 중앙값\n",
    "#많이차이가 나는 경우 : 극단값이 있는 배열, 대푯값을 중앙값."
   ]
  },
  {
   "cell_type": "code",
   "execution_count": 166,
   "metadata": {},
   "outputs": [
    {
     "data": {
      "text/plain": [
       "array([  1420,   2370,   2660,   4210,   4960,   5120,   5220,   5410,\n",
       "         7100,   7260,   7650,   7940,   7960,   8020,   8200,   8740,\n",
       "         8810,   8960,   9770, 253000])"
      ]
     },
     "execution_count": 166,
     "metadata": {},
     "output_type": "execute_result"
    }
   ],
   "source": [
    "np.sort(salary)"
   ]
  },
  {
   "cell_type": "code",
   "execution_count": null,
   "metadata": {},
   "outputs": [],
   "source": []
  }
 ],
 "metadata": {
  "kernelspec": {
   "display_name": "Python 3",
   "language": "python",
   "name": "python3"
  },
  "language_info": {
   "codemirror_mode": {
    "name": "ipython",
    "version": 3
   },
   "file_extension": ".py",
   "mimetype": "text/x-python",
   "name": "python",
   "nbconvert_exporter": "python",
   "pygments_lexer": "ipython3",
   "version": "3.8.5"
  }
 },
 "nbformat": 4,
 "nbformat_minor": 4
}
