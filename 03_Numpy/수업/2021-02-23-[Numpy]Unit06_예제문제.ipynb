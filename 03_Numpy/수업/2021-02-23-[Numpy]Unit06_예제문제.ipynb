{
 "cells": [
  {
   "cell_type": "code",
   "execution_count": 1,
   "metadata": {},
   "outputs": [],
   "source": [
    "import numpy as np"
   ]
  },
  {
   "cell_type": "markdown",
   "metadata": {},
   "source": [
    "# [1번]\n",
    "> 10, 7, 5, 90, 100 을 가지는 1차원 배열을 생성."
   ]
  },
  {
   "cell_type": "code",
   "execution_count": null,
   "metadata": {},
   "outputs": [],
   "source": []
  },
  {
   "cell_type": "markdown",
   "metadata": {},
   "source": [
    "#  [2번]\n",
    "> 100 ~ 200 범위의 숫자중 짝수를 가지는 배열을 생성."
   ]
  },
  {
   "cell_type": "code",
   "execution_count": null,
   "metadata": {},
   "outputs": [],
   "source": []
  },
  {
   "cell_type": "markdown",
   "metadata": {},
   "source": [
    "#  [3번] \n",
    "> 2번에서 생성한 배열과 동일한 shape에 0을 원소로 가지는 배열 생성."
   ]
  },
  {
   "cell_type": "code",
   "execution_count": null,
   "metadata": {},
   "outputs": [],
   "source": []
  },
  {
   "cell_type": "markdown",
   "metadata": {},
   "source": [
    "#  [4번] \n",
    "> 1001 ~ 10000 범위의 정수 중 100의 배수만 가지는 3차원 배열을 생성. (shape은 상관없음.)"
   ]
  },
  {
   "cell_type": "code",
   "execution_count": null,
   "metadata": {},
   "outputs": [],
   "source": []
  },
  {
   "cell_type": "markdown",
   "metadata": {},
   "source": [
    "#  [5번]\n",
    "> (4,4) 형태의 단위행렬(항등행렬)을 생성."
   ]
  },
  {
   "cell_type": "code",
   "execution_count": null,
   "metadata": {},
   "outputs": [],
   "source": []
  },
  {
   "cell_type": "markdown",
   "metadata": {},
   "source": [
    "#  [6번] \n",
    "> 다음 값을 가지는 배열을 생성하고 배열의 차원수(rank)와 형태, 총 원소(element)의 개수를 조회.      \n",
    "> [[20, 90, 80, 100, -20, 30], [50, -10, 25, 120, -40, 90]]"
   ]
  },
  {
   "cell_type": "code",
   "execution_count": null,
   "metadata": {},
   "outputs": [],
   "source": []
  },
  {
   "cell_type": "markdown",
   "metadata": {},
   "source": [
    "#  [7번]\n",
    "> 정규분포를 따르는 난수를 가지는 (3,2,7) 형태의 배열을 생성."
   ]
  },
  {
   "cell_type": "code",
   "execution_count": null,
   "metadata": {},
   "outputs": [],
   "source": []
  },
  {
   "cell_type": "markdown",
   "metadata": {},
   "source": [
    "#  [7번]\n",
    "> 1 ~ 100 사이의 정수 난수를 가지는 (4, 5) 형태의 배열을 생성한 뒤 arr.npy 파일로 저장."
   ]
  },
  {
   "cell_type": "code",
   "execution_count": null,
   "metadata": {},
   "outputs": [],
   "source": []
  },
  {
   "cell_type": "markdown",
   "metadata": {},
   "source": [
    "#  [9번]\n",
    "> 8번에서 저장한 arr.npy 의 배열을 불러와서 출력."
   ]
  },
  {
   "cell_type": "code",
   "execution_count": null,
   "metadata": {},
   "outputs": [],
   "source": []
  },
  {
   "cell_type": "markdown",
   "metadata": {},
   "source": [
    "#  [10번]\n",
    "> 9번에서 불러온 배열에서 전체 값의 총합, 0번축 기준의 총합, 1번축 기준의 총합을 구하기."
   ]
  },
  {
   "cell_type": "code",
   "execution_count": null,
   "metadata": {},
   "outputs": [],
   "source": []
  },
  {
   "cell_type": "markdown",
   "metadata": {},
   "source": [
    "#  [11번]\n",
    "> 임의의 Boolean 값을 가지는 (5, 10) 배열을 생성하고 True의 개수를 출력하시오."
   ]
  },
  {
   "cell_type": "code",
   "execution_count": null,
   "metadata": {},
   "outputs": [],
   "source": []
  },
  {
   "cell_type": "markdown",
   "metadata": {},
   "source": [
    "#  [12-17번]\n",
    "> - 아래 배열을 생성하고 12번 ~ 17번 문제는 아래 조건으로 생성한 배열을 가지고 푸세요.     \n",
    "> 0 ~ 29 범위의 정수를 원소로 가지는 (5,6) 의 배열을 생성하고 변수에 저장.        \n",
    "> 12. index (1,1), (2,3), (1,5)의 값들 조회           \n",
    "> 13. index (1,1), (1,2), (1,3), (2,1), (2,2), (2,3), (3,1), (3,2), (3,3)의 값들을 조회. \n",
    "> 14. 13와 같은 index의 값들을 뒤집어서(reversing) 조회.       \n",
    "> 15. 배열에서 15 이상의 원소만 조회해서 그 평균을 출력.     \n",
    ">16. 배열에서 15이상의 원소들의 index를 조회. (0축 index, 1축 index) 형식으로 출력.       \n",
    "    ex: (0,0), (0,1) 식으로 출력\n",
    "> 17. 배열을 axis 1을 기준으로 내림차순으로 정렬. \n",
    "<!-- [[ 5,  4,  3,  2,  1,  0],\n",
    " [11, 10,  9,  8,  7,  6],\n",
    " [17, 16, 15, 14, 13, 12],\n",
    " [23, 22, 21, 20, 19, 18],\n",
    " [29, 28, 27, 26, 25, 24]]    -->"
   ]
  },
  {
   "cell_type": "code",
   "execution_count": null,
   "metadata": {},
   "outputs": [],
   "source": []
  },
  {
   "cell_type": "markdown",
   "metadata": {},
   "source": [
    "# [18-21번] \n",
    "> - 아래 배열을 생성하고 18번 ~ 21번 문제는 아래 조건으로 생성한 배열을 가지고 푸세요.    \n",
    "(3, 2) shape의 배열을 생성 하시오.          \n",
    "> 18. 배열의 shape을 (1, 3, 2) 로 변환한 배열을 생성.      \n",
    "> 19. 배열의 shape을 (1, 3, 2, 1) 로 변환한 배열을 생성.       \n",
    "> 20. 배열을 1차원 배열로 변환한 배열을 생성.    \n",
    "> 21. 배열의 0번 축에 2개의 값을 추가. (추가된 배열의 shape: (5,2))     "
   ]
  },
  {
   "cell_type": "markdown",
   "metadata": {},
   "source": [
    "# [22-28번] \n",
    "> - 다음 배열은 5명 학생의 국어, 영어, 수학, 과학 시험 점수이다. 행(axis=0)은 각 학생의 시험점수이고 컬럼(axis=1)은 과목을 가리킨다.      \n",
    "> [[ 60,  80,  60, 100], [ 80,  80,  90,  90],[ 90,  60,  70,  50],[ 40,  80,  60,  50],[ 60,  50,  70, 100]]   \n",
    "> 22. 각 과목별 평균점수를 조회.\n",
    "> 23. 각 과목별 평균 점수를 성적 배열에 추가. \n",
    "> 24. 각 학생들의 평균 점수 조회\n",
    "> 25. 과목별로 몇번째 학생의 성적이 가장 높은지 조회\n",
    "> 26. 학생별로 어떤 과목의 점수가 가장 낮은지 조회.\n",
    "> 27. 각 과목별로 편차가 가장 적은 과목과 가장 큰 과목을 조회\n",
    "> 28. 학생들 중 과목간의 점수의 편차가 가장 적은 학생을 조회"
   ]
  },
  {
   "cell_type": "markdown",
   "metadata": {},
   "source": [
    "# [29-30번] \n",
    "> - 다음 두 배열을 가지고 29,30번 문제를 푸세요.      \n",
    "> A: [[1,2,3],[4,5,6],[7,8,9]]         \n",
    "> B: [[10,20,30],[40,50,60],[70,80,90]]         \n",
    "> 29. 두 배열을 수직방향으로 합치기.      \n",
    "> 30. 29에서 합친 배열을 수평방향으로 index 2를 기준으로 나누기.        "
   ]
  },
  {
   "cell_type": "code",
   "execution_count": null,
   "metadata": {},
   "outputs": [],
   "source": []
  },
  {
   "cell_type": "markdown",
   "metadata": {},
   "source": [
    "# [31-32번] \n",
    "> - 다음은 7명의 학생의 점수이다. 배열을 생성한뒤 33번 ~ 35번 문제를 푸세요.        \n",
    "> [10, 50, 75, 20, 70, 50, 80]     \n",
    "> 31. 다음 배열에서 평균 이상의 점수를 받은 학생이 몇명인지 조회       \n",
    "> 32. 다음 배열에서 평균 이상의 점수를 받은 학생이 전체 학생 중 몇명인지 비율을 조회.        "
   ]
  },
  {
   "cell_type": "code",
   "execution_count": null,
   "metadata": {},
   "outputs": [],
   "source": []
  },
  {
   "cell_type": "markdown",
   "metadata": {},
   "source": [
    "# [33-35번] \n",
    "> - 다음 배열은 스무명의 사람들의 연봉의 표본이다.(단위 만원)          \n",
    "> 배열을 생성한뒤 33번 ~ 35번 문제를 푸세요.            \n",
    "> [7650, 4210, 7260, 8020, 8200, 8740, 4960, 1420,5410, 9770, 2370, 7960, 8960, 2660, 7940, 5120,7100, 5220, 8810, 253000]     \n",
    "> 33. 위 배열에서 상위 75% 는 얼마 이상을 받는지 조회.     \n",
    "> 34. 위 배열에서 하위 25%는 얼마 이하를 받는지 조회.       \n",
    "> 35. 위 배열의 평균과 중앙값을 구하고 배열의 대푯값으로 어떤 것을 사용하는 것이 맞는지 적으세요.        "
   ]
  },
  {
   "cell_type": "code",
   "execution_count": null,
   "metadata": {},
   "outputs": [],
   "source": []
  }
 ],
 "metadata": {
  "kernelspec": {
   "display_name": "Python 3",
   "language": "python",
   "name": "python3"
  },
  "language_info": {
   "codemirror_mode": {
    "name": "ipython",
    "version": 3
   },
   "file_extension": ".py",
   "mimetype": "text/x-python",
   "name": "python",
   "nbconvert_exporter": "python",
   "pygments_lexer": "ipython3",
   "version": "3.8.5"
  }
 },
 "nbformat": 4,
 "nbformat_minor": 4
}
