{
 "cells": [
  {
   "cell_type": "markdown",
   "metadata": {},
   "source": [
    "파일명 : 이름.ipynb       \n",
    "이메일: kgmyh@naver.com"
   ]
  },
  {
   "cell_type": "code",
   "execution_count": 28,
   "metadata": {},
   "outputs": [
    {
     "data": {
      "text/plain": [
       "array([ 10,   7,   5,  90, 100])"
      ]
     },
     "execution_count": 28,
     "metadata": {},
     "output_type": "execute_result"
    }
   ],
   "source": [
    "# 1. 10, 7, 5, 90, 100 을 가지는 1차원 배열을 생성.\n",
    "import numpy as np\n",
    "a = np.array([10, 7, 5, 90, 100])\n",
    "a"
   ]
  },
  {
   "cell_type": "code",
   "execution_count": 34,
   "metadata": {},
   "outputs": [
    {
     "data": {
      "text/plain": [
       "array([100, 102, 104, 106, 108, 110, 112, 114, 116, 118, 120, 122, 124,\n",
       "       126, 128, 130, 132, 134, 136, 138, 140, 142, 144, 146, 148, 150,\n",
       "       152, 154, 156, 158, 160, 162, 164, 166, 168, 170, 172, 174, 176,\n",
       "       178, 180, 182, 184, 186, 188, 190, 192, 194, 196, 198, 200])"
      ]
     },
     "execution_count": 34,
     "metadata": {},
     "output_type": "execute_result"
    }
   ],
   "source": [
    "# 2. 100 ~ 200 범위의 숫자중 짝수를 가지는 배열을 생성.\n",
    "a = np.arange(100,201)\n",
    "idx = np.array(a % 2 == 0)\n",
    "a[idx]"
   ]
  },
  {
   "cell_type": "code",
   "execution_count": 30,
   "metadata": {},
   "outputs": [
    {
     "data": {
      "text/plain": [
       "array([0., 0., 0., 0., 0., 0., 0., 0., 0., 0., 0., 0., 0., 0., 0., 0., 0.,\n",
       "       0., 0., 0., 0., 0., 0., 0., 0., 0., 0., 0., 0., 0., 0., 0., 0., 0.,\n",
       "       0., 0., 0., 0., 0., 0., 0., 0., 0., 0., 0., 0., 0., 0., 0., 0., 0.])"
      ]
     },
     "execution_count": 30,
     "metadata": {},
     "output_type": "execute_result"
    }
   ],
   "source": [
    "# 3. 2번에서 생성한 배열과 동일한 shape에 0을 원소로 가지는 배열 생성.\n",
    "a3 = np.zeros(a2.shape)\n",
    "a3"
   ]
  },
  {
   "cell_type": "code",
   "execution_count": 40,
   "metadata": {
    "collapsed": true
   },
   "outputs": [
    {
     "data": {
      "text/plain": [
       "array([[[ 1100,  1200,  1300],\n",
       "        [ 1400,  1500,  1600],\n",
       "        [ 1700,  1800,  1900]],\n",
       "\n",
       "       [[ 2000,  2100,  2200],\n",
       "        [ 2300,  2400,  2500],\n",
       "        [ 2600,  2700,  2800]],\n",
       "\n",
       "       [[ 2900,  3000,  3100],\n",
       "        [ 3200,  3300,  3400],\n",
       "        [ 3500,  3600,  3700]],\n",
       "\n",
       "       [[ 3800,  3900,  4000],\n",
       "        [ 4100,  4200,  4300],\n",
       "        [ 4400,  4500,  4600]],\n",
       "\n",
       "       [[ 4700,  4800,  4900],\n",
       "        [ 5000,  5100,  5200],\n",
       "        [ 5300,  5400,  5500]],\n",
       "\n",
       "       [[ 5600,  5700,  5800],\n",
       "        [ 5900,  6000,  6100],\n",
       "        [ 6200,  6300,  6400]],\n",
       "\n",
       "       [[ 6500,  6600,  6700],\n",
       "        [ 6800,  6900,  7000],\n",
       "        [ 7100,  7200,  7300]],\n",
       "\n",
       "       [[ 7400,  7500,  7600],\n",
       "        [ 7700,  7800,  7900],\n",
       "        [ 8000,  8100,  8200]],\n",
       "\n",
       "       [[ 8300,  8400,  8500],\n",
       "        [ 8600,  8700,  8800],\n",
       "        [ 8900,  9000,  9100]],\n",
       "\n",
       "       [[ 9200,  9300,  9400],\n",
       "        [ 9500,  9600,  9700],\n",
       "        [ 9800,  9900, 10000]]])"
      ]
     },
     "execution_count": 40,
     "metadata": {},
     "output_type": "execute_result"
    }
   ],
   "source": [
    "# 4. 1001 ~ 10000 범위의 정수 중 100의 배수만 가지는 3차원 배열을 생성. (shape은 상관없음.)\n",
    "a4 = np.arange(1001,10001)\n",
    "idx = np.array(a4 % 100 == 0)\n",
    "a4[idx].size # 90 = 10 * 3 * 3\n",
    "a4[idx].reshape(10, 3, 3)"
   ]
  },
  {
   "cell_type": "code",
   "execution_count": 41,
   "metadata": {},
   "outputs": [
    {
     "data": {
      "text/plain": [
       "array([[1., 0., 0., 0.],\n",
       "       [0., 1., 0., 0.],\n",
       "       [0., 0., 1., 0.],\n",
       "       [0., 0., 0., 1.]])"
      ]
     },
     "execution_count": 41,
     "metadata": {},
     "output_type": "execute_result"
    }
   ],
   "source": [
    "# 5. (4,4) 형태의 단위행렬(항등행렬)을 생성.\n",
    "a5 = np.identity(4)\n",
    "a5"
   ]
  },
  {
   "cell_type": "code",
   "execution_count": 44,
   "metadata": {},
   "outputs": [
    {
     "name": "stdout",
     "output_type": "stream",
     "text": [
      "2\n",
      "(2, 6)\n",
      "12\n"
     ]
    }
   ],
   "source": [
    "# 6. 다음 값을 가지는 배열을 생성하고 배열의 차원수(rank)와 형태, 총 원소(element)의 개수를 조회.\n",
    "# 20, 90, 80, 100, -20, 30\n",
    "# 50, -10, 25, 120, -40, 90\n",
    "a6 = np.array([[20, 90, 80, 100, -20, 30],[50, -10, 25, 120, -40, 90]])\n",
    "print(a6.ndim) # rank : 2\n",
    "print(a6.shape) # shape : (2,6)\n",
    "print(a6.size) # size : 12 "
   ]
  },
  {
   "cell_type": "code",
   "execution_count": 49,
   "metadata": {},
   "outputs": [
    {
     "data": {
      "text/plain": [
       "array([[[ 0.23503792, -0.01277404,  0.42155201,  2.14797972,\n",
       "          0.04742543, -3.21209763,  0.8301976 ],\n",
       "        [-0.42932921, -0.84835444,  0.99532704,  0.30752189,\n",
       "         -1.98696794,  1.14622323, -1.34586892]],\n",
       "\n",
       "       [[-1.60949504, -1.24098544,  1.71276984,  0.78278975,\n",
       "         -0.64508298, -1.12983976,  0.41327578],\n",
       "        [-0.94666016, -0.38079899, -0.01896072, -0.11264979,\n",
       "          1.8394119 , -0.57249733, -0.30693643]],\n",
       "\n",
       "       [[-1.03427261, -0.67143829, -0.04126095,  2.06425728,\n",
       "          0.54486025, -0.08667467,  0.34745319],\n",
       "        [ 0.32477583,  0.29586506,  0.98235572,  1.18831345,\n",
       "          0.55131608, -0.83933885, -0.80205423]]])"
      ]
     },
     "execution_count": 49,
     "metadata": {},
     "output_type": "execute_result"
    }
   ],
   "source": [
    "# 7. 정규분포를 따르는 난수를 가지는 (3,2,7) 형태의 배열을 생성.\n",
    "a7 = np.random.normal(size=(3,2,7))\n",
    "a7"
   ]
  },
  {
   "cell_type": "code",
   "execution_count": 61,
   "metadata": {},
   "outputs": [],
   "source": [
    "# 8. 1 ~ 100 사이의 정수 난수를 가지는 (4, 5) 형태의 배열을 생성한 뒤 arr.npy 파일로 저장.\n",
    "a8 = np.random.randint(1,101, size=(4,5))\n",
    "np.save(\"arr.npy\",a8)"
   ]
  },
  {
   "cell_type": "code",
   "execution_count": 62,
   "metadata": {},
   "outputs": [
    {
     "data": {
      "text/plain": [
       "array([[86, 92,  9, 30, 34],\n",
       "       [88, 68, 15, 83, 61],\n",
       "       [92,  6, 87,  1, 35],\n",
       "       [99, 97, 16, 52, 97]])"
      ]
     },
     "execution_count": 62,
     "metadata": {},
     "output_type": "execute_result"
    }
   ],
   "source": [
    "# 9. 8번에서 저장한 arr.npy 의 배열을 불러와서 출력.\n",
    "a8_1 = np.load('arr.npy')\n",
    "a8_1"
   ]
  },
  {
   "cell_type": "code",
   "execution_count": 235,
   "metadata": {},
   "outputs": [
    {
     "data": {
      "text/plain": [
       "array([251, 315, 221, 361])"
      ]
     },
     "execution_count": 235,
     "metadata": {},
     "output_type": "execute_result"
    }
   ],
   "source": [
    "# 10. 9번에서 불러온 배열에서 전체 값의 총합, 0번축 기준의 총합, 1번축 기준의 총합을 구하기.\n",
    "np.sum(a8_1) # 1148\n",
    "np.sum(a8_1,axis=0) # array([365, 263, 127, 166, 227])\n",
    "np.sum(a8_1,axis=1) # array([251, 315, 221, 361])"
   ]
  },
  {
   "cell_type": "code",
   "execution_count": 258,
   "metadata": {},
   "outputs": [
    {
     "name": "stdout",
     "output_type": "stream",
     "text": [
      "[[0 0 0 0 1 0 1 0 1 1]\n",
      " [1 0 1 0 1 1 1 1 1 1]\n",
      " [1 1 1 0 1 0 0 0 1 1]\n",
      " [1 0 0 1 0 1 0 1 0 0]\n",
      " [0 1 1 0 0 1 0 0 0 1]]\n"
     ]
    },
    {
     "data": {
      "text/plain": [
       "26"
      ]
     },
     "execution_count": 258,
     "metadata": {},
     "output_type": "execute_result"
    }
   ],
   "source": [
    "# 11. 임의의 Boolean 값을 가지는 (5, 10) 배열을 생성하고 True의 개수를 출력하시오.\n",
    "a11 = np.random.randint(0,2,size=(5,10))\n",
    "print(a11)\n",
    "np.where(a11 == True ,True,False)\n",
    "len(a11[a11==True])"
   ]
  },
  {
   "cell_type": "code",
   "execution_count": 281,
   "metadata": {},
   "outputs": [
    {
     "data": {
      "text/plain": [
       "array([[ 0,  1,  2,  3,  4,  5],\n",
       "       [ 6,  7,  8,  9, 10, 11],\n",
       "       [12, 13, 14, 15, 16, 17],\n",
       "       [18, 19, 20, 21, 22, 23],\n",
       "       [24, 25, 26, 27, 28, 29]])"
      ]
     },
     "execution_count": 281,
     "metadata": {},
     "output_type": "execute_result"
    }
   ],
   "source": [
    "# 12-17. 아래 배열을 생성하고 12번 ~ 17번 문제는 아래 조건으로 생성한 배열을 가지고 푸세요.\n",
    "#  0 ~ 29 범위의 정수를 원소로 가지는 (5,6) 의 배열을 생성하고 변수에 저장.\n",
    "a = np.arange(0,30).reshape(5,6)\n",
    "a"
   ]
  },
  {
   "cell_type": "code",
   "execution_count": 260,
   "metadata": {},
   "outputs": [
    {
     "name": "stdout",
     "output_type": "stream",
     "text": [
      "7\n",
      "15\n",
      "11\n"
     ]
    }
   ],
   "source": [
    "# 12. index (1,1), (2,3), (1,5)의 값들 조회\n",
    "print(a[1,1]) # 7\n",
    "print(a[2,3]) # 15\n",
    "print(a[1,5]) # 11"
   ]
  },
  {
   "cell_type": "code",
   "execution_count": 264,
   "metadata": {},
   "outputs": [
    {
     "data": {
      "text/plain": [
       "array([[ 7,  8,  9],\n",
       "       [13, 14, 15],\n",
       "       [19, 20, 21]])"
      ]
     },
     "execution_count": 264,
     "metadata": {},
     "output_type": "execute_result"
    }
   ],
   "source": [
    "# 13. index (1,1), (1,2), (1,3), (2,1), (2,2), (2,3), (3,1), (3,2), (3,3)의 값들을 조회.\n",
    "a13 = a[1:4,1:4]\n",
    "a13"
   ]
  },
  {
   "cell_type": "code",
   "execution_count": 265,
   "metadata": {},
   "outputs": [
    {
     "data": {
      "text/plain": [
       "array([[19, 20, 21],\n",
       "       [13, 14, 15],\n",
       "       [ 7,  8,  9]])"
      ]
     },
     "execution_count": 265,
     "metadata": {},
     "output_type": "execute_result"
    }
   ],
   "source": [
    "# 14. 13와 같은 index의 값들을 뒤집어서(reversing) 조회.\n",
    "a13[::-1]"
   ]
  },
  {
   "cell_type": "code",
   "execution_count": 268,
   "metadata": {},
   "outputs": [
    {
     "data": {
      "text/plain": [
       "22.5"
      ]
     },
     "execution_count": 268,
     "metadata": {},
     "output_type": "execute_result"
    }
   ],
   "source": [
    "# 15. 배열에서 15 이상의 원소만 조회해서 그 평균을 출력.\n",
    "a15 = np.average(a[a>15])\n",
    "a15"
   ]
  },
  {
   "cell_type": "code",
   "execution_count": 269,
   "metadata": {},
   "outputs": [
    {
     "data": {
      "text/plain": [
       "array([16, 17, 18, 19, 20, 21, 22, 23, 24, 25, 26, 27, 28, 29])"
      ]
     },
     "execution_count": 269,
     "metadata": {},
     "output_type": "execute_result"
    }
   ],
   "source": [
    "# 16. 배열에서 15이상의 원소들의 index를 조회. (0축 index, 1축 index) 형식으로 출력. \n",
    "#     ex: (0,0), (0,1) 식으로 출력\n",
    "a15 = a[a>15]\n",
    "a15"
   ]
  },
  {
   "cell_type": "code",
   "execution_count": 271,
   "metadata": {},
   "outputs": [
    {
     "data": {
      "text/plain": [
       "[[5, 4, 3, 2, 1, 0],\n",
       " [11, 10, 9, 8, 7, 6],\n",
       " [17, 16, 15, 14, 13, 12],\n",
       " [23, 22, 21, 20, 19, 18],\n",
       " [29, 28, 27, 26, 25, 24]]"
      ]
     },
     "execution_count": 271,
     "metadata": {},
     "output_type": "execute_result"
    }
   ],
   "source": [
    "# 17. 배열을 axis 1을 기준으로 내림차순으로 정렬. \n",
    "# 결과\n",
    "[[ 5,  4,  3,  2,  1,  0],\n",
    " [11, 10,  9,  8,  7,  6],\n",
    " [17, 16, 15, 14, 13, 12],\n",
    " [23, 22, 21, 20, 19, 18],\n",
    " [29, 28, 27, 26, 25, 24]]   "
   ]
  },
  {
   "cell_type": "code",
   "execution_count": 290,
   "metadata": {},
   "outputs": [
    {
     "data": {
      "text/plain": [
       "array([[24, 25, 26, 27, 28, 29],\n",
       "       [18, 19, 20, 21, 22, 23],\n",
       "       [12, 13, 14, 15, 16, 17],\n",
       "       [ 6,  7,  8,  9, 10, 11],\n",
       "       [ 0,  1,  2,  3,  4,  5]])"
      ]
     },
     "execution_count": 290,
     "metadata": {},
     "output_type": "execute_result"
    }
   ],
   "source": [
    "np.sort(a, axis = 1)[::-1]"
   ]
  },
  {
   "cell_type": "code",
   "execution_count": 184,
   "metadata": {},
   "outputs": [
    {
     "data": {
      "text/plain": [
       "array([[0, 1],\n",
       "       [2, 3],\n",
       "       [4, 5]])"
      ]
     },
     "execution_count": 184,
     "metadata": {},
     "output_type": "execute_result"
    }
   ],
   "source": [
    "# 18-21. 아래 배열을 생성하고 18번 ~ 21번 문제는 아래 조건으로 생성한 배열을 가지고 푸세요.\n",
    "# (3, 2) shape의 배열을 생성 하시오. \n",
    "a = np.arange(6).reshape(3,2)\n",
    "a"
   ]
  },
  {
   "cell_type": "code",
   "execution_count": 185,
   "metadata": {},
   "outputs": [
    {
     "data": {
      "text/plain": [
       "array([[[0, 1],\n",
       "        [2, 3],\n",
       "        [4, 5]]])"
      ]
     },
     "execution_count": 185,
     "metadata": {},
     "output_type": "execute_result"
    }
   ],
   "source": [
    "# 18. 배열의 shape을 (1, 3, 2) 로 변환한 배열을 생성.\n",
    "a18 = a.reshape(1,3,2)\n",
    "a18"
   ]
  },
  {
   "cell_type": "code",
   "execution_count": 186,
   "metadata": {},
   "outputs": [
    {
     "data": {
      "text/plain": [
       "array([[[[0],\n",
       "         [1]],\n",
       "\n",
       "        [[2],\n",
       "         [3]],\n",
       "\n",
       "        [[4],\n",
       "         [5]]]])"
      ]
     },
     "execution_count": 186,
     "metadata": {},
     "output_type": "execute_result"
    }
   ],
   "source": [
    "# 19. 배열의 shape을 (1, 3, 2, 1) 로 변환한 배열을 생성.\n",
    "a19 = a.reshape(1,3,2,1)\n",
    "a19"
   ]
  },
  {
   "cell_type": "code",
   "execution_count": 190,
   "metadata": {},
   "outputs": [
    {
     "data": {
      "text/plain": [
       "array([[0, 1],\n",
       "       [2, 3],\n",
       "       [4, 5]])"
      ]
     },
     "execution_count": 190,
     "metadata": {},
     "output_type": "execute_result"
    }
   ],
   "source": [
    "# 20. 배열을 1차원 배열로 변환한 배열을 생성.\n",
    "a20 = a.reshape(6,)\n",
    "a20"
   ]
  },
  {
   "cell_type": "code",
   "execution_count": 197,
   "metadata": {},
   "outputs": [
    {
     "data": {
      "text/plain": [
       "array([[0, 1],\n",
       "       [2, 3],\n",
       "       [4, 5],\n",
       "       [6, 7],\n",
       "       [8, 9]])"
      ]
     },
     "execution_count": 197,
     "metadata": {},
     "output_type": "execute_result"
    }
   ],
   "source": [
    "# 21. 배열의 0번 축에 2개의 값을 추가. (추가된 배열의 shape: (5,2))\n",
    "a21 = np.append(a,[[6,7],[8,9]], axis = 0)\n",
    "a21"
   ]
  },
  {
   "cell_type": "code",
   "execution_count": 199,
   "metadata": {},
   "outputs": [
    {
     "data": {
      "text/plain": [
       "array([[ 60,  80,  60, 100],\n",
       "       [ 80,  80,  90,  90],\n",
       "       [ 90,  60,  70,  50],\n",
       "       [ 40,  80,  60,  50],\n",
       "       [ 60,  50,  70, 100]])"
      ]
     },
     "execution_count": 199,
     "metadata": {},
     "output_type": "execute_result"
    }
   ],
   "source": [
    "# 22-28. 다음 배열은 5명 학생의 국어, 영어, 수학, 과학 시험 점수이다. 행(axis=0)은 각 학생의 시험점수이고 컬럼(axis=1)은 과목을 가리킨다.\n",
    "a = np.array([\n",
    " [ 60,  80,  60, 100],\n",
    " [ 80,  80,  90,  90],\n",
    " [ 90,  60,  70,  50],\n",
    " [ 40,  80,  60,  50],\n",
    " [ 60,  50,  70, 100]\n",
    "])\n",
    "a"
   ]
  },
  {
   "cell_type": "code",
   "execution_count": 291,
   "metadata": {},
   "outputs": [],
   "source": [
    "# 22. 각 과목별 평균점수를 조회."
   ]
  },
  {
   "cell_type": "code",
   "execution_count": 202,
   "metadata": {},
   "outputs": [],
   "source": [
    "# 23. 각 과목별 평균 점수를 성적 배열에 추가. "
   ]
  },
  {
   "cell_type": "code",
   "execution_count": null,
   "metadata": {},
   "outputs": [],
   "source": [
    "# 24. 각 학생들의 평균 점수 조회"
   ]
  },
  {
   "cell_type": "code",
   "execution_count": null,
   "metadata": {},
   "outputs": [],
   "source": [
    "# 25. 과목별로 몇번째 학생의 성적이 가장 높은지 조회"
   ]
  },
  {
   "cell_type": "code",
   "execution_count": null,
   "metadata": {},
   "outputs": [],
   "source": [
    "# 26. 학생별로 어떤 과목의 점수가 가장 낮은지 조회."
   ]
  },
  {
   "cell_type": "code",
   "execution_count": null,
   "metadata": {},
   "outputs": [],
   "source": [
    "# 26. 학생별로 어떤 과목의 점수가 가장 낮은지 조회."
   ]
  },
  {
   "cell_type": "code",
   "execution_count": null,
   "metadata": {},
   "outputs": [],
   "source": [
    "# 27. 각 과목별로 편차가 가장 적은 과목과 가장 큰 과목을 조회"
   ]
  },
  {
   "cell_type": "code",
   "execution_count": null,
   "metadata": {},
   "outputs": [],
   "source": [
    "# 28. 학생들 중 과목간의 점수의 편차가 가장 적은 학생을 조회"
   ]
  },
  {
   "cell_type": "code",
   "execution_count": 203,
   "metadata": {},
   "outputs": [],
   "source": [
    "# 29-30 다음 두 배열을 가지고 29,30번 문제를 푸세요.\n",
    "A = np.array([\n",
    "  [1,2,3],\n",
    "  [4,5,6],\n",
    "  [7,8,9]\n",
    "])\n",
    "\n",
    "B = np.array([\n",
    "  [10,20,30],\n",
    "  [40,50,60],\n",
    "  [70,80,90]\n",
    "])"
   ]
  },
  {
   "cell_type": "code",
   "execution_count": 163,
   "metadata": {},
   "outputs": [
    {
     "data": {
      "text/plain": [
       "array([[ 1,  2,  3],\n",
       "       [ 4,  5,  6],\n",
       "       [ 7,  8,  9],\n",
       "       [10, 20, 30],\n",
       "       [40, 50, 60],\n",
       "       [70, 80, 90]])"
      ]
     },
     "execution_count": 163,
     "metadata": {},
     "output_type": "execute_result"
    }
   ],
   "source": [
    "# 29. 두 배열을 수직방향으로 합치기. \n",
    "AB = np.vstack([A,B])\n",
    "AB"
   ]
  },
  {
   "cell_type": "code",
   "execution_count": 211,
   "metadata": {},
   "outputs": [
    {
     "data": {
      "text/plain": [
       "[array([[ 1,  2],\n",
       "        [ 4,  5],\n",
       "        [ 7,  8],\n",
       "        [10, 20],\n",
       "        [40, 50],\n",
       "        [70, 80]]),\n",
       " array([[ 3],\n",
       "        [ 6],\n",
       "        [ 9],\n",
       "        [30],\n",
       "        [60],\n",
       "        [90]])]"
      ]
     },
     "execution_count": 211,
     "metadata": {},
     "output_type": "execute_result"
    }
   ],
   "source": [
    "# 30. 29에서 합친 배열을 수평방향으로 index 2를 기준으로 나누기.\n",
    "a30 = np.hsplit(AB,[2])\n",
    "a30"
   ]
  },
  {
   "cell_type": "code",
   "execution_count": 143,
   "metadata": {},
   "outputs": [],
   "source": [
    "# 31-32 다움은 7명의 학생의 점수이다. 배열을 생성한뒤 33번 ~ 35번 문제를 푸세요.\n",
    "a = np.array([10, 50, 75, 20, 70, 50, 80])"
   ]
  },
  {
   "cell_type": "code",
   "execution_count": 154,
   "metadata": {},
   "outputs": [
    {
     "data": {
      "text/plain": [
       "3"
      ]
     },
     "execution_count": 154,
     "metadata": {},
     "output_type": "execute_result"
    }
   ],
   "source": [
    "# 31. 다음 배열에서 평균 이상의 점수를 받은 학생이 몇명인지 조회\n",
    "m = np.mean(a) # 50.71 \n",
    "# len(a[a>m])\n",
    "np.sum(a>m) # 3"
   ]
  },
  {
   "cell_type": "code",
   "execution_count": 155,
   "metadata": {},
   "outputs": [
    {
     "data": {
      "text/plain": [
       "0.42857142857142855"
      ]
     },
     "execution_count": 155,
     "metadata": {},
     "output_type": "execute_result"
    }
   ],
   "source": [
    "#32. 다음 배열에서 평균 이상의 점수를 받은 학생이 전체 학생 중 몇명인지 비율을 조회.\n",
    "np.mean(a>m) # 0.42857142857142855"
   ]
  },
  {
   "cell_type": "code",
   "execution_count": 226,
   "metadata": {},
   "outputs": [],
   "source": [
    "# 33-35 다음 배열은 스무명의 사람들의 연봉의 표본이다. (단위 만원) 배열을 생성한뒤 33번 ~ 35번 문제를 푸세요.\n",
    "a = np.array([7650, 4210, 7260, 8020, 8200, 8740, 4960, 1420,\n",
    " 5410, 9770, 2370, 7960, 8960, 2660, 7940, 5120,\n",
    " 7100, 5220, 8810, 253000])"
   ]
  },
  {
   "cell_type": "code",
   "execution_count": 227,
   "metadata": {},
   "outputs": [
    {
     "data": {
      "text/plain": [
       "8740"
      ]
     },
     "execution_count": 227,
     "metadata": {},
     "output_type": "execute_result"
    }
   ],
   "source": [
    "# 33. 위 배열에서 상위 75% 는 얼마 이상을 받는지 조회.\n",
    "np.quantile(a, q=0.75,interpolation='higher') # 8740"
   ]
  },
  {
   "cell_type": "code",
   "execution_count": 228,
   "metadata": {},
   "outputs": [
    {
     "data": {
      "text/plain": [
       "4960"
      ]
     },
     "execution_count": 228,
     "metadata": {},
     "output_type": "execute_result"
    }
   ],
   "source": [
    "# 34. 위 배열에서 하위 25%는 얼마 이하를 받는지 조회.\n",
    "np.quantile(a, q=0.25,interpolation='lower') #4960"
   ]
  },
  {
   "cell_type": "code",
   "execution_count": 229,
   "metadata": {},
   "outputs": [
    {
     "name": "stdout",
     "output_type": "stream",
     "text": [
      "18739.0\n",
      "7455.0\n"
     ]
    }
   ],
   "source": [
    "# 35. 위 배열의 평균과 중앙값을 구하고 배열의 대푯값으로 어떤 것을 사용하는 것이 맞는지 적으세요.\n",
    "print(np.average(a)) # 18739.0\n",
    "print(np.median(a)) # 7455.0"
   ]
  },
  {
   "cell_type": "code",
   "execution_count": null,
   "metadata": {},
   "outputs": [],
   "source": []
  },
  {
   "cell_type": "code",
   "execution_count": null,
   "metadata": {},
   "outputs": [],
   "source": []
  }
 ],
 "metadata": {
  "kernelspec": {
   "display_name": "Python 3",
   "language": "python",
   "name": "python3"
  },
  "language_info": {
   "codemirror_mode": {
    "name": "ipython",
    "version": 3
   },
   "file_extension": ".py",
   "mimetype": "text/x-python",
   "name": "python",
   "nbconvert_exporter": "python",
   "pygments_lexer": "ipython3",
   "version": "3.8.5"
  }
 },
 "nbformat": 4,
 "nbformat_minor": 4
}
