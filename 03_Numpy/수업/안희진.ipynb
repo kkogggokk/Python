{
 "cells": [
  {
   "cell_type": "markdown",
   "metadata": {},
   "source": [
    "파일명 : 이름.ipynb       \n",
    "이메일: kgmyh@naver.com"
   ]
  },
  {
   "cell_type": "code",
   "execution_count": 2,
   "metadata": {},
   "outputs": [
    {
     "data": {
      "text/plain": [
       "array([ 10,   7,   5,  90, 100])"
      ]
     },
     "execution_count": 2,
     "metadata": {},
     "output_type": "execute_result"
    }
   ],
   "source": [
    "# 1. 10, 7, 5, 90, 100 을 가지는 1차원 배열을 생성.\n",
    "import numpy as np\n",
    "a = np.array([10, 7, 5, 90, 100])\n",
    "a"
   ]
  },
  {
   "cell_type": "code",
   "execution_count": 5,
   "metadata": {},
   "outputs": [
    {
     "data": {
      "text/plain": [
       "array([100, 102, 104, 106, 108, 110, 112, 114, 116, 118, 120, 122, 124,\n",
       "       126, 128, 130, 132, 134, 136, 138, 140, 142, 144, 146, 148, 150,\n",
       "       152, 154, 156, 158, 160, 162, 164, 166, 168, 170, 172, 174, 176,\n",
       "       178, 180, 182, 184, 186, 188, 190, 192, 194, 196, 198, 200])"
      ]
     },
     "execution_count": 5,
     "metadata": {},
     "output_type": "execute_result"
    }
   ],
   "source": [
    "# 2. 100 ~ 200 범위의 숫자중 짝수를 가지는 배열을 생성.\n",
    "a2 = np.arange(100,201,2)\n",
    "a = np.arange(100,201)\n",
    "a[a%2==0]\n",
    "# idx = np.array(a % 2 == 0)\n",
    "# a[idx]"
   ]
  },
  {
   "cell_type": "code",
   "execution_count": 3,
   "metadata": {},
   "outputs": [
    {
     "data": {
      "text/plain": [
       "array([100., 102., 104., 106., 108., 110., 112., 114., 116., 118., 120.,\n",
       "       122., 124., 126., 128., 130., 132., 134., 136., 138., 140., 142.,\n",
       "       144., 146., 148., 150., 152., 154., 156., 158., 160., 162., 164.,\n",
       "       166., 168., 170., 172., 174., 176., 178., 180., 182., 184., 186.,\n",
       "       188., 190., 192., 194., 196., 198., 200.])"
      ]
     },
     "execution_count": 3,
     "metadata": {},
     "output_type": "execute_result"
    }
   ],
   "source": [
    "np.linspace(100,200,num=51)"
   ]
  },
  {
   "cell_type": "code",
   "execution_count": 7,
   "metadata": {},
   "outputs": [],
   "source": [
    "# 3. 2번에서 생성한 배열과 동일한 shape에 0을 원소로 가지는 배열 생성.\n",
    "a3 = np.zeros(a2.shape)\n",
    "a3 = np.zeros(shape=a2.shape)\n",
    "a3 = np.zeros_like(a2) # 배열을 주면 쉐잎을 찾아서 배열을 만들어줌 "
   ]
  },
  {
   "cell_type": "code",
   "execution_count": 40,
   "metadata": {
    "collapsed": true
   },
   "outputs": [
    {
     "data": {
      "text/plain": [
       "array([[[ 1100,  1200,  1300],\n",
       "        [ 1400,  1500,  1600],\n",
       "        [ 1700,  1800,  1900]],\n",
       "\n",
       "       [[ 2000,  2100,  2200],\n",
       "        [ 2300,  2400,  2500],\n",
       "        [ 2600,  2700,  2800]],\n",
       "\n",
       "       [[ 2900,  3000,  3100],\n",
       "        [ 3200,  3300,  3400],\n",
       "        [ 3500,  3600,  3700]],\n",
       "\n",
       "       [[ 3800,  3900,  4000],\n",
       "        [ 4100,  4200,  4300],\n",
       "        [ 4400,  4500,  4600]],\n",
       "\n",
       "       [[ 4700,  4800,  4900],\n",
       "        [ 5000,  5100,  5200],\n",
       "        [ 5300,  5400,  5500]],\n",
       "\n",
       "       [[ 5600,  5700,  5800],\n",
       "        [ 5900,  6000,  6100],\n",
       "        [ 6200,  6300,  6400]],\n",
       "\n",
       "       [[ 6500,  6600,  6700],\n",
       "        [ 6800,  6900,  7000],\n",
       "        [ 7100,  7200,  7300]],\n",
       "\n",
       "       [[ 7400,  7500,  7600],\n",
       "        [ 7700,  7800,  7900],\n",
       "        [ 8000,  8100,  8200]],\n",
       "\n",
       "       [[ 8300,  8400,  8500],\n",
       "        [ 8600,  8700,  8800],\n",
       "        [ 8900,  9000,  9100]],\n",
       "\n",
       "       [[ 9200,  9300,  9400],\n",
       "        [ 9500,  9600,  9700],\n",
       "        [ 9800,  9900, 10000]]])"
      ]
     },
     "execution_count": 40,
     "metadata": {},
     "output_type": "execute_result"
    }
   ],
   "source": [
    "# 4. 1001 ~ 10000 범위의 정수 중 100의 배수만 가지는 3차원 배열을 생성. (shape은 상관없음.)\n",
    "a4 = np.arange(1001,10001)\n",
    "idx = np.array(a4 % 100 == 0)\n",
    "a4[idx].size # 90 = 10 * 3 * 3\n",
    "a4[idx].reshape(10, 3, 3)"
   ]
  },
  {
   "cell_type": "code",
   "execution_count": 12,
   "metadata": {},
   "outputs": [
    {
     "data": {
      "text/plain": [
       "(10, 3, 3)"
      ]
     },
     "execution_count": 12,
     "metadata": {},
     "output_type": "execute_result"
    }
   ],
   "source": [
    "a4 = np.arange(1001,10001,100).reshape(10,3,3)"
   ]
  },
  {
   "cell_type": "code",
   "execution_count": 41,
   "metadata": {},
   "outputs": [
    {
     "data": {
      "text/plain": [
       "array([[1., 0., 0., 0.],\n",
       "       [0., 1., 0., 0.],\n",
       "       [0., 0., 1., 0.],\n",
       "       [0., 0., 0., 1.]])"
      ]
     },
     "execution_count": 41,
     "metadata": {},
     "output_type": "execute_result"
    }
   ],
   "source": [
    "# 5. (4,4) 형태의 단위행렬(항등행렬)을 생성.\n",
    "a5 = np.identity(4)\n",
    "a5"
   ]
  },
  {
   "cell_type": "code",
   "execution_count": 44,
   "metadata": {},
   "outputs": [
    {
     "name": "stdout",
     "output_type": "stream",
     "text": [
      "2\n",
      "(2, 6)\n",
      "12\n"
     ]
    }
   ],
   "source": [
    "# 6. 다음 값을 가지는 배열을 생성하고 배열의 차원수(rank)와 형태, 총 원소(element)의 개수를 조회.\n",
    "# 20, 90, 80, 100, -20, 30\n",
    "# 50, -10, 25, 120, -40, 90\n",
    "a6 = np.array([[20, 90, 80, 100, -20, 30],[50, -10, 25, 120, -40, 90]])\n",
    "print(a6.ndim) # rank : 2\n",
    "print(a6.shape) # shape : (2,6)\n",
    "print(a6.size) # size : 12 "
   ]
  },
  {
   "cell_type": "code",
   "execution_count": 13,
   "metadata": {},
   "outputs": [
    {
     "data": {
      "text/plain": [
       "array([[[100.61081637, 101.08159337,  98.8791735 , 101.78921075,\n",
       "          99.57745582,  99.60769316,  99.31050314],\n",
       "        [101.2889269 , 100.63765959,  99.9694665 ,  99.19888338,\n",
       "         100.04402788,  98.35078925,  99.16430893]],\n",
       "\n",
       "       [[ 99.56723695,  99.94769296,  99.93497972,  98.71333102,\n",
       "         100.89093103, 100.43697082,  97.49530276],\n",
       "        [ 99.49584074,  98.55134233, 101.97998193,  98.05574953,\n",
       "          98.32220777, 101.09290909, 100.44227216]],\n",
       "\n",
       "       [[100.62702293,  98.88009804,  99.85439836, 101.96701677,\n",
       "          99.28012396,  99.5623491 , 100.63820952],\n",
       "        [ 98.76535707,  99.03173751, 100.56751523,  99.95027877,\n",
       "         100.08149068, 100.17402828,  99.64465214]]])"
      ]
     },
     "execution_count": 13,
     "metadata": {},
     "output_type": "execute_result"
    }
   ],
   "source": [
    "# 7. 정규분포를 따르는 난수를 가지는 (3,2,7) 형태의 배열을 생성.\n",
    "a7 = np.random.normal(size=(3,2,7)) # 평균 : 0 , 표준편차 : 1 (-2 ~ 2사이에 있는 값들로 나온다) \n",
    "a7\n",
    "# 평균을 정해주면 \n",
    "np.random.normal(loc = 100, scale = 1, size = (3,2,7)) # 98 ~ 102 사이에 있는 표준편차로 "
   ]
  },
  {
   "cell_type": "code",
   "execution_count": 18,
   "metadata": {},
   "outputs": [],
   "source": [
    "# 8. 1 ~ 100 사이의 정수 난수를 가지는 (4, 5) 형태의 배열을 생성한 뒤 arr.npy 파일로 저장.\n",
    "a8 = np.random.randint(1,101, size=(4,5))\n",
    "np.save(\"arr.npy\",a8)\n",
    "# np.save(r'c:\\temp\\arr.npy',a) # 절대경로로 지정하기 "
   ]
  },
  {
   "cell_type": "code",
   "execution_count": 19,
   "metadata": {},
   "outputs": [],
   "source": [
    "import os \n",
    "# 배열 저장 디렉토리 : backup\n",
    "if not os.path.isdir('backup'): # 현재경로에 backup 디렉터리가 없니? 없으면 생성하라\n",
    "    os.mkdir('backup')\n",
    "np.save('backup/arr.npy',a8)"
   ]
  },
  {
   "cell_type": "code",
   "execution_count": 62,
   "metadata": {},
   "outputs": [
    {
     "data": {
      "text/plain": [
       "array([[86, 92,  9, 30, 34],\n",
       "       [88, 68, 15, 83, 61],\n",
       "       [92,  6, 87,  1, 35],\n",
       "       [99, 97, 16, 52, 97]])"
      ]
     },
     "execution_count": 62,
     "metadata": {},
     "output_type": "execute_result"
    }
   ],
   "source": [
    "# 9. 8번에서 저장한 arr.npy 의 배열을 불러와서 출력.\n",
    "a8_1 = np.load('arr.npy')\n",
    "a8_1"
   ]
  },
  {
   "cell_type": "code",
   "execution_count": 235,
   "metadata": {},
   "outputs": [
    {
     "data": {
      "text/plain": [
       "array([251, 315, 221, 361])"
      ]
     },
     "execution_count": 235,
     "metadata": {},
     "output_type": "execute_result"
    }
   ],
   "source": [
    "# 10. 9번에서 불러온 배열에서 전체 값의 총합, 0번축 기준의 총합, 1번축 기준의 총합을 구하기.\n",
    "np.sum(a8_1) # 1148\n",
    "np.sum(a8_1,axis=0) # array([365, 263, 127, 166, 227])\n",
    "np.sum(a8_1,axis=1) # array([251, 315, 221, 361])"
   ]
  },
  {
   "cell_type": "code",
   "execution_count": 258,
   "metadata": {},
   "outputs": [
    {
     "name": "stdout",
     "output_type": "stream",
     "text": [
      "[[0 0 0 0 1 0 1 0 1 1]\n",
      " [1 0 1 0 1 1 1 1 1 1]\n",
      " [1 1 1 0 1 0 0 0 1 1]\n",
      " [1 0 0 1 0 1 0 1 0 0]\n",
      " [0 1 1 0 0 1 0 0 0 1]]\n"
     ]
    },
    {
     "data": {
      "text/plain": [
       "26"
      ]
     },
     "execution_count": 258,
     "metadata": {},
     "output_type": "execute_result"
    }
   ],
   "source": [
    "# 11. 임의의 Boolean 값을 가지는 (5, 10) 배열을 생성하고 True의 개수를 출력하시오.\n",
    "a11 = np.random.randint(0,2,size=(5,10))\n",
    "print(a11)\n",
    "np.where(a11 == True ,True,False)\n",
    "len(a11[a11==True])"
   ]
  },
  {
   "cell_type": "code",
   "execution_count": 22,
   "metadata": {},
   "outputs": [
    {
     "data": {
      "text/plain": [
       "33"
      ]
     },
     "execution_count": 22,
     "metadata": {},
     "output_type": "execute_result"
    }
   ],
   "source": [
    "a11 = np.random.choice([True,False], size=(5,10))\n",
    "# a11 = np.random.choice([True,False], size=(5,10), =p=[0.1, 0.9]) # 비율을 정하고 싶으면 p 설정\n",
    "np.sum(a11)"
   ]
  },
  {
   "cell_type": "code",
   "execution_count": 25,
   "metadata": {},
   "outputs": [
    {
     "data": {
      "text/plain": [
       "20"
      ]
     },
     "execution_count": 25,
     "metadata": {},
     "output_type": "execute_result"
    }
   ],
   "source": [
    "a11 = np.random.randint(0, 2, size = (5,10), dtype=bool)\n",
    "a11\n",
    "np.sum(a11)"
   ]
  },
  {
   "cell_type": "code",
   "execution_count": 79,
   "metadata": {},
   "outputs": [
    {
     "data": {
      "text/plain": [
       "array([[ 0,  1,  2,  3,  4,  5],\n",
       "       [ 6,  7,  8,  9, 10, 11],\n",
       "       [12, 13, 14, 15, 16, 17],\n",
       "       [18, 19, 20, 21, 22, 23],\n",
       "       [24, 25, 26, 27, 28, 29]])"
      ]
     },
     "execution_count": 79,
     "metadata": {},
     "output_type": "execute_result"
    }
   ],
   "source": [
    "# 12-17. 아래 배열을 생성하고 12번 ~ 17번 문제는 아래 조건으로 생성한 배열을 가지고 푸세요.\n",
    "#  0 ~ 29 범위의 정수를 원소로 가지는 (5,6) 의 배열을 생성하고 변수에 저장.\n",
    "a = np.arange(0,30).reshape(5,6)\n",
    "a"
   ]
  },
  {
   "cell_type": "code",
   "execution_count": 38,
   "metadata": {},
   "outputs": [
    {
     "data": {
      "text/plain": [
       "array([ 7, 15, 11])"
      ]
     },
     "execution_count": 38,
     "metadata": {},
     "output_type": "execute_result"
    }
   ],
   "source": [
    "# 12. index (1,1), (2,3), (1,5)의 값들 조회 : 팬싱인덱싱 -> 한번에 여러개 조회 --> 쉼표를 기준으로 [0번인덱싱],[1번인덱싱]\n",
    "a[[1,2,1],[1,3,5]]"
   ]
  },
  {
   "cell_type": "code",
   "execution_count": 39,
   "metadata": {},
   "outputs": [
    {
     "data": {
      "text/plain": [
       "array([[ 7,  8,  9],\n",
       "       [13, 14, 15],\n",
       "       [19, 20, 21]])"
      ]
     },
     "execution_count": 39,
     "metadata": {},
     "output_type": "execute_result"
    }
   ],
   "source": [
    "# 13. index (1,1), (1,2), (1,3), (2,1), (2,2), (2,3), (3,1), (3,2), (3,3)의 값들을 조회.\n",
    "a13 = a[1:4,1:4]\n",
    "a13"
   ]
  },
  {
   "cell_type": "code",
   "execution_count": 45,
   "metadata": {},
   "outputs": [
    {
     "data": {
      "text/plain": [
       "array([[21, 20, 19],\n",
       "       [15, 14, 13],\n",
       "       [ 9,  8,  7]])"
      ]
     },
     "execution_count": 45,
     "metadata": {},
     "output_type": "execute_result"
    }
   ],
   "source": [
    "# 14. 13와 같은 index의 값들을 뒤집어서(reversing) 조회. [start:stop:-step]  start > stop \n",
    "a14 = a[3:0:-1,3:0:-1]\n",
    "a14"
   ]
  },
  {
   "cell_type": "code",
   "execution_count": 46,
   "metadata": {},
   "outputs": [
    {
     "data": {
      "text/plain": [
       "array([[ 9,  8,  7],\n",
       "       [15, 14, 13],\n",
       "       [21, 20, 19]])"
      ]
     },
     "execution_count": 46,
     "metadata": {},
     "output_type": "execute_result"
    }
   ],
   "source": [
    "# axis 1만 리버싱 \n",
    "r2 = a[1:4, 3:0:-1]\n",
    "r2"
   ]
  },
  {
   "cell_type": "code",
   "execution_count": 49,
   "metadata": {},
   "outputs": [
    {
     "name": "stdout",
     "output_type": "stream",
     "text": [
      "[[21 20 19]\n",
      " [15 14 13]\n",
      " [ 9  8  7]]\n"
     ]
    }
   ],
   "source": [
    "# 전체에 대한 리버싱 --> 플립은  , [::-1]\n",
    "a[::-1]\n",
    "np.flip(a)\n",
    "print(np.flip(a13))"
   ]
  },
  {
   "cell_type": "code",
   "execution_count": 52,
   "metadata": {},
   "outputs": [
    {
     "data": {
      "text/plain": [
       "22.0"
      ]
     },
     "execution_count": 52,
     "metadata": {},
     "output_type": "execute_result"
    }
   ],
   "source": [
    "# 15. 배열에서 15 이상의 원소만 조회해서 그 평균을 출력.\n",
    "a15 = np.average(a[a>=15])\n",
    "a15"
   ]
  },
  {
   "cell_type": "code",
   "execution_count": 61,
   "metadata": {},
   "outputs": [
    {
     "name": "stdout",
     "output_type": "stream",
     "text": [
      "<class 'tuple'>\n",
      "(2, 3) (2, 4) (2, 5) (3, 0) (3, 1) (3, 2) (3, 3) (3, 4) (3, 5) (4, 0) (4, 1) (4, 2) (4, 3) (4, 4) (4, 5) "
     ]
    }
   ],
   "source": [
    "# 16. 배열에서 15이상의 원소들의 index를 조회. (0축 index, 1축 index) 형식으로 출력. \n",
    "#     ex: (0,0), (0,1) 식으로 출력\n",
    "indices = np.where(a>=15)\n",
    "\n",
    "print(type(indices))\n",
    "\n",
    "for idx in zip(indices[0],indices[1]) : # zip(배열, 배열) : 한번 반복 시 두 배열의 같은 인덱스의 값들을 반환\n",
    "    print(idx, end= ' ')"
   ]
  },
  {
   "cell_type": "markdown",
   "metadata": {},
   "source": [
    "# 유용하게 쓰니 기억하기\n",
    "- enumerate(자료구조)\n",
    "- zip(자료구조1, 자료구조2, [...])\n",
    "- range()"
   ]
  },
  {
   "cell_type": "code",
   "execution_count": 82,
   "metadata": {},
   "outputs": [
    {
     "data": {
      "text/plain": [
       "array([[ 5,  4,  3,  2,  1,  0],\n",
       "       [11, 10,  9,  8,  7,  6],\n",
       "       [17, 16, 15, 14, 13, 12],\n",
       "       [23, 22, 21, 20, 19, 18],\n",
       "       [29, 28, 27, 26, 25, 24]])"
      ]
     },
     "execution_count": 82,
     "metadata": {},
     "output_type": "execute_result"
    }
   ],
   "source": [
    "# 17. 배열을 axis 1을 기준으로 내림차순으로 정렬. \n",
    "# 결과\n",
    "[[ 5,  4,  3,  2,  1,  0],\n",
    " [11, 10,  9,  8,  7,  6],\n",
    " [17, 16, 15, 14, 13, 12],\n",
    " [23, 22, 21, 20, 19, 18],\n",
    " [29, 28, 27, 26, 25, 24]]   \n",
    "a\n",
    "# a[::,::-1] # 사실 정렬이 아님, a가 정렬이 되어 있기때문에 정렬처럼 보이는 것 \n",
    "np.sort(a, axis = 1)[:,::-1]"
   ]
  },
  {
   "cell_type": "code",
   "execution_count": 83,
   "metadata": {},
   "outputs": [],
   "source": [
    "# 18-21. 아래 배열을 생성하고 18번 ~ 21번 문제는 아래 조건으로 생성한 배열을 가지고 푸세요.\n",
    "# (3, 2) shape의 배열을 생성 하시오. \n",
    "a = np.arange(6).reshape(3,2)"
   ]
  },
  {
   "cell_type": "code",
   "execution_count": 91,
   "metadata": {},
   "outputs": [
    {
     "name": "stdout",
     "output_type": "stream",
     "text": [
      "(1, 3, 2)\n",
      "(1, 3, 2)\n",
      "(1, 3, 2)\n",
      "(1, 3, 2)\n"
     ]
    }
   ],
   "source": [
    "# 18. 배열의 shape을 (1, 3, 2) 로 변환한 배열을 생성.\n",
    "# 방법1\n",
    "a18_1 = a.reshape(1,3,2)\n",
    "print(a18_1.shape)\n",
    "#방법2 \n",
    "a18_2 = a[np.newaxis,:,:]\n",
    "print(a18_2.shape)\n",
    "#방법3\n",
    "a18_3 = a[np.newaxis, ...]\n",
    "print(a18_3.shape)\n",
    "#방법 4\n",
    "a18_4 = np.expand_dims(a,axis=0)\n",
    "print(a18_4.shape)"
   ]
  },
  {
   "cell_type": "code",
   "execution_count": 94,
   "metadata": {},
   "outputs": [
    {
     "name": "stdout",
     "output_type": "stream",
     "text": [
      "(1, 3, 2, 1)\n",
      "(1, 3, 2, 1)\n"
     ]
    }
   ],
   "source": [
    "# 19. 배열의 shape을 (1, 3, 2, 1) 로 변환한 배열을 생성.\n",
    "a19 = a.reshape(1,3,2,1)\n",
    "print(a19.shape)\n",
    "\n",
    "a19_1 = a[np.newaxis, ..., np.newaxis]\n",
    "print(a19_1.shape)"
   ]
  },
  {
   "cell_type": "code",
   "execution_count": 95,
   "metadata": {},
   "outputs": [
    {
     "data": {
      "text/plain": [
       "(6,)"
      ]
     },
     "execution_count": 95,
     "metadata": {},
     "output_type": "execute_result"
    }
   ],
   "source": [
    "# 20. 배열을 1차원 배열로 변환한 배열을 생성.\n",
    "a20 = a.reshape(6,)\n",
    "a20\n",
    "\n",
    "f = a.flatten()\n",
    "f.shape"
   ]
  },
  {
   "cell_type": "code",
   "execution_count": 96,
   "metadata": {},
   "outputs": [
    {
     "data": {
      "text/plain": [
       "(5, 2)"
      ]
     },
     "execution_count": 96,
     "metadata": {},
     "output_type": "execute_result"
    }
   ],
   "source": [
    "# 21. 배열의 0번 축에 2개의 값을 추가. (추가된 배열의 shape: (5,2))\n",
    "a21 = np.append(a,[[6,7],[8,9]], axis = 0)\n",
    "a21.shape"
   ]
  },
  {
   "cell_type": "code",
   "execution_count": 98,
   "metadata": {},
   "outputs": [
    {
     "name": "stdout",
     "output_type": "stream",
     "text": [
      "(3, 4)\n"
     ]
    },
    {
     "data": {
      "text/plain": [
       "array([[ 0,  1, 10, 20],\n",
       "       [ 2,  3, 40, 50],\n",
       "       [ 4,  5, 60, 70]])"
      ]
     },
     "execution_count": 98,
     "metadata": {},
     "output_type": "execute_result"
    }
   ],
   "source": [
    "#번외 \n",
    "a21_1 = np.append(a,[[10,20],[40,50],[60,70]],axis=1)\n",
    "print(a21_1.shape)\n",
    "a21_1"
   ]
  },
  {
   "cell_type": "code",
   "execution_count": 9,
   "metadata": {},
   "outputs": [
    {
     "data": {
      "text/plain": [
       "array([[ 60,  80,  60, 100],\n",
       "       [ 80,  80,  90,  90],\n",
       "       [ 90,  60,  70,  50],\n",
       "       [ 40,  80,  60,  50],\n",
       "       [ 60,  50,  70, 100]])"
      ]
     },
     "execution_count": 9,
     "metadata": {},
     "output_type": "execute_result"
    }
   ],
   "source": [
    "# 22-28. 다음 배열은 5명 학생의 국어, 영어, 수학, 과학 시험 점수이다. 행(axis=0)은 각 학생의 시험점수이고 컬럼(axis=1)은 과목을 가리킨다.\n",
    "score = np.array([\n",
    " [ 60,  80,  60, 100],\n",
    " [ 80,  80,  90,  90],\n",
    " [ 90,  60,  70,  50],\n",
    " [ 40,  80,  60,  50],\n",
    " [ 60,  50,  70, 100]\n",
    "])\n",
    "score"
   ]
  },
  {
   "cell_type": "code",
   "execution_count": 10,
   "metadata": {},
   "outputs": [
    {
     "data": {
      "text/plain": [
       "array([66., 70., 70., 78.])"
      ]
     },
     "execution_count": 10,
     "metadata": {},
     "output_type": "execute_result"
    }
   ],
   "source": [
    "# 22. 각 과목별 평균점수를 조회\n",
    "mean_score = np.mean(score, axis=0)\n",
    "mean_score"
   ]
  },
  {
   "cell_type": "code",
   "execution_count": 11,
   "metadata": {},
   "outputs": [
    {
     "data": {
      "text/plain": [
       "array([[ 60.,  80.,  60., 100.],\n",
       "       [ 80.,  80.,  90.,  90.],\n",
       "       [ 90.,  60.,  70.,  50.],\n",
       "       [ 40.,  80.,  60.,  50.],\n",
       "       [ 60.,  50.,  70., 100.],\n",
       "       [ 66.,  70.,  70.,  78.]])"
      ]
     },
     "execution_count": 11,
     "metadata": {},
     "output_type": "execute_result"
    }
   ],
   "source": [
    "# 23. 각 과목별 평균 점수를 성적 배열에 추가. \n",
    "np.append(score, [mean_score], axis = 0)"
   ]
  },
  {
   "cell_type": "code",
   "execution_count": 12,
   "metadata": {},
   "outputs": [
    {
     "data": {
      "text/plain": [
       "array([[75. ],\n",
       "       [85. ],\n",
       "       [67.5],\n",
       "       [57.5],\n",
       "       [70. ]])"
      ]
     },
     "execution_count": 12,
     "metadata": {},
     "output_type": "execute_result"
    }
   ],
   "source": [
    "# 24. 각 학생들의 평균 점수 조회\n",
    "mean_student = np.mean(score, axis = 1, keepdims=True)\n",
    "mean_student"
   ]
  },
  {
   "cell_type": "code",
   "execution_count": 13,
   "metadata": {},
   "outputs": [
    {
     "data": {
      "text/plain": [
       "array([3, 1, 2, 1], dtype=int64)"
      ]
     },
     "execution_count": 13,
     "metadata": {},
     "output_type": "execute_result"
    }
   ],
   "source": [
    "# 25. 과목별로 몇번째 학생의 성적이 가장 높은지 조회\n",
    "np.argmax(score,axis=0)+1 # 맥스값 인덱스 뽑기"
   ]
  },
  {
   "cell_type": "code",
   "execution_count": 14,
   "metadata": {},
   "outputs": [
    {
     "data": {
      "text/plain": [
       "array(['국어', '국어', '과학', '국어', '영어'], dtype='<U2')"
      ]
     },
     "execution_count": 14,
     "metadata": {},
     "output_type": "execute_result"
    }
   ],
   "source": [
    "# 26. 학생별로 어떤 과목의 점수가 가장 낮은지 조회.\n",
    "a26 = np.argmin(score, axis=1)\n",
    "\n",
    "subject = np.array(['국어','영어','수학','과학']) # 팬시 인뎅싱 이용해서 과목명으로 출력해보기 \n",
    "subject[a26]"
   ]
  },
  {
   "cell_type": "code",
   "execution_count": 20,
   "metadata": {},
   "outputs": [
    {
     "name": "stdout",
     "output_type": "stream",
     "text": [
      "[17.43559577 12.64911064 10.95445115 23.15167381]\n",
      "3 2\n"
     ]
    },
    {
     "data": {
      "text/plain": [
       "array(['과학', '수학'], dtype='<U2')"
      ]
     },
     "execution_count": 20,
     "metadata": {},
     "output_type": "execute_result"
    }
   ],
   "source": [
    "# 27. 각 과목별로 편차가 가장 적은 과목과 가장 큰 과목을 조회\n",
    "# 편차 평균 근처에서 얼마나 몰려있냐? 편차가 크다 -> 값들이 넓게 분포되어 있다. , 편차가 작다 -> 값들이 좁게 분포해있다.\n",
    "std_score = np.std(score,axis = 0)\n",
    "print(std_score)\n",
    "\n",
    "argmax_std = np.argmax(std_score)\n",
    "argmin_std = np.argmin(std_score)\n",
    "\n",
    "print(argmax_std, argmin_std)\n",
    "subject[[argmax_std, argmin_std]]"
   ]
  },
  {
   "cell_type": "code",
   "execution_count": 16,
   "metadata": {},
   "outputs": [
    {
     "name": "stdout",
     "output_type": "stream",
     "text": [
      "[16.58312395  5.         14.79019946 14.79019946 18.70828693]\n",
      "1\n"
     ]
    }
   ],
   "source": [
    "# 28. 학생들 중 과목간의 점수의 편차가 가장 적은 학생을 조회\n",
    "std_score_stu = np.std(score, axis = 1)\n",
    "argmin_std_stu = np.argmin(std_score_stu)\n",
    "print(std_score_stu)\n",
    "print(argmin_std_stu)"
   ]
  },
  {
   "cell_type": "code",
   "execution_count": 17,
   "metadata": {},
   "outputs": [],
   "source": [
    "# 29-30 다음 두 배열을 가지고 29,30번 문제를 푸세요.\n",
    "A = np.array([\n",
    "  [1,2,3],\n",
    "  [4,5,6],\n",
    "  [7,8,9]\n",
    "])\n",
    "\n",
    "B = np.array([ \n",
    "  [10,20,30],\n",
    "  [40,50,60],\n",
    "  [70,80,90]\n",
    "])"
   ]
  },
  {
   "cell_type": "code",
   "execution_count": 137,
   "metadata": {},
   "outputs": [
    {
     "name": "stdout",
     "output_type": "stream",
     "text": [
      "[[ 1  2  3]\n",
      " [ 4  5  6]\n",
      " [ 7  8  9]\n",
      " [10 20 30]\n",
      " [40 50 60]\n",
      " [70 80 90]]\n"
     ]
    },
    {
     "data": {
      "text/plain": [
       "array([[ 1,  2,  3],\n",
       "       [ 4,  5,  6],\n",
       "       [ 7,  8,  9],\n",
       "       [10, 20, 30],\n",
       "       [40, 50, 60],\n",
       "       [70, 80, 90]])"
      ]
     },
     "execution_count": 137,
     "metadata": {},
     "output_type": "execute_result"
    }
   ],
   "source": [
    "# 29. 두 배열을 수직방향으로 합치기. \n",
    "C = np.concatenate([A,B],axis = 0)\n",
    "print(C)\n",
    "AB = np.vstack([A,B]) # vstack(), hstack() : 행렬(2차원배열)에서 사용\n",
    "AB"
   ]
  },
  {
   "cell_type": "code",
   "execution_count": 141,
   "metadata": {},
   "outputs": [
    {
     "name": "stdout",
     "output_type": "stream",
     "text": [
      "[array([[ 1,  2],\n",
      "       [ 4,  5],\n",
      "       [ 7,  8],\n",
      "       [10, 20],\n",
      "       [40, 50],\n",
      "       [70, 80]]), array([[ 3],\n",
      "       [ 6],\n",
      "       [ 9],\n",
      "       [30],\n",
      "       [60],\n",
      "       [90]])]\n",
      "[array([[ 1,  2],\n",
      "       [ 4,  5],\n",
      "       [ 7,  8],\n",
      "       [10, 20],\n",
      "       [40, 50],\n",
      "       [70, 80]]), array([[ 3],\n",
      "       [ 6],\n",
      "       [ 9],\n",
      "       [30],\n",
      "       [60],\n",
      "       [90]])]\n"
     ]
    }
   ],
   "source": [
    "# 30. 29에서 합친 배열을 수평방향으로 index 2를 기준으로 나누기.\n",
    "D = np.split(C, [2], axis = 1)\n",
    "print(D)\n",
    "a30 = np.hsplit(AB,[2])\n",
    "print(a30)"
   ]
  },
  {
   "cell_type": "code",
   "execution_count": 143,
   "metadata": {},
   "outputs": [],
   "source": [
    "# 31-32 다음은 7명의 학생의 점수이다. 배열을 생성한뒤 33번 ~ 35번 문제를 푸세요.\n",
    "score = np.array([10, 50, 75, 20, 70, 50, 80])"
   ]
  },
  {
   "cell_type": "code",
   "execution_count": 151,
   "metadata": {},
   "outputs": [
    {
     "name": "stdout",
     "output_type": "stream",
     "text": [
      "3\n"
     ]
    },
    {
     "data": {
      "text/plain": [
       "3"
      ]
     },
     "execution_count": 151,
     "metadata": {},
     "output_type": "execute_result"
    }
   ],
   "source": [
    "# 31. 다음 배열에서 평균 이상의 점수를 받은 학생이 몇명인지 조회\n",
    "mean_score = np.mean(score) # 50.71 \n",
    "len(score[score >= mean_score])\n",
    "print(score[score >= mean_score].size)\n",
    "np.sum(score>=np.mean(score))"
   ]
  },
  {
   "cell_type": "code",
   "execution_count": 156,
   "metadata": {},
   "outputs": [
    {
     "data": {
      "text/plain": [
       "42.857142857142854"
      ]
     },
     "execution_count": 156,
     "metadata": {},
     "output_type": "execute_result"
    }
   ],
   "source": [
    "#32. 다음 배열에서 평균 이상의 점수를 받은 학생이 전체 학생 중 몇명인지 비율을 조회.\n",
    "np.mean(score >= np.mean(score)) * 100"
   ]
  },
  {
   "cell_type": "code",
   "execution_count": 158,
   "metadata": {},
   "outputs": [],
   "source": [
    "# 33-35 다음 배열은 스무명의 사람들의 연봉의 표본이다. (단위 만원) 배열을 생성한뒤 33번 ~ 35번 문제를 푸세요.\n",
    "salary = np.array([7650, 4210, 7260, 8020, 8200, 8740, 4960, 1420,\n",
    " 5410, 9770, 2370, 7960, 8960, 2660, 7940, 5120,\n",
    " 7100, 5220, 8810, 253000])"
   ]
  },
  {
   "cell_type": "code",
   "execution_count": 159,
   "metadata": {},
   "outputs": [
    {
     "data": {
      "text/plain": [
       "8335.0"
      ]
     },
     "execution_count": 159,
     "metadata": {},
     "output_type": "execute_result"
    }
   ],
   "source": [
    "# 33. 위 배열에서 상위 75% 는 얼마 이상을 받는지 조회.\n",
    "np.quantile(salary, q=0.75) # 8740"
   ]
  },
  {
   "cell_type": "code",
   "execution_count": 160,
   "metadata": {},
   "outputs": [
    {
     "data": {
      "text/plain": [
       "5080.0"
      ]
     },
     "execution_count": 160,
     "metadata": {},
     "output_type": "execute_result"
    }
   ],
   "source": [
    "# 34. 위 배열에서 하위 25%는 얼마 이하를 받는지 조회.\n",
    "np.quantile(salary, q=0.25) #4960"
   ]
  },
  {
   "cell_type": "code",
   "execution_count": 162,
   "metadata": {},
   "outputs": [
    {
     "name": "stdout",
     "output_type": "stream",
     "text": [
      "18739.0 7455.0\n"
     ]
    }
   ],
   "source": [
    "# 35. 위 배열의 평균과 중앙값을 구하고 배열의 대푯값으로 어떤 것을 사용하는 것이 맞는지 적으세요.\n",
    "salary_mean = np.mean(salary)\n",
    "salary_median = np.median(salary)\n",
    "print(salary_mean, salary_median)"
   ]
  },
  {
   "cell_type": "code",
   "execution_count": 163,
   "metadata": {},
   "outputs": [
    {
     "data": {
      "text/plain": [
       "array([  1420,   2370,   2660,   4210,   4960,   5120,   5220,   5410,\n",
       "         7100,   7260,   7650,   7940,   7960,   8020,   8200,   8740,\n",
       "         8810,   8960,   9770, 253000])"
      ]
     },
     "execution_count": 163,
     "metadata": {},
     "output_type": "execute_result"
    }
   ],
   "source": [
    "# 평균 > 중앙값 \n",
    "# 평균 < 중앙값 \n",
    "# 많이 차이가 나는 경우 : 극단값이 있는 배열에서는 대푯값을 중앙값으로 사용한다. \n",
    "np.sort(salary)"
   ]
  },
  {
   "cell_type": "code",
   "execution_count": null,
   "metadata": {},
   "outputs": [],
   "source": []
  }
 ],
 "metadata": {
  "kernelspec": {
   "display_name": "Python 3",
   "language": "python",
   "name": "python3"
  },
  "language_info": {
   "codemirror_mode": {
    "name": "ipython",
    "version": 3
   },
   "file_extension": ".py",
   "mimetype": "text/x-python",
   "name": "python",
   "nbconvert_exporter": "python",
   "pygments_lexer": "ipython3",
   "version": "3.8.5"
  }
 },
 "nbformat": 4,
 "nbformat_minor": 4
}
