{
 "cells": [
  {
   "cell_type": "markdown",
   "metadata": {},
   "source": [
    "# 1. 넘파이 배열"
   ]
  },
  {
   "cell_type": "markdown",
   "metadata": {},
   "source": [
    "## 1.1 넘파이 패키지 임포트\n",
    "- 배열을 사용하기 위해서 넘파이 패키지를 임포트.\n",
    "- 넘파이는 np라는 이름으로 임포트 하는 것이 관례."
   ]
  },
  {
   "cell_type": "code",
   "execution_count": null,
   "metadata": {},
   "outputs": [],
   "source": [
    "import numpy as np"
   ]
  },
  {
   "cell_type": "markdown",
   "metadata": {},
   "source": [
    "## 1.2 1차원 배열 만들기\n",
    "- 넘파이의 array함수에 리스트를 넣으면 ndarray(배열)클래스 객체로 변환\n",
    "- 즉, 배열로 변환.\n",
    "- 리스트와 비슷해보이지만 type명령으로 자료형을 보면 ndarray(배열)이다. \n",
    "- 배열객체와 리스트 객체의 차이점 \n",
    "    - 리스트 클래스 객체 : 각각의 원소가 다른 자료형 가능.\n",
    "    - 배열 클래스 객체 : 모든 원소가 같은 자료형. \n",
    "        - C 언어의 배열처럼 연속적인 메모리에 배치하기 때문에 같은 자료형\n",
    "        - 따라서 원소에 대한 접근과 반복문 실행이 빠름"
   ]
  },
  {
   "cell_type": "code",
   "execution_count": null,
   "metadata": {},
   "outputs": [],
   "source": [
    "a = np.array([0, 1, 2, 3, 4, 5, 6, 7, 8, 9])\n",
    "print(a) # [0 1 2 3 4 5 6 7 8 9]\n",
    "print(type(a)) # <class 'numpy.ndarray'>"
   ]
  },
  {
   "cell_type": "markdown",
   "metadata": {},
   "source": [
    "## 1.3 벡터화 연산\n",
    "- 벡터화 연산 (Vectorized Operation) : 배열 객체는 배열의 각 원소에 대한 반복 연산을 하나의 명령어로 처리하는 벡터화 연산을 지원 \n",
    "- 벡터화 연산을 하면 for반복문 없이 한번의 연산을 할 수 있다.\n",
    "- 따라서 계산 속도도 반복문을 사용할 때 보다 훨씬 빠르다. \n",
    "- 벡터화 연산은 비교연산과 논리 연산을 포함한 모든 종류의 수학 연산에 적용 "
   ]
  },
  {
   "cell_type": "code",
   "execution_count": null,
   "metadata": {},
   "outputs": [],
   "source": [
    "# 리스트에서 각 원소에 2배 하기위해서는 for문을 돌려서 연산 해야한다. \n",
    "\n",
    "data = [0, 1, 2, 3, 4, 5, 6, 7, 8, 9]\n",
    "answer = []\n",
    "for di in data : \n",
    "    answer.append(2 * di)\n",
    "print(answer) # [0, 2, 4, 6, 8, 10, 12, 14, 16, 18] \n",
    "print(data * 2)  # [0, 1, 2, 3, 4, 5, 6, 7, 8, 9, 0, 1, 2, 3, 4, 5, 6, 7, 8, 9]"
   ]
  },
  {
   "cell_type": "code",
   "execution_count": null,
   "metadata": {},
   "outputs": [],
   "source": [
    "# 하지만 벡터화 연산은 for 반복문 없이 한번에 연산 가능\n",
    "\n",
    "x = np.array(data)\n",
    "2 * x # array([ 0,  2,  4,  6,  8, 10, 12, 14, 16, 18])"
   ]
  },
  {
   "cell_type": "code",
   "execution_count": null,
   "metadata": {},
   "outputs": [],
   "source": [
    "# 벡터화 연산은 비교연산, 논리연산 등 연산 가능 \n",
    "\n",
    "a = np.array([1, 2, 3])\n",
    "b = np.array([10, 20, 30])\n",
    "\n",
    "print(2*a+b) # [12 24 36]\n",
    "print(a == 2) # [False  True False]\n",
    "print(b > 10) # [False  True  True]\n",
    "print((a == 2)&(b > 10)) # [False  True False]"
   ]
  },
  {
   "cell_type": "markdown",
   "metadata": {},
   "source": [
    "## 1.4 2차원 배열 만들기\n",
    "- ndarray (N-dimension Array)는 1차원, 2차원, 3차원 배열 등 다차원 배열 자료구조를 지원.\n",
    "- 리스트의 리스트(list of list)를 이용하여 2차원 배열 생성.\n",
    "- 2차원 배열은 행렬(matrix)라고 하며 \n",
    "    - 가로줄을 행(Row) , 바깥쪽 리스트의 길이 = 행렬의 행의 수 = 세로크기\n",
    "    - 세로줄을 열(Column), 안쪽 리스트의 길이 = 행렬의 열의 수 = 가로크기\n",
    "- ![그림넣기]()    "
   ]
  },
  {
   "cell_type": "code",
   "execution_count": null,
   "metadata": {},
   "outputs": [],
   "source": [
    "a = np.array([[0, 1, 2],[3, 4, 5]]) # 2 * 3 array\n",
    "print(len(a)) # 행의 갯수 : 2\n",
    "print(len(a[0])) # 열의 갯수 : 3 "
   ]
  },
  {
   "cell_type": "markdown",
   "metadata": {},
   "source": [
    "> <b>연습문제 1</b>\n",
    "> - 넘파이를 사용하여 다음과 같은 행렬을 만든다.      \n",
    "> 10 20 30 40         \n",
    "> 50 60 70 80            "
   ]
  },
  {
   "cell_type": "code",
   "execution_count": null,
   "metadata": {},
   "outputs": [],
   "source": [
    "a = np.array([[10, 20, 30, 40],[50, 60, 70, 80]])\n",
    "a # array([[10, 20, 30, 40],[50, 60, 70, 80]])"
   ]
  },
  {
   "cell_type": "code",
   "execution_count": null,
   "metadata": {},
   "outputs": [],
   "source": [
    "a = np.arange(10,90,10).reshape(2,4)\n",
    "a # # array([[10, 20, 30, 40],[50, 60, 70, 80]])"
   ]
  },
  {
   "cell_type": "markdown",
   "metadata": {},
   "source": [
    "## 1.5 3차원 배열만들기\n",
    "- 리스트의 리스트의 리스트를 이용하면 3차원 배열 생성\n",
    "- 3차원 배열의 깊이, 행, 열 <-- 구조 의 기준 axis0, axis1, axis2 다르다? \n",
    "|--|--|\n",
    "|--|--|\n",
    "|3차원 배열의 깊이|len(d)|\n",
    "|3차원 배열의 행|len(d[0]|\n",
    "|3차원 배열의 열|len(d[0][0])|"
   ]
  },
  {
   "cell_type": "code",
   "execution_count": null,
   "metadata": {},
   "outputs": [],
   "source": [
    "d = np.array([[[1, 2, 3, 4],\n",
    "               [5, 6, 7, 8],\n",
    "               [9, 10, 11, 12]],\n",
    "              [[11, 12, 13, 14],\n",
    "               [15, 16, 17, 18],\n",
    "               [19, 20, 21, 22]]])   # 2 x 3 x 4 array\n",
    "len(d) # 3차원 배열의 깊이 : 2\n",
    "len(d[0]) # 3차원 배열의 행 : 3 \n",
    "len(d[0][0]) # 3차원 배열의 열 : 4 "
   ]
  },
  {
   "cell_type": "markdown",
   "metadata": {},
   "source": [
    "## 1.6  배열의 차원과 크기\n",
    "- 배열의 차원 : ndim속성\n",
    "- 배열의 크기 : shape속성"
   ]
  },
  {
   "cell_type": "code",
   "execution_count": null,
   "metadata": {},
   "outputs": [],
   "source": [
    "# 1차원 배열 \n",
    "a = np.array([1, 2, 3]) \n",
    "print(a.ndim) # 1\n",
    "print(a.shape) # (3,)\n",
    "\n",
    "# 2차원 배열 \n",
    "b = np.array([[0, 1, 2], [3, 4, 5]]) \n",
    "print(b.ndim) # 2\n",
    "print(b.shape) # (2,3)\n",
    "\n",
    "# 3차원 배열 \n",
    "c = np.array([[[1, 2, 3, 4],\n",
    "               [5, 6, 7, 8],\n",
    "               [9, 10, 11, 12]],\n",
    "              [[11, 12, 13, 14],\n",
    "               [15, 16, 17, 18],\n",
    "               [19, 20, 21, 22]]])\n",
    "print(c.ndim) # 3\n",
    "print(c.shape) # (2, 3, 4)"
   ]
  },
  {
   "cell_type": "markdown",
   "metadata": {},
   "source": [
    "## 1.7 배열의 인덱싱\n",
    "### 1.7.1 1차원 배열인덱싱\n",
    "- 1차원 배열의 인덱싱은 리스트의 인덱싱과 같다"
   ]
  },
  {
   "cell_type": "code",
   "execution_count": null,
   "metadata": {},
   "outputs": [],
   "source": [
    "a = np.array([0, 1, 2, 3, 4])\n",
    "a[2] # 2\n",
    "a[-1] # 4"
   ]
  },
  {
   "cell_type": "markdown",
   "metadata": {},
   "source": [
    "### 1.7.2 다차원배열 인덱싱\n",
    "- 다차원 배열일때는 콤마를 사용해 접근\n",
    "- 콤마로 구분된 차원을 축(axis)이라 한다.\n",
    "- 축(axis) : 그래프의 x축 ,y축을 떠올리면 된다."
   ]
  },
  {
   "cell_type": "code",
   "execution_count": null,
   "metadata": {},
   "outputs": [],
   "source": [
    "a = np.array([[0, 1, 2], [3, 4, 5]])\n",
    "a[0,0] # 0\n",
    "a[0,1] # 1\n",
    "a[-1,-1] # 마지막행의 마지막열 : 5"
   ]
  },
  {
   "cell_type": "markdown",
   "metadata": {},
   "source": [
    "## 1.8 배열의 슬라이싱\n",
    "- 배열 객체로 구현한 다차원 배열 원소 중 복수개를 접근하려면 일반적인 파이썬 슬라이싱과 콤마(,)를 함께 사용"
   ]
  },
  {
   "cell_type": "code",
   "execution_count": null,
   "metadata": {},
   "outputs": [],
   "source": [
    "# 2차원 배열 슬라이싱\n",
    "a = np.array([[0, 1, 2, 3], [4, 5, 6, 7]])\n",
    "a[0,:] # 첫번째 행 전체 : array([0, 1, 2, 3])\n",
    "a[:,1] # 두번째 열 전체 : array([1, 5])\n",
    "a[1,1:] # 두번째 행 두번째 열부터 : array([5, 6, 7]) \n",
    "a[:2, :2] # array([[0, 1],[4, 5]]) "
   ]
  },
  {
   "cell_type": "markdown",
   "metadata": {},
   "source": [
    "> <B>연습문제 2</B>\n",
    "> - m = np.array([[ 0,  1,  2,  3,  4], [ 5,  6,  7,  8,  9],[10, 11, 12, 13, 14]])\n",
    "> - 1. 이 행렬에서 값 7을 인덱싱한다.\n",
    "> - 2. 이 행렬에서 값 14을 인덱싱한다.\n",
    "> - 3. 이 행렬에서 배열 [6,7] 을 슬라이싱한다.\n",
    "> - 4. 이 행렬에서 배열 [7, 12] 을 슬라이싱 한다.\n",
    "> - 5. 이 행렬에서 배열[[3, 4], [8, 9]]을 슬라이싱 한다. "
   ]
  },
  {
   "cell_type": "code",
   "execution_count": null,
   "metadata": {},
   "outputs": [],
   "source": [
    "m = np.array([[ 0, 1, 2, 3, 4], [ 5, 6, 7, 8, 9],[10, 11, 12, 13, 14]])\n",
    "m[1,2] # 7 \n",
    "m[-1,-1] # 14\n",
    "m[1,1:3] # array([6, 7])\n",
    "m[1:3,2] # array([ 7, 12])\n",
    "m[:2, 3:5] # array([[3, 4],[8, 9]])"
   ]
  },
  {
   "cell_type": "markdown",
   "metadata": {},
   "source": [
    "## 1.9 배열 인덱싱\n",
    "- 넘파이 배열 객체의 또다른 강력한 기능 팬시인덱싱(\n",
    "- DB질의(Query)기능을 수행\n",
    "- 배열 인덱싱에는 대괄호([])안에 인덱싱 정보를 숫자나 슬라이스가 아닌 위치정보를 나타내는 또 다른 ndarray배열을 받을 수있다.\n",
    "- 배열 인덱싱 방법 2가지\n",
    "    - 1) 불리언(boolean)방식\n",
    "    - 2) 정수 배열 방식"
   ]
  },
  {
   "cell_type": "markdown",
   "metadata": {},
   "source": [
<<<<<<< HEAD
    "## 1.4 2차원 배열만들기"
=======
    "### 1.9.1 불리언 방식\n",
    "- 인덱스 배열의 원소가 True, False 두 값으로만 구성\n",
    "- 인덱스 배열의 크기가 원래 ndarray객체의 크기가 같아야 한다."
>>>>>>> 468dbe124f3fea2d91d80c1870c943b5eecf0f6e
   ]
  },
  {
   "cell_type": "markdown",
   "metadata": {},
   "source": [
    "a = np.array([0, 1, 2, 3, 4, 5, 6, 7, 8, 9])\n",
    "idx = np.array([ True, False,  True, False,  True, False,  True, False,  True, False])\n",
    "a[idx] # array([0, 2, 4, 6, 8])"
   ]
  },
  {
   "cell_type": "markdown",
   "metadata": {},
   "source": [
    "## 1.6 배열의 차원과 크기"
   ]
  },
  {
   "cell_type": "markdown",
   "metadata": {},
   "source": [
    "## 1.7 배열의 인덱싱\n",
    "### 1.7.1 1차원 배열 인덱싱"
   ]
  },
  {
   "cell_type": "markdown",
   "metadata": {},
   "source": [
    "### 1.7.2 다차원 배열 인덱싱"
   ]
  },
  {
   "cell_type": "markdown",
   "metadata": {},
   "source": [
    "## 1.8 배열 슬라이싱"
   ]
  },
  {
   "cell_type": "markdown",
   "metadata": {},
   "source": [
    "## 1.9 배열 인덱싱"
   ]
  },
  {
   "cell_type": "code",
   "execution_count": null,
   "metadata": {},
   "outputs": [],
   "source": []
  },
  {
   "cell_type": "code",
   "execution_count": null,
   "metadata": {},
   "outputs": [],
   "source": []
  },
  {
   "cell_type": "code",
   "execution_count": null,
   "metadata": {},
   "outputs": [],
   "source": []
  },
  {
   "cell_type": "code",
   "execution_count": null,
   "metadata": {},
   "outputs": [],
   "source": []
  },
  {
   "cell_type": "code",
   "execution_count": null,
   "metadata": {},
   "outputs": [],
   "source": []
  },
  {
   "cell_type": "code",
   "execution_count": null,
   "metadata": {},
   "outputs": [],
   "source": []
  },
  {
   "cell_type": "code",
   "execution_count": null,
   "metadata": {},
   "outputs": [],
   "source": [
    "print(a % 2) # array([0, 1, 0, 1, 0, 1, 0, 1, 0, 1], dtype=int32)\n",
    "print(a % 2 == 0) # array([ True, False,  True, False,  True, False,  True, False,  True, False])\n",
    "print(a[a % 2 == 0]) # [0 2 4 6 8]"
   ]
  },
  {
   "cell_type": "markdown",
   "metadata": {},
   "source": [
    "### 1.9.2 정수 배열 방식\n",
    "- 인덱스 배열의 원소 각각이 원래 ndarray 객체 원소 하나를 가리키는 인덱스 정수여야 한다.\n",
    "- 배열 인덱스의 크기가 원래 배열 크기와 달라도 상관없음. \n",
    "- 즉, 같은 원소를 반복해서 가리키는 경우 배열 인덱스가 원래 배열보다 더 커짐."
   ]
  },
  {
   "cell_type": "code",
   "execution_count": null,
   "metadata": {},
   "outputs": [],
   "source": [
    "# 1차원 배열에서 홀수번째 원소만 골라내기 \n",
    "a = np.array([11, 22, 33, 44, 55, 66, 77, 88, 99])\n",
    "idx = np.array([0, 2, 4, 6, 8])\n",
    "a[idx] # array([11, 33, 55, 77, 99])"
   ]
  },
  {
   "cell_type": "code",
   "execution_count": null,
   "metadata": {},
   "outputs": [],
   "source": [
    "# 배열 인덱스의 크기가 원래 배열 크기와 같지 않아도 됨.\n",
    "a = np.array([11, 22, 33, 44, 55, 66, 77, 88, 99])\n",
    "idx = np.array([0, 0, 0, 0, 0, 0, 1, 1, 1, 1, 1, 2, 2, 2, 2, 2])\n",
    "a[idx] # array([11, 11, 11, 11, 11, 11, 22, 22, 22, 22, 22, 33, 33, 33, 33, 33])"
   ]
  },
  {
   "cell_type": "markdown",
   "metadata": {},
   "source": [
    "### 1.9.3 다차원 배열 인덱싱"
   ]
  },
  {
   "cell_type": "code",
   "execution_count": null,
   "metadata": {},
   "outputs": [],
   "source": [
    "a = np.array([[1, 2, 3, 4], [5, 6, 7, 8], [9, 10, 11, 12]])\n",
    "a[:, [True, False, False, True]] # array([[ 1,  4], [ 5,  8], [ 9, 12]])\n",
    "a[[2, 0, 1],:] # array([[ 9, 10, 11, 12], [ 1,  2,  3,  4],[ 5,  6,  7,  8]])"
   ]
  },
  {
   "cell_type": "markdown",
   "metadata": {},
   "source": [
    "> <B>연습문제 3 </B>\n",
    "> - x = np.array([1, 2, 3, 4, 5, 6, 7, 8, 9, 10, 11, 12, 13, 14, 15, 16, 17, 18, 29, 20])\n",
    "> - 1. 이 배열에서 3의 배수를 찾아라.\n",
    "> - 2. 이 배열에서 4로 나누면 1이 남는 수를 찾아라.\n",
    ">- 3. 이 배열에서 3으로 나누면 나누어지고 4로 나누면 1이 남은 수를 찾아라."
   ]
  },
  {
   "cell_type": "code",
   "execution_count": null,
   "metadata": {},
   "outputs": [],
   "source": [
    "x = np.array([1, 2, 3, 4, 5, 6, 7, 8, 9, 10, 11, 12, 13, 14, 15, 16, 17, 18, 29, 20])\n",
    "x[x % 3 == 0] # array([ 3,  6,  9, 12, 15, 18])\n",
    "x[x % 4 == 1] # array([ 1,  5,  9, 13, 17, 29])\n",
    "x[(x % 3 == 0) | (x % 4 == 1)] # array([ 1,  3,  5,  6,  9, 12, 13, 15, 17, 18, 29])"
   ]
  }
 ],
 "metadata": {
  "kernelspec": {
   "display_name": "Python 3",
   "language": "python",
   "name": "python3"
  },
  "language_info": {
   "codemirror_mode": {
    "name": "ipython",
    "version": 3
   },
   "file_extension": ".py",
   "mimetype": "text/x-python",
   "name": "python",
   "nbconvert_exporter": "python",
   "pygments_lexer": "ipython3",
   "version": "3.8.5"
  }
 },
 "nbformat": 4,
 "nbformat_minor": 4
}
