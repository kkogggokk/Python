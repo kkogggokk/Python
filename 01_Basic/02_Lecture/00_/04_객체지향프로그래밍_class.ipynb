{
 "cells": [
  {
   "cell_type": "markdown",
   "metadata": {},
   "source": [
    "# 객체지향 프로그래밍\n",
    "\n",
    "## Class(클래스) 정의\n",
    "- 객체의 설계도\n",
    "    - 동일한 형태의 객체들이 가져야하는 Attribute와 메소드(Method)를 정의한 것.\n",
    "    - 클래스로 부터 객체(instance)를 생성.\n",
    "- 구문\n",
    "```python\n",
    "class 클래스이름:  #클래스 선언부\n",
    "    # 클래스 구현부\n",
    "    # 메소드들을 정의\n",
    "```\n",
    "- 클래스 이름의 관례\n",
    "    - 파스칼표기법: 각 단어의 첫글자는 대문자 나머진 소문자.\n",
    "        - BankAccount, Person\n",
    "\n",
    "- 객체 생성\n",
    "```python\n",
    "변수 = 클래스이름()\n",
    "```"
   ]
  },
  {
   "cell_type": "markdown",
   "metadata": {},
   "source": [
    "### Person 클래스를 작성\n",
    "- 객체 구성요소\n",
    "    - Instance 속성(Attribute)\n",
    "        - 객체의 데이터/상태\n",
    "        - 변수 - instance 변수(variable)\n",
    "    - Instance method\n",
    "        - 객체가 제공하는 기능\n",
    "        - 함수를 객체에 넣은 것\n",
    "1. Person의 속성은?\n",
    "    - name, age, address\n",
    "2. Person method는?\n",
    "    - 나이를 더하는 메소드\n",
    "    - 전체 속성을 변경하는 메소드\n",
    "    - 전체 속성을 출력하는 메소드"
   ]
  },
  {
   "cell_type": "code",
   "execution_count": 1,
   "metadata": {},
   "outputs": [],
   "source": [
    "# 클래스 정의: 코드작성+실행\n",
    "class Person:\n",
    "    pass #구현부를 비워둘때."
   ]
  },
  {
   "cell_type": "code",
   "execution_count": 2,
   "metadata": {},
   "outputs": [],
   "source": [
    "# 객체(instance) 생성\n",
    "p1 = Person()"
   ]
  },
  {
   "cell_type": "code",
   "execution_count": 5,
   "metadata": {},
   "outputs": [
    {
     "name": "stdout",
     "output_type": "stream",
     "text": [
      "<class '__main__.Person'>\n"
     ]
    }
   ],
   "source": [
    "print(type(p1))\n",
    "# class는 instance의 타입\n",
    "# instance는 class의 값"
   ]
  },
  {
   "cell_type": "code",
   "execution_count": 6,
   "metadata": {},
   "outputs": [
    {
     "name": "stdout",
     "output_type": "stream",
     "text": [
      "<class 'int'> <class 'str'> <class 'list'> <class 'bool'> <class 'float'>\n"
     ]
    }
   ],
   "source": [
    "print(type(10), type(\"abc\"), type([1,2,3]), type(True), type(3.5))"
   ]
  },
  {
   "cell_type": "markdown",
   "metadata": {},
   "source": [
    "### Attribute\n",
    "- instance 변수\n",
    "- instance에 Attribute를 추가\n",
    "    1. Initializer(생성자)를 이용해 추가\n",
    "    2. 객체.속성명 = 값\n",
    "        - 주로 변경\n",
    "    3. 메소드를 이용\n",
    "        - 주로 변경\n",
    "- 조회\n",
    "    - 객체.속성명"
   ]
  },
  {
   "cell_type": "code",
   "execution_count": null,
   "metadata": {},
   "outputs": [],
   "source": [
    "p1 = Person()"
   ]
  },
  {
   "cell_type": "code",
   "execution_count": 7,
   "metadata": {},
   "outputs": [],
   "source": [
    "p1.name = \"홍길동\""
   ]
  },
  {
   "cell_type": "code",
   "execution_count": 8,
   "metadata": {},
   "outputs": [],
   "source": [
    "p1.age = 30\n",
    "p1.address = \"서울시\""
   ]
  },
  {
   "cell_type": "code",
   "execution_count": 9,
   "metadata": {},
   "outputs": [
    {
     "name": "stdout",
     "output_type": "stream",
     "text": [
      "홍길동\n"
     ]
    }
   ],
   "source": [
    "print(p1.name)"
   ]
  },
  {
   "cell_type": "code",
   "execution_count": 10,
   "metadata": {},
   "outputs": [
    {
     "name": "stdout",
     "output_type": "stream",
     "text": [
      "30\n"
     ]
    }
   ],
   "source": [
    "print(p1.age)"
   ]
  },
  {
   "cell_type": "code",
   "execution_count": 11,
   "metadata": {},
   "outputs": [
    {
     "name": "stdout",
     "output_type": "stream",
     "text": [
      "서울시\n"
     ]
    }
   ],
   "source": [
    "print(p1.address)"
   ]
  },
  {
   "cell_type": "code",
   "execution_count": 15,
   "metadata": {},
   "outputs": [
    {
     "name": "stdout",
     "output_type": "stream",
     "text": [
      "abc@abc.com\n"
     ]
    }
   ],
   "source": [
    "print(p1.email)"
   ]
  },
  {
   "cell_type": "code",
   "execution_count": null,
   "metadata": {},
   "outputs": [],
   "source": [
    "p2 = Person()\n",
    "print(p2.name)"
   ]
  },
  {
   "cell_type": "markdown",
   "metadata": {},
   "source": [
    "## Initializer (생성자)\n",
    "- 역할: 클래스로 부터 instance를 생성할때 instance 변수(속성)을 초기화 하는 역할.\n",
    "- 객체 생성할때 딱 한번만 호출되는 특이한 형태의 메소드\n",
    "- 구문\n",
    "```python\n",
    "class 클래스:\n",
    "    \n",
    "    def __init__(self [, 매개변수, ...]):\n",
    "        # 구현\n",
    "        # self.변수명 = 값\n",
    "```\n",
    "\n",
    "## self 변수\n",
    "- 생성자(Initializer)나 메소드(객체의 기능)의 첫번째 매개변수로 선언.\n",
    "    - 현재 객체(instance)를 전달받는 변수.\n",
    "- Initializer의 self: 현재 생성되고 있는 객체\n",
    "- 메소드: 메소드를 호출한 객체(메소드 소유객체)\n",
    "- 생성자/메소드 정의시 호출시 전달받을 값을 저장하는 매개변수는 두번째 부터 선언한다. "
   ]
  },
  {
   "cell_type": "code",
   "execution_count": 18,
   "metadata": {},
   "outputs": [],
   "source": [
    "class Person:\n",
    "    # initializer(생성자) 구현\n",
    "    def __init__(self, name, age, address=None):\n",
    "        # Attribute를 매개변수로 받은 값으로 초기화\n",
    "        self.name = name  #self.name : instance변수 name. \n",
    "        self.age = age\n",
    "        self.address = address\n",
    "#         self.age2 = age + 100\n",
    "    "
   ]
  },
  {
   "cell_type": "code",
   "execution_count": 19,
   "metadata": {},
   "outputs": [],
   "source": [
    "p3 = Person(\"박영희\", 40)"
   ]
  },
  {
   "cell_type": "code",
   "execution_count": 20,
   "metadata": {},
   "outputs": [
    {
     "name": "stdout",
     "output_type": "stream",
     "text": [
      "박영희 40 None\n"
     ]
    }
   ],
   "source": [
    "print(p3.name, p3.age, p3.address)"
   ]
  },
  {
   "cell_type": "code",
   "execution_count": 21,
   "metadata": {},
   "outputs": [],
   "source": [
    "# 클래스이름(): __init__() 를 호출\n",
    "p1 = Person(\"이순신\", 30, \"서울시\")"
   ]
  },
  {
   "cell_type": "code",
   "execution_count": 7,
   "metadata": {},
   "outputs": [
    {
     "name": "stdout",
     "output_type": "stream",
     "text": [
      "이순신 30 서울시\n"
     ]
    }
   ],
   "source": [
    "print(p1.name, p1.age, p1.address)"
   ]
  },
  {
   "cell_type": "code",
   "execution_count": 8,
   "metadata": {},
   "outputs": [],
   "source": [
    "p2 = Person(\"홍길동\",10, \"인천시\")"
   ]
  },
  {
   "cell_type": "code",
   "execution_count": 9,
   "metadata": {},
   "outputs": [
    {
     "name": "stdout",
     "output_type": "stream",
     "text": [
      "홍길동 10 인천시\n"
     ]
    }
   ],
   "source": [
    "print(p2.name, p2.age, p2.address)"
   ]
  },
  {
   "cell_type": "code",
   "execution_count": 10,
   "metadata": {},
   "outputs": [
    {
     "name": "stdout",
     "output_type": "stream",
     "text": [
      "이순신 30 서울시\n"
     ]
    }
   ],
   "source": [
    "print(p1.name, p1.age, p1.address)"
   ]
  },
  {
   "cell_type": "code",
   "execution_count": 11,
   "metadata": {},
   "outputs": [],
   "source": [
    "p1.age = 100 #변경(재할당)"
   ]
  },
  {
   "cell_type": "code",
   "execution_count": 13,
   "metadata": {},
   "outputs": [
    {
     "name": "stdout",
     "output_type": "stream",
     "text": [
      "100 10\n"
     ]
    }
   ],
   "source": [
    "print(p1.age, p2.age)"
   ]
  },
  {
   "cell_type": "code",
   "execution_count": 15,
   "metadata": {},
   "outputs": [],
   "source": [
    "p1_1 = {\n",
    "    \"name\":'홍길동',\n",
    "    \"age\":30,\n",
    "    \"address\":\"부산시\",\n",
    "    \"item_name\":\"티비\"\n",
    "}"
   ]
  },
  {
   "cell_type": "code",
   "execution_count": 16,
   "metadata": {},
   "outputs": [
    {
     "data": {
      "text/plain": [
       "('홍길동', 30, '부산시')"
      ]
     },
     "execution_count": 16,
     "metadata": {},
     "output_type": "execute_result"
    }
   ],
   "source": [
    "p1_1['name'], p1_1['age'], p1_1['address']"
   ]
  },
  {
   "cell_type": "markdown",
   "metadata": {},
   "source": [
    "## instance 메소드 (method)\n",
    "- 객체의 기능(객체가 제공하는 기능)\n",
    "- 주로 instance변수(Attribute)의 값을 처리하는 역할.\n",
    "- 구문 (함수구문과 **거의** 동일)\n",
    "```python\n",
    "def 이름(self [, 매개변수, ...]):\n",
    "    # 구현부\n",
    "    # self를 이용해서 객체의 속성이나 메소드 호출.\n",
    "```\n",
    "- 메소드이름 관례는 함수/변수와 동일. \n",
    "    - snake 표기법: 다 소문자로 주고 단어와 단어는 `_`로 연결.\n",
    "- self매개변수: 메소드가 호출된 객체(instance)를 가리킨다.\n",
    "- 메소드 호출\n",
    "    - 객체.메소드이름(argument1 [argument2,..])\n",
    "    - argument1 -> 두번째매개변수, argument2 -> 세번째매개변수\n"
   ]
  },
  {
   "cell_type": "code",
   "execution_count": null,
   "metadata": {},
   "outputs": [],
   "source": [
    "# my_name = \"\"\n",
    "# myName = \n",
    "\n",
    "# def say_hello()\n",
    "# def sayHello() #카멜표기법\n",
    "\n",
    "# def get_name()\n",
    "# def getName()"
   ]
  },
  {
   "cell_type": "code",
   "execution_count": 41,
   "metadata": {},
   "outputs": [],
   "source": [
    "class Person2:\n",
    "    \"\"\"\n",
    "    클래스에 대한 설명 docstring\n",
    "    \"\"\"\n",
    "    # 생성자\n",
    "    def __init__(self, name, age, address=None):\n",
    "        self.name = name\n",
    "        self.age = age\n",
    "        self.address = address\n",
    "    \n",
    "    # 모든 instance 변수의 값을 출력하는 메소드\n",
    "    def print_info(self):\n",
    "        \"\"\"\n",
    "        모든 instance 변수의 값을 출력하는 메소드\n",
    "        \"\"\"\n",
    "        print(f\"이름: {self.name}, 나이: {self.age}, 주소: {self.address}\")\n",
    "        \n",
    "    # 모든 instance변수의 값들을 한번에 변경하는 메소드\n",
    "    def set_info(self, name, age, address):\n",
    "        \"\"\"\n",
    "        모든 instance변수의 값들을 한번에 변경하는 메소드\n",
    "        [매개변수]\n",
    "            ....\n",
    "        \"\"\"\n",
    "        self.name = name\n",
    "        self.age = age\n",
    "        self.address = address\n",
    "        \n",
    "    # 나이에 매개변수로 받은 값을 더한 값으로 변경하는 메소드\n",
    "    def add_age(self, add_age=0):\n",
    "        \"\"\"\n",
    "        나이에 매개변수로 받은 값을 더한 값으로 변경하는 메소드\n",
    "        [매개변수]\n",
    "            add_age: int - 더할 나이\n",
    "        \"\"\"\n",
    "        self.age = self.age + add_age\n",
    "#         self.age += add_age"
   ]
  },
  {
   "cell_type": "code",
   "execution_count": null,
   "metadata": {},
   "outputs": [],
   "source": [
    "p1 = Person2(\"김영수\", 45, \"부산시\")\n",
    "p2 = Person2(\"박영희\", 30, \"서울시\")"
   ]
  },
  {
   "cell_type": "code",
   "execution_count": null,
   "metadata": {},
   "outputs": [],
   "source": []
  },
  {
   "cell_type": "code",
   "execution_count": 43,
   "metadata": {},
   "outputs": [],
   "source": [
    "?Person2"
   ]
  },
  {
   "cell_type": "code",
   "execution_count": 44,
   "metadata": {},
   "outputs": [],
   "source": [
    "p1 = Person2(\"김영수\", 45, \"부산시\")"
   ]
  },
  {
   "cell_type": "code",
   "execution_count": 45,
   "metadata": {},
   "outputs": [],
   "source": [
    "?p1.print_info"
   ]
  },
  {
   "cell_type": "code",
   "execution_count": 31,
   "metadata": {},
   "outputs": [
    {
     "name": "stdout",
     "output_type": "stream",
     "text": [
      "이름: 김영수, 나이: 45, 주소: 부산시\n"
     ]
    }
   ],
   "source": [
    "p1.print_info()"
   ]
  },
  {
   "cell_type": "code",
   "execution_count": 32,
   "metadata": {},
   "outputs": [],
   "source": [
    "p1.set_info(\"박영수\", 30, \"인천시\")"
   ]
  },
  {
   "cell_type": "code",
   "execution_count": 33,
   "metadata": {},
   "outputs": [
    {
     "name": "stdout",
     "output_type": "stream",
     "text": [
      "이름: 박영수, 나이: 30, 주소: 인천시\n"
     ]
    }
   ],
   "source": [
    "p1.print_info()"
   ]
  },
  {
   "cell_type": "code",
   "execution_count": 36,
   "metadata": {},
   "outputs": [],
   "source": [
    "p1.add_age(3)"
   ]
  },
  {
   "cell_type": "code",
   "execution_count": 37,
   "metadata": {},
   "outputs": [
    {
     "name": "stdout",
     "output_type": "stream",
     "text": [
      "이름: 박영수, 나이: 36, 주소: 인천시\n"
     ]
    }
   ],
   "source": [
    "p1.print_info()"
   ]
  },
  {
   "cell_type": "code",
   "execution_count": 39,
   "metadata": {},
   "outputs": [
    {
     "name": "stdout",
     "output_type": "stream",
     "text": [
      "박영수 36\n"
     ]
    }
   ],
   "source": [
    "print(p1.name, p1.age)"
   ]
  },
  {
   "cell_type": "code",
   "execution_count": 47,
   "metadata": {},
   "outputs": [
    {
     "name": "stdout",
     "output_type": "stream",
     "text": [
      "이름: 없는 이름, 나이: -100, 주소: 부산시\n"
     ]
    }
   ],
   "source": [
    "p1.name = \"없는 이름\"\n",
    "p1.age = -100\n",
    "p1.print_info()"
   ]
  },
  {
   "cell_type": "markdown",
   "metadata": {},
   "source": [
    "## 정보 은닉 (Information Hiding)\n",
    "- instance 변수(Attribute)의 값을 외부에서 직접 접근(호출-변경/조회)하지 못하도록 막는다.\n",
    "- 목적: 마음대로 값을 변경하지 못하도록 한다.\n",
    "- instance변수의 값을 변경(setter)/조회(getter)할 수 있는 메소드를 제공한다.\n",
    "    - setter: instance변수의 값을 변경하는 메소드. 관례상 set으로 시작\n",
    "    - getter: instance변수의 값을 조회(반환)하는 메소드. 관례상 get으로 시작.\n",
    "- 구현\n",
    "    - instance변수의 이름을 `__` 로 시작. ex) `self.__name`, `self.__age`\n",
    "    - getter/setter 메소드를 제공. ex) set_name(), get_age()"
   ]
  },
  {
   "cell_type": "code",
   "execution_count": 1,
   "metadata": {},
   "outputs": [],
   "source": [
    "class MyDate:\n",
    "    \"\"\"\n",
    "    instance 변수로 년, 월, 일 (날짜)을 관리하는 클래스\n",
    "    \"\"\"\n",
    "    def __init__(self, year, month, day):\n",
    "        self.__year = year\n",
    "        self.__month = month\n",
    "#         self.set_month(month)\n",
    "        self.__day = day\n",
    "    \n",
    "    def set_month(self, month):\n",
    "        \"\"\"\n",
    "        월을 변경하는 메소드\n",
    "        [매개변수]\n",
    "            month: int - 월 (범위: 1 ~ 12)\n",
    "        \"\"\"\n",
    "        if month>=1 and month <= 12: # and type(month)==int:\n",
    "            self.__month = month  #__변수: 같은 클래스 안에서는 호출 가능.\n",
    "        else:\n",
    "#             self.__month = None\n",
    "            print(f\"{month}는 잘못된 월입니다. 1 ~ 12까지만 가능합니다.\")\n",
    "    \n",
    "    def get_month(self):\n",
    "        \"\"\"\n",
    "        instance변수 월을 반환하는 메소드\n",
    "        [반환값]\n",
    "            int: 월\n",
    "        \"\"\"\n",
    "        return self.__month"
   ]
  },
  {
   "cell_type": "code",
   "execution_count": 2,
   "metadata": {},
   "outputs": [],
   "source": [
    "date = MyDate(2021, 1, 13)"
   ]
  },
  {
   "cell_type": "code",
   "execution_count": 4,
   "metadata": {},
   "outputs": [],
   "source": [
    "# print(date.__month)"
   ]
  },
  {
   "cell_type": "code",
   "execution_count": 114,
   "metadata": {},
   "outputs": [
    {
     "name": "stdout",
     "output_type": "stream",
     "text": [
      "1\n"
     ]
    }
   ],
   "source": [
    "print(date.get_month())"
   ]
  },
  {
   "cell_type": "code",
   "execution_count": 115,
   "metadata": {},
   "outputs": [],
   "source": [
    "date.set_month(5)"
   ]
  },
  {
   "cell_type": "code",
   "execution_count": 116,
   "metadata": {},
   "outputs": [
    {
     "name": "stdout",
     "output_type": "stream",
     "text": [
      "5\n"
     ]
    }
   ],
   "source": [
    "print(date.get_month())"
   ]
  },
  {
   "cell_type": "code",
   "execution_count": 117,
   "metadata": {},
   "outputs": [
    {
     "name": "stdout",
     "output_type": "stream",
     "text": [
      "1000는 잘못된 월입니다. 1 ~ 12까지만 가능합니다.\n"
     ]
    }
   ],
   "source": [
    "date.set_month(1000)"
   ]
  },
  {
   "cell_type": "code",
   "execution_count": 118,
   "metadata": {},
   "outputs": [
    {
     "name": "stdout",
     "output_type": "stream",
     "text": [
      "5\n"
     ]
    }
   ],
   "source": [
    "print(date.get_month())"
   ]
  },
  {
   "cell_type": "code",
   "execution_count": 119,
   "metadata": {},
   "outputs": [
    {
     "ename": "AttributeError",
     "evalue": "'MyDate' object has no attribute '__month'",
     "output_type": "error",
     "traceback": [
      "\u001b[1;31m---------------------------------------------------------------------------\u001b[0m",
      "\u001b[1;31mAttributeError\u001b[0m                            Traceback (most recent call last)",
      "\u001b[1;32m<ipython-input-119-744d4696e837>\u001b[0m in \u001b[0;36m<module>\u001b[1;34m\u001b[0m\n\u001b[1;32m----> 1\u001b[1;33m \u001b[0mdate\u001b[0m\u001b[1;33m.\u001b[0m\u001b[0m__month\u001b[0m\u001b[1;33m\u001b[0m\u001b[1;33m\u001b[0m\u001b[0m\n\u001b[0m",
      "\u001b[1;31mAttributeError\u001b[0m: 'MyDate' object has no attribute '__month'"
     ]
    }
   ],
   "source": [
    "date.__month"
   ]
  },
  {
   "cell_type": "code",
   "execution_count": 120,
   "metadata": {},
   "outputs": [
    {
     "data": {
      "text/plain": [
       "{'_MyDate__year': 2021, '_MyDate__month': 5, '_MyDate__day': 13}"
      ]
     },
     "execution_count": 120,
     "metadata": {},
     "output_type": "execute_result"
    }
   ],
   "source": [
    "# 객체.__dict__ #객체의 instance변수들을 확인\n",
    "date.__dict__"
   ]
  },
  {
   "cell_type": "code",
   "execution_count": null,
   "metadata": {},
   "outputs": [],
   "source": [
    "__year => _MyDate__year\n",
    "_클래스이름__변수이름"
   ]
  },
  {
   "cell_type": "code",
   "execution_count": 122,
   "metadata": {},
   "outputs": [
    {
     "data": {
      "text/plain": [
       "2021"
      ]
     },
     "execution_count": 122,
     "metadata": {},
     "output_type": "execute_result"
    }
   ],
   "source": [
    "date._MyDate__year"
   ]
  },
  {
   "cell_type": "code",
   "execution_count": 124,
   "metadata": {},
   "outputs": [],
   "source": [
    "date._MyDate__month = 10000"
   ]
  },
  {
   "cell_type": "code",
   "execution_count": 125,
   "metadata": {},
   "outputs": [
    {
     "data": {
      "text/plain": [
       "10000"
      ]
     },
     "execution_count": 125,
     "metadata": {},
     "output_type": "execute_result"
    }
   ],
   "source": [
    "date.get_month()"
   ]
  },
  {
   "cell_type": "code",
   "execution_count": 126,
   "metadata": {},
   "outputs": [],
   "source": [
    "date.__month = 1000"
   ]
  },
  {
   "cell_type": "code",
   "execution_count": 127,
   "metadata": {},
   "outputs": [
    {
     "data": {
      "text/plain": [
       "{'_MyDate__year': 10000,\n",
       " '_MyDate__month': 10000,\n",
       " '_MyDate__day': 13,\n",
       " '__month': 1000}"
      ]
     },
     "execution_count": 127,
     "metadata": {},
     "output_type": "execute_result"
    }
   ],
   "source": [
    "date.__dict__"
   ]
  },
  {
   "cell_type": "code",
   "execution_count": 128,
   "metadata": {},
   "outputs": [
    {
     "name": "stdout",
     "output_type": "stream",
     "text": [
      "1000\n"
     ]
    }
   ],
   "source": [
    "print(date.__month)"
   ]
  },
  {
   "cell_type": "code",
   "execution_count": 149,
   "metadata": {},
   "outputs": [],
   "source": [
    "class MyDate2:\n",
    "    \n",
    "    def __init__(self, year, month, day):\n",
    "        self.__year = year\n",
    "        self.__month = month\n",
    "        self.__day = day\n",
    "        \n",
    "    def set_year(self, year):\n",
    "        print(\">>> set_year\")\n",
    "        self.__year = year\n",
    "        \n",
    "    def get_year(self):\n",
    "        print(\">>> get_year\")\n",
    "        return self.__year\n",
    "    \n",
    "    def set_month(self, month):\n",
    "        print(\">>> set_month\")\n",
    "        self.__month = month\n",
    "        \n",
    "    def get_month(self):\n",
    "        print(\">>> get_month\")\n",
    "        return self.__month\n",
    "    \n",
    "    def set_day(self, day):\n",
    "        print(\">>> set_day\")\n",
    "        self.__day = day\n",
    "        \n",
    "    def get_day(self):\n",
    "        print(\">>> get_day\")\n",
    "        return self.__day\n",
    "    \n",
    "    # 변수명 = property(getter, setter)\n",
    "    # 외부에서 변수명으로 조회하면 getter 메소드를 변수에 값을 대입하면 setter메소드를 호출해 준다.\n",
    "    year = property(get_year, set_year) # 변수 year의 값을 조회하면 get_year(), 변수 year에 값을 대입하면 set_year(대입된값)를 호출\n",
    "    \n",
    "    month = property(get_month, set_month)\n",
    "    day = property(get_day, set_day)"
   ]
  },
  {
   "cell_type": "code",
   "execution_count": 150,
   "metadata": {},
   "outputs": [],
   "source": [
    "today = MyDate2(2013, 1, 13)"
   ]
  },
  {
   "cell_type": "code",
   "execution_count": null,
   "metadata": {},
   "outputs": [],
   "source": [
    "today.month = 10 #변경 -> set_month\n",
    "print(today.month) #조회 -> get_month"
   ]
  },
  {
   "cell_type": "code",
   "execution_count": null,
   "metadata": {},
   "outputs": [],
   "source": [
    "today.set_year(2000)\n",
    "->\n",
    "today.year = 2000\n",
    "a = today.get_year()\n",
    "a = today.year"
   ]
  },
  {
   "cell_type": "code",
   "execution_count": null,
   "metadata": {},
   "outputs": [],
   "source": []
  },
  {
   "cell_type": "code",
   "execution_count": 151,
   "metadata": {},
   "outputs": [
    {
     "name": "stdout",
     "output_type": "stream",
     "text": [
      ">>> get_year\n",
      "2013\n"
     ]
    }
   ],
   "source": [
    "print(today.year) #조회"
   ]
  },
  {
   "cell_type": "code",
   "execution_count": 152,
   "metadata": {},
   "outputs": [
    {
     "name": "stdout",
     "output_type": "stream",
     "text": [
      ">>> set_year\n"
     ]
    }
   ],
   "source": [
    "today.year = 2030"
   ]
  },
  {
   "cell_type": "code",
   "execution_count": 153,
   "metadata": {},
   "outputs": [
    {
     "name": "stdout",
     "output_type": "stream",
     "text": [
      ">>> get_year\n",
      "2030\n"
     ]
    }
   ],
   "source": [
    "print(today.year)"
   ]
  },
  {
   "cell_type": "code",
   "execution_count": 154,
   "metadata": {},
   "outputs": [
    {
     "name": "stdout",
     "output_type": "stream",
     "text": [
      ">>> get_year\n"
     ]
    },
    {
     "data": {
      "text/plain": [
       "2030"
      ]
     },
     "execution_count": 154,
     "metadata": {},
     "output_type": "execute_result"
    }
   ],
   "source": [
    "today.get_year()"
   ]
  },
  {
   "cell_type": "code",
   "execution_count": 148,
   "metadata": {},
   "outputs": [
    {
     "name": "stdout",
     "output_type": "stream",
     "text": [
      ">>> set_year\n"
     ]
    }
   ],
   "source": [
    "today.set_year(2000)"
   ]
  },
  {
   "cell_type": "code",
   "execution_count": 155,
   "metadata": {},
   "outputs": [
    {
     "name": "stdout",
     "output_type": "stream",
     "text": [
      ">>> set_month\n",
      ">>> set_day\n"
     ]
    }
   ],
   "source": [
    "today.month = 10\n",
    "today.day = 30"
   ]
  },
  {
   "cell_type": "code",
   "execution_count": 156,
   "metadata": {},
   "outputs": [
    {
     "name": "stdout",
     "output_type": "stream",
     "text": [
      ">>> get_month\n",
      "10\n",
      ">>> get_day\n",
      "30\n"
     ]
    }
   ],
   "source": [
    "print(today.month) #월 => 10\n",
    "print(today.day) #일   => 30"
   ]
  },
  {
   "cell_type": "code",
   "execution_count": null,
   "metadata": {},
   "outputs": [],
   "source": [
    "#month, day setter/getter || 변수=property()"
   ]
  },
  {
   "cell_type": "code",
   "execution_count": 157,
   "metadata": {},
   "outputs": [
    {
     "data": {
      "text/plain": [
       "{'_MyDate2__year': 2030, '_MyDate2__month': 10, '_MyDate2__day': 30}"
      ]
     },
     "execution_count": 157,
     "metadata": {},
     "output_type": "execute_result"
    }
   ],
   "source": [
    "today.__dict__"
   ]
  },
  {
   "cell_type": "code",
   "execution_count": null,
   "metadata": {},
   "outputs": [],
   "source": [
    "# setter/getter + property 변수 를 지정하는 것을 setter/getter 메소드에 직접 설정.\n",
    "# 데코레이터(Decorator-장식자) 이용\n",
    "# 1. getter/setter 메소드의 이름을 호출될때 사용할 변수명으로 지정.\n",
    "# 2. getter메소드에 @property 데코레이터를 추가.\n",
    "# 3. setter메소드에 @getter메소드이름.setter 데코레이터를 추가.\n",
    "# 메소드 정의 순서는 반드시 getter를 먼저 정의해야 한다.\n",
    "# getter/setter 메소드명은 동일"
   ]
  },
  {
   "cell_type": "code",
   "execution_count": 185,
   "metadata": {},
   "outputs": [],
   "source": [
    "# shift + tab <-> tab\n",
    "class MyDate3:\n",
    "    def __init__(self, year, month, day):\n",
    "        self.__year = year\n",
    "        self.__month = month\n",
    "        self.__day = day\n",
    "\n",
    "    # year의 값을 반환하는 메소드 (getter)\n",
    "    @property\n",
    "    def year(self):\n",
    "        return self.__year\n",
    "    \n",
    "    # year의 값을 변경하는 메소드(setter)\n",
    "    # @getter이름.setter\n",
    "    @year.setter  \n",
    "    def year(self, year):\n",
    "        self.__year = year\n",
    "    \n",
    "    @property\n",
    "    def month(self):\n",
    "        return self.__month\n",
    "    \n",
    "    @month.setter\n",
    "    def month(self, month):\n",
    "        self.__month = month\n",
    "    \n",
    "    \n",
    "    @property\n",
    "    def day(self):\n",
    "        return self.__day\n",
    "    \n",
    "    @day.setter\n",
    "    def day(self, day):\n",
    "        self.__day = day"
   ]
  },
  {
   "cell_type": "code",
   "execution_count": 186,
   "metadata": {},
   "outputs": [],
   "source": [
    "today = MyDate3(2021, 1, 13)"
   ]
  },
  {
   "cell_type": "code",
   "execution_count": 188,
   "metadata": {},
   "outputs": [],
   "source": [
    "# today.day(30)\n",
    "today.day = 30"
   ]
  },
  {
   "cell_type": "code",
   "execution_count": 182,
   "metadata": {},
   "outputs": [
    {
     "name": "stdout",
     "output_type": "stream",
     "text": [
      "30\n"
     ]
    }
   ],
   "source": [
    "print(today.day )"
   ]
  },
  {
   "cell_type": "code",
   "execution_count": 176,
   "metadata": {},
   "outputs": [],
   "source": [
    "today.month = 10"
   ]
  },
  {
   "cell_type": "code",
   "execution_count": 177,
   "metadata": {},
   "outputs": [
    {
     "name": "stdout",
     "output_type": "stream",
     "text": [
      "10\n"
     ]
    }
   ],
   "source": [
    "print(today.month)"
   ]
  },
  {
   "cell_type": "code",
   "execution_count": 165,
   "metadata": {},
   "outputs": [
    {
     "name": "stdout",
     "output_type": "stream",
     "text": [
      "2021\n"
     ]
    }
   ],
   "source": [
    "print(today.year)"
   ]
  },
  {
   "cell_type": "code",
   "execution_count": 166,
   "metadata": {},
   "outputs": [],
   "source": [
    "today.year = 2010"
   ]
  },
  {
   "cell_type": "code",
   "execution_count": 167,
   "metadata": {},
   "outputs": [
    {
     "name": "stdout",
     "output_type": "stream",
     "text": [
      "2010\n"
     ]
    }
   ],
   "source": [
    "print(today.year)"
   ]
  },
  {
   "cell_type": "code",
   "execution_count": 168,
   "metadata": {},
   "outputs": [
    {
     "data": {
      "text/plain": [
       "{'_MyDate3__year': 2010, '_MyDate3__month': 1, '_MyDate3__day': 13}"
      ]
     },
     "execution_count": 168,
     "metadata": {},
     "output_type": "execute_result"
    }
   ],
   "source": [
    "today.__dict__"
   ]
  },
  {
   "cell_type": "markdown",
   "metadata": {},
   "source": [
    "## TODO\n",
    "- 제품 클래스 구현\n",
    "- 속성 : 제품ID:str 제품이름: str, 제품가격:int, 제조사이름:str\n",
    "-       정보은닉에 맞춰서 작성. 값을 대입/조회 하는 것은 변수처리 방식을 할 수 있도록.\n",
    "- 메소드: 전체 정보를 출력하는 메소드\n",
    "\n",
    "메소드 : setter-4개, getter-4개. 전체정보 출력하는 메소드-1개"
   ]
  },
  {
   "cell_type": "code",
   "execution_count": 5,
   "metadata": {},
   "outputs": [],
   "source": [
    "class Item:\n",
    "    \n",
    "    def __init__(self, id, name, price, maker):\n",
    "        self.__id = id\n",
    "        self.__name = name\n",
    "        self.__price = price\n",
    "        self.__maker = maker\n",
    "        \n",
    "    def print_info(self):\n",
    "        print(f\"제품ID: {self.__id}, 제품명: {self.__name}, 가격: {self.__price}, 제조사: {self.__maker}\") #instance 변수를 직접\n",
    "#         print(f'제품 ID: {self.id}, 제품명: {self.name}, 가격: {self.price}, 제조사: {self.maker}') # getter 메소드 호출\n",
    "\n",
    "    #setter/getter\n",
    "    @property\n",
    "    def id(self):\n",
    "        return self.__id\n",
    "    @id.setter\n",
    "    def id(self, id): #id는 5글자여야 한다.\n",
    "        if len(id) == 5:\n",
    "            self.__id = id\n",
    "        \n",
    "    @property\n",
    "    def name(self):\n",
    "        return self.__name\n",
    "    @name.setter\n",
    "    def name(self, name):\n",
    "        self.__name = name\n",
    "        \n",
    "    @property\n",
    "    def price(self):\n",
    "        return self.__price\n",
    "    @price.setter\n",
    "    def price(self, price):\n",
    "        if price >= 0:\n",
    "            self.__price = price\n",
    "        else:\n",
    "            print(\"잘못된 가격\")\n",
    "        \n",
    "    @property\n",
    "    def maker(self):\n",
    "        return self.__maker\n",
    "    @maker.setter\n",
    "    def maker(self, maker):\n",
    "        self.__maker = maker\n",
    "    "
   ]
  },
  {
   "cell_type": "code",
   "execution_count": 7,
   "metadata": {},
   "outputs": [
    {
     "name": "stdout",
     "output_type": "stream",
     "text": [
      "제품ID: id-1, 제품명: 노트북, 가격: 300000, 제조사: 삼성\n"
     ]
    }
   ],
   "source": [
    "item = Item(\"id-1\", \"노트북\", 300000, \"삼성\")\n",
    "# item.__dict__\n",
    "item.print_info()"
   ]
  },
  {
   "cell_type": "code",
   "execution_count": 207,
   "metadata": {},
   "outputs": [],
   "source": [
    "item.price = -200\n",
    "price = input()\n",
    "item.price = price"
   ]
  },
  {
   "cell_type": "code",
   "execution_count": 208,
   "metadata": {},
   "outputs": [
    {
     "name": "stdout",
     "output_type": "stream",
     "text": [
      "제품ID: id-1, 제품명: 노트북, 가격: 2000, 제조사: 삼성\n"
     ]
    }
   ],
   "source": [
    "item.print_info()"
   ]
  },
  {
   "cell_type": "code",
   "execution_count": 198,
   "metadata": {},
   "outputs": [
    {
     "name": "stdout",
     "output_type": "stream",
     "text": [
      "id-100\n"
     ]
    }
   ],
   "source": [
    "# # id를 변경\n",
    "item.id = 'id-100'\n",
    "# # id를 조회\n",
    "print(item.id)"
   ]
  },
  {
   "cell_type": "code",
   "execution_count": 199,
   "metadata": {},
   "outputs": [
    {
     "name": "stdout",
     "output_type": "stream",
     "text": [
      "데스크탑\n"
     ]
    }
   ],
   "source": [
    "item.name = \"데스크탑\"\n",
    "print(item.name)"
   ]
  },
  {
   "cell_type": "code",
   "execution_count": 200,
   "metadata": {},
   "outputs": [
    {
     "name": "stdout",
     "output_type": "stream",
     "text": [
      "150000\n"
     ]
    }
   ],
   "source": [
    "item.price = 150000\n",
    "print(item.price)"
   ]
  },
  {
   "cell_type": "code",
   "execution_count": 201,
   "metadata": {},
   "outputs": [
    {
     "name": "stdout",
     "output_type": "stream",
     "text": [
      "LG\n"
     ]
    }
   ],
   "source": [
    "item.maker = \"LG\"\n",
    "print(item.maker)"
   ]
  },
  {
   "cell_type": "code",
   "execution_count": 202,
   "metadata": {},
   "outputs": [
    {
     "name": "stdout",
     "output_type": "stream",
     "text": [
      "제품ID: id-100, 제품명: 데스크탑, 가격: 150000, 제조사: LG\n"
     ]
    }
   ],
   "source": [
    "item.print_info() "
   ]
  },
  {
   "cell_type": "markdown",
   "metadata": {},
   "source": [
    "## 상속\n",
    "- 기존 클래스를 확장해서 새로운 클래스를 구현하는 방식."
   ]
  },
  {
   "cell_type": "code",
   "execution_count": 32,
   "metadata": {},
   "outputs": [],
   "source": [
    "class Person:\n",
    "   \n",
    "    def eat(self):\n",
    "        print(\"사람이 먹는다.\") # 모든 하위클래스들에 적용될수있는 구현 -> 메소드의 구현이 추상적"
   ]
  },
  {
   "cell_type": "code",
   "execution_count": 33,
   "metadata": {},
   "outputs": [],
   "source": [
    "# eat(), study()\n",
    "# Person: 상위(Super) 클래스\n",
    "# Student: 하위(Sub) 클래스\n",
    "class Student(Person):\n",
    "    \n",
    "    def study(self):\n",
    "        print(\"학생이 공부한다.\")"
   ]
  },
  {
   "cell_type": "code",
   "execution_count": 34,
   "metadata": {},
   "outputs": [],
   "source": [
    "class Teacher(Person):\n",
    "    \n",
    "    def teach(self):\n",
    "        print(\"선생이 가르친다.\")"
   ]
  },
  {
   "cell_type": "code",
   "execution_count": 35,
   "metadata": {},
   "outputs": [
    {
     "name": "stdout",
     "output_type": "stream",
     "text": [
      "학생이 공부한다.\n",
      "사람이 먹는다.\n"
     ]
    }
   ],
   "source": [
    "s = Student()\n",
    "s.study()\n",
    "s.eat()"
   ]
  },
  {
   "cell_type": "code",
   "execution_count": 36,
   "metadata": {},
   "outputs": [
    {
     "name": "stdout",
     "output_type": "stream",
     "text": [
      "선생이 가르친다.\n",
      "사람이 먹는다.\n"
     ]
    }
   ],
   "source": [
    "t = Teacher()\n",
    "t.teach()\n",
    "t.eat()"
   ]
  },
  {
   "cell_type": "code",
   "execution_count": 26,
   "metadata": {},
   "outputs": [],
   "source": [
    "# t.study()"
   ]
  },
  {
   "cell_type": "code",
   "execution_count": 37,
   "metadata": {},
   "outputs": [],
   "source": [
    "# 상속받은 메소드를 하위클래스에서 재정의할 수 있다. - 메소드 오버라이딩(Method Overriding)\n",
    "# 상위클래스에 정의된 메소드는 추상적이므로 하위클래스에서 그 클래스가 해야 하는 동작에 맞게 구현을 재정의 하는 것.\n",
    "class Student2(Person):\n",
    "    def eat(self):\n",
    "        print(\"학생이 먹는다.\")\n",
    "        \n",
    "    def study(self):\n",
    "        print(\"학생이 공부한다.\")"
   ]
  },
  {
   "cell_type": "code",
   "execution_count": 38,
   "metadata": {},
   "outputs": [
    {
     "name": "stdout",
     "output_type": "stream",
     "text": [
      "학생이 먹는다.\n"
     ]
    }
   ],
   "source": [
    "s2 = Student2()\n",
    "s2.eat()\n",
    "# s2.study()"
   ]
  },
  {
   "cell_type": "code",
   "execution_count": 45,
   "metadata": {},
   "outputs": [],
   "source": [
    "class Person:\n",
    "    \n",
    "    def __init__(self, name, age):\n",
    "        self.name = name\n",
    "        self.age = age\n",
    "    \n",
    "    def eat(self):\n",
    "        print(f\"{self.name}님이 먹는다.\")\n",
    "        \n",
    "    # 사람의 모든 instance변수들의 값들(전체정보)을 묶어서 반환\n",
    "    def get_info(self):\n",
    "        return f\"이름:{self.name}, 나이:{self.age}세\""
   ]
  },
  {
   "cell_type": "code",
   "execution_count": 86,
   "metadata": {},
   "outputs": [],
   "source": [
    "class Student(Person):\n",
    "    \n",
    "    def __init__(self, name, age, school_name):\n",
    "        # 상위클래스(Person)의 객체에 name과 age는 전달.     \n",
    "        super().__init__(name, age)\n",
    "        self.school_name = school_name #Student의 속성\n",
    "    \n",
    "    def study(self):\n",
    "        print(f\"학생 {self.name}이 공부한다.\")\n",
    "    \n",
    "    def get_info(self):\n",
    "        \n",
    "        print(super().get_info())\n",
    "        info = super().get_info()+\", 학교명: {}\".format(self.school_name)\n",
    "        return info\n",
    "        return f\"이름:{self.name}, 나이:{self.age}세, 학교명: {self.school_name}\""
   ]
  },
  {
   "cell_type": "code",
   "execution_count": 87,
   "metadata": {},
   "outputs": [],
   "source": [
    "s = Student(\"박영철\", 15, \"A중학교\")"
   ]
  },
  {
   "cell_type": "code",
   "execution_count": 88,
   "metadata": {},
   "outputs": [
    {
     "name": "stdout",
     "output_type": "stream",
     "text": [
      "A중학교\n",
      "박영철 15\n"
     ]
    }
   ],
   "source": [
    "print(s.school_name)\n",
    "print(s.name, s.age)"
   ]
  },
  {
   "cell_type": "code",
   "execution_count": 89,
   "metadata": {},
   "outputs": [
    {
     "name": "stdout",
     "output_type": "stream",
     "text": [
      "학생 박영철이 공부한다.\n"
     ]
    }
   ],
   "source": [
    "s.study()"
   ]
  },
  {
   "cell_type": "code",
   "execution_count": 90,
   "metadata": {},
   "outputs": [
    {
     "name": "stdout",
     "output_type": "stream",
     "text": [
      "박영철님이 먹는다.\n"
     ]
    }
   ],
   "source": [
    "s.eat()"
   ]
  },
  {
   "cell_type": "code",
   "execution_count": 91,
   "metadata": {},
   "outputs": [
    {
     "name": "stdout",
     "output_type": "stream",
     "text": [
      "이름:박영철, 나이:15세\n"
     ]
    }
   ],
   "source": [
    "info = s.get_info()\n",
    "print(info)"
   ]
  },
  {
   "cell_type": "code",
   "execution_count": null,
   "metadata": {},
   "outputs": [],
   "source": [
    "s2 = Student(\"박학생\", 13, \"B중학교\")"
   ]
  },
  {
   "cell_type": "markdown",
   "metadata": {},
   "source": [
    "클래스이름() - Student('aa',20,'aaa') : 객체생성\n",
    "1. 객체를 만든다.\n",
    "    - 상속: 상위/하위클래스의 객체를 모두 생성 - 상속으로 묶인다.\n",
    "2. 생성자 호출(`__init__`)\n",
    "    - 상속: `super().__init__()`을 이용해 하위클래스의 생성자에서 상위클래스의 생성자를 호출할 수 있다."
   ]
  },
  {
   "cell_type": "markdown",
   "metadata": {},
   "source": [
    "### 다중상속\n",
    "- 여러클래스를 상속받는것.\n",
    "- MRO (Method Resolution Order): 호출된 메소드를 찾는 순서\n",
    "    1. 자기자신\n",
    "    2. 상위클래스: 상속시 먼저 선언된 클래스 순서로 메소드를 찾는다. (왼쪽 -> 오른쪽)\n",
    "    "
   ]
  },
  {
   "cell_type": "code",
   "execution_count": 131,
   "metadata": {},
   "outputs": [],
   "source": [
    "class Printer:\n",
    "    def print(self):\n",
    "        print(\"프린트 한다\")\n",
    "    \n",
    "    def test(self):\n",
    "        print(\"프린트기능 테스트\")\n",
    "        \n",
    "class Saver:\n",
    "    def save(self):\n",
    "        print(\"저장한다.\")        \n",
    "    \n",
    "    def test(self):\n",
    "        print(\"저장기능 테스트\")"
   ]
  },
  {
   "cell_type": "code",
   "execution_count": 132,
   "metadata": {},
   "outputs": [],
   "source": [
    "class WordProcessor(Printer, Saver):\n",
    "# class WordProcessor( Saver, Printer):\n",
    "    \n",
    "    def write(self):\n",
    "        print(\"글을 작성한다.\")\n",
    "        \n",
    "    def test(self):\n",
    "        print(\"워드를 테스트한다.\")"
   ]
  },
  {
   "cell_type": "code",
   "execution_count": 118,
   "metadata": {},
   "outputs": [
    {
     "name": "stdout",
     "output_type": "stream",
     "text": [
      "글을 작성한다.\n",
      "프린트 한다\n",
      "저장한다.\n"
     ]
    }
   ],
   "source": [
    "wp = WordProcessor()\n",
    "wp.write() # WordProcessor\n",
    "wp.print() # Printer\n",
    "wp.save()  # Saver"
   ]
  },
  {
   "cell_type": "code",
   "execution_count": 119,
   "metadata": {},
   "outputs": [
    {
     "name": "stdout",
     "output_type": "stream",
     "text": [
      "워드를 테스트한다.\n"
     ]
    }
   ],
   "source": [
    "wp.test()"
   ]
  },
  {
   "cell_type": "markdown",
   "metadata": {},
   "source": [
    "## 상속/객체관련 메소드,변수"
   ]
  },
  {
   "cell_type": "code",
   "execution_count": 125,
   "metadata": {},
   "outputs": [
    {
     "data": {
      "text/plain": [
       "(True, False)"
      ]
     },
     "execution_count": 125,
     "metadata": {},
     "output_type": "execute_result"
    }
   ],
   "source": [
    "# isinstance(객체, 클래스) - 객체가 클래스로부터 생성되었는지 여부\n",
    "isinstance(\"abc\", str), isinstance(\"abc\", int)   #str: 문자열 클래스"
   ]
  },
  {
   "cell_type": "code",
   "execution_count": 124,
   "metadata": {},
   "outputs": [
    {
     "data": {
      "text/plain": [
       "(True, False)"
      ]
     },
     "execution_count": 124,
     "metadata": {},
     "output_type": "execute_result"
    }
   ],
   "source": [
    "isinstance(30, int), isinstance(30, str)"
   ]
  },
  {
   "cell_type": "code",
   "execution_count": 121,
   "metadata": {},
   "outputs": [
    {
     "name": "stdout",
     "output_type": "stream",
     "text": [
      "<class 'str'>\n",
      "<class 'int'>\n"
     ]
    }
   ],
   "source": [
    "print(type(\"abc\"))\n",
    "print(type(20))"
   ]
  },
  {
   "cell_type": "code",
   "execution_count": 129,
   "metadata": {},
   "outputs": [],
   "source": [
    "def test(var): # 매개변수 var의 타입이 int이면\n",
    "#     if isinstance(var, int):\n",
    "    if type(var) == int:\n",
    "        print(var + 20)\n",
    "    else:\n",
    "        print(\"정수만 가능\")"
   ]
  },
  {
   "cell_type": "code",
   "execution_count": 130,
   "metadata": {},
   "outputs": [
    {
     "name": "stdout",
     "output_type": "stream",
     "text": [
      "30\n",
      "정수만 가능\n"
     ]
    }
   ],
   "source": [
    "test(10)\n",
    "test(\"abc\")"
   ]
  },
  {
   "cell_type": "code",
   "execution_count": 137,
   "metadata": {},
   "outputs": [
    {
     "data": {
      "text/plain": [
       "(True, False)"
      ]
     },
     "execution_count": 137,
     "metadata": {},
     "output_type": "execute_result"
    }
   ],
   "source": [
    "p = Student(\"a\",20,\"c\")\n",
    "isinstance(p, Student),   isinstance(p, WordProcessor)"
   ]
  },
  {
   "cell_type": "code",
   "execution_count": 133,
   "metadata": {},
   "outputs": [],
   "source": [
    "wp = WordProcessor()"
   ]
  },
  {
   "cell_type": "code",
   "execution_count": 134,
   "metadata": {},
   "outputs": [
    {
     "data": {
      "text/plain": [
       "True"
      ]
     },
     "execution_count": 134,
     "metadata": {},
     "output_type": "execute_result"
    }
   ],
   "source": [
    "isinstance(wp, WordProcessor)"
   ]
  },
  {
   "cell_type": "code",
   "execution_count": 140,
   "metadata": {},
   "outputs": [
    {
     "data": {
      "text/plain": [
       "(True, True, False)"
      ]
     },
     "execution_count": 140,
     "metadata": {},
     "output_type": "execute_result"
    }
   ],
   "source": [
    "isinstance(wp, Saver), isinstance(wp, Printer)"
   ]
  },
  {
   "cell_type": "code",
   "execution_count": 141,
   "metadata": {},
   "outputs": [],
   "source": [
    "# 객체.__dict__ : 객체의 속성정보를 dictionary로 반환 (key-속성명, value-속성값) => 객체=변환=>딕셔너리"
   ]
  },
  {
   "cell_type": "code",
   "execution_count": 142,
   "metadata": {},
   "outputs": [
    {
     "data": {
      "text/plain": [
       "{'name': 'a', 'age': 20, 'school_name': 'c'}"
      ]
     },
     "execution_count": 142,
     "metadata": {},
     "output_type": "execute_result"
    }
   ],
   "source": [
    "p.__dict__ # 상위객체/하위객체의 속성들을 모두 넣어서 변환."
   ]
  },
  {
   "cell_type": "code",
   "execution_count": 143,
   "metadata": {},
   "outputs": [
    {
     "data": {
      "text/plain": [
       "__main__.Student"
      ]
     },
     "execution_count": 143,
     "metadata": {},
     "output_type": "execute_result"
    }
   ],
   "source": [
    "p.__class__ # 클래스 이름. __main__.Student   모듈.클래스이름"
   ]
  },
  {
   "cell_type": "code",
   "execution_count": null,
   "metadata": {},
   "outputs": [],
   "source": []
  },
  {
   "cell_type": "code",
   "execution_count": 146,
   "metadata": {},
   "outputs": [
    {
     "name": "stdout",
     "output_type": "stream",
     "text": [
      "이름\n",
      "이름님이 먹는다.\n"
     ]
    },
    {
     "ename": "AttributeError",
     "evalue": "'NoneType' object has no attribute 'name'",
     "output_type": "error",
     "traceback": [
      "\u001b[1;31m---------------------------------------------------------------------------\u001b[0m",
      "\u001b[1;31mAttributeError\u001b[0m                            Traceback (most recent call last)",
      "\u001b[1;32m<ipython-input-146-79d6f9c0679f>\u001b[0m in \u001b[0;36m<module>\u001b[1;34m\u001b[0m\n\u001b[0;32m      3\u001b[0m \u001b[0mp\u001b[0m\u001b[1;33m.\u001b[0m\u001b[0meat\u001b[0m\u001b[1;33m(\u001b[0m\u001b[1;33m)\u001b[0m\u001b[1;33m\u001b[0m\u001b[1;33m\u001b[0m\u001b[0m\n\u001b[0;32m      4\u001b[0m \u001b[0mp\u001b[0m \u001b[1;33m=\u001b[0m \u001b[1;32mNone\u001b[0m\u001b[1;33m\u001b[0m\u001b[1;33m\u001b[0m\u001b[0m\n\u001b[1;32m----> 5\u001b[1;33m \u001b[0mp\u001b[0m\u001b[1;33m.\u001b[0m\u001b[0mname\u001b[0m\u001b[1;33m\u001b[0m\u001b[1;33m\u001b[0m\u001b[0m\n\u001b[0m",
      "\u001b[1;31mAttributeError\u001b[0m: 'NoneType' object has no attribute 'name'"
     ]
    }
   ],
   "source": [
    "p = Person(\"이름\", 20)\n",
    "print(p.name)\n",
    "p.eat()\n",
    "p = None\n",
    "p.name"
   ]
  },
  {
   "cell_type": "code",
   "execution_count": 218,
   "metadata": {},
   "outputs": [],
   "source": [
    "class Person:\n",
    "    \n",
    "    def __init__(self, name, age):\n",
    "        self.name = name\n",
    "        self.age = age\n",
    "        \n",
    "    def __str__(self): \n",
    "        \"\"\"\n",
    "        객체를 문자열로 변환하는 메소드 \n",
    "        내장함수 str(객체) 과 연동\n",
    "        [반환값]\n",
    "            str: 객체의 정보(데이터) -> instance 변수들.\n",
    "        \"\"\"\n",
    "        return f\"name: {self.name}, age: {self.age}\"\n",
    "    \n",
    "    def __repr__(self):\n",
    "        \"\"\"\n",
    "        객체를 표현하는 표현식을 문자열로 만들어 반환.\n",
    "        내장함수 repr(객체)와 연동\n",
    "        [반환값]\n",
    "            str: 객체 생성했던 코드를 문자열을 반환.\n",
    "        \"\"\"\n",
    "        return f'Person(\"{self.name}\", {self.age})'\n",
    "    \n",
    "    # 연산자 재정의\n",
    "    def __eq__(self, other):\n",
    "        \"\"\"\n",
    "        == 연산자를 재정의. 객체의 instance변수들의 값이 같으면 True가 나오도록 재정의\n",
    "        객체1 == 객체2. self: 객체1, other: 객체2\n",
    "        \"\"\"\n",
    "        result = False\n",
    "        if isinstance(other, Person):\n",
    "            if self.name==other.name and self.age==other.age:\n",
    "                result = True        \n",
    "        return result\n",
    "    \n",
    "    def __gt__(self, other):\n",
    "        \"\"\"\n",
    "        > 연산자를 재정의\n",
    "        객체1 > 객체2: self: 객체1, other: 객체2\n",
    "        \"\"\"\n",
    "        result = False\n",
    "        if isinstance(other, Person):\n",
    "            # 나이크기\n",
    "            if self.age > other.age:\n",
    "                result = True\n",
    "        return result\n",
    "    \n",
    "#     __lt__(self, other) : self < other\n",
    "#     __ge__(self, other) : self >= other\n",
    "#     __le__(self, other) : self <= other\n",
    "#     __ne__(self, other) : self != other\n",
    "\n",
    "    def __add__(self, other):\n",
    "        \"\"\"\n",
    "        + 연산을 재정의\n",
    "        객체1 + 객체1 \n",
    "        \"\"\"\n",
    "        # 정수를 받아서 나이와 더한 값을 반환\n",
    "        result = None\n",
    "        if isinstance(other, int):\n",
    "            result = self.age + other\n",
    "        elif isinstance(other, Person):\n",
    "            result = self.age + other.age\n",
    "        return result\n",
    "    \n",
    "#     __sub__(self, other): self - other\n",
    "#     __mul__(self, other): self * other\n",
    "#     __truediv__(self, other): self  / other\n",
    "#     __floordiv__(self, other): self // other 몫 나누기 연산\n",
    "#     __mod__(self, other) : self % other  (나머지 연산)"
   ]
  },
  {
   "cell_type": "code",
   "execution_count": 221,
   "metadata": {},
   "outputs": [],
   "source": [
    "p1 = Person(\"홍길동\", 20)\n",
    "p2 = Person(\"이순신\", 10)"
   ]
  },
  {
   "cell_type": "code",
   "execution_count": 222,
   "metadata": {},
   "outputs": [
    {
     "data": {
      "text/plain": [
       "50"
      ]
     },
     "execution_count": 222,
     "metadata": {},
     "output_type": "execute_result"
    }
   ],
   "source": [
    "p1 + 30"
   ]
  },
  {
   "cell_type": "code",
   "execution_count": 223,
   "metadata": {},
   "outputs": [
    {
     "data": {
      "text/plain": [
       "30"
      ]
     },
     "execution_count": 223,
     "metadata": {},
     "output_type": "execute_result"
    }
   ],
   "source": [
    "p1 + p2"
   ]
  },
  {
   "cell_type": "code",
   "execution_count": 214,
   "metadata": {},
   "outputs": [
    {
     "ename": "TypeError",
     "evalue": "unsupported operand type(s) for -: 'Person' and 'Person'",
     "output_type": "error",
     "traceback": [
      "\u001b[1;31m---------------------------------------------------------------------------\u001b[0m",
      "\u001b[1;31mTypeError\u001b[0m                                 Traceback (most recent call last)",
      "\u001b[1;32m<ipython-input-214-3f370ecc6a8e>\u001b[0m in \u001b[0;36m<module>\u001b[1;34m\u001b[0m\n\u001b[1;32m----> 1\u001b[1;33m \u001b[0mp1\u001b[0m \u001b[1;33m-\u001b[0m \u001b[0mp2\u001b[0m\u001b[1;33m\u001b[0m\u001b[1;33m\u001b[0m\u001b[0m\n\u001b[0m",
      "\u001b[1;31mTypeError\u001b[0m: unsupported operand type(s) for -: 'Person' and 'Person'"
     ]
    }
   ],
   "source": [
    "p1 - p2"
   ]
  },
  {
   "cell_type": "code",
   "execution_count": 210,
   "metadata": {},
   "outputs": [
    {
     "data": {
      "text/plain": [
       "False"
      ]
     },
     "execution_count": 210,
     "metadata": {},
     "output_type": "execute_result"
    }
   ],
   "source": [
    "p1 > p2"
   ]
  },
  {
   "cell_type": "code",
   "execution_count": 207,
   "metadata": {},
   "outputs": [
    {
     "data": {
      "text/plain": [
       "False"
      ]
     },
     "execution_count": 207,
     "metadata": {},
     "output_type": "execute_result"
    }
   ],
   "source": [
    "p1 > p2"
   ]
  },
  {
   "cell_type": "code",
   "execution_count": null,
   "metadata": {},
   "outputs": [],
   "source": [
    "p1 == p2"
   ]
  },
  {
   "cell_type": "code",
   "execution_count": 181,
   "metadata": {},
   "outputs": [],
   "source": [
    "p = Person(\"홍길동\", 20)\n",
    "p2 = Person(\"박영수\", 50)"
   ]
  },
  {
   "cell_type": "code",
   "execution_count": 183,
   "metadata": {},
   "outputs": [
    {
     "name": "stdout",
     "output_type": "stream",
     "text": [
      "Person(\"홍길동\", 20)\n"
     ]
    },
    {
     "data": {
      "text/plain": [
       "'Person(\"홍길동\", 20)'"
      ]
     },
     "execution_count": 183,
     "metadata": {},
     "output_type": "execute_result"
    }
   ],
   "source": [
    "r = repr(p) #p.__repr__\n",
    "print(r)"
   ]
  },
  {
   "cell_type": "code",
   "execution_count": 184,
   "metadata": {
    "collapsed": true
   },
   "outputs": [
    {
     "ename": "AttributeError",
     "evalue": "'str' object has no attribute 'name'",
     "output_type": "error",
     "traceback": [
      "\u001b[1;31m---------------------------------------------------------------------------\u001b[0m",
      "\u001b[1;31mAttributeError\u001b[0m                            Traceback (most recent call last)",
      "\u001b[1;32m<ipython-input-184-01d0c1e8c8d3>\u001b[0m in \u001b[0;36m<module>\u001b[1;34m\u001b[0m\n\u001b[1;32m----> 1\u001b[1;33m \u001b[0mr\u001b[0m\u001b[1;33m.\u001b[0m\u001b[0mname\u001b[0m\u001b[1;33m\u001b[0m\u001b[1;33m\u001b[0m\u001b[0m\n\u001b[0m",
      "\u001b[1;31mAttributeError\u001b[0m: 'str' object has no attribute 'name'"
     ]
    }
   ],
   "source": [
    "r.name"
   ]
  },
  {
   "cell_type": "code",
   "execution_count": 187,
   "metadata": {},
   "outputs": [
    {
     "data": {
      "text/plain": [
       "2"
      ]
     },
     "execution_count": 187,
     "metadata": {},
     "output_type": "execute_result"
    }
   ],
   "source": [
    "eval(\"1+1\")  # eval(\"파이썬 코드\") : 파이썬 코드로 실행"
   ]
  },
  {
   "cell_type": "code",
   "execution_count": 188,
   "metadata": {},
   "outputs": [
    {
     "data": {
      "text/plain": [
       "('홍길동', 20)"
      ]
     },
     "execution_count": 188,
     "metadata": {},
     "output_type": "execute_result"
    }
   ],
   "source": [
    "# 'Person(\"홍길동\", 20)' 문자열이 파이썬 코드로 실행 => Person객체 생성\n",
    "a = eval(r) #eval(문자열): 문자열을 코드로 평가해서 실행\n",
    "a.name, a.age"
   ]
  },
  {
   "cell_type": "code",
   "execution_count": null,
   "metadata": {},
   "outputs": [],
   "source": []
  },
  {
   "cell_type": "code",
   "execution_count": 176,
   "metadata": {},
   "outputs": [
    {
     "name": "stdout",
     "output_type": "stream",
     "text": [
      "Person(\"박영수\", 50)\n"
     ]
    }
   ],
   "source": [
    "print(repr(p2))"
   ]
  },
  {
   "cell_type": "code",
   "execution_count": 178,
   "metadata": {
    "scrolled": true
   },
   "outputs": [
    {
     "name": "stdout",
     "output_type": "stream",
     "text": [
      "안녕\n"
     ]
    }
   ],
   "source": [
    "print('안녕') #str(\"안녕\")"
   ]
  },
  {
   "cell_type": "code",
   "execution_count": 180,
   "metadata": {},
   "outputs": [
    {
     "data": {
      "text/plain": [
       "'안녕'"
      ]
     },
     "execution_count": 180,
     "metadata": {},
     "output_type": "execute_result"
    }
   ],
   "source": [
    "\"안녕\" # __repr__('안녕')"
   ]
  },
  {
   "cell_type": "code",
   "execution_count": 171,
   "metadata": {},
   "outputs": [
    {
     "name": "stdout",
     "output_type": "stream",
     "text": [
      ">>>>>>>>>>>\n",
      "name: 홍길동, age: 20\n"
     ]
    }
   ],
   "source": [
    "print(p)"
   ]
  },
  {
   "cell_type": "code",
   "execution_count": 167,
   "metadata": {},
   "outputs": [
    {
     "data": {
      "text/plain": [
       "('홍길동', 20)"
      ]
     },
     "execution_count": 167,
     "metadata": {},
     "output_type": "execute_result"
    }
   ],
   "source": [
    "p.name, p.age"
   ]
  },
  {
   "cell_type": "code",
   "execution_count": 160,
   "metadata": {},
   "outputs": [
    {
     "name": "stdout",
     "output_type": "stream",
     "text": [
      ">>>>>>>>>>>\n",
      "name: 홍길동, age: 20\n"
     ]
    }
   ],
   "source": [
    "s = str(p)  #Person객체를 문자열 => __str__()\n",
    "print(s)"
   ]
  },
  {
   "cell_type": "code",
   "execution_count": null,
   "metadata": {},
   "outputs": [],
   "source": [
    "str(True) \"True\"\n",
    "str(1.4)  \"1.4\""
   ]
  },
  {
   "cell_type": "code",
   "execution_count": 162,
   "metadata": {},
   "outputs": [
    {
     "name": "stdout",
     "output_type": "stream",
     "text": [
      ">>>>>>>>>>>\n",
      "name: 홍길동, age: 20\n"
     ]
    }
   ],
   "source": [
    "print(p)  #print()  함수가 내부에서 str() - 매개변수로 전달된 값을 문자열로 출력하는 함수"
   ]
  },
  {
   "cell_type": "code",
   "execution_count": 200,
   "metadata": {},
   "outputs": [],
   "source": [
    "p1 = Person(\"홍길동\", 20)\n",
    "p2 = Person(\"홍길동\", 20)\n",
    "p3 = p1"
   ]
  },
  {
   "cell_type": "code",
   "execution_count": 190,
   "metadata": {},
   "outputs": [
    {
     "data": {
      "text/plain": [
       "False"
      ]
     },
     "execution_count": 190,
     "metadata": {},
     "output_type": "execute_result"
    }
   ],
   "source": [
    "# 객체 == 객체 (둘이 동일한 객체인지?)\n",
    "p1 == p2\n"
   ]
  },
  {
   "cell_type": "code",
   "execution_count": 201,
   "metadata": {},
   "outputs": [
    {
     "data": {
      "text/plain": [
       "True"
      ]
     },
     "execution_count": 201,
     "metadata": {},
     "output_type": "execute_result"
    }
   ],
   "source": [
    "p1 == p2"
   ]
  },
  {
   "cell_type": "code",
   "execution_count": 192,
   "metadata": {},
   "outputs": [
    {
     "data": {
      "text/plain": [
       "True"
      ]
     },
     "execution_count": 192,
     "metadata": {},
     "output_type": "execute_result"
    }
   ],
   "source": [
    "p1 != p2"
   ]
  },
  {
   "cell_type": "code",
   "execution_count": 195,
   "metadata": {},
   "outputs": [
    {
     "data": {
      "text/plain": [
       "True"
      ]
     },
     "execution_count": 195,
     "metadata": {},
     "output_type": "execute_result"
    }
   ],
   "source": [
    "p1 == p3"
   ]
  },
  {
   "cell_type": "code",
   "execution_count": null,
   "metadata": {},
   "outputs": [],
   "source": []
  },
  {
   "cell_type": "code",
   "execution_count": null,
   "metadata": {},
   "outputs": [],
   "source": []
  },
  {
   "cell_type": "code",
   "execution_count": null,
   "metadata": {},
   "outputs": [],
   "source": []
  },
  {
   "cell_type": "code",
   "execution_count": null,
   "metadata": {},
   "outputs": [],
   "source": []
  },
  {
   "cell_type": "code",
   "execution_count": null,
   "metadata": {},
   "outputs": [],
   "source": []
  },
  {
   "cell_type": "code",
   "execution_count": null,
   "metadata": {},
   "outputs": [],
   "source": []
  },
  {
   "cell_type": "code",
   "execution_count": null,
   "metadata": {},
   "outputs": [],
   "source": []
  },
  {
   "cell_type": "code",
   "execution_count": null,
   "metadata": {},
   "outputs": [],
   "source": []
  },
  {
   "cell_type": "code",
   "execution_count": null,
   "metadata": {},
   "outputs": [],
   "source": []
  }
 ],
 "metadata": {
  "kernelspec": {
   "display_name": "Python 3",
   "language": "python",
   "name": "python3"
  },
  "language_info": {
   "codemirror_mode": {
    "name": "ipython",
    "version": 3
   },
   "file_extension": ".py",
   "mimetype": "text/x-python",
   "name": "python",
   "nbconvert_exporter": "python",
   "pygments_lexer": "ipython3",
   "version": "3.8.5"
  }
 },
 "nbformat": 4,
 "nbformat_minor": 4
}
