{
 "cells": [
  {
   "cell_type": "code",
   "execution_count": 1,
   "metadata": {},
   "outputs": [
    {
     "data": {
      "text/plain": [
       "15"
      ]
     },
     "execution_count": 1,
     "metadata": {},
     "output_type": "execute_result"
    }
   ],
   "source": [
    "10 + 5"
   ]
  },
  {
   "cell_type": "code",
   "execution_count": 4,
   "metadata": {},
   "outputs": [
    {
     "data": {
      "text/plain": [
       "(False, False)"
      ]
     },
     "execution_count": 4,
     "metadata": {},
     "output_type": "execute_result"
    }
   ],
   "source": [
    "bool([]), bool({}) # 자료구조: 원소가 0개이면 False 1개 이상이면 True"
   ]
  },
  {
   "cell_type": "code",
   "execution_count": 4,
   "metadata": {},
   "outputs": [
    {
     "name": "stdout",
     "output_type": "stream",
     "text": [
      "종료\n"
     ]
    }
   ],
   "source": [
    "num = 10  # 만약에 num이 0이면 \"0입니다.\"로 출력 아니면 아무것도 출력안함.\n",
    "if num==0:\n",
    "    print(\"0입니다.\")\n",
    "    print(\"영입니다.\")\n",
    "    print(\"없습니다.\")\n",
    "\n",
    "print(\"종료\")"
   ]
  },
  {
   "cell_type": "code",
   "execution_count": 17,
   "metadata": {},
   "outputs": [
    {
     "name": "stdout",
     "output_type": "stream",
     "text": [
      "종료\n"
     ]
    }
   ],
   "source": [
    "num = 10\n",
    "# if 조건: -조건:bool타입이 들어와야 하는 곳. 다른 타입의 값이 들어오면 bool(논리형)으로 알아서 변환됨.\n",
    "if not num:\n",
    "    print(\"0입니다.\")\n",
    "    print(\"영입니다.\")\n",
    "    print(\"없습니다.\")\n",
    "\n",
    "print(\"종료\")"
   ]
  },
  {
   "cell_type": "code",
   "execution_count": 21,
   "metadata": {},
   "outputs": [
    {
     "name": "stdout",
     "output_type": "stream",
     "text": [
      "0입니다.\n",
      "영입니다.\n",
      "종료\n"
     ]
    }
   ],
   "source": [
    "num = 0 \n",
    "# 만약에 num이 0이면 \"0입니다.\"를 출력하고 아니면 \"0이 아닙니다.\" 출력\n",
    "if num==0:\n",
    "    print(\"0입니다.\")\n",
    "    print(\"영입니다.\")\n",
    "else:\n",
    "    print(\"0이 아닙니다.\")\n",
    "    print(\"값-\", num)\n",
    "\n",
    "print('종료')"
   ]
  },
  {
   "cell_type": "code",
   "execution_count": 22,
   "metadata": {},
   "outputs": [],
   "source": [
    "# 숫자: 0, 0.0 => False 나머진: True\n",
    "num = 0"
   ]
  },
  {
   "cell_type": "code",
   "execution_count": 23,
   "metadata": {},
   "outputs": [
    {
     "data": {
      "text/plain": [
       "False"
      ]
     },
     "execution_count": 23,
     "metadata": {},
     "output_type": "execute_result"
    }
   ],
   "source": [
    "bool(num)"
   ]
  },
  {
   "cell_type": "code",
   "execution_count": 25,
   "metadata": {},
   "outputs": [
    {
     "data": {
      "text/plain": [
       "True"
      ]
     },
     "execution_count": 25,
     "metadata": {},
     "output_type": "execute_result"
    }
   ],
   "source": [
    "not bool(num)  #not True => False, not False => True"
   ]
  },
  {
   "cell_type": "code",
   "execution_count": null,
   "metadata": {},
   "outputs": [],
   "source": [
    "if not bool(num):  # True조건 : num==0\n",
    "    print(\"0\")"
   ]
  },
  {
   "cell_type": "code",
   "execution_count": null,
   "metadata": {},
   "outputs": [],
   "source": []
  },
  {
   "cell_type": "code",
   "execution_count": 26,
   "metadata": {},
   "outputs": [],
   "source": [
    "my_name = \"aaa\" "
   ]
  },
  {
   "cell_type": "code",
   "execution_count": 27,
   "metadata": {},
   "outputs": [],
   "source": [
    "# ?print  #?함수 설명"
   ]
  },
  {
   "cell_type": "code",
   "execution_count": null,
   "metadata": {},
   "outputs": [],
   "source": [
    "# tab: 자동완성\n",
    "print    #shift + tab"
   ]
  },
  {
   "cell_type": "code",
   "execution_count": 32,
   "metadata": {},
   "outputs": [
    {
     "name": "stdout",
     "output_type": "stream",
     "text": [
      "음수\n"
     ]
    }
   ],
   "source": [
    "num = 10 # num이 0보다 크면 \"양수\" 출력, 0이면 \"0\"을 출력, 0보다 작으면 \"음수\" 출력\n",
    "if num > 0:\n",
    "    print(\"양수\")\n",
    "elif num == 0:\n",
    "    print(\"0\")\n",
    "elif num < 0:\n",
    "    print(\"음수\")"
   ]
  },
  {
   "cell_type": "code",
   "execution_count": null,
   "metadata": {},
   "outputs": [],
   "source": [
    "# if num==1:\n",
    "#     A\n",
    "# elif num==2:\n",
    "#     B\n",
    "# elif num==3:\n",
    "#     C\n",
    "# else:\n",
    "#     D  => 1,2,3을 제외한 나머지 숫자일 경우"
   ]
  },
  {
   "cell_type": "code",
   "execution_count": null,
   "metadata": {},
   "outputs": [],
   "source": []
  },
  {
   "cell_type": "code",
   "execution_count": 31,
   "metadata": {},
   "outputs": [
    {
     "name": "stdout",
     "output_type": "stream",
     "text": [
      "음수\n"
     ]
    }
   ],
   "source": [
    "num = -10 # num이 0보다 크면 \"양수\" 출력, 0이면 \"0\"을 출력, 0보다 작으면 \"음수\" 출력\n",
    "if num > 0:\n",
    "    print(\"양수\")\n",
    "elif num == 0:\n",
    "    print(\"0\")\n",
    "else:\n",
    "    print(\"음수\")"
   ]
  },
  {
   "cell_type": "code",
   "execution_count": 49,
   "metadata": {},
   "outputs": [
    {
     "name": "stdout",
     "output_type": "stream",
     "text": [
      "도시명:서울\n"
     ]
    }
   ],
   "source": [
    "# \"서울\": \"서울 특별시\",  인천, 부산, 대구, 광주, 대전, 울산 : \"XX 광역시\", 나머지는 \"XXXX는 일반시\"\n",
    "city = input(\"도시명:\")\n",
    "city = city.strip()\n",
    "# city = input(\"도시명:\").strip()"
   ]
  },
  {
   "cell_type": "code",
   "execution_count": 58,
   "metadata": {},
   "outputs": [
    {
     "name": "stdout",
     "output_type": "stream",
     "text": [
      "서울특별시\n",
      "서울 특별시\n"
     ]
    }
   ],
   "source": [
    "if city == \"서울\":\n",
    "    print(f\"{city}특별시\")\n",
    "    print(city, \"특별시\")#, sep=\"\")\n",
    "elif city in [\"인천\", \"부산\", \"광주\", \"대구\", \"대전\", \"울산\"]:\n",
    "    print(f\"{city}광역시\")\n",
    "else:\n",
    "    print(f\"{city}는 일반시\")"
   ]
  },
  {
   "cell_type": "code",
   "execution_count": 48,
   "metadata": {},
   "outputs": [
    {
     "data": {
      "text/plain": [
       "True"
      ]
     },
     "execution_count": 48,
     "metadata": {},
     "output_type": "execute_result"
    }
   ],
   "source": [
    "# [\"인천\", \"부산\", \"광주\", \"대구\", \"대전\", \"울산\"]==[\"인천\", \"부산\", \"광주\", \"대구\", \"대전\", \"울산\"]"
   ]
  },
  {
   "cell_type": "code",
   "execution_count": null,
   "metadata": {},
   "outputs": [],
   "source": [
    "# \"인천\" == [\"인천\", \"부산\", \"광주\", \"대구\", \"대전\", \"울산\"]"
   ]
  },
  {
   "cell_type": "markdown",
   "metadata": {},
   "source": [
    "# 반복문\n",
    "- while 문\n",
    "    - 조건이 True인 동안 반복\n",
    "- for in 문\n",
    "    - 문자열, 자료구조(리스트, 튜플, 셋, 딕셔너리)의 원소들을 하나씩 모두 조회할 때 사용. (Iterable 타입)"
   ]
  },
  {
   "cell_type": "markdown",
   "metadata": {},
   "source": [
    "## while 문"
   ]
  },
  {
   "cell_type": "markdown",
   "metadata": {},
   "source": [
    "- 대입연산자\n",
    "    - 변수 = 값\n",
    "    - 변수 연산자= 값 :: 변수 = 변수 연산자 값\n",
    "        - a += 10 :: a = a + 10\n",
    "        - a -= 10 :: a = a - 10\n",
    "        - a *= 10 :: a = a * 10"
   ]
  },
  {
   "cell_type": "code",
   "execution_count": 9,
   "metadata": {
    "scrolled": true
   },
   "outputs": [
    {
     "name": "stdout",
     "output_type": "stream",
     "text": [
      "안녕하세요.\n",
      "안녕하세요.\n",
      "안녕하세요.\n",
      "안녕하세요.\n",
      "안녕하세요.\n",
      "안녕하세요.\n",
      "안녕하세요.\n",
      "안녕하세요.\n",
      "안녕하세요.\n",
      "안녕하세요.\n",
      "종료\n"
     ]
    }
   ],
   "source": [
    "cnt = 0  #초기식 - 조건에서 사용되면서 조건을 False로 바꿀 때 사용할 값. 이 값은 반복구문에서 사용할 수있다.\n",
    "while cnt < 10: # 조건식\n",
    "#     print(cnt)\n",
    "    print(\"안녕하세요.\")\n",
    "#     cnt = cnt + 1 # 증감식\n",
    "    cnt += 1  #cnt = cnt + 1\n",
    "print(\"종료\")    "
   ]
  },
  {
   "cell_type": "code",
   "execution_count": 66,
   "metadata": {
    "scrolled": true
   },
   "outputs": [
    {
     "name": "stdout",
     "output_type": "stream",
     "text": [
      "5\n",
      "10\n",
      "15\n",
      "20\n",
      "25\n",
      "30\n",
      "35\n",
      "40\n",
      "45\n",
      "50\n",
      "55\n",
      "60\n",
      "65\n",
      "70\n",
      "75\n",
      "80\n",
      "85\n",
      "90\n",
      "95\n",
      "100\n"
     ]
    }
   ],
   "source": [
    "# 1  ~  100 중에서 5의 배수만 출력 (cnt가 5의 배수이면 출력해라.)\n",
    "cnt = 1\n",
    "while cnt <= 100:\n",
    "    if cnt % 5 == 0:\n",
    "        print(cnt)\n",
    "    cnt += 1"
   ]
  },
  {
   "cell_type": "code",
   "execution_count": 69,
   "metadata": {
    "collapsed": true
   },
   "outputs": [
    {
     "name": "stdout",
     "output_type": "stream",
     "text": [
      "5\n",
      "10\n",
      "15\n",
      "20\n",
      "25\n",
      "30\n",
      "35\n",
      "40\n",
      "45\n",
      "50\n",
      "55\n",
      "60\n",
      "65\n",
      "70\n",
      "75\n",
      "80\n",
      "85\n",
      "90\n",
      "95\n",
      "100\n"
     ]
    }
   ],
   "source": [
    "cnt = 1\n",
    "flag = True\n",
    "while flag:\n",
    "    if cnt % 5 == 0:\n",
    "        print(cnt)\n",
    "    cnt += 1\n",
    "    if cnt > 100:\n",
    "        flag = False"
   ]
  },
  {
   "cell_type": "markdown",
   "metadata": {},
   "source": [
    "## for in 문\n",
    "```python\n",
    "for 변수 in iterable:\n",
    "    반복할 구문\n",
    "```"
   ]
  },
  {
   "cell_type": "code",
   "execution_count": 76,
   "metadata": {},
   "outputs": [
    {
     "name": "stdout",
     "output_type": "stream",
     "text": [
      "사과\n",
      "복숭아\n",
      "귤\n",
      "수박\n",
      "배\n",
      "자두\n"
     ]
    }
   ],
   "source": [
    "fruits = ['사과', '복숭아', '귤', '수박', '배', \"자두\"]\n",
    "\n",
    "index = 0  #리스트의 index\n",
    "length = len(fruits)\n",
    "\n",
    "while index < length:\n",
    "    fruit = fruits[index]\n",
    "    print(fruit)\n",
    "    index += 1"
   ]
  },
  {
   "cell_type": "code",
   "execution_count": 77,
   "metadata": {},
   "outputs": [
    {
     "name": "stdout",
     "output_type": "stream",
     "text": [
      "사과\n",
      "복숭아\n",
      "귤\n",
      "수박\n",
      "배\n",
      "자두\n"
     ]
    }
   ],
   "source": [
    "fruits = ['사과', '복숭아', '귤', '수박', '배', \"자두\"]\n",
    "for fruit in fruits:\n",
    "    print(fruit)"
   ]
  },
  {
   "cell_type": "code",
   "execution_count": 78,
   "metadata": {},
   "outputs": [
    {
     "name": "stdout",
     "output_type": "stream",
     "text": [
      "1\n",
      "2\n",
      "3\n",
      "4\n",
      "5\n"
     ]
    }
   ],
   "source": [
    "for num in (1,2,3,4,5):\n",
    "    print(num)"
   ]
  },
  {
   "cell_type": "code",
   "execution_count": 80,
   "metadata": {},
   "outputs": [
    {
     "name": "stdout",
     "output_type": "stream",
     "text": [
      "1\n",
      "10\n",
      "20\n",
      "30\n"
     ]
    }
   ],
   "source": [
    "for num in {10, 20, 30, 1}:\n",
    "    print(num)"
   ]
  },
  {
   "cell_type": "code",
   "execution_count": 11,
   "metadata": {},
   "outputs": [
    {
     "name": "stdout",
     "output_type": "stream",
     "text": [
      "a\n",
      "b\n",
      "c\n"
     ]
    }
   ],
   "source": [
    "d = {\n",
    "    \"a\":10,\n",
    "    \"b\":20,\n",
    "    \"c\":30\n",
    "}\n",
    "for key in d: # 딕셔너리는 key값을 반환.\n",
    "    print(key) "
   ]
  },
  {
   "cell_type": "code",
   "execution_count": 82,
   "metadata": {},
   "outputs": [
    {
     "name": "stdout",
     "output_type": "stream",
     "text": [
      "10\n",
      "20\n",
      "30\n"
     ]
    }
   ],
   "source": [
    "for key in d:\n",
    "    print(d[key])"
   ]
  },
  {
   "cell_type": "code",
   "execution_count": 85,
   "metadata": {},
   "outputs": [
    {
     "data": {
      "text/plain": [
       "(dict_values([10, 20, 30]),\n",
       " dict_keys(['a', 'b', 'c']),\n",
       " dict_items([('a', 10), ('b', 20), ('c', 30)]))"
      ]
     },
     "execution_count": 85,
     "metadata": {},
     "output_type": "execute_result"
    }
   ],
   "source": [
    "d.values(), d.keys(), d.items()"
   ]
  },
  {
   "cell_type": "code",
   "execution_count": 86,
   "metadata": {},
   "outputs": [
    {
     "name": "stdout",
     "output_type": "stream",
     "text": [
      "10\n",
      "20\n",
      "30\n"
     ]
    }
   ],
   "source": [
    "for v in d.values():\n",
    "    print(v)"
   ]
  },
  {
   "cell_type": "code",
   "execution_count": 12,
   "metadata": {},
   "outputs": [
    {
     "name": "stdout",
     "output_type": "stream",
     "text": [
      "('a', 10)\n",
      "('b', 20)\n",
      "('c', 30)\n"
     ]
    }
   ],
   "source": [
    "# key가 \"b\"인 item의 value를 출력\n",
    "for v in d.items(): # (key, value)\n",
    " \n",
    "    if v[0] == 'b':\n",
    "        print(v[1])"
   ]
  },
  {
   "cell_type": "code",
   "execution_count": null,
   "metadata": {},
   "outputs": [],
   "source": [
    "v1, v2 = ('a', 10)"
   ]
  },
  {
   "cell_type": "code",
   "execution_count": 94,
   "metadata": {},
   "outputs": [
    {
     "name": "stdout",
     "output_type": "stream",
     "text": [
      "20\n"
     ]
    }
   ],
   "source": [
    "for key, value in d.items():\n",
    "    if key == \"b\":\n",
    "        print(value)"
   ]
  },
  {
   "cell_type": "code",
   "execution_count": 17,
   "metadata": {},
   "outputs": [],
   "source": [
    "lst = [\n",
    "    [1,2,3],\n",
    "    [10,20,30],\n",
    "    [100,200,300]\n",
    "]"
   ]
  },
  {
   "cell_type": "code",
   "execution_count": 19,
   "metadata": {},
   "outputs": [
    {
     "data": {
      "text/plain": [
       "3"
      ]
     },
     "execution_count": 19,
     "metadata": {},
     "output_type": "execute_result"
    }
   ],
   "source": [
    "len(lst)"
   ]
  },
  {
   "cell_type": "code",
   "execution_count": 18,
   "metadata": {},
   "outputs": [
    {
     "name": "stdout",
     "output_type": "stream",
     "text": [
      "1-2-3\n",
      "10-20-30\n",
      "100-200-300\n"
     ]
    }
   ],
   "source": [
    "for v1, v2, v3 in lst:\n",
    "    print(v1, v2, v3, sep=\"-\")"
   ]
  },
  {
   "cell_type": "code",
   "execution_count": 115,
   "metadata": {},
   "outputs": [
    {
     "name": "stdout",
     "output_type": "stream",
     "text": [
      "1 2 3 \n",
      "10 20 30 \n",
      "100 200 300 400 \n"
     ]
    }
   ],
   "source": [
    "for l in lst: # l = [1,2,3],\n",
    "    \n",
    "    for v in l:\n",
    "        print(v, end=\" \")\n",
    "    print() # 엔터"
   ]
  },
  {
   "cell_type": "code",
   "execution_count": null,
   "metadata": {},
   "outputs": [],
   "source": [
    "i = [1,2,3]\n",
    "i = [10, 20, 30]\n",
    "i = [100,200,300,400]\n",
    "for i in lst:  #3번\n",
    "    for v in i:  #3번\n",
    "        print(v) #1번반복:3, 2번:3, 3번: 4"
   ]
  },
  {
   "cell_type": "code",
   "execution_count": 109,
   "metadata": {},
   "outputs": [
    {
     "name": "stdout",
     "output_type": "stream",
     "text": [
      "a, b, c, d, e, f, 가, 나, 다, 라, "
     ]
    }
   ],
   "source": [
    "for s in \"abcdef가나다라\":\n",
    "    print(s, end=\", \")"
   ]
  },
  {
   "cell_type": "code",
   "execution_count": 113,
   "metadata": {},
   "outputs": [
    {
     "name": "stdout",
     "output_type": "stream",
     "text": [
      "a/b/20,100\n"
     ]
    }
   ],
   "source": [
    "print(\"a\", \"b\", 20, sep=\"/\", end=\",\") #end생략: 엔터, sep생략: 공백"
   ]
  },
  {
   "cell_type": "code",
   "execution_count": null,
   "metadata": {},
   "outputs": [],
   "source": []
  },
  {
   "cell_type": "code",
   "execution_count": 20,
   "metadata": {},
   "outputs": [
    {
     "name": "stdout",
     "output_type": "stream",
     "text": [
      "1\n"
     ]
    }
   ],
   "source": [
    "while True:\n",
    "    print(1)\n",
    "    break"
   ]
  },
  {
   "cell_type": "code",
   "execution_count": null,
   "metadata": {},
   "outputs": [],
   "source": []
  },
  {
   "cell_type": "code",
   "execution_count": 21,
   "metadata": {},
   "outputs": [
    {
     "name": "stdout",
     "output_type": "stream",
     "text": [
      "입력test\n",
      "test\n",
      "입력aaaaa\n",
      "aaaaa\n",
      "입력1000\n",
      "1000\n",
      "입력quit\n",
      "quit\n"
     ]
    }
   ],
   "source": [
    "while True:\n",
    "    a = input(\"입력\")\n",
    "    print(a)\n",
    "    if a == 'quit':\n",
    "        break"
   ]
  },
  {
   "cell_type": "code",
   "execution_count": 22,
   "metadata": {},
   "outputs": [
    {
     "ename": "KeyboardInterrupt",
     "evalue": "",
     "output_type": "error",
     "traceback": [
      "\u001b[1;31m---------------------------------------------------------------------------\u001b[0m",
      "\u001b[1;31mKeyboardInterrupt\u001b[0m                         Traceback (most recent call last)",
      "\u001b[1;32m<ipython-input-22-7eadaf2a1f7c>\u001b[0m in \u001b[0;36m<module>\u001b[1;34m\u001b[0m\n\u001b[0;32m      1\u001b[0m \u001b[1;32mwhile\u001b[0m \u001b[1;32mTrue\u001b[0m\u001b[1;33m:\u001b[0m\u001b[1;33m\u001b[0m\u001b[1;33m\u001b[0m\u001b[0m\n\u001b[1;32m----> 2\u001b[1;33m     \u001b[1;32mcontinue\u001b[0m\u001b[1;33m\u001b[0m\u001b[1;33m\u001b[0m\u001b[0m\n\u001b[0m\u001b[0;32m      3\u001b[0m     \u001b[0mprint\u001b[0m\u001b[1;33m(\u001b[0m\u001b[1;36m10\u001b[0m\u001b[1;33m)\u001b[0m\u001b[1;33m\u001b[0m\u001b[1;33m\u001b[0m\u001b[0m\n",
      "\u001b[1;31mKeyboardInterrupt\u001b[0m: "
     ]
    }
   ],
   "source": [
    "while True:\n",
    "    continue\n",
    "    \n",
    "    print(10)"
   ]
  },
  {
   "cell_type": "code",
   "execution_count": 117,
   "metadata": {
    "scrolled": true
   },
   "outputs": [
    {
     "name": "stdout",
     "output_type": "stream",
     "text": [
      "5\n",
      "10\n",
      "15\n",
      "20\n",
      "25\n",
      "30\n",
      "35\n",
      "40\n",
      "45\n",
      "50\n",
      "55\n",
      "60\n",
      "65\n",
      "70\n",
      "75\n",
      "80\n",
      "85\n",
      "90\n",
      "95\n",
      "100\n"
     ]
    }
   ],
   "source": [
    "cnt = 1\n",
    "while True:\n",
    "    if cnt % 5 == 0:\n",
    "        print(cnt)\n",
    "    cnt += 1\n",
    "    if cnt > 100:#반복을 끝낼 조건\n",
    "        break #반복문 끝내라."
   ]
  },
  {
   "cell_type": "code",
   "execution_count": 118,
   "metadata": {},
   "outputs": [
    {
     "name": "stdout",
     "output_type": "stream",
     "text": [
      "1\n"
     ]
    }
   ],
   "source": [
    "# while True:\n",
    "#     print(1)\n",
    "#     if 멈출조건:\n",
    "#         break"
   ]
  },
  {
   "cell_type": "code",
   "execution_count": 119,
   "metadata": {
    "collapsed": true
   },
   "outputs": [
    {
     "name": "stdout",
     "output_type": "stream",
     "text": [
      "5\n",
      "10\n",
      "15\n",
      "20\n",
      "25\n",
      "30\n",
      "35\n",
      "40\n",
      "45\n",
      "50\n",
      "55\n",
      "60\n",
      "65\n",
      "70\n",
      "75\n",
      "80\n",
      "85\n",
      "90\n",
      "95\n",
      "100\n"
     ]
    }
   ],
   "source": [
    "cnt = 1\n",
    "while cnt <= 100:\n",
    "    if cnt % 5 != 0: #5의 배수가 아니면\n",
    "        cnt +=1\n",
    "        continue\n",
    "    print(cnt)\n",
    "    cnt += 1"
   ]
  },
  {
   "cell_type": "code",
   "execution_count": 124,
   "metadata": {},
   "outputs": [
    {
     "name": "stdout",
     "output_type": "stream",
     "text": [
      "3\n",
      "6\n",
      "9\n"
     ]
    }
   ],
   "source": [
    "for i in [1,2,3,4,5,6,7,8,9,10]:\n",
    "    if i % 3 != 0:\n",
    "        continue\n",
    "    print(i)"
   ]
  },
  {
   "cell_type": "code",
   "execution_count": 129,
   "metadata": {},
   "outputs": [],
   "source": [
    "cnt = 1\n",
    "result = []\n",
    "while cnt <= 100:\n",
    "    if cnt % 5 != 0: #5의 배수가 아니면\n",
    "        cnt +=1\n",
    "        continue\n",
    "    result.append(cnt)\n",
    "    cnt += 1"
   ]
  },
  {
   "cell_type": "code",
   "execution_count": 130,
   "metadata": {
    "collapsed": true
   },
   "outputs": [
    {
     "data": {
      "text/plain": [
       "[5,\n",
       " 10,\n",
       " 15,\n",
       " 20,\n",
       " 25,\n",
       " 30,\n",
       " 35,\n",
       " 40,\n",
       " 45,\n",
       " 50,\n",
       " 55,\n",
       " 60,\n",
       " 65,\n",
       " 70,\n",
       " 75,\n",
       " 80,\n",
       " 85,\n",
       " 90,\n",
       " 95,\n",
       " 100]"
      ]
     },
     "execution_count": 130,
     "metadata": {},
     "output_type": "execute_result"
    }
   ],
   "source": [
    "result"
   ]
  },
  {
   "cell_type": "code",
   "execution_count": 143,
   "metadata": {},
   "outputs": [
    {
     "name": "stdout",
     "output_type": "stream",
     "text": [
      "0\n",
      "1\n",
      "2\n",
      "3\n",
      "4\n",
      "5\n",
      "6\n",
      "7\n",
      "8\n",
      "9\n",
      "10\n",
      "11\n",
      "12\n",
      "13\n",
      "14\n",
      "15\n",
      "16\n",
      "17\n",
      "18\n",
      "19\n",
      "20\n",
      "21\n",
      "22\n",
      "23\n",
      "24\n",
      "25\n",
      "26\n",
      "27\n",
      "28\n",
      "29\n",
      "30\n",
      "31\n",
      "32\n",
      "33\n",
      "34\n",
      "35\n",
      "36\n",
      "37\n",
      "38\n",
      "39\n",
      "40\n",
      "41\n",
      "42\n",
      "43\n",
      "44\n",
      "45\n",
      "46\n",
      "47\n",
      "48\n",
      "49\n",
      "50\n",
      "51\n",
      "52\n",
      "53\n",
      "54\n",
      "55\n",
      "56\n",
      "57\n",
      "58\n",
      "59\n",
      "60\n",
      "61\n",
      "62\n",
      "63\n",
      "64\n",
      "65\n",
      "66\n",
      "67\n",
      "68\n",
      "69\n",
      "70\n",
      "71\n",
      "72\n",
      "73\n",
      "74\n",
      "75\n",
      "76\n",
      "77\n",
      "78\n",
      "79\n",
      "80\n",
      "81\n",
      "82\n",
      "83\n",
      "84\n",
      "85\n",
      "86\n",
      "87\n",
      "88\n",
      "89\n",
      "90\n",
      "91\n",
      "92\n",
      "93\n",
      "94\n",
      "95\n",
      "96\n",
      "97\n",
      "98\n",
      "99\n",
      "100\n",
      "101\n",
      "102\n",
      "103\n",
      "104\n",
      "105\n",
      "106\n",
      "107\n",
      "108\n",
      "109\n",
      "110\n"
     ]
    }
   ],
   "source": [
    "tmp_list = []\n",
    "result = []\n",
    "\n",
    "for idx, i in enumerate(range(111)):#[0,1,2,.....,99, 100]\n",
    "    if i % 5 == 0:\n",
    "        tmp_list.append(i)\n",
    "    if (len(tmp_list)==4) | (idx==len(range(111))-1):\n",
    "        result.append(tmp_list)\n",
    "        tmp_list = []"
   ]
  },
  {
   "cell_type": "code",
   "execution_count": 142,
   "metadata": {},
   "outputs": [
    {
     "data": {
      "text/plain": [
       "[[0, 5, 10, 15],\n",
       " [20, 25, 30, 35],\n",
       " [40, 45, 50, 55],\n",
       " [60, 65, 70, 75],\n",
       " [80, 85, 90, 95],\n",
       " [100, 105, 110]]"
      ]
     },
     "execution_count": 142,
     "metadata": {},
     "output_type": "execute_result"
    }
   ],
   "source": [
    "result"
   ]
  },
  {
   "cell_type": "markdown",
   "metadata": {},
   "source": [
    "## for in 문 관련 내장함수\n",
    "- range()\n",
    "- enumerate()\n",
    "- zip()"
   ]
  },
  {
   "cell_type": "markdown",
   "metadata": {},
   "source": [
    "### range([시작정수] , 종료정수, [증감정수] ) - [ ] 생략가능"
   ]
  },
  {
   "cell_type": "code",
   "execution_count": 28,
   "metadata": {},
   "outputs": [
    {
     "name": "stdout",
     "output_type": "stream",
     "text": [
      "1 3 5 7 9 "
     ]
    }
   ],
   "source": [
    "# range(1, 10, 2)    #1 ~ 10-1  2씩 증가 . 1, 3, 5, 7, 9\n",
    "for i in range(1,10,2):\n",
    "    print(i, end=' ')\n",
    "#     break"
   ]
  },
  {
   "cell_type": "code",
   "execution_count": null,
   "metadata": {},
   "outputs": [],
   "source": [
    "# list(), tuple(), set() iterable타입의 객체를 list, tuple, set으로 변환"
   ]
  },
  {
   "cell_type": "code",
   "execution_count": 29,
   "metadata": {},
   "outputs": [
    {
     "data": {
      "text/plain": [
       "[1, 2, 3, 4, 5, 6, 7, 8, 9, 10]"
      ]
     },
     "execution_count": 29,
     "metadata": {},
     "output_type": "execute_result"
    }
   ],
   "source": [
    "lst = list(range(1,11))   # 1 ~ 11-1 1씩 증가 = 증감치 생략\n",
    "lst"
   ]
  },
  {
   "cell_type": "code",
   "execution_count": 31,
   "metadata": {},
   "outputs": [
    {
     "data": {
      "text/plain": [
       "(0, 1, 2, 3, 4, 5, 6, 7, 8, 9)"
      ]
     },
     "execution_count": 31,
     "metadata": {},
     "output_type": "execute_result"
    }
   ],
   "source": [
    "tu = tuple(range(10))  #range(10) : 종료정수.  0 ~ 9, 1씩 증가\n",
    "tu"
   ]
  },
  {
   "cell_type": "code",
   "execution_count": 32,
   "metadata": {},
   "outputs": [
    {
     "data": {
      "text/plain": [
       "{0, 1, 2, 3, 4}"
      ]
     },
     "execution_count": 32,
     "metadata": {},
     "output_type": "execute_result"
    }
   ],
   "source": [
    "s = set(range(5))\n",
    "s"
   ]
  },
  {
   "cell_type": "code",
   "execution_count": 34,
   "metadata": {},
   "outputs": [
    {
     "data": {
      "text/plain": [
       "[10, 9, 8, 7, 6, 5, 4, 3, 2, 1, 0, -1, -2, -3, -4, -5, -6, -7, -8, -9]"
      ]
     },
     "execution_count": 34,
     "metadata": {},
     "output_type": "execute_result"
    }
   ],
   "source": [
    "# 증감치가 음수일 경우  시작값 > 종료값\n",
    "list(range(10,-10,-1))"
   ]
  },
  {
   "cell_type": "code",
   "execution_count": 35,
   "metadata": {},
   "outputs": [
    {
     "data": {
      "text/plain": [
       "[10, 5, 0, -5]"
      ]
     },
     "execution_count": 35,
     "metadata": {},
     "output_type": "execute_result"
    }
   ],
   "source": [
    "list(range(10,-10,-5))"
   ]
  },
  {
   "cell_type": "code",
   "execution_count": 40,
   "metadata": {},
   "outputs": [
    {
     "name": "stdout",
     "output_type": "stream",
     "text": [
      "0 안녕\n",
      "1 안녕\n",
      "2 안녕\n",
      "3 안녕\n",
      "4 안녕\n",
      "5 안녕\n",
      "6 안녕\n",
      "7 안녕\n",
      "8 안녕\n",
      "9 안녕\n"
     ]
    }
   ],
   "source": [
    "# 안녕 10번 반복 사용\n",
    "# 변수를 `_` : 반복문내에서 사용하지 않겠다. => 관례\n",
    "for _ in range(10): # 0 ~ 9 : 10번\n",
    "    print(_, \"안녕\")"
   ]
  },
  {
   "cell_type": "markdown",
   "metadata": {},
   "source": [
    "### enumerate(Iterable  [, start=시작값])   [ ]: 생략가능"
   ]
  },
  {
   "cell_type": "code",
   "execution_count": 42,
   "metadata": {},
   "outputs": [
    {
     "name": "stdout",
     "output_type": "stream",
     "text": [
      "(0, '가')\n",
      "(1, '나')\n",
      "(2, '다')\n",
      "(3, '라')\n",
      "(4, '마')\n"
     ]
    }
   ],
   "source": [
    "str_list = ['가','나', '다','라','마']\n",
    "for s in enumerate(str_list):\n",
    "    print(s)"
   ]
  },
  {
   "cell_type": "code",
   "execution_count": 46,
   "metadata": {},
   "outputs": [
    {
     "name": "stdout",
     "output_type": "stream",
     "text": [
      "3 라\n"
     ]
    }
   ],
   "source": [
    "for idx, s in enumerate(str_list):\n",
    "    if idx == 3:\n",
    "        print(idx, s)"
   ]
  },
  {
   "cell_type": "code",
   "execution_count": 48,
   "metadata": {},
   "outputs": [
    {
     "name": "stdout",
     "output_type": "stream",
     "text": [
      "100 가\n",
      "101 나\n",
      "102 다\n",
      "103 라\n",
      "104 마\n"
     ]
    }
   ],
   "source": [
    "for idx, s in enumerate(str_list, start=100):\n",
    "    print(idx, s)"
   ]
  },
  {
   "cell_type": "code",
   "execution_count": 49,
   "metadata": {},
   "outputs": [
    {
     "data": {
      "text/plain": [
       "[1, 2, 3, 4, 5, 6, 7, 8, 9, 10]"
      ]
     },
     "execution_count": 49,
     "metadata": {},
     "output_type": "execute_result"
    }
   ],
   "source": [
    "list(range(1,11)) "
   ]
  },
  {
   "cell_type": "markdown",
   "metadata": {},
   "source": [
    "### zip(iterable, iterable [, ......])   "
   ]
  },
  {
   "cell_type": "code",
   "execution_count": 61,
   "metadata": {},
   "outputs": [],
   "source": [
    "a = [1, 2, 3]\n",
    "b = [10, 20, 30]\n",
    "c = 100,200,300,400,500\n",
    "d = {'가', '나', '다'}"
   ]
  },
  {
   "cell_type": "code",
   "execution_count": 62,
   "metadata": {},
   "outputs": [
    {
     "name": "stdout",
     "output_type": "stream",
     "text": [
      "(1, 10, 100, '다')\n",
      "(2, 20, 200, '가')\n"
     ]
    }
   ],
   "source": [
    "for v in zip(a, b, c, d):\n",
    "    print(v)"
   ]
  },
  {
   "cell_type": "code",
   "execution_count": 63,
   "metadata": {},
   "outputs": [],
   "source": [
    "names = ['홍길동',  '이순신', '박영희']\n",
    "ages = [20, 30, 40]\n",
    "talls = [170, 180, 190]"
   ]
  },
  {
   "cell_type": "code",
   "execution_count": 64,
   "metadata": {},
   "outputs": [
    {
     "name": "stdout",
     "output_type": "stream",
     "text": [
      "('홍길동', 20, 170)\n",
      "('이순신', 30, 180)\n",
      "('박영희', 40, 190)\n"
     ]
    }
   ],
   "source": [
    "for info in zip(names, ages, talls):\n",
    "    print(info)"
   ]
  },
  {
   "cell_type": "code",
   "execution_count": 65,
   "metadata": {},
   "outputs": [
    {
     "name": "stdout",
     "output_type": "stream",
     "text": [
      "홍길동 20 170\n",
      "이순신 30 180\n",
      "박영희 40 190\n"
     ]
    }
   ],
   "source": [
    "for name, age, tall in zip(names, ages, talls):\n",
    "    print(name, age, tall)"
   ]
  },
  {
   "cell_type": "markdown",
   "metadata": {},
   "source": [
    "## 컴프리헨션(Comprehesion)"
   ]
  },
  {
   "cell_type": "code",
   "execution_count": 75,
   "metadata": {},
   "outputs": [],
   "source": [
    "lst = [1, 2, 3, 4, 5, 6]\n",
    "# lst의 원소들에 10을 더한 값들을 원소로 가지는 리스트를 생성."
   ]
  },
  {
   "cell_type": "code",
   "execution_count": 76,
   "metadata": {},
   "outputs": [],
   "source": [
    "lst2 = []\n",
    "for num in lst:\n",
    "    lst2.append(num+10)"
   ]
  },
  {
   "cell_type": "code",
   "execution_count": 77,
   "metadata": {},
   "outputs": [
    {
     "data": {
      "text/plain": [
       "[11, 12, 13, 14, 15, 16]"
      ]
     },
     "execution_count": 77,
     "metadata": {},
     "output_type": "execute_result"
    }
   ],
   "source": [
    "lst2"
   ]
  },
  {
   "cell_type": "code",
   "execution_count": 80,
   "metadata": {},
   "outputs": [
    {
     "data": {
      "text/plain": [
       "[22, 24, 26, 28, 30, 32]"
      ]
     },
     "execution_count": 80,
     "metadata": {},
     "output_type": "execute_result"
    }
   ],
   "source": [
    "result = [num+10 for num in lst]  #리스트 컴프리헨션\n",
    "result"
   ]
  },
  {
   "cell_type": "code",
   "execution_count": 82,
   "metadata": {},
   "outputs": [
    {
     "data": {
      "text/plain": [
       "({11, 12, 13, 14, 15, 16}, set)"
      ]
     },
     "execution_count": 82,
     "metadata": {},
     "output_type": "execute_result"
    }
   ],
   "source": [
    "result2 = {num+10 for num in lst} # {값, 값}  # set 컴프리헨션 (파이썬 3.)\n",
    "result2, type(result2)"
   ]
  },
  {
   "cell_type": "code",
   "execution_count": 84,
   "metadata": {},
   "outputs": [
    {
     "data": {
      "text/plain": [
       "({1: '가', 2: '가', 3: '가', 4: '가', 5: '가', 6: '가'}, dict)"
      ]
     },
     "execution_count": 84,
     "metadata": {},
     "output_type": "execute_result"
    }
   ],
   "source": [
    "result2 = {num:'가'  for num in lst}  #{k:v, k:v} # 딕셔너리 컴프리헨션 (파이썬 3.)\n",
    "result2, type(result2)"
   ]
  },
  {
   "cell_type": "code",
   "execution_count": 90,
   "metadata": {},
   "outputs": [
    {
     "data": {
      "text/plain": [
       "{0: 11, 1: 12, 2: 13, 3: 14, 4: 15, 5: 16}"
      ]
     },
     "execution_count": 90,
     "metadata": {},
     "output_type": "execute_result"
    }
   ],
   "source": [
    "result3 = {idx:num for idx, num in enumerate(lst2)}\n",
    "result3"
   ]
  },
  {
   "cell_type": "code",
   "execution_count": 92,
   "metadata": {},
   "outputs": [],
   "source": [
    "dic = {}\n",
    "for idx, num in enumerate(lst2):\n",
    "    dic[idx] = num"
   ]
  },
  {
   "cell_type": "code",
   "execution_count": 93,
   "metadata": {},
   "outputs": [
    {
     "data": {
      "text/plain": [
       "{0: 11, 1: 12, 2: 13, 3: 14, 4: 15, 5: 16}"
      ]
     },
     "execution_count": 93,
     "metadata": {},
     "output_type": "execute_result"
    }
   ],
   "source": [
    "dic"
   ]
  },
  {
   "cell_type": "code",
   "execution_count": 97,
   "metadata": {},
   "outputs": [
    {
     "data": {
      "text/plain": [
       "{1: 1100, 2: 1200, 3: 1300, 4: 1400, 5: 1500, 6: 1600}"
      ]
     },
     "execution_count": 97,
     "metadata": {},
     "output_type": "execute_result"
    }
   ],
   "source": [
    "{idx+1:num*100 for idx, num in enumerate(lst2)}"
   ]
  },
  {
   "cell_type": "code",
   "execution_count": 99,
   "metadata": {},
   "outputs": [],
   "source": [
    "num_list = list(range(100))"
   ]
  },
  {
   "cell_type": "code",
   "execution_count": 102,
   "metadata": {},
   "outputs": [],
   "source": [
    "#num_list의 원소들 중에 10의 배수만 가지는 리스트를 생성.\n",
    "result = []\n",
    "for num in num_list:\n",
    "    if num%10 == 0:\n",
    "        result.append(num)"
   ]
  },
  {
   "cell_type": "code",
   "execution_count": 103,
   "metadata": {},
   "outputs": [
    {
     "data": {
      "text/plain": [
       "[0, 10, 20, 30, 40, 50, 60, 70, 80, 90]"
      ]
     },
     "execution_count": 103,
     "metadata": {},
     "output_type": "execute_result"
    }
   ],
   "source": [
    "result"
   ]
  },
  {
   "cell_type": "code",
   "execution_count": 107,
   "metadata": {},
   "outputs": [
    {
     "data": {
      "text/plain": [
       "[0, 10, 20, 30, 40, 50, 60, 70, 80, 90]"
      ]
     },
     "execution_count": 107,
     "metadata": {},
     "output_type": "execute_result"
    }
   ],
   "source": [
    "result2 = [num for num in num_list if num%10==0]\n",
    "result2 "
   ]
  },
  {
   "cell_type": "code",
   "execution_count": null,
   "metadata": {},
   "outputs": [],
   "source": [
    "# [변수 for 변수 in iterable [for in 또는 if문] [for in 또는 if문] [for in 또는 if문]]"
   ]
  },
  {
   "cell_type": "code",
   "execution_count": null,
   "metadata": {},
   "outputs": [],
   "source": []
  },
  {
   "cell_type": "markdown",
   "metadata": {},
   "source": [
    "## TODO"
   ]
  },
  {
   "cell_type": "code",
   "execution_count": 110,
   "metadata": {},
   "outputs": [
    {
     "data": {
      "text/plain": [
       "False"
      ]
     },
     "execution_count": 110,
     "metadata": {},
     "output_type": "execute_result"
    }
   ],
   "source": [
    "x = 20\n",
    "# 91<= x <=100 #기본문법은 지원\n",
    "x>=91 and x<=100\n",
    "(x>=91) & (x<=100)"
   ]
  },
  {
   "cell_type": "code",
   "execution_count": 119,
   "metadata": {},
   "outputs": [
    {
     "name": "stdout",
     "output_type": "stream",
     "text": [
      "점수:-20\n",
      "-20\n",
      "올바른 점수가 아닙니다.\n"
     ]
    }
   ],
   "source": [
    "#(1) 다음 점수 구간에 맞게 학점을 출력하세요.\n",
    "# 91 ~ 100 : A학점\n",
    "# 81 ~ 90 :  B학점\n",
    "# 71 ~ 80 :  C학점\n",
    "# 61 ~ 70 :  D학점\n",
    "# 60이하   : F학점\n",
    "x = int(input(\"점수:\"))\n",
    "# print(x)\n",
    "if x>=91 and x<=100:\n",
    "    print('A학점')\n",
    "elif x>=81 and x<=90:\n",
    "    print('B학점')\n",
    "elif x>=71 and x<=80:\n",
    "    print(\"C학점\")\n",
    "elif x>=61 and x<=70:\n",
    "    print(\"D학점\")\n",
    "elif x>=0 and x<=60:\n",
    "    print('F학점')\n",
    "else:\n",
    "    print(\"올바른 점수가 아닙니다.\")"
   ]
  },
  {
   "cell_type": "code",
   "execution_count": 127,
   "metadata": {},
   "outputs": [
    {
     "name": "stdout",
     "output_type": "stream",
     "text": [
      "점수:100\n",
      "A학점\n"
     ]
    }
   ],
   "source": [
    "x = int(input(\"점수:\"))\n",
    "# print(x)\n",
    "if x<0 or x>100:\n",
    "    print(\"잘못된 점수\")\n",
    "elif x>=91 and x<=100:\n",
    "    print('A학점')\n",
    "elif x>=81:\n",
    "    print('B학점')\n",
    "elif x>=71:\n",
    "    print(\"C학점\")\n",
    "elif x>=61:\n",
    "    print(\"D학점\")\n",
    "elif x>=0:\n",
    "    print('F학점')"
   ]
  },
  {
   "cell_type": "code",
   "execution_count": 138,
   "metadata": {},
   "outputs": [
    {
     "name": "stdout",
     "output_type": "stream",
     "text": [
      "890\n",
      "평균: 89.0\n"
     ]
    }
   ],
   "source": [
    "#(2) 아래 리스트의 평균을 구하시오.\n",
    "jumsu = [100, 90, 100, 80, 70, 100, 80, 90, 95, 85]\n",
    "avg = None #평균값을 저장할 변수\n",
    "sum_value = 0 #합계를 저장할 변수\n",
    "\n",
    "for num in jumsu:\n",
    "    sum_value = sum_value + num\n",
    "\n",
    "print(sum_value)\n",
    "avg = sum_value/len(jumsu)\n",
    "print(\"평균:\", avg)"
   ]
  },
  {
   "cell_type": "code",
   "execution_count": 134,
   "metadata": {},
   "outputs": [
    {
     "data": {
      "text/plain": [
       "89.0"
      ]
     },
     "execution_count": 134,
     "metadata": {},
     "output_type": "execute_result"
    }
   ],
   "source": [
    "# sum(Iterable) : 합계구하는 내장함수\n",
    "sum(jumsu)/len(jumsu)"
   ]
  },
  {
   "cell_type": "code",
   "execution_count": 137,
   "metadata": {},
   "outputs": [
    {
     "data": {
      "text/plain": [
       "(6, 6, 55)"
      ]
     },
     "execution_count": 137,
     "metadata": {},
     "output_type": "execute_result"
    }
   ],
   "source": [
    "sum((1,2,3)), sum({1,2,3}), sum(range(11))"
   ]
  },
  {
   "cell_type": "code",
   "execution_count": null,
   "metadata": {},
   "outputs": [],
   "source": [
    "jumsu = [100, 90, 100, 80, 70, 100, 80, 90, 95, 85]"
   ]
  },
  {
   "cell_type": "code",
   "execution_count": 141,
   "metadata": {
    "scrolled": true
   },
   "outputs": [
    {
     "name": "stdout",
     "output_type": "stream",
     "text": [
      "0-pass\n",
      "1-pass\n",
      "2-pass\n",
      "3-fail\n",
      "4-fail\n",
      "5-pass\n",
      "6-fail\n",
      "7-pass\n",
      "8-pass\n",
      "9-fail\n"
     ]
    }
   ],
   "source": [
    "#(3) 위 jumsu리스트에서 평균점수이상은 pass, 미만은 fail을 index번호와 함께 출력하시오. (ex: 0-pass, 1-pass, 2-fail)\n",
    "for idx, num in enumerate(jumsu):\n",
    "    if num >= avg:\n",
    "        print(f\"{idx}-pass\")\n",
    "    else:\n",
    "        print(f\"{idx}-fail\")"
   ]
  },
  {
   "cell_type": "code",
   "execution_count": 144,
   "metadata": {},
   "outputs": [
    {
     "data": {
      "text/plain": [
       "6"
      ]
     },
     "execution_count": 144,
     "metadata": {},
     "output_type": "execute_result"
    }
   ],
   "source": [
    "# sum = 10\n",
    "# del sum\n",
    "# sum([1,2,3])"
   ]
  },
  {
   "cell_type": "code",
   "execution_count": 147,
   "metadata": {},
   "outputs": [
    {
     "name": "stdout",
     "output_type": "stream",
     "text": [
      "최대값: 95\n"
     ]
    }
   ],
   "source": [
    "#(4) 아래 리스트 값들 중 최대값을 조회해 출력\n",
    "jumsu = [60, 90, 80, 80, 70, 55,  80, 90, 95, 85]\n",
    "max_value = jumsu[0]\n",
    "for num in jumsu:\n",
    "    if num > max_value:\n",
    "        max_value = num\n",
    "\n",
    "print('최대값:', max_value)"
   ]
  },
  {
   "cell_type": "code",
   "execution_count": 150,
   "metadata": {},
   "outputs": [
    {
     "name": "stdout",
     "output_type": "stream",
     "text": [
      "95\n",
      "55\n",
      "785\n"
     ]
    }
   ],
   "source": [
    "# 내장함수\n",
    "print(max(jumsu)) # 최대값\n",
    "print(min(jumsu)) # 최소값\n",
    "print(sum(jumsu)) # 합계"
   ]
  },
  {
   "cell_type": "code",
   "execution_count": 155,
   "metadata": {},
   "outputs": [
    {
     "name": "stdout",
     "output_type": "stream",
     "text": [
      "갑\n",
      "을\n",
      "병\n"
     ]
    }
   ],
   "source": [
    "#(5) 다음 리스트 중에서 '정' 글자를 제외하고 출력하세요.\n",
    "str_list = [\"갑\", \"을\", \"정\", \"병\", \"정\"]\n",
    "for s in str_list:\n",
    "    if s!=\"정\":\n",
    "        print(s)"
   ]
  },
  {
   "cell_type": "code",
   "execution_count": 156,
   "metadata": {},
   "outputs": [
    {
     "name": "stdout",
     "output_type": "stream",
     "text": [
      "갑\n",
      "을\n",
      "병\n"
     ]
    }
   ],
   "source": [
    "for s in str_list:\n",
    "    if s==\"정\":\n",
    "        continue\n",
    "    print(s)"
   ]
  },
  {
   "cell_type": "code",
   "execution_count": 166,
   "metadata": {},
   "outputs": [
    {
     "name": "stdout",
     "output_type": "stream",
     "text": [
      "단을 입력하시오:8\n",
      "8 X 1 = 8\n",
      "8 X 2 = 16\n",
      "8 X 3 = 24\n",
      "8 X 4 = 32\n",
      "8 X 5 = 40\n",
      "8 X 6 = 48\n",
      "8 X 7 = 56\n",
      "8 X 8 = 64\n",
      "8 X 9 = 72\n"
     ]
    }
   ],
   "source": [
    "#(6) 사용자로부터 정수를 입력받아 그 단의 구구단을 출력하시오.\n",
    "# ex) 단을 입력하시오 : 2\n",
    "# 2 x 1 = 2\n",
    "# 2 x 2 = 4\n",
    "#..\n",
    "# 2 x 9 = 18\n",
    "dan = input(\"단을 입력하시오:\") #문자열\n",
    "dan = int(dan)\n",
    "for num in range(1, 10):\n",
    "#     print(f\"{dan} X {num} = {dan*num}\")\n",
    "#     print(\"{} X {} = {}\".format(dan, num, dan*num))\n",
    "    print(\"%d X %d = %d\" % (dan, num, dan*num))"
   ]
  },
  {
   "cell_type": "code",
   "execution_count": 171,
   "metadata": {},
   "outputs": [
    {
     "name": "stdout",
     "output_type": "stream",
     "text": [
      "2 X 1 = 2\t3 X 1 = 3\t4 X 1 = 4\t5 X 1 = 5\t6 X 1 = 6\t7 X 1 = 7\t8 X 1 = 8\t9 X 1 = 9\t\n",
      "2 X 2 = 4\t3 X 2 = 6\t4 X 2 = 8\t5 X 2 = 10\t6 X 2 = 12\t7 X 2 = 14\t8 X 2 = 16\t9 X 2 = 18\t\n",
      "2 X 3 = 6\t3 X 3 = 9\t4 X 3 = 12\t5 X 3 = 15\t6 X 3 = 18\t7 X 3 = 21\t8 X 3 = 24\t9 X 3 = 27\t\n",
      "2 X 4 = 8\t3 X 4 = 12\t4 X 4 = 16\t5 X 4 = 20\t6 X 4 = 24\t7 X 4 = 28\t8 X 4 = 32\t9 X 4 = 36\t\n",
      "2 X 5 = 10\t3 X 5 = 15\t4 X 5 = 20\t5 X 5 = 25\t6 X 5 = 30\t7 X 5 = 35\t8 X 5 = 40\t9 X 5 = 45\t\n",
      "2 X 6 = 12\t3 X 6 = 18\t4 X 6 = 24\t5 X 6 = 30\t6 X 6 = 36\t7 X 6 = 42\t8 X 6 = 48\t9 X 6 = 54\t\n",
      "2 X 7 = 14\t3 X 7 = 21\t4 X 7 = 28\t5 X 7 = 35\t6 X 7 = 42\t7 X 7 = 49\t8 X 7 = 56\t9 X 7 = 63\t\n",
      "2 X 8 = 16\t3 X 8 = 24\t4 X 8 = 32\t5 X 8 = 40\t6 X 8 = 48\t7 X 8 = 56\t8 X 8 = 64\t9 X 8 = 72\t\n",
      "2 X 9 = 18\t3 X 9 = 27\t4 X 9 = 36\t5 X 9 = 45\t6 X 9 = 54\t7 X 9 = 63\t8 X 9 = 72\t9 X 9 = 81\t\n"
     ]
    }
   ],
   "source": [
    "# 구구단표\n",
    "for num in range(1,10): # 숫자 * num  \n",
    "    for dan in range(2, 10): 2\n",
    "        print(\"{} X {} = {}\".format(dan, num, dan*num), end=\"\\t\") #\\n: 엔터, \\t: tab\n",
    "    print()"
   ]
  },
  {
   "cell_type": "code",
   "execution_count": 173,
   "metadata": {},
   "outputs": [
    {
     "data": {
      "text/plain": [
       "[20, 60, 140, 10, 240, 1400, 2, 70]"
      ]
     },
     "execution_count": 173,
     "metadata": {},
     "output_type": "execute_result"
    }
   ],
   "source": [
    "#컴프리헨션\n",
    "#(7) 다음 리스트가 가진 값에 두배(* 2)를 가지는 새로운 리스트를 만드시오. (리스트 컴프리헨션 이용)\n",
    "lst = [10, 30, 70, 5, 120, 700, 1, 35]\n",
    "result = [num * 2 for num in lst] # mapping\n",
    "result"
   ]
  },
  {
   "cell_type": "code",
   "execution_count": 180,
   "metadata": {},
   "outputs": [
    {
     "data": {
      "text/plain": [
       "[(10, 100),\n",
       " (30, 300),\n",
       " (70, 700),\n",
       " (5, 50),\n",
       " (5, 50),\n",
       " (120, 1200),\n",
       " (700, 7000),\n",
       " (1, 10),\n",
       " (35, 350),\n",
       " (35, 350)]"
      ]
     },
     "execution_count": 180,
     "metadata": {},
     "output_type": "execute_result"
    }
   ],
   "source": [
    "#(8) 다음 리스트가 가진 값에 10배의 값을 가지는 값을 (원래값, 10배값) 의 튜플묶음으로 가지는 리스트를 만드시오 (리스트 컴프리헨션 이용)\n",
    "# Ex) [(10,100), (30,300), .., (35, 350)]\n",
    "lst = [10, 30, 70, 5, 5, 120, 700, 1, 35, 35]\n",
    "result = [(num,num*10) for num in lst]\n",
    "result"
   ]
  },
  {
   "cell_type": "code",
   "execution_count": 183,
   "metadata": {},
   "outputs": [
    {
     "data": {
      "text/plain": [
       "[3, 33, 21, 33, 60, 120]"
      ]
     },
     "execution_count": 183,
     "metadata": {},
     "output_type": "execute_result"
    }
   ],
   "source": [
    "#(9) 다음 리스트가 가진 값들 중 3의 배수만 가지는 리스트를 만드시오. (리스트 컴프리헨션 이용)\n",
    "lst2 = [ 3, 20, 33, 21, 33, 8, 11, 10, 7, 17, 60, 120, 2]\n",
    "result = [num for num in lst2 if num%3==0] #filtering\n",
    "result"
   ]
  },
  {
   "cell_type": "code",
   "execution_count": 186,
   "metadata": {},
   "outputs": [
    {
     "data": {
      "text/plain": [
       "['a.exe', 'function.exe', 'b.exe', 'run.exe']"
      ]
     },
     "execution_count": 186,
     "metadata": {},
     "output_type": "execute_result"
    }
   ],
   "source": [
    "#(10) 다음 파일이름들을 담은 리스트에서 확장자가 exe인 파일만 골라서 새로운 리스트에 담으시오.(string의 endswith()함수 이용)\n",
    "file_name=[\"test.txt\", \"a.exe\", \"jupyter.bat\", \"function.exe\", \"b.exe\", \"cat.jpg\", \"dog.png\", \"run.exe\", \"i.dll\"]\n",
    "result = [file for file in file_name if file.endswith(\"exe\")]\n",
    "result"
   ]
  },
  {
   "cell_type": "code",
   "execution_count": 192,
   "metadata": {},
   "outputs": [
    {
     "data": {
      "text/plain": [
       "['mystroy.txt', 'jupyter.bat', 'function.exe']"
      ]
     },
     "execution_count": 192,
     "metadata": {},
     "output_type": "execute_result"
    }
   ],
   "source": [
    "#(11) 다음 중 10글자 이상인 파일명(확장자포함)만 가지는 리스트를 만드시오.\n",
    "file_name=[\"mystroy.txt\", \"a.exe\", \"jupyter.bat\", \"function.exe\", \"b.exe\", \"cat.jpg\", \"dog.png\", \"run.exe\", \"i.dll\"]\n",
    "result = [file for file in file_name if len(file)>=10]\n",
    "result"
   ]
  },
  {
   "cell_type": "code",
   "execution_count": 191,
   "metadata": {},
   "outputs": [
    {
     "data": {
      "text/plain": [
       "True"
      ]
     },
     "execution_count": 191,
     "metadata": {},
     "output_type": "execute_result"
    }
   ],
   "source": [
    "len(\"aaaaaaadfasdafa\")>=10"
   ]
  },
  {
   "cell_type": "code",
   "execution_count": 193,
   "metadata": {},
   "outputs": [
    {
     "data": {
      "text/plain": [
       "{'mystroy.txt': 11, 'jupyter.bat': 11, 'function.exe': 12}"
      ]
     },
     "execution_count": 193,
     "metadata": {},
     "output_type": "execute_result"
    }
   ],
   "source": [
    "# \"파일명\":글자수\n",
    "result = {file:len(file) for file in file_name if len(file)>=10}\n",
    "result"
   ]
  },
  {
   "cell_type": "code",
   "execution_count": null,
   "metadata": {},
   "outputs": [],
   "source": []
  },
  {
   "cell_type": "code",
   "execution_count": 226,
   "metadata": {},
   "outputs": [
    {
     "name": "stdout",
     "output_type": "stream",
     "text": [
      "1번째 시도\n",
      "1 ~ 100 사이 숫자를 입력하세요: 50\n",
      ">>>더 작은 숫자를 입력하세요\n",
      "--------------------------------------------\n",
      "- 2번째 시도\n",
      "1 ~ 100 사이 숫자를 입력하세요: 30\n",
      ">>>더 작은 숫자를 입력하세요\n",
      "--------------------------------------------\n",
      "- 3번째 시도\n",
      "1 ~ 100 사이 숫자를 입력하세요: 1\n",
      ">>>더 큰숫자를 입력하세요\n",
      "--------------------------------------------\n",
      "- 4번째 시도\n",
      "1 ~ 100 사이 숫자를 입력하세요: 40\n",
      ">>>더 작은 숫자를 입력하세요\n",
      "--------------------------------------------\n",
      "- 5번째 시도\n",
      "1 ~ 100 사이 숫자를 입력하세요: 35\n",
      ">>>더 작은 숫자를 입력하세요\n",
      "--------------------------------------------\n",
      "- 6번째 시도\n",
      "1 ~ 100 사이 숫자를 입력하세요: 20\n",
      ">>>더 큰숫자를 입력하세요\n",
      "--------------------------------------------\n",
      "- 7번째 시도\n",
      "1 ~ 100 사이 숫자를 입력하세요: 25\n",
      ">>>더 작은 숫자를 입력하세요\n",
      "--------------------------------------------\n",
      "- 8번째 시도\n",
      "1 ~ 100 사이 숫자를 입력하세요: 23\n",
      ">>>더 큰숫자를 입력하세요\n",
      "--------------------------------------------\n",
      "- 9번째 시도\n",
      "1 ~ 100 사이 숫자를 입력하세요: 24\n",
      "##################################################\n",
      "9번째 만에 성공했습니다.\n",
      "##################################################\n"
     ]
    }
   ],
   "source": [
    "import number_guess\n",
    "number_guess.guess_num()"
   ]
  },
  {
   "cell_type": "code",
   "execution_count": 224,
   "metadata": {},
   "outputs": [
    {
     "name": "stdout",
     "output_type": "stream",
     "text": [
      "2\n"
     ]
    }
   ],
   "source": [
    "# 예측할 숫자를 생성.\n",
    "import random\n",
    "num = random.randint(1,100) # 1 ~ 100(포함) 사이의 정수를 실행시마다 랜덤하게 반환.\n",
    "print(num)"
   ]
  },
  {
   "cell_type": "code",
   "execution_count": null,
   "metadata": {},
   "outputs": [],
   "source": [
    "1. 예측할 숫자를 생성 (1 ~ 100)\n",
    "2. 시도횟수를 저장할 변수 선언.\n",
    "3. 사용자로부터 숫자 입력받는다.\n",
    "4. 입력받은 숫자와 예측숫자를 비교한다.\n",
    "    4-1 같으면 몇번째 성공했는지 출력하고 종료\n",
    "    4-2 입력숫자가 더 큰경우 \"작은숫자를 입력하세요\" 출력하고 다시 입력받는다.\n",
    "    4-3 입력숫자가 더 작은 경우 \"더 큰숫자를 입력하세요\" 출력하고 다시 입력받는다.\n",
    "3-4 맞출때 까지 반복    "
   ]
  },
  {
   "cell_type": "code",
   "execution_count": 237,
   "metadata": {},
   "outputs": [
    {
     "name": "stdout",
     "output_type": "stream",
     "text": [
      "1번째 시도\n",
      "1 ~ 100 사이의 숫자를 입력하세요: 1\n",
      "1보다 더 큰 숫자를 입력하세요.\n",
      "==================================================\n",
      "2번째 시도\n",
      "1 ~ 100 사이의 숫자를 입력하세요: 2\n",
      "2보다 더 큰 숫자를 입력하세요.\n",
      "==================================================\n",
      "3번째 시도\n",
      "1 ~ 100 사이의 숫자를 입력하세요: 3\n",
      "3보다 더 큰 숫자를 입력하세요.\n",
      "==========\n",
      "실패했습니다. 최대시도횟수는 3입니다.\n",
      "==========\n"
     ]
    }
   ],
   "source": [
    "# 최대 시도 횟수 5\n",
    "import random\n",
    "num = random.randint(1, 100)  # 1.\n",
    "# print(\"예측할 숫자:\", num)\n",
    "try_count = 1 #2. 시도횟수 저장할 변수\n",
    "\n",
    "max_try = 3 # 최대 시도 횟수\n",
    "\n",
    "while True:\n",
    "    print(f\"{try_count}번째 시도\")\n",
    "    # 3. \n",
    "    guess_num = int(input(\"1 ~ 100 사이의 숫자를 입력하세요: \"))\n",
    "    #4.\n",
    "    if num==guess_num: #4-1.\n",
    "        print(f\"{try_count}번째 성공. 정답: {guess_num}\")\n",
    "        break\n",
    "    elif num < guess_num:\n",
    "        print(f\"{guess_num}보다 더 작은 숫자를 입력하세요.\")\n",
    "    elif num > guess_num:\n",
    "        print(f\"{guess_num}보다 더 큰 숫자를 입력하세요.\")\n",
    "    \n",
    "    if max_try == try_count:\n",
    "        print(\"=\"*50)\n",
    "        print(f\"실패했습니다. 최대시도횟수는 {max_try}번 입니다.\")\n",
    "        print(\"=\"*50)\n",
    "        break\n",
    "    \n",
    "    try_count += 1\n",
    "    print(\"=\"*50)"
   ]
  },
  {
   "cell_type": "code",
   "execution_count": 238,
   "metadata": {},
   "outputs": [
    {
     "name": "stdout",
     "output_type": "stream",
     "text": [
      "10\n"
     ]
    }
   ],
   "source": [
    "print(10)"
   ]
  },
  {
   "cell_type": "code",
   "execution_count": null,
   "metadata": {},
   "outputs": [],
   "source": []
  },
  {
   "cell_type": "code",
   "execution_count": null,
   "metadata": {},
   "outputs": [],
   "source": []
  },
  {
   "cell_type": "code",
   "execution_count": null,
   "metadata": {},
   "outputs": [],
   "source": []
  },
  {
   "cell_type": "code",
   "execution_count": null,
   "metadata": {},
   "outputs": [],
   "source": []
  },
  {
   "cell_type": "code",
   "execution_count": null,
   "metadata": {},
   "outputs": [],
   "source": []
  },
  {
   "cell_type": "code",
   "execution_count": null,
   "metadata": {},
   "outputs": [],
   "source": []
  },
  {
   "cell_type": "code",
   "execution_count": null,
   "metadata": {},
   "outputs": [],
   "source": []
  },
  {
   "cell_type": "code",
   "execution_count": null,
   "metadata": {},
   "outputs": [],
   "source": []
  },
  {
   "cell_type": "code",
   "execution_count": null,
   "metadata": {},
   "outputs": [],
   "source": []
  }
 ],
 "metadata": {
  "kernelspec": {
   "display_name": "Python 3",
   "language": "python",
   "name": "python3"
  },
  "language_info": {
   "codemirror_mode": {
    "name": "ipython",
    "version": 3
   },
   "file_extension": ".py",
   "mimetype": "text/x-python",
   "name": "python",
   "nbconvert_exporter": "python",
   "pygments_lexer": "ipython3",
   "version": "3.8.5"
  }
 },
 "nbformat": 4,
 "nbformat_minor": 4
}
