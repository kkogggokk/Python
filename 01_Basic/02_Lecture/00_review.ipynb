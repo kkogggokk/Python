{
 "cells": [
  {
   "cell_type": "code",
   "execution_count": 22,
   "metadata": {},
   "outputs": [],
   "source": [
    "class Person :\n",
    "    pass #TODO"
   ]
  },
  {
   "cell_type": "code",
   "execution_count": 23,
   "metadata": {},
   "outputs": [
    {
     "name": "stdout",
     "output_type": "stream",
     "text": [
      "<class '__main__.Person'>\n"
     ]
    },
    {
     "data": {
      "text/plain": [
       "__main__.Person"
      ]
     },
     "execution_count": 23,
     "metadata": {},
     "output_type": "execute_result"
    }
   ],
   "source": [
    "p1 = Person() \n",
    "print(type(p1))\n",
    "type(p1)"
   ]
  },
  {
   "cell_type": "code",
   "execution_count": 24,
   "metadata": {},
   "outputs": [],
   "source": [
    "p1.name = 'hong'\n",
    "p1.age = 30\n",
    "p1.address = 'seoul'"
   ]
  },
  {
   "cell_type": "code",
   "execution_count": 25,
   "metadata": {},
   "outputs": [
    {
     "name": "stdout",
     "output_type": "stream",
     "text": [
      "hong\n",
      "30\n",
      "seoul\n"
     ]
    }
   ],
   "source": [
    "print(p1.name)\n",
    "print(p1.age)\n",
    "print(p1.address)"
   ]
  },
  {
   "cell_type": "code",
   "execution_count": 26,
   "metadata": {},
   "outputs": [],
   "source": [
    "class Person :\n",
    "    def __init__(self, name, age, address = None) :\n",
    "        self.name = name\n",
    "        self.age = age\n",
    "        self.address = address"
   ]
  },
  {
   "cell_type": "code",
   "execution_count": 27,
   "metadata": {},
   "outputs": [
    {
     "name": "stdout",
     "output_type": "stream",
     "text": [
      "park 40 None\n"
     ]
    }
   ],
   "source": [
    "p3 = Person('park',40)\n",
    "print(p3.name, p3.age, p3.address)"
   ]
  },
  {
   "cell_type": "code",
   "execution_count": 28,
   "metadata": {},
   "outputs": [
    {
     "name": "stdout",
     "output_type": "stream",
     "text": [
      "lee 30 seoul\n"
     ]
    }
   ],
   "source": [
    "p1 = Person('lee',30,'seoul')\n",
    "print(p1.name, p1.age, p1.address)"
   ]
  },
  {
   "cell_type": "code",
   "execution_count": 29,
   "metadata": {},
   "outputs": [
    {
     "name": "stdout",
     "output_type": "stream",
     "text": [
      "hong 10 Incheon\n"
     ]
    }
   ],
   "source": [
    "p2 = Person('hong',10,'Incheon')\n",
    "print(p2.name, p2.age, p2.address)"
   ]
  },
  {
   "cell_type": "code",
   "execution_count": 30,
   "metadata": {},
   "outputs": [
    {
     "data": {
      "text/plain": [
       "100"
      ]
     },
     "execution_count": 30,
     "metadata": {},
     "output_type": "execute_result"
    }
   ],
   "source": [
    "p1.age = 100 #변경, 재할당\n",
    "p1.age"
   ]
  },
  {
   "cell_type": "code",
   "execution_count": 31,
   "metadata": {},
   "outputs": [],
   "source": [
    "class Person2 :\n",
    "    '''\n",
    "    클래스에 대한 설명 독스트링\n",
    "    '''\n",
    "    \n",
    "    #생성자 \n",
    "    def __init__(self,name, age, address = None) :\n",
    "        self.name = name \n",
    "        self.age = age \n",
    "        self.address = address \n",
    "        \n",
    "    #모든 인스턴스 변수의 값을 출력하는 메소드 \n",
    "    def print_info(self) :\n",
    "        '''\n",
    "        모든 인스턴스 변수의 값을 출력하는 메소드\n",
    "        '''\n",
    "        print(f\"name : {self.name}, age : {self.age}, address : {self.address}\")\n",
    "        \n",
    "    def add_age(self,add_age = 0) : \n",
    "        self.age += add_age"
   ]
  },
  {
   "cell_type": "code",
   "execution_count": 32,
   "metadata": {},
   "outputs": [],
   "source": [
    "p1 = Person2('kim', 45, 'busan')\n",
    "p2 = Person2('park',30,'seoul')"
   ]
  },
  {
   "cell_type": "code",
   "execution_count": 33,
   "metadata": {},
   "outputs": [],
   "source": [
    "?Person2"
   ]
  },
  {
   "cell_type": "code",
   "execution_count": 34,
   "metadata": {},
   "outputs": [],
   "source": [
    "?p1.print_info"
   ]
  },
  {
   "cell_type": "code",
   "execution_count": 35,
   "metadata": {},
   "outputs": [
    {
     "name": "stdout",
     "output_type": "stream",
     "text": [
      "name : kim, age : 45, address : busan\n",
      "name : park, age : 30, address : seoul\n"
     ]
    }
   ],
   "source": [
    "p1.print_info()\n",
    "p2.print_info()"
   ]
  },
  {
   "cell_type": "code",
   "execution_count": 36,
   "metadata": {},
   "outputs": [
    {
     "name": "stdout",
     "output_type": "stream",
     "text": [
      "name : kim, age : 48, address : busan\n"
     ]
    }
   ],
   "source": [
    "p1.add_age(3)\n",
    "p1.age\n",
    "p1.print_info()"
   ]
  },
  {
   "cell_type": "code",
   "execution_count": 37,
   "metadata": {},
   "outputs": [
    {
     "name": "stdout",
     "output_type": "stream",
     "text": [
      "name : , age : -100, address : busan\n"
     ]
    }
   ],
   "source": [
    "p1.name = ''\n",
    "p1.age = -100\n",
    "p1.print_info()"
   ]
  },
  {
   "cell_type": "code",
   "execution_count": 38,
   "metadata": {},
   "outputs": [],
   "source": [
    "### information Hiding"
   ]
  },
  {
   "cell_type": "code",
   "execution_count": 39,
   "metadata": {},
   "outputs": [],
   "source": [
    "class Mydate : \n",
    "    \n",
    "    def __init__(self, year, month, day) : \n",
    "        self.__year = year\n",
    "        self.__month = month \n",
    "        self.__day = day \n",
    "        \n",
    "    def set_month(self, month) :\n",
    "        if month >= 1 and month <= 12 :\n",
    "            self.__month = month\n",
    "        else : \n",
    "            print(f'{month}는 잘못된 월 입니다. 1 - 12까지 입력')\n",
    "            \n",
    "    def get_month(self) :\n",
    "        return self.__month"
   ]
  },
  {
   "cell_type": "code",
   "execution_count": 40,
   "metadata": {},
   "outputs": [],
   "source": [
    "date = Mydate(2021,13,13)"
   ]
  },
  {
   "cell_type": "code",
   "execution_count": 41,
   "metadata": {},
   "outputs": [
    {
     "ename": "AttributeError",
     "evalue": "'Mydate' object has no attribute '__year'",
     "output_type": "error",
     "traceback": [
      "\u001b[0;31m---------------------------------------------------------------------------\u001b[0m",
      "\u001b[0;31mAttributeError\u001b[0m                            Traceback (most recent call last)",
      "\u001b[0;32m<ipython-input-41-306eeef52b95>\u001b[0m in \u001b[0;36m<module>\u001b[0;34m\u001b[0m\n\u001b[0;32m----> 1\u001b[0;31m \u001b[0mprint\u001b[0m\u001b[0;34m(\u001b[0m\u001b[0mdate\u001b[0m\u001b[0;34m.\u001b[0m\u001b[0m__year\u001b[0m\u001b[0;34m)\u001b[0m\u001b[0;34m\u001b[0m\u001b[0;34m\u001b[0m\u001b[0m\n\u001b[0m\u001b[1;32m      2\u001b[0m \u001b[0;31m#은닉된 정보이기때문에 보여주지 않는거? 맞나? #CHECK\u001b[0m\u001b[0;34m\u001b[0m\u001b[0;34m\u001b[0m\u001b[0;34m\u001b[0m\u001b[0m\n",
      "\u001b[0;31mAttributeError\u001b[0m: 'Mydate' object has no attribute '__year'"
     ]
    }
   ],
   "source": [
    "print(date.__year)\n",
    "#은닉된 정보이기때문에 보여주지 않는거? 맞나? #CHECK "
   ]
  },
  {
   "cell_type": "code",
   "execution_count": null,
   "metadata": {},
   "outputs": [],
   "source": [
    "#숨겨진 정보를 변경하기 위해서 셋 메소드 필요 --> 셋 , 겟 정의 후 -> 프리퍼런스 \n",
    "print(date.get_year)\n",
    "print(date.get_year())"
   ]
  },
  {
   "cell_type": "code",
   "execution_count": null,
   "metadata": {},
   "outputs": [],
   "source": [
    "print(date.get_month())"
   ]
  },
  {
   "cell_type": "code",
   "execution_count": null,
   "metadata": {},
   "outputs": [],
   "source": [
    "date.set_month(1000) #변경할때 확인 "
   ]
  },
  {
   "cell_type": "code",
   "execution_count": null,
   "metadata": {},
   "outputs": [],
   "source": [
    "date.__dict__"
   ]
  },
  {
   "cell_type": "code",
   "execution_count": null,
   "metadata": {},
   "outputs": [],
   "source": [
    "date._Mydate__year "
   ]
  },
  {
   "cell_type": "code",
   "execution_count": null,
   "metadata": {},
   "outputs": [],
   "source": [
    "date._Mydate__month = 1000 #클래스이름_변수이름 으로 해서 직접 변경 가능"
   ]
  },
  {
   "cell_type": "code",
   "execution_count": null,
   "metadata": {},
   "outputs": [],
   "source": [
    "date.get_month() #변경 확인 "
   ]
  },
  {
   "cell_type": "code",
   "execution_count": null,
   "metadata": {},
   "outputs": [],
   "source": [
    "date.__dict__"
   ]
  },
  {
   "cell_type": "code",
   "execution_count": null,
   "metadata": {},
   "outputs": [],
   "source": [
    "class Mydate2 :\n",
    "    \n",
    "    def __init__(self, year, month, day) :\n",
    "        self.__year = year\n",
    "        self.__month = month \n",
    "        self.__day = day\n",
    "        \n",
    "    #set \n",
    "    def set_year(self, year) : \n",
    "        self.__year = year \n",
    "    \n",
    "    def set_month(self, month) :\n",
    "        self.__month = month \n",
    "    \n",
    "    def set_day(self, day) :\n",
    "        self.__day = day \n",
    "    \n",
    "    #get \n",
    "    def get_year(self) :\n",
    "        return self.__year\n",
    "    \n",
    "    def get_month(self) :\n",
    "        return self.__month\n",
    "    \n",
    "    def get_day(self) :\n",
    "        return self.__day \n",
    "    \n",
    "    #property(getter, setter) \n",
    "    year = property(get_year, set_year)\n",
    "    month = property(get_month, set_month)\n",
    "    day = property(get_day, set_day)"
   ]
  },
  {
   "cell_type": "code",
   "execution_count": null,
   "metadata": {},
   "outputs": [],
   "source": [
    "today = Mydate2(2020,1,14)\n",
    "print(today.month)"
   ]
  },
  {
   "cell_type": "code",
   "execution_count": null,
   "metadata": {},
   "outputs": [],
   "source": [
    "today.month = 10 \n",
    "print(today.month)"
   ]
  },
  {
   "cell_type": "code",
   "execution_count": null,
   "metadata": {},
   "outputs": [],
   "source": [
    "today.get_year()"
   ]
  },
  {
   "cell_type": "code",
   "execution_count": null,
   "metadata": {},
   "outputs": [],
   "source": [
    "today.set_year(2000)"
   ]
  },
  {
   "cell_type": "code",
   "execution_count": null,
   "metadata": {},
   "outputs": [],
   "source": [
    "today.year"
   ]
  },
  {
   "cell_type": "code",
   "execution_count": null,
   "metadata": {},
   "outputs": [],
   "source": [
    "today.__dict__"
   ]
  },
  {
   "cell_type": "code",
   "execution_count": null,
   "metadata": {},
   "outputs": [],
   "source": [
    "class Mydate3 :\n",
    "    \n",
    "    def __init__(self, year, month, day) :\n",
    "        self.__year = year\n",
    "        self.__month = month \n",
    "        self.__day = day\n",
    "        \n",
    "    #getter -> setter \n",
    "    @property \n",
    "    def year(self) :\n",
    "        return self.__year \n",
    "    \n",
    "    @year.setter\n",
    "    def year(self, year) :\n",
    "        self.__year = year \n",
    "        \n",
    "    @property \n",
    "    def month(self) :\n",
    "        return self.__month\n",
    "    \n",
    "    @month.setter\n",
    "    def month(self, month) :\n",
    "        self.__month = month\n",
    "        \n",
    "    @property \n",
    "    def day(self) :\n",
    "        return self.__day \n",
    "    \n",
    "    @day.setter\n",
    "    def day(self, day) :\n",
    "        self.__day = day "
   ]
  },
  {
   "cell_type": "code",
   "execution_count": null,
   "metadata": {},
   "outputs": [],
   "source": [
    "today = Mydate3(2021, 1, 14)"
   ]
  },
  {
   "cell_type": "code",
   "execution_count": null,
   "metadata": {},
   "outputs": [],
   "source": [
    "today.day = 30\n",
    "print(today.day)"
   ]
  },
  {
   "cell_type": "code",
   "execution_count": null,
   "metadata": {},
   "outputs": [],
   "source": [
    "today.month = 10 \n",
    "print(today.month)"
   ]
  },
  {
   "cell_type": "code",
   "execution_count": null,
   "metadata": {},
   "outputs": [],
   "source": [
    "today.year = 2010\n",
    "print(today.year)"
   ]
  },
  {
   "cell_type": "code",
   "execution_count": null,
   "metadata": {},
   "outputs": [],
   "source": [
    "today.__dict__"
   ]
  },
  {
   "cell_type": "markdown",
   "metadata": {},
   "source": [
    "# 상속"
   ]
  },
  {
   "cell_type": "code",
   "execution_count": null,
   "metadata": {},
   "outputs": [],
   "source": [
    "class Person : \n",
    "    \n",
    "    def eat(self) : \n",
    "        print('사람이 먹는다')"
   ]
  },
  {
   "cell_type": "code",
   "execution_count": null,
   "metadata": {},
   "outputs": [],
   "source": [
    "class Student(Person) :\n",
    "    \n",
    "    def study(self) :\n",
    "        print('학생이 공부한다')"
   ]
  },
  {
   "cell_type": "code",
   "execution_count": null,
   "metadata": {},
   "outputs": [],
   "source": [
    "class Teacher(Person) :\n",
    "    \n",
    "    def teach(self) :\n",
    "        print('선생이 가르친다')"
   ]
  },
  {
   "cell_type": "code",
   "execution_count": null,
   "metadata": {},
   "outputs": [],
   "source": [
    "s = Student()\n",
    "s.eat()\n",
    "s.study()\n",
    "s.teach() #error 종속된 괸계가 아님"
   ]
  },
  {
   "cell_type": "code",
   "execution_count": null,
   "metadata": {},
   "outputs": [],
   "source": [
    "t = Teacher() \n",
    "t.teach()\n",
    "t.eat()"
   ]
  },
  {
   "cell_type": "code",
   "execution_count": null,
   "metadata": {},
   "outputs": [],
   "source": [
    "class Student2(Person) :\n",
    "    def eat(self) :\n",
    "        print('학생이 먹는다')\n",
    "    \n",
    "    def study(self) :\n",
    "        print('학생이 공부한다')"
   ]
  },
  {
   "cell_type": "code",
   "execution_count": null,
   "metadata": {},
   "outputs": [],
   "source": [
    "s2 = Student2()\n",
    "s2.eat()\n",
    "s2.study()"
   ]
  },
  {
   "cell_type": "code",
   "execution_count": 45,
   "metadata": {},
   "outputs": [],
   "source": [
    "class Person : \n",
    "    \n",
    "    def __init__(self, name, age) :\n",
    "        self.name = name\n",
    "        self.age = age\n",
    "        \n",
    "    def eat(self) :\n",
    "        print(f\"{self.name}님이 먹는다.\")\n",
    "    \n",
    "    def get_info(self) :\n",
    "        return f\"이름 : {self.name}, 나이 : {self.age}\""
   ]
  },
  {
   "cell_type": "code",
   "execution_count": 46,
   "metadata": {},
   "outputs": [],
   "source": [
    "class Student(Person) :\n",
    "    \n",
    "    def __init__(self, name, age, school_name) :\n",
    "        super().__init__(name, age)\n",
    "        self.school_name = school_name \n",
    "        \n",
    "    def study(self) : \n",
    "        print(f'{self.name}님이 공부한다')\n",
    "    \n",
    "    def get_info(self) :\n",
    "        info = super().get_info()+\", 학교명 : {}\".format(self.school_name)\n",
    "        return info"
   ]
  },
  {
   "cell_type": "code",
   "execution_count": 47,
   "metadata": {},
   "outputs": [],
   "source": [
    "s = Student('park',15,'Aschool')\n",
    "p = Person('kim',20)"
   ]
  },
  {
   "cell_type": "code",
   "execution_count": 48,
   "metadata": {},
   "outputs": [
    {
     "name": "stdout",
     "output_type": "stream",
     "text": [
      "Aschool\n",
      "park 15\n"
     ]
    }
   ],
   "source": [
    "print(s.school_name)\n",
    "print(s.name, s.age)"
   ]
  },
  {
   "cell_type": "code",
   "execution_count": 49,
   "metadata": {},
   "outputs": [
    {
     "name": "stdout",
     "output_type": "stream",
     "text": [
      "park님이 공부한다\n"
     ]
    }
   ],
   "source": [
    "s.study()"
   ]
  },
  {
   "cell_type": "code",
   "execution_count": 50,
   "metadata": {},
   "outputs": [
    {
     "name": "stdout",
     "output_type": "stream",
     "text": [
      "park님이 먹는다.\n"
     ]
    }
   ],
   "source": [
    "s.eat()"
   ]
  },
  {
   "cell_type": "code",
   "execution_count": 51,
   "metadata": {},
   "outputs": [
    {
     "name": "stdout",
     "output_type": "stream",
     "text": [
      "이름 : park, 나이 : 15, 학교명 : Aschool\n"
     ]
    }
   ],
   "source": [
    "info = s.get_info()\n",
    "print(info)"
   ]
  },
  {
   "cell_type": "markdown",
   "metadata": {},
   "source": [
    "# 다중상속"
   ]
  },
  {
   "cell_type": "code",
   "execution_count": 52,
   "metadata": {},
   "outputs": [],
   "source": [
    "class Printer : \n",
    "    def print(self) :\n",
    "        print('print')\n",
    "    \n",
    "    def test(self) :\n",
    "        print('print test')\n",
    "    \n",
    "class Saver :\n",
    "    \n",
    "    def save(self) :\n",
    "        print('save')\n",
    "        \n",
    "    def test(self) : \n",
    "        print('save test')"
   ]
  },
  {
   "cell_type": "code",
   "execution_count": 53,
   "metadata": {},
   "outputs": [],
   "source": [
    "class WordProcessor(Printer, Saver) :\n",
    "    def write(self) :\n",
    "        print('글을작성한다.')\n",
    "        \n",
    "    def test(self) :\n",
    "        print('워드를 테스트')"
   ]
  },
  {
   "cell_type": "code",
   "execution_count": 54,
   "metadata": {},
   "outputs": [
    {
     "name": "stdout",
     "output_type": "stream",
     "text": [
      "글을작성한다.\n",
      "print\n",
      "save\n"
     ]
    }
   ],
   "source": [
    "wp = WordProcessor()\n",
    "wp.write()\n",
    "wp.print()\n",
    "wp.save()"
   ]
  },
  {
   "cell_type": "code",
   "execution_count": 55,
   "metadata": {},
   "outputs": [
    {
     "name": "stdout",
     "output_type": "stream",
     "text": [
      "워드를 테스트\n"
     ]
    }
   ],
   "source": [
    "wp.test()"
   ]
  },
  {
   "cell_type": "markdown",
   "metadata": {},
   "source": [
    "# 상속/객체관련 메소드, 변수 "
   ]
  },
  {
   "cell_type": "markdown",
   "metadata": {},
   "source": [
    "- isinstance(객체, 클래스) : 객체가 클래스로부터 생성되었는지 여부 "
   ]
  },
  {
   "cell_type": "code",
   "execution_count": 56,
   "metadata": {},
   "outputs": [],
   "source": [
    "def test(var) : \n",
    "    \n",
    "    if type(var) == int :\n",
    "        print(var+20) \n",
    "    else :\n",
    "        print('정수만 가능')"
   ]
  },
  {
   "cell_type": "code",
   "execution_count": 57,
   "metadata": {},
   "outputs": [
    {
     "name": "stdout",
     "output_type": "stream",
     "text": [
      "30\n",
      "정수만 가능\n"
     ]
    }
   ],
   "source": [
    "test(10)\n",
    "test('abc')"
   ]
  },
  {
   "cell_type": "code",
   "execution_count": 58,
   "metadata": {},
   "outputs": [
    {
     "data": {
      "text/plain": [
       "(True, False)"
      ]
     },
     "execution_count": 58,
     "metadata": {},
     "output_type": "execute_result"
    }
   ],
   "source": [
    "p = Student('a',20,'c')\n",
    "isinstance(p,Student), isinstance(p,WordProcessor)"
   ]
  },
  {
   "cell_type": "code",
   "execution_count": 59,
   "metadata": {},
   "outputs": [
    {
     "data": {
      "text/plain": [
       "(True, False)"
      ]
     },
     "execution_count": 59,
     "metadata": {},
     "output_type": "execute_result"
    }
   ],
   "source": [
    "isinstance('abc',str) , isinstance('abc',int)"
   ]
  },
  {
   "cell_type": "code",
   "execution_count": 60,
   "metadata": {},
   "outputs": [
    {
     "data": {
      "text/plain": [
       "True"
      ]
     },
     "execution_count": 60,
     "metadata": {},
     "output_type": "execute_result"
    }
   ],
   "source": [
    "wp = WordProcessor()\n",
    "isinstance(wp,WordProcessor)"
   ]
  },
  {
   "cell_type": "code",
   "execution_count": 61,
   "metadata": {},
   "outputs": [
    {
     "data": {
      "text/plain": [
       "(True, True)"
      ]
     },
     "execution_count": 61,
     "metadata": {},
     "output_type": "execute_result"
    }
   ],
   "source": [
    "isinstance(wp,Saver), isinstance(wp,Printer) #원래 트루나 나오면 안되지만 타입을 물어보는 거기때문에 트루가 나옴"
   ]
  },
  {
   "cell_type": "markdown",
   "metadata": {},
   "source": [
    "- 객체\\_\\_dict\\_\\_ : 객체의 속성정보를 dictionary로 반환 \n",
    "    - key : 속성명 \n",
    "    - value : 속성값"
   ]
  },
  {
   "cell_type": "code",
   "execution_count": null,
   "metadata": {},
   "outputs": [],
   "source": [
    "p.__dict__"
   ]
  },
  {
   "cell_type": "code",
   "execution_count": null,
   "metadata": {},
   "outputs": [],
   "source": [
    "p.__class__"
   ]
  },
  {
   "cell_type": "markdown",
   "metadata": {},
   "source": [
    "# 특수메소드 (매직메소드, 던더메소드)\n",
    "- \\_\\_str\\_\\_ : ★\n",
    "- \\_\\_repr\\_\\_ :\n",
    "- \\_\\_eq\\_\\_  : \n",
    "- \\_\\_gt\\_\\_ : \n",
    "- \\_\\_lt\\_\\_\n",
    "- \\_\\_ge\\_\\_ :\n",
    "- \\_\\_le\\_\\_\n",
    "- \\_\\_ne\\_\\_\n",
    "- \\_\\_add\\_\\_\n",
    "- \\_\\_sub\\_\\_\n",
    "- \\_\\_mul\\_\\_\n",
    "- \\_\\_truediv\\_\\_\n",
    "- \\_\\_floordiv\\_\\_\n",
    "- \\_\\_mod\\_\\_"
   ]
  },
  {
   "cell_type": "code",
   "execution_count": null,
   "metadata": {},
   "outputs": [],
   "source": [
    "class Person :\n",
    "    def __init__(self, name, age) :\n",
    "        self.name = name\n",
    "        self.age = age \n",
    "        \n",
    "    def __str__(self) : \n",
    "        '''\n",
    "        객체를 문자열로 변환하는 메소드 \n",
    "        내장함수 str(객체)과 연동\n",
    "        [반환값]\n",
    "            str : 객체의 정보(데이터) -> instance변수들\n",
    "        '''\n",
    "        return f\"name : {self.name}, age : {self.age}\"\n",
    "    \n",
    "    def __repr__(self) : #CHECK\n",
    "        '''\n",
    "        객체를 표현하는 표현식을 문자열로 만들어 반환.\n",
    "        내장함수 repr(객체)와 연동\n",
    "        [반환값]\n",
    "            str : 객체 생성했던 코드를 문자열로 반환\n",
    "        '''\n",
    "        return f'Person(\"{self.name}\", {self.age})''\n",
    "    \n",
    "    "
   ]
  },
  {
   "cell_type": "code",
   "execution_count": null,
   "metadata": {},
   "outputs": [],
   "source": [
    "p1 = Person('hong',20)\n",
    "p2 = Person('hong',20) "
   ]
  },
  {
   "cell_type": "code",
   "execution_count": null,
   "metadata": {},
   "outputs": [],
   "source": [
    "p1 == p2"
   ]
  },
  {
   "cell_type": "code",
   "execution_count": null,
   "metadata": {},
   "outputs": [],
   "source": []
  }
 ],
 "metadata": {
  "kernelspec": {
   "display_name": "Python 3",
   "language": "python",
   "name": "python3"
  },
  "language_info": {
   "codemirror_mode": {
    "name": "ipython",
    "version": 3
   },
   "file_extension": ".py",
   "mimetype": "text/x-python",
   "name": "python",
   "nbconvert_exporter": "python",
   "pygments_lexer": "ipython3",
   "version": "3.8.5"
  }
 },
 "nbformat": 4,
 "nbformat_minor": 4
}
