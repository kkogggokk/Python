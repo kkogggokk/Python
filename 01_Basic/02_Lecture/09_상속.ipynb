{
 "cells": [
  {
   "cell_type": "markdown",
   "metadata": {},
   "source": [
    "# 상속 (상속 is a)\n",
    "- 기존 클래스를 확장하여 인스턴스 변수나 메소드를 추가하는 방식\n",
    "    - 기반(base), 상위(super),부모(parent) 클래스 : 물려주는 클래스, 좀 더 추상적 \n",
    "    - 파생(Derived),하위(sub), 자식(chile) 클래스 : 상속하는 클래스, 좀 더 구체적\n",
    "```python\n",
    "class 클래스명(상위클래스[,상위클래스,...]) :\n",
    "    코드\n",
    " \n",
    "\n",
    "    "
   ]
  },
  {
   "cell_type": "code",
   "execution_count": 18,
   "metadata": {},
   "outputs": [],
   "source": [
    "class Person : \n",
    "    \n",
    "    def eat(self) :\n",
    "        print(\"사람이 먹는다.\") # 모든 하위클래스들에 적용될 수 있는 구현 -> 메소드의 구현이 추상적 \n",
    "    "
   ]
  },
  {
   "cell_type": "code",
   "execution_count": 19,
   "metadata": {},
   "outputs": [],
   "source": [
    "# eat(), study() \n",
    "# person : super class\n",
    "# student : sub class \n",
    "class Student(Person) :\n",
    "\n",
    "    def study(self) :\n",
    "        print(\"학생이 공부한다.\")"
   ]
  },
  {
   "cell_type": "code",
   "execution_count": 20,
   "metadata": {},
   "outputs": [],
   "source": [
    "class Teacher(Person) :\n",
    "    def teach(self) :\n",
    "        print(\"선생이 가르친다.\")"
   ]
  },
  {
   "cell_type": "code",
   "execution_count": 21,
   "metadata": {},
   "outputs": [
    {
     "name": "stdout",
     "output_type": "stream",
     "text": [
      "학생이 공부한다.\n"
     ]
    }
   ],
   "source": [
    "s = Student()\n",
    "s.study()"
   ]
  },
  {
   "cell_type": "code",
   "execution_count": 22,
   "metadata": {},
   "outputs": [
    {
     "name": "stdout",
     "output_type": "stream",
     "text": [
      "사람이 먹는다.\n"
     ]
    }
   ],
   "source": [
    "s.eat()"
   ]
  },
  {
   "cell_type": "code",
   "execution_count": 23,
   "metadata": {},
   "outputs": [
    {
     "name": "stdout",
     "output_type": "stream",
     "text": [
      "선생이 가르친다.\n",
      "사람이 먹는다.\n"
     ]
    }
   ],
   "source": [
    "t = Teacher()\n",
    "t.teach()\n",
    "t.eat()"
   ]
  },
  {
   "cell_type": "code",
   "execution_count": 24,
   "metadata": {},
   "outputs": [
    {
     "ename": "AttributeError",
     "evalue": "'Teacher' object has no attribute 'study'",
     "output_type": "error",
     "traceback": [
      "\u001b[0;31m---------------------------------------------------------------------------\u001b[0m",
      "\u001b[0;31mAttributeError\u001b[0m                            Traceback (most recent call last)",
      "\u001b[0;32m<ipython-input-24-f8b626a2044c>\u001b[0m in \u001b[0;36m<module>\u001b[0;34m\u001b[0m\n\u001b[0;32m----> 1\u001b[0;31m \u001b[0mt\u001b[0m\u001b[0;34m.\u001b[0m\u001b[0mstudy\u001b[0m\u001b[0;34m(\u001b[0m\u001b[0;34m)\u001b[0m \u001b[0;31m#error , 별개의 관계이다.\u001b[0m\u001b[0;34m\u001b[0m\u001b[0;34m\u001b[0m\u001b[0m\n\u001b[0m",
      "\u001b[0;31mAttributeError\u001b[0m: 'Teacher' object has no attribute 'study'"
     ]
    }
   ],
   "source": [
    "t.study() #error , 별개의 관계이다. "
   ]
  },
  {
   "cell_type": "code",
   "execution_count": 29,
   "metadata": {},
   "outputs": [],
   "source": [
    "#상속받은 메소드를 하위 클래스에서 재정의 할 수 있다. \n",
    "#메소드 오버라이딩(Method Overriding)\n",
    "#상위 클래스에 정의된 메소드는 추상적이므로 하위클래스에 그 클래스가 해야하는 동작에 맞게 구현을 재정의 하는 것. \n",
    "class Student2(Person) :\n",
    "    def eat(self) : \n",
    "        print(\"학생이 먹는다.\")\n",
    "    \n",
    "    def study(self) :\n",
    "        print(\"학생이 공부한다.\")"
   ]
  },
  {
   "cell_type": "code",
   "execution_count": 28,
   "metadata": {},
   "outputs": [
    {
     "name": "stdout",
     "output_type": "stream",
     "text": [
      "학생이 먹는다.\n",
      "학생이 공부한다.\n"
     ]
    }
   ],
   "source": [
    "s2 = Student2()\n",
    "s2.eat() # 구체적인 스튜던트2.잇()으로 \n",
    "s2.study()"
   ]
  },
  {
   "cell_type": "markdown",
   "metadata": {},
   "source": [
    "- 메소드 재정의 ()"
   ]
  },
  {
   "cell_type": "code",
   "execution_count": 36,
   "metadata": {},
   "outputs": [],
   "source": [
    "class Person :\n",
    "    def __init__ (self,name, age) :\n",
    "        self.name = name\n",
    "        self.age = age\n",
    "        \n",
    "    def eat(self) :\n",
    "        print(f\"{self.name}님이 먹는다.\")\n",
    "    \n",
    "    #사람의 모든 인스턴스 변수들의 값들(전체정보)을 묶어서 반환\n",
    "    def get_info(self) :\n",
    "        return f\"이름 : {self.name}, 나이 : {self.age}\""
   ]
  },
  {
   "cell_type": "code",
   "execution_count": 37,
   "metadata": {},
   "outputs": [
    {
     "name": "stdout",
     "output_type": "stream",
     "text": [
      "kim님이 먹는다.\n",
      "이름 : kim, 나이 : 20\n"
     ]
    }
   ],
   "source": [
    "p = Person(\"kim\",20)\n",
    "p.eat()\n",
    "info = p.get_info()\n",
    "print(info)"
   ]
  },
  {
   "cell_type": "markdown",
   "metadata": {},
   "source": [
    "- 객체를 만든다.\n",
    "    - 상속 : 상위/하위 클래스의 객체를 모두 생선, 상속으로 묶인다.\n",
    "- 생성자호출 (__init__)\n",
    "    - 상속 : super().__init__()을 이용해 하위클래스의 생성자에서 상위클래스의 생성자를 호출할 수 있다. "
   ]
  },
  {
   "cell_type": "code",
   "execution_count": 69,
   "metadata": {},
   "outputs": [],
   "source": [
    "class Student(Person) : \n",
    "    \n",
    "    def __init__(self,name, age, school_name) : \n",
    "        #Persond에서 상속받은 네임과 에이지를 가져오려면? \n",
    "        #상위클래스()의 객체에 name, age는 전달\n",
    "        super().__init__(name, age)\n",
    "        self.school_name = school_name #student 속성\n",
    "        \n",
    "    def study(self) :\n",
    "        print(f\"{self.name}이(가) 공부한다\")\n",
    "        \n",
    "    def get_info(self) :\n",
    "        info = super().get_info()+\", 학교명 : {}\".format(self.school_name)\n",
    "        return info\n",
    "#         return f\"이름 : {self.name}, 나이 : {self.age}, 학교명 : {self.school_name}\""
   ]
  },
  {
   "cell_type": "code",
   "execution_count": 70,
   "metadata": {},
   "outputs": [],
   "source": [
    "s = Student('lee',15,'Aschool')"
   ]
  },
  {
   "cell_type": "code",
   "execution_count": 71,
   "metadata": {},
   "outputs": [
    {
     "name": "stdout",
     "output_type": "stream",
     "text": [
      "Aschool\n",
      "lee 15\n"
     ]
    }
   ],
   "source": [
    "print(s.school_name)\n",
    "print(s.name, s.age)"
   ]
  },
  {
   "cell_type": "code",
   "execution_count": 72,
   "metadata": {},
   "outputs": [],
   "source": [
    "s2 = Student('park',14,'Bschool')"
   ]
  },
  {
   "cell_type": "code",
   "execution_count": 73,
   "metadata": {},
   "outputs": [
    {
     "name": "stdout",
     "output_type": "stream",
     "text": [
      "lee이(가) 공부한다\n"
     ]
    }
   ],
   "source": [
    "s.study()"
   ]
  },
  {
   "cell_type": "code",
   "execution_count": 74,
   "metadata": {},
   "outputs": [
    {
     "name": "stdout",
     "output_type": "stream",
     "text": [
      "이름 : lee, 나이 : 15, 학교명 : Aschool\n"
     ]
    }
   ],
   "source": [
    "info = s.get_info()\n",
    "print(info)  #전체 정보를 보고 싶지만 상위클래스의 겟인포에는 학교정보는 없다."
   ]
  },
  {
   "cell_type": "markdown",
   "metadata": {},
   "source": [
    "### 다중상속\n",
    "- 여러 클래스를 상속받는 것 \n",
    "- MRO(Method Resolution Order) : 호출된 메소드를 찾는 순서\n",
    "    1. 자기 자신\n",
    "    2. 상위클래스 : 상속시 먼저 선언된 클래스 순서로 메소드를 찾는다. (왼쪽 -> 오른쪽) "
   ]
  },
  {
   "cell_type": "code",
   "execution_count": 84,
   "metadata": {},
   "outputs": [],
   "source": [
    "class Printer :\n",
    "    def print(self) :\n",
    "        print('print')\n",
    "        \n",
    "    def test(self) :\n",
    "        print('print test')\n",
    "    \n",
    "class Saver :\n",
    "    def save(self) :\n",
    "        print('save')\n",
    "        \n",
    "    def test(self) :\n",
    "        print('save test')"
   ]
  },
  {
   "cell_type": "code",
   "execution_count": 85,
   "metadata": {},
   "outputs": [],
   "source": [
    "class wordProcessor(Printer, Saver) :\n",
    "    \n",
    "    def write(self) :\n",
    "        print('write')"
   ]
  },
  {
   "cell_type": "code",
   "execution_count": 86,
   "metadata": {},
   "outputs": [
    {
     "name": "stdout",
     "output_type": "stream",
     "text": [
      "write\n"
     ]
    }
   ],
   "source": [
    "wp = wordProcessor()\n",
    "wp.write()"
   ]
  },
  {
   "cell_type": "code",
   "execution_count": 87,
   "metadata": {},
   "outputs": [
    {
     "name": "stdout",
     "output_type": "stream",
     "text": [
      "write\n",
      "print\n",
      "save\n"
     ]
    }
   ],
   "source": [
    "wp.write() \n",
    "wp.print() \n",
    "wp.save()"
   ]
  },
  {
   "cell_type": "code",
   "execution_count": 89,
   "metadata": {},
   "outputs": [
    {
     "name": "stdout",
     "output_type": "stream",
     "text": [
      "print test\n"
     ]
    }
   ],
   "source": [
    "wp.test() # 어떤게 호출되는 지? Printer가 먼저 호출되니 Printer -> test()가 먼저 호출 됨"
   ]
  },
  {
   "cell_type": "markdown",
   "metadata": {},
   "source": [
    "### 상속 / 객체 관련 메소드, 변수 \n",
    "- isinstance(객체, 클래스) : 객체가 클래스로부터 생성되었는 지 여부\n",
    "- 객체.\\_\\_dict()\\_\\_ : 객체의 속성정보를 딕셔너리로 반환(키-속성명, 밸류 - 속성값) "
   ]
  },
  {
   "cell_type": "code",
   "execution_count": 92,
   "metadata": {},
   "outputs": [
    {
     "data": {
      "text/plain": [
       "(True, False)"
      ]
     },
     "execution_count": 92,
     "metadata": {},
     "output_type": "execute_result"
    }
   ],
   "source": [
    "# isnstance(객체, 클래스) - 객체가 클래스로부터 생성되었는지 여부\n",
    "isinstance('abc',str), isinstance('abc',int)"
   ]
  },
  {
   "cell_type": "code",
   "execution_count": 93,
   "metadata": {},
   "outputs": [
    {
     "name": "stdout",
     "output_type": "stream",
     "text": [
      "<class 'str'>\n",
      "<class 'int'>\n"
     ]
    }
   ],
   "source": [
    "print(type('abc'))\n",
    "print(type(20))"
   ]
  },
  {
   "cell_type": "code",
   "execution_count": 96,
   "metadata": {},
   "outputs": [],
   "source": [
    "def test(var) : #매개변수var의 타입이 int이면 작업을 \n",
    "#     if isinstance(var,int) :\n",
    "    if type(var) == int :\n",
    "        print(var+20)\n",
    "    else :\n",
    "        print('정수만 가능')"
   ]
  },
  {
   "cell_type": "code",
   "execution_count": 97,
   "metadata": {},
   "outputs": [
    {
     "name": "stdout",
     "output_type": "stream",
     "text": [
      "30\n",
      "정수만 가능\n"
     ]
    }
   ],
   "source": [
    "test(10)\n",
    "test('ab')"
   ]
  },
  {
   "cell_type": "code",
   "execution_count": 101,
   "metadata": {},
   "outputs": [
    {
     "data": {
      "text/plain": [
       "True"
      ]
     },
     "execution_count": 101,
     "metadata": {},
     "output_type": "execute_result"
    }
   ],
   "source": [
    "wp = wordProcessor()\n",
    "isinstance(wp,wordProcessor)"
   ]
  },
  {
   "cell_type": "code",
   "execution_count": 103,
   "metadata": {},
   "outputs": [
    {
     "data": {
      "text/plain": [
       "(True, True)"
      ]
     },
     "execution_count": 103,
     "metadata": {},
     "output_type": "execute_result"
    }
   ],
   "source": [
    "isinstance(wp,Saver), isinstance(wp,Printer)"
   ]
  },
  {
   "cell_type": "code",
   "execution_count": 104,
   "metadata": {},
   "outputs": [],
   "source": [
    "# 객체.__dict()__ : 객체의 속성정보를 딕셔너리로 반환(키-속성명, 밸류 - 속성값) "
   ]
  },
  {
   "cell_type": "code",
   "execution_count": 105,
   "metadata": {},
   "outputs": [
    {
     "data": {
      "text/plain": [
       "{'name': 'kim', 'age': 20}"
      ]
     },
     "execution_count": 105,
     "metadata": {},
     "output_type": "execute_result"
    }
   ],
   "source": [
    "p.__dict__"
   ]
  },
  {
   "cell_type": "code",
   "execution_count": 107,
   "metadata": {},
   "outputs": [
    {
     "data": {
      "text/plain": [
       "__main__.Person"
      ]
     },
     "execution_count": 107,
     "metadata": {},
     "output_type": "execute_result"
    }
   ],
   "source": [
    "#.__class__ : 클래스이름 : __main__.Student (모듈.클래스이름 형태)\n",
    "p.__class__\n"
   ]
  },
  {
   "cell_type": "code",
   "execution_count": 165,
   "metadata": {},
   "outputs": [],
   "source": [
    "class Person : \n",
    "    def __init__(self, name, age) :\n",
    "        self.name = name\n",
    "        self.age = age \n",
    "        \n",
    "    def __str__(self) : #객체를 문자열로 변환하는 메소드 \n",
    "        '''\n",
    "        객체를 문자열로 변환하는 메소드\n",
    "        내장함수 str()과 연동\n",
    "        [반환값]\n",
    "            str : 객체의 정보(데이터) -> instance변수들 반환 \n",
    "        '''\n",
    "        print(\">>>>\")\n",
    "        return f\"이름 : {self.name}, 나이 : {self.age}\"\n",
    "    \n",
    "    def __repr__(self) : \n",
    "        '''\n",
    "        객체를 표현하는 표현식을 문자열로 만들어 반환. \n",
    "        내장함수 repr(객체)와 연동\n",
    "        [반환값]\n",
    "            str : 객체 생성했던 코드를 문자열을 반환. \n",
    "        '''\n",
    "        return  f'Person(\"{self.name}\",{self.age})'\n",
    "    \n",
    "    #연산자 재정의 \n",
    "    def __eq__(self, other) :\n",
    "        '''\n",
    "        == 연산자를 재정의, 객체의 instance변수들의 값이 같으면 참이 나오도록 재정의\n",
    "        객체1 == 객체 2 : 이때 self가 객체1이 된다. other 은 객체2 \n",
    "        '''\n",
    "        result = False \n",
    "        if isinstance(other, Person) : \n",
    "            if self.name == other.name and self.age == other.age :\n",
    "                result = True\n",
    "        \n",
    "        return result \n",
    "    \n",
    "    def __gt__(self,other) :\n",
    "        '''\n",
    "        > 연산자를 재정의\n",
    "        객체1(self) > 객체2(other) \n",
    "        '''\n",
    "        result = False \n",
    "        if isinstance(other,Person) : #other이 Person함수에서 \n",
    "            if self.age > other.age : #나이를 기준으로 크다 작다를 정의 하고 싶으면\n",
    "                result = True \n",
    "        return result \n",
    "    \n",
    "    \n",
    "# __lt__(self,other) : self < other \n",
    "# __ge__(self,other) : self >= other \n",
    "# __le__(self,otehr) : self <= other \n",
    "# __ne__(self,other) : self != other\n",
    "\n",
    "    def __add__(self, other) :\n",
    "        '''\n",
    "        + 연산을 재정의 \n",
    "        객체1(self) + 객체2(other)\n",
    "        '''\n",
    "        #정수를 받아서 나이와 더한 값을 반환\n",
    "        result = None\n",
    "        if isinstance(other, int) :\n",
    "            result = self.age + other \n",
    "            \n",
    "        return result \n",
    "\n",
    "# __sub__(self, other) : self - other \n",
    "# __mul__(self, other) : self * otehr\n",
    "# __trudiv__(self, other) : self / other\n",
    "# __floordiv__(self, other) : self // other (몫)\n",
    "# __mod__(self, other) : self % other "
   ]
  },
  {
   "cell_type": "code",
   "execution_count": 140,
   "metadata": {},
   "outputs": [
    {
     "data": {
      "text/plain": [
       "Person(\"hong\",20)"
      ]
     },
     "execution_count": 140,
     "metadata": {},
     "output_type": "execute_result"
    }
   ],
   "source": [
    "p = Person('hong',20)\n",
    "p"
   ]
  },
  {
   "cell_type": "code",
   "execution_count": 141,
   "metadata": {},
   "outputs": [
    {
     "name": "stdout",
     "output_type": "stream",
     "text": [
      ">>>>\n",
      "이름 : hong, 나이 : 20\n"
     ]
    }
   ],
   "source": [
    "s = str(p) #Person객체를 문자열로 바꿀때 => __str__() 사용\n",
    "print(s)"
   ]
  },
  {
   "cell_type": "code",
   "execution_count": 142,
   "metadata": {},
   "outputs": [
    {
     "name": "stdout",
     "output_type": "stream",
     "text": [
      ">>>>\n",
      "이름 : hong, 나이 : 20\n"
     ]
    }
   ],
   "source": [
    "print(p) #print()함수가 내부에서 str() - 매개변수로 전달된 값을 문자열로 출력하는 함수"
   ]
  },
  {
   "cell_type": "code",
   "execution_count": 143,
   "metadata": {},
   "outputs": [
    {
     "name": "stdout",
     "output_type": "stream",
     "text": [
      "Person(\"hong\",20)\n"
     ]
    },
    {
     "data": {
      "text/plain": [
       "'Person(\"hong\",20)'"
      ]
     },
     "execution_count": 143,
     "metadata": {},
     "output_type": "execute_result"
    }
   ],
   "source": [
    "r = repr(p) #__repr__ 호출\n",
    "print(r)\n",
    "r"
   ]
  },
  {
   "cell_type": "code",
   "execution_count": 144,
   "metadata": {},
   "outputs": [
    {
     "data": {
      "text/plain": [
       "'안녕'"
      ]
     },
     "execution_count": 144,
     "metadata": {},
     "output_type": "execute_result"
    }
   ],
   "source": [
    "'안녕' #__repr__('안녕') , 출력된 그 자체 ''까지 "
   ]
  },
  {
   "cell_type": "code",
   "execution_count": 145,
   "metadata": {},
   "outputs": [
    {
     "name": "stdout",
     "output_type": "stream",
     "text": [
      "안녕\n"
     ]
    }
   ],
   "source": [
    "print('안녕')"
   ]
  },
  {
   "cell_type": "code",
   "execution_count": 146,
   "metadata": {},
   "outputs": [
    {
     "data": {
      "text/plain": [
       "2"
      ]
     },
     "execution_count": 146,
     "metadata": {},
     "output_type": "execute_result"
    }
   ],
   "source": [
    "a = eval(r) #eval(문자열) : 문자열을 코드로 평가해서 실행 \n",
    "eval('1+1') #문자열을 넣엇지만 계산 결과가 나왔다. \n",
    "#eval('파이썬코드') --> 파이썬 코드로 실행. "
   ]
  },
  {
   "cell_type": "code",
   "execution_count": 156,
   "metadata": {},
   "outputs": [],
   "source": [
    "p1 = Person('hong',20)\n",
    "p2 = Person('kim',10)\n",
    "p3 = p1"
   ]
  },
  {
   "cell_type": "code",
   "execution_count": 148,
   "metadata": {},
   "outputs": [
    {
     "data": {
      "text/plain": [
       "True"
      ]
     },
     "execution_count": 148,
     "metadata": {},
     "output_type": "execute_result"
    }
   ],
   "source": [
    "#같은 사람의 정보이다. \n",
    "#객체 == 객체 (둘이 동일한 객체인지?)\n",
    "p1 == p2 #__eq__ 있고 없고 차이 비교 "
   ]
  },
  {
   "cell_type": "code",
   "execution_count": 149,
   "metadata": {},
   "outputs": [
    {
     "data": {
      "text/plain": [
       "True"
      ]
     },
     "execution_count": 149,
     "metadata": {},
     "output_type": "execute_result"
    }
   ],
   "source": [
    "p1 == p3"
   ]
  },
  {
   "cell_type": "code",
   "execution_count": 158,
   "metadata": {},
   "outputs": [
    {
     "data": {
      "text/plain": [
       "True"
      ]
     },
     "execution_count": 158,
     "metadata": {},
     "output_type": "execute_result"
    }
   ],
   "source": [
    "p1 > p2 #error  # 나이를 기준으로 크다 작다 비교해보고 싶으면 정의하기 \n",
    "#__gt__ 함수 정의를 해줘야 한다. "
   ]
  },
  {
   "cell_type": "code",
   "execution_count": 157,
   "metadata": {},
   "outputs": [
    {
     "data": {
      "text/plain": [
       "True"
      ]
     },
     "execution_count": 157,
     "metadata": {},
     "output_type": "execute_result"
    }
   ],
   "source": [
    "p1 > p2"
   ]
  },
  {
   "cell_type": "code",
   "execution_count": 166,
   "metadata": {},
   "outputs": [
    {
     "ename": "TypeError",
     "evalue": "unsupported operand type(s) for +: 'Person' and 'int'",
     "output_type": "error",
     "traceback": [
      "\u001b[0;31m---------------------------------------------------------------------------\u001b[0m",
      "\u001b[0;31mTypeError\u001b[0m                                 Traceback (most recent call last)",
      "\u001b[0;32m<ipython-input-166-d6fe9ca70578>\u001b[0m in \u001b[0;36m<module>\u001b[0;34m\u001b[0m\n\u001b[0;32m----> 1\u001b[0;31m \u001b[0mp1\u001b[0m \u001b[0;34m+\u001b[0m \u001b[0;36m30\u001b[0m \u001b[0;31m# error\u001b[0m\u001b[0;34m\u001b[0m\u001b[0;34m\u001b[0m\u001b[0m\n\u001b[0m\u001b[1;32m      2\u001b[0m \u001b[0;31m#__add__ 재정의\u001b[0m\u001b[0;34m\u001b[0m\u001b[0;34m\u001b[0m\u001b[0;34m\u001b[0m\u001b[0m\n",
      "\u001b[0;31mTypeError\u001b[0m: unsupported operand type(s) for +: 'Person' and 'int'"
     ]
    }
   ],
   "source": [
    "p1 + 30 # error \n",
    "#__add__ 재정의"
   ]
  },
  {
   "cell_type": "code",
   "execution_count": 160,
   "metadata": {},
   "outputs": [
    {
     "ename": "TypeError",
     "evalue": "unsupported operand type(s) for +: 'Person' and 'Person'",
     "output_type": "error",
     "traceback": [
      "\u001b[0;31m---------------------------------------------------------------------------\u001b[0m",
      "\u001b[0;31mTypeError\u001b[0m                                 Traceback (most recent call last)",
      "\u001b[0;32m<ipython-input-160-09eb4a80fd7e>\u001b[0m in \u001b[0;36m<module>\u001b[0;34m\u001b[0m\n\u001b[0;32m----> 1\u001b[0;31m \u001b[0mp1\u001b[0m \u001b[0;34m+\u001b[0m \u001b[0mp2\u001b[0m \u001b[0;31m#error\u001b[0m\u001b[0;34m\u001b[0m\u001b[0;34m\u001b[0m\u001b[0m\n\u001b[0m",
      "\u001b[0;31mTypeError\u001b[0m: unsupported operand type(s) for +: 'Person' and 'Person'"
     ]
    }
   ],
   "source": [
    "p1 + p2 #error "
   ]
  },
  {
   "cell_type": "code",
   "execution_count": null,
   "metadata": {},
   "outputs": [],
   "source": []
  },
  {
   "cell_type": "code",
   "execution_count": null,
   "metadata": {},
   "outputs": [],
   "source": []
  },
  {
   "cell_type": "code",
   "execution_count": null,
   "metadata": {},
   "outputs": [],
   "source": []
  },
  {
   "cell_type": "code",
   "execution_count": null,
   "metadata": {},
   "outputs": [],
   "source": []
  }
 ],
 "metadata": {
  "kernelspec": {
   "display_name": "Python 3",
   "language": "python",
   "name": "python3"
  },
  "language_info": {
   "codemirror_mode": {
    "name": "ipython",
    "version": 3
   },
   "file_extension": ".py",
   "mimetype": "text/x-python",
   "name": "python",
   "nbconvert_exporter": "python",
   "pygments_lexer": "ipython3",
   "version": "3.8.5"
  }
 },
 "nbformat": 4,
 "nbformat_minor": 4
}
