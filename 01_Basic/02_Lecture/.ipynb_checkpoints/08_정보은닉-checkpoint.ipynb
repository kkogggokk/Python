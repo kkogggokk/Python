{
 "cells": [
  {
   "cell_type": "markdown",
   "metadata": {},
   "source": [
    "# 객체지향 프로그래밍 \n",
    "## Class(클래스) 정의\n",
    "- 객체의 설계도\n",
    "    - 동일한 형태의 객체들이 가져야하는 Attribute와 메소드"
   ]
  },
  {
   "cell_type": "markdown",
   "metadata": {},
   "source": [
    "### Initializer (\n",
    "- ㅇㄹㅇ\n",
    "\n",
    "### self 변수 \n",
    "- 생성자(Initializer)나 메소드(객체의기능)의 첫번째 매개변수로 선언.\n",
    "    - 현재 객체(instance)를 전달받는 변수 \n",
    "    \n",
    "- initializer의 self : 현재 생성되고 있는 객체\n",
    "- 메소드 \n",
    "    - 메소드를 호출한 객체(메소드 소유객체) \n",
    "- 생성자 / 메소드 정의 시 호출 시 전달받을 값을 저장하는 매개변수는 두번째 부터 선언한다. \n"
   ]
  },
  {
   "cell_type": "code",
   "execution_count": 3,
   "metadata": {},
   "outputs": [],
   "source": [
    "class Person : \n",
    "    def _init_(init,name) :\n",
    "        pass"
   ]
  },
  {
   "cell_type": "markdown",
   "metadata": {},
   "source": [
    "## instance (method)\n",
    "- 객체의 기능(객체가 제공하는 기능)\n",
    "- 주로 인스턴스변수(attribute)의 값을 처리하는 역할\n",
    "- 구문(함수구문과 거의 동일)\n",
    "```python\n",
    "def 이름(self[,매개변수, ....]) :\n",
    "    #구현부\n",
    "    #self를 이용해 객체의 속성이나 메소드 호출\n",
    "```\n",
    "- 메소드 이름 관례는 함수/변수와 동일 \n",
    "    - 스네이크 표기법 : 다 소문자로 주고 단어와 단어는 '_'로 연결\n",
    "- self매개변수 : 메소드가 호출된 객체(인스턴스)를 가리킨다.\n",
    "- 메소드호출 \n",
    "    - 객체.메소드이름(아규먼트1 [아규먼트2])\n",
    "    - 아규먼트1 -> 두번째 매개변수부터 대입 \n",
    "    - 아규먼트2 -> 세번째 매개변수부터 대입 \n",
    "    "
   ]
  },
  {
   "cell_type": "markdown",
   "metadata": {},
   "source": [
    "### Person class 작성 \n",
    "1. Person 속성은?\n",
    "    - name, age, address\n",
    "2. Person method ? \n",
    "    - "
   ]
  },
  {
   "cell_type": "code",
   "execution_count": 21,
   "metadata": {},
   "outputs": [],
   "source": [
    "class Person2() :\n",
    "    '''\n",
    "    클래스에 대한 설명 docstring \n",
    "    '''\n",
    "    #생성자\n",
    "    def __init__(self, name, age, address=None) :\n",
    "        self.name = name\n",
    "        self.age = age\n",
    "        self.address = address \n",
    "        \n",
    "    # 모든 인스턴스 변수의 값을 출력하는 메소드 \n",
    "    def print_info(self) : \n",
    "        print(f\"name : {self.name}, age : {self.age}, address = {self.address}\")\n",
    "        \n",
    "    # 모든 인스턴스 변수의 값들을 한번에 변경하는 메소드\n",
    "    def set_info(self, name, age, address) :\n",
    "        '''\n",
    "        모든 인스턴스 변수의 값들을 한번에 변경하는 메소드\n",
    "        [매개변수] \n",
    "            설명 ... \n",
    "        [반환]\n",
    "            설명 ... \n",
    "        '''\n",
    "        self.name = name\n",
    "        self.age = age\n",
    "        self.address = address \n",
    "        \n",
    "    # 나이에 매개변수로 받은 값을 더한 값으로 변경하는 메소드 \n",
    "    def add_age(self, add_age=0) :\n",
    "        '''\n",
    "        [매개변수]\n",
    "            add_age : \n",
    "        '''\n",
    "        self.age = self.age + add_age \n",
    "#         self.age += add_age\n",
    "        \n",
    "        "
   ]
  },
  {
   "cell_type": "code",
   "execution_count": 11,
   "metadata": {},
   "outputs": [],
   "source": [
    "p2 = Person2('hong',20,'seoul')"
   ]
  },
  {
   "cell_type": "code",
   "execution_count": 12,
   "metadata": {},
   "outputs": [
    {
     "name": "stdout",
     "output_type": "stream",
     "text": [
      "name : hong, age : 20, address = seoul\n"
     ]
    }
   ],
   "source": [
    "p2.print_info()"
   ]
  },
  {
   "cell_type": "code",
   "execution_count": 13,
   "metadata": {},
   "outputs": [],
   "source": [
    "p2.set_info('kim',30,'pusan')"
   ]
  },
  {
   "cell_type": "code",
   "execution_count": 14,
   "metadata": {},
   "outputs": [
    {
     "name": "stdout",
     "output_type": "stream",
     "text": [
      "name : kim, age : 30, address = pusan\n"
     ]
    }
   ],
   "source": [
    "p2.print_info()"
   ]
  },
  {
   "cell_type": "code",
   "execution_count": 17,
   "metadata": {},
   "outputs": [
    {
     "data": {
      "text/plain": [
       "30"
      ]
     },
     "execution_count": 17,
     "metadata": {},
     "output_type": "execute_result"
    }
   ],
   "source": [
    "p2.age"
   ]
  },
  {
   "cell_type": "code",
   "execution_count": 18,
   "metadata": {},
   "outputs": [],
   "source": [
    "p2.add_age(10)"
   ]
  },
  {
   "cell_type": "code",
   "execution_count": 19,
   "metadata": {},
   "outputs": [
    {
     "data": {
      "text/plain": [
       "40"
      ]
     },
     "execution_count": 19,
     "metadata": {},
     "output_type": "execute_result"
    }
   ],
   "source": [
    "p2.age"
   ]
  },
  {
   "cell_type": "code",
   "execution_count": 27,
   "metadata": {},
   "outputs": [],
   "source": [
    "?Person2"
   ]
  },
  {
   "cell_type": "code",
   "execution_count": 28,
   "metadata": {},
   "outputs": [],
   "source": [
    "?p2.add_age"
   ]
  },
  {
   "cell_type": "code",
   "execution_count": null,
   "metadata": {},
   "outputs": [],
   "source": []
  },
  {
   "cell_type": "markdown",
   "metadata": {},
   "source": [
    "## information Hiding 정보은닉\n",
    "- 인스턴스 변수(attribute)의 값을 외부에서 직접 접근(호출-변경/조회)하지 못하도록 막는다. \n",
    "- 목적 : 마음대로 값을 변경하지 못하도록 한다. \n",
    "- 인스턴스 변수의 값을 변경/조회할 수 있는 메소드를 제공한다. \n",
    "    - setter : 인스턴스 변수의 값을 변경하는 메소드, 관례상 set 으로 시작\n",
    "    - getter : 인스턴스 변수의 값을 조회(반환)하는 메소드, 관례상 get으로 시작\n",
    "- 구현 \n",
    "    - 인스턴스 변수의이름을 '__'로 시작\n",
    "        - 예시) self.__name, self.__age\n",
    "    - getter / setter 메소드를 제공. \n",
    "        - 예시 ) set_name(), get_name()"
   ]
  },
  {
   "cell_type": "code",
   "execution_count": 53,
   "metadata": {},
   "outputs": [],
   "source": [
    "class MyDate : \n",
    "    '''\n",
    "    인스턴스 변수로 년, 월, 일 날짜를 관리하는 클래스 \n",
    "    '''\n",
    "    \n",
    "    def __init__(self, year, month, day) : \n",
    "        self.__year = year\n",
    "        self.__month = month\n",
    "        self.__day = day \n",
    "        \n",
    "    def set_month(self, month) :\n",
    "        '''\n",
    "        월을 변경하는 메소드\n",
    "        [매개변수]\n",
    "            month : int - 월(범위 : 1 ~ 12) \n",
    "        '''\n",
    "        if month >= 1 and month <= 12 :\n",
    "            self.__month = month #__변수 : 같은 클래스 안에서는 호출 가능 \n",
    "        else : \n",
    "            print(f\"{month}는 잘못된 월 입니다. 1 ~ 12까지만 입력 가능합니다.\")\n",
    "    \n",
    "    def get_month(self) :\n",
    "        '''\n",
    "        인스턴스 변수 월을 반환하는 메소드\n",
    "        [매개변수]\n",
    "            int : 월 반환 \n",
    "        '''\n",
    "        return self.__month"
   ]
  },
  {
   "cell_type": "code",
   "execution_count": 55,
   "metadata": {},
   "outputs": [],
   "source": [
    "date = MyDate(2021,1,13) \n",
    "# print(date.__year) #error why? "
   ]
  },
  {
   "cell_type": "code",
   "execution_count": 56,
   "metadata": {},
   "outputs": [
    {
     "name": "stdout",
     "output_type": "stream",
     "text": [
      "1\n"
     ]
    }
   ],
   "source": [
    "print(date.get_month())"
   ]
  },
  {
   "cell_type": "code",
   "execution_count": 57,
   "metadata": {},
   "outputs": [
    {
     "name": "stdout",
     "output_type": "stream",
     "text": [
      "5\n"
     ]
    }
   ],
   "source": [
    "#월 변경\n",
    "date.set_month(5)\n",
    "print(date.get_month())"
   ]
  },
  {
   "cell_type": "code",
   "execution_count": 58,
   "metadata": {},
   "outputs": [
    {
     "name": "stdout",
     "output_type": "stream",
     "text": [
      "1000는 잘못된 월 입니다. 1 ~ 12까지만 입력 가능합니다.\n"
     ]
    }
   ],
   "source": [
    "date.set_month(1000)"
   ]
  },
  {
   "cell_type": "code",
   "execution_count": 59,
   "metadata": {},
   "outputs": [
    {
     "name": "stdout",
     "output_type": "stream",
     "text": [
      "5\n"
     ]
    }
   ],
   "source": [
    "print(date.get_month())"
   ]
  },
  {
   "cell_type": "code",
   "execution_count": 61,
   "metadata": {},
   "outputs": [
    {
     "ename": "AttributeError",
     "evalue": "'MyDate' object has no attribute '__month'",
     "output_type": "error",
     "traceback": [
      "\u001b[0;31m---------------------------------------------------------------------------\u001b[0m",
      "\u001b[0;31mAttributeError\u001b[0m                            Traceback (most recent call last)",
      "\u001b[0;32m<ipython-input-61-c7bcecb67ad5>\u001b[0m in \u001b[0;36m<module>\u001b[0;34m\u001b[0m\n\u001b[0;32m----> 1\u001b[0;31m \u001b[0mdate\u001b[0m\u001b[0;34m.\u001b[0m\u001b[0m__month\u001b[0m \u001b[0;31m#직접 호출을 막음\u001b[0m\u001b[0;34m\u001b[0m\u001b[0;34m\u001b[0m\u001b[0m\n\u001b[0m",
      "\u001b[0;31mAttributeError\u001b[0m: 'MyDate' object has no attribute '__month'"
     ]
    }
   ],
   "source": [
    "date.__month #직접 호출을 막음 "
   ]
  },
  {
   "cell_type": "code",
   "execution_count": 63,
   "metadata": {},
   "outputs": [
    {
     "data": {
      "text/plain": [
       "{'_MyDate__year': 2021, '_MyDate__month': 5, '_MyDate__day': 13}"
      ]
     },
     "execution_count": 63,
     "metadata": {},
     "output_type": "execute_result"
    }
   ],
   "source": [
    "#객체.__dict__ #객체의 인스턴스 변수들을 확인할 수 있다. \n",
    "date.__dict__ #객체의 인스턴스 변수과 값 확인 "
   ]
  },
  {
   "cell_type": "markdown",
   "metadata": {},
   "source": [
    "\\__year \n",
    "\\_클래스이름__변수이름 : 형태로 바뀌기 때문에 직접 호출을 못함. "
   ]
  },
  {
   "cell_type": "code",
   "execution_count": 66,
   "metadata": {},
   "outputs": [],
   "source": [
    "date._MyDate__year = 2020"
   ]
  },
  {
   "cell_type": "code",
   "execution_count": 68,
   "metadata": {},
   "outputs": [
    {
     "data": {
      "text/plain": [
       "2020"
      ]
     },
     "execution_count": 68,
     "metadata": {},
     "output_type": "execute_result"
    }
   ],
   "source": [
    "date._MyDate__year #이렇게 하면 직접 접근이 가능하다 "
   ]
  },
  {
   "cell_type": "code",
   "execution_count": 129,
   "metadata": {},
   "outputs": [],
   "source": [
    "class MyDate2 :\n",
    "    \n",
    "    def __init__(self, year,month,day) :\n",
    "        self.__year = year\n",
    "        self.__month = month\n",
    "        self.__day = day\n",
    "        \n",
    "    def set_year(self,year) :\n",
    "        print(\">>>set_year\")\n",
    "        self.__year = year\n",
    "            \n",
    "    def get_year(self) :\n",
    "        print(\">>>get_year\")\n",
    "        return self.__year\n",
    "    \n",
    "    def set_month(self,month) :\n",
    "        self.__month = month\n",
    "        \n",
    "    def get_month(self) :\n",
    "        return self.__month\n",
    "    \n",
    "    def set_day(self,day) :\n",
    "        self.__day = day\n",
    "        \n",
    "    def get_day(self) :\n",
    "        return self.__day\n",
    "        \n",
    "    #변수명 = 프로펄티(게터, 세터) \n",
    "    #외부에서 변수명으로 조회하면 게터 메소드를 변수에 값을 대입하면 세터 메소드를 호출해준다. \n",
    "    year = property(get_year, set_year) #get -> set\n",
    "    month = property(get_month, set_month)\n",
    "    day = property(get_day, set_day) #변수 day의 값을 조회하면 겟_데이()메서드를 실행 -> 변수 데이값을 대입하면 -> 셋_데이(대입된값)를 호출 "
   ]
  },
  {
   "cell_type": "code",
   "execution_count": 130,
   "metadata": {},
   "outputs": [],
   "source": [
    "today = MyDate2(2013,1,13)"
   ]
  },
  {
   "cell_type": "code",
   "execution_count": 131,
   "metadata": {},
   "outputs": [
    {
     "name": "stdout",
     "output_type": "stream",
     "text": [
      ">>>get_year\n"
     ]
    },
    {
     "data": {
      "text/plain": [
       "2013"
      ]
     },
     "execution_count": 131,
     "metadata": {},
     "output_type": "execute_result"
    }
   ],
   "source": [
    "today.year"
   ]
  },
  {
   "cell_type": "code",
   "execution_count": 132,
   "metadata": {},
   "outputs": [
    {
     "name": "stdout",
     "output_type": "stream",
     "text": [
      ">>>set_year\n"
     ]
    }
   ],
   "source": [
    "today.set_year(2000)"
   ]
  },
  {
   "cell_type": "code",
   "execution_count": 133,
   "metadata": {},
   "outputs": [
    {
     "data": {
      "text/plain": [
       "1"
      ]
     },
     "execution_count": 133,
     "metadata": {},
     "output_type": "execute_result"
    }
   ],
   "source": [
    "today.month"
   ]
  },
  {
   "cell_type": "code",
   "execution_count": 134,
   "metadata": {},
   "outputs": [],
   "source": [
    "today.month = 10"
   ]
  },
  {
   "cell_type": "code",
   "execution_count": 135,
   "metadata": {},
   "outputs": [
    {
     "data": {
      "text/plain": [
       "10"
      ]
     },
     "execution_count": 135,
     "metadata": {},
     "output_type": "execute_result"
    }
   ],
   "source": [
    "today.month"
   ]
  },
  {
   "cell_type": "code",
   "execution_count": 136,
   "metadata": {},
   "outputs": [
    {
     "data": {
      "text/plain": [
       "13"
      ]
     },
     "execution_count": 136,
     "metadata": {},
     "output_type": "execute_result"
    }
   ],
   "source": [
    "today.day"
   ]
  },
  {
   "cell_type": "code",
   "execution_count": 137,
   "metadata": {},
   "outputs": [
    {
     "data": {
      "text/plain": [
       "{'_MyDate2__year': 2000, '_MyDate2__month': 10, '_MyDate2__day': 13}"
      ]
     },
     "execution_count": 137,
     "metadata": {},
     "output_type": "execute_result"
    }
   ],
   "source": [
    "today.__dict__"
   ]
  },
  {
   "cell_type": "code",
   "execution_count": 138,
   "metadata": {},
   "outputs": [],
   "source": [
    "#setter/getter , property 변수를 지정하는 것을 세터, 게터 메소드에 직접 설정\n",
    "# 데코레이터(Decorator-장식자) 이용해서 게터, 세터 직접 설정할 수 있다. \n",
    "# 1. getter/setter 메소드의 이름을 호출 될 때 사용할 변수명으로 지정 \n",
    "# 2. \n",
    "# 3.\n",
    "# 4. setter메소드에 @getter메소드이름.setter 데코레이터를 추가\n",
    "# 메소드 정의 순서는 반드시 게터를 먼저 정의해야 한다. \n",
    "# getter/setter 메소드명은 동일"
   ]
  },
  {
   "cell_type": "code",
   "execution_count": 158,
   "metadata": {},
   "outputs": [],
   "source": [
    "class MyDate3() :\n",
    "    def __init__(self, year, month, day) :\n",
    "        self.__year = year\n",
    "        self.__month = month \n",
    "        self.__day = day\n",
    "    \n",
    "    #year값을 반환하는 메소드(getter)\n",
    "    @property\n",
    "    def year(self) :\n",
    "        return self.__year\n",
    "    \n",
    "    #year의 값을 변경하는 메소드(setter)\n",
    "    #@게터메소드이름.setter \n",
    "    @year.setter\n",
    "    def year(self,year):\n",
    "        self.__year = year \n",
    "    \n",
    "    @property\n",
    "    def month(self) :\n",
    "        return self.__month\n",
    "    \n",
    "    @month.setter\n",
    "    def month(self,month) :\n",
    "        self.__month = month \n",
    "        \n",
    "    @property\n",
    "    def day(self) :\n",
    "        return self.__day\n",
    "    \n",
    "    @day.setter\n",
    "    def day(self,day) :\n",
    "        self.__day = day\n",
    "    "
   ]
  },
  {
   "cell_type": "code",
   "execution_count": 159,
   "metadata": {},
   "outputs": [
    {
     "data": {
      "text/plain": [
       "{'_MyDate3__year': 2000, '_MyDate3__month': 1, '_MyDate3__day': 13}"
      ]
     },
     "execution_count": 159,
     "metadata": {},
     "output_type": "execute_result"
    }
   ],
   "source": [
    "today.__dict__"
   ]
  },
  {
   "cell_type": "code",
   "execution_count": 161,
   "metadata": {},
   "outputs": [],
   "source": [
    "today = MyDate3(2020,1,13)"
   ]
  },
  {
   "cell_type": "code",
   "execution_count": 162,
   "metadata": {},
   "outputs": [
    {
     "data": {
      "text/plain": [
       "2020"
      ]
     },
     "execution_count": 162,
     "metadata": {},
     "output_type": "execute_result"
    }
   ],
   "source": [
    "today.year"
   ]
  },
  {
   "cell_type": "code",
   "execution_count": 163,
   "metadata": {},
   "outputs": [
    {
     "name": "stdout",
     "output_type": "stream",
     "text": [
      "2000\n"
     ]
    }
   ],
   "source": [
    "today.year = 2000\n",
    "print(today.year)"
   ]
  },
  {
   "cell_type": "code",
   "execution_count": 164,
   "metadata": {},
   "outputs": [
    {
     "name": "stdout",
     "output_type": "stream",
     "text": [
      "9\n"
     ]
    }
   ],
   "source": [
    "today.month\n",
    "today.month = 9\n",
    "print(today.month)"
   ]
  },
  {
   "cell_type": "code",
   "execution_count": 166,
   "metadata": {},
   "outputs": [
    {
     "name": "stdout",
     "output_type": "stream",
     "text": [
      "28\n"
     ]
    }
   ],
   "source": [
    "today.day\n",
    "today.day = 28\n",
    "print(today.day)"
   ]
  },
  {
   "cell_type": "markdown",
   "metadata": {},
   "source": [
    "## TODO \n",
    "- 제품 클래스 구현\n",
    "- 속성 : 제품ID(str),제품이름(str), 제품가격(int), 제조사(str)\n",
    "    - 정보은닉에 맞춰서 작성. 값을 대입/조회하는 것은 변수 처리 방식으로 \n",
    "- 메소드 : 전체 정보를 출력하는 메소드 \n",
    "- 메소드 : setter(3EA), getter(3EA) , 전체 정보출력하는 메소드(1EA)\n"
   ]
  },
  {
   "cell_type": "code",
   "execution_count": 168,
   "metadata": {},
   "outputs": [
    {
     "ename": "NameError",
     "evalue": "name 'Item' is not defined",
     "output_type": "error",
     "traceback": [
      "\u001b[0;31m---------------------------------------------------------------------------\u001b[0m",
      "\u001b[0;31mNameError\u001b[0m                                 Traceback (most recent call last)",
      "\u001b[0;32m<ipython-input-168-796e4d77690d>\u001b[0m in \u001b[0;36m<module>\u001b[0;34m\u001b[0m\n\u001b[0;32m----> 1\u001b[0;31m \u001b[0mitem\u001b[0m \u001b[0;34m=\u001b[0m \u001b[0mItem\u001b[0m\u001b[0;34m(\u001b[0m\u001b[0;34m\"id-1\"\u001b[0m\u001b[0;34m,\u001b[0m\u001b[0;34m\"노트북\"\u001b[0m\u001b[0;34m,\u001b[0m\u001b[0;36m300\u001b[0m\u001b[0;34m,\u001b[0m\u001b[0;34m\"삼성\"\u001b[0m\u001b[0;34m)\u001b[0m\u001b[0;34m\u001b[0m\u001b[0;34m\u001b[0m\u001b[0m\n\u001b[0m\u001b[1;32m      2\u001b[0m \u001b[0;34m\u001b[0m\u001b[0m\n\u001b[1;32m      3\u001b[0m \u001b[0;31m#아이디 변경\u001b[0m\u001b[0;34m\u001b[0m\u001b[0;34m\u001b[0m\u001b[0;34m\u001b[0m\u001b[0m\n\u001b[1;32m      4\u001b[0m \u001b[0mitem\u001b[0m\u001b[0;34m.\u001b[0m\u001b[0mid\u001b[0m \u001b[0;34m=\u001b[0m \u001b[0;34m\"id-100\"\u001b[0m\u001b[0;34m\u001b[0m\u001b[0;34m\u001b[0m\u001b[0m\n\u001b[1;32m      5\u001b[0m \u001b[0;34m\u001b[0m\u001b[0m\n",
      "\u001b[0;31mNameError\u001b[0m: name 'Item' is not defined"
     ]
    }
   ],
   "source": [
    "item = Item(\"id-1\",\"노트북\",300,\"삼성\")\n",
    "\n",
    "#아이디 변경\n",
    "item.id = \"id-100\"\n",
    "\n",
    "#아이디 조회\n",
    "print(item.id)\n",
    "\n",
    "#전체출력 \n",
    "item.print_all_info()"
   ]
  },
  {
   "cell_type": "code",
   "execution_count": 221,
   "metadata": {},
   "outputs": [],
   "source": [
    "class Item() :\n",
    "    def __init__(self, id, name, price, maker):\n",
    "        self.__id = id\n",
    "        self.__name = name\n",
    "        self.__price = price\n",
    "        self.__maker = maker\n",
    "    \n",
    "    @property\n",
    "    def id(self) :\n",
    "        return self.__id\n",
    "    \n",
    "    @id.setter\n",
    "    def id(self,id) :\n",
    "        self.__id = id \n",
    "    \n",
    "    @property\n",
    "    def name(self) :\n",
    "        return self.__name\n",
    "    \n",
    "    @name.setter\n",
    "    def name(self,name) :\n",
    "        self.__name = name\n",
    "    \n",
    "    @property\n",
    "    def price(self) :\n",
    "        return self.__price\n",
    "    \n",
    "    @price.setter\n",
    "    def price(self,price) :\n",
    "        self.__price = price\n",
    "        \n",
    "    @property\n",
    "    def maker(self) :\n",
    "        return self.__maker\n",
    "    \n",
    "    @maker.setter\n",
    "    def maker(self,maker) :\n",
    "        self.__maker = maker\n",
    "\n",
    "    def print_all_info(self) :\n",
    "        print(f\"아이디 : {self.__id}, 제품이름 : {self.__name}, 가격: {self.__price}, 제조사 : {self.__maker}\") #인스턴스 변수를 직접 호출\n",
    "#         print(f\"아이디 : {self.id}, 제품이름 : {self.name}, 가격: {self.price}, 제조사 : {self.maker}\") #게터메소드를 직접 호출"
   ]
  },
  {
   "cell_type": "code",
   "execution_count": 222,
   "metadata": {},
   "outputs": [],
   "source": [
    "item = Item(\"id-1\",\"노트북\",300,\"삼성\")"
   ]
  },
  {
   "cell_type": "code",
   "execution_count": 223,
   "metadata": {},
   "outputs": [
    {
     "data": {
      "text/plain": [
       "{'_Item__id': 'id-1',\n",
       " '_Item__name': '노트북',\n",
       " '_Item__price': 300,\n",
       " '_Item__maker': '삼성'}"
      ]
     },
     "execution_count": 223,
     "metadata": {},
     "output_type": "execute_result"
    }
   ],
   "source": [
    "item.__dict__"
   ]
  },
  {
   "cell_type": "code",
   "execution_count": 224,
   "metadata": {},
   "outputs": [],
   "source": [
    "#아이디 변경\n",
    "item.id = \"id-100\""
   ]
  },
  {
   "cell_type": "code",
   "execution_count": 225,
   "metadata": {},
   "outputs": [
    {
     "data": {
      "text/plain": [
       "{'_Item__id': 'id-100',\n",
       " '_Item__name': '노트북',\n",
       " '_Item__price': 300,\n",
       " '_Item__maker': '삼성'}"
      ]
     },
     "execution_count": 225,
     "metadata": {},
     "output_type": "execute_result"
    }
   ],
   "source": [
    "item.__dict__"
   ]
  },
  {
   "cell_type": "code",
   "execution_count": 226,
   "metadata": {
    "scrolled": true
   },
   "outputs": [
    {
     "name": "stdout",
     "output_type": "stream",
     "text": [
      "id-100\n"
     ]
    }
   ],
   "source": [
    "#아이디 조회\n",
    "print(item.id)"
   ]
  },
  {
   "cell_type": "code",
   "execution_count": 227,
   "metadata": {},
   "outputs": [
    {
     "name": "stdout",
     "output_type": "stream",
     "text": [
      "아이디 : id-100, 제품이름 : 노트북, 가격: 300, 제조사 : 삼성\n"
     ]
    }
   ],
   "source": [
    "#전체출력 \n",
    "item.print_all_info()"
   ]
  },
  {
   "cell_type": "code",
   "execution_count": 229,
   "metadata": {},
   "outputs": [
    {
     "data": {
      "text/plain": [
       "'LG'"
      ]
     },
     "execution_count": 229,
     "metadata": {},
     "output_type": "execute_result"
    }
   ],
   "source": [
    "item.maker = 'LG'\n",
    "item.maker"
   ]
  },
  {
   "cell_type": "code",
   "execution_count": 230,
   "metadata": {},
   "outputs": [
    {
     "data": {
      "text/plain": [
       "2000"
      ]
     },
     "execution_count": 230,
     "metadata": {},
     "output_type": "execute_result"
    }
   ],
   "source": [
    "item.price = 2000\n",
    "item.price"
   ]
  },
  {
   "cell_type": "code",
   "execution_count": null,
   "metadata": {},
   "outputs": [],
   "source": []
  }
 ],
 "metadata": {
  "kernelspec": {
   "display_name": "Python 3",
   "language": "python",
   "name": "python3"
  },
  "language_info": {
   "codemirror_mode": {
    "name": "ipython",
    "version": 3
   },
   "file_extension": ".py",
   "mimetype": "text/x-python",
   "name": "python",
   "nbconvert_exporter": "python",
   "pygments_lexer": "ipython3",
   "version": "3.8.5"
  }
 },
 "nbformat": 4,
 "nbformat_minor": 4
}
