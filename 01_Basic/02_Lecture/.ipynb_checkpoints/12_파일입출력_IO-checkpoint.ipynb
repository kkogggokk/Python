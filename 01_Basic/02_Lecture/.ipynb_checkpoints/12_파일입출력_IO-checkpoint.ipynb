{
 "cells": [
  {
   "cell_type": "markdown",
   "metadata": {},
   "source": [
    "# 파일의 경로 (path) \n",
    "- 절대경로 (Absolute path) : 시작 디렉토리(Root) 부터 자원의 경로를 표현하는 방식 \n",
    "    - windows : c:\\text\\io.txt\n",
    "        - c:\\ : root directory \n",
    "        - 경로구분자 : \\(역슬래시)\n",
    "    - 리눅스, 유닉스 : /text/python/io.txt - /\n",
    "        - / : root directory \n",
    "        - 경로 구분자 : /(슬래시)\n",
    "- 상대경로 :\n",
    "    - . : 현재 디렉토리 \n",
    "    - .. : 상위 디렉토리 \n",
    "    - / : 경로구분자"
   ]
  },
  {
   "cell_type": "markdown",
   "metadata": {},
   "source": [
    " # OS 모듈 \n",
    "- 표준 모듈 (설치는 필요없지만 import는 해야한다)\n",
    "- 운영체제(OS)에서 제공하는 기능들을 파이선 프로그램에서 사용할 수 있도록 도와주는 모듈 "
   ]
  },
  {
   "cell_type": "code",
   "execution_count": 1,
   "metadata": {},
   "outputs": [],
   "source": [
    "import os "
   ]
  },
  {
   "cell_type": "code",
   "execution_count": 4,
   "metadata": {},
   "outputs": [
    {
     "name": "stdout",
     "output_type": "stream",
     "text": [
      "/Users/master90/Github/Python/01_Basic/02_Lecture\n"
     ]
    }
   ],
   "source": [
    "# 현재 디렉터리 확인 . 문자열로 반환 \n",
    "curr_dir = os.getcwd() #Currend Word Direcotry \n",
    "print(curr_dir) # 주피터 노트북 : 현재 작성하는 ipny파일이 위치한 경로 "
   ]
  },
  {
   "cell_type": "code",
   "execution_count": 5,
   "metadata": {},
   "outputs": [
    {
     "data": {
      "text/plain": [
       "'/Users/master90/Github/Python'"
      ]
     },
     "execution_count": 5,
     "metadata": {},
     "output_type": "execute_result"
    }
   ],
   "source": [
    "# 현재 디렉터리 변경 \n",
    "# os.chdir('[경로명]')\n",
    "os.chdir('/Users/master90/Github/Python')\n",
    "os.getcwd()"
   ]
  },
  {
   "cell_type": "markdown",
   "metadata": {},
   "source": [
    "### escape 문자 \n",
    "- '\\' 역슬래스로 시작하는 문자. text로 표현하지 못하는 문자를 표현하는 문자 \n",
    "- '\\n' : 엔터\n",
    "- '\\t' : 탭\n",
    "- "
   ]
  },
  {
   "cell_type": "code",
   "execution_count": 17,
   "metadata": {},
   "outputs": [
    {
     "name": "stdout",
     "output_type": "stream",
     "text": [
      "a\tb\n",
      "c:\\src\\a.py\n",
      "c:\\src\\a.py\n"
     ]
    }
   ],
   "source": [
    "#윈도우에서 경로 주의할 점 : 역슬래시 표현하고 싶으면 \\\\ 2개를 적어야 한다.\n",
    "# \\ / \n",
    "print('a\\tb')\n",
    "# 이스케이프랑 구별해야 한다.  \n",
    "print('c:\\\\src\\\\a.py') # 이스케이프랑 구분하기 위해 \\\\ 2개 적기\n",
    "print(r\"c:\\src\\a.py\") # r : raw string : 이스케이프 문자의 접두어로 인식하지 않는다."
   ]
  },
  {
   "cell_type": "code",
   "execution_count": 19,
   "metadata": {},
   "outputs": [
    {
     "data": {
      "text/plain": [
       "'/Users/master90/Github/Python/01_Basic/02_Lecture'"
      ]
     },
     "execution_count": 19,
     "metadata": {},
     "output_type": "execute_result"
    }
   ],
   "source": [
    "#경로 변경 \n",
    "os.chdir(curr_dir)\n",
    "os.getcwd()"
   ]
  },
  {
   "cell_type": "code",
   "execution_count": 20,
   "metadata": {},
   "outputs": [
    {
     "data": {
      "text/plain": [
       "['my_module.py',\n",
       " '.DS_Store',\n",
       " '09_상속.ipynb',\n",
       " '00_review.ipynb',\n",
       " '12_파일입출력_IO.ipynb',\n",
       " '01_변수.ipynb',\n",
       " '10_module_package_import.ipynb',\n",
       " '00_',\n",
       " 'day10_1.py',\n",
       " '05_for in내장함수.ipynb',\n",
       " '__pycache__',\n",
       " '11_예외처리.ipynb',\n",
       " '04_제어문.ipynb',\n",
       " '06_함수.ipynb',\n",
       " '.ipynb_checkpoints',\n",
       " '02_데이터타입.ipynb',\n",
       " '08_정보은닉.ipynb',\n",
       " 'my_package',\n",
       " '10_클래스메소드.ipynb',\n",
       " '03_자료구조.ipynb']"
      ]
     },
     "execution_count": 20,
     "metadata": {},
     "output_type": "execute_result"
    }
   ],
   "source": [
    "# 해당 디렉터리안에 있는 파일 및 디렉터리 리스트로 반환 : os.listdir()\n",
    "# path를 지정하거나 생략하면 현재 디렉토리 내 내용을 반환 \n",
    "path_list = os.listdir()\n",
    "path_list"
   ]
  },
  {
   "cell_type": "code",
   "execution_count": 22,
   "metadata": {},
   "outputs": [
    {
     "data": {
      "text/plain": [
       "['master90', '.localized', 'Shared', 'Guest']"
      ]
     },
     "execution_count": 22,
     "metadata": {},
     "output_type": "execute_result"
    }
   ],
   "source": [
    "path_list = os.listdir('/Users')\n",
    "path_list"
   ]
  },
  {
   "cell_type": "code",
   "execution_count": 24,
   "metadata": {},
   "outputs": [
    {
     "data": {
      "text/plain": [
       "['09_상속.ipynb',\n",
       " '00_review.ipynb',\n",
       " '12_파일입출력_IO.ipynb',\n",
       " '01_변수.ipynb',\n",
       " '10_module_package_import.ipynb',\n",
       " '05_for in내장함수.ipynb',\n",
       " '11_예외처리.ipynb',\n",
       " '04_제어문.ipynb',\n",
       " '06_함수.ipynb',\n",
       " '02_데이터타입.ipynb',\n",
       " '08_정보은닉.ipynb',\n",
       " '10_클래스메소드.ipynb',\n",
       " '03_자료구조.ipynb']"
      ]
     },
     "execution_count": 24,
     "metadata": {},
     "output_type": "execute_result"
    }
   ],
   "source": [
    "#ipynb 파일만 가진 리스트 반환 하려면? endswith() , compression \n",
    "[filename for filename in os.listdir() if filename.endswith('.ipynb')]"
   ]
  },
  {
   "cell_type": "code",
   "execution_count": 26,
   "metadata": {},
   "outputs": [
    {
     "ename": "FileExistsError",
     "evalue": "[Errno 17] File exists: 'test'",
     "output_type": "error",
     "traceback": [
      "\u001b[0;31m---------------------------------------------------------------------------\u001b[0m",
      "\u001b[0;31mFileExistsError\u001b[0m                           Traceback (most recent call last)",
      "\u001b[0;32m<ipython-input-26-de3ded481168>\u001b[0m in \u001b[0;36m<module>\u001b[0;34m\u001b[0m\n\u001b[1;32m      1\u001b[0m \u001b[0;31m# 디렉토리 만들기\u001b[0m\u001b[0;34m\u001b[0m\u001b[0;34m\u001b[0m\u001b[0;34m\u001b[0m\u001b[0m\n\u001b[0;32m----> 2\u001b[0;31m \u001b[0mos\u001b[0m\u001b[0;34m.\u001b[0m\u001b[0mmkdir\u001b[0m\u001b[0;34m(\u001b[0m\u001b[0;34m'test'\u001b[0m\u001b[0;34m)\u001b[0m \u001b[0;31m# os.mkdir(./test) , 현재 디렉토리 위치에서 test디렉토리를 만든다.\u001b[0m\u001b[0;34m\u001b[0m\u001b[0;34m\u001b[0m\u001b[0m\n\u001b[0m\u001b[1;32m      3\u001b[0m \u001b[0mos\u001b[0m\u001b[0;34m.\u001b[0m\u001b[0mmkdir\u001b[0m\u001b[0;34m(\u001b[0m\u001b[0;34m'test'\u001b[0m\u001b[0;34m)\u001b[0m \u001b[0;31m# 이미 존재 하면 안 만들어짐. 예외발생\u001b[0m\u001b[0;34m\u001b[0m\u001b[0;34m\u001b[0m\u001b[0m\n",
      "\u001b[0;31mFileExistsError\u001b[0m: [Errno 17] File exists: 'test'"
     ]
    }
   ],
   "source": [
    "# 디렉토리 만들기 \n",
    "os.mkdir('test') # os.mkdir(./test) , 현재 디렉토리 위치에서 test디렉토리를 만든다. \n",
    "os.mkdir('test') # 이미 존재 하면 안 만들어짐. 예외발생 "
   ]
  },
  {
   "cell_type": "code",
   "execution_count": 29,
   "metadata": {},
   "outputs": [
    {
     "ename": "FileNotFoundError",
     "evalue": "[Errno 2] No such file or directory: 'test1/test2/test3'",
     "output_type": "error",
     "traceback": [
      "\u001b[0;31m---------------------------------------------------------------------------\u001b[0m",
      "\u001b[0;31mFileNotFoundError\u001b[0m                         Traceback (most recent call last)",
      "\u001b[0;32m<ipython-input-29-60225e03bec8>\u001b[0m in \u001b[0;36m<module>\u001b[0;34m\u001b[0m\n\u001b[0;32m----> 1\u001b[0;31m \u001b[0mos\u001b[0m\u001b[0;34m.\u001b[0m\u001b[0mmkdir\u001b[0m\u001b[0;34m(\u001b[0m\u001b[0;34m'test1/test2/test3'\u001b[0m\u001b[0;34m)\u001b[0m \u001b[0;31m#error :\u001b[0m\u001b[0;34m\u001b[0m\u001b[0;34m\u001b[0m\u001b[0m\n\u001b[0m\u001b[1;32m      2\u001b[0m \u001b[0;31m# mkdir 디렉터리 1개만 만들어지는거. test3을 만들겠다는 뜻임. 그러나 test1, test2 디렉터리가 없음\u001b[0m\u001b[0;34m\u001b[0m\u001b[0;34m\u001b[0m\u001b[0;34m\u001b[0m\u001b[0m\n\u001b[1;32m      3\u001b[0m \u001b[0;31m# 다 만들어서 사용하고 싶으면 ?\u001b[0m\u001b[0;34m\u001b[0m\u001b[0;34m\u001b[0m\u001b[0;34m\u001b[0m\u001b[0m\n",
      "\u001b[0;31mFileNotFoundError\u001b[0m: [Errno 2] No such file or directory: 'test1/test2/test3'"
     ]
    }
   ],
   "source": [
    "os.mkdir('test1/test2/test3') #error : \n",
    "#test1, test2 아래 test3 디렉터리를 만들어라 (test1, test2가 있는 상태에서 호출)\n",
    "# mkdir 디렉터리 1개만 만들어지는거. test3을 만들겠다는 뜻임. 그러나 test1, test2 디렉터리가 없음 \n",
    "# 다 만들어서 사용하고 싶으면 ? "
   ]
  },
  {
   "cell_type": "code",
   "execution_count": 31,
   "metadata": {},
   "outputs": [
    {
     "ename": "FileExistsError",
     "evalue": "[Errno 17] File exists: 'test1/test2/test3'",
     "output_type": "error",
     "traceback": [
      "\u001b[0;31m---------------------------------------------------------------------------\u001b[0m",
      "\u001b[0;31mFileExistsError\u001b[0m                           Traceback (most recent call last)",
      "\u001b[0;32m<ipython-input-31-68bcead273ab>\u001b[0m in \u001b[0;36m<module>\u001b[0;34m\u001b[0m\n\u001b[1;32m      1\u001b[0m \u001b[0;31m#없는 경로는 다 만들어서 디렉터리 생성\u001b[0m\u001b[0;34m\u001b[0m\u001b[0;34m\u001b[0m\u001b[0;34m\u001b[0m\u001b[0m\n\u001b[0;32m----> 2\u001b[0;31m \u001b[0mos\u001b[0m\u001b[0;34m.\u001b[0m\u001b[0mmakedirs\u001b[0m\u001b[0;34m(\u001b[0m\u001b[0;34mr'test1/test2/test3'\u001b[0m\u001b[0;34m)\u001b[0m \u001b[0;31m#생\u001b[0m\u001b[0;34m\u001b[0m\u001b[0;34m\u001b[0m\u001b[0m\n\u001b[0m",
      "\u001b[0;32m/opt/anaconda3/lib/python3.8/os.py\u001b[0m in \u001b[0;36mmakedirs\u001b[0;34m(name, mode, exist_ok)\u001b[0m\n\u001b[1;32m    221\u001b[0m             \u001b[0;32mreturn\u001b[0m\u001b[0;34m\u001b[0m\u001b[0;34m\u001b[0m\u001b[0m\n\u001b[1;32m    222\u001b[0m     \u001b[0;32mtry\u001b[0m\u001b[0;34m:\u001b[0m\u001b[0;34m\u001b[0m\u001b[0;34m\u001b[0m\u001b[0m\n\u001b[0;32m--> 223\u001b[0;31m         \u001b[0mmkdir\u001b[0m\u001b[0;34m(\u001b[0m\u001b[0mname\u001b[0m\u001b[0;34m,\u001b[0m \u001b[0mmode\u001b[0m\u001b[0;34m)\u001b[0m\u001b[0;34m\u001b[0m\u001b[0;34m\u001b[0m\u001b[0m\n\u001b[0m\u001b[1;32m    224\u001b[0m     \u001b[0;32mexcept\u001b[0m \u001b[0mOSError\u001b[0m\u001b[0;34m:\u001b[0m\u001b[0;34m\u001b[0m\u001b[0;34m\u001b[0m\u001b[0m\n\u001b[1;32m    225\u001b[0m         \u001b[0;31m# Cannot rely on checking for EEXIST, since the operating system\u001b[0m\u001b[0;34m\u001b[0m\u001b[0;34m\u001b[0m\u001b[0;34m\u001b[0m\u001b[0m\n",
      "\u001b[0;31mFileExistsError\u001b[0m: [Errno 17] File exists: 'test1/test2/test3'"
     ]
    }
   ],
   "source": [
    "#없는 경로는 다 만들어서 디렉터리 생성 \n",
    "os.makedirs(r'test1/test2/test3') "
   ]
  },
  {
   "cell_type": "code",
   "execution_count": 32,
   "metadata": {},
   "outputs": [],
   "source": [
    "# 파일이나 디렉터리 삭제 \n",
    "os.rmdir(r'test1/test2/test3') #test3 삭제  "
   ]
  },
  {
   "cell_type": "code",
   "execution_count": 36,
   "metadata": {},
   "outputs": [
    {
     "ename": "OSError",
     "evalue": "[Errno 66] Directory not empty: 'test1'",
     "output_type": "error",
     "traceback": [
      "\u001b[0;31m---------------------------------------------------------------------------\u001b[0m",
      "\u001b[0;31mOSError\u001b[0m                                   Traceback (most recent call last)",
      "\u001b[0;32m<ipython-input-36-1223da287840>\u001b[0m in \u001b[0;36m<module>\u001b[0;34m\u001b[0m\n\u001b[0;32m----> 1\u001b[0;31m \u001b[0mos\u001b[0m\u001b[0;34m.\u001b[0m\u001b[0mrmdir\u001b[0m\u001b[0;34m(\u001b[0m\u001b[0;34mr'test1'\u001b[0m\u001b[0;34m)\u001b[0m \u001b[0;31m#error : rmdir 은 빈 디렉터리만 삭제 가능\u001b[0m\u001b[0;34m\u001b[0m\u001b[0;34m\u001b[0m\u001b[0m\n\u001b[0m",
      "\u001b[0;31mOSError\u001b[0m: [Errno 66] Directory not empty: 'test1'"
     ]
    }
   ],
   "source": [
    "os.rmdir(r'test1') #error : rmdir 은 빈 디렉터리만 삭제 가능 "
   ]
  },
  {
   "cell_type": "code",
   "execution_count": 40,
   "metadata": {},
   "outputs": [],
   "source": [
    "os.removedirs(r'test1/test2') \n",
    "# 하위디렉터리 까지 다 지정해줘야함. test1, test2 모두 삭제 \n",
    "# test1밑에 test2와 다른 디렉토리, 파일 있으면 test2만 삭제"
   ]
  },
  {
   "cell_type": "markdown",
   "metadata": {},
   "source": [
    "- 파일 삭제 : os.remove('경로')\n",
    "- "
   ]
  },
  {
   "cell_type": "markdown",
   "metadata": {},
   "source": [
    "### os.path 모듈 \n",
    "- 관련 처리를 하는 모듈 "
   ]
  },
  {
   "cell_type": "code",
   "execution_count": 43,
   "metadata": {},
   "outputs": [],
   "source": [
    " import os "
   ]
  },
  {
   "cell_type": "code",
   "execution_count": 45,
   "metadata": {},
   "outputs": [
    {
     "data": {
      "text/plain": [
       "True"
      ]
     },
     "execution_count": 45,
     "metadata": {},
     "output_type": "execute_result"
    }
   ],
   "source": [
    "# 파일이나 디렉토리 존재 여부 \n",
    "os.path.exists('my_module.py') # 있으면 T, 없으면 F "
   ]
  },
  {
   "cell_type": "code",
   "execution_count": 47,
   "metadata": {},
   "outputs": [
    {
     "data": {
      "text/plain": [
       "True"
      ]
     },
     "execution_count": 47,
     "metadata": {},
     "output_type": "execute_result"
    }
   ],
   "source": [
    "# 디렉토리 인지 여부 (없으면 False)\n",
    "os.path.isdir('my_module.py') # 이거 디렉토리야? "
   ]
  },
  {
   "cell_type": "code",
   "execution_count": 48,
   "metadata": {},
   "outputs": [
    {
     "data": {
      "text/plain": [
       "True"
      ]
     },
     "execution_count": 48,
     "metadata": {},
     "output_type": "execute_result"
    }
   ],
   "source": [
    "os.path.isdir('test') # 디렉토리야. "
   ]
  },
  {
   "cell_type": "code",
   "execution_count": 49,
   "metadata": {},
   "outputs": [
    {
     "data": {
      "text/plain": [
       "False"
      ]
     },
     "execution_count": 49,
     "metadata": {},
     "output_type": "execute_result"
    }
   ],
   "source": [
    "os.path.isdir('aaa') # 없는 디렉토리 "
   ]
  },
  {
   "cell_type": "code",
   "execution_count": 50,
   "metadata": {},
   "outputs": [
    {
     "data": {
      "text/plain": [
       "True"
      ]
     },
     "execution_count": 50,
     "metadata": {},
     "output_type": "execute_result"
    }
   ],
   "source": [
    "# 파일인지 여부 (없으면 false)\n",
    "os.path.isfile('my_module.py')"
   ]
  },
  {
   "cell_type": "code",
   "execution_count": 51,
   "metadata": {},
   "outputs": [
    {
     "data": {
      "text/plain": [
       "False"
      ]
     },
     "execution_count": 51,
     "metadata": {},
     "output_type": "execute_result"
    }
   ],
   "source": [
    "os.path.isfile('test') # 디렉터리니 거짓"
   ]
  },
  {
   "cell_type": "code",
   "execution_count": 53,
   "metadata": {},
   "outputs": [
    {
     "data": {
      "text/plain": [
       "False"
      ]
     },
     "execution_count": 53,
     "metadata": {},
     "output_type": "execute_result"
    }
   ],
   "source": [
    "os.path.isfile('aaa.txt') # 없는 파일이니 거짓"
   ]
  },
  {
   "cell_type": "code",
   "execution_count": 54,
   "metadata": {},
   "outputs": [],
   "source": [
    "path = 'test'\n",
    "if not os.path.isdir(path) : \n",
    "    os.midir(path)"
   ]
  },
  {
   "cell_type": "code",
   "execution_count": 57,
   "metadata": {},
   "outputs": [
    {
     "name": "stdout",
     "output_type": "stream",
     "text": [
      "/Users/master90/Github/Python/01_Basic/02_Lecture\n"
     ]
    }
   ],
   "source": [
    "# 경로를 문자열로 조합해주는 함수 \n",
    "# '/Users/master90/Github/Python/01_Basic/02_Lecture' \n",
    "path = os.path.join('/Users/master90/', 'Github/Python/', '01_Basic/02_Lecture')\n",
    "print(path)"
   ]
  },
  {
   "cell_type": "code",
   "execution_count": 58,
   "metadata": {},
   "outputs": [],
   "source": [
    "# 프로젝트 경로 :  C:\\project\n",
    "# 데이터들은 저장할 경로 : data \n",
    "# 이미지 데이터 : img \n",
    "# 텍스트 데이터 : txt \n",
    "# 소스경로 : src "
   ]
  },
  {
   "cell_type": "code",
   "execution_count": 73,
   "metadata": {},
   "outputs": [],
   "source": [
    "# 디렉터리 연결하기 : join\n",
    "base_dir = r'c:\\project'\n",
    "src_dir = base_dir + r'\\src'\n",
    "src_dir = os.path.join(base_dir,'src')\n",
    "data_dir = os.path.join(base_dir,'data')\n",
    "data_dir = os.path.join(data_dir,'data')\n",
    "data_image_dir = os.path.join(data_dir,'img')"
   ]
  },
  {
   "cell_type": "code",
   "execution_count": 67,
   "metadata": {},
   "outputs": [
    {
     "data": {
      "text/plain": [
       "'c:\\\\project/src'"
      ]
     },
     "execution_count": 67,
     "metadata": {},
     "output_type": "execute_result"
    }
   ],
   "source": [
    "src_dir"
   ]
  },
  {
   "cell_type": "code",
   "execution_count": 68,
   "metadata": {},
   "outputs": [
    {
     "data": {
      "text/plain": [
       "'c:\\\\project/data/data'"
      ]
     },
     "execution_count": 68,
     "metadata": {},
     "output_type": "execute_result"
    }
   ],
   "source": [
    "data_dir"
   ]
  },
  {
   "cell_type": "code",
   "execution_count": 70,
   "metadata": {},
   "outputs": [
    {
     "data": {
      "text/plain": [
       "'c:\\\\project/data/data/img'"
      ]
     },
     "execution_count": 70,
     "metadata": {},
     "output_type": "execute_result"
    }
   ],
   "source": [
    "data_image_dir"
   ]
  },
  {
   "cell_type": "code",
   "execution_count": 71,
   "metadata": {},
   "outputs": [],
   "source": [
    "img1_file = os.path.join(data_image_dir,'1.jpg')"
   ]
  },
  {
   "cell_type": "code",
   "execution_count": 72,
   "metadata": {},
   "outputs": [
    {
     "data": {
      "text/plain": [
       "'c:\\\\project/data/data/img/1.jpg'"
      ]
     },
     "execution_count": 72,
     "metadata": {},
     "output_type": "execute_result"
    }
   ],
   "source": [
    "img1_file"
   ]
  },
  {
   "cell_type": "markdown",
   "metadata": {},
   "source": [
    "# 텍스트 파일 입출력 \n",
    "- 파일 열기(연결) : open()\n",
    "- 파일 입출력 : read() , write()\n",
    "- 파일 닫기 : close())"
   ]
  },
  {
   "cell_type": "code",
   "execution_count": 74,
   "metadata": {},
   "outputs": [],
   "source": [
    "# a.txt파일 연결 / 경로는 ? 현재 디렉토리 안에 있는 \n",
    "# wt : 쓰기/텍스트모드 \n",
    "# 인코딩은 생략 : OS기본인코딩 , 윈도우 :cp949방식, 유닉스/리눅스 : UTF-8방식 \n",
    "f = open('a.txt', 'wt') # 모드는 t가 기본. w만 써도 된다. w = wt "
   ]
  },
  {
   "cell_type": "code",
   "execution_count": 75,
   "metadata": {},
   "outputs": [
    {
     "data": {
      "text/plain": [
       "21"
      ]
     },
     "execution_count": 75,
     "metadata": {},
     "output_type": "execute_result"
    }
   ],
   "source": [
    "# 출력 \n",
    "txt = '''\n",
    "안녕하세요, \n",
    "ABCDE\n",
    "12345\n",
    "'''\n",
    "\n",
    "f.write(txt) # return 21 : 글자수 , 엔터도 한 글자 "
   ]
  },
  {
   "cell_type": "code",
   "execution_count": 76,
   "metadata": {},
   "outputs": [
    {
     "data": {
      "text/plain": [
       "8"
      ]
     },
     "execution_count": 76,
     "metadata": {},
     "output_type": "execute_result"
    }
   ],
   "source": [
    "f.write('두번째로 쓴내용')"
   ]
  },
  {
   "cell_type": "code",
   "execution_count": 77,
   "metadata": {},
   "outputs": [],
   "source": [
    "#연결 닫기 \n",
    "f.close()"
   ]
  },
  {
   "cell_type": "code",
   "execution_count": 89,
   "metadata": {},
   "outputs": [
    {
     "name": "stdout",
     "output_type": "stream",
     "text": [
      "\u001b[34m00_\u001b[m\u001b[m                            10_클래스메소드.ipynb\r\n",
      "00_review.ipynb                11_예외처리.ipynb\r\n",
      "01_변수.ipynb                  12_파일입출력_IO.ipynb\r\n",
      "02_데이터타입.ipynb            \u001b[34m__pycache__\u001b[m\u001b[m\r\n",
      "03_자료구조.ipynb              a.txt\r\n",
      "04_제어문.ipynb                day10_1.py\r\n",
      "05_for in내장함수.ipynb        my_module.py\r\n",
      "06_함수.ipynb                  \u001b[34mmy_package\u001b[m\u001b[m\r\n",
      "08_정보은닉.ipynb              my_test.txt\r\n",
      "09_상속.ipynb                  \u001b[34mtest\u001b[m\u001b[m\r\n",
      "10_module_package_import.ipynb\r\n"
     ]
    }
   ],
   "source": [
    "!ls"
   ]
  },
  {
   "cell_type": "code",
   "execution_count": 83,
   "metadata": {},
   "outputs": [
    {
     "data": {
      "text/plain": [
       "'/Users/master90/Github/Python/01_Basic/02_Lecture'"
      ]
     },
     "execution_count": 83,
     "metadata": {},
     "output_type": "execute_result"
    }
   ],
   "source": [
    "os.getcwd()"
   ]
  },
  {
   "cell_type": "code",
   "execution_count": 104,
   "metadata": {},
   "outputs": [
    {
     "name": "stdout",
     "output_type": "stream",
     "text": [
      "/Users/master90/Github/Python/01_Basic/02_Lecture/test.txt\n"
     ]
    }
   ],
   "source": [
    "file = os.path.join(os.getcwd(),\"test.txt\")\n",
    "print(file)\n",
    "# 출력모드일 때 파일이 없으면 파일을 생성한다. \n",
    "f = open(file,\"wt\")\n",
    "\n",
    "f.write('1 line\\n')\n",
    "f.write('2 line\\n')\n",
    "f.write('3 line')\n",
    "\n",
    "f.close()"
   ]
  },
  {
   "cell_type": "code",
   "execution_count": 109,
   "metadata": {},
   "outputs": [
    {
     "name": "stdout",
     "output_type": "stream",
     "text": [
      "/Users/master90/Github/Python/01_Basic/02_Lecture/my_test3.txt\n"
     ]
    }
   ],
   "source": [
    "file = os.path.join(os.getcwd(),\"my_test3.txt\")\n",
    "print(file)\n",
    "# 출력모드일 때 파일이 없으면 파일을 생성한다. \n",
    "f = open(file,\"at\") # a : 이어쓰기 \n",
    "\n",
    "f.write('1 line\\n')\n",
    "f.write('2 line\\n')\n",
    "f.write('3 line')\n",
    "\n",
    "f.close()"
   ]
  },
  {
   "cell_type": "code",
   "execution_count": 100,
   "metadata": {},
   "outputs": [
    {
     "name": "stdout",
     "output_type": "stream",
     "text": [
      "/Users/master90/Github/Python/01_Basic/02_Lecture/my_test4.txt\n"
     ]
    }
   ],
   "source": [
    "file = os.path.join(os.getcwd(),\"my_test4.txt\")\n",
    "print(file)\n",
    "\n",
    "f = open(file,\"at\") # a : 이어쓰기 \n",
    "\n",
    "f.write('1 line\\n')\n",
    "f.flush() # 버퍼(메모리)를 비워라 => 파일에 써라 \n",
    "f.write('2 line\\n')\n",
    "f.flush()\n",
    "f.write('3 line')\n",
    "\n",
    "f.close()"
   ]
  },
  {
   "cell_type": "code",
   "execution_count": 105,
   "metadata": {},
   "outputs": [
    {
     "name": "stdout",
     "output_type": "stream",
     "text": [
      "1 line\n",
      "2 line\n",
      "3 line\n"
     ]
    }
   ],
   "source": [
    "file = 'test.txt'\n",
    "\n",
    "# 읽기/텍스트 \n",
    "# 읽기 모드인 경우 파일이 반드시 존재해야 한다. \n",
    "# if os.path.exists(file)\n",
    "try : \n",
    "    fi = open(file,'rt') #rt는 생략가능 (기본모드)\n",
    "    txt = fi.read() # 파일에서 읽은 데이터(텍스트)반환 , read() : 한번에 전체를 다 읽는다. \n",
    "    print(txt)\n",
    "    \n",
    "except : \n",
    "    print(f\"파일 {file}읽기 도중 오류 발생\")\n",
    "finally :\n",
    "    #연결 닫기는 finally에서 처리 \n",
    "    fi.close()"
   ]
  },
  {
   "cell_type": "code",
   "execution_count": 114,
   "metadata": {},
   "outputs": [
    {
     "name": "stdout",
     "output_type": "stream",
     "text": [
      "<class 'list'>\n",
      "['1 line\\n', '2 line\\n', '3 line']\n"
     ]
    }
   ],
   "source": [
    "try : \n",
    "    fi = open('my_test3.txt') #rt모드 생략가능\n",
    "#     txt = fi.read() #전체를 읽어온다. \n",
    "    txt_list = fi.readlines()  # 한줄을 하나의 문자열로 리스트로 묶어서 반환\n",
    "    print(type(txt_list))\n",
    "    print(txt_list)\n",
    "    \n",
    "except : \n",
    "    print('error')\n",
    "    \n",
    "finally :\n",
    "    fi.close()"
   ]
  },
  {
   "cell_type": "code",
   "execution_count": 119,
   "metadata": {},
   "outputs": [
    {
     "name": "stdout",
     "output_type": "stream",
     "text": [
      "1 : 1 line\n",
      "2 : 2 line\n",
      "3 : 3 line"
     ]
    }
   ],
   "source": [
    "try :\n",
    "    fi = open('my_test3.txt')\n",
    "    #입력 stream(fi)은 iterable , for in문에서 사용시 한번 반복할때 한 줄을 반환\n",
    "#     for line_txt in fi : \n",
    "#         print(line_txt)\n",
    "    for index, line_txt in enumerate(fi,start=1):\n",
    "        print(f\"{index} : {line_txt}\",end ='')\n",
    "        \n",
    "except : \n",
    "    print('error')\n",
    "finally :\n",
    "    fi.close()"
   ]
  },
  {
   "cell_type": "markdown",
   "metadata": {},
   "source": [
    "# with 문 "
   ]
  },
  {
   "cell_type": "markdown",
   "metadata": {},
   "source": [
    "```python\n",
    "try : \n",
    "    1. 연결\n",
    "    2. 입출력\n",
    "except : \n",
    "    연결, 입출 시 발생한 예외 처리\n",
    "finally :\n",
    "    3. 연결닫기 - 무조건 해야하니, finally -> 내가 해줄게. -> with 블록  \n",
    "````\n",
    "- 연결을 끊어야 할때 with 사용 \n",
    "- 버퍼비우기 자동 "
   ]
  },
  {
   "cell_type": "code",
   "execution_count": 121,
   "metadata": {},
   "outputs": [
    {
     "name": "stdout",
     "output_type": "stream",
     "text": [
      "1 line\n",
      "2 line\n",
      "3 line\n"
     ]
    }
   ],
   "source": [
    "try : \n",
    "    fi = open('my_test3.txt')\n",
    "    x = fi.read()\n",
    "    print(x)\n",
    "except : \n",
    "    pass\n",
    "\n",
    "finally : \n",
    "    fi.close()"
   ]
  },
  {
   "cell_type": "code",
   "execution_count": 128,
   "metadata": {},
   "outputs": [],
   "source": [
    "try :\n",
    "    with open('my_test3.txt','wt') as fi : \n",
    "        x = fi.read()\n",
    "        fi.write('a')\n",
    "        fi.write('b')\n",
    "        print(x)\n",
    "except : \n",
    "    pass \n",
    "#   with블록 실행이 끝나며 알아서 close해준다"
   ]
  },
  {
   "cell_type": "markdown",
   "metadata": {},
   "source": [
    "## TODO - 간단한 메모장\n",
    "사용자로부터 파일명을 입력받는다.     \n",
    "사용자로 부터 파일에 저장할 문장을 입력받아서 파일에 저장한다.       \n",
    "사용자가 !q 를 입력하면 종료한다.         \n",
    "사용자가 저장한 파일을 읽어서 출력한다  "
   ]
  },
  {
   "cell_type": "code",
   "execution_count": 44,
   "metadata": {},
   "outputs": [
    {
     "name": "stdout",
     "output_type": "stream",
     "text": [
      "파일 이름 : tttttt22.txt\n",
      "파일 내용 : djfksdjflsdf!qjkldsfjskldfjls\n",
      "djfksdjflsdf!qjkldsfjskldfjls\n"
     ]
    }
   ],
   "source": [
    "file_name = input('파일 이름 : ')\n",
    "file = open(file_name,'wt')\n",
    "\n",
    "memo = input('파일 내용 : ')\n",
    "file.write(memo)\n",
    "\n",
    "if '!q' in memo :\n",
    "    file.close()\n",
    "\n",
    "with open(file_name,'r') as openFile : \n",
    "    for line in openFile : \n",
    "        print(line)"
   ]
  },
  {
   "cell_type": "markdown",
   "metadata": {},
   "source": [
    "## TODO - csv 파일을 읽어서 각 열의 값을 배열에 담는다.\n",
    "이름,나이,주소  형태의 csv를 읽어       \n",
    "names = []        \n",
    "ages =[]        \n",
    "address =[]        \n",
    "배열에 넣는다. 라인이 index가 된다.     \n",
    "홍길동,20,서울     \n",
    "박영희,30,인천       \n",
    "김영수,17,부산         \n",
    "이경수,20,서울      \n",
    "장경철,22,인천        "
   ]
  },
  {
   "cell_type": "markdown",
   "metadata": {},
   "source": [
    "## CSV (Comma Separated Value) 파일 \n",
    "- 정형데이터(테이블-표) 현태를 파일을 "
   ]
  },
  {
   "cell_type": "code",
   "execution_count": 41,
   "metadata": {},
   "outputs": [
    {
     "name": "stdout",
     "output_type": "stream",
     "text": [
      "['names', ' ages', ' address']\n",
      "['홍길동', ' 20', ' 서울']\n",
      "['박영희', ' 30', ' 인천']\n",
      "['김영수', ' 17', ' 부산']\n",
      "['이경수', ' 20', ' 서울']\n",
      "['장경철', ' 22', ' 인천']\n"
     ]
    }
   ],
   "source": [
    "#CSV 한줄 씩 읽기 \n",
    "import csv \n",
    "\n",
    "file = open('person.csv','r',encoding='utf-8-sig')\n",
    "rdfile = csv.reader(file)\n",
    "for line in rdfile :\n",
    "    print(line)\n",
    "file.close()"
   ]
  },
  {
   "cell_type": "code",
   "execution_count": 42,
   "metadata": {},
   "outputs": [],
   "source": [
    "#파일 헤더 빼로 데이터만 읽기 \n",
    "#판다스 써야하나? 참고 : https://muzukphysics.tistory.com/279 \n",
    "import csv\n",
    "\n",
    "with open('person.csv','r',encoding='utf-8-sig') as file : \n",
    "    file_read = csv.reader(file) \n",
    "    header = next(file_read) # 맨 첫행이 헤더일 경우 , \n",
    "#     for line in file_read : \n",
    "#         print(line)"
   ]
  },
  {
   "cell_type": "code",
   "execution_count": 40,
   "metadata": {},
   "outputs": [
    {
     "data": {
      "text/plain": [
       "array(['names', '홍길동', '박영희', '김영수', '이경수', '장경철'], dtype=object)"
      ]
     },
     "execution_count": 40,
     "metadata": {},
     "output_type": "execute_result"
    }
   ],
   "source": [
    "import pandas as pd \n",
    "\n",
    "df = pd.read_csv('person.csv',names=['names','ages','address'],sep=',')\n",
    "\n",
    "# column_df = df['names']\n",
    "# print(column_df)\n",
    "\n",
    "names = df['names']\n",
    "names.values\n"
   ]
  },
  {
   "cell_type": "code",
   "execution_count": 12,
   "metadata": {},
   "outputs": [
    {
     "name": "stdout",
     "output_type": "stream",
     "text": [
      "['names, 홍길동, 박영희, 김영수, 이경수, 장경철\\n', 'ages, 20, 30, 17, 20, 22\\n', 'address, 서울, 인천, 부산, 서울, 인천']\n"
     ]
    }
   ],
   "source": [
    "# 배열로 변환 \n",
    "import csv \n",
    "\n",
    "read_list = []\n",
    "with open('person.csv','r',encoding = 'utf-8-sig') as file :\n",
    "    file_read = csv.reader(file)\n",
    "    for line in file : \n",
    "        read_list.append(line)\n",
    "print(read_list)"
   ]
  },
  {
   "cell_type": "code",
   "execution_count": 43,
   "metadata": {},
   "outputs": [],
   "source": [
    "# ================================================TODO 1"
   ]
  },
  {
   "cell_type": "code",
   "execution_count": 47,
   "metadata": {},
   "outputs": [],
   "source": [
    "def simple_memo () : \n",
    "        # 1. 파일명 입력받기\n",
    "    file = input()\n",
    "\n",
    "    try :\n",
    "        with open(file,'wt') as fw : \n",
    "            # 사용자 입력 읽어오기 \n",
    "            # 사용자가 !q입력하기 전까지 입력된 내용을 파일에 출력 \n",
    "            while True :\n",
    "                line = input()\n",
    "                if line == '!q' : \n",
    "                    break\n",
    "                fw.write(line + \"\\n\") #한줄로 만들기 위해 엔터 넣어줌 \n",
    "            print('종료')\n",
    "\n",
    "    except : \n",
    "        print('오류발생')\n",
    "        \n",
    "        # 2. 파일 읽기\n",
    "    try :\n",
    "        with open(file,'rt') as fi : \n",
    "            memo = fi.read()\n",
    "            print(memo)\n",
    "    except : \n",
    "        pass"
   ]
  },
  {
   "cell_type": "code",
   "execution_count": 48,
   "metadata": {},
   "outputs": [
    {
     "name": "stdout",
     "output_type": "stream",
     "text": [
      "test.txt\n",
      "dfjskdfj\n",
      "dfjksdlf\n",
      "dsjfksdl\n",
      "!q\n",
      "종료\n",
      "dfjskdfj\n",
      "dfjksdlf\n",
      "dsjfksdl\n",
      "\n"
     ]
    }
   ],
   "source": [
    "simple_memo()"
   ]
  },
  {
   "cell_type": "code",
   "execution_count": 49,
   "metadata": {},
   "outputs": [],
   "source": [
    "# ================================================TODO 2"
   ]
  },
  {
   "cell_type": "code",
   "execution_count": 50,
   "metadata": {},
   "outputs": [],
   "source": [
    "# 1. data.csv 와 읽기 모드로 연결\n",
    "# 2. 라인 단위로 읽어서 이름, 나이, 주소를 분리 --> 리스트에 각각 추가. \n"
   ]
  },
  {
   "cell_type": "code",
   "execution_count": 96,
   "metadata": {},
   "outputs": [
    {
     "ename": "TypeError",
     "evalue": "cannot concatenate object of type '<class 'str'>'; only Series and DataFrame objs are valid",
     "output_type": "error",
     "traceback": [
      "\u001b[0;31m---------------------------------------------------------------------------\u001b[0m",
      "\u001b[0;31mTypeError\u001b[0m                                 Traceback (most recent call last)",
      "\u001b[0;32m<ipython-input-96-346199462e5d>\u001b[0m in \u001b[0;36m<module>\u001b[0;34m\u001b[0m\n\u001b[1;32m      6\u001b[0m     \u001b[0;32mfor\u001b[0m \u001b[0mline\u001b[0m \u001b[0;32min\u001b[0m \u001b[0mfi\u001b[0m \u001b[0;34m:\u001b[0m\u001b[0;34m\u001b[0m\u001b[0;34m\u001b[0m\u001b[0m\n\u001b[1;32m      7\u001b[0m         \u001b[0mname\u001b[0m\u001b[0;34m,\u001b[0m \u001b[0mage\u001b[0m\u001b[0;34m,\u001b[0m \u001b[0maddr\u001b[0m \u001b[0;34m=\u001b[0m \u001b[0mline\u001b[0m\u001b[0;34m.\u001b[0m\u001b[0msplit\u001b[0m\u001b[0;34m(\u001b[0m\u001b[0;34m','\u001b[0m\u001b[0;34m)\u001b[0m\u001b[0;34m\u001b[0m\u001b[0;34m\u001b[0m\u001b[0m\n\u001b[0;32m----> 8\u001b[0;31m         \u001b[0mnames\u001b[0m\u001b[0;34m.\u001b[0m\u001b[0mappend\u001b[0m\u001b[0;34m(\u001b[0m\u001b[0mname\u001b[0m\u001b[0;34m.\u001b[0m\u001b[0mstrip\u001b[0m\u001b[0;34m(\u001b[0m\u001b[0;34m)\u001b[0m\u001b[0;34m)\u001b[0m\u001b[0;34m\u001b[0m\u001b[0;34m\u001b[0m\u001b[0m\n\u001b[0m\u001b[1;32m      9\u001b[0m         \u001b[0mages\u001b[0m\u001b[0;34m.\u001b[0m\u001b[0mappend\u001b[0m\u001b[0;34m(\u001b[0m\u001b[0mage\u001b[0m\u001b[0;34m.\u001b[0m\u001b[0mstrip\u001b[0m\u001b[0;34m(\u001b[0m\u001b[0;34m)\u001b[0m\u001b[0;34m)\u001b[0m\u001b[0;34m\u001b[0m\u001b[0;34m\u001b[0m\u001b[0m\n\u001b[1;32m     10\u001b[0m         \u001b[0maddress\u001b[0m\u001b[0;34m.\u001b[0m\u001b[0mappend\u001b[0m\u001b[0;34m(\u001b[0m\u001b[0maddr\u001b[0m\u001b[0;34m.\u001b[0m\u001b[0mstrip\u001b[0m\u001b[0;34m(\u001b[0m\u001b[0;34m)\u001b[0m\u001b[0;34m)\u001b[0m\u001b[0;34m\u001b[0m\u001b[0;34m\u001b[0m\u001b[0m\n",
      "\u001b[0;32m/opt/anaconda3/lib/python3.8/site-packages/pandas/core/series.py\u001b[0m in \u001b[0;36mappend\u001b[0;34m(self, to_append, ignore_index, verify_integrity)\u001b[0m\n\u001b[1;32m   2686\u001b[0m             \u001b[0mmsg\u001b[0m \u001b[0;34m=\u001b[0m \u001b[0;34m\"to_append should be a Series or list/tuple of Series, got DataFrame\"\u001b[0m\u001b[0;34m\u001b[0m\u001b[0;34m\u001b[0m\u001b[0m\n\u001b[1;32m   2687\u001b[0m             \u001b[0;32mraise\u001b[0m \u001b[0mTypeError\u001b[0m\u001b[0;34m(\u001b[0m\u001b[0mmsg\u001b[0m\u001b[0;34m)\u001b[0m\u001b[0;34m\u001b[0m\u001b[0;34m\u001b[0m\u001b[0m\n\u001b[0;32m-> 2688\u001b[0;31m         return concat(\n\u001b[0m\u001b[1;32m   2689\u001b[0m             \u001b[0mto_concat\u001b[0m\u001b[0;34m,\u001b[0m \u001b[0mignore_index\u001b[0m\u001b[0;34m=\u001b[0m\u001b[0mignore_index\u001b[0m\u001b[0;34m,\u001b[0m \u001b[0mverify_integrity\u001b[0m\u001b[0;34m=\u001b[0m\u001b[0mverify_integrity\u001b[0m\u001b[0;34m\u001b[0m\u001b[0;34m\u001b[0m\u001b[0m\n\u001b[1;32m   2690\u001b[0m         )\n",
      "\u001b[0;32m/opt/anaconda3/lib/python3.8/site-packages/pandas/core/reshape/concat.py\u001b[0m in \u001b[0;36mconcat\u001b[0;34m(objs, axis, join, ignore_index, keys, levels, names, verify_integrity, sort, copy)\u001b[0m\n\u001b[1;32m    272\u001b[0m     \u001b[0mValueError\u001b[0m\u001b[0;34m:\u001b[0m \u001b[0mIndexes\u001b[0m \u001b[0mhave\u001b[0m \u001b[0moverlapping\u001b[0m \u001b[0mvalues\u001b[0m\u001b[0;34m:\u001b[0m \u001b[0;34m[\u001b[0m\u001b[0;34m'a'\u001b[0m\u001b[0;34m]\u001b[0m\u001b[0;34m\u001b[0m\u001b[0;34m\u001b[0m\u001b[0m\n\u001b[1;32m    273\u001b[0m     \"\"\"\n\u001b[0;32m--> 274\u001b[0;31m     op = _Concatenator(\n\u001b[0m\u001b[1;32m    275\u001b[0m         \u001b[0mobjs\u001b[0m\u001b[0;34m,\u001b[0m\u001b[0;34m\u001b[0m\u001b[0;34m\u001b[0m\u001b[0m\n\u001b[1;32m    276\u001b[0m         \u001b[0maxis\u001b[0m\u001b[0;34m=\u001b[0m\u001b[0maxis\u001b[0m\u001b[0;34m,\u001b[0m\u001b[0;34m\u001b[0m\u001b[0;34m\u001b[0m\u001b[0m\n",
      "\u001b[0;32m/opt/anaconda3/lib/python3.8/site-packages/pandas/core/reshape/concat.py\u001b[0m in \u001b[0;36m__init__\u001b[0;34m(self, objs, axis, join, keys, levels, names, ignore_index, verify_integrity, copy, sort)\u001b[0m\n\u001b[1;32m    357\u001b[0m                     \u001b[0;34m\"only Series and DataFrame objs are valid\"\u001b[0m\u001b[0;34m\u001b[0m\u001b[0;34m\u001b[0m\u001b[0m\n\u001b[1;32m    358\u001b[0m                 )\n\u001b[0;32m--> 359\u001b[0;31m                 \u001b[0;32mraise\u001b[0m \u001b[0mTypeError\u001b[0m\u001b[0;34m(\u001b[0m\u001b[0mmsg\u001b[0m\u001b[0;34m)\u001b[0m\u001b[0;34m\u001b[0m\u001b[0;34m\u001b[0m\u001b[0m\n\u001b[0m\u001b[1;32m    360\u001b[0m \u001b[0;34m\u001b[0m\u001b[0m\n\u001b[1;32m    361\u001b[0m             \u001b[0;31m# consolidate\u001b[0m\u001b[0;34m\u001b[0m\u001b[0;34m\u001b[0m\u001b[0;34m\u001b[0m\u001b[0m\n",
      "\u001b[0;31mTypeError\u001b[0m: cannot concatenate object of type '<class 'str'>'; only Series and DataFrame objs are valid"
     ]
    }
   ],
   "source": [
    "names = []\n",
    "ages = []\n",
    "address = []\n",
    "\n",
    "with open('data.csv','rt',encoding='utf-8') as fi : \n",
    "    for line in fi :\n",
    "        name, age, addr = line.split(',')\n",
    "        names.append(name.strip())\n",
    "        ages.append(age.strip())\n",
    "        address.append(addr.strip())         "
   ]
  },
  {
   "cell_type": "code",
   "execution_count": 91,
   "metadata": {},
   "outputs": [
    {
     "data": {
      "text/plain": [
       "0    names\n",
       "1      홍길동\n",
       "2      박영희\n",
       "3      김영수\n",
       "4      이경수\n",
       "5      장경철\n",
       "Name: names, dtype: object"
      ]
     },
     "execution_count": 91,
     "metadata": {},
     "output_type": "execute_result"
    }
   ],
   "source": [
    "names"
   ]
  },
  {
   "cell_type": "code",
   "execution_count": 92,
   "metadata": {},
   "outputs": [
    {
     "data": {
      "text/plain": [
       "[]"
      ]
     },
     "execution_count": 92,
     "metadata": {},
     "output_type": "execute_result"
    }
   ],
   "source": [
    "ages"
   ]
  },
  {
   "cell_type": "code",
   "execution_count": 94,
   "metadata": {},
   "outputs": [
    {
     "data": {
      "text/plain": [
       "[]"
      ]
     },
     "execution_count": 94,
     "metadata": {},
     "output_type": "execute_result"
    }
   ],
   "source": [
    "address"
   ]
  },
  {
   "cell_type": "code",
   "execution_count": 93,
   "metadata": {},
   "outputs": [
    {
     "name": "stdout",
     "output_type": "stream",
     "text": [
      "error cannot concatenate object of type '<class 'str'>'; only Series and DataFrame objs are valid\n"
     ]
    }
   ],
   "source": [
    "name = []\n",
    "ages = []\n",
    "address = [] \n",
    "\n",
    "try :\n",
    "    with open('data.csv','rt',encoding='utf-8') as fi : \n",
    "        for line in fi : \n",
    "            name, age, addr = line.split(',')\n",
    "            names.append(name.strip())\n",
    "            ages.append(age.strip())\n",
    "            address.append(addr.strip())\n",
    "            \n",
    "except Exception as e: \n",
    "    print('error',e)"
   ]
  },
  {
   "cell_type": "code",
   "execution_count": 60,
   "metadata": {},
   "outputs": [
    {
     "data": {
      "text/plain": [
       "0    names\n",
       "1      홍길동\n",
       "2      박영희\n",
       "3      김영수\n",
       "4      이경수\n",
       "5      장경철\n",
       "Name: names, dtype: object"
      ]
     },
     "execution_count": 60,
     "metadata": {},
     "output_type": "execute_result"
    }
   ],
   "source": [
    "names"
   ]
  },
  {
   "cell_type": "code",
   "execution_count": 62,
   "metadata": {},
   "outputs": [
    {
     "data": {
      "text/plain": [
       "[]"
      ]
     },
     "execution_count": 62,
     "metadata": {},
     "output_type": "execute_result"
    }
   ],
   "source": [
    "ages"
   ]
  },
  {
   "cell_type": "code",
   "execution_count": 64,
   "metadata": {},
   "outputs": [
    {
     "data": {
      "text/plain": [
       "[]"
      ]
     },
     "execution_count": 64,
     "metadata": {},
     "output_type": "execute_result"
    }
   ],
   "source": [
    "address"
   ]
  },
  {
   "cell_type": "markdown",
   "metadata": {},
   "source": [
    "- 인코딩 방식에 따라서 에러 발생. 파일읽을때에는 파일이 어떤 방식으로 저장됐는지에 따라서 달라진다. \n",
    "- 유니코드 에러 발생 시 인코딩 확인 \n",
    "    - 방식1. 읽을 때 파일 인코딩 방식에 맞춰서 읽기 \n",
    "    - 방식2. 저장할 때 인코딩 \n",
    "- 인코딩 할때 utf-8 로 "
   ]
  },
  {
   "cell_type": "code",
   "execution_count": 67,
   "metadata": {},
   "outputs": [],
   "source": [
    "# names, ages, address -> csv파일로 저장하기 \n",
    "\n",
    "with open('member.csv','wt',encoding='utf-8') as fw : \n",
    "    for mem in zip(names, ages, address) :\n",
    "        fw.write(','.join(mem)+'\\n')\n",
    "    "
   ]
  },
  {
   "cell_type": "code",
   "execution_count": 68,
   "metadata": {},
   "outputs": [
    {
     "data": {
      "text/plain": [
       "'홍길동-20-서울'"
      ]
     },
     "execution_count": 68,
     "metadata": {},
     "output_type": "execute_result"
    }
   ],
   "source": [
    "# 리스트, 튜플의 원소들을 하나의 문자열로 묶는 메소드 : str \n",
    "# \",\".join(t) : \"구분자\".join(튜플) ==> 하나의 문자열로 만들어 준다. \n",
    "t = ('홍길동','20','서울') \n",
    "\"-\".join(t)"
   ]
  },
  {
   "cell_type": "code",
   "execution_count": null,
   "metadata": {},
   "outputs": [],
   "source": []
  },
  {
   "cell_type": "markdown",
   "metadata": {},
   "source": [
    "# pandas를 이용해 csv파일 읽어오기"
   ]
  },
  {
   "cell_type": "code",
   "execution_count": 71,
   "metadata": {},
   "outputs": [
    {
     "data": {
      "text/html": [
       "<div>\n",
       "<style scoped>\n",
       "    .dataframe tbody tr th:only-of-type {\n",
       "        vertical-align: middle;\n",
       "    }\n",
       "\n",
       "    .dataframe tbody tr th {\n",
       "        vertical-align: top;\n",
       "    }\n",
       "\n",
       "    .dataframe thead th {\n",
       "        text-align: right;\n",
       "    }\n",
       "</style>\n",
       "<table border=\"1\" class=\"dataframe\">\n",
       "  <thead>\n",
       "    <tr style=\"text-align: right;\">\n",
       "      <th></th>\n",
       "      <th>0</th>\n",
       "      <th>1</th>\n",
       "      <th>2</th>\n",
       "    </tr>\n",
       "  </thead>\n",
       "  <tbody>\n",
       "    <tr>\n",
       "      <th>0</th>\n",
       "      <td>홍길동</td>\n",
       "      <td>20</td>\n",
       "      <td>서울</td>\n",
       "    </tr>\n",
       "    <tr>\n",
       "      <th>1</th>\n",
       "      <td>박영희</td>\n",
       "      <td>30</td>\n",
       "      <td>인천</td>\n",
       "    </tr>\n",
       "    <tr>\n",
       "      <th>2</th>\n",
       "      <td>김영수</td>\n",
       "      <td>17</td>\n",
       "      <td>부산</td>\n",
       "    </tr>\n",
       "    <tr>\n",
       "      <th>3</th>\n",
       "      <td>이경수</td>\n",
       "      <td>20</td>\n",
       "      <td>서울</td>\n",
       "    </tr>\n",
       "    <tr>\n",
       "      <th>4</th>\n",
       "      <td>장경철</td>\n",
       "      <td>22</td>\n",
       "      <td>인천</td>\n",
       "    </tr>\n",
       "  </tbody>\n",
       "</table>\n",
       "</div>"
      ],
      "text/plain": [
       "     0   1   2\n",
       "0  홍길동  20  서울\n",
       "1  박영희  30  인천\n",
       "2  김영수  17  부산\n",
       "3  이경수  20  서울\n",
       "4  장경철  22  인천"
      ]
     },
     "execution_count": 71,
     "metadata": {},
     "output_type": "execute_result"
    }
   ],
   "source": [
    "import pandas as pd \n",
    "data = pd.read_csv('data.csv',encoding='utf-8',header=None) # csv파일 읽기 , header=None 설정하면 \n",
    "data # 첫번째 줄 header \n"
   ]
  },
  {
   "cell_type": "code",
   "execution_count": 72,
   "metadata": {},
   "outputs": [
    {
     "data": {
      "text/plain": [
       "0    홍길동\n",
       "1    박영희\n",
       "2    김영수\n",
       "3    이경수\n",
       "4    장경철\n",
       "Name: 0, dtype: object"
      ]
     },
     "execution_count": 72,
     "metadata": {},
     "output_type": "execute_result"
    }
   ],
   "source": [
    "data[0]"
   ]
  },
  {
   "cell_type": "code",
   "execution_count": 73,
   "metadata": {},
   "outputs": [
    {
     "data": {
      "text/plain": [
       "0    20\n",
       "1    30\n",
       "2    17\n",
       "3    20\n",
       "4    22\n",
       "Name: 1, dtype: int64"
      ]
     },
     "execution_count": 73,
     "metadata": {},
     "output_type": "execute_result"
    }
   ],
   "source": [
    "data[1]"
   ]
  },
  {
   "cell_type": "code",
   "execution_count": 74,
   "metadata": {},
   "outputs": [
    {
     "data": {
      "text/plain": [
       "0    서울\n",
       "1    인천\n",
       "2    부산\n",
       "3    서울\n",
       "4    인천\n",
       "Name: 2, dtype: object"
      ]
     },
     "execution_count": 74,
     "metadata": {},
     "output_type": "execute_result"
    }
   ],
   "source": [
    "data[2]"
   ]
  },
  {
   "cell_type": "code",
   "execution_count": null,
   "metadata": {},
   "outputs": [],
   "source": []
  },
  {
   "cell_type": "markdown",
   "metadata": {},
   "source": [
    "# Iterator(반복자) , Decorator(장식자)"
   ]
  },
  {
   "cell_type": "code",
   "execution_count": null,
   "metadata": {},
   "outputs": [],
   "source": []
  },
  {
   "cell_type": "code",
   "execution_count": null,
   "metadata": {},
   "outputs": [],
   "source": []
  },
  {
   "cell_type": "code",
   "execution_count": null,
   "metadata": {},
   "outputs": [],
   "source": []
  },
  {
   "cell_type": "code",
   "execution_count": null,
   "metadata": {},
   "outputs": [],
   "source": []
  },
  {
   "cell_type": "code",
   "execution_count": null,
   "metadata": {},
   "outputs": [],
   "source": []
  },
  {
   "cell_type": "code",
   "execution_count": null,
   "metadata": {},
   "outputs": [],
   "source": []
  }
 ],
 "metadata": {
  "kernelspec": {
   "display_name": "Python 3",
   "language": "python",
   "name": "python3"
  },
  "language_info": {
   "codemirror_mode": {
    "name": "ipython",
    "version": 3
   },
   "file_extension": ".py",
   "mimetype": "text/x-python",
   "name": "python",
   "nbconvert_exporter": "python",
   "pygments_lexer": "ipython3",
   "version": "3.8.5"
  }
 },
 "nbformat": 4,
 "nbformat_minor": 4
}
