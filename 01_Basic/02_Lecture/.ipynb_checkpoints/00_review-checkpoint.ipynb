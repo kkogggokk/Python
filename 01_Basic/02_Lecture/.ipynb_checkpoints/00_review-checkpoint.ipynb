{
 "cells": [
  {
   "cell_type": "code",
   "execution_count": 1,
   "metadata": {},
   "outputs": [],
   "source": [
    "class Person :\n",
    "    pass #TODO"
   ]
  },
  {
   "cell_type": "code",
   "execution_count": 4,
   "metadata": {},
   "outputs": [
    {
     "name": "stdout",
     "output_type": "stream",
     "text": [
      "<class '__main__.Person'>\n"
     ]
    },
    {
     "data": {
      "text/plain": [
       "__main__.Person"
      ]
     },
     "execution_count": 4,
     "metadata": {},
     "output_type": "execute_result"
    }
   ],
   "source": [
    "p1 = Person() \n",
    "print(type(p1))\n",
    "type(p1)"
   ]
  },
  {
   "cell_type": "code",
   "execution_count": 8,
   "metadata": {},
   "outputs": [],
   "source": [
    "p1.name = 'hong'\n",
    "p1.age = 30\n",
    "p1.address = 'seoul'"
   ]
  },
  {
   "cell_type": "code",
   "execution_count": 9,
   "metadata": {},
   "outputs": [
    {
     "name": "stdout",
     "output_type": "stream",
     "text": [
      "hong\n",
      "30\n",
      "seoul\n"
     ]
    }
   ],
   "source": [
    "print(p1.name)\n",
    "print(p1.age)\n",
    "print(p1.address)"
   ]
  },
  {
   "cell_type": "code",
   "execution_count": 10,
   "metadata": {},
   "outputs": [],
   "source": [
    "class Person :\n",
    "    def __init__(self, name, age, address = None) :\n",
    "        self.name = name\n",
    "        self.age = age\n",
    "        self.address = address"
   ]
  },
  {
   "cell_type": "code",
   "execution_count": 11,
   "metadata": {},
   "outputs": [
    {
     "name": "stdout",
     "output_type": "stream",
     "text": [
      "park 40 None\n"
     ]
    }
   ],
   "source": [
    "p3 = Person('park',40)\n",
    "print(p3.name, p3.age, p3.address)"
   ]
  },
  {
   "cell_type": "code",
   "execution_count": 13,
   "metadata": {},
   "outputs": [
    {
     "name": "stdout",
     "output_type": "stream",
     "text": [
      "lee 30 seoul\n"
     ]
    }
   ],
   "source": [
    "p1 = Person('lee',30,'seoul')\n",
    "print(p1.name, p1.age, p1.address)"
   ]
  },
  {
   "cell_type": "code",
   "execution_count": 14,
   "metadata": {},
   "outputs": [
    {
     "name": "stdout",
     "output_type": "stream",
     "text": [
      "hong 10 Incheon\n"
     ]
    }
   ],
   "source": [
    "p2 = Person('hong',10,'Incheon')\n",
    "print(p2.name, p2.age, p2.address)"
   ]
  },
  {
   "cell_type": "code",
   "execution_count": 16,
   "metadata": {},
   "outputs": [
    {
     "data": {
      "text/plain": [
       "100"
      ]
     },
     "execution_count": 16,
     "metadata": {},
     "output_type": "execute_result"
    }
   ],
   "source": [
    "p1.age = 100 #변경, 재할당\n",
    "p1.age"
   ]
  },
  {
   "cell_type": "code",
   "execution_count": 35,
   "metadata": {},
   "outputs": [],
   "source": [
    "class Person2 :\n",
    "    '''\n",
    "    클래스에 대한 설명 독스트링\n",
    "    '''\n",
    "    \n",
    "    #생성자 \n",
    "    def __init__(self,name, age, address = None) :\n",
    "        self.name = name \n",
    "        self.age = age \n",
    "        self.address = address \n",
    "        \n",
    "    #모든 인스턴스 변수의 값을 출력하는 메소드 \n",
    "    def print_info(self) :\n",
    "        '''\n",
    "        모든 인스턴스 변수의 값을 출력하는 메소드\n",
    "        '''\n",
    "        print(f\"name : {self.name}, age : {self.age}, address : {self.address}\")\n",
    "        \n",
    "    def add_age(self,add_age = 0) : \n",
    "        self.age += add_age"
   ]
  },
  {
   "cell_type": "code",
   "execution_count": 39,
   "metadata": {},
   "outputs": [],
   "source": [
    "p1 = Person2('kim', 45, 'busan')\n",
    "p2 = Person2('park',30,'seoul')"
   ]
  },
  {
   "cell_type": "code",
   "execution_count": 28,
   "metadata": {},
   "outputs": [],
   "source": [
    "?Person2"
   ]
  },
  {
   "cell_type": "code",
   "execution_count": 29,
   "metadata": {},
   "outputs": [],
   "source": [
    "?p1.print_info"
   ]
  },
  {
   "cell_type": "code",
   "execution_count": 31,
   "metadata": {},
   "outputs": [
    {
     "name": "stdout",
     "output_type": "stream",
     "text": [
      "name : kim, age : 45, address : busan\n",
      "name : park, age : 30, address : seoul\n"
     ]
    }
   ],
   "source": [
    "p1.print_info()\n",
    "p2.print_info()"
   ]
  },
  {
   "cell_type": "code",
   "execution_count": 41,
   "metadata": {},
   "outputs": [
    {
     "name": "stdout",
     "output_type": "stream",
     "text": [
      "name : kim, age : 51, address : busan\n"
     ]
    }
   ],
   "source": [
    "p1.add_age(3)\n",
    "p1.age\n",
    "p1.print_info()"
   ]
  },
  {
   "cell_type": "code",
   "execution_count": 42,
   "metadata": {},
   "outputs": [
    {
     "name": "stdout",
     "output_type": "stream",
     "text": [
      "name : , age : -100, address : busan\n"
     ]
    }
   ],
   "source": [
    "p1.name = ''\n",
    "p1.age = -100\n",
    "p1.print_info()"
   ]
  },
  {
   "cell_type": "code",
   "execution_count": 43,
   "metadata": {},
   "outputs": [],
   "source": [
    "### information Hiding"
   ]
  },
  {
   "cell_type": "code",
   "execution_count": 79,
   "metadata": {},
   "outputs": [],
   "source": [
    "class Mydate : \n",
    "    \n",
    "    def __init__(self, year, month, day) : \n",
    "        self.__year = year\n",
    "        self.__month = month \n",
    "        self.__day = day \n",
    "        \n",
    "    def set_month(self, month) :\n",
    "        if month >= 1 and month <= 12 :\n",
    "            self.__month = month\n",
    "        else : \n",
    "            print(f'{month}는 잘못된 월 입니다. 1 - 12까지 입력')\n",
    "            \n",
    "    def get_month(self) :\n",
    "        return self.__month"
   ]
  },
  {
   "cell_type": "code",
   "execution_count": 80,
   "metadata": {},
   "outputs": [],
   "source": [
    "date = Mydate(2021,13,13)"
   ]
  },
  {
   "cell_type": "code",
   "execution_count": 81,
   "metadata": {},
   "outputs": [
    {
     "ename": "AttributeError",
     "evalue": "'Mydate' object has no attribute '__year'",
     "output_type": "error",
     "traceback": [
      "\u001b[0;31m---------------------------------------------------------------------------\u001b[0m",
      "\u001b[0;31mAttributeError\u001b[0m                            Traceback (most recent call last)",
      "\u001b[0;32m<ipython-input-81-306eeef52b95>\u001b[0m in \u001b[0;36m<module>\u001b[0;34m\u001b[0m\n\u001b[0;32m----> 1\u001b[0;31m \u001b[0mprint\u001b[0m\u001b[0;34m(\u001b[0m\u001b[0mdate\u001b[0m\u001b[0;34m.\u001b[0m\u001b[0m__year\u001b[0m\u001b[0;34m)\u001b[0m\u001b[0;34m\u001b[0m\u001b[0;34m\u001b[0m\u001b[0m\n\u001b[0m\u001b[1;32m      2\u001b[0m \u001b[0;31m#은닉된 정보이기때문에 보여주지 않는거? 맞나? #CHECK\u001b[0m\u001b[0;34m\u001b[0m\u001b[0;34m\u001b[0m\u001b[0;34m\u001b[0m\u001b[0m\n",
      "\u001b[0;31mAttributeError\u001b[0m: 'Mydate' object has no attribute '__year'"
     ]
    }
   ],
   "source": [
    "print(date.__year)\n",
    "#은닉된 정보이기때문에 보여주지 않는거? 맞나? #CHECK "
   ]
  },
  {
   "cell_type": "code",
   "execution_count": 82,
   "metadata": {},
   "outputs": [
    {
     "ename": "AttributeError",
     "evalue": "'Mydate' object has no attribute 'get_year'",
     "output_type": "error",
     "traceback": [
      "\u001b[0;31m---------------------------------------------------------------------------\u001b[0m",
      "\u001b[0;31mAttributeError\u001b[0m                            Traceback (most recent call last)",
      "\u001b[0;32m<ipython-input-82-b1481e48e5f7>\u001b[0m in \u001b[0;36m<module>\u001b[0;34m\u001b[0m\n\u001b[1;32m      1\u001b[0m \u001b[0;31m#숨겨진 정보를 변경하기 위해서 셋 메소드 필요 --> 셋 , 겟 정의 후 -> 프리퍼런스\u001b[0m\u001b[0;34m\u001b[0m\u001b[0;34m\u001b[0m\u001b[0;34m\u001b[0m\u001b[0m\n\u001b[0;32m----> 2\u001b[0;31m \u001b[0mprint\u001b[0m\u001b[0;34m(\u001b[0m\u001b[0mdate\u001b[0m\u001b[0;34m.\u001b[0m\u001b[0mget_year\u001b[0m\u001b[0;34m)\u001b[0m\u001b[0;34m\u001b[0m\u001b[0;34m\u001b[0m\u001b[0m\n\u001b[0m\u001b[1;32m      3\u001b[0m \u001b[0mprint\u001b[0m\u001b[0;34m(\u001b[0m\u001b[0mdate\u001b[0m\u001b[0;34m.\u001b[0m\u001b[0mget_year\u001b[0m\u001b[0;34m(\u001b[0m\u001b[0;34m)\u001b[0m\u001b[0;34m)\u001b[0m\u001b[0;34m\u001b[0m\u001b[0;34m\u001b[0m\u001b[0m\n",
      "\u001b[0;31mAttributeError\u001b[0m: 'Mydate' object has no attribute 'get_year'"
     ]
    }
   ],
   "source": [
    "#숨겨진 정보를 변경하기 위해서 셋 메소드 필요 --> 셋 , 겟 정의 후 -> 프리퍼런스 \n",
    "print(date.get_year)\n",
    "print(date.get_year())"
   ]
  },
  {
   "cell_type": "code",
   "execution_count": 84,
   "metadata": {},
   "outputs": [
    {
     "name": "stdout",
     "output_type": "stream",
     "text": [
      "13\n"
     ]
    }
   ],
   "source": [
    "print(date.get_month())"
   ]
  },
  {
   "cell_type": "code",
   "execution_count": 86,
   "metadata": {},
   "outputs": [
    {
     "name": "stdout",
     "output_type": "stream",
     "text": [
      "1000는 잘못된 월 입니다. 1 - 12까지 입력\n"
     ]
    }
   ],
   "source": [
    "date.set_month(1000) #변경할때 확인 "
   ]
  },
  {
   "cell_type": "code",
   "execution_count": 88,
   "metadata": {},
   "outputs": [
    {
     "data": {
      "text/plain": [
       "{'_Mydate__year': 2021, '_Mydate__month': 13, '_Mydate__day': 13}"
      ]
     },
     "execution_count": 88,
     "metadata": {},
     "output_type": "execute_result"
    }
   ],
   "source": [
    "date.__dict__"
   ]
  },
  {
   "cell_type": "code",
   "execution_count": 90,
   "metadata": {},
   "outputs": [
    {
     "data": {
      "text/plain": [
       "2021"
      ]
     },
     "execution_count": 90,
     "metadata": {},
     "output_type": "execute_result"
    }
   ],
   "source": [
    "date._Mydate__year "
   ]
  },
  {
   "cell_type": "code",
   "execution_count": 95,
   "metadata": {},
   "outputs": [],
   "source": [
    "date._Mydate__month = 1000 #클래스이름_변수이름 으로 해서 직접 변경 가능"
   ]
  },
  {
   "cell_type": "code",
   "execution_count": 96,
   "metadata": {},
   "outputs": [
    {
     "data": {
      "text/plain": [
       "1000"
      ]
     },
     "execution_count": 96,
     "metadata": {},
     "output_type": "execute_result"
    }
   ],
   "source": [
    "date.get_month() #변경 확인 "
   ]
  },
  {
   "cell_type": "code",
   "execution_count": 97,
   "metadata": {},
   "outputs": [
    {
     "data": {
      "text/plain": [
       "{'_Mydate__year': 1000, '_Mydate__month': 1000, '_Mydate__day': 13}"
      ]
     },
     "execution_count": 97,
     "metadata": {},
     "output_type": "execute_result"
    }
   ],
   "source": [
    "date.__dict__"
   ]
  },
  {
   "cell_type": "code",
   "execution_count": 102,
   "metadata": {},
   "outputs": [],
   "source": [
    "class Mydate2 :\n",
    "    \n",
    "    def __init__(self, year, month, day) :\n",
    "        self.__year = year\n",
    "        self.__month = month \n",
    "        self.__day = day\n",
    "        \n",
    "    #set \n",
    "    def set_year(self, year) : \n",
    "        self.__year = year \n",
    "    \n",
    "    def set_month(self, month) :\n",
    "        self.__month = month \n",
    "    \n",
    "    def set_day(self, day) :\n",
    "        self.__day = day \n",
    "    \n",
    "    #get \n",
    "    def get_year(self) :\n",
    "        return self.__year\n",
    "    \n",
    "    def get_month(self) :\n",
    "        return self.__month\n",
    "    \n",
    "    def get_day(self) :\n",
    "        return self.__day \n",
    "    \n",
    "    #property(getter, setter) \n",
    "    year = property(get_year, set_year)\n",
    "    month = property(get_month, set_month)\n",
    "    day = property(get_day, set_day)"
   ]
  },
  {
   "cell_type": "code",
   "execution_count": 101,
   "metadata": {},
   "outputs": [
    {
     "name": "stdout",
     "output_type": "stream",
     "text": [
      "1\n"
     ]
    }
   ],
   "source": [
    "today = Mydate2(2020,1,14)\n",
    "print(today.month)"
   ]
  },
  {
   "cell_type": "code",
   "execution_count": 105,
   "metadata": {},
   "outputs": [
    {
     "name": "stdout",
     "output_type": "stream",
     "text": [
      "10\n"
     ]
    }
   ],
   "source": [
    "today.month = 10 \n",
    "print(today.month)"
   ]
  },
  {
   "cell_type": "code",
   "execution_count": 106,
   "metadata": {},
   "outputs": [
    {
     "data": {
      "text/plain": [
       "2020"
      ]
     },
     "execution_count": 106,
     "metadata": {},
     "output_type": "execute_result"
    }
   ],
   "source": [
    "today.get_year()"
   ]
  },
  {
   "cell_type": "code",
   "execution_count": 108,
   "metadata": {},
   "outputs": [],
   "source": [
    "today.set_year(2000)"
   ]
  },
  {
   "cell_type": "code",
   "execution_count": 109,
   "metadata": {},
   "outputs": [
    {
     "data": {
      "text/plain": [
       "2000"
      ]
     },
     "execution_count": 109,
     "metadata": {},
     "output_type": "execute_result"
    }
   ],
   "source": [
    "today.year"
   ]
  },
  {
   "cell_type": "code",
   "execution_count": 110,
   "metadata": {},
   "outputs": [
    {
     "data": {
      "text/plain": [
       "{'_Mydate2__year': 2000, '_Mydate2__month': 10, '_Mydate2__day': 14}"
      ]
     },
     "execution_count": 110,
     "metadata": {},
     "output_type": "execute_result"
    }
   ],
   "source": [
    "today.__dict__"
   ]
  },
  {
   "cell_type": "code",
   "execution_count": 112,
   "metadata": {},
   "outputs": [],
   "source": [
    "class Mydate3 :\n",
    "    \n",
    "    def __init__(self, year, month, day) :\n",
    "        self.__year = year\n",
    "        self.__month = month \n",
    "        self.__day = day\n",
    "        \n",
    "    #getter -> setter \n",
    "    @property \n",
    "    def year(self) :\n",
    "        return self.__year \n",
    "    \n",
    "    @year.setter\n",
    "    def year(self, year) :\n",
    "        self.__year = year \n",
    "        \n",
    "    @property \n",
    "    def month(self) :\n",
    "        return self.__month\n",
    "    \n",
    "    @month.setter\n",
    "    def month(self, month) :\n",
    "        self.__month = month\n",
    "        \n",
    "    @property \n",
    "    def day(self) :\n",
    "        return self.__day \n",
    "    \n",
    "    @day.setter\n",
    "    def day(self, day) :\n",
    "        self.__day = day "
   ]
  },
  {
   "cell_type": "code",
   "execution_count": 113,
   "metadata": {},
   "outputs": [],
   "source": [
    "today = Mydate3(2021, 1, 14)"
   ]
  },
  {
   "cell_type": "code",
   "execution_count": 115,
   "metadata": {},
   "outputs": [
    {
     "name": "stdout",
     "output_type": "stream",
     "text": [
      "30\n"
     ]
    }
   ],
   "source": [
    "today.day = 30\n",
    "print(today.day)"
   ]
  },
  {
   "cell_type": "code",
   "execution_count": 117,
   "metadata": {},
   "outputs": [
    {
     "name": "stdout",
     "output_type": "stream",
     "text": [
      "10\n"
     ]
    }
   ],
   "source": [
    "today.month = 10 \n",
    "print(today.month)"
   ]
  },
  {
   "cell_type": "code",
   "execution_count": 118,
   "metadata": {},
   "outputs": [
    {
     "name": "stdout",
     "output_type": "stream",
     "text": [
      "2010\n"
     ]
    }
   ],
   "source": [
    "today.year = 2010\n",
    "print(today.year)"
   ]
  },
  {
   "cell_type": "code",
   "execution_count": 119,
   "metadata": {},
   "outputs": [
    {
     "data": {
      "text/plain": [
       "{'_Mydate3__year': 2010, '_Mydate3__month': 10, '_Mydate3__day': 30}"
      ]
     },
     "execution_count": 119,
     "metadata": {},
     "output_type": "execute_result"
    }
   ],
   "source": [
    "today.__dict__"
   ]
  },
  {
   "cell_type": "markdown",
   "metadata": {},
   "source": [
    "# 상속"
   ]
  },
  {
   "cell_type": "code",
   "execution_count": 120,
   "metadata": {},
   "outputs": [],
   "source": [
    "class Person : \n",
    "    \n",
    "    def eat(self) : \n",
    "        print('사람이 먹는다')"
   ]
  },
  {
   "cell_type": "code",
   "execution_count": 121,
   "metadata": {},
   "outputs": [],
   "source": [
    "class Student(Person) :\n",
    "    \n",
    "    def study(self) :\n",
    "        print('학생이 공부한다')"
   ]
  },
  {
   "cell_type": "code",
   "execution_count": 122,
   "metadata": {},
   "outputs": [],
   "source": [
    "class Teacher(Person) :\n",
    "    \n",
    "    def teach(self) :\n",
    "        print('선생이 가르친다')"
   ]
  },
  {
   "cell_type": "code",
   "execution_count": 124,
   "metadata": {},
   "outputs": [
    {
     "name": "stdout",
     "output_type": "stream",
     "text": [
      "사람이 먹는다\n",
      "학생이 공부한다\n"
     ]
    },
    {
     "ename": "AttributeError",
     "evalue": "'Student' object has no attribute 'teach'",
     "output_type": "error",
     "traceback": [
      "\u001b[0;31m---------------------------------------------------------------------------\u001b[0m",
      "\u001b[0;31mAttributeError\u001b[0m                            Traceback (most recent call last)",
      "\u001b[0;32m<ipython-input-124-cfbee38dd60e>\u001b[0m in \u001b[0;36m<module>\u001b[0;34m\u001b[0m\n\u001b[1;32m      2\u001b[0m \u001b[0ms\u001b[0m\u001b[0;34m.\u001b[0m\u001b[0meat\u001b[0m\u001b[0;34m(\u001b[0m\u001b[0;34m)\u001b[0m\u001b[0;34m\u001b[0m\u001b[0;34m\u001b[0m\u001b[0m\n\u001b[1;32m      3\u001b[0m \u001b[0ms\u001b[0m\u001b[0;34m.\u001b[0m\u001b[0mstudy\u001b[0m\u001b[0;34m(\u001b[0m\u001b[0;34m)\u001b[0m\u001b[0;34m\u001b[0m\u001b[0;34m\u001b[0m\u001b[0m\n\u001b[0;32m----> 4\u001b[0;31m \u001b[0ms\u001b[0m\u001b[0;34m.\u001b[0m\u001b[0mteach\u001b[0m\u001b[0;34m(\u001b[0m\u001b[0;34m)\u001b[0m \u001b[0;31m#error 종속된 괸계가 아님\u001b[0m\u001b[0;34m\u001b[0m\u001b[0;34m\u001b[0m\u001b[0m\n\u001b[0m",
      "\u001b[0;31mAttributeError\u001b[0m: 'Student' object has no attribute 'teach'"
     ]
    }
   ],
   "source": [
    "s = Student()\n",
    "s.eat()\n",
    "s.study()\n",
    "s.teach() #error 종속된 괸계가 아님"
   ]
  },
  {
   "cell_type": "code",
   "execution_count": 125,
   "metadata": {},
   "outputs": [
    {
     "name": "stdout",
     "output_type": "stream",
     "text": [
      "선생이 가르친다\n",
      "사람이 먹는다\n"
     ]
    }
   ],
   "source": [
    "t = Teacher() \n",
    "t.teach()\n",
    "t.eat()"
   ]
  },
  {
   "cell_type": "code",
   "execution_count": 128,
   "metadata": {},
   "outputs": [],
   "source": [
    "class Student2(Person) :\n",
    "    def eat(self) :\n",
    "        print('학생이 먹는다')\n",
    "    \n",
    "    def study(self) :\n",
    "        print('학생이 공부한다')"
   ]
  },
  {
   "cell_type": "code",
   "execution_count": 130,
   "metadata": {},
   "outputs": [
    {
     "name": "stdout",
     "output_type": "stream",
     "text": [
      "학생이 먹는다\n",
      "학생이 공부한다\n"
     ]
    }
   ],
   "source": [
    "s2 = Student2()\n",
    "s2.eat()\n",
    "s2.study()"
   ]
  },
  {
   "cell_type": "code",
   "execution_count": 150,
   "metadata": {},
   "outputs": [],
   "source": [
    "class Person : \n",
    "    \n",
    "    def __init__(self, name, age) :\n",
    "        self.name = name\n",
    "        self.age = age\n",
    "        \n",
    "    def eat(self) :\n",
    "        print(f\"{self.name}님이 먹는다.\")\n",
    "    \n",
    "    def get_info(self) :\n",
    "        return f\"이름 : {self.name}, 나이 : {self.age}\""
   ]
  },
  {
   "cell_type": "code",
   "execution_count": 151,
   "metadata": {},
   "outputs": [],
   "source": [
    "class Student(Person) :\n",
    "    \n",
    "    def __init__(self, name, age, school_name) :\n",
    "        super().__init__(name, age)\n",
    "        self.school_name = school_name \n",
    "        \n",
    "    def study(self) : \n",
    "        print(f'{self.name}님이 공부한다')\n",
    "    \n",
    "    def get_info(self) :\n",
    "        info = super().get_info()+\", 학교명 : {}\".format(self.school_name)\n",
    "        return info"
   ]
  },
  {
   "cell_type": "code",
   "execution_count": 152,
   "metadata": {},
   "outputs": [],
   "source": [
    "s = Student('park',15,'Aschool')\n",
    "p = Person('kim',20)"
   ]
  },
  {
   "cell_type": "code",
   "execution_count": 155,
   "metadata": {},
   "outputs": [
    {
     "name": "stdout",
     "output_type": "stream",
     "text": [
      "Aschool\n",
      "park 15\n"
     ]
    }
   ],
   "source": [
    "print(s.school_name)\n",
    "print(s.name, s.age)"
   ]
  },
  {
   "cell_type": "code",
   "execution_count": 156,
   "metadata": {},
   "outputs": [
    {
     "name": "stdout",
     "output_type": "stream",
     "text": [
      "park님이 공부한다\n"
     ]
    }
   ],
   "source": [
    "s.study()"
   ]
  },
  {
   "cell_type": "code",
   "execution_count": null,
   "metadata": {},
   "outputs": [],
   "source": []
  }
 ],
 "metadata": {
  "kernelspec": {
   "display_name": "Python 3",
   "language": "python",
   "name": "python3"
  },
  "language_info": {
   "codemirror_mode": {
    "name": "ipython",
    "version": 3
   },
   "file_extension": ".py",
   "mimetype": "text/x-python",
   "name": "python",
   "nbconvert_exporter": "python",
   "pygments_lexer": "ipython3",
   "version": "3.8.5"
  }
 },
 "nbformat": 4,
 "nbformat_minor": 4
}
