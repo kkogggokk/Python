{
 "cells": [
  {
   "cell_type": "markdown",
   "metadata": {},
   "source": [
    "# 제어문\n",
    "- 조건문 \n",
    "    - if else\n",
    "  \n",
    "- 반목문\n",
    "    - while\n",
    "    - for in : 자료구조나 문자열 관련됨 \n",
    "    \n",
    "- 컴프리핸션 (Comprehension)\n"
   ]
  },
  {
   "cell_type": "markdown",
   "metadata": {},
   "source": [
    "## 논리형(bool, boolean) 다시보기 \n",
    "- True, False 를 나타내는 자료형 \n",
    "- 비교 연산자 \n",
    "- 논리 연산자 , &(and), |(or), ^(xor), not\n",
    "- 논리형 데이터를 사용하는 곳에는 다른 타입의 데이터를 넣을 경우 다음은 False로 처리\n",
    "    - 숫자 : 0, 0.0\n",
    "    - 문자 : 빈 문자열 \n",
    "    - length가 0인 자료구조(튜플, 리스트, 딕셔너리)\n",
    "    - None\n",
    "- bool(값) : 인수의 값이 True, False인지 알려준다"
   ]
  },
  {
   "cell_type": "markdown",
   "metadata": {},
   "source": [
    "## 조건문(분기문) - if \n",
    "- if문 \n",
    "- if else문\n",
    "- if elif else 문 "
   ]
  },
  {
   "cell_type": "code",
   "execution_count": 2,
   "metadata": {},
   "outputs": [
    {
     "name": "stdout",
     "output_type": "stream",
     "text": [
      "0입니다.\n"
     ]
    }
   ],
   "source": [
    "num = 0 # 만약에 num이 0이면 \"0입니다.\"로 출력 아니면 출력안함\n",
    "\n",
    "if num == 0 : \n",
    "    print(\"0입니다.\")"
   ]
  },
  {
   "cell_type": "code",
   "execution_count": 5,
   "metadata": {},
   "outputs": [
    {
     "name": "stdout",
     "output_type": "stream",
     "text": [
      "0입니다.\n",
      "영입니다.\n",
      "없습니다.\n",
      "종료\n"
     ]
    }
   ],
   "source": [
    "num = 0 \n",
    "# if 조건 : bool타입이 들어와야 하는 곳, 다른 타입의 값이 들어오면 bool(논리형)으로 알아서 변환 \n",
    "if not num :\n",
    "    print(\"0입니다.\")\n",
    "    print(\"영입니다.\")\n",
    "    print(\"없습니다.\")\n",
    "\n",
    "print(\"종료\")"
   ]
  },
  {
   "cell_type": "code",
   "execution_count": 9,
   "metadata": {},
   "outputs": [
    {
     "name": "stdout",
     "output_type": "stream",
     "text": [
      "0입니다.\n"
     ]
    }
   ],
   "source": [
    "num = 0 \n",
    "# 만약에 num이 0이면 \"0이비다.\"를 출력하고 아니면 \"0이 아닙니다\" 출력\n",
    "\n",
    "if num == 0 :\n",
    "    print(\"0입니다.\")\n",
    "else :\n",
    "    print(\"0이 아닙니다.\")"
   ]
  },
  {
   "cell_type": "code",
   "execution_count": 15,
   "metadata": {},
   "outputs": [
    {
     "name": "stdout",
     "output_type": "stream",
     "text": [
      "0\n"
     ]
    }
   ],
   "source": [
    "num = 0 # numd이 0보다 크면 \"양수\" 0이면 \"0\"출력 0보다 작으면 \"음수\"출력\n",
    "\n",
    "if num > 0 :\n",
    "    print(\"양수\")\n",
    "elif num == 0 :\n",
    "    print(\"0\")\n",
    "else :\n",
    "    print(\"음수\")"
   ]
  },
  {
   "cell_type": "code",
   "execution_count": 25,
   "metadata": {},
   "outputs": [
    {
     "name": "stdout",
     "output_type": "stream",
     "text": [
      "도시명 : 인천\n",
      "인천 광역시\n"
     ]
    }
   ],
   "source": [
    "# 특별시 : 서울 \n",
    "# 광역시 : 인천, 부산, 대구, 광주, 대구, 울산 \n",
    "\n",
    "city = input(\"도시명 : \")\n",
    "\n",
    "if city == \"서울\" :\n",
    "    print(f\"{city}특별시\")\n",
    "elif city == \"인천\" or city ==\"부산\" or city == \"대구\" or city ==\"울산\" :\n",
    "    print(f\"{city}광역시\")\n",
    "else :\n",
    "    print(\"해당 도시를 입력해주세요\")"
   ]
  },
  {
   "cell_type": "code",
   "execution_count": 28,
   "metadata": {},
   "outputs": [
    {
     "name": "stdout",
     "output_type": "stream",
     "text": [
      "도시명 : 대구\n",
      "대구특별시\n"
     ]
    }
   ],
   "source": [
    "city = input(\"도시명 : \").strip() #공백제거 하기 위해서 입력 받을 때 strip많이 쓴다 \n",
    "\n",
    "if city == \"서울\" :\n",
    "    print(f\"{city}특별시\")\n",
    "elif city in [\"인천\",\"부산\",\"대구\",\"울산\"] :\n",
    "    print(f\"{city}특별시\")\n",
    "else : \n",
    "    print(f\"{city}는 일반시\")"
   ]
  },
  {
   "cell_type": "markdown",
   "metadata": {},
   "source": [
    "### 반복문 \n",
    "- while 문 \n",
    "    - 특정 조건이 True인 동안 명령문 반복 실행 \n",
    "- for in 문\n",
    "    - 문자열, 자료구조(리스트, 튜플, 셋, 딕셔너리)의 원소들을 하나씩 모두 조회할 때 사용. (literable 타입) \n",
    "    \n",
    "** literable한 객체란 \n",
    "    - 반복가능한 객체 \n",
    "\n",
    "- "
   ]
  },
  {
   "cell_type": "markdown",
   "metadata": {},
   "source": [
    "## while 문 \n",
    "- 대입연산자 \n",
    "    - 변수 = 값\n",
    "    - 변수 연산자 = 값 :: 변수 = 변수 연산자 \n",
    "        - a += 10 :: a = a + 10 \n",
    "        - a -= 10 :: a = a - 10\n",
    "        - a *= 10 :: a= a * 10 "
   ]
  },
  {
   "cell_type": "code",
   "execution_count": 36,
   "metadata": {},
   "outputs": [
    {
     "name": "stdout",
     "output_type": "stream",
     "text": [
      "0\n",
      "1\n",
      "2\n",
      "3\n",
      "4\n",
      "5\n",
      "6\n",
      "7\n",
      "8\n",
      "9\n",
      "종료\n"
     ]
    }
   ],
   "source": [
    "## while문 \n",
    "cnt = 0 # 초기식 : 조건에서 사용되면서 조건을 False로 바꿀 때 사용할 값 , 이 값은 반복구문에서 사용할 수 있다.  \n",
    "while cnt < 10 : #조건식 \n",
    "    print(cnt)\n",
    "#     cnt = cnt + 1 #증감식\n",
    "    cnt += 1\n",
    "\n",
    "print(\"종료\")"
   ]
  },
  {
   "cell_type": "code",
   "execution_count": 38,
   "metadata": {},
   "outputs": [
    {
     "name": "stdout",
     "output_type": "stream",
     "text": [
      "5\n",
      "10\n",
      "15\n",
      "20\n",
      "25\n",
      "30\n",
      "35\n",
      "40\n",
      "45\n",
      "50\n",
      "55\n",
      "60\n",
      "65\n",
      "70\n",
      "75\n",
      "80\n",
      "85\n",
      "90\n",
      "95\n",
      "100\n",
      "종료\n"
     ]
    }
   ],
   "source": [
    "# 1 ~ 100 중에서 5의 배수만 출력 \n",
    "cnt = 1 \n",
    "\n",
    "while cnt <= 100 : \n",
    "    if cnt % 5 == 0 : \n",
    "        print(cnt)\n",
    "    cnt += 1 \n",
    "\n",
    "print(\"종료\")"
   ]
  },
  {
   "cell_type": "code",
   "execution_count": 39,
   "metadata": {},
   "outputs": [
    {
     "name": "stdout",
     "output_type": "stream",
     "text": [
      "5\n",
      "10\n",
      "15\n",
      "20\n",
      "25\n",
      "30\n",
      "35\n",
      "40\n",
      "45\n",
      "50\n",
      "55\n",
      "60\n",
      "65\n",
      "70\n",
      "75\n",
      "80\n",
      "85\n",
      "90\n",
      "95\n",
      "100\n"
     ]
    }
   ],
   "source": [
    "cnt = 1 \n",
    "flag = True\n",
    "while flag : #무한루프 돌겠지? \n",
    "    if cnt % 5 == 0 : \n",
    "        print(cnt)\n",
    "    cnt += 1 \n",
    "    if cnt > 100 :\n",
    "        flag = False \n",
    "        "
   ]
  },
  {
   "cell_type": "markdown",
   "metadata": {},
   "source": [
    "### for in 문 \n",
    "```python \n",
    "for 변수 in literale :\n",
    "    반복할 구문 \n",
    "\n",
    "``` \n"
   ]
  },
  {
   "cell_type": "code",
   "execution_count": 40,
   "metadata": {},
   "outputs": [
    {
     "name": "stdout",
     "output_type": "stream",
     "text": [
      "사과\n",
      "복숭아\n",
      "귤\n",
      "수박\n",
      "배\n"
     ]
    }
   ],
   "source": [
    "fruits = [\"사과\", \"복숭아\", \"귤\", \"수박\", \"배\"]\n",
    "\n",
    "index = 0 #리스트의 인덱스 \n",
    "\n",
    "#리스트의 갯수를 안다는 가정하에 가능한 코드 \n",
    "while index < 5 : \n",
    "    print(fruits[index])\n",
    "    index += 1 \n",
    "\n"
   ]
  },
  {
   "cell_type": "code",
   "execution_count": 48,
   "metadata": {},
   "outputs": [
    {
     "name": "stdout",
     "output_type": "stream",
     "text": [
      "사과\n",
      "복숭아\n",
      "귤\n",
      "수박\n",
      "배\n"
     ]
    }
   ],
   "source": [
    "fruits = [\"사과\", \"복숭아\", \"귤\", \"수박\", \"배\"]\n",
    "index = 0 #리스트의 인덱스 \n",
    "\n",
    "#길이를 모를때 how ? 길이를 구해서\n",
    "length = len(fruits)  \n",
    "\n",
    "while index < length : \n",
    "    print(fruits[index])\n",
    "    index += 1 "
   ]
  },
  {
   "cell_type": "code",
   "execution_count": 49,
   "metadata": {},
   "outputs": [
    {
     "name": "stdout",
     "output_type": "stream",
     "text": [
      "사과\n",
      "복숭아\n",
      "귤\n",
      "수박\n",
      "배\n"
     ]
    }
   ],
   "source": [
    "for fruit in fruits : \n",
    "    print(fruit)"
   ]
  },
  {
   "cell_type": "code",
   "execution_count": 50,
   "metadata": {},
   "outputs": [
    {
     "name": "stdout",
     "output_type": "stream",
     "text": [
      "1\n",
      "2\n",
      "3\n",
      "4\n",
      "5\n"
     ]
    }
   ],
   "source": [
    "for num in (1,2,3,4,5) : \n",
    "    print(num)"
   ]
  },
  {
   "cell_type": "code",
   "execution_count": 52,
   "metadata": {},
   "outputs": [
    {
     "name": "stdout",
     "output_type": "stream",
     "text": [
      "1\n",
      "10\n",
      "20\n",
      "30\n"
     ]
    }
   ],
   "source": [
    "for num in {10, 20, 30, 1} :#셋은 넣은 순서랑 출력 다르게 나올 수 있다. \n",
    "    print(num)"
   ]
  },
  {
   "cell_type": "code",
   "execution_count": 55,
   "metadata": {},
   "outputs": [
    {
     "name": "stdout",
     "output_type": "stream",
     "text": [
      "a\n",
      "b\n",
      "c\n"
     ]
    }
   ],
   "source": [
    "d = {\n",
    "    \"a\" : 10, \n",
    "    \"b\" : [20,30] , \n",
    "    \"c\" : 30\n",
    "}\n",
    "\n",
    "for key in d :  #딕셔너리는 키 값을 반환한다. \n",
    "    print(key)"
   ]
  },
  {
   "cell_type": "code",
   "execution_count": 56,
   "metadata": {},
   "outputs": [
    {
     "name": "stdout",
     "output_type": "stream",
     "text": [
      "10\n",
      "[20, 30]\n",
      "30\n"
     ]
    }
   ],
   "source": [
    "for key in d : \n",
    "    print(d[key])"
   ]
  },
  {
   "cell_type": "code",
   "execution_count": 57,
   "metadata": {},
   "outputs": [
    {
     "data": {
      "text/plain": [
       "(dict_values([10, [20, 30], 30]),\n",
       " dict_keys(['a', 'b', 'c']),\n",
       " dict_items([('a', 10), ('b', [20, 30]), ('c', 30)]))"
      ]
     },
     "execution_count": 57,
     "metadata": {},
     "output_type": "execute_result"
    }
   ],
   "source": [
    "#밸류값 전체 조회 하고 싶을 때 \n",
    "d. values(), d.keys(), d.items()"
   ]
  },
  {
   "cell_type": "code",
   "execution_count": 58,
   "metadata": {},
   "outputs": [
    {
     "name": "stdout",
     "output_type": "stream",
     "text": [
      "10\n",
      "[20, 30]\n",
      "30\n"
     ]
    }
   ],
   "source": [
    "for v in d.values() :\n",
    "    print(v)"
   ]
  },
  {
   "cell_type": "code",
   "execution_count": 60,
   "metadata": {},
   "outputs": [
    {
     "name": "stdout",
     "output_type": "stream",
     "text": [
      "('a', 10)\n",
      "('b', [20, 30])\n",
      "('c', 30)\n"
     ]
    }
   ],
   "source": [
    "#키가 b인 아이템의 밸류를 출력 \n",
    "for v in d.items() : \n",
    "    print(v)"
   ]
  },
  {
   "cell_type": "code",
   "execution_count": 61,
   "metadata": {},
   "outputs": [
    {
     "name": "stdout",
     "output_type": "stream",
     "text": [
      "[20, 30]\n"
     ]
    }
   ],
   "source": [
    "#키가 b인 아이템의 밸류를 출력 \n",
    "for v in d.items() : \n",
    "    if v[0] == 'b' : \n",
    "        print(v[1])"
   ]
  },
  {
   "cell_type": "code",
   "execution_count": 63,
   "metadata": {},
   "outputs": [
    {
     "name": "stdout",
     "output_type": "stream",
     "text": [
      "[20, 30]\n"
     ]
    }
   ],
   "source": [
    "for key, value in d.items() : \n",
    "    if key == 'b' : \n",
    "        print(value)"
   ]
  },
  {
   "cell_type": "code",
   "execution_count": 64,
   "metadata": {},
   "outputs": [],
   "source": [
    "lst = [\n",
    "    [1, 2, 3],\n",
    "    [10, 20, 30],\n",
    "    [100, 200, 300, 400]\n",
    "]"
   ]
  },
  {
   "cell_type": "code",
   "execution_count": 81,
   "metadata": {},
   "outputs": [
    {
     "name": "stdout",
     "output_type": "stream",
     "text": [
      "1 2 3\n",
      "10 20 30\n"
     ]
    },
    {
     "ename": "ValueError",
     "evalue": "too many values to unpack (expected 3)",
     "output_type": "error",
     "traceback": [
      "\u001b[1;31m---------------------------------------------------------------------------\u001b[0m",
      "\u001b[1;31mValueError\u001b[0m                                Traceback (most recent call last)",
      "\u001b[1;32m<ipython-input-81-4528b77e0364>\u001b[0m in \u001b[0;36m<module>\u001b[1;34m\u001b[0m\n\u001b[0;32m      1\u001b[0m \u001b[1;31m#리스트나 튜플의 원소 갯수가 같을 경우에는 사용할수 있음\u001b[0m\u001b[1;33m\u001b[0m\u001b[1;33m\u001b[0m\u001b[1;33m\u001b[0m\u001b[0m\n\u001b[0;32m      2\u001b[0m \u001b[1;31m# 갯수가 다르면 이중 반복문을 사용해야 함\u001b[0m\u001b[1;33m\u001b[0m\u001b[1;33m\u001b[0m\u001b[1;33m\u001b[0m\u001b[0m\n\u001b[1;32m----> 3\u001b[1;33m \u001b[1;32mfor\u001b[0m \u001b[0mv1\u001b[0m\u001b[1;33m,\u001b[0m \u001b[0mv2\u001b[0m\u001b[1;33m,\u001b[0m \u001b[0mv3\u001b[0m \u001b[1;32min\u001b[0m \u001b[0mlst\u001b[0m \u001b[1;33m:\u001b[0m\u001b[1;33m\u001b[0m\u001b[1;33m\u001b[0m\u001b[0m\n\u001b[0m\u001b[0;32m      4\u001b[0m     \u001b[0mprint\u001b[0m\u001b[1;33m(\u001b[0m\u001b[0mv1\u001b[0m\u001b[1;33m,\u001b[0m \u001b[0mv2\u001b[0m\u001b[1;33m,\u001b[0m \u001b[0mv3\u001b[0m\u001b[1;33m,\u001b[0m \u001b[0msep\u001b[0m\u001b[1;33m=\u001b[0m\u001b[1;34m\" \"\u001b[0m\u001b[1;33m)\u001b[0m\u001b[1;33m\u001b[0m\u001b[1;33m\u001b[0m\u001b[0m\n",
      "\u001b[1;31mValueError\u001b[0m: too many values to unpack (expected 3)"
     ]
    }
   ],
   "source": [
    "#리스트나 튜플의 원소 갯수가 같을 경우에는 사용할수 있음\n",
    "# 갯수가 다르면 이중 반복문을 사용해야 함 \n",
    "for v1, v2, v3 in lst : \n",
    "    print(v1, v2, v3, sep=\" \")"
   ]
  },
  {
   "cell_type": "code",
   "execution_count": 84,
   "metadata": {},
   "outputs": [
    {
     "name": "stdout",
     "output_type": "stream",
     "text": [
      "1 2 3 \n",
      "10 20 30 \n",
      "100 200 300 400 \n"
     ]
    }
   ],
   "source": [
    "#원소 갯수 다를 때 이중 반복문  \n",
    "# 값은 다 조회가 됨. \n",
    "for l in lst : \n",
    "#     print(l)\n",
    "    for v in l :\n",
    "        print(v, end = \" \")\n",
    "    print()"
   ]
  },
  {
   "cell_type": "code",
   "execution_count": 70,
   "metadata": {},
   "outputs": [
    {
     "name": "stdout",
     "output_type": "stream",
     "text": [
      "a\n",
      "b\n",
      "c\n",
      "d\n",
      "e\n",
      "f\n",
      "가\n",
      "나\n",
      "다\n",
      "라\n"
     ]
    }
   ],
   "source": [
    "for s in \"abcdef가나다라\" : \n",
    "    print(s)"
   ]
  },
  {
   "cell_type": "code",
   "execution_count": 78,
   "metadata": {},
   "outputs": [
    {
     "name": "stdout",
     "output_type": "stream",
     "text": [
      "aaaa bbbb======a-b-20끝"
     ]
    }
   ],
   "source": [
    "#프린트 1줄엔터 싫다. \n",
    "print(\"aaaa\",end=' ') # end = 기본값은 엔터, 구분자 넣고 싶으면 다른거 넣으면됨\n",
    "print(\"bbbb\",end=\"======\")\n",
    "print(\"a\", \"b\", 20, sep=\"-\", end=\"끝\") # sep = \"구분자\", end = \"마지막 구분자\""
   ]
  },
  {
   "cell_type": "markdown",
   "metadata": {},
   "source": [
    "### break \n",
    "- 반복문을 멈춘다\n",
    "- 해당 조건이 되면 반복을 끝내는 형태로 많이 쓰임\n",
    "\n",
    "### continue \n",
    "- 나머지 부분을 실행하지 않고 다음 반복을 시작한다. "
   ]
  },
  {
   "cell_type": "code",
   "execution_count": 85,
   "metadata": {},
   "outputs": [
    {
     "name": "stdout",
     "output_type": "stream",
     "text": [
      "5\n",
      "10\n",
      "15\n",
      "20\n",
      "25\n",
      "30\n",
      "35\n",
      "40\n",
      "45\n",
      "50\n",
      "55\n",
      "60\n",
      "65\n",
      "70\n",
      "75\n",
      "80\n",
      "85\n",
      "90\n",
      "95\n",
      "100\n"
     ]
    }
   ],
   "source": [
    "cnt = 1 \n",
    "while True : #무한루프 \n",
    "    if cnt % 5 == 0 :\n",
    "        print(cnt)\n",
    "    cnt += 1 \n",
    "    if cnt > 100 : \n",
    "        break # 반복문을 끝내라"
   ]
  },
  {
   "cell_type": "code",
   "execution_count": 86,
   "metadata": {},
   "outputs": [
    {
     "name": "stdout",
     "output_type": "stream",
     "text": [
      "1\n"
     ]
    }
   ],
   "source": [
    "while True : \n",
    "    print(1)\n",
    "    break"
   ]
  },
  {
   "cell_type": "code",
   "execution_count": 90,
   "metadata": {},
   "outputs": [
    {
     "name": "stdout",
     "output_type": "stream",
     "text": [
      "5\n",
      "10\n",
      "15\n",
      "20\n",
      "25\n",
      "30\n",
      "35\n",
      "40\n",
      "45\n",
      "50\n",
      "55\n",
      "60\n",
      "65\n",
      "70\n",
      "75\n",
      "80\n",
      "85\n",
      "90\n",
      "95\n",
      "100\n"
     ]
    }
   ],
   "source": [
    "cnt = 1 \n",
    "while cnt <= 100 : \n",
    "    if cnt % 5 != 0 : #5의 배수가 아니면 \n",
    "        cnt += 1 \n",
    "        continue #밑에 실행하지 않고 조건문 다시 올라간다. \n",
    "    print(cnt)\n",
    "    cnt += 1 "
   ]
  },
  {
   "cell_type": "code",
   "execution_count": 91,
   "metadata": {},
   "outputs": [
    {
     "name": "stdout",
     "output_type": "stream",
     "text": [
      "3\n",
      "6\n",
      "9\n"
     ]
    }
   ],
   "source": [
    "#3의 배수 찍고 싶을 때, 3의 배수가 아니면 찍지마라 \n",
    "#반복은 돌고 있지만 다음으로 넘어 가지 않고 해당 조건을 넘어가는 경우 \n",
    "for i in [1,2,3,4,5,6,7,8,9,10] : \n",
    "    if i % 3 != 0 : \n",
    "        continue \n",
    "    print(i)"
   ]
  },
  {
   "cell_type": "code",
   "execution_count": null,
   "metadata": {},
   "outputs": [],
   "source": []
  }
 ],
 "metadata": {
  "kernelspec": {
   "display_name": "Python 3",
   "language": "python",
   "name": "python3"
  },
  "language_info": {
   "codemirror_mode": {
    "name": "ipython",
    "version": 3
   },
   "file_extension": ".py",
   "mimetype": "text/x-python",
   "name": "python",
   "nbconvert_exporter": "python",
   "pygments_lexer": "ipython3",
   "version": "3.8.5"
  }
 },
 "nbformat": 4,
 "nbformat_minor": 4
}
