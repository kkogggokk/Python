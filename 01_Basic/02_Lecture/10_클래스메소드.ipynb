{
 "cells": [
  {
   "cell_type": "markdown",
   "metadata": {},
   "source": [
    "# 클래스 메소드 \n",
    "- 객체가 아닌 클래스 자체의 메소드와 변수 \n",
    "    - 객체 별로 생성되는 것이 아니라 한 클래스에 속하게 된다.\n",
    "    - 클래스 메소드는 클래스 벼수와 관련된 기능을 제공하는 메소드를 만들 때 사용 \n",
    "- 클래스 변수 선언 \n",
    "    - 클래스 블록에 선언한 변수로 Class이름.변수명으로 호출\n",
    "- 클래스 메소드\n",
    "    - 메소드 선언부에 @classmethod 데코레이터를 붙인다\n",
    "    - 반드시 한 개의 매개변수를 선언해야 한다.\n",
    "- 클래스 변수/메소드 호출 \n",
    "     - ㅇㄹㅇㄹ\n",
    "- "
   ]
  },
  {
   "cell_type": "markdown",
   "metadata": {},
   "source": [
    "# 정적메소드 \n",
    "- 클래스에 선언된 메소드로 객체와 상관 없이 클래스의 기능을 제공 \n",
    "- 구현 : 메소드 선언부에 @staticmethod 데코레이터를 붙인다. \n",
    "- 변수와 관련된 일을 하지 않기 때문에 클래스 메소드를 선언하지 않는다.\n",
    "- 클래스 메소드와 다르게 클래스를 받는 ㅇ러니ㅏㅇ러\n",
    "- 호출하는 방식 : class이름.메소드명()"
   ]
  },
  {
   "cell_type": "markdown",
   "metadata": {},
   "source": [
    "# 동적메소드\n",
    "- ㅇㄹㄴㅇㄹ\n",
    "- ㄴㅇㄹㅇㄴㄹ"
   ]
  },
  {
   "cell_type": "markdown",
   "metadata": {},
   "source": [
    "## Class 변수, Class메소드 \n",
    "- Class 변수 : 클래스 자체의 변수(속성) \n",
    "- Class 메소드 : 클래스 변수를 처리하는 메소드 \n",
    "- instance(객체)와 관계 없다.\n",
    "\n",
    "## Static(정적)메소드\n",
    "- 클래스의 기능을 제공하는 메소드 \n",
    "- 클래스 변수와 처리하는 일을 하지 않는다. "
   ]
  },
  {
   "cell_type": "code",
   "execution_count": 11,
   "metadata": {},
   "outputs": [],
   "source": [
    "class Calculate : \n",
    "    '''\n",
    "    다양한 연산을 하는 메소드들을 묶어 놓은 클래스\n",
    "    '''\n",
    "    \n",
    "    # 클래스 변수 : PI \n",
    "    PI = 3.14 \n",
    "    \n",
    "    #반지름을 받아서 원의 넓이를 구하는 메소드\n",
    "    @classmethod #clazz 받는 매개변수 선언해야함. 왜? 객체 속성들 접근하기 위해.\n",
    "    def circleArea(clazz, radius) : #클래스 변수 가져오기 위해서 clazz, clzz, clz . class는 예약어므로 \n",
    "        result = radius * radius * clazz.PI\n",
    "        return result \n",
    "    \n",
    "    @staticmethod #객체 속성을 접근할 필요가 없어서 매개변수 받을 값만 선언. 함수를 클래스 안\n",
    "    def plus(*args) : # * 이거 왜 붙였지? 가변인자 , 값 쭉 나열하면 튜플로 받기위함\n",
    "        return sum(args) \n",
    "    \n",
    "    @staticmethod\n",
    "    def minus(n1, n2) :\n",
    "        print(Calculate.PI) # 클래스 메소드에 접근하고 싶으면 클래스메서드로 선언해서 만드는 것이 낫다. 굳이 호출하고 싶으면 클래스명.변수\n",
    "        return n1 - n2"
   ]
  },
  {
   "cell_type": "code",
   "execution_count": 12,
   "metadata": {},
   "outputs": [
    {
     "data": {
      "text/plain": [
       "3.14"
      ]
     },
     "execution_count": 12,
     "metadata": {},
     "output_type": "execute_result"
    }
   ],
   "source": [
    "Calculate.PI #call : 클래스이름.변수명 , 클래스이름.메소드() "
   ]
  },
  {
   "cell_type": "code",
   "execution_count": 13,
   "metadata": {},
   "outputs": [
    {
     "data": {
      "text/plain": [
       "314.0"
      ]
     },
     "execution_count": 13,
     "metadata": {},
     "output_type": "execute_result"
    }
   ],
   "source": [
    "Calculate.circleArea(10)"
   ]
  },
  {
   "cell_type": "code",
   "execution_count": 14,
   "metadata": {},
   "outputs": [
    {
     "data": {
      "text/plain": [
       "15"
      ]
     },
     "execution_count": 14,
     "metadata": {},
     "output_type": "execute_result"
    }
   ],
   "source": [
    "#static mehtod call : className.method()\n",
    "Calculate.plus(1,2,3,4,5)"
   ]
  },
  {
   "cell_type": "code",
   "execution_count": 16,
   "metadata": {},
   "outputs": [
    {
     "data": {
      "text/plain": [
       "5"
      ]
     },
     "execution_count": 16,
     "metadata": {},
     "output_type": "execute_result"
    }
   ],
   "source": [
    "Calculate.minus(10,5)"
   ]
  },
  {
   "cell_type": "markdown",
   "metadata": {},
   "source": [
    "# 모듈과 패키지 \n"
   ]
  },
  {
   "cell_type": "code",
   "execution_count": null,
   "metadata": {},
   "outputs": [],
   "source": []
  }
 ],
 "metadata": {
  "kernelspec": {
   "display_name": "Python 3",
   "language": "python",
   "name": "python3"
  },
  "language_info": {
   "codemirror_mode": {
    "name": "ipython",
    "version": 3
   },
   "file_extension": ".py",
   "mimetype": "text/x-python",
   "name": "python",
   "nbconvert_exporter": "python",
   "pygments_lexer": "ipython3",
   "version": "3.8.5"
  }
 },
 "nbformat": 4,
 "nbformat_minor": 4
}
