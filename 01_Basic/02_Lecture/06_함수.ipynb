{
 "cells": [
  {
   "cell_type": "markdown",
   "metadata": {},
   "source": [
    "# 함수 Function\n",
    "## 1)함수란 \n",
    "- 하나의 작업, 기능, 동작을 처리 하기 위한 명령문들의 묶음 \n",
    "- 만들어진 함수는 동일한 작업이 필요할 때 마다 재사용\n",
    "- 함수 정의 : 함수를 만드는것\n",
    "    - 함수를 만든 후 메모리에 올라가야 한다. \n",
    "- 함수 호출 : 정의된 함수를 사용하는 것\n",
    "- 파이썬에서 함수는 일급 시민 객체(First class citizen object)라고 한다.\n",
    "- First class citizen : 변수에 할당할 수 있고, 인수로 전달할 수 있고, 반환 값으로 반환할 수 있는 객체"
   ]
  },
  {
   "cell_type": "code",
   "execution_count": 3,
   "metadata": {},
   "outputs": [
    {
     "data": {
      "text/plain": [
       "100"
      ]
     },
     "execution_count": 3,
     "metadata": {},
     "output_type": "execute_result"
    }
   ],
   "source": [
    "#int는 호출하는 함수의 이름이다 \n",
    "#괄호안의 100은 함수의 인수(argument) : 함수에게 전달하는 값\n",
    "#이 함수는 처리 결과를 반환하는 데 그 값을 : 반환 값 \n",
    "# 반환값이 없는 함수는 None이 반환된다. \n",
    "int('100')"
   ]
  },
  {
   "cell_type": "markdown",
   "metadata": {},
   "source": [
    "## 2)함수만들기 \n",
    "- 함수정의 \n",
    "    - 새로운 함수를 만드는 것 \n",
    "    - 함수의 선언부(header) 와 구현부(body)로 나눠진다 \n",
    "- 함수 선언부(header) : 함수의 이름과 인수를 받을 변수를 지정\n",
    "- 함수 구현부(body) : 함수가 호출되었을 때 실행할 실행문 지정 \n",
    "- 선언 마지막에는 : 을 넣어 구현부과 구분한다. \n",
    "-매겨변수(인자,parameter)는 인수를 받기 위한 변수로 0개 이상 선언할 수 있다. \n",
    "- 함수의 실행구문은 반드시 공백4개 또는 탭 이후에 작성한다.\n",
    "- 결과값이 있을 경우 return 구문을 넣고 없을 경우 return은 생략할 수 있다. \n",
    "    - return 값이 없는 함수는 None 을 반환한다. "
   ]
  },
  {
   "cell_type": "markdown",
   "metadata": {},
   "source": [
    "```python\n",
    "def 함수이름([변수1, 변수2, ... ]) #변수 : 파라미터, 매개변수 \n",
    "    실행문 \n",
    "    실행문 \n",
    "    [return 반환값] #return이 실행 안되면 None반환\n",
    "```\n",
    "- 함수 이름 : 관례적으로 소문자만 사용. 단어와 단어는 '-'로 연결 \n",
    "    - 어떤 값을 제공하는 함수일 경우 : get_제공하는값 - get_name()\n",
    "    - 어떤 값을 변경하는 함수 : set_변경할 값 - set_name(), set_age()\n",
    "    - 어떤 값을 제거(삭제) 함수 : remove_삭제할 값 - remove_name, remove_age() "
   ]
  },
  {
   "cell_type": "code",
   "execution_count": 4,
   "metadata": {},
   "outputs": [],
   "source": [
    "def say_hello() : #선언부\n",
    "    # 구현부 \n",
    "    print(\"안녕하세요\")\n",
    "    print(\"Hello\")\n"
   ]
  },
  {
   "cell_type": "code",
   "execution_count": 5,
   "metadata": {},
   "outputs": [
    {
     "name": "stdout",
     "output_type": "stream",
     "text": [
      "안녕하세요\n",
      "Hello\n"
     ]
    }
   ],
   "source": [
    "#호출 = 함수이름([전달한 값])\n",
    "say_hello()"
   ]
  },
  {
   "cell_type": "code",
   "execution_count": 15,
   "metadata": {},
   "outputs": [],
   "source": [
    "def say_hello2(name) : #name : parameter\n",
    "    print(f\"{name}님,안녕하세요. \")\n",
    "    print(f\"{name}, Hello\")\n"
   ]
  },
  {
   "cell_type": "code",
   "execution_count": 16,
   "metadata": {},
   "outputs": [
    {
     "name": "stdout",
     "output_type": "stream",
     "text": [
      "홍길동님,안녕하세요. \n",
      "홍길동, Hello\n"
     ]
    }
   ],
   "source": [
    "say_hello2(\"홍길동\") #이름을 받아서 출력하기"
   ]
  },
  {
   "cell_type": "code",
   "execution_count": 17,
   "metadata": {},
   "outputs": [
    {
     "name": "stdout",
     "output_type": "stream",
     "text": [
      "John님,안녕하세요. \n",
      "John, Hello\n"
     ]
    }
   ],
   "source": [
    "say_hello2(\"John\")"
   ]
  },
  {
   "cell_type": "code",
   "execution_count": 21,
   "metadata": {},
   "outputs": [],
   "source": [
    "def say_hello3(name) : \n",
    "    greeting = f\"{name}님, 안녕하세요. {name}, Hello\"     \n",
    "    return greeting #반환값(return value) : 처리결과로서 호출한 곳에 전달 "
   ]
  },
  {
   "cell_type": "code",
   "execution_count": 22,
   "metadata": {},
   "outputs": [
    {
     "data": {
      "text/plain": [
       "'John님, 안녕하세요. John, Hello'"
      ]
     },
     "execution_count": 22,
     "metadata": {},
     "output_type": "execute_result"
    }
   ],
   "source": [
    "say_hello3(\"John\")"
   ]
  },
  {
   "cell_type": "code",
   "execution_count": 24,
   "metadata": {},
   "outputs": [
    {
     "name": "stdout",
     "output_type": "stream",
     "text": [
      "abc\n"
     ]
    }
   ],
   "source": [
    "#프린트 함수는 반환해주는게 없다. \n",
    "j = print(\"abc\")\n",
    "j"
   ]
  },
  {
   "cell_type": "code",
   "execution_count": 48,
   "metadata": {},
   "outputs": [],
   "source": [
    "#두 개의 숫자를 받아서 사칙연산 결과를 반환 \n",
    "def calculate(num1, num2) : \n",
    "    a = num1 + num2 \n",
    "    b = num1 - num2\n",
    "    c = num1 * num2 \n",
    "    d  = num1 / num2 \n",
    "    \n",
    "    #반환 값을 묶어 줘서 리턴한다. 리턴 값은 반드시 하다만 가능하다. \n",
    "#     return [a, b, c, d] #리스트형태 \n",
    "    return a, b, c, d #tuple \n",
    "#     return {} # 값이 각각 뭐다라고 정의하고 싶을 땐 딕셔너리로 "
   ]
  },
  {
   "cell_type": "code",
   "execution_count": 49,
   "metadata": {},
   "outputs": [
    {
     "name": "stdout",
     "output_type": "stream",
     "text": [
      "(15, 5, 50, 2.0)\n"
     ]
    }
   ],
   "source": [
    "result = calculate(10, 5)\n",
    "print(result)"
   ]
  },
  {
   "cell_type": "code",
   "execution_count": 58,
   "metadata": {},
   "outputs": [
    {
     "name": "stdout",
     "output_type": "stream",
     "text": [
      "덧셈 : 6, 뺄셈 : 2, 곱셈 : 8, 나눗셈 : 2.0\n"
     ]
    }
   ],
   "source": [
    "#받은 반환값을 여러개 나눠서 받을 수 있다. \n",
    "a, b, c, d = calculate(4,2)\n",
    "print(f\"덧셈 : {a}, 뺄셈 : {b}, 곱셈 : {c}, 나눗셈 : {d}\")"
   ]
  },
  {
   "cell_type": "code",
   "execution_count": 56,
   "metadata": {
    "collapsed": true
   },
   "outputs": [
    {
     "ename": "ZeroDivisionError",
     "evalue": "division by zero",
     "output_type": "error",
     "traceback": [
      "\u001b[1;31m---------------------------------------------------------------------------\u001b[0m",
      "\u001b[1;31mZeroDivisionError\u001b[0m                         Traceback (most recent call last)",
      "\u001b[1;32m<ipython-input-56-4809c2a683b1>\u001b[0m in \u001b[0;36m<module>\u001b[1;34m\u001b[0m\n\u001b[1;32m----> 1\u001b[1;33m \u001b[0mresult\u001b[0m \u001b[1;33m=\u001b[0m \u001b[0mcalculate\u001b[0m\u001b[1;33m(\u001b[0m\u001b[1;36m10\u001b[0m\u001b[1;33m,\u001b[0m \u001b[1;36m0\u001b[0m\u001b[1;33m)\u001b[0m \u001b[1;31m#0으로 나눌 수 없다 . 함수에서 오류가 나면 실행이 안된다.\u001b[0m\u001b[1;33m\u001b[0m\u001b[1;33m\u001b[0m\u001b[0m\n\u001b[0m\u001b[0;32m      2\u001b[0m \u001b[0mresult\u001b[0m\u001b[1;33m\u001b[0m\u001b[1;33m\u001b[0m\u001b[0m\n\u001b[0;32m      3\u001b[0m \u001b[1;33m\u001b[0m\u001b[0m\n\u001b[0;32m      4\u001b[0m \u001b[1;31m#에러문에서 함수 최종적으로 난 것은 위에부분. 호출한 부분 함수부분, 둘다 에러메시지 표기\u001b[0m\u001b[1;33m\u001b[0m\u001b[1;33m\u001b[0m\u001b[1;33m\u001b[0m\u001b[0m\n",
      "\u001b[1;32m<ipython-input-48-748d2cb967e9>\u001b[0m in \u001b[0;36mcalculate\u001b[1;34m(num1, num2)\u001b[0m\n\u001b[0;32m      4\u001b[0m     \u001b[0mb\u001b[0m \u001b[1;33m=\u001b[0m \u001b[0mnum1\u001b[0m \u001b[1;33m-\u001b[0m \u001b[0mnum2\u001b[0m\u001b[1;33m\u001b[0m\u001b[1;33m\u001b[0m\u001b[0m\n\u001b[0;32m      5\u001b[0m     \u001b[0mc\u001b[0m \u001b[1;33m=\u001b[0m \u001b[0mnum1\u001b[0m \u001b[1;33m*\u001b[0m \u001b[0mnum2\u001b[0m\u001b[1;33m\u001b[0m\u001b[1;33m\u001b[0m\u001b[0m\n\u001b[1;32m----> 6\u001b[1;33m     \u001b[0md\u001b[0m  \u001b[1;33m=\u001b[0m \u001b[0mnum1\u001b[0m \u001b[1;33m/\u001b[0m \u001b[0mnum2\u001b[0m\u001b[1;33m\u001b[0m\u001b[1;33m\u001b[0m\u001b[0m\n\u001b[0m\u001b[0;32m      7\u001b[0m \u001b[1;33m\u001b[0m\u001b[0m\n\u001b[0;32m      8\u001b[0m     \u001b[1;31m#반환 값을 묶어 줘서 리턴한다.\u001b[0m\u001b[1;33m\u001b[0m\u001b[1;33m\u001b[0m\u001b[1;33m\u001b[0m\u001b[0m\n",
      "\u001b[1;31mZeroDivisionError\u001b[0m: division by zero"
     ]
    }
   ],
   "source": [
    "result = calculate(10, 0) #0으로 나눌 수 없다 . 함수에서 오류가 나면 실행이 안된다. \n",
    "result\n",
    "\n",
    "#에러문에서 함수 최종적으로 난 것은 위에부분. 호출한 부분 함수부분, 둘다 에러메시지 표기 \n",
    "#에러문 비교해보기 , 함수 호출시 호출 관계를 알수 잇다. "
   ]
  },
  {
   "cell_type": "code",
   "execution_count": 57,
   "metadata": {
    "collapsed": true
   },
   "outputs": [
    {
     "ename": "ZeroDivisionError",
     "evalue": "division by zero",
     "output_type": "error",
     "traceback": [
      "\u001b[1;31m---------------------------------------------------------------------------\u001b[0m",
      "\u001b[1;31mZeroDivisionError\u001b[0m                         Traceback (most recent call last)",
      "\u001b[1;32m<ipython-input-57-a440fbe75a6d>\u001b[0m in \u001b[0;36m<module>\u001b[1;34m\u001b[0m\n\u001b[1;32m----> 1\u001b[1;33m \u001b[1;36m10\u001b[0m\u001b[1;33m/\u001b[0m\u001b[1;36m0\u001b[0m\u001b[1;33m\u001b[0m\u001b[1;33m\u001b[0m\u001b[0m\n\u001b[0m\u001b[0;32m      2\u001b[0m \u001b[1;31m#에러문 비교해보기 , 함수 호출시 호출 관계를 알수 잇다.\u001b[0m\u001b[1;33m\u001b[0m\u001b[1;33m\u001b[0m\u001b[1;33m\u001b[0m\u001b[0m\n",
      "\u001b[1;31mZeroDivisionError\u001b[0m: division by zero"
     ]
    }
   ],
   "source": [
    "10/0\n"
   ]
  },
  {
   "cell_type": "markdown",
   "metadata": {},
   "source": [
    "## 3) 함수의 매개변수(인자, 파라미터) \n",
    "### 매개변수 선언의 여러가지 문법\n",
    "#### (1)  positional parameter(Argument) \n",
    "- 매개변수를 순서대로 나열한 것 \n",
    "    - def my_func(a, b, c) :  <-- 이게 파라미터 : 함수 선언 시 받는 변수 \n",
    "- 호출할 때 각 파라미터에 전달 할 값을 순서대로 나열한다. \n",
    "- 전달할 값을 생략할 수 없다. 3개 선언했으면 3개를 전달 해야한다. \n",
    "    - def my_func(10,20) : c에 전달할 값이 없으므로 에러  <-- 10, 20 이 아규먼트 : 전달값\n",
    "    \n",
    "#### (2) 기본값이 있는 매개 변수 \n",
    "- 매개변수를 선언할 때 값을 대입한다. \n",
    "- 기본값이 있는 매개변수\n",
    "\n",
    "#### (3) keyword parameter(Argument) - 키워드 인자 \n",
    "- 호출 시 전달할 값(argument)을 어떤 파라미터에 대입할 지 변수명을 이용해 지정할 수 있다. \n",
    "\n"
   ]
  },
  {
   "cell_type": "code",
   "execution_count": 63,
   "metadata": {},
   "outputs": [],
   "source": [
    "def print_info(name, age, tall) :\n",
    "    print(f\"이름 : {name}, 나이 : {age}, 키 : {tall}\")"
   ]
  },
  {
   "cell_type": "code",
   "execution_count": 65,
   "metadata": {},
   "outputs": [
    {
     "name": "stdout",
     "output_type": "stream",
     "text": [
      "이름 : hong, 나이 : 20, 키 : 175.4\n"
     ]
    }
   ],
   "source": [
    "print_info(\"hong\",20,175.4)"
   ]
  },
  {
   "cell_type": "code",
   "execution_count": 66,
   "metadata": {},
   "outputs": [
    {
     "name": "stdout",
     "output_type": "stream",
     "text": [
      "이름 : 30, 나이 : 180, 키 : lee\n"
     ]
    }
   ],
   "source": [
    "print_info(30,180,\"lee\")\n",
    "#위치 파라미터는 순서에 따라서 값이 달라질 수 있다. 따라서 위치에 맞에 입력해야한다. \n",
    "# 그 위치를 알아야 한다. "
   ]
  },
  {
   "cell_type": "code",
   "execution_count": 74,
   "metadata": {},
   "outputs": [],
   "source": [
    "#기본값이 있는 매개변수 선언 \n",
    "def print_info2(name=None, age=None, tall=None) :\n",
    "    print(f\"이름 : {name}, 나이 : {age}, 키 : {tall}\")"
   ]
  },
  {
   "cell_type": "code",
   "execution_count": 71,
   "metadata": {
    "scrolled": true
   },
   "outputs": [
    {
     "name": "stdout",
     "output_type": "stream",
     "text": [
      "이름 : hong, 나이 : None, 키 : None\n"
     ]
    }
   ],
   "source": [
    "print_info2(\"hong\") # name = \"hong\", age, tall = 기본값인 none으로 출력 "
   ]
  },
  {
   "cell_type": "code",
   "execution_count": 75,
   "metadata": {},
   "outputs": [
    {
     "name": "stdout",
     "output_type": "stream",
     "text": [
      "이름 : hong, 나이 : 42, 키 : 172.2\n"
     ]
    }
   ],
   "source": [
    "print_info2(name=\"hong\", tall=172.2, age=42) \n",
    "#입력 순서에 상관없이 파라미터 변수에 맞춰 아규먼트 값이 입력이 된다."
   ]
  },
  {
   "cell_type": "markdown",
   "metadata": {},
   "source": [
    "### 기본값이 없는 매개변수와 기본값이 있는 매개변수 같이 선언할 때 \n",
    "- 기본값이 없는 매개변수들을 먼저 선언해야 한다. \n",
    "- 예시) def fun(a, b, c, d=0, e=None) "
   ]
  },
  {
   "cell_type": "code",
   "execution_count": 76,
   "metadata": {},
   "outputs": [],
   "source": [
    "def print_info3(name, age, tall=None, weight=None) :\n",
    "    print(f\"name : {name}, age : {age}, tall : {tall}. weight : {weight}\")\n"
   ]
  },
  {
   "cell_type": "code",
   "execution_count": 77,
   "metadata": {},
   "outputs": [
    {
     "name": "stdout",
     "output_type": "stream",
     "text": [
      "name : hong, age : 20, tall : 180. weight : 80\n"
     ]
    }
   ],
   "source": [
    "print_info3(\"hong\",20,180,80)"
   ]
  },
  {
   "cell_type": "code",
   "execution_count": 78,
   "metadata": {},
   "outputs": [],
   "source": [
    "# 기본값이 없는 매개변수 : 필수 \n",
    "# 기본값이 있는 매개변수 : 옵션"
   ]
  },
  {
   "cell_type": "markdown",
   "metadata": {},
   "source": [
    "### 함수의 매개변수 - 가변인자 \n",
    "- 인수의 개수를 정하지 않고 받은 경우 사용한다.\n",
    "- 매개변수 앞에 *를 붙인다. \n",
    "    - 가변인자는 튜플로 처리된다. \n",
    "    - 이름관례 : args\n",
    "- 매개변수 앞에 **를 붙인다. \n",
    "    - 가변인자는 딕셔너리로 처리된다.\n",
    "    - 키 = 값 형식으로 인수를 전달해야 한다. \n",
    "    - 이름 관례 : kwargs\n",
    "- 하나의 함수 정의 당 가변인자는 각각 한개씩만 가능.\n",
    "- 가변인자와 일반 매개변수를 같이 선언할 경우 , 일반매개변수를 먼저 선언해야 한다. "
   ]
  },
  {
   "cell_type": "code",
   "execution_count": 80,
   "metadata": {},
   "outputs": [],
   "source": [
    "#리스트를 받아서 총 합계를 구하는 함수\n",
    "def sum_nums(num_list) : \n",
    "    print(num_list)"
   ]
  },
  {
   "cell_type": "code",
   "execution_count": 81,
   "metadata": {},
   "outputs": [
    {
     "name": "stdout",
     "output_type": "stream",
     "text": [
      "[1, 3, 4, 5, 6]\n"
     ]
    }
   ],
   "source": [
    "sum_nums([1, 3, 4, 5, 6])"
   ]
  },
  {
   "cell_type": "code",
   "execution_count": 82,
   "metadata": {},
   "outputs": [],
   "source": [
    "def sum_nums2(*num_list) : #가변인자 , 호출하는 쪽에서 좀더 자유롭게 갯수 맞추지 않고 입력가능\n",
    "    print(num_list)"
   ]
  },
  {
   "cell_type": "code",
   "execution_count": 87,
   "metadata": {},
   "outputs": [
    {
     "name": "stdout",
     "output_type": "stream",
     "text": [
      "(1, 2, 3)\n",
      "(1, 2, 3, 4, 5, 6, 7, 8, 9)\n"
     ]
    }
   ],
   "source": [
    "#가변인자 호출 어떻게? 함수 선언할때 파라미터 갯수 정했는데, 가변인자인 경우 갯수 정하지 않아도 가능\n",
    "sum_nums2(1, 2, 3)\n",
    "sum_nums2(1,2,3,4,5,6,7,8,9)"
   ]
  },
  {
   "cell_type": "code",
   "execution_count": 88,
   "metadata": {},
   "outputs": [
    {
     "name": "stdout",
     "output_type": "stream",
     "text": [
      "([10, 20, 30, 40, 50],)\n"
     ]
    },
    {
     "ename": "NameError",
     "evalue": "name 'sum_num2' is not defined",
     "output_type": "error",
     "traceback": [
      "\u001b[1;31m---------------------------------------------------------------------------\u001b[0m",
      "\u001b[1;31mNameError\u001b[0m                                 Traceback (most recent call last)",
      "\u001b[1;32m<ipython-input-88-3ea61df565b5>\u001b[0m in \u001b[0;36m<module>\u001b[1;34m\u001b[0m\n\u001b[0;32m      1\u001b[0m \u001b[0mnums\u001b[0m \u001b[1;33m=\u001b[0m \u001b[1;33m[\u001b[0m\u001b[1;36m10\u001b[0m\u001b[1;33m,\u001b[0m \u001b[1;36m20\u001b[0m\u001b[1;33m,\u001b[0m \u001b[1;36m30\u001b[0m\u001b[1;33m,\u001b[0m \u001b[1;36m40\u001b[0m\u001b[1;33m,\u001b[0m \u001b[1;36m50\u001b[0m\u001b[1;33m]\u001b[0m\u001b[1;33m\u001b[0m\u001b[1;33m\u001b[0m\u001b[0m\n\u001b[0;32m      2\u001b[0m \u001b[0msum_nums2\u001b[0m\u001b[1;33m(\u001b[0m\u001b[0mnums\u001b[0m\u001b[1;33m)\u001b[0m \u001b[1;31m#리스트1개를 전달  sum_nums2([10. 20, 30, 40, 50])\u001b[0m\u001b[1;33m\u001b[0m\u001b[1;33m\u001b[0m\u001b[0m\n\u001b[1;32m----> 3\u001b[1;33m \u001b[0msum_num2\u001b[0m\u001b[1;33m(\u001b[0m\u001b[1;33m*\u001b[0m\u001b[0mnums\u001b[0m\u001b[1;33m)\u001b[0m \u001b[1;31m# 리스트의 원소들을 풀어서 전달 sum_nums2(10, 20, 30, 40, 50)\u001b[0m\u001b[1;33m\u001b[0m\u001b[1;33m\u001b[0m\u001b[0m\n\u001b[0m\u001b[0;32m      4\u001b[0m \u001b[1;31m#구분해서 사용해야할 듯\u001b[0m\u001b[1;33m\u001b[0m\u001b[1;33m\u001b[0m\u001b[1;33m\u001b[0m\u001b[0m\n",
      "\u001b[1;31mNameError\u001b[0m: name 'sum_num2' is not defined"
     ]
    }
   ],
   "source": [
    "nums = [10, 20, 30, 40, 50]\n",
    "sum_nums2(nums) #리스트1개를 전달  sum_nums2([10. 20, 30, 40, 50])\n",
    "sum_num2(*nums) # 리스트의 원소들을 풀어서 전달 sum_nums2(10, 20, 30, 40, 50)\n",
    "#구분해서 사용해야할 듯 "
   ]
  },
  {
   "cell_type": "markdown",
   "metadata": {},
   "source": [
    "- def 함수명(**변수명) \n",
    "    - 호출할 때 키워드 인자 형태로 전달하고 가변인수는 이것을 딕셔너리로 처리한다. \n",
    "    - 관례적으로 변수명은 kwargs 로 준다. "
   ]
  },
  {
   "cell_type": "code",
   "execution_count": 89,
   "metadata": {},
   "outputs": [],
   "source": [
    "def person_info(**info) :\n",
    "    print(info)\n",
    "    print(type(info))"
   ]
  },
  {
   "cell_type": "code",
   "execution_count": 92,
   "metadata": {},
   "outputs": [
    {
     "ename": "TypeError",
     "evalue": "person_info() takes 0 positional arguments but 2 were given",
     "output_type": "error",
     "traceback": [
      "\u001b[1;31m---------------------------------------------------------------------------\u001b[0m",
      "\u001b[1;31mTypeError\u001b[0m                                 Traceback (most recent call last)",
      "\u001b[1;32m<ipython-input-92-9890096fbb8a>\u001b[0m in \u001b[0;36m<module>\u001b[1;34m\u001b[0m\n\u001b[1;32m----> 1\u001b[1;33m \u001b[0mperson_info\u001b[0m\u001b[1;33m(\u001b[0m\u001b[1;34m\"hong\"\u001b[0m\u001b[1;33m,\u001b[0m\u001b[1;36m20\u001b[0m\u001b[1;33m)\u001b[0m \u001b[1;31m#error\u001b[0m\u001b[1;33m\u001b[0m\u001b[1;33m\u001b[0m\u001b[0m\n\u001b[0m\u001b[0;32m      2\u001b[0m \u001b[0mperson_info\u001b[0m\u001b[1;33m(\u001b[0m\u001b[0mname\u001b[0m\u001b[1;33m=\u001b[0m\u001b[1;34m'hong'\u001b[0m\u001b[1;33m,\u001b[0m \u001b[0mage\u001b[0m\u001b[1;33m=\u001b[0m\u001b[1;36m20\u001b[0m\u001b[1;33m,\u001b[0m \u001b[0mtall\u001b[0m\u001b[1;33m=\u001b[0m\u001b[1;36m173\u001b[0m\u001b[1;33m)\u001b[0m\u001b[1;33m\u001b[0m\u001b[1;33m\u001b[0m\u001b[0m\n",
      "\u001b[1;31mTypeError\u001b[0m: person_info() takes 0 positional arguments but 2 were given"
     ]
    }
   ],
   "source": [
    "person_info(\"hong\",20) #error "
   ]
  },
  {
   "cell_type": "code",
   "execution_count": 95,
   "metadata": {},
   "outputs": [
    {
     "name": "stdout",
     "output_type": "stream",
     "text": [
      "{'name': 'hong', 'age': 20, 'tall': 173}\n",
      "<class 'dict'>\n"
     ]
    }
   ],
   "source": [
    "person_info(name='hong', age=20, tall=173) #내부적으로 딕셔너리로 처리된다. "
   ]
  },
  {
   "cell_type": "code",
   "execution_count": 97,
   "metadata": {},
   "outputs": [
    {
     "name": "stdout",
     "output_type": "stream",
     "text": [
      "{'name': 'lee'}\n",
      "<class 'dict'>\n"
     ]
    }
   ],
   "source": [
    "person_info(name='lee') #원하는 갯수대로 지정 가능 "
   ]
  },
  {
   "cell_type": "code",
   "execution_count": 103,
   "metadata": {},
   "outputs": [
    {
     "name": "stdout",
     "output_type": "stream",
     "text": [
      "{'id': 'id-1', 'pwd': '1234', 'name': 'hong'}\n",
      "<class 'dict'>\n"
     ]
    }
   ],
   "source": [
    "# ** 딕셔너리로 넣을때 이미 딕셔너리가 존재 한다면? 풀어서 넣고 싶을때? \n",
    "d = {\n",
    "    \"id\" : \"id-1\",\n",
    "    \"pwd\" : \"1234\",\n",
    "    \"name\" : \"hong\"\n",
    "}\n",
    "person_info(**d) #호출할때 각 값을 풀어서 넣어줘 "
   ]
  },
  {
   "cell_type": "markdown",
   "metadata": {},
   "source": [
    "## 변수의 유효범위 (scope)"
   ]
  },
  {
   "cell_type": "code",
   "execution_count": 105,
   "metadata": {},
   "outputs": [],
   "source": [
    "def my_func() :\n",
    "    #함수 내에서 선언된 변수 : 지역변수, local variable ==> 함수 내부에서만 사용 가능 \n",
    "    x = 10 \n",
    "    print(x)"
   ]
  },
  {
   "cell_type": "code",
   "execution_count": 106,
   "metadata": {},
   "outputs": [
    {
     "name": "stdout",
     "output_type": "stream",
     "text": [
      "10\n"
     ]
    }
   ],
   "source": [
    "my_func()"
   ]
  },
  {
   "cell_type": "code",
   "execution_count": 108,
   "metadata": {},
   "outputs": [
    {
     "ename": "NameError",
     "evalue": "name 'x' is not defined",
     "output_type": "error",
     "traceback": [
      "\u001b[1;31m---------------------------------------------------------------------------\u001b[0m",
      "\u001b[1;31mNameError\u001b[0m                                 Traceback (most recent call last)",
      "\u001b[1;32m<ipython-input-108-36a78d62caa3>\u001b[0m in \u001b[0;36m<module>\u001b[1;34m\u001b[0m\n\u001b[1;32m----> 1\u001b[1;33m \u001b[0mx\u001b[0m \u001b[1;31m#함수 밖에서는 사용할수 없는 변수\u001b[0m\u001b[1;33m\u001b[0m\u001b[1;33m\u001b[0m\u001b[0m\n\u001b[0m",
      "\u001b[1;31mNameError\u001b[0m: name 'x' is not defined"
     ]
    }
   ],
   "source": [
    "x #함수 밖에서는 사용할수 없는 변수 "
   ]
  },
  {
   "cell_type": "code",
   "execution_count": 109,
   "metadata": {},
   "outputs": [
    {
     "name": "stdout",
     "output_type": "stream",
     "text": [
      "1000\n"
     ]
    }
   ],
   "source": [
    "var = 1000\n",
    "print(var)"
   ]
  },
  {
   "cell_type": "code",
   "execution_count": 110,
   "metadata": {},
   "outputs": [],
   "source": [
    "def test_func3() :\n",
    "    global var # 전역변수 선언 \n",
    "    var = 200 \n",
    "    print(var)"
   ]
  },
  {
   "cell_type": "code",
   "execution_count": 112,
   "metadata": {},
   "outputs": [
    {
     "name": "stdout",
     "output_type": "stream",
     "text": [
      "200\n"
     ]
    },
    {
     "data": {
      "text/plain": [
       "200"
      ]
     },
     "execution_count": 112,
     "metadata": {},
     "output_type": "execute_result"
    }
   ],
   "source": [
    "test_func3()\n",
    "var"
   ]
  },
  {
   "cell_type": "markdown",
   "metadata": {},
   "source": [
    "### 함수(Function)는 일급시민객체(First class citizen object) \n",
    "#### 일급시민객체(값) 란? \n",
    "- 변수에 대입할 수 있는 값(타입)\n",
    "- 함수 호출 시 매개변수로 전달할 수 있는 값 (argument)\n",
    "- 함수의 반환값으로 사용할 수 있는 값 "
   ]
  },
  {
   "cell_type": "code",
   "execution_count": 113,
   "metadata": {},
   "outputs": [],
   "source": [
    "a = 10 #int \n",
    "def test_func(num) : \n",
    "    print(num)\n",
    "    return 10 #int 반환값 "
   ]
  },
  {
   "cell_type": "code",
   "execution_count": 114,
   "metadata": {},
   "outputs": [
    {
     "name": "stdout",
     "output_type": "stream",
     "text": [
      "10\n"
     ]
    }
   ],
   "source": [
    "i = test_func(10) #int 10을 argument \n",
    "print(i)\n",
    "\n",
    "# 따라서 int는 일급시민객체이다. 함수도 일급시민객체처럼 사용할 수 있다."
   ]
  },
  {
   "cell_type": "code",
   "execution_count": 115,
   "metadata": {},
   "outputs": [],
   "source": [
    "#함수의 이름 : hello \n",
    "def hello() : \n",
    "    print(\"Hello\")\n"
   ]
  },
  {
   "cell_type": "code",
   "execution_count": 116,
   "metadata": {},
   "outputs": [
    {
     "name": "stdout",
     "output_type": "stream",
     "text": [
      "Hello\n"
     ]
    }
   ],
   "source": [
    "hello()"
   ]
  },
  {
   "cell_type": "code",
   "execution_count": 117,
   "metadata": {},
   "outputs": [
    {
     "name": "stdout",
     "output_type": "stream",
     "text": [
      "Hello\n"
     ]
    }
   ],
   "source": [
    "v = hello()"
   ]
  },
  {
   "cell_type": "code",
   "execution_count": 118,
   "metadata": {},
   "outputs": [],
   "source": [
    "my_hello = hello #hello함수를 대입 => 새로운 이름을 부여한것 \n",
    "my_hello()"
   ]
  },
  {
   "cell_type": "code",
   "execution_count": 121,
   "metadata": {},
   "outputs": [
    {
     "name": "stdout",
     "output_type": "stream",
     "text": [
      "Hello\n"
     ]
    }
   ],
   "source": [
    "hello() #hello()함수 호출 "
   ]
  },
  {
   "cell_type": "code",
   "execution_count": 122,
   "metadata": {},
   "outputs": [
    {
     "name": "stdout",
     "output_type": "stream",
     "text": [
      "Hello\n"
     ]
    }
   ],
   "source": [
    "your_hello = hello\n",
    "your_hello()"
   ]
  },
  {
   "cell_type": "code",
   "execution_count": 125,
   "metadata": {},
   "outputs": [],
   "source": [
    "def plus(num1, num2) :\n",
    "    return num1+num2 "
   ]
  },
  {
   "cell_type": "code",
   "execution_count": 127,
   "metadata": {},
   "outputs": [
    {
     "data": {
      "text/plain": [
       "3"
      ]
     },
     "execution_count": 127,
     "metadata": {},
     "output_type": "execute_result"
    }
   ],
   "source": [
    "v = plus(1,2)\n",
    "v"
   ]
  },
  {
   "cell_type": "code",
   "execution_count": 128,
   "metadata": {},
   "outputs": [
    {
     "data": {
      "text/plain": [
       "<function __main__.plus(num1, num2)>"
      ]
     },
     "execution_count": 128,
     "metadata": {},
     "output_type": "execute_result"
    }
   ],
   "source": [
    "v2 = plus #plus 함수 자체를 v2에 대입 \n",
    "v2"
   ]
  },
  {
   "cell_type": "code",
   "execution_count": 132,
   "metadata": {},
   "outputs": [
    {
     "data": {
      "text/plain": [
       "300"
      ]
     },
     "execution_count": 132,
     "metadata": {},
     "output_type": "execute_result"
    }
   ],
   "source": [
    "v2(100,200)"
   ]
  },
  {
   "cell_type": "code",
   "execution_count": 134,
   "metadata": {},
   "outputs": [
    {
     "name": "stdout",
     "output_type": "stream",
     "text": [
      "3\n",
      "<function plus at 0x00000152A484F310>\n"
     ]
    }
   ],
   "source": [
    "print(plus(1,2))\n",
    "print(plus)"
   ]
  },
  {
   "cell_type": "code",
   "execution_count": 136,
   "metadata": {},
   "outputs": [],
   "source": [
    "def wrapper(f) : \n",
    "    a = f(10,100)\n",
    "    print(a)"
   ]
  },
  {
   "cell_type": "code",
   "execution_count": 137,
   "metadata": {},
   "outputs": [
    {
     "name": "stdout",
     "output_type": "stream",
     "text": [
      "110\n"
     ]
    }
   ],
   "source": [
    "wrapper(plus)"
   ]
  },
  {
   "cell_type": "code",
   "execution_count": 138,
   "metadata": {},
   "outputs": [],
   "source": [
    "def calculate(func) :\n",
    "    #n1, n2를 어떻게 처리할 지를 func 매개변수를 통해서 함수로 받는다. \n",
    "    n1 = 10 \n",
    "    n2 = 20 \n",
    "    result = func(n1,n2)\n",
    "    print(result)"
   ]
  },
  {
   "cell_type": "code",
   "execution_count": 139,
   "metadata": {},
   "outputs": [
    {
     "name": "stdout",
     "output_type": "stream",
     "text": [
      "30\n"
     ]
    }
   ],
   "source": [
    "calculate(plus)"
   ]
  },
  {
   "cell_type": "code",
   "execution_count": 158,
   "metadata": {},
   "outputs": [],
   "source": [
    "def plus(num1, num2) : \n",
    "    return num1 + num2 \n",
    "\n",
    "def minus(num1, num2) :\n",
    "    return num1 - num2 \n",
    "\n",
    "def multiply(num1, num2) :\n",
    "    return num1 * num2 \n",
    "\n",
    "def divid(num1, num2) :\n",
    "    return num1 / num2 \n"
   ]
  },
  {
   "cell_type": "code",
   "execution_count": 159,
   "metadata": {},
   "outputs": [
    {
     "data": {
      "text/plain": [
       "[(0, 100, 1), (1, 2, 3), (10, -10, 5)]"
      ]
     },
     "execution_count": 159,
     "metadata": {},
     "output_type": "execute_result"
    }
   ],
   "source": [
    "lst = [\n",
    "    (1, 2, 3), \n",
    "    (10, -10, 5), \n",
    "    (0, 100, 1)\n",
    "]\n",
    "\n",
    "# sorted(ilteravble, key = 함수)  #키를 기준으로 정렬한다. 이때 함수도 넣을 수 있다.\n",
    "# 원소 하나하나를 함수의 매개변수에 전달 -> 그 함수가 반환하는 값을 기준으로 정렬. \n",
    "\n",
    "sorted(lst)"
   ]
  },
  {
   "cell_type": "code",
   "execution_count": 160,
   "metadata": {},
   "outputs": [],
   "source": [
    "def get_key(tu) :\n",
    "    return tu[1] #1번 인덱스 리턴하기 "
   ]
  },
  {
   "cell_type": "code",
   "execution_count": 162,
   "metadata": {},
   "outputs": [
    {
     "data": {
      "text/plain": [
       "2"
      ]
     },
     "execution_count": 162,
     "metadata": {},
     "output_type": "execute_result"
    }
   ],
   "source": [
    "get_key((1,2,3))"
   ]
  },
  {
   "cell_type": "code",
   "execution_count": 163,
   "metadata": {},
   "outputs": [
    {
     "data": {
      "text/plain": [
       "5"
      ]
     },
     "execution_count": 163,
     "metadata": {},
     "output_type": "execute_result"
    }
   ],
   "source": [
    "get_key((10,5,7))"
   ]
  },
  {
   "cell_type": "code",
   "execution_count": 164,
   "metadata": {},
   "outputs": [
    {
     "data": {
      "text/plain": [
       "[(10, -10, 5), (1, 2, 3), (0, 100, 1)]"
      ]
     },
     "execution_count": 164,
     "metadata": {},
     "output_type": "execute_result"
    }
   ],
   "source": [
    "sorted(lst, key = get_key) #정렬값이 1번 인덱스로 정렬됨 "
   ]
  },
  {
   "cell_type": "code",
   "execution_count": 165,
   "metadata": {},
   "outputs": [],
   "source": [
    "def tu_sum(tu) : \n",
    "    return sum(tu)"
   ]
  },
  {
   "cell_type": "code",
   "execution_count": 166,
   "metadata": {},
   "outputs": [
    {
     "data": {
      "text/plain": [
       "[(0, 100, 1), (1, 2, 3), (10, -10, 5)]"
      ]
     },
     "execution_count": 166,
     "metadata": {},
     "output_type": "execute_result"
    }
   ],
   "source": [
    "sorted(lst, key = tu_sum, reverse = True)"
   ]
  },
  {
   "cell_type": "markdown",
   "metadata": {},
   "source": [
    "### 람다표현식 (람다식 - Lamda Expression)\n",
    "- 단일 구문으로 표현하는 익명함수 \n",
    "    - 익명함수 : 이름(함수선언) 없이 구현만 가지고 있는 함수 표현식\n",
    "- 일회성 사용 함수를 만들때 주로 사용 \n",
    "    - 함수 호출 시 매개변수에 함수를 전달할 때 많이 사용 \n",
    "- 구문 \n",
    "```python\n",
    "lamda [매개변수] : 실행문\n",
    "    \n",
    "- 실행문 : 하나의 구문만 가능, 실행문의 처리 결과를 자동으로 반환한다. (리턴 구문 필요없음) "
   ]
  },
  {
   "cell_type": "code",
   "execution_count": 168,
   "metadata": {},
   "outputs": [],
   "source": [
    "def plus(num1, num2) : \n",
    "    return num+nu2"
   ]
  },
  {
   "cell_type": "code",
   "execution_count": 172,
   "metadata": {},
   "outputs": [
    {
     "data": {
      "text/plain": [
       "40"
      ]
     },
     "execution_count": 172,
     "metadata": {},
     "output_type": "execute_result"
    }
   ],
   "source": [
    "p = lambda num1, num2 : num2+num2  #한번쓰고 말것이기 때문에 람다식을 변수에 넣어서 쓰지는 않음. \n",
    "p(10, 20)"
   ]
  },
  {
   "cell_type": "code",
   "execution_count": 171,
   "metadata": {},
   "outputs": [],
   "source": [
    "def calculate(func) :\n",
    "    #n1, n2를 어떻게 처리할 지를 func 매개변수를 통해서 함수로 받는다. \n",
    "    n1 = 10 \n",
    "    n2 = 20 \n",
    "    result = func(n1,n2)\n",
    "    print(result)"
   ]
  },
  {
   "cell_type": "code",
   "execution_count": 173,
   "metadata": {},
   "outputs": [
    {
     "name": "stdout",
     "output_type": "stream",
     "text": [
      "30\n"
     ]
    }
   ],
   "source": [
    "# 위에 함수를 람다식으로 바꿔보기 \n",
    "calculate(lambda num1, num2 : num1+num2)"
   ]
  },
  {
   "cell_type": "code",
   "execution_count": 174,
   "metadata": {},
   "outputs": [
    {
     "name": "stdout",
     "output_type": "stream",
     "text": [
      "-10\n"
     ]
    }
   ],
   "source": [
    "calculate(func = lambda num1, num2 : num1 - num2)"
   ]
  },
  {
   "cell_type": "code",
   "execution_count": 175,
   "metadata": {},
   "outputs": [
    {
     "name": "stdout",
     "output_type": "stream",
     "text": [
      "200\n"
     ]
    }
   ],
   "source": [
    "calculate(func = lambda x, y : x * y)"
   ]
  },
  {
   "cell_type": "code",
   "execution_count": 176,
   "metadata": {},
   "outputs": [],
   "source": [
    "lst = [\n",
    "    (1, 2, 3), \n",
    "    (10, -10, 5), \n",
    "    (0, 100, 1)\n",
    "]"
   ]
  },
  {
   "cell_type": "code",
   "execution_count": 177,
   "metadata": {},
   "outputs": [
    {
     "data": {
      "text/plain": [
       "[(10, -10, 5), (1, 2, 3), (0, 100, 1)]"
      ]
     },
     "execution_count": 177,
     "metadata": {},
     "output_type": "execute_result"
    }
   ],
   "source": [
    "# tuple 의 총합을 기준으로 정렬 ,\n",
    "sorted(lst, key = lambda t : sum(t))  #튜플의 합계를 받아서 정렬 "
   ]
  },
  {
   "cell_type": "code",
   "execution_count": 178,
   "metadata": {},
   "outputs": [],
   "source": [
    "#함수를 다른데서도 쓸거면 함수를 정의하면 됨. \n",
    "# 한번만 쓴다면 함수를 정의하기엔 좀 그러니 한번만 쓰고 싶다라고면 --> 람다표현식으로 매개변수 전달 "
   ]
  },
  {
   "cell_type": "code",
   "execution_count": null,
   "metadata": {},
   "outputs": [],
   "source": []
  }
 ],
 "metadata": {
  "kernelspec": {
   "display_name": "Python 3",
   "language": "python",
   "name": "python3"
  },
  "language_info": {
   "codemirror_mode": {
    "name": "ipython",
    "version": 3
   },
   "file_extension": ".py",
   "mimetype": "text/x-python",
   "name": "python",
   "nbconvert_exporter": "python",
   "pygments_lexer": "ipython3",
   "version": "3.8.5"
  }
 },
 "nbformat": 4,
 "nbformat_minor": 4
}
