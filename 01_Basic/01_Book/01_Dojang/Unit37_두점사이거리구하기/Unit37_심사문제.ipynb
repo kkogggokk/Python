{
 "cells": [
  {
   "cell_type": "markdown",
   "metadata": {},
   "source": [
    "## 37.3 심사문제 : 두 점 사이의 거리 구하기 \n",
    "- 표준 입력으로 x, y 좌표 4개가 입력되어 Point2D 클래스의 인스턴스 리스트에 저장됩니다. 여기서 점 4개는 첫 번째 점부터 마지막 점까지 순서대로 이어져 있습니다. 다음 소스 코드를 완성하여 첫 번째 점부터 마지막 점까지 연결된 선의 길이가 출력되게 만드세요."
   ]
  },
  {
   "cell_type": "code",
   "execution_count": 14,
   "metadata": {},
   "outputs": [
    {
     "name": "stdout",
     "output_type": "stream",
     "text": [
      "100 100 200 200 300 300 400 400\n",
      "424.26406871192853\n"
     ]
    }
   ],
   "source": [
    "import math \n",
    "\n",
    "class Point2D :\n",
    "    def __init__(self, x = 0, y = 0):\n",
    "        self.x = x \n",
    "        self.y = y \n",
    "        \n",
    "length = 0.0\n",
    "p = [Point2D(), Point2D(), Point2D(), Point2D()]\n",
    "\n",
    "p[0].x, p[0].y, p[1].x, p[1].y, p[2].x, p[2].y, p[3].x, p[3].y  = map(int, input().split())\n",
    "\n",
    "for i in range(len(p) - 1):\n",
    "    length += math.sqrt(pow((abs(p[i].x - p[i+1].x)),2) + pow((abs(p[i].y - p[i+1].y)),2))\n",
    "\n",
    "print(length)"
   ]
  },
  {
   "cell_type": "markdown",
   "metadata": {},
   "source": [
    "두 점 사이의 거리를 구하려면 피타고라스의 정리를 이용하면 됩니다. 반복문으로 반복하면서 현재 점 p[i]와 다음 점 p[i + 1] 사이의 거리를 구한 뒤 length 변수에 계속 더해줍니다. 단, 마지막 점은 다음 점이 없으므로 반복문은 for i in range(len(p) - 1):과 같이 만들어서 마지막 요소의 바로 앞 요소까지만 반복합니다. 만약 리스트의 요소 개수 len(p)에서 1을 빼지 않으면 p[i + 1]은 리스트의 범위를 벗어난 접근을 하게 되므로 주의해야 합니다."
   ]
  },
  {
   "cell_type": "code",
   "execution_count": null,
   "metadata": {},
   "outputs": [],
   "source": []
  }
 ],
 "metadata": {
  "kernelspec": {
   "display_name": "Python 3",
   "language": "python",
   "name": "python3"
  },
  "language_info": {
   "codemirror_mode": {
    "name": "ipython",
    "version": 3
   },
   "file_extension": ".py",
   "mimetype": "text/x-python",
   "name": "python",
   "nbconvert_exporter": "python",
   "pygments_lexer": "ipython3",
   "version": "3.8.5"
  }
 },
 "nbformat": 4,
 "nbformat_minor": 4
}
