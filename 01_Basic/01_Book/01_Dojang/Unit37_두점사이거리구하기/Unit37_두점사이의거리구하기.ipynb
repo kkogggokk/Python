{
 "cells": [
  {
   "cell_type": "markdown",
   "metadata": {},
   "source": [
    "## Unit37.1 두 점 사이의 거리 구하기\n",
    "### 37.1.1 클래스로 점 구현하기 \n",
    "- 2차원 평면에서 위치를 표현하려면 x, y값이 필요하다. Point2D클래스로 구현하고 x와 y를 속성으로 넣는다"
   ]
  },
  {
   "cell_type": "code",
   "execution_count": 1,
   "metadata": {},
   "outputs": [
    {
     "name": "stdout",
     "output_type": "stream",
     "text": [
      "p1 : 30 20\n",
      "p2 : 60 50\n"
     ]
    }
   ],
   "source": [
    "class Point2D : \n",
    "    def __init__(self, x, y) :\n",
    "        self.x = x\n",
    "        self.y = y \n",
    "        \n",
    "p1 = Point2D(x=30, y=20)\n",
    "p2 = Point2D(x=60, y=50)\n",
    "\n",
    "print('p1 : {} {}'.format(p1.x, p1.y))\n",
    "print('p2 : {} {}'.format(p2.x, p2.y))"
   ]
  },
  {
   "cell_type": "markdown",
   "metadata": {},
   "source": [
    "### 37.1.2 피타고라스의 정리로 두점의 거리 구하기 \n",
    "- 임의이 직각삼각형에서 빗변의 한변으로 하는 정 사각형의 넓이는 다른 두 변을 각각 한 변으로 하는 정사각형의 넓이의 합과 같다.\n",
    "- a^2 + b^2 = c^2\n",
    "- 피타고라스의 정리에 대합하려면 먼저 선 a, b의 길이를 구해야 한다. \n",
    "   - a = p2.x - p1.x \n",
    "   - b = p2.y - p1.x \n",
    "   - c = (b^2 + b^2) ^ 1/2 \n",
    "- 루트는 어떻게 구현해야 할까? \n",
    "    - math모듈의 sqrt함수를 사용하면 편하다. \n",
    "    - sqrt : SQuare RooT 에서 따왔다.\n",
    "    - math.sqrt(값) \n",
    "    - n 제곱근을 반환, 값이 음수이면 에러 발생 \n",
    "  "
   ]
  },
  {
   "cell_type": "code",
   "execution_count": 6,
   "metadata": {},
   "outputs": [
    {
     "name": "stdout",
     "output_type": "stream",
     "text": [
      "42.42640687119285\n"
     ]
    }
   ],
   "source": [
    "import math \n",
    "\n",
    "class Point2D :\n",
    "    def __init__(self, x, y) :\n",
    "        self.x = x\n",
    "        self.y = y \n",
    "        \n",
    "p1 = Point2D(x=30, y=20)\n",
    "p2 = Point2D(x=60, y=50)\n",
    "            \n",
    "a = p2.x - p1.x  \n",
    "b = p2.y - p1.y\n",
    "c = math.sqrt((a*a)+(b*b))\n",
    "print(c)"
   ]
  },
  {
   "cell_type": "markdown",
   "metadata": {},
   "source": [
    "- sqrt함수에 값을 넣으면 해당 값의 제곱근을 구해준다. \n",
    "- 거듭제곱을 구하는 함수 : pow\n",
    "    - math.pow(값, 지수) "
   ]
  },
  {
   "cell_type": "code",
   "execution_count": 8,
   "metadata": {},
   "outputs": [
    {
     "name": "stdout",
     "output_type": "stream",
     "text": [
      "42.42640687119285\n"
     ]
    }
   ],
   "source": [
    "c = math.sqrt(math.pow(a, 2) + math.pow(b, 2))\n",
    "print(c)"
   ]
  },
  {
   "cell_type": "markdown",
   "metadata": {},
   "source": [
    "### <참고> 절댓값 함수\n",
    "- abs(값) : 정수는 절대값을 정수로 반환, 실수는 절대값을 실수로 반환\n",
    "- math.fabs(값) : 절댓값을 실수로 반환"
   ]
  },
  {
   "cell_type": "markdown",
   "metadata": {},
   "source": [
    "### <참고> namedtuple  사용하기\n",
    "- namedtuple : 각 요소에 이름을 지정해 줄수 있는 튜플 \n",
    "    - 자료형 이름과 요소의 이름을 지정하면 클래스를 생성해준다. \n",
    "    - 여기서 자료형 이름은 문자열, 요소의 이름은 문자열 리스트로 넣어준다. \n",
    "- 클래스 = collections.namedstuple('자료형이름', ['요소이름1','요소이름2'])\n",
    "- namedtuple로 생성한 클래스는 값을 넣어서 인스턴스를 만들 수 있으며 \n",
    "- 인스턴스.요소이름 또는 인스턴스[인덱스] 형식으로 요소에 접근할 수 있다. \n",
    "    - 인스턴스 = 클래스(값1, 값2)\n",
    "    - 인스턴스 = 클래스(요소이름1 = 값1, 요소이름2 = 값2) \n",
    "    - 인스턴스.요소이름1\n",
    "    - 인스턴스[인덱스]"
   ]
  },
  {
   "cell_type": "code",
   "execution_count": 11,
   "metadata": {},
   "outputs": [
    {
     "name": "stdout",
     "output_type": "stream",
     "text": [
      "42.42640687119285\n"
     ]
    }
   ],
   "source": [
    "import math\n",
    "import collections\n",
    "\n",
    "Point2D = collections.namedtuple('Point2D',['x','y'])\n",
    "\n",
    "p1 = Point2D(x=30, y=20)\n",
    "p2 = Point2D(x=60, y=50) \n",
    "\n",
    "a = p1.x - p2.x \n",
    "b = p1.y - p2.y \n",
    "\n",
    "c = math.sqrt(pow(a,2) + pow(b,2))\n",
    "print(c)"
   ]
  },
  {
   "cell_type": "code",
   "execution_count": null,
   "metadata": {},
   "outputs": [],
   "source": []
  },
  {
   "cell_type": "code",
   "execution_count": null,
   "metadata": {},
   "outputs": [],
   "source": []
  },
  {
   "cell_type": "code",
   "execution_count": null,
   "metadata": {},
   "outputs": [],
   "source": []
  },
  {
   "cell_type": "code",
   "execution_count": null,
   "metadata": {},
   "outputs": [],
   "source": []
  },
  {
   "cell_type": "code",
   "execution_count": null,
   "metadata": {},
   "outputs": [],
   "source": []
  },
  {
   "cell_type": "code",
   "execution_count": null,
   "metadata": {},
   "outputs": [],
   "source": []
  },
  {
   "cell_type": "code",
   "execution_count": null,
   "metadata": {},
   "outputs": [],
   "source": []
  }
 ],
 "metadata": {
  "kernelspec": {
   "display_name": "Python 3",
   "language": "python",
   "name": "python3"
  },
  "language_info": {
   "codemirror_mode": {
    "name": "ipython",
    "version": 3
   },
   "file_extension": ".py",
   "mimetype": "text/x-python",
   "name": "python",
   "nbconvert_exporter": "python",
   "pygments_lexer": "ipython3",
   "version": "3.8.5"
  }
 },
 "nbformat": 4,
 "nbformat_minor": 4
}
