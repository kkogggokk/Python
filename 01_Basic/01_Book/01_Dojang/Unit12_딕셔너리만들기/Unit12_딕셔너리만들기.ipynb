{
 "cells": [
  {
   "cell_type": "markdown",
   "metadata": {},
   "source": [
    "# Unit12. 딕셔너리 사용하기"
   ]
  },
  {
   "cell_type": "markdown",
   "metadata": {},
   "source": [
    "## 12.1 딕셔너리 만들기\n",
    "- 딕셔너리는 {} 중괄호 안에 키 : 값 형식으로 저장\n",
    "- 각 키와 값은 , 콤마로 구분\n",
    "- 딕셔너리 = {키1 : 값1, 키2 : 값2}"
   ]
  },
  {
   "cell_type": "code",
   "execution_count": 1,
   "metadata": {},
   "outputs": [
    {
     "data": {
      "text/plain": [
       "{'health': 490, 'mana': 334, 'melee': 550, 'armor': 18.72}"
      ]
     },
     "execution_count": 1,
     "metadata": {},
     "output_type": "execute_result"
    }
   ],
   "source": [
    "lux = {'health' : 490, 'mana' :  334, 'melee' : 550, 'armor' : 18.72}\n",
    "lux"
   ]
  },
  {
   "cell_type": "markdown",
   "metadata": {},
   "source": [
    "### 12.1.1 키 이름이 중복 되면? \n",
    "- 가장 뒤에 있는 값만 사용함.따라서 중복되는 키는 저장되지 않는다. "
   ]
  },
  {
   "cell_type": "code",
   "execution_count": null,
   "metadata": {},
   "outputs": [],
   "source": [
    "lux = {'health' : 490, 'health' :  800, 'mana' : 334, 'melee' : 550, 'armor' : 18.72}\n",
    "lux['health']"
   ]
  },
  {
   "cell_type": "markdown",
   "metadata": {},
   "source": [
    "### 12.1.2 딕셔너리 키의 자료형 \n",
    "- 키는 문자열 뿐만 아니라 정수, 실수, 불도 사용할 수 있다.\n",
    "- 값은 리스트, 딕셔너리 등을 포함하여 모든 자료형을 사용할 수 있다. \n",
    "- 단, 키에는 리스트와 딕셔너리를 사용할 수 없다."
   ]
  },
  {
   "cell_type": "code",
   "execution_count": 4,
   "metadata": {},
   "outputs": [
    {
     "data": {
      "text/plain": [
       "{100: 'hundred', False: 0, 3.5: [3.5, 3.5]}"
      ]
     },
     "execution_count": 4,
     "metadata": {},
     "output_type": "execute_result"
    }
   ],
   "source": [
    "x = {100 :'hundred', False : 0, 3.5 :[3.5, 3.5]}\n",
    "x"
   ]
  },
  {
   "cell_type": "code",
   "execution_count": 5,
   "metadata": {},
   "outputs": [
    {
     "ename": "TypeError",
     "evalue": "unhashable type: 'list'",
     "output_type": "error",
     "traceback": [
      "\u001b[1;31m---------------------------------------------------------------------------\u001b[0m",
      "\u001b[1;31mTypeError\u001b[0m                                 Traceback (most recent call last)",
      "\u001b[1;32m<ipython-input-5-df1aded7ae36>\u001b[0m in \u001b[0;36m<module>\u001b[1;34m\u001b[0m\n\u001b[1;32m----> 1\u001b[1;33m \u001b[0mx\u001b[0m \u001b[1;33m=\u001b[0m \u001b[1;33m{\u001b[0m\u001b[1;33m[\u001b[0m\u001b[1;36m10\u001b[0m\u001b[1;33m,\u001b[0m \u001b[1;36m20\u001b[0m\u001b[1;33m]\u001b[0m\u001b[1;33m:\u001b[0m \u001b[1;36m100\u001b[0m\u001b[1;33m}\u001b[0m\u001b[1;33m\u001b[0m\u001b[1;33m\u001b[0m\u001b[0m\n\u001b[0m",
      "\u001b[1;31mTypeError\u001b[0m: unhashable type: 'list'"
     ]
    }
   ],
   "source": [
    "x = {[10, 20]: 100} # 키에는 리스트를 사용할 수 없다. "
   ]
  },
  {
   "cell_type": "code",
   "execution_count": 6,
   "metadata": {},
   "outputs": [
    {
     "ename": "TypeError",
     "evalue": "unhashable type: 'dict'",
     "output_type": "error",
     "traceback": [
      "\u001b[1;31m---------------------------------------------------------------------------\u001b[0m",
      "\u001b[1;31mTypeError\u001b[0m                                 Traceback (most recent call last)",
      "\u001b[1;32m<ipython-input-6-9af0ac2e165d>\u001b[0m in \u001b[0;36m<module>\u001b[1;34m\u001b[0m\n\u001b[1;32m----> 1\u001b[1;33m \u001b[0mx\u001b[0m \u001b[1;33m=\u001b[0m \u001b[1;33m{\u001b[0m\u001b[1;33m{\u001b[0m\u001b[1;34m'a'\u001b[0m \u001b[1;33m:\u001b[0m \u001b[1;36m10\u001b[0m\u001b[1;33m}\u001b[0m \u001b[1;33m:\u001b[0m  \u001b[1;36m100\u001b[0m\u001b[1;33m}\u001b[0m \u001b[1;31m# 키에는 딕셔너리를 사용할 수 없다.\u001b[0m\u001b[1;33m\u001b[0m\u001b[1;33m\u001b[0m\u001b[0m\n\u001b[0m",
      "\u001b[1;31mTypeError\u001b[0m: unhashable type: 'dict'"
     ]
    }
   ],
   "source": [
    "x = {{'a' : 10} :  100} # 키에는 딕셔너리를 사용할 수 없다. "
   ]
  },
  {
   "cell_type": "markdown",
   "metadata": {},
   "source": [
    "### 12.1.3 빈 딕셔너리 만들기 \n",
    "- 빈 딕셔너리를 만들 때는 {}만 지정하거나 dict를 사용하면 됩니다.\n",
    "- 보통 {}를 주로 사용한다. \n",
    "- 딕셔너리 = {}\n",
    "- 딕셔너리 = dict()"
   ]
  },
  {
   "cell_type": "code",
   "execution_count": 7,
   "metadata": {},
   "outputs": [
    {
     "data": {
      "text/plain": [
       "{}"
      ]
     },
     "execution_count": 7,
     "metadata": {},
     "output_type": "execute_result"
    }
   ],
   "source": [
    "x = {}\n",
    "x"
   ]
  },
  {
   "cell_type": "code",
   "execution_count": 8,
   "metadata": {},
   "outputs": [
    {
     "data": {
      "text/plain": [
       "{}"
      ]
     },
     "execution_count": 8,
     "metadata": {},
     "output_type": "execute_result"
    }
   ],
   "source": [
    "y = dict()\n",
    "y"
   ]
  },
  {
   "cell_type": "markdown",
   "metadata": {},
   "source": [
    "### 12.1.4 dict로 딕셔너리 만들기 \n",
    "-  키와 값을 연결하거나, 리스트, 튜플, 딕셔너리로 딕셔너리를 만들때 사용합니다.\n",
    "- 딕셔너리 = dict(키1 = 값1, 키2 = 값2)\n",
    "- 딕셔너리 = dict(zip([키1, 키2],[값1, 값2])\n",
    "- 딕셔너리 = dict([(키1, 값1),(키2, 값2)])\n",
    "- 딕셔너리 = dict({키1 : 값1, 키2 : 값2})"
   ]
  },
  {
   "cell_type": "code",
   "execution_count": 16,
   "metadata": {},
   "outputs": [
    {
     "data": {
      "text/plain": [
       "{'health': 800, 'mana': 334, 'melee': 550, 'armor': 18.72}"
      ]
     },
     "execution_count": 16,
     "metadata": {},
     "output_type": "execute_result"
    }
   ],
   "source": [
    "#방법1 : dict() 함수 이용하는 방법\n",
    "# 키 = 값 형식으로 딕셔너리를 만들 수 있다.\n",
    "# 주의사항 : 작음따옴표나 큰따옴표를 사용하지 않아야 한다. \n",
    "# 키는 딕셔너리를 만들고 나면 문자열로 바뀐다.\n",
    "\n",
    "lux1 = dict(health = 490, mana = 334, melee = 550, armor = 18.72)\n",
    "lux"
   ]
  },
  {
   "cell_type": "code",
   "execution_count": 17,
   "metadata": {},
   "outputs": [
    {
     "data": {
      "text/plain": [
       "{'health': 490, 'mana': 334, 'melee': 50, 'armor': 18.72}"
      ]
     },
     "execution_count": 17,
     "metadata": {},
     "output_type": "execute_result"
    }
   ],
   "source": [
    "#방법2 : dict(zip()) 함수 이용하는 방법 \n",
    "# 키 리스트, 값 리스트 차례대로 zip에 넣은 뒤 dict에 넣어 주기\n",
    "\n",
    "zip(['health','mana','melee','armor'],[490, 334, 50, 18.72])\n",
    "lux2 = dict(zip(['health','mana','melee','armor'],[490, 334, 50, 18.72]))\n",
    "lux2 "
   ]
  },
  {
   "cell_type": "code",
   "execution_count": 21,
   "metadata": {},
   "outputs": [
    {
     "data": {
      "text/plain": [
       "{'health': 490, 'mana': 334, 'melee': 550, 'armor': 18.72}"
      ]
     },
     "execution_count": 21,
     "metadata": {},
     "output_type": "execute_result"
    }
   ],
   "source": [
    "#방법3 : (키,값) 형식의 튜플을 나열하는 방법\n",
    "\n",
    "[('health',490),('mana',334),('melee',550),('armor',18.72)]\n",
    "lux3 = dict([('health',490),('mana',334),('melee',550),('armor',18.72)])\n",
    "lux3"
   ]
  },
  {
   "cell_type": "code",
   "execution_count": 23,
   "metadata": {},
   "outputs": [
    {
     "data": {
      "text/plain": [
       "{'health': 490, 'mana': 334, 'melee': 550, 'armor': 18.72}"
      ]
     },
     "execution_count": 23,
     "metadata": {},
     "output_type": "execute_result"
    }
   ],
   "source": [
    "#방법4 : dict안에 중괄호{}로 생성하는 방법 \n",
    "\n",
    "{'health':490, 'mana':334, 'melee':550, 'armor':18.72}\n",
    "lux4 = dict({'health':490, 'mana':334, 'melee':550, 'armor':18.72})\n",
    "lux4"
   ]
  },
  {
   "cell_type": "code",
   "execution_count": null,
   "metadata": {},
   "outputs": [],
   "source": []
  }
 ],
 "metadata": {
  "kernelspec": {
   "display_name": "Python 3",
   "language": "python",
   "name": "python3"
  },
  "language_info": {
   "codemirror_mode": {
    "name": "ipython",
    "version": 3
   },
   "file_extension": ".py",
   "mimetype": "text/x-python",
   "name": "python",
   "nbconvert_exporter": "python",
   "pygments_lexer": "ipython3",
   "version": "3.8.5"
  }
 },
 "nbformat": 4,
 "nbformat_minor": 4
}
