{
 "cells": [
  {
   "cell_type": "markdown",
   "metadata": {},
   "source": [
    "# Unit15. elif를 사용하여 여러방향으로 분기하기 \n",
    "## 15.1 elif사용하기 \n",
    "```python\n",
    "if 조건식:\n",
    "    code1\n",
    "elif 조건식:\n",
    "    code2\n",
    "```"
   ]
  },
  {
   "cell_type": "code",
   "execution_count": 2,
   "metadata": {},
   "outputs": [
    {
     "name": "stdout",
     "output_type": "stream",
     "text": [
      "it's 20\n"
     ]
    }
   ],
   "source": [
    "x = 20 \n",
    "if x == 10 :\n",
    "    print('it\\'s 10')\n",
    "elif x == 20 :\n",
    "    print('it\\'s 20')"
   ]
  },
  {
   "cell_type": "markdown",
   "metadata": {},
   "source": [
    "### 15.1.1 if, elif, else를 모두 사용하기 \n",
    "```python\n",
    "if 조건식 :\n",
    "    code1\n",
    "elif 조건식 :\n",
    "    code2\n",
    "else 조건식 :\n",
    "    code3\n",
    "```"
   ]
  },
  {
   "cell_type": "code",
   "execution_count": 3,
   "metadata": {},
   "outputs": [
    {
     "name": "stdout",
     "output_type": "stream",
     "text": [
      "It's not 10, 20\n"
     ]
    }
   ],
   "source": [
    "x = 30 \n",
    "if x == 10 :\n",
    "    print('It\\'s 10')\n",
    "elif x == 20 :\n",
    "    print('It\\'s 20')\n",
    "else :\n",
    "    print('It\\'s not 10, 20')"
   ]
  },
  {
   "cell_type": "code",
   "execution_count": 8,
   "metadata": {},
   "outputs": [
    {
     "name": "stdout",
     "output_type": "stream",
     "text": [
      "4\n",
      "제공하지 않는 메뉴\n"
     ]
    }
   ],
   "source": [
    "### 15.1.2 음료수 자판기 만들기\n",
    "# 1 - 콜라, 2 - 사이다, 3 - 환타 , 이외 숫자 - '제공하지 않는 메뉴'\n",
    "\n",
    "button = int(input())\n",
    "\n",
    "if button == 1 :\n",
    "    print('콜라')\n",
    "elif button == 2 :\n",
    "    print('사이다')\n",
    "elif button == 3 :\n",
    "    print('환타')\n",
    "else :\n",
    "    print('제공하지 않는 메뉴')"
   ]
  },
  {
   "cell_type": "code",
   "execution_count": null,
   "metadata": {},
   "outputs": [],
   "source": []
  },
  {
   "cell_type": "code",
   "execution_count": null,
   "metadata": {},
   "outputs": [],
   "source": []
  }
 ],
 "metadata": {
  "kernelspec": {
   "display_name": "Python 3",
   "language": "python",
   "name": "python3"
  },
  "language_info": {
   "codemirror_mode": {
    "name": "ipython",
    "version": 3
   },
   "file_extension": ".py",
   "mimetype": "text/x-python",
   "name": "python",
   "nbconvert_exporter": "python",
   "pygments_lexer": "ipython3",
   "version": "3.8.5"
  }
 },
 "nbformat": 4,
 "nbformat_minor": 4
}
