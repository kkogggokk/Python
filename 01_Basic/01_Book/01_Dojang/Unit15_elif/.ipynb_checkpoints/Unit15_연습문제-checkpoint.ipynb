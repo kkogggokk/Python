{
 "cells": [
  {
   "cell_type": "code",
   "execution_count": 1,
   "metadata": {},
   "outputs": [
    {
     "data": {
      "text/plain": [
       "\"\\n15.3 연습문제: if, elif, else 모두 사용하기\\n- 다음 소스 코드를 완성하여 변수 x가 11과 20 사이면 '11~20',\\n- 21과 30 사이면 '21~30', \\n- 아무것도 해당하지 않으면 '아무것도 해당하지 않음'이 출력되게 만드세요.\\n\""
      ]
     },
     "execution_count": 1,
     "metadata": {},
     "output_type": "execute_result"
    }
   ],
   "source": [
    "'''\n",
    "15.3 연습문제: if, elif, else 모두 사용하기\n",
    "- 다음 소스 코드를 완성하여 변수 x가 11과 20 사이면 '11~20',\n",
    "- 21과 30 사이면 '21~30', \n",
    "- 아무것도 해당하지 않으면 '아무것도 해당하지 않음'이 출력되게 만드세요.\n",
    "'''"
   ]
  },
  {
   "cell_type": "code",
   "execution_count": 4,
   "metadata": {},
   "outputs": [
    {
     "name": "stdout",
     "output_type": "stream",
     "text": [
      "23\n",
      "21~30\n"
     ]
    }
   ],
   "source": [
    "x = int(input())\n",
    "\n",
    "if 11 <= x <= 20 :\n",
    "    print('11~20')\n",
    "elif 21 <= x <= 30 : \n",
    "    print('21~30')\n",
    "else :\n",
    "    print('아무것도 해당하지 않음')"
   ]
  },
  {
   "cell_type": "code",
   "execution_count": null,
   "metadata": {},
   "outputs": [],
   "source": []
  }
 ],
 "metadata": {
  "kernelspec": {
   "display_name": "Python 3",
   "language": "python",
   "name": "python3"
  },
  "language_info": {
   "codemirror_mode": {
    "name": "ipython",
    "version": 3
   },
   "file_extension": ".py",
   "mimetype": "text/x-python",
   "name": "python",
   "nbconvert_exporter": "python",
   "pygments_lexer": "ipython3",
   "version": "3.8.5"
  }
 },
 "nbformat": 4,
 "nbformat_minor": 4
}
