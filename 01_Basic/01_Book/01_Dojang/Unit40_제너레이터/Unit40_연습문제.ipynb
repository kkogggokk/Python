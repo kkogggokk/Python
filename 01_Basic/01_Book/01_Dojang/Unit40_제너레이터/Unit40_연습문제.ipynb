{
 "cells": [
  {
   "cell_type": "markdown",
   "metadata": {},
   "source": [
    "## 40.5 연습문제 파일 읽기 제너레이터 만들기\n",
    "- word.txt 파일을 한줄 씩 읽은 뒤 내용을 함수 바깥에 전달하는 제너레이터를 작성하세요.\n",
    "- 파일의 내용을 출력할 때 파일에서 읽은 \\n은 출력되지 않아야 합니다. \n",
    "- (단어 사이에 줄바꿈이 두번 일어나면 안됨) "
   ]
  },
  {
   "cell_type": "code",
   "execution_count": 10,
   "metadata": {},
   "outputs": [
    {
     "name": "stdout",
     "output_type": "stream",
     "text": [
      "compatibility\n",
      "experience\n",
      "photography\n",
      "spotlight\n"
     ]
    }
   ],
   "source": [
    "def file_read() :\n",
    "    with open('words.txt') as file :\n",
    "        while True : \n",
    "            line = file.readline()\n",
    "            if line == '' : \n",
    "                break\n",
    "            yield line.strip('\\n')\n",
    "    \n",
    "for i in file_read() :\n",
    "    print(i)"
   ]
  },
  {
   "cell_type": "code",
   "execution_count": null,
   "metadata": {},
   "outputs": [],
   "source": []
  }
 ],
 "metadata": {
  "kernelspec": {
   "display_name": "Python 3",
   "language": "python",
   "name": "python3"
  },
  "language_info": {
   "codemirror_mode": {
    "name": "ipython",
    "version": 3
   },
   "file_extension": ".py",
   "mimetype": "text/x-python",
   "name": "python",
   "nbconvert_exporter": "python",
   "pygments_lexer": "ipython3",
   "version": "3.8.5"
  }
 },
 "nbformat": 4,
 "nbformat_minor": 4
}
