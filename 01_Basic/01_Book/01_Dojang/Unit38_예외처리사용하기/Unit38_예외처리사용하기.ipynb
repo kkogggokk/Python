{
 "cells": [
  {
   "cell_type": "markdown",
   "metadata": {},
   "source": [
    "# Unit38. 예외처리 사용하기 \n",
    "- 예외(Exception) : 코드를 실행하는 중 발생한 에러 \n",
    "- 예외가 발생했을 때도 스크립트 실행을 중단하지 않고 계속 실행하게 해주는 예외처리 방법 "
   ]
  },
  {
   "cell_type": "code",
   "execution_count": 3,
   "metadata": {},
   "outputs": [
    {
     "ename": "ZeroDivisionError",
     "evalue": "division by zero",
     "output_type": "error",
     "traceback": [
      "\u001b[0;31m---------------------------------------------------------------------------\u001b[0m",
      "\u001b[0;31mZeroDivisionError\u001b[0m                         Traceback (most recent call last)",
      "\u001b[0;32m<ipython-input-3-1053d6074713>\u001b[0m in \u001b[0;36m<module>\u001b[0;34m\u001b[0m\n\u001b[1;32m      3\u001b[0m \u001b[0;34m\u001b[0m\u001b[0m\n\u001b[1;32m      4\u001b[0m \u001b[0mten_div\u001b[0m\u001b[0;34m(\u001b[0m\u001b[0;36m2\u001b[0m\u001b[0;34m)\u001b[0m\u001b[0;34m\u001b[0m\u001b[0;34m\u001b[0m\u001b[0m\n\u001b[0;32m----> 5\u001b[0;31m \u001b[0mten_div\u001b[0m\u001b[0;34m(\u001b[0m\u001b[0;36m0\u001b[0m\u001b[0;34m)\u001b[0m \u001b[0;31m# error :\u001b[0m\u001b[0;34m\u001b[0m\u001b[0;34m\u001b[0m\u001b[0m\n\u001b[0m",
      "\u001b[0;32m<ipython-input-3-1053d6074713>\u001b[0m in \u001b[0;36mten_div\u001b[0;34m(x)\u001b[0m\n\u001b[1;32m      1\u001b[0m \u001b[0;32mdef\u001b[0m \u001b[0mten_div\u001b[0m\u001b[0;34m(\u001b[0m\u001b[0mx\u001b[0m\u001b[0;34m)\u001b[0m \u001b[0;34m:\u001b[0m\u001b[0;34m\u001b[0m\u001b[0;34m\u001b[0m\u001b[0m\n\u001b[0;32m----> 2\u001b[0;31m     \u001b[0;32mreturn\u001b[0m \u001b[0;36m10\u001b[0m \u001b[0;34m/\u001b[0m \u001b[0mx\u001b[0m\u001b[0;34m\u001b[0m\u001b[0;34m\u001b[0m\u001b[0m\n\u001b[0m\u001b[1;32m      3\u001b[0m \u001b[0;34m\u001b[0m\u001b[0m\n\u001b[1;32m      4\u001b[0m \u001b[0mten_div\u001b[0m\u001b[0;34m(\u001b[0m\u001b[0;36m2\u001b[0m\u001b[0;34m)\u001b[0m\u001b[0;34m\u001b[0m\u001b[0;34m\u001b[0m\u001b[0m\n\u001b[1;32m      5\u001b[0m \u001b[0mten_div\u001b[0m\u001b[0;34m(\u001b[0m\u001b[0;36m0\u001b[0m\u001b[0;34m)\u001b[0m \u001b[0;31m# error :\u001b[0m\u001b[0;34m\u001b[0m\u001b[0;34m\u001b[0m\u001b[0m\n",
      "\u001b[0;31mZeroDivisionError\u001b[0m: division by zero"
     ]
    }
   ],
   "source": [
    "def ten_div(x) :\n",
    "    return 10 / x\n",
    "\n",
    "ten_div(2)\n",
    "ten_div(0) # error : "
   ]
  },
  {
   "cell_type": "markdown",
   "metadata": {},
   "source": [
    "## 38.1 try except 로 사용하기\n",
    "- 예외 처리를 하려면 다음과 같이  try에 실행할 코드를 넣고 except에 예외가 발생했을 때 처리하는 코드를 넣는다.\n",
    "``` python\n",
    "try :\n",
    "    실행할 코드\n",
    "except :\n",
    "    예외가 발생했을 때 처리하는 코드\n",
    "```\n",
    "- 숫자를 0으로 나누면 ZeroDivisionError 예외가 발생한다. 여기서 except 에서 예외처리를 하도록 만들었다. "
   ]
  },
  {
   "cell_type": "code",
   "execution_count": 4,
   "metadata": {},
   "outputs": [
    {
     "name": "stdout",
     "output_type": "stream",
     "text": [
      "나눌 숫자를 입력하세요 :0\n",
      "예외가 발생했습니다\n"
     ]
    }
   ],
   "source": [
    "try :\n",
    "    x = int(input('나눌 숫자를 입력하세요 :'))\n",
    "    y = 10 / x \n",
    "    print(y)\n",
    "except : \n",
    "    print('예외가 발생했습니다')"
   ]
  },
  {
   "cell_type": "markdown",
   "metadata": {},
   "source": [
    "### 38.1.1 특정 예외만 처리하기 \n",
    "- 이번에는 excep에 예외 이름을 지정해서 특정 예외가 발생했을 때만 처리코드를 실행하도록 하자.\n",
    "```python\n",
    "try :\n",
    "    실행할 코드\n",
    "except 예외이름 :\n",
    "    예외가 발생했을 때 처리하는 코드\n",
    "```"
   ]
  },
  {
   "cell_type": "code",
   "execution_count": 6,
   "metadata": {},
   "outputs": [
    {
     "name": "stdout",
     "output_type": "stream",
     "text": [
      "인덱스와 나눌 숫자를 입력 : 3 5\n",
      "잘못된 인덱스입니다. list index out of range\n"
     ]
    }
   ],
   "source": [
    "y = [10, 20, 30]\n",
    "\n",
    "try : \n",
    "    index, x = map(int, input('인덱스와 나눌 숫자를 입력 : ').split())\n",
    "    print(y[index] / x )\n",
    "    \n",
    "except ZeroDivisionError as e : \n",
    "    print('숫자를 0으로 나눌 수 없습니다.', e)\n",
    "    \n",
    "except IndexError as e : \n",
    "    print('잘못된 인덱스입니다.', e)"
   ]
  },
  {
   "cell_type": "markdown",
   "metadata": {},
   "source": [
    "### <참고> 예외계층\n",
    "- 예외에도 클래스 상속으로 구현되며 다음과 같은 계층으로 이루어져 있다.\n",
    "- 참고 : https://docs.python.org/3/library/exceptions.html#exception-hierarchy"
   ]
  },
  {
   "cell_type": "markdown",
   "metadata": {},
   "source": [
    "## 38.2 else와 finally사용하기\n",
    "- 이번에는 예외가 발생하지 않았을 때 코드를 실행하는 else를 사용\n",
    "- else는 except 바로 다음에 와야 하며 excep를 생략할 수 없다. \n",
    "```python\n",
    "try :\n",
    "    실행할 코드\n",
    "except :\n",
    "    예외가 발생했을 때 처리하는 코드\n",
    "else : \n",
    "    예외가 발생하지 않았을 때 실행할 코드\n",
    "```"
   ]
  },
  {
   "cell_type": "code",
   "execution_count": 13,
   "metadata": {},
   "outputs": [
    {
     "name": "stdout",
     "output_type": "stream",
     "text": [
      "나눌 숫자를 입력 : 2\n",
      "5.0\n"
     ]
    }
   ],
   "source": [
    "try : \n",
    "    x = int(input('나눌 숫자를 입력 : '))\n",
    "    y = 10 / x \n",
    "    \n",
    "except ZeroDivisionError: \n",
    "    print('숫자를 0으로 나눌 수 없습니다.')\n",
    "\n",
    "else :\n",
    "    print(y)"
   ]
  },
  {
   "cell_type": "markdown",
   "metadata": {},
   "source": [
    "### 38.2.1 예외와는 상관없이 항상 코드 실행하기 \n",
    "- 이번에는 예외 발생 여부와 상관없이 항상 코드를 실행하는 finally를 사용해보자\n",
    "- finnaly는 except 와 else를 생략할 수 있다.\n",
    "```python\n",
    "try :\n",
    "    실행할 코드\n",
    "except :\n",
    "    예외가 발생했을 때 처리하는 코드\n",
    "else : \n",
    "    예외가 발생하지 않았을 때 실행할 코드\n",
    "finally : \n",
    "    예외 발생 여부와 상관없이 항상 실행할 코드\n",
    "```"
   ]
  },
  {
   "cell_type": "code",
   "execution_count": 15,
   "metadata": {},
   "outputs": [
    {
     "name": "stdout",
     "output_type": "stream",
     "text": [
      "나눌 숫자 입력 : 0\n",
      "숫자를 0으로 나눌 수 없습니다.\n",
      "코드 실행이 끝났습니다.\n"
     ]
    }
   ],
   "source": [
    "# try코드가 끝나면 항상 '코드 실행이 끝났습니다'를 출력해보자 \n",
    "try : \n",
    "    x = int(input('나눌 숫자 입력 : '))\n",
    "    y = 10 / x \n",
    "    \n",
    "except ZeroDivisionError :\n",
    "    print('숫자를 0으로 나눌 수 없습니다.')\n",
    "else : \n",
    "    print(y)\n",
    "finally :\n",
    "    print('코드 실행이 끝났습니다.')"
   ]
  },
  {
   "cell_type": "markdown",
   "metadata": {},
   "source": [
    "### <참고> try안에서 만든 변수는  try바깥에서 사용할 수 있나요?\n",
    "- try는 함수가 아니므로 스택 프레임을 만들지 않는다.\n",
    "- 따라서 try안에서 변수를 만들더라고 try 바깥에서 사용할 수 있다. \n",
    "- 물론 except, else, finally에서도 사용할 수 있다."
   ]
  },
  {
   "cell_type": "markdown",
   "metadata": {},
   "source": [
    "## 38.3  예외 발생시키기\n",
    "- 우리가 직접 예외를 발생시켜보자.\n",
    "- 예외를 발생시킬 때는 raise에 예외를 지정하고 에러메시지를 넣는다. (에러메시지는 생략할 수 있음)\n",
    "- raise 예외('에러메시지')"
   ]
  },
  {
   "cell_type": "code",
   "execution_count": 19,
   "metadata": {},
   "outputs": [
    {
     "name": "stdout",
     "output_type": "stream",
     "text": [
      "3의 배수 입력 : 5\n",
      "예외가 발생했습니다. 3의 배수가 아닙니다.\n"
     ]
    }
   ],
   "source": [
    "# 3의 배수를 입력받은 뒤 숫자가 3의 배수가 아니면 예외를 발생시켜보자 \n",
    "\n",
    "try :\n",
    "    x = int(input('3의 배수 입력 : '))\n",
    "    if x % 3 != 0 : \n",
    "        raise Exception('3의 배수가 아닙니다.')\n",
    "    print(x) \n",
    "    \n",
    "except Exception as e :\n",
    "    print('예외가 발생했습니다.', e)"
   ]
  },
  {
   "cell_type": "markdown",
   "metadata": {},
   "source": [
    "- 5는 3의 배수가 아니므로 raise Exception로 예외를 발생시켰다.\n",
    "- 이때 Exception에 넣은 에러메시지는 except Exception as e 의 e로 들어 간다. \n",
    "- 그리고 raise로 예외를 발생시키면 raise 아래에 있는 코드는 실행되지 않고 바로 except로 넘어가서 try의 print(x)는 실행되지 않는다. "
   ]
  },
  {
   "cell_type": "markdown",
   "metadata": {},
   "source": [
    "### 38.3.1 raise의 처리 과정 \n",
    "- raise의 처리과정을 알아보자 "
   ]
  },
  {
   "cell_type": "code",
   "execution_count": 22,
   "metadata": {},
   "outputs": [
    {
     "name": "stdout",
     "output_type": "stream",
     "text": [
      "3의 배수 입력 : 5\n",
      "예외발생 :  3의 배수가 아닙니다.\n"
     ]
    }
   ],
   "source": [
    "def three_multiple() :\n",
    "    x = int(input('3의 배수 입력 : '))\n",
    "    if x % 3 != 0 :\n",
    "        raise Exception('3의 배수가 아닙니다.')\n",
    "    print(x) \n",
    "    \n",
    "try : \n",
    "    three_multiple()\n",
    "except Exception as e :\n",
    "    print('예외발생 : ', e)"
   ]
  },
  {
   "cell_type": "markdown",
   "metadata": {},
   "source": [
    "three_multiple 함수는 안에 try except가 없는 상태에서 raise로 예외를 발생시켰습니다. 이렇게 되면 함수 바깥에 있는 except에서 예외가 처리됩니다. 즉, 예외가 발생하더라도 현재 코드 블록에서 처리해줄 except가 없다면 except가 나올 때까지 계속 상위 코드 블록으로 올라갑니다.\n",
    "\n",
    "만약 함수 바깥에도 처리해줄 except가 없다면 코드 실행은 중지되고 에러가 표시됩니다. 다음은 파이썬 셸에서 직접 three_multiple 함수를 호출했으므로 except가 없는 상태입니다.\n",
    "\n"
   ]
  },
  {
   "cell_type": "markdown",
   "metadata": {},
   "source": [
    "### 38.3.2  현재 예외를 다시 발생시키기 \n",
    "- try except에서 처리한 예외를 다시 발생시키는 방법 \n",
    "- except안에서 raise를 사용하면 다시 발생 시킨다 (re-raise)"
   ]
  },
  {
   "cell_type": "code",
   "execution_count": 23,
   "metadata": {},
   "outputs": [
    {
     "name": "stdout",
     "output_type": "stream",
     "text": [
      "3의 배수 입력 : 5\n",
      "three_multiple 함수에서 예외 발생 3의 배수가 아닙니다.\n",
      "스크립트 파일에서 예외 발생\n"
     ]
    }
   ],
   "source": [
    "# tree_multiple()코드 블록의 예외를 다시 발생시킨 뒤 상위 코드 블록에서 예외를 처리한다. \n",
    "\n",
    "def three_multiple() :\n",
    "    try : \n",
    "        x = int(input('3의 배수 입력 : '))\n",
    "        if x % 3 != 0 :\n",
    "            raise Exception('3의 배수가 아닙니다.')\n",
    "        print(x) \n",
    "        \n",
    "    except Exception as e : # 함수안에서 예외 처리 \n",
    "        print('three_multiple 함수에서 예외 발생', e)\n",
    "        raise # raise로 현재 예외를 다시 발생시켜서 상위 코드 블록으로 넘김\n",
    "        \n",
    "        \n",
    "try :\n",
    "    three_multiple()\n",
    "except Exception as e : # 하위 코드블록에서 예외가 발생해도 실행됨\n",
    "    print('스크립트 파일에서 예외 발생')"
   ]
  },
  {
   "cell_type": "markdown",
   "metadata": {},
   "source": [
    "- raise만 사용하면 같은 예외를 상위 코드 블록으로 넘기지만 \n",
    "- raise에 다른 예외를 지정하고 에러메시지를 넣을 수 있습니다. \n",
    "- raise 예외('에러메시지') "
   ]
  },
  {
   "cell_type": "code",
   "execution_count": 28,
   "metadata": {},
   "outputs": [
    {
     "name": "stdout",
     "output_type": "stream",
     "text": [
      "3의 배수 입력 : 5\n",
      "three_multiple 함수에서 예외 발생 3의 배수가 아닙니다.\n"
     ]
    },
    {
     "ename": "RuntimeError",
     "evalue": "",
     "output_type": "error",
     "traceback": [
      "\u001b[0;31m---------------------------------------------------------------------------\u001b[0m",
      "\u001b[0;31mException\u001b[0m                                 Traceback (most recent call last)",
      "\u001b[0;32m<ipython-input-28-634d8c4f6f7c>\u001b[0m in \u001b[0;36m<module>\u001b[0;34m\u001b[0m\n\u001b[1;32m      3\u001b[0m     \u001b[0;32mif\u001b[0m \u001b[0mx\u001b[0m \u001b[0;34m%\u001b[0m \u001b[0;36m3\u001b[0m \u001b[0;34m!=\u001b[0m \u001b[0;36m0\u001b[0m \u001b[0;34m:\u001b[0m\u001b[0;34m\u001b[0m\u001b[0;34m\u001b[0m\u001b[0m\n\u001b[0;32m----> 4\u001b[0;31m         \u001b[0;32mraise\u001b[0m \u001b[0mException\u001b[0m\u001b[0;34m(\u001b[0m\u001b[0;34m'3의 배수가 아닙니다.'\u001b[0m\u001b[0;34m)\u001b[0m\u001b[0;34m\u001b[0m\u001b[0;34m\u001b[0m\u001b[0m\n\u001b[0m\u001b[1;32m      5\u001b[0m     \u001b[0mprint\u001b[0m\u001b[0;34m(\u001b[0m\u001b[0mx\u001b[0m\u001b[0;34m)\u001b[0m\u001b[0;34m\u001b[0m\u001b[0;34m\u001b[0m\u001b[0m\n",
      "\u001b[0;31mException\u001b[0m: 3의 배수가 아닙니다.",
      "\nDuring handling of the above exception, another exception occurred:\n",
      "\u001b[0;31mRuntimeError\u001b[0m                              Traceback (most recent call last)",
      "\u001b[0;32m<ipython-input-28-634d8c4f6f7c>\u001b[0m in \u001b[0;36m<module>\u001b[0;34m\u001b[0m\n\u001b[1;32m      7\u001b[0m \u001b[0;32mexcept\u001b[0m \u001b[0mException\u001b[0m \u001b[0;32mas\u001b[0m \u001b[0me\u001b[0m \u001b[0;34m:\u001b[0m\u001b[0;34m\u001b[0m\u001b[0;34m\u001b[0m\u001b[0m\n\u001b[1;32m      8\u001b[0m     \u001b[0mprint\u001b[0m\u001b[0;34m(\u001b[0m\u001b[0;34m'three_multiple 함수에서 예외 발생'\u001b[0m\u001b[0;34m,\u001b[0m \u001b[0me\u001b[0m\u001b[0;34m)\u001b[0m\u001b[0;34m\u001b[0m\u001b[0;34m\u001b[0m\u001b[0m\n\u001b[0;32m----> 9\u001b[0;31m     \u001b[0;32mraise\u001b[0m \u001b[0mRuntimeError\u001b[0m\u001b[0;34m\u001b[0m\u001b[0;34m\u001b[0m\u001b[0m\n\u001b[0m",
      "\u001b[0;31mRuntimeError\u001b[0m: "
     ]
    }
   ],
   "source": [
    "try : \n",
    "    x = int(input('3의 배수 입력 : '))\n",
    "    if x % 3 != 0 :\n",
    "        raise Exception('3의 배수가 아닙니다.')\n",
    "    print(x) \n",
    "\n",
    "except Exception as e :  \n",
    "    print('three_multiple 함수에서 예외 발생', e)\n",
    "    raise RuntimeError\n",
    "\n",
    "    \n",
    "    # ?? 왜 안되지?"
   ]
  },
  {
   "cell_type": "markdown",
   "metadata": {},
   "source": [
    "### <참고> assert로 예외발생시키기 \n",
    "- 예외를 발생시키는 방법 중에 assert를 사용하는 방법도 있다.\n",
    "- assert : 지정된 조건식이 거짓일 때 AssertionError예외를 발생시키며 조건식이 참이면 그냥 넘어 간다. \n",
    "- 보통 assert는 나와서는 안되는 조건을 검사할 때 사용한다. \n",
    "```python\n",
    "assert 조건식 \n",
    "assert 조건식, 에러메시지\n",
    "```\n",
    "- assert는 디버깅 모드에서만 실행된다. \n",
    "- 파이썬은 기본적으로 디버깅 모드이며 assert가 실행되지 않게 하려면 python에서 -O(영문 대문자 O) 옵션을 붙여서 실행해야 한다.  \n",
    "$ python -O file.py"
   ]
  },
  {
   "cell_type": "code",
   "execution_count": 33,
   "metadata": {},
   "outputs": [
    {
     "name": "stdout",
     "output_type": "stream",
     "text": [
      "3의 배수를 입력하세요: 5\n"
     ]
    },
    {
     "ename": "AssertionError",
     "evalue": "3의 배수가 아닙니다.",
     "output_type": "error",
     "traceback": [
      "\u001b[0;31m---------------------------------------------------------------------------\u001b[0m",
      "\u001b[0;31mAssertionError\u001b[0m                            Traceback (most recent call last)",
      "\u001b[0;32m<ipython-input-33-919a995d7f32>\u001b[0m in \u001b[0;36m<module>\u001b[0;34m\u001b[0m\n\u001b[1;32m      1\u001b[0m \u001b[0mx\u001b[0m \u001b[0;34m=\u001b[0m \u001b[0mint\u001b[0m\u001b[0;34m(\u001b[0m\u001b[0minput\u001b[0m\u001b[0;34m(\u001b[0m\u001b[0;34m'3의 배수를 입력하세요: '\u001b[0m\u001b[0;34m)\u001b[0m\u001b[0;34m)\u001b[0m\u001b[0;34m\u001b[0m\u001b[0;34m\u001b[0m\u001b[0m\n\u001b[0;32m----> 2\u001b[0;31m \u001b[0;32massert\u001b[0m \u001b[0mx\u001b[0m \u001b[0;34m%\u001b[0m \u001b[0;36m3\u001b[0m \u001b[0;34m==\u001b[0m \u001b[0;36m0\u001b[0m\u001b[0;34m,\u001b[0m \u001b[0;34m'3의 배수가 아닙니다.'\u001b[0m    \u001b[0;31m# 3의 배수가 아니면 예외 발생, 3의 배수이면 그냥 넘어감\u001b[0m\u001b[0;34m\u001b[0m\u001b[0;34m\u001b[0m\u001b[0m\n\u001b[0m\u001b[1;32m      3\u001b[0m \u001b[0mprint\u001b[0m\u001b[0;34m(\u001b[0m\u001b[0mx\u001b[0m\u001b[0;34m)\u001b[0m\u001b[0;34m\u001b[0m\u001b[0;34m\u001b[0m\u001b[0m\n",
      "\u001b[0;31mAssertionError\u001b[0m: 3의 배수가 아닙니다."
     ]
    }
   ],
   "source": [
    "x = int(input('3의 배수를 입력하세요: '))\n",
    "assert x % 3 == 0, '3의 배수가 아닙니다.'    # 3의 배수가 아니면 예외 발생, 3의 배수이면 그냥 넘어감\n",
    "print(x)"
   ]
  },
  {
   "cell_type": "markdown",
   "metadata": {},
   "source": [
    "## 38.4 예외만들기 \n",
    "- 예외 \n",
    "    - 내장된 예외\n",
    "    - 사용자 정의 예외 : 프로그래머가 직접 만든 예외 \n",
    "- 예외를 만드는 방법 \n",
    "    - Exception을 상속받아서 새로운 클래스를 만들면 된다. \n",
    "    - 그리고 \\_\\_init__ 메서드에서 부모클래스의 \\_\\_init__ 메서드를 호출하면서 에러 메시지를 넣어주면 된다. \n",
    "```python\n",
    "class 예외이름(Exception) :\n",
    "    def __init__(self) :\n",
    "        super().__init__('에러메시지') \n",
    "```"
   ]
  },
  {
   "cell_type": "code",
   "execution_count": 39,
   "metadata": {},
   "outputs": [
    {
     "name": "stdout",
     "output_type": "stream",
     "text": [
      "3의 배수 입력 : 5\n",
      "예외발생 3의 배수가 아닙니다.\n"
     ]
    }
   ],
   "source": [
    "# 입력된 숫자가 3의 배수가 아닐 때 발생시킬 예외 \n",
    "\n",
    "class NotThreeMultipleError(Exception) : # Exception을 상속받음\n",
    "    def __init__(self) :\n",
    "        super().__init__('3의 배수가 아닙니다.')\n",
    "#     pass # Exception만 상속받고 아무것도 구현하지 않아도 됨 \n",
    "        \n",
    "def three_multiple() : \n",
    "    try : \n",
    "        x = int(input('3의 배수 입력 : '))\n",
    "        if x % 3 != 0 :\n",
    "            raise NotThreeMultipleError # 예외발생 \n",
    "        print(x) \n",
    "        \n",
    "    except Exception as e :\n",
    "        print('예외발생',e)\n",
    "        \n",
    "three_multiple()\n",
    "        "
   ]
  },
  {
   "cell_type": "markdown",
   "metadata": {},
   "source": [
    "- 예외를 발생시킬 때는 raise NotThreeMultipleError 와 같이 raise에 새로 만든 예외를 지정해 주면 됩니다. \n",
    "-"
   ]
  },
  {
   "cell_type": "code",
   "execution_count": null,
   "metadata": {},
   "outputs": [],
   "source": []
  },
  {
   "cell_type": "code",
   "execution_count": null,
   "metadata": {},
   "outputs": [],
   "source": []
  },
  {
   "cell_type": "code",
   "execution_count": null,
   "metadata": {},
   "outputs": [],
   "source": []
  },
  {
   "cell_type": "code",
   "execution_count": null,
   "metadata": {},
   "outputs": [],
   "source": []
  },
  {
   "cell_type": "code",
   "execution_count": null,
   "metadata": {},
   "outputs": [],
   "source": []
  },
  {
   "cell_type": "code",
   "execution_count": null,
   "metadata": {},
   "outputs": [],
   "source": []
  }
 ],
 "metadata": {
  "kernelspec": {
   "display_name": "Python 3",
   "language": "python",
   "name": "python3"
  },
  "language_info": {
   "codemirror_mode": {
    "name": "ipython",
    "version": 3
   },
   "file_extension": ".py",
   "mimetype": "text/x-python",
   "name": "python",
   "nbconvert_exporter": "python",
   "pygments_lexer": "ipython3",
   "version": "3.8.5"
  }
 },
 "nbformat": 4,
 "nbformat_minor": 4
}
