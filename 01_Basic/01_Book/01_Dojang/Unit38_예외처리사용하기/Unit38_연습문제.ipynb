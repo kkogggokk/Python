{
 "cells": [
  {
   "cell_type": "markdown",
   "metadata": {},
   "source": [
    "## 38.6 연습문제 : 파일 예외 처리 하기 \n",
    "- 다음 소스코드를 완성하여 maria.txt파일이 있으면 파일의 내용을 읽어서 출력하고, \n",
    "- 파일이 없으면 '파일이 없습니다.'를 출력하도록 만드세요.\n",
    "- 파일이 없을때 발생하는 예외는 FileNotFoundError 입니다."
   ]
  },
  {
   "cell_type": "code",
   "execution_count": 3,
   "metadata": {},
   "outputs": [
    {
     "name": "stdout",
     "output_type": "stream",
     "text": [
      "파일이 없습니다.\n"
     ]
    }
   ],
   "source": [
    "try :\n",
    "    file = open('maria.txt','r')\n",
    "except FileNotFoundError :\n",
    "    print('파일이 없습니다.')\n",
    "else :\n",
    "    s = file.read()\n",
    "    file.close()"
   ]
  },
  {
   "cell_type": "code",
   "execution_count": null,
   "metadata": {},
   "outputs": [],
   "source": []
  }
 ],
 "metadata": {
  "kernelspec": {
   "display_name": "Python 3",
   "language": "python",
   "name": "python3"
  },
  "language_info": {
   "codemirror_mode": {
    "name": "ipython",
    "version": 3
   },
   "file_extension": ".py",
   "mimetype": "text/x-python",
   "name": "python",
   "nbconvert_exporter": "python",
   "pygments_lexer": "ipython3",
   "version": "3.8.5"
  }
 },
 "nbformat": 4,
 "nbformat_minor": 4
}
