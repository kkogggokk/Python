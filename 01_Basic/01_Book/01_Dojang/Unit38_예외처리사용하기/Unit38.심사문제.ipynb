{
 "cells": [
  {
   "cell_type": "markdown",
   "metadata": {},
   "source": [
    "## 38.7 심사문제 : 회문이 아니면 예외 발생시키기\n",
    "- 표준입력으로 문자열이 입력된다.\n",
    "- 입력된 문자열이 회문이면 문자열을 그대로 출력하고 , \n",
    "- 회문이 아니면 '회문이 아닙니다.'를 출력하도록 만드세요.\n",
    "- palindrome함수와 NotPalindromeError예외를 작성해야 합니다. "
   ]
  },
  {
   "cell_type": "code",
   "execution_count": 9,
   "metadata": {},
   "outputs": [
    {
     "name": "stdout",
     "output_type": "stream",
     "text": [
      "hello\n",
      "회문이 아닙니다.\n"
     ]
    }
   ],
   "source": [
    "# NotPalindromeErro 예외는 어떤예외지? \n",
    "# 예외를 발생하는 상황들은 어떤 경우가 있는지? \n",
    "def palindrome(word) : \n",
    "    try :\n",
    "        if word != word[::-1] :\n",
    "            raise NotPalindromeError\n",
    "        print(word)\n",
    "    except Exception as e :\n",
    "        print('회문이 아닙니다.')\n",
    "\n",
    "try : \n",
    "    word = input()\n",
    "    palindrome(word) \n",
    "except NotPalindromeError as e :\n",
    "    print(e)"
   ]
  },
  {
   "cell_type": "code",
   "execution_count": null,
   "metadata": {},
   "outputs": [],
   "source": [
    "def three_multiple() : \n",
    "    try : \n",
    "        x = int(input('3의 배수 입력 : '))\n",
    "        if x % 3 != 0 :\n",
    "            raise NotThreeMultipleError # 예외발생 \n",
    "        print(x) \n",
    "        \n",
    "    except Exception as e :\n",
    "        print('예외발생',e)\n",
    "        \n",
    "three_multiple()\n",
    "        "
   ]
  }
 ],
 "metadata": {
  "kernelspec": {
   "display_name": "Python 3",
   "language": "python",
   "name": "python3"
  },
  "language_info": {
   "codemirror_mode": {
    "name": "ipython",
    "version": 3
   },
   "file_extension": ".py",
   "mimetype": "text/x-python",
   "name": "python",
   "nbconvert_exporter": "python",
   "pygments_lexer": "ipython3",
   "version": "3.8.5"
  }
 },
 "nbformat": 4,
 "nbformat_minor": 4
}
