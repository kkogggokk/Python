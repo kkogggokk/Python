{
 "cells": [
  {
   "cell_type": "markdown",
   "metadata": {},
   "source": [
    "## 39.7 심사문제 : 시간 이터레이터 만들기\n",
    "- 정수 세개가 입력됩니다. \n",
    "    - 첫번째 정수 : 시작하는 초 \n",
    "    - 두번째 정수 : 반복을 끝낼 초 \n",
    "    - 세번째 정수 : 인덱스 \n",
    "- 시간 값은 문자열이고 시:분:초 형식입니다. \n",
    "- 만약 숫자가 한 자리일 경우 앞에 0을 붙입니다.(예 12:01:08)\n",
    "- 1초는 00:00:01 \n",
    "- 23:59:59를 넘길 경우 00:00:00 부터 다시 시작한다\n",
    "- 시간은 반복을 끝낼 초 직전까지만 출력해야 한다. (반복을 끝낼 초는 포함되지 않음) "
   ]
  },
  {
   "cell_type": "code",
   "execution_count": null,
   "metadata": {},
   "outputs": [],
   "source": [
    "class TimeIterator() :\n",
    "    def __init__(self, start, stop) :\n",
    "        self.start = start \n",
    "        self.stop = stop \n",
    "    \n",
    "    def __getitem__(self, index) : \n",
    "    \n",
    "\n",
    "start, stop, index = map(int,input().split())\n",
    "for i in TimeIterator(start, stop) :\n",
    "    print(i)\n",
    "\n",
    "print('\\n', TimeIterator(start, stop)[index], sep='')"
   ]
  },
  {
   "cell_type": "code",
   "execution_count": 1,
   "metadata": {},
   "outputs": [],
   "source": [
    "# 0 3 2 "
   ]
  },
  {
   "cell_type": "code",
   "execution_count": 2,
   "metadata": {},
   "outputs": [],
   "source": [
    "# 88234 88237 1 "
   ]
  },
  {
   "cell_type": "code",
   "execution_count": 4,
   "metadata": {},
   "outputs": [
    {
     "data": {
      "text/plain": [
       "14.7"
      ]
     },
     "execution_count": 4,
     "metadata": {},
     "output_type": "execute_result"
    }
   ],
   "source": []
  },
  {
   "cell_type": "code",
   "execution_count": null,
   "metadata": {},
   "outputs": [],
   "source": []
  },
  {
   "cell_type": "code",
   "execution_count": null,
   "metadata": {},
   "outputs": [],
   "source": []
  }
 ],
 "metadata": {
  "kernelspec": {
   "display_name": "Python 3",
   "language": "python",
   "name": "python3"
  },
  "language_info": {
   "codemirror_mode": {
    "name": "ipython",
    "version": 3
   },
   "file_extension": ".py",
   "mimetype": "text/x-python",
   "name": "python",
   "nbconvert_exporter": "python",
   "pygments_lexer": "ipython3",
   "version": "3.8.5"
  }
 },
 "nbformat": 4,
 "nbformat_minor": 4
}
