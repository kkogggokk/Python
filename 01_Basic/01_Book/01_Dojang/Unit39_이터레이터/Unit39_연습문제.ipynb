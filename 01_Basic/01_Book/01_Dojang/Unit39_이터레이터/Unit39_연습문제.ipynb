{
 "cells": [
  {
   "cell_type": "markdown",
   "metadata": {},
   "source": [
    "## 39.6 연습문제 : 배수 이터레이터 만들기 \n",
    "- 다음 소스 코드에서 특정 수의 배수를 만드는 이터레이터를 작성하세요. \n",
    "- 배수는 0부터 지정된 숫자보다 작을 때까지 만들어야 합니다."
   ]
  },
  {
   "cell_type": "code",
   "execution_count": 4,
   "metadata": {},
   "outputs": [
    {
     "name": "stdout",
     "output_type": "stream",
     "text": [
      "3 6 9 12 15 18 \n",
      "5 10 15 20 25 "
     ]
    }
   ],
   "source": [
    "class MultipleIterator:\n",
    "    def __init__(self, stop, multiple):\n",
    "        self.current = 0\n",
    "        self.stop = stop\n",
    "        self.multiple = multiple \n",
    "                                 \n",
    " \n",
    "    def __iter__(self):\n",
    "        return self\n",
    " \n",
    "    def __next__(self):\n",
    "        self.current += 1 \n",
    "        if self.current * self.multiple < self.stop :\n",
    "            return self.current * self.multiple\n",
    "        else : \n",
    "            raise StopIteration\n",
    "                                                     \n",
    " \n",
    "for i in MultipleIterator(20, 3):\n",
    "    print(i, end=' ')\n",
    " \n",
    "print()\n",
    "for i in MultipleIterator(30, 5):\n",
    "    print(i, end=' ')\n",
    "    \n",
    "# 3 6 9 12 15 18 \n",
    "# 5 10 15 20 25 "
   ]
  },
  {
   "cell_type": "code",
   "execution_count": null,
   "metadata": {},
   "outputs": [],
   "source": []
  },
  {
   "cell_type": "code",
   "execution_count": null,
   "metadata": {},
   "outputs": [],
   "source": []
  },
  {
   "cell_type": "code",
   "execution_count": null,
   "metadata": {},
   "outputs": [],
   "source": []
  },
  {
   "cell_type": "code",
   "execution_count": null,
   "metadata": {},
   "outputs": [],
   "source": []
  },
  {
   "cell_type": "code",
   "execution_count": null,
   "metadata": {},
   "outputs": [],
   "source": []
  },
  {
   "cell_type": "code",
   "execution_count": null,
   "metadata": {},
   "outputs": [],
   "source": []
  }
 ],
 "metadata": {
  "kernelspec": {
   "display_name": "Python 3",
   "language": "python",
   "name": "python3"
  },
  "language_info": {
   "codemirror_mode": {
    "name": "ipython",
    "version": 3
   },
   "file_extension": ".py",
   "mimetype": "text/x-python",
   "name": "python",
   "nbconvert_exporter": "python",
   "pygments_lexer": "ipython3",
   "version": "3.8.5"
  }
 },
 "nbformat": 4,
 "nbformat_minor": 4
}
