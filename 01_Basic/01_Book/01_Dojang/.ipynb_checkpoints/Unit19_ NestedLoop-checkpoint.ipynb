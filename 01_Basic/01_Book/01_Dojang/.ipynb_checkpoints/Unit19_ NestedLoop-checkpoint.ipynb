{
 "cells": [
  {
   "cell_type": "markdown",
   "metadata": {},
   "source": [
    "# Unit19. 계단식으로 별 출력하기 \n",
    "## 19.1 중첩루프 사용하기 \n",
    "- 반복문의 루프 인덱스 변수는 index의 첫글자를 따서 i를 사용\n",
    "- 반복문이 두개 이므로 i, j 사용 \n",
    "- i를 사용하는 바깥쪽 루프 : 세로 방향 처리 \n",
    "- j를 사용하는 안쪽 루프 : 가로 방향 처리 \n",
    "\n",
    "- 중첩루프는 2차원 평면을 다룰 수 있으므로 이미지처리, 영상처리, 좌표계 처리 등에 주로 사용"
   ]
  },
  {
   "cell_type": "code",
   "execution_count": 4,
   "metadata": {},
   "outputs": [
    {
     "name": "stdout",
     "output_type": "stream",
     "text": [
      "j:0 j:1 j:2 i:0\\n\n",
      "j:0 j:1 j:2 i:1\\n\n",
      "j:0 j:1 j:2 i:2\\n\n",
      "j:0 j:1 j:2 i:3\\n\n",
      "j:0 j:1 j:2 i:4\\n\n"
     ]
    }
   ],
   "source": [
    "for i in range(5) :\n",
    "    for j in range(3) : \n",
    "        print('j:',j,sep='', end=' ') # 안쪽 루프 : 가로 처리 방향\n",
    "    print('i:',i,'\\\\n',sep='') # 바깥루프 : 세로 처리 "
   ]
  },
  {
   "cell_type": "markdown",
   "metadata": {},
   "source": [
    "## 19.2 사각형으로 별 출력하기 "
   ]
  },
  {
   "cell_type": "code",
   "execution_count": 5,
   "metadata": {},
   "outputs": [
    {
     "name": "stdout",
     "output_type": "stream",
     "text": [
      "* * * * * \n",
      "* * * * * \n",
      "* * * * * \n",
      "* * * * * \n",
      "* * * * * \n"
     ]
    }
   ],
   "source": [
    "# 5*5 사각형 형태로 별 그리기 \n",
    "for i in range(5) :\n",
    "    for j in range(5) : \n",
    "        print('*',end=' ')\n",
    "    print()"
   ]
  },
  {
   "cell_type": "markdown",
   "metadata": {},
   "source": [
    "### 19.2.1 사각형 모양 바꾸기 "
   ]
  },
  {
   "cell_type": "code",
   "execution_count": null,
   "metadata": {},
   "outputs": [],
   "source": []
  },
  {
   "cell_type": "code",
   "execution_count": null,
   "metadata": {},
   "outputs": [],
   "source": []
  },
  {
   "cell_type": "code",
   "execution_count": null,
   "metadata": {},
   "outputs": [],
   "source": []
  },
  {
   "cell_type": "code",
   "execution_count": null,
   "metadata": {},
   "outputs": [],
   "source": []
  },
  {
   "cell_type": "code",
   "execution_count": null,
   "metadata": {},
   "outputs": [],
   "source": []
  },
  {
   "cell_type": "code",
   "execution_count": null,
   "metadata": {},
   "outputs": [],
   "source": []
  },
  {
   "cell_type": "code",
   "execution_count": null,
   "metadata": {},
   "outputs": [],
   "source": []
  },
  {
   "cell_type": "code",
   "execution_count": null,
   "metadata": {},
   "outputs": [],
   "source": []
  },
  {
   "cell_type": "code",
   "execution_count": null,
   "metadata": {},
   "outputs": [],
   "source": []
  },
  {
   "cell_type": "code",
   "execution_count": null,
   "metadata": {},
   "outputs": [],
   "source": []
  },
  {
   "cell_type": "code",
   "execution_count": null,
   "metadata": {},
   "outputs": [],
   "source": []
  },
  {
   "cell_type": "code",
   "execution_count": null,
   "metadata": {},
   "outputs": [],
   "source": []
  }
 ],
 "metadata": {
  "kernelspec": {
   "display_name": "Python 3",
   "language": "python",
   "name": "python3"
  },
  "language_info": {
   "codemirror_mode": {
    "name": "ipython",
    "version": 3
   },
   "file_extension": ".py",
   "mimetype": "text/x-python",
   "name": "python",
   "nbconvert_exporter": "python",
   "pygments_lexer": "ipython3",
   "version": "3.8.5"
  }
 },
 "nbformat": 4,
 "nbformat_minor": 4
}
