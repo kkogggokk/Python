{
 "cells": [
  {
   "cell_type": "markdown",
   "metadata": {},
   "source": [
    "# Unit13.if조건문으로 특정 조건일 때 코드 실행하기\n",
    "## 13.1 if조건문 사용하기\n",
    "- if 조건식 : "
   ]
  },
  {
   "cell_type": "code",
   "execution_count": 2,
   "metadata": {},
   "outputs": [
    {
     "name": "stdout",
     "output_type": "stream",
     "text": [
      "10입니다\n"
     ]
    }
   ],
   "source": [
    "x = 10\n",
    "if x == 10 :\n",
    "    print('10입니다')"
   ]
  },
  {
   "cell_type": "code",
   "execution_count": 3,
   "metadata": {},
   "outputs": [
    {
     "ename": "IndentationError",
     "evalue": "expected an indented block (<ipython-input-3-97b298fe2dc0>, line 4)",
     "output_type": "error",
     "traceback": [
      "\u001b[0;36m  File \u001b[0;32m\"<ipython-input-3-97b298fe2dc0>\"\u001b[0;36m, line \u001b[0;32m4\u001b[0m\n\u001b[0;31m    print('10입니다')\u001b[0m\n\u001b[0m    ^\u001b[0m\n\u001b[0;31mIndentationError\u001b[0m\u001b[0;31m:\u001b[0m expected an indented block\n"
     ]
    }
   ],
   "source": [
    "# if 다음 줄에서 들여쓰기를 하지 않으면 들여쓰기 에러가 발생 \n",
    "x = 10\n",
    "if x == 10 :\n",
    "print('10입니다')"
   ]
  },
  {
   "cell_type": "markdown",
   "metadata": {},
   "source": [
    "### 13.1.1 조건문의 기본 형태와 실행 흐름 알아보기 \n",
    "- if 조건식 : 형식으로 사용\n",
    "- 그 다음 중에는 들여쓰기를 한 뒤 조건식이 만족할 때 실행코드 넣음\n",
    "- 이 조건식이 만족할 때 실행코드를 if본문(if body)라고 부른다.\n",
    "- if의 조건식이 만족하면 참(True), 만족하지 않으면 거짓(False)"
   ]
  },
  {
   "cell_type": "markdown",
   "metadata": {},
   "source": [
    "### 13.1.2 if조건문을 사용할 때 주의할 점 \n",
    "- 값을 비교할 때는 == 로 사용해야 한다. \n",
    "- 조건식 끝에 : 을 빠뜨리는 실수"
   ]
  },
  {
   "cell_type": "code",
   "execution_count": 6,
   "metadata": {},
   "outputs": [
    {
     "ename": "SyntaxError",
     "evalue": "invalid syntax (<ipython-input-6-6f813adec5b3>, line 1)",
     "output_type": "error",
     "traceback": [
      "\u001b[0;36m  File \u001b[0;32m\"<ipython-input-6-6f813adec5b3>\"\u001b[0;36m, line \u001b[0;32m1\u001b[0m\n\u001b[0;31m    if x = 10 :\u001b[0m\n\u001b[0m         ^\u001b[0m\n\u001b[0;31mSyntaxError\u001b[0m\u001b[0;31m:\u001b[0m invalid syntax\n"
     ]
    }
   ],
   "source": [
    "if x = 10 :\n",
    "    print(\"10입니다\")"
   ]
  },
  {
   "cell_type": "code",
   "execution_count": 8,
   "metadata": {},
   "outputs": [
    {
     "ename": "SyntaxError",
     "evalue": "invalid syntax (<ipython-input-8-6729d791acb0>, line 2)",
     "output_type": "error",
     "traceback": [
      "\u001b[0;36m  File \u001b[0;32m\"<ipython-input-8-6729d791acb0>\"\u001b[0;36m, line \u001b[0;32m2\u001b[0m\n\u001b[0;31m    if x == 10\u001b[0m\n\u001b[0m               ^\u001b[0m\n\u001b[0;31mSyntaxError\u001b[0m\u001b[0;31m:\u001b[0m invalid syntax\n"
     ]
    }
   ],
   "source": [
    "# 조건식 끝에 : 을 빠뜨리는 실수 \n",
    "if x == 10 "
   ]
  },
  {
   "cell_type": "code",
   "execution_count": 9,
   "metadata": {},
   "outputs": [],
   "source": [
    "### 13.1.3 if조건문에서 코드를 생략하기 \n",
    "- pass : 아무일도 하지 않고 그냥 넘어 간다. \n",
    "- if다음줄에 아무 코드도 넣지 않으면 에러가 발생하므로 조건문의 형태를 유지 하기위해 pass를 사용한다.\n",
    "- pass 언제 사용? 나중에 작성해야 할 코드를 표시할 때 사용 \n",
    "- pass만 넣고 나중에 할 일을 주석으로 남겨놓는 방식"
   ]
  },
  {
   "cell_type": "code",
   "execution_count": 10,
   "metadata": {},
   "outputs": [],
   "source": [
    "x = 10\n",
    "if x == 10 :\n",
    "    pass "
   ]
  },
  {
   "cell_type": "code",
   "execution_count": 11,
   "metadata": {},
   "outputs": [],
   "source": [
    "#pass 넣고 해야할 일 주석으로 남겨놓는 방식\n",
    "if x == 10 :\n",
    "    pass # TODO : x 가 10일때 처리가 필요함 "
   ]
  },
  {
   "cell_type": "markdown",
   "metadata": {},
   "source": [
    "### <참고>\n",
    "- TODO : 해야할 일 로 주석에 넣는다. 검색을 쉽게 찾을 수 잇음\n",
    "- 자주 사용하는 주석 : TODO, FIXME, BUG, NOTE "
   ]
  },
  {
   "cell_type": "markdown",
   "metadata": {},
   "source": [
    "## 13.2 if조건문과 들여쓰기 \n",
    "- 들여쓰기 : 공백4칸 혹은 탭 \n",
    "- if 다음에 오는 코드들은 반드시 들여쓰기 깉이가 같아야 한다. \n",
    "- if 다음줄에 들여쓰기가 된 코드는 if의 영향을 받아서 조건식에 따라 실행이 결정됨. \n",
    "- 들여쓰기가 되지 않은 코드는 항상 실행. 들여쓰기에 따라서 실행 결과가 달라짐. \n"
   ]
  },
  {
   "cell_type": "code",
   "execution_count": 12,
   "metadata": {},
   "outputs": [
    {
     "name": "stdout",
     "output_type": "stream",
     "text": [
      "x에 들어 있는 숫자는 \n",
      "10입니다\n"
     ]
    }
   ],
   "source": [
    "x = 10 \n",
    "if x == 10 : \n",
    "    print(\"x에 들어 있는 숫자는 \")\n",
    "print(\"10입니다\")"
   ]
  },
  {
   "cell_type": "code",
   "execution_count": 14,
   "metadata": {},
   "outputs": [
    {
     "name": "stdout",
     "output_type": "stream",
     "text": [
      "10입니다\n"
     ]
    }
   ],
   "source": [
    "x = 5 \n",
    "if x == 10 : \n",
    "    print(\"x에 들어 있는 숫자는 \")\n",
    "print(\"10입니다\")"
   ]
  },
  {
   "cell_type": "markdown",
   "metadata": {},
   "source": [
    "## 13.3 중첩 if 조건문 사용하기 \n"
   ]
  },
  {
   "cell_type": "code",
   "execution_count": 16,
   "metadata": {},
   "outputs": [
    {
     "name": "stdout",
     "output_type": "stream",
     "text": [
      "10 more\n",
      "15 more\n"
     ]
    }
   ],
   "source": [
    "x = 15\n",
    "if x >= 10 :\n",
    "    print(\"10 more\")\n",
    "    \n",
    "    if x >= 15 :\n",
    "        print(\"15 more\")\n",
    "    \n",
    "    if x == 20 :\n",
    "        print(\"20\")"
   ]
  },
  {
   "cell_type": "markdown",
   "metadata": {},
   "source": [
    "## 13.4 사용자가 입력한 값에 if조건문 사용하기 \n",
    "- input사용하여 사용자가 입력한 값을 변수에 저장하고, if조건문으로 값을 비교 "
   ]
  },
  {
   "cell_type": "code",
   "execution_count": 20,
   "metadata": {},
   "outputs": [
    {
     "name": "stdout",
     "output_type": "stream",
     "text": [
      "10\n",
      "10입니다\n"
     ]
    }
   ],
   "source": [
    "x = int(input())\n",
    "\n",
    "if x == 10 :\n",
    "    print(\"10입니다\")\n",
    "if x == 20 :\n",
    "    print(\"20입니다\")"
   ]
  }
 ],
 "metadata": {
  "kernelspec": {
   "display_name": "Python 3",
   "language": "python",
   "name": "python3"
  },
  "language_info": {
   "codemirror_mode": {
    "name": "ipython",
    "version": 3
   },
   "file_extension": ".py",
   "mimetype": "text/x-python",
   "name": "python",
   "nbconvert_exporter": "python",
   "pygments_lexer": "ipython3",
   "version": "3.8.5"
  }
 },
 "nbformat": 4,
 "nbformat_minor": 4
}
