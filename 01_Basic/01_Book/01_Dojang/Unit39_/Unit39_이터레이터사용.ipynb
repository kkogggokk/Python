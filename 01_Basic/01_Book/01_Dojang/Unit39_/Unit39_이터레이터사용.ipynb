{
 "cells": [
  {
   "cell_type": "markdown",
   "metadata": {},
   "source": [
    "# Unit39. 이터레이터 사용하기 \n",
    "- 이터레이터(iterater) : 값을 차례대로 꺼낼 수 있는 객체(object) \n",
    "- 파이썬에서는 이터레이터만 생성하고 값이 필요한 시점이 되었을 때 값을 만드는 방식 \n",
    "- 데이터 생성을 뒤로 미루는 것 : 지연평가(lazy evaluation) \n",
    "- 이터레이터는 반복자라고 부르기도 한다. \n",
    "\n",
    "## 39.1 반복가능한 객체 알아보기 \n",
    "- 반복 가능한 객체(iterable) : 반복할 수 있는 객체\n",
    "- 문자열, 리스트, 딕셔너리, 세트 \n",
    "- 요소가 여러 개 들어있고, 한 번에 하나씩 꺼낼 수 있는 객체 \n",
    "- 객체가 반복 가능한 객체인지 알아보는 방법에는 객체에 \\_\\_iter\\_\\_ 메서드가 들어있는지 확인"
   ]
  },
  {
   "cell_type": "markdown",
   "metadata": {},
   "source": [
    "- dic(객체) 함수를 사용하면 객체의 메서드를 확인 할 수 있다. \n",
    "- 리스트[1,2,3] 을 dir로 살펴보면 \\_\\_iter\\_\\_메서드가 있다. \n",
    "- 이 리스트에서 \\_\\_iter\\_\\_를 호출해보면 이터레이터가 나온다"
   ]
  },
  {
   "cell_type": "code",
   "execution_count": 3,
   "metadata": {},
   "outputs": [
    {
     "name": "stdout",
     "output_type": "stream",
     "text": [
      "['__add__', '__class__', '__contains__', '__delattr__', '__delitem__', '__dir__', '__doc__', '__eq__', '__format__', '__ge__', '__getattribute__', '__getitem__', '__gt__', '__hash__', '__iadd__', '__imul__', '__init__', '__init_subclass__', '__iter__', '__le__', '__len__', '__lt__', '__mul__', '__ne__', '__new__', '__reduce__', '__reduce_ex__', '__repr__', '__reversed__', '__rmul__', '__setattr__', '__setitem__', '__sizeof__', '__str__', '__subclasshook__', 'append', 'clear', 'copy', 'count', 'extend', 'index', 'insert', 'pop', 'remove', 'reverse', 'sort']\n"
     ]
    },
    {
     "data": {
      "text/plain": [
       "<list_iterator at 0x1cc10297af0>"
      ]
     },
     "execution_count": 3,
     "metadata": {},
     "output_type": "execute_result"
    }
   ],
   "source": [
    "print(dir([1, 2, 3]))\n",
    "[1, 2, 3].__iter__() # <list_iterator at 0x1cc0e3e2700>"
   ]
  },
  {
   "cell_type": "markdown",
   "metadata": {},
   "source": [
    "- 리스트의 이터레이터를 변수에 저장한다\n",
    "- \\_\\_next__메서드를 호출하면 요소를 차례대로 꺼낼 수 있다.\n",
    "- 차례대로 1, 2, 3이 호출된다. \n",
    "- 3 다음에 \\_\\_next\\_\\_을 호출하면 StopIteration: 예외가 발생한다.\n",
    "- 꺼낼 요소가 없으면 예외를 발생시켜 반복을 끝낸다."
   ]
  },
  {
   "cell_type": "code",
   "execution_count": 12,
   "metadata": {},
   "outputs": [
    {
     "ename": "StopIteration",
     "evalue": "",
     "output_type": "error",
     "traceback": [
      "\u001b[1;31m---------------------------------------------------------------------------\u001b[0m",
      "\u001b[1;31mStopIteration\u001b[0m                             Traceback (most recent call last)",
      "\u001b[1;32m<ipython-input-12-354933529f59>\u001b[0m in \u001b[0;36m<module>\u001b[1;34m\u001b[0m\n\u001b[0;32m      4\u001b[0m \u001b[0mit\u001b[0m\u001b[1;33m.\u001b[0m\u001b[0m__next__\u001b[0m\u001b[1;33m(\u001b[0m\u001b[1;33m)\u001b[0m \u001b[1;31m# 2\u001b[0m\u001b[1;33m\u001b[0m\u001b[1;33m\u001b[0m\u001b[0m\n\u001b[0;32m      5\u001b[0m \u001b[0mit\u001b[0m\u001b[1;33m.\u001b[0m\u001b[0m__next__\u001b[0m\u001b[1;33m(\u001b[0m\u001b[1;33m)\u001b[0m \u001b[1;31m# 3\u001b[0m\u001b[1;33m\u001b[0m\u001b[1;33m\u001b[0m\u001b[0m\n\u001b[1;32m----> 6\u001b[1;33m \u001b[0mit\u001b[0m\u001b[1;33m.\u001b[0m\u001b[0m__next__\u001b[0m\u001b[1;33m(\u001b[0m\u001b[1;33m)\u001b[0m \u001b[1;31m# error : StopIteration\u001b[0m\u001b[1;33m\u001b[0m\u001b[1;33m\u001b[0m\u001b[0m\n\u001b[0m",
      "\u001b[1;31mStopIteration\u001b[0m: "
     ]
    }
   ],
   "source": [
    "# 리스트의 이터레이터를 변수에 저장한 뒤 __next__메서드를 호출 -> 요소를 차례대로 꺼낼 수 있다. \n",
    "it = [1, 2, 3].__iter__()\n",
    "it.__next__() # 1\n",
    "it.__next__() # 2\n",
    "it.__next__() # 3\n",
    "it.__next__() # error : StopIteration"
   ]
  },
  {
   "cell_type": "markdown",
   "metadata": {},
   "source": [
    "- 리스트뿐만 아니라 문자열, 딕셔너리, 세트도 \\_\\_iter__호출하면 이터레이터가 나온다.\n",
    "- 그리고 이터레이터에서 \\_\\_next__를 호출하면 차례대로 값을 꺼낸다."
   ]
  },
  {
   "cell_type": "code",
   "execution_count": 9,
   "metadata": {},
   "outputs": [
    {
     "data": {
      "text/plain": [
       "<str_iterator at 0x1cc10297880>"
      ]
     },
     "execution_count": 9,
     "metadata": {},
     "output_type": "execute_result"
    }
   ],
   "source": [
    "'hello, world!'.__iter__()"
   ]
  },
  {
   "cell_type": "code",
   "execution_count": 10,
   "metadata": {},
   "outputs": [
    {
     "data": {
      "text/plain": [
       "<dict_keyiterator at 0x1cc10303950>"
      ]
     },
     "execution_count": 10,
     "metadata": {},
     "output_type": "execute_result"
    }
   ],
   "source": [
    "{'a' : 1, 'b' : 2}.__iter__()"
   ]
  },
  {
   "cell_type": "code",
   "execution_count": 11,
   "metadata": {},
   "outputs": [
    {
     "data": {
      "text/plain": [
       "<set_iterator at 0x1cc10348a80>"
      ]
     },
     "execution_count": 11,
     "metadata": {},
     "output_type": "execute_result"
    }
   ],
   "source": [
    "{1, 2, 3}.__iter__()"
   ]
  },
  {
   "cell_type": "markdown",
   "metadata": {},
   "source": [
    "- it에서 \\_\\_next__를 호출할 때마다 0부터 숫자가 증가해서 2까지 나왔다. "
   ]
  },
  {
   "cell_type": "code",
   "execution_count": 14,
   "metadata": {},
   "outputs": [
    {
     "ename": "StopIteration",
     "evalue": "",
     "output_type": "error",
     "traceback": [
      "\u001b[1;31m---------------------------------------------------------------------------\u001b[0m",
      "\u001b[1;31mStopIteration\u001b[0m                             Traceback (most recent call last)",
      "\u001b[1;32m<ipython-input-14-ffb81e790062>\u001b[0m in \u001b[0;36m<module>\u001b[1;34m\u001b[0m\n\u001b[0;32m      3\u001b[0m \u001b[0mit\u001b[0m\u001b[1;33m.\u001b[0m\u001b[0m__next__\u001b[0m\u001b[1;33m(\u001b[0m\u001b[1;33m)\u001b[0m\u001b[1;33m\u001b[0m\u001b[1;33m\u001b[0m\u001b[0m\n\u001b[0;32m      4\u001b[0m \u001b[0mit\u001b[0m\u001b[1;33m.\u001b[0m\u001b[0m__next__\u001b[0m\u001b[1;33m(\u001b[0m\u001b[1;33m)\u001b[0m\u001b[1;33m\u001b[0m\u001b[1;33m\u001b[0m\u001b[0m\n\u001b[1;32m----> 5\u001b[1;33m \u001b[0mit\u001b[0m\u001b[1;33m.\u001b[0m\u001b[0m__next__\u001b[0m\u001b[1;33m(\u001b[0m\u001b[1;33m)\u001b[0m\u001b[1;33m\u001b[0m\u001b[1;33m\u001b[0m\u001b[0m\n\u001b[0m",
      "\u001b[1;31mStopIteration\u001b[0m: "
     ]
    }
   ],
   "source": [
    "it = range(3).__iter__()\n",
    "it.__next__() # 0\n",
    "it.__next__() # 1\n",
    "it.__next__() # 2\n",
    "it.__next__() # StopIteration: "
   ]
  },
  {
   "cell_type": "markdown",
   "metadata": {},
   "source": [
    "### 39.1.1 for와 반복가능한 객체 \n",
    "- for에 반복 가능한 객체를 사용했을 때 동작과정 \n",
    "- for i in range(3) : \n",
    "    - 1) range에서 \\_\\_iter__로 이터레이터를 얻음\n",
    "    - 2) 한번 반복할 때 마다 이터레이터에서 \\_\\_next__로 숫자 꺼내서 i에 저장\n",
    "    - 3) 지정된 숫자가 3이 되면 StopIteration을 발생시켜 반복 종료\n",
    "- 이처럼 반복 가능한 객체는 \\_\\_iter__메서드로 이터레이터를 얻고, 이터레이터의 \\_\\_next__메서드로 반복한다. \n",
    "- 반복 가능한 객체(iterable) : 요소를 한 번에 하나씩 가져올 수 있는 객체 \n",
    "- 이터레이터(iterator) : \\_\\_next__를 사용해서 차례대로 값을 꺼낼 수 있는 객체\n",
    "- 즉, 반복 가능한 객체에서 \\_\\_iter__메서드로 이터레이터를 얻는다."
   ]
  },
  {
   "cell_type": "markdown",
   "metadata": {},
   "source": [
    "![for에서 range의 동작 과정](https://dojang.io/pluginfile.php/13952/mod_page/content/3/039001.png)"
   ]
  },
  {
   "cell_type": "markdown",
   "metadata": {},
   "source": [
    "## 참고 - 시퀀스객체와 반복 가능한 객체의 차이 \n",
    "-읭??? 뭔소리야.. ㅋㅋㅋ "
   ]
  },
  {
   "cell_type": "markdown",
   "metadata": {},
   "source": [
    "![반복 가능한 객체는 시퀀스 객체를 포함](https://dojang.io/pluginfile.php/13952/mod_page/content/3/039002.png)"
   ]
  },
  {
   "cell_type": "markdown",
   "metadata": {},
   "source": [
    "## 93.2 이터레이터 만들기\n",
    "- \\_\\_iter__, \\_\\_next__ 메서드를 구현해서 직접 이터레이터를 만들어보자\n",
    "```python\n",
    "class 이터레이터이름:\n",
    "    def __iter__(self) :\n",
    "        code\n",
    "    def __next__(self) :\n",
    "        code\n",
    "```"
   ]
  },
  {
   "cell_type": "code",
   "execution_count": 17,
   "metadata": {},
   "outputs": [
    {
     "name": "stdout",
     "output_type": "stream",
     "text": [
      "0 1 2 "
     ]
    }
   ],
   "source": [
    "class Counter :\n",
    "    def __init__(self, stop) :\n",
    "        self.current = 0 # 현재 숫자 유지. 0부터 지정된 숫자 직전까지 반복\n",
    "        self.stop = stop # 반복을 끝낼 숫자\n",
    "        \n",
    "    def __iter__(self) : \n",
    "        return self # 현재 인스턴스를 반환 \n",
    "        \n",
    "    def __next__(self) :\n",
    "        if self.current < self.stop : # 현재 숫자가 반복을 끝낼 숫자보다 작을 때\n",
    "            r = self.current          # \n",
    "            self.current += 1 \n",
    "            return r \n",
    "        else :\n",
    "            raise StopIteration\n",
    "            \n",
    "for i in Counter(3) :\n",
    "    print(i, end = ' ')"
   ]
  },
  {
   "cell_type": "code",
   "execution_count": null,
   "metadata": {},
   "outputs": [],
   "source": []
  },
  {
   "cell_type": "code",
   "execution_count": null,
   "metadata": {},
   "outputs": [],
   "source": []
  },
  {
   "cell_type": "code",
   "execution_count": null,
   "metadata": {},
   "outputs": [],
   "source": []
  },
  {
   "cell_type": "code",
   "execution_count": null,
   "metadata": {},
   "outputs": [],
   "source": []
  },
  {
   "cell_type": "code",
   "execution_count": null,
   "metadata": {},
   "outputs": [],
   "source": []
  },
  {
   "cell_type": "code",
   "execution_count": null,
   "metadata": {},
   "outputs": [],
   "source": []
  },
  {
   "cell_type": "code",
   "execution_count": null,
   "metadata": {},
   "outputs": [],
   "source": []
  },
  {
   "cell_type": "code",
   "execution_count": null,
   "metadata": {},
   "outputs": [],
   "source": []
  },
  {
   "cell_type": "code",
   "execution_count": null,
   "metadata": {},
   "outputs": [],
   "source": []
  },
  {
   "cell_type": "code",
   "execution_count": null,
   "metadata": {},
   "outputs": [],
   "source": []
  },
  {
   "cell_type": "code",
   "execution_count": null,
   "metadata": {},
   "outputs": [],
   "source": []
  },
  {
   "cell_type": "code",
   "execution_count": null,
   "metadata": {},
   "outputs": [],
   "source": []
  },
  {
   "cell_type": "code",
   "execution_count": null,
   "metadata": {},
   "outputs": [],
   "source": []
  },
  {
   "cell_type": "code",
   "execution_count": null,
   "metadata": {},
   "outputs": [],
   "source": []
  },
  {
   "cell_type": "code",
   "execution_count": null,
   "metadata": {},
   "outputs": [],
   "source": []
  },
  {
   "cell_type": "code",
   "execution_count": null,
   "metadata": {},
   "outputs": [],
   "source": []
  },
  {
   "cell_type": "code",
   "execution_count": null,
   "metadata": {},
   "outputs": [],
   "source": []
  },
  {
   "cell_type": "code",
   "execution_count": null,
   "metadata": {},
   "outputs": [],
   "source": []
  },
  {
   "cell_type": "code",
   "execution_count": null,
   "metadata": {},
   "outputs": [],
   "source": []
  },
  {
   "cell_type": "code",
   "execution_count": null,
   "metadata": {},
   "outputs": [],
   "source": []
  },
  {
   "cell_type": "code",
   "execution_count": null,
   "metadata": {},
   "outputs": [],
   "source": []
  },
  {
   "cell_type": "code",
   "execution_count": null,
   "metadata": {},
   "outputs": [],
   "source": []
  },
  {
   "cell_type": "code",
   "execution_count": null,
   "metadata": {},
   "outputs": [],
   "source": []
  },
  {
   "cell_type": "code",
   "execution_count": null,
   "metadata": {},
   "outputs": [],
   "source": []
  }
 ],
 "metadata": {
  "kernelspec": {
   "display_name": "Python 3",
   "language": "python",
   "name": "python3"
  },
  "language_info": {
   "codemirror_mode": {
    "name": "ipython",
    "version": 3
   },
   "file_extension": ".py",
   "mimetype": "text/x-python",
   "name": "python",
   "nbconvert_exporter": "python",
   "pygments_lexer": "ipython3",
   "version": "3.8.5"
  }
 },
 "nbformat": 4,
 "nbformat_minor": 4
}
