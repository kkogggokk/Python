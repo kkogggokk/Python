{
 "cells": [
  {
   "cell_type": "markdown",
   "metadata": {},
   "source": [
    "# 16.1 for와 range사용하기 \n",
    "```python\n",
    "for 변수 in range(횟수) :\n",
    "    반복할 코드\n",
    "```"
   ]
  },
  {
   "cell_type": "code",
   "execution_count": 2,
   "metadata": {
    "collapsed": true
   },
   "outputs": [
    {
     "name": "stdout",
     "output_type": "stream",
     "text": [
      "Hello,world!\n",
      "Hello,world!\n",
      "Hello,world!\n",
      "Hello,world!\n",
      "Hello,world!\n",
      "Hello,world!\n",
      "Hello,world!\n",
      "Hello,world!\n",
      "Hello,world!\n",
      "Hello,world!\n",
      "Hello,world!\n",
      "Hello,world!\n",
      "Hello,world!\n",
      "Hello,world!\n",
      "Hello,world!\n",
      "Hello,world!\n",
      "Hello,world!\n",
      "Hello,world!\n",
      "Hello,world!\n",
      "Hello,world!\n",
      "Hello,world!\n",
      "Hello,world!\n",
      "Hello,world!\n",
      "Hello,world!\n",
      "Hello,world!\n",
      "Hello,world!\n",
      "Hello,world!\n",
      "Hello,world!\n",
      "Hello,world!\n",
      "Hello,world!\n",
      "Hello,world!\n",
      "Hello,world!\n",
      "Hello,world!\n",
      "Hello,world!\n",
      "Hello,world!\n",
      "Hello,world!\n",
      "Hello,world!\n",
      "Hello,world!\n",
      "Hello,world!\n",
      "Hello,world!\n",
      "Hello,world!\n",
      "Hello,world!\n",
      "Hello,world!\n",
      "Hello,world!\n",
      "Hello,world!\n",
      "Hello,world!\n",
      "Hello,world!\n",
      "Hello,world!\n",
      "Hello,world!\n",
      "Hello,world!\n",
      "Hello,world!\n",
      "Hello,world!\n",
      "Hello,world!\n",
      "Hello,world!\n",
      "Hello,world!\n",
      "Hello,world!\n",
      "Hello,world!\n",
      "Hello,world!\n",
      "Hello,world!\n",
      "Hello,world!\n",
      "Hello,world!\n",
      "Hello,world!\n",
      "Hello,world!\n",
      "Hello,world!\n",
      "Hello,world!\n",
      "Hello,world!\n",
      "Hello,world!\n",
      "Hello,world!\n",
      "Hello,world!\n",
      "Hello,world!\n",
      "Hello,world!\n",
      "Hello,world!\n",
      "Hello,world!\n",
      "Hello,world!\n",
      "Hello,world!\n",
      "Hello,world!\n",
      "Hello,world!\n",
      "Hello,world!\n",
      "Hello,world!\n",
      "Hello,world!\n",
      "Hello,world!\n",
      "Hello,world!\n",
      "Hello,world!\n",
      "Hello,world!\n",
      "Hello,world!\n",
      "Hello,world!\n",
      "Hello,world!\n",
      "Hello,world!\n",
      "Hello,world!\n",
      "Hello,world!\n",
      "Hello,world!\n",
      "Hello,world!\n",
      "Hello,world!\n",
      "Hello,world!\n",
      "Hello,world!\n",
      "Hello,world!\n",
      "Hello,world!\n",
      "Hello,world!\n",
      "Hello,world!\n",
      "Hello,world!\n"
     ]
    }
   ],
   "source": [
    "for i in range(100) :\n",
    "    print('Hello,world!')"
   ]
  },
  {
   "cell_type": "markdown",
   "metadata": {},
   "source": [
    "## 16.2 for와 range 응용하기\n",
    "### 16.2.1 시작하는 숫자와 끝나는 숫자 지정하기 \n",
    "- for 변수 in range(시작, 끝) : "
   ]
  },
  {
   "cell_type": "code",
   "execution_count": 4,
   "metadata": {},
   "outputs": [
    {
     "name": "stdout",
     "output_type": "stream",
     "text": [
      "Hello,world 5\n",
      "Hello,world 6\n",
      "Hello,world 7\n",
      "Hello,world 8\n",
      "Hello,world 9\n",
      "Hello,world 10\n",
      "Hello,world 11\n"
     ]
    }
   ],
   "source": [
    "for i in range(5,12) :\n",
    "    print('Hello,world',i) #끝나는 숫자는 생성된 숫자에 포함되지 않음"
   ]
  },
  {
   "cell_type": "markdown",
   "metadata": {},
   "source": [
    "### 16.2.2 증가폭 사용하기 \n",
    "- for 변수 in range(시작, 끝, 증감폭) :"
   ]
  },
  {
   "cell_type": "code",
   "execution_count": 6,
   "metadata": {},
   "outputs": [
    {
     "name": "stdout",
     "output_type": "stream",
     "text": [
      "Hello,world! 0\n",
      "Hello,world! 2\n",
      "Hello,world! 4\n",
      "Hello,world! 6\n",
      "Hello,world! 8\n"
     ]
    }
   ],
   "source": [
    "for i in range(0,10,2) : # 0~8 까지 2씩 증가 \n",
    "    print('Hello,world!',i)"
   ]
  },
  {
   "cell_type": "markdown",
   "metadata": {},
   "source": [
    "### 16.2.3 숫자를 감소시키기 \n",
    "- range는 숫자가 증가하는 기본 값이 양수 1이기 때문에 \n",
    "- 증가폭을 음수로 지정하면 숫자가 감소\n",
    "- reversed 사용해서 숫자의 순서 반대로 뒤집기 \n",
    "    - for 변수 in reversed(range(횟수))\n",
    "    - for 변수 in reversed(range(시작, 끝))\n",
    "    - for 변수 in reversed(range(시작, 끝, 증가폭))"
   ]
  },
  {
   "cell_type": "code",
   "execution_count": 8,
   "metadata": {},
   "outputs": [],
   "source": [
    "for i in range(10,0) : #동작하지 않음\n",
    "    print('Hello,world',i)"
   ]
  },
  {
   "cell_type": "code",
   "execution_count": 12,
   "metadata": {},
   "outputs": [
    {
     "name": "stdout",
     "output_type": "stream",
     "text": [
      "hello,world 10\n",
      "hello,world 9\n",
      "hello,world 8\n",
      "hello,world 7\n",
      "hello,world 6\n",
      "hello,world 5\n",
      "hello,world 4\n",
      "hello,world 3\n",
      "hello,world 2\n",
      "hello,world 1\n"
     ]
    }
   ],
   "source": [
    "for i in range(10,0,-1) : #10 ~ 0 까지 \n",
    "    print('hello,world',i)"
   ]
  },
  {
   "cell_type": "code",
   "execution_count": 13,
   "metadata": {},
   "outputs": [
    {
     "name": "stdout",
     "output_type": "stream",
     "text": [
      "hello,world 9\n",
      "hello,world 8\n",
      "hello,world 7\n",
      "hello,world 6\n",
      "hello,world 5\n",
      "hello,world 4\n",
      "hello,world 3\n",
      "hello,world 2\n",
      "hello,world 1\n",
      "hello,world 0\n"
     ]
    }
   ],
   "source": [
    "for i in reversed(range(10)) : #9 ~ 0 까지 10번 반복\n",
    "    print('hello,world',i)"
   ]
  },
  {
   "cell_type": "markdown",
   "metadata": {},
   "source": [
    "### 16.2.4 입력한 횟수대로 반복하기 "
   ]
  },
  {
   "cell_type": "code",
   "execution_count": 15,
   "metadata": {},
   "outputs": [
    {
     "name": "stdout",
     "output_type": "stream",
     "text": [
      "3\n",
      "Hello,world 0\n",
      "Hello,world 1\n",
      "Hello,world 2\n"
     ]
    }
   ],
   "source": [
    "count = int(input())\n",
    "for i in range(count) : \n",
    "    print('Hello,world',i)"
   ]
  },
  {
   "cell_type": "markdown",
   "metadata": {},
   "source": [
    "## 16.3 시퀀스로 객체 반복하기"
   ]
  },
  {
   "cell_type": "code",
   "execution_count": null,
   "metadata": {},
   "outputs": [],
   "source": []
  }
 ],
 "metadata": {
  "kernelspec": {
   "display_name": "Python 3",
   "language": "python",
   "name": "python3"
  },
  "language_info": {
   "codemirror_mode": {
    "name": "ipython",
    "version": 3
   },
   "file_extension": ".py",
   "mimetype": "text/x-python",
   "name": "python",
   "nbconvert_exporter": "python",
   "pygments_lexer": "ipython3",
   "version": "3.8.5"
  }
 },
 "nbformat": 4,
 "nbformat_minor": 4
}
