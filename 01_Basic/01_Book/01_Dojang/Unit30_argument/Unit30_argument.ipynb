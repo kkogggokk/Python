{
 "cells": [
  {
   "cell_type": "markdown",
   "metadata": {},
   "source": [
    "## 30.1 위치인수와 리스트 언패킹 사용하기\n",
    "- 함수에 인수를 순서대로 넣는 방식 : 위치인수 (Positional argument)\n",
    "- 인수의 위치가 정해져 잇음 "
   ]
  },
  {
   "cell_type": "code",
   "execution_count": 1,
   "metadata": {},
   "outputs": [
    {
     "name": "stdout",
     "output_type": "stream",
     "text": [
      "10 20 30\n"
     ]
    }
   ],
   "source": [
    "print(10, 20, 30)"
   ]
  },
  {
   "cell_type": "code",
   "execution_count": 2,
   "metadata": {},
   "outputs": [],
   "source": [
    "## 30.1.1 위치 인수를 사용하는 함수를 만들고 호출하기\n",
    "\n",
    "def print_numbers(a, b, c) :\n",
    "    print(a)\n",
    "    print(b)\n",
    "    print(c)"
   ]
  },
  {
   "cell_type": "code",
   "execution_count": 3,
   "metadata": {},
   "outputs": [
    {
     "name": "stdout",
     "output_type": "stream",
     "text": [
      "10\n",
      "20\n",
      "30\n"
     ]
    }
   ],
   "source": [
    "print_numbers(10, 20, 30)"
   ]
  },
  {
   "cell_type": "markdown",
   "metadata": {},
   "source": [
    "### 30.1.2 언패킹 사용하기 \n",
    "- 인수를 순서대로 넣을 대는 리스트나 튜플을 사용할 수 도 잇다.\n",
    "- 리스트 또는 튜플 앞에 *를 붙여서 함수에 넣어주면 된다. \n",
    "    - 함수(*리스트)\n",
    "    - 함수(*튜플)"
   ]
  },
  {
   "cell_type": "code",
   "execution_count": 5,
   "metadata": {},
   "outputs": [
    {
     "name": "stdout",
     "output_type": "stream",
     "text": [
      "10\n",
      "20\n",
      "30\n"
     ]
    }
   ],
   "source": [
    "x = [10, 20, 30]\n",
    "print_numbers(*x) #언패킹"
   ]
  },
  {
   "cell_type": "code",
   "execution_count": 6,
   "metadata": {},
   "outputs": [
    {
     "name": "stdout",
     "output_type": "stream",
     "text": [
      "20\n",
      "30\n",
      "40\n"
     ]
    }
   ],
   "source": [
    "print_numbers(*[20, 30, 40])"
   ]
  },
  {
   "cell_type": "code",
   "execution_count": 7,
   "metadata": {},
   "outputs": [
    {
     "ename": "TypeError",
     "evalue": "print_numbers() missing 1 required positional argument: 'c'",
     "output_type": "error",
     "traceback": [
      "\u001b[0;31m---------------------------------------------------------------------------\u001b[0m",
      "\u001b[0;31mTypeError\u001b[0m                                 Traceback (most recent call last)",
      "\u001b[0;32m<ipython-input-7-45824171ef78>\u001b[0m in \u001b[0;36m<module>\u001b[0;34m\u001b[0m\n\u001b[1;32m      1\u001b[0m \u001b[0;31m# 이 때 매개변수개수와 리스트의요소 개수는 같아야 한다.\u001b[0m\u001b[0;34m\u001b[0m\u001b[0;34m\u001b[0m\u001b[0;34m\u001b[0m\u001b[0m\n\u001b[1;32m      2\u001b[0m \u001b[0;31m# 만약 개수가 다르면 함수를 호출할 수 없습니다.\u001b[0m\u001b[0;34m\u001b[0m\u001b[0;34m\u001b[0m\u001b[0;34m\u001b[0m\u001b[0m\n\u001b[0;32m----> 3\u001b[0;31m \u001b[0mprint_numbers\u001b[0m\u001b[0;34m(\u001b[0m\u001b[0;34m*\u001b[0m\u001b[0;34m[\u001b[0m\u001b[0;36m10\u001b[0m\u001b[0;34m,\u001b[0m \u001b[0;36m20\u001b[0m\u001b[0;34m]\u001b[0m\u001b[0;34m)\u001b[0m\u001b[0;34m\u001b[0m\u001b[0;34m\u001b[0m\u001b[0m\n\u001b[0m",
      "\u001b[0;31mTypeError\u001b[0m: print_numbers() missing 1 required positional argument: 'c'"
     ]
    }
   ],
   "source": [
    "# 이 때 매개변수개수와 리스트의요소 개수는 같아야 한다.\n",
    "# 만약 개수가 다르면 함수를 호출할 수 없습니다.\n",
    "print_numbers(*[10, 20])"
   ]
  },
  {
   "cell_type": "code",
   "execution_count": 8,
   "metadata": {},
   "outputs": [
    {
     "ename": "TypeError",
     "evalue": "print_numbers() takes 3 positional arguments but 4 were given",
     "output_type": "error",
     "traceback": [
      "\u001b[0;31m---------------------------------------------------------------------------\u001b[0m",
      "\u001b[0;31mTypeError\u001b[0m                                 Traceback (most recent call last)",
      "\u001b[0;32m<ipython-input-8-a01a2d237f6e>\u001b[0m in \u001b[0;36m<module>\u001b[0;34m\u001b[0m\n\u001b[0;32m----> 1\u001b[0;31m \u001b[0mprint_numbers\u001b[0m\u001b[0;34m(\u001b[0m\u001b[0;34m*\u001b[0m\u001b[0;34m[\u001b[0m\u001b[0;36m10\u001b[0m\u001b[0;34m,\u001b[0m \u001b[0;36m20\u001b[0m\u001b[0;34m,\u001b[0m \u001b[0;36m30\u001b[0m\u001b[0;34m,\u001b[0m \u001b[0;36m40\u001b[0m\u001b[0;34m]\u001b[0m\u001b[0;34m)\u001b[0m\u001b[0;34m\u001b[0m\u001b[0;34m\u001b[0m\u001b[0m\n\u001b[0m",
      "\u001b[0;31mTypeError\u001b[0m: print_numbers() takes 3 positional arguments but 4 were given"
     ]
    }
   ],
   "source": [
    "print_numbers(*[10, 20, 30, 40])"
   ]
  },
  {
   "cell_type": "markdown",
   "metadata": {},
   "source": [
    "### 30.1.3 가변인수 함수 만들기\n",
    "- 위치인수와 리스트 언패킹은 어디에 사용할 까? \n",
    "- 이 기능들은 인수의 개수가 정해지지 않은 가변인수(variable argument)에 사용\n",
    "- 같은 함수에 인수 한개를 넣을 수도 있고, 열 개를 넣을 수도 잇다.\n",
    "- 또 인수를 넣지 않을 수도 있다. "
   ]
  },
  {
   "cell_type": "code",
   "execution_count": 9,
   "metadata": {},
   "outputs": [],
   "source": [
    "def print_numbers(*args) :\n",
    "    for arg in args : \n",
    "        print(arg)"
   ]
  },
  {
   "cell_type": "code",
   "execution_count": 10,
   "metadata": {},
   "outputs": [
    {
     "name": "stdout",
     "output_type": "stream",
     "text": [
      "10\n"
     ]
    }
   ],
   "source": [
    "print_numbers(10)"
   ]
  },
  {
   "cell_type": "code",
   "execution_count": 12,
   "metadata": {},
   "outputs": [
    {
     "name": "stdout",
     "output_type": "stream",
     "text": [
      "10\n",
      "20\n",
      "30\n",
      "40\n",
      "50\n"
     ]
    }
   ],
   "source": [
    "print_numbers(10, 20, 30, 40, 50) #함수를 직접 여러개 넣음"
   ]
  },
  {
   "cell_type": "code",
   "execution_count": 18,
   "metadata": {},
   "outputs": [
    {
     "name": "stdout",
     "output_type": "stream",
     "text": [
      "10\n"
     ]
    }
   ],
   "source": [
    "x = [10]\n",
    "print_numbers(*x) "
   ]
  },
  {
   "cell_type": "code",
   "execution_count": 22,
   "metadata": {},
   "outputs": [
    {
     "name": "stdout",
     "output_type": "stream",
     "text": [
      "10\n",
      "20\n",
      "30\n",
      "40\n"
     ]
    }
   ],
   "source": [
    "y = [10, 20, 30, 40]\n",
    "print_numbers(*y) # 함수 호출할 때도 언패킹 하기 위해서 *붙여줘야함"
   ]
  },
  {
   "cell_type": "markdown",
   "metadata": {},
   "source": [
    "### <참고> 고정인수와 가변인수를 함께 사용하기 \n",
    "- 고정인수와 가변인수를 함께 사용할 때는 다음과 같이 고정 매개 변수를 먼저 지정하고\n",
    "- 그 다음 매개변수에 *를 붙여주면 된다. "
   ]
  },
  {
   "cell_type": "code",
   "execution_count": 27,
   "metadata": {},
   "outputs": [
    {
     "name": "stdout",
     "output_type": "stream",
     "text": [
      "1\n",
      "()\n"
     ]
    }
   ],
   "source": [
    "# *args가 고정매개변수보다 앞쪽에 오면 안된다. 매개변수 순서에는 *args는 반드시 가장 뒤쪽에 와야 한다. \n",
    "def print_numbers(a, *args) :\n",
    "    print(a)\n",
    "    print(args)\n",
    "    \n",
    "print_numbers(1)"
   ]
  },
  {
   "cell_type": "code",
   "execution_count": 28,
   "metadata": {},
   "outputs": [
    {
     "name": "stdout",
     "output_type": "stream",
     "text": [
      "1\n",
      "(10, 20)\n"
     ]
    }
   ],
   "source": [
    "print_numbers(1, 10, 20)"
   ]
  },
  {
   "cell_type": "code",
   "execution_count": 26,
   "metadata": {},
   "outputs": [
    {
     "name": "stdout",
     "output_type": "stream",
     "text": [
      "10\n",
      "(20, 30, 40, 50)\n"
     ]
    }
   ],
   "source": [
    "print_numbers(*[10, 20, 30, 40, 50])"
   ]
  },
  {
   "cell_type": "markdown",
   "metadata": {},
   "source": [
    "## 30.2 키워드 인수 사용하기 \n",
    "- 함수에 인수를 넣을 때 값이나 변수를 그대로 넣게됨\n",
    "- 각각의 인수가 무슨 용도인지 알기 어려움 \n",
    "- 순서가 달라지면 잘못된 결과가 출력됨 \n",
    "- 인수의 순서와 용도를 모두 기억해야 하는 불편함\n",
    "- 따라서 인수의 순서와 용도를 매번 기억하지 않도록 키워드인수 기능 제공\n",
    "- 함수(키워드=값)"
   ]
  },
  {
   "cell_type": "code",
   "execution_count": 31,
   "metadata": {},
   "outputs": [],
   "source": [
    "def personal_info(name, age, address) :\n",
    "    print('name :', name)\n",
    "    print('age : ', age)\n",
    "    print('address :', address)"
   ]
  },
  {
   "cell_type": "code",
   "execution_count": 32,
   "metadata": {},
   "outputs": [
    {
     "name": "stdout",
     "output_type": "stream",
     "text": [
      "name : hong\n",
      "age :  30\n",
      "address : seoul\n"
     ]
    }
   ],
   "source": [
    "personal_info('hong', 30, 'seoul')"
   ]
  },
  {
   "cell_type": "code",
   "execution_count": 34,
   "metadata": {},
   "outputs": [
    {
     "name": "stdout",
     "output_type": "stream",
     "text": [
      "name : 30\n",
      "age :  hong\n",
      "address : seoul\n"
     ]
    }
   ],
   "source": [
    "personal_info(30, 'hong','seoul') #순서대로 하면 잘못 입력됨"
   ]
  },
  {
   "cell_type": "code",
   "execution_count": 35,
   "metadata": {},
   "outputs": [
    {
     "name": "stdout",
     "output_type": "stream",
     "text": [
      "name : hong\n",
      "age :  30\n",
      "address : seoul\n"
     ]
    }
   ],
   "source": [
    "personal_info(age=30, address='seoul', name='hong')"
   ]
  },
  {
   "cell_type": "markdown",
   "metadata": {},
   "source": [
    "## 30.3 키워드 인수와 딕셔너리 언패킹 사용하기 \n",
    "- 딕셔너리를 사용해서 키워드 인수로 값을 넣는 딕셔너리 언패킹 \n",
    "- 딕셔너리 앞에 **를 붙여서 함수에 넣어준다. \n",
    "```\n",
    "함수(**딕셔너리)\n",
    "```\n",
    "- 딕셔너리 언패킹을 사용할 때는 함수 매개변수 이름과 딕셔너리의 키 이름이 같아야 한다.\n",
    "- 매개변수 개수와 딕셔너리의 키의 개수가 같아야 한다. \n",
    "- 만약 이름의개수가 다르면 함수를 호출할 수 없다. "
   ]
  },
  {
   "cell_type": "code",
   "execution_count": 41,
   "metadata": {},
   "outputs": [],
   "source": [
    "def personal_info(name, age, address) :\n",
    "    print('name :', name)\n",
    "    print('age :', age)\n",
    "    print('address :', address) \n",
    "\n",
    "    "
   ]
  },
  {
   "cell_type": "code",
   "execution_count": 42,
   "metadata": {},
   "outputs": [
    {
     "name": "stdout",
     "output_type": "stream",
     "text": [
      "name : hong\n",
      "age : 30\n",
      "address : seoul\n"
     ]
    }
   ],
   "source": [
    "# 딕셔너리에 값을 저장하고 **를 붙여서 함수에 넣어준다. \n",
    "x = {'name' : 'hong', 'age' : 30, 'address' : 'seoul'}\n",
    "personal_info(**x) # 딕셔너리를 언패킹 하면 딕셔너리의 값들이 함수의 인수로 들어감 "
   ]
  },
  {
   "cell_type": "code",
   "execution_count": 43,
   "metadata": {},
   "outputs": [
    {
     "name": "stdout",
     "output_type": "stream",
     "text": [
      "name : kim\n",
      "age : 10\n",
      "address : busan\n"
     ]
    }
   ],
   "source": [
    "# 딕셔너리 변수 대신 딕셔너리 앞에 바로 **를 붙여도 동작한다.\n",
    "personal_info(**{'name' : 'kim', 'age' : 10, 'address' : 'busan'})"
   ]
  },
  {
   "cell_type": "code",
   "execution_count": 44,
   "metadata": {},
   "outputs": [
    {
     "ename": "TypeError",
     "evalue": "personal_info() got an unexpected keyword argument 'old'",
     "output_type": "error",
     "traceback": [
      "\u001b[0;31m---------------------------------------------------------------------------\u001b[0m",
      "\u001b[0;31mTypeError\u001b[0m                                 Traceback (most recent call last)",
      "\u001b[0;32m<ipython-input-44-80bd9b366b86>\u001b[0m in \u001b[0;36m<module>\u001b[0;34m\u001b[0m\n\u001b[0;32m----> 1\u001b[0;31m \u001b[0mpersonal_info\u001b[0m\u001b[0;34m(\u001b[0m\u001b[0;34m**\u001b[0m\u001b[0;34m{\u001b[0m\u001b[0;34m'name'\u001b[0m \u001b[0;34m:\u001b[0m \u001b[0;34m'kim'\u001b[0m\u001b[0;34m,\u001b[0m \u001b[0;34m'old'\u001b[0m \u001b[0;34m:\u001b[0m \u001b[0;36m30\u001b[0m\u001b[0;34m,\u001b[0m \u001b[0;34m'address'\u001b[0m \u001b[0;34m:\u001b[0m \u001b[0;34m'seoul'\u001b[0m\u001b[0;34m}\u001b[0m\u001b[0;34m)\u001b[0m\u001b[0;34m\u001b[0m\u001b[0;34m\u001b[0m\u001b[0m\n\u001b[0m",
      "\u001b[0;31mTypeError\u001b[0m: personal_info() got an unexpected keyword argument 'old'"
     ]
    }
   ],
   "source": [
    "# 매개변수명 != 딕셔너리키 \n",
    "personal_info(**{'name' : 'kim', 'old' : 30, 'address' : 'seoul'})"
   ]
  },
  {
   "cell_type": "markdown",
   "metadata": {},
   "source": [
    "### 30.3.1 **를 두번 사용하는 이유 \n",
    "- 왜냐하면 딕셔너리는 키-값 쌍 형태로 값이 저장되어 있기 때문이다.\n"
   ]
  },
  {
   "cell_type": "code",
   "execution_count": 45,
   "metadata": {},
   "outputs": [],
   "source": [
    "# 딕셔너리에 * 한번만 사용해 호출하는 경우 => x의 키가 출력된다. \n",
    "x = {\n",
    "    'name' : 'hong',\n",
    "    'age' : 30,\n",
    "    'address' : 'seoul'\n",
    "}"
   ]
  },
  {
   "cell_type": "code",
   "execution_count": 46,
   "metadata": {},
   "outputs": [
    {
     "name": "stdout",
     "output_type": "stream",
     "text": [
      "name : name\n",
      "age : age\n",
      "address : address\n"
     ]
    }
   ],
   "source": [
    "personal_info(*x)"
   ]
  },
  {
   "cell_type": "markdown",
   "metadata": {},
   "source": [
    "### 30.3.2 키워드 인수를 사용하는 가변 인수 함수 만들기 \n",
    "- 키워드 인수를 사용하는 가변 인수 함수는 매개변수 앞에 **를 붙여서 만든다.\n",
    "```python\n",
    "def 함수이름(**) :\n",
    "    코드\n",
    "```"
   ]
  },
  {
   "cell_type": "code",
   "execution_count": 48,
   "metadata": {},
   "outputs": [],
   "source": [
    "# kwargs (KeyWord ARGumentS)\n",
    "def personal_info(**kwargs) :\n",
    "    for kw, arg in kwargs.items() :\n",
    "        print(kw, ':', arg, sep = '')"
   ]
  },
  {
   "cell_type": "code",
   "execution_count": 49,
   "metadata": {},
   "outputs": [
    {
     "name": "stdout",
     "output_type": "stream",
     "text": [
      "name:hong\n"
     ]
    }
   ],
   "source": [
    "personal_info(name='hong')"
   ]
  },
  {
   "cell_type": "code",
   "execution_count": 50,
   "metadata": {},
   "outputs": [
    {
     "name": "stdout",
     "output_type": "stream",
     "text": [
      "name:hong\n",
      "age:30\n",
      "address:seoul\n"
     ]
    }
   ],
   "source": [
    "personal_info(name='hong', age=30, address='seoul')"
   ]
  },
  {
   "cell_type": "code",
   "execution_count": 51,
   "metadata": {},
   "outputs": [],
   "source": [
    "x = {'name' : 'hong'}"
   ]
  },
  {
   "cell_type": "code",
   "execution_count": 52,
   "metadata": {},
   "outputs": [
    {
     "name": "stdout",
     "output_type": "stream",
     "text": [
      "name:hong\n"
     ]
    }
   ],
   "source": [
    "personal_info(**x)"
   ]
  },
  {
   "cell_type": "code",
   "execution_count": 53,
   "metadata": {},
   "outputs": [],
   "source": [
    "y = {'name' : 'kim', 'age' : 20, 'address' : 'busan'}"
   ]
  },
  {
   "cell_type": "code",
   "execution_count": 54,
   "metadata": {},
   "outputs": [
    {
     "name": "stdout",
     "output_type": "stream",
     "text": [
      "name:kim\n",
      "age:20\n",
      "address:busan\n"
     ]
    }
   ],
   "source": [
    "personal_info(**y)"
   ]
  },
  {
   "cell_type": "code",
   "execution_count": 56,
   "metadata": {},
   "outputs": [],
   "source": [
    "# 보통 **kwargs를 사용한 가변 인수 함수는 특정 키가 있는지 확인 한 후 해당 기능을 만든다.\n",
    "def personal_info(**kwargs) :\n",
    "    if 'name' in kwargs :\n",
    "        print('name',kwargs['name'])\n",
    "    if 'age' in kwargs : \n",
    "        print('age', kwargs['age'])\n",
    "    if 'address' in kwargs :\n",
    "        print('address', kwargs['address'])"
   ]
  },
  {
   "cell_type": "code",
   "execution_count": null,
   "metadata": {},
   "outputs": [],
   "source": []
  },
  {
   "cell_type": "markdown",
   "metadata": {},
   "source": [
    "## 30.4 매개변수에 초깃값 지정하기 \n",
    "```python\n",
    "def 함수이름(매개변수=값) :\n",
    "    코드\n",
    "```"
   ]
  },
  {
   "cell_type": "code",
   "execution_count": 59,
   "metadata": {},
   "outputs": [],
   "source": [
    "def personal_info(name, age, address='비공개') :\n",
    "    print('name :',name)\n",
    "    print('age :',age)\n",
    "    print('address :',address)"
   ]
  },
  {
   "cell_type": "code",
   "execution_count": 60,
   "metadata": {},
   "outputs": [
    {
     "name": "stdout",
     "output_type": "stream",
     "text": [
      "name : hong\n",
      "age : 30\n",
      "address : 비공개\n"
     ]
    }
   ],
   "source": [
    "# address 초기값이 있으므로 address부분은 비워두고 호출 할 수 있다.\n",
    "personal_info('hong', 30)"
   ]
  },
  {
   "cell_type": "code",
   "execution_count": 61,
   "metadata": {},
   "outputs": [
    {
     "name": "stdout",
     "output_type": "stream",
     "text": [
      "name : kim\n",
      "age : 10\n",
      "address : seoul\n"
     ]
    }
   ],
   "source": [
    "#매개변수에 초기값이 지정되어 있더라도 값을 넣으면 해당 값이 전달된다. \n",
    "personal_info('kim',10,'seoul')"
   ]
  },
  {
   "cell_type": "markdown",
   "metadata": {},
   "source": [
    "### 30.4.1 초기값이 지정된 매개변수의 위치\n",
    "- 초기값이 지정된 매개변수 다음에는 초기값이 없는 매개변수 올수 없다. \n",
    "- 따라서 초기값이 지정된 매개변수는 뒤쪽에 몰아주면 된다. "
   ]
  },
  {
   "cell_type": "code",
   "execution_count": 62,
   "metadata": {},
   "outputs": [
    {
     "ename": "SyntaxError",
     "evalue": "invalid syntax (<ipython-input-62-b49858470e83>, line 1)",
     "output_type": "error",
     "traceback": [
      "\u001b[0;36m  File \u001b[0;32m\"<ipython-input-62-b49858470e83>\"\u001b[0;36m, line \u001b[0;32m1\u001b[0m\n\u001b[0;31m    def personal_info(name, address='비공개', age)\u001b[0m\n\u001b[0m                                               ^\u001b[0m\n\u001b[0;31mSyntaxError\u001b[0m\u001b[0;31m:\u001b[0m invalid syntax\n"
     ]
    }
   ],
   "source": [
    "def personal_info(name, address='비공개', age)"
   ]
  },
  {
   "cell_type": "code",
   "execution_count": 65,
   "metadata": {},
   "outputs": [],
   "source": [
    "def personal_info(name, addres) :\n",
    "    pass"
   ]
  },
  {
   "cell_type": "code",
   "execution_count": 66,
   "metadata": {},
   "outputs": [],
   "source": [
    "personal_info(**{'name' : 'hong', 'age' :30})"
   ]
  },
  {
   "cell_type": "code",
   "execution_count": null,
   "metadata": {},
   "outputs": [],
   "source": []
  }
 ],
 "metadata": {
  "kernelspec": {
   "display_name": "Python 3",
   "language": "python",
   "name": "python3"
  },
  "language_info": {
   "codemirror_mode": {
    "name": "ipython",
    "version": 3
   },
   "file_extension": ".py",
   "mimetype": "text/x-python",
   "name": "python",
   "nbconvert_exporter": "python",
   "pygments_lexer": "ipython3",
   "version": "3.8.5"
  }
 },
 "nbformat": 4,
 "nbformat_minor": 4
}
