{
 "cells": [
  {
   "cell_type": "code",
   "execution_count": 3,
   "metadata": {},
   "outputs": [
    {
     "name": "stdout",
     "output_type": "stream",
     "text": [
      "높은점수 : 100\n",
      "높은점수 : 91\n"
     ]
    }
   ],
   "source": [
    "#30.6 가장 높은 점수를 구하는 함수 만들기\n",
    "ç, english, mathematics, science = 100, 86, 81, 91\n",
    "\n",
    "def get_max_score(*args) :\n",
    "    return max(args)\n",
    "    \n",
    "\n",
    "max_score = get_max_score(korean, english, mathematics, science)\n",
    "print('높은점수 :', max_score)\n",
    "\n",
    "max_score = get_max_score(english, science)\n",
    "print('높은점수 :',max_score)"
   ]
  },
  {
   "cell_type": "code",
   "execution_count": null,
   "metadata": {},
   "outputs": [],
   "source": []
  },
  {
   "cell_type": "code",
   "execution_count": null,
   "metadata": {},
   "outputs": [],
   "source": []
  }
 ],
 "metadata": {
  "kernelspec": {
   "display_name": "Python 3",
   "language": "python",
   "name": "python3"
  },
  "language_info": {
   "codemirror_mode": {
    "name": "ipython",
    "version": 3
   },
   "file_extension": ".py",
   "mimetype": "text/x-python",
   "name": "python",
   "nbconvert_exporter": "python",
   "pygments_lexer": "ipython3",
   "version": "3.8.5"
  }
 },
 "nbformat": 4,
 "nbformat_minor": 4
}
