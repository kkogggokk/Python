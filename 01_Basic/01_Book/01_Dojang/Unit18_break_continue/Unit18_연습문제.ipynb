{
 "cells": [
  {
   "cell_type": "markdown",
   "metadata": {},
   "source": [
    "## 18.5 연습문제 : 3으로 끝나는 숫자만 출력하기 \n",
    "- 다음 소스코드를 완성하여 0과 73사이의 숫자 중 3으로 끝나는 숫자만 출력되게 만드세요. "
   ]
  },
  {
   "cell_type": "code",
   "execution_count": 12,
   "metadata": {},
   "outputs": [
    {
     "name": "stdout",
     "output_type": "stream",
     "text": [
      "3 13 23 33 43 53 63 73 "
     ]
    }
   ],
   "source": [
    "i = 0 \n",
    "while True : # 조건문 순서 바뀌어도 상관 없나? \n",
    "    if i > 73 : \n",
    "        break\n",
    "    if i % 10 != 3 :\n",
    "        i += 1 # 여기서 더하는 증감식은 뭐고, 컨티뉴로 건너뛰면 아래 +1 도 건너 뛰게 되므로 \n",
    "        continue # 아래 프린트를 출력하기 위해서 건너 뛰어야 하므로 \n",
    "    print(i, end =' ')\n",
    "    i += 1 # 여기서 더하는 증감식은 뭐지?"
   ]
  },
  {
   "cell_type": "code",
   "execution_count": null,
   "metadata": {},
   "outputs": [],
   "source": []
  }
 ],
 "metadata": {
  "kernelspec": {
   "display_name": "Python 3",
   "language": "python",
   "name": "python3"
  },
  "language_info": {
   "codemirror_mode": {
    "name": "ipython",
    "version": 3
   },
   "file_extension": ".py",
   "mimetype": "text/x-python",
   "name": "python",
   "nbconvert_exporter": "python",
   "pygments_lexer": "ipython3",
   "version": "3.8.5"
  }
 },
 "nbformat": 4,
 "nbformat_minor": 4
}
