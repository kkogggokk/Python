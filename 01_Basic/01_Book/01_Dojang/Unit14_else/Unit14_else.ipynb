{
 "cells": [
  {
   "cell_type": "markdown",
   "metadata": {},
   "source": [
    "## 14.1 else사용하기\n",
    "```python\n",
    "if 조건식 :\n",
    "    코드1\n",
    "else : \n",
    "    코드2\n",
    "```"
   ]
  },
  {
   "cell_type": "code",
   "execution_count": 3,
   "metadata": {},
   "outputs": [
    {
     "name": "stdout",
     "output_type": "stream",
     "text": [
      "It's not 10\n"
     ]
    }
   ],
   "source": [
    "x = 5\n",
    "if x == 10 :\n",
    "    print(\"It's 10\")\n",
    "else :\n",
    "    print(\"It's not 10\")"
   ]
  },
  {
   "cell_type": "code",
   "execution_count": 5,
   "metadata": {},
   "outputs": [
    {
     "name": "stdout",
     "output_type": "stream",
     "text": [
      "T\n",
      "F\n",
      "F\n"
     ]
    }
   ],
   "source": [
    "if True :\n",
    "    print('T') #\n",
    "else :\n",
    "    print('F')\n",
    "\n",
    "if False :\n",
    "    print('T')\n",
    "else :\n",
    "    print('F') #\n",
    "\n",
    "if None :\n",
    "    print('T')\n",
    "else :\n",
    "    print('F') #\n"
   ]
  },
  {
   "cell_type": "markdown",
   "metadata": {},
   "source": [
    "### 13.3.1 if조건문에 숫자 지정하기\n",
    "- 숫자는 전수(2진수, 10진수, 16진수), 실수와 관계없이 0이면 거짓, 0 아닌 수는 참"
   ]
  },
  {
   "cell_type": "code",
   "execution_count": 9,
   "metadata": {},
   "outputs": [
    {
     "name": "stdout",
     "output_type": "stream",
     "text": [
      "F\n",
      "T\n",
      "T\n",
      "T\n",
      "T\n"
     ]
    }
   ],
   "source": [
    "if 0 :\n",
    "    print('T')\n",
    "else :\n",
    "    print('F') #\n",
    "if 1:\n",
    "    print('T') #\n",
    "else :\n",
    "    print('F')\n",
    "\n",
    "if 0x1F : \n",
    "    print('T') #\n",
    "else :\n",
    "    print('F') \n",
    "\n",
    "if 0b1000 :\n",
    "    print('T') #\n",
    "else :\n",
    "    print('F')\n",
    "    \n",
    "if 13.5 :\n",
    "    print('T') # \n",
    "else :\n",
    "    print('F')"
   ]
  },
  {
   "cell_type": "markdown",
   "metadata": {},
   "source": [
    "### 14.3.2 if조건문에 문자열 지정하기\n",
    "- 문자열은 내용이 있을 때 참, 빈 문자열은 거짓 "
   ]
  },
  {
   "cell_type": "code",
   "execution_count": 11,
   "metadata": {},
   "outputs": [
    {
     "name": "stdout",
     "output_type": "stream",
     "text": [
      "T\n",
      "F\n"
     ]
    }
   ],
   "source": [
    "if 'Hello' :\n",
    "    print('T') #\n",
    "else :\n",
    "    print('F')\n",
    "if '' :\n",
    "    print('T')\n",
    "else :\n",
    "    print('F') #"
   ]
  },
  {
   "cell_type": "markdown",
   "metadata": {},
   "source": [
    "### <참고> 0, None, 빈 문자열을 not으로 뒤집으면? \n",
    "- not으로 뒤집으면 참(True)이 되므로 if를 동작시킬 수 있다.\n"
   ]
  },
  {
   "cell_type": "code",
   "execution_count": 13,
   "metadata": {},
   "outputs": [
    {
     "name": "stdout",
     "output_type": "stream",
     "text": [
      "T\n",
      "T\n",
      "T\n"
     ]
    }
   ],
   "source": [
    "if not 0 :\n",
    "    print('T')\n",
    "if not None :\n",
    "    print('T')\n",
    "if not '' :\n",
    "    print('T')"
   ]
  },
  {
   "cell_type": "markdown",
   "metadata": {},
   "source": [
    "### <참고> True, False로 취급하는 것들 \n",
    "- False \n",
    "    - None\n",
    "    - False\n",
    "    - 0인 숫자들 : 0, 0.0, 0j \n",
    "    - 비어있는 문자열, 리스트, 튜플, 디셔너리, 세트 : '' \"\" [] () {} set()\n",
    "    - 클래스 인스턴스의 __bool__(), __len__() 메서드가 0 또는 False를 반환할때"
   ]
  },
  {
   "cell_type": "markdown",
   "metadata": {},
   "source": [
    "## 14.4 조건식을 여러개 지정하기 "
   ]
  },
  {
   "cell_type": "code",
   "execution_count": 16,
   "metadata": {},
   "outputs": [
    {
     "name": "stdout",
     "output_type": "stream",
     "text": [
      "T\n"
     ]
    }
   ],
   "source": [
    "x = 10\n",
    "y = 20\n",
    "\n",
    "if x == 10 and y  ==20 :\n",
    "    print('T')\n",
    "else :\n",
    "    print('F')"
   ]
  },
  {
   "cell_type": "code",
   "execution_count": 17,
   "metadata": {},
   "outputs": [],
   "source": [
    "### 14.4.1 중첩 if조건문과 논리연산자"
   ]
  },
  {
   "cell_type": "code",
   "execution_count": 19,
   "metadata": {},
   "outputs": [
    {
     "name": "stdout",
     "output_type": "stream",
     "text": [
      "20보다 작은 양수 입니다.\n"
     ]
    }
   ],
   "source": [
    "if x > 0 :\n",
    "    if x < 20 :\n",
    "        print('20보다 작은 양수 입니다.')"
   ]
  },
  {
   "cell_type": "code",
   "execution_count": 20,
   "metadata": {},
   "outputs": [
    {
     "name": "stdout",
     "output_type": "stream",
     "text": [
      "20보다 작은 양수입니다.\n"
     ]
    }
   ],
   "source": [
    "if x > 0 and x < 20 : \n",
    "    print('20보다 작은 양수입니다.')"
   ]
  },
  {
   "cell_type": "code",
   "execution_count": null,
   "metadata": {},
   "outputs": [],
   "source": [
    "## 14.7"
   ]
  }
 ],
 "metadata": {
  "kernelspec": {
   "display_name": "Python 3",
   "language": "python",
   "name": "python3"
  },
  "language_info": {
   "codemirror_mode": {
    "name": "ipython",
    "version": 3
   },
   "file_extension": ".py",
   "mimetype": "text/x-python",
   "name": "python",
   "nbconvert_exporter": "python",
   "pygments_lexer": "ipython3",
   "version": "3.8.5"
  }
 },
 "nbformat": 4,
 "nbformat_minor": 4
}
