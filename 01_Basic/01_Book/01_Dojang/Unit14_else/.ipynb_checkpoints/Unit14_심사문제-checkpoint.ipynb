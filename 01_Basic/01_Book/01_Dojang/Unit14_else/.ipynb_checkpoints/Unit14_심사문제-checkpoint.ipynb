{
 "cells": [
  {
   "cell_type": "code",
   "execution_count": 38,
   "metadata": {},
   "outputs": [
    {
     "ename": "SyntaxError",
     "evalue": "invalid syntax (<ipython-input-38-ad46ed22bd67>, line 14)",
     "output_type": "error",
     "traceback": [
      "\u001b[0;36m  File \u001b[0;32m\"<ipython-input-38-ad46ed22bd67>\"\u001b[0;36m, line \u001b[0;32m14\u001b[0m\n\u001b[0;31m    if kor in range(0,101) an|d eng in range(0,101) and math in range(0,101) and sci in range(0,101) :\u001b[0m\n\u001b[0m                           ^\u001b[0m\n\u001b[0;31mSyntaxError\u001b[0m\u001b[0;31m:\u001b[0m invalid syntax\n"
     ]
    }
   ],
   "source": [
    "'''\n",
    "표준 입력으로 국어, 영어, 수학, 과학 점수가 입력됩니다. \n",
    "여기서 네 과목의 평균 점수가 80점 이상일 때 합격이라고 정했습니다. \n",
    "평균 점수에 따라 '합격', '불합격'을 출력하는 프로그램을 만드세요(input에서 안내 문자열은 출력하지 않아야 합니다). \n",
    "단, 점수는 0점부터 100점까지만 입력받을 수 있으며 범위를 벗어났다면 '잘못된 점수'를 출력하고 \n",
    "합격, 불합격 여부는 출력하지 않아야 합니다.\n",
    "'''\n",
    "\n",
    "\n",
    "kor, eng, math, sci = map(int,input().split())\n",
    "total = kor + eng + math + sci \n",
    "avg = total/4\n",
    "\n",
    "if kor in range(0,101) an|d eng in range(0,101) and math in range(0,101) and sci in range(0,101) : \n",
    "    if avg >= 80 : \n",
    "        print('합격')\n",
    "    else :\n",
    "        print('불합격')\n",
    "else :\n",
    "    print(\"잘못된 점수\")"
   ]
  },
  {
   "cell_type": "code",
   "execution_count": 24,
   "metadata": {},
   "outputs": [
    {
     "data": {
      "text/plain": [
       "1000"
      ]
     },
     "execution_count": 24,
     "metadata": {},
     "output_type": "execute_result"
    }
   ],
   "source": [
    "total"
   ]
  },
  {
   "cell_type": "markdown",
   "metadata": {},
   "source": []
  },
  {
   "cell_type": "code",
   "execution_count": null,
   "metadata": {},
   "outputs": [],
   "source": []
  }
 ],
 "metadata": {
  "kernelspec": {
   "display_name": "Python 3",
   "language": "python",
   "name": "python3"
  },
  "language_info": {
   "codemirror_mode": {
    "name": "ipython",
    "version": 3
   },
   "file_extension": ".py",
   "mimetype": "text/x-python",
   "name": "python",
   "nbconvert_exporter": "python",
   "pygments_lexer": "ipython3",
   "version": "3.8.5"
  }
 },
 "nbformat": 4,
 "nbformat_minor": 4
}
