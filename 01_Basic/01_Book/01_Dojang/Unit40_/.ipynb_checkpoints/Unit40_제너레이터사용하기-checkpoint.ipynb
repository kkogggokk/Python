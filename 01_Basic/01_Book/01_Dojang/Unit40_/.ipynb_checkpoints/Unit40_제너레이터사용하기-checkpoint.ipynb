{
 "cells": [
  {
   "cell_type": "markdown",
   "metadata": {},
   "source": [
    "# 40. 제너레이터 사용\n",
    "- 제너레이터(발생자) : 이터레이터를 생성해주는 함수 \n",
    "- 이터레이터는 클래스에 \\_\\_iter\\_\\_, \\_\\_next__ ,\\_\\_getitem__ 등 메서드를 구현해야 하지만\n",
    "- 제너레이터는 함수안에서 yield라는 키워드만 사용하면 끝"
   ]
  },
  {
   "cell_type": "markdown",
   "metadata": {},
   "source": [
    "## 40.1 yield\n",
    "- 함수 안에서 yield 를 사용하면 함수는 제너레이터가 되면 yield에는 값(변수)을 지정한다.\n",
    "- yield 값"
   ]
  },
  {
   "cell_type": "code",
   "execution_count": null,
   "metadata": {},
   "outputs": [],
   "source": [
    "# yield를 사용해 제너레이터를 만들고 for반복문에서 0, 1, 2 숫자 세개를 출력 \n",
    "def number_generator() :\n",
    "    yield 0\n",
    "    yield 1\n",
    "    yield 2\n",
    "    \n",
    "for i in number_generator() :\n",
    "    print(i)  # yield에 지정했던 값이 나온다"
   ]
  },
  {
   "cell_type": "markdown",
   "metadata": {},
   "source": [
    "###  40.1.1 제너레이터 객체가 이터레이터인지 확인\n",
    "- dir함수로 메서드 목록을 확인한다"
   ]
  },
  {
   "cell_type": "code",
   "execution_count": null,
   "metadata": {},
   "outputs": [],
   "source": [
    "g = number_generator()\n",
    "print(g)  # generator object 가 반환한다. \n",
    "print(dir(g)) # 이터레이터에서 볼수 있는 __iter__, __next__  메서드가 들어있다."
   ]
  },
  {
   "cell_type": "code",
   "execution_count": null,
   "metadata": {},
   "outputs": [],
   "source": [
    "# 실제 __next__를 호출해보면 숫자 0, 1, 2 나오며 StopTeration 예외가 발생한다. \n",
    "g.__next__()"
   ]
  },
  {
   "cell_type": "markdown",
   "metadata": {},
   "source": [
    "- 함수에 yield만 사용해서 간단하게 이터레이터를 구현할 수 있다.\n",
    "- 단, 이터레이터는 \\_\\_next__메서드 안에서 직접 return으로 값을 반환했지만\n",
    "- 제너레이터는 yield에 지장한 값이 \\_\\_next__메서드(next 함수)의 반환값으로 나온다.         \n",
    "\n",
    "|이터레이터|제너레이터|\n",
    "|--|--|\n",
    "|\\_\\_iter__, \\_\\_next__ <br>\\_\\_next__메서드 안에서 직접 return으로 값을 반환<br>raise로 StopIteration예외를 직접 발생|함수에 yield만 사용해서 간단하게 구현<br>제너레이터는 yield에 지정한 값이 \\_\\_next__메서드의 반환값<br>함수의 끝까지 도달하면 StopIteration예외가 자동 발생|"
   ]
  },
  {
   "cell_type": "markdown",
   "metadata": {},
   "source": [
    "### 40.1.2 for와 제너레이터\n",
    "- for 반복문은 반복할 때 마다 \\_\\_next__를 호출하므로 yield에서 발생시킨 값을 가져온다.\n",
    "- 그리고 StopIteration예외가 발생하면 반복을 끝낸다.\n",
    "![for반복문과 제너레이터](https://dojang.io/pluginfile.php/13960/mod_page/content/4/040001.png)\n",
    "- 제너레이터 객체에서 \\_\\_iter\\_\\_를 호출하면 self를 반환하므로 같은 객체가 나온다\n",
    "- 제너레이터 함수 호출 → 제너레이터 객체 → \\_\\_iter__는 self 반환 → 제너레이터 객체\n",
    "- yield : 생산하다, 양보하다 뜻을 가짐 \n",
    "    - 즉, yield를 사용하면 값을 함수 바깥으로 전달하면서 코드 실행을 함수 바깥으로 양보한다. \n",
    "    - 따라서 yield는 현재 함수를 잠시 중단하고 함수 바깥의 코드가 실행되도록 만든다."
   ]
  },
  {
   "cell_type": "markdown",
   "metadata": {},
   "source": [
    "### 40.1.3 yield 동작과정 \n",
    "- yield  동작 과정을 알아보기 위해 for 반복문 대신 next함수로 \\_\\_next__메서드를 직접 호출 \n"
   ]
  },
  {
   "cell_type": "code",
   "execution_count": null,
   "metadata": {},
   "outputs": [],
   "source": [
    "def number_generator() :\n",
    "    yield 0 # 0을 함수 바깥으로 전달하면서 코드 실행을 함수 바깥에 양보 \n",
    "    yield 1 # 1을 함수 바깥으로 전달하면서 코드 실행을 함수 바깥에 양보 \n",
    "    yield 2 # 2을 함수 바깥으로 전달하면서 코드 실행을 함수 바깥에 양보 \n",
    "    \n",
    "g = number_generator()\n",
    "\n",
    "a = next(g) # yield를 사용하여 함수 바깥으로 전달한 값은 next의 반한값으로 나옴\n",
    "print(a) # 0\n",
    "\n",
    "b = next(g)\n",
    "print(b) # 1\n",
    "\n",
    "c = next(g)\n",
    "print(c) # 2 "
   ]
  },
  {
   "cell_type": "markdown",
   "metadata": {},
   "source": [
    "- 제너레이터는 함수를 끝내지 않은 상태에서 yield를 사용하여 값을 바깥으로 전달할 수 있다.\n",
    "- return은 반환 즉시 함수가 끝나지만 yield는 잠시 함수 바깥의 코드가 실행되도록 양보하여 값을 가져가게 한 뒤 다시 제너레이터 안의 코드를 계속 실행하는 방식 \n",
    "- (1) g = number_generator() 제너레이터 객체를 만들다\n",
    "- (2) next(g)를 호출하면 제네러에티 안의 yield 0이 실행되어 전달한 뒤 바깥의 코드가 실행되도록 양보\n",
    "- (3) 함수 바깥에서는 print(a)로 next(g)에서 반환된 값을 출력\n",
    "![yield()실행 양보](https://dojang.io/pluginfile.php/13960/mod_page/content/4/040002.png)\n",
    "\n"
   ]
  },
  {
   "cell_type": "markdown",
   "metadata": {},
   "source": [
    "> <B>참고 > 제너레이터와 return </B>\n",
    "> - 제너레이터는 함수 끝까지 도달하면 StopIteration예외 발생\n",
    "> - 마찬가지로 return도 함수를 끝내므로 return을 사용해서 함수 중간에 빠져 나오면 stopIteration예외 발생\n",
    "> -  제너레이터 안에서 return에 반환값을 지정하면 StopTeration예외의 에러메시지로 들어간다."
   ]
  },
  {
   "cell_type": "code",
   "execution_count": null,
   "metadata": {},
   "outputs": [],
   "source": [
    "def one_generator() :\n",
    "    yield 1\n",
    "    return '리턴에 지정한 값'\n",
    "\n",
    "try :\n",
    "    g = one_generator()\n",
    "    next(g)\n",
    "    next(g)\n",
    "    \n",
    "except StopIteration as e :\n",
    "    print(e)\n"
   ]
  },
  {
   "cell_type": "markdown",
   "metadata": {},
   "source": [
    "## 40.2 제너레이터 만들기\n",
    "- range(횟수) 처럼 동작하는 제너레이터 만들기\n",
    "- 제너레이터 안에 변수n을 만들고 while n < stop 반복을 끝낼 숫자보다 작을 때 반복하도록 만듦\n",
    "- 반복문 안에 yield n으로 숫자를 바깥으로 전달 한 뒤 n을 증가시키기"
   ]
  },
  {
   "cell_type": "code",
   "execution_count": null,
   "metadata": {},
   "outputs": [],
   "source": [
    "# range(횟수) 처럼 동작하는 제너레이터 만들기 \n",
    "\n",
    "def number_generator(stop) :\n",
    "    n = 0 \n",
    "    while n < stop :\n",
    "        yield n \n",
    "        n += 1\n",
    "        \n",
    "for i in number_generator(3) :\n",
    "    print(i)"
   ]
  },
  {
   "cell_type": "markdown",
   "metadata": {},
   "source": [
    "### 40.2.1 yield에서 함수 호출\n",
    "- yield에서 함수(메서드)를 호출하면 어떨게 되나?\n",
    "- 리스트에 들어 있는 문자열을 대문자로 변환하여 함수 바깥으로 전달하기\n",
    "- yield에서 upper()함수를 호출하면 해당 함수의 반환값을 바깥으로 전달한다. \n",
    "- 즉, yield에 무엇을 지정하든 결과만 바깥으로 전달한다. "
   ]
  },
  {
   "cell_type": "code",
   "execution_count": null,
   "metadata": {},
   "outputs": [],
   "source": [
    "# 리스트에 들어 있는 문자열을 대문자로 변환하여 함수 바깥으로 전달\n",
    "def upper_generator(x) :\n",
    "    for i in x :\n",
    "        yield i.upper()\n",
    "        \n",
    "fruits = ['apple', 'pear', 'grape', 'pineapple', 'orange']\n",
    "for i in upper_generator(fruits) :\n",
    "    print(i)"
   ]
  },
  {
   "cell_type": "markdown",
   "metadata": {},
   "source": [
    "## 40.3 yield from\n",
    "- 지금까지 yield로 값을 한번씩 바깥으로 전달했다.\n",
    "- 값을 여러번 바깥으로 전달할 때는 for , while 반복문으로 사용했다.\n",
    "- 매번 반복문을 사용하지 않고 yield from을 사용하면 된다.\n",
    "    - yield from 반복가능한객체\n",
    "    - yield from 이터레이터\n",
    "    - yield from 제너레이터객체"
   ]
  },
  {
   "cell_type": "code",
   "execution_count": null,
   "metadata": {},
   "outputs": [],
   "source": [
    "# yield from에 리스트를 지정해서 숫자 1, 2, 3을 바깥으로 전달\n",
    "def number_generator() :\n",
    "    x = [1, 2, 3]\n",
    "    yield from x \n",
    "    \n",
    "for i in number_generator() :\n",
    "    print(i)"
   ]
  },
  {
   "cell_type": "markdown",
   "metadata": {},
   "source": [
    "### 40.3.1 yield from 제너레이터 객체 지정\n",
    "- yield from에 제너레이터 객체를 지정해보기           \n",
    "(1) 제너레이터 number_generator는 매개변수로 받은 숫자 직전까지 숫자를 만들어 낸다.                          \n",
    "(2) three_generator에서는 yield from number_generator(3)과 같이 yield from에 제너레이터 객체를 지정한다.      \n",
    "(3) number_generator(3)은 숫자를 세개 만들어 내므로 yield from number_generator(3)은 숫자를 세번 바깥으로 전달한다.            \n",
    "(4) for 반복문에 three_generator()를 사용하면 숫자를 세번 출력한다.         "
   ]
  },
  {
   "cell_type": "code",
   "execution_count": null,
   "metadata": {},
   "outputs": [],
   "source": [
    "def number_generator(stop) :\n",
    "    n = 0\n",
    "    while n < stop :\n",
    "        yield n \n",
    "        n += 1 \n",
    "        \n",
    "def three_generator() :\n",
    "    yield from number_generator(3) # 숫자를 세번 바깥으로 전달 \n",
    "    \n",
    "for i in three_generator() :\n",
    "    print(i)"
   ]
  },
  {
   "cell_type": "markdown",
   "metadata": {},
   "source": [
    "제너레이터와 yield사용방법에 대해 알아보았다.         \n",
    "이부분은 파이썬에서도 고급 기능에 해당하니 쉽지 않다.           \n",
    "프로그래밍 하다보면 자연스럽게 익숙해진다.            "
   ]
  },
  {
   "cell_type": "markdown",
   "metadata": {},
   "source": [
    "> <b>참고 > 제너레이터 표현식 </b>\n",
    "> - ()괄호로 묶으면 제너레이터 표현식이 된다. \n",
    "> - (식 for 변수 in 반복가능한객체) "
   ]
  },
  {
   "cell_type": "code",
   "execution_count": null,
   "metadata": {},
   "outputs": [],
   "source": [
    "(i for i in range(50) if i % 2 == 0)"
   ]
  },
  {
   "cell_type": "markdown",
   "metadata": {},
   "source": [
    "## 40.5 연습문제 파일 읽기 제너레이터 만들기\n",
    "- word.txt 파일을 한줄 씩 읽은 뒤 내용을 함수 바깥에 전달하는 제너레이터를 작성하세요.\n",
    "- 파일의 내용을 출력할 때 파일에서 읽은 \\n은 출력되지 않아야 합니다. \n",
    "- (단어 사이에 줄바꿈이 두번 일어나면 안됨) "
   ]
  },
  {
   "cell_type": "code",
   "execution_count": null,
   "metadata": {},
   "outputs": [],
   "source": [
    "def file_read() :\n",
    "    with open('words.txt') as file :\n",
    "        while True : \n",
    "            line = file.readline()\n",
    "            if line == '' : \n",
    "                break\n",
    "            yield line.strip('\\n')\n",
    "    \n",
    "for i in file_read() :\n",
    "    print(i)"
   ]
  },
  {
   "cell_type": "markdown",
   "metadata": {},
   "source": [
    "## 40.6 심사문제 : 소수 제너레이터 만들기 \n",
    "- 표준입력으로 정수 두개가 입력\n",
    "- 첫번째 정수부터 두번째 정수 사이의 소수(prime number)를 생성하는 제너레이터를 만드세요.\n",
    "- 소수는 1과 자기 자신만으로 나누어떨어지는 1보다 큰 양의 정수 "
   ]
  },
  {
   "cell_type": "code",
   "execution_count": null,
   "metadata": {},
   "outputs": [],
   "source": [
    "def prime_number_generator(start, stop) :\n",
    "    for n in range(start,stop) :\n",
    "        # 소수를 구하기 \n",
    "        is_prime = True # 소수 이면 True, 아니면 False\n",
    "        for i in range(2,n-1) : \n",
    "            if n % i == 0 : \n",
    "                is_prime = False # 나눠지니 소수가 아님 \n",
    "        if is_prime == True :\n",
    "            yield n\n",
    "\n",
    "start, stop = map(int, input().split())\n",
    "\n",
    "g = prime_number_generator(start, stop) \n",
    "print(type(g))\n",
    "\n",
    "for i in g :\n",
    "    print(i, end = ' ')"
   ]
  },
  {
   "cell_type": "code",
   "execution_count": null,
   "metadata": {},
   "outputs": [],
   "source": []
  },
  {
   "cell_type": "code",
   "execution_count": null,
   "metadata": {},
   "outputs": [],
   "source": []
  },
  {
   "cell_type": "code",
   "execution_count": null,
   "metadata": {},
   "outputs": [],
   "source": []
  }
 ],
 "metadata": {
  "kernelspec": {
   "display_name": "Python 3",
   "language": "python",
   "name": "python3"
  },
  "language_info": {
   "codemirror_mode": {
    "name": "ipython",
    "version": 3
   },
   "file_extension": ".py",
   "mimetype": "text/x-python",
   "name": "python",
   "nbconvert_exporter": "python",
   "pygments_lexer": "ipython3",
   "version": "3.8.5"
  }
 },
 "nbformat": 4,
 "nbformat_minor": 4
}
