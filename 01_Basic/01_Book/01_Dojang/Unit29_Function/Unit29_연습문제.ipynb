{
 "cells": [
  {
   "cell_type": "code",
   "execution_count": 1,
   "metadata": {},
   "outputs": [
    {
     "name": "stdout",
     "output_type": "stream",
     "text": [
      "몫 : 3, 나머지 : 1\n"
     ]
    }
   ],
   "source": [
    "# 다음 소스코드를 완성하여 x를 y로 나누었을 때의 몫과 나머지가 출력되게 만드세요.\n",
    "\n",
    "x = 10\n",
    "y = 3\n",
    "\n",
    "def get_quotient_remainder(x,y) :\n",
    "    return x//y, x%y \n",
    "\n",
    "quotient, remainder = get_quotient_remainder(x, y) \n",
    "print('몫 : {0}, 나머지 : {1}'.format(quotient, remainder))"
   ]
  },
  {
   "cell_type": "code",
   "execution_count": null,
   "metadata": {},
   "outputs": [],
   "source": []
  }
 ],
 "metadata": {
  "kernelspec": {
   "display_name": "Python 3",
   "language": "python",
   "name": "python3"
  },
  "language_info": {
   "codemirror_mode": {
    "name": "ipython",
    "version": 3
   },
   "file_extension": ".py",
   "mimetype": "text/x-python",
   "name": "python",
   "nbconvert_exporter": "python",
   "pygments_lexer": "ipython3",
   "version": "3.8.5"
  }
 },
 "nbformat": 4,
 "nbformat_minor": 4
}
