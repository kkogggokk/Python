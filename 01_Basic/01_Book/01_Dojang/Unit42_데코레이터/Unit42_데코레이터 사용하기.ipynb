{
 "cells": [
  {
   "cell_type": "markdown",
   "metadata": {},
   "source": [
    "# 42. 데코레이터\n",
    "- 데코레이터 : 장식하다, 꾸미다 \n",
    "- 클래스에서 메서드를 만들때 @staticmethod, @classmethod, @abstractmethod \n",
    "- 이때, '@' 로 시작하는 것이 데코레이터\n",
    "- 즉, 함수(메서드)를 장식한다고 해서 붙여진 이름\n",
    "- 데코레이터는 기존 함수를 수정하지 않으면서 추가 기능을 구현할 때 사용"
   ]
  },
  {
   "cell_type": "markdown",
   "metadata": {},
   "source": [
    "## 42.1 데코레이터 만들기 "
   ]
  },
  {
   "cell_type": "code",
   "execution_count": null,
   "metadata": {},
   "outputs": [],
   "source": [
    "# 예) 함수의 시작과 끝을 출력 \n",
    "def hello() :\n",
    "    print('hello start')\n",
    "    print('hello')\n",
    "    print('hello end')\n",
    "    \n",
    "def world() :\n",
    "    print('world start')\n",
    "    print('world')\n",
    "    print('world end')"
   ]
  },
  {
   "cell_type": "markdown",
   "metadata": {},
   "source": [
    "- 다른 함수도 시작과 끝을 출력하고 싶다면 함수를 만들때 마다 print를 넣어야 하므로 번거로움 \n",
    "- 이런경우 데코레이터를 활용하면 편리함. "
   ]
  },
  {
   "cell_type": "code",
   "execution_count": null,
   "metadata": {},
   "outputs": [],
   "source": [
    "# 함수의 시작과 끝을 출력하는 데코레이터 \n",
    "def trace(func):                            # 호출할 함수를 매개변수로 받음\n",
    "    def wrapper():                          # 호출할 함수를 감싸는 함수\n",
    "        print(func.__name__, '함수 시작')    # __name__으로 함수 이름 출력\n",
    "        func()                              # 매개변수로 받은 함수를 호출\n",
    "        print(func.__name__, '함수 끝')     # 함수의 끝을 알리는 문자열 출력\n",
    "    return wrapper                         # wrapper 함수 반환\n",
    " \n",
    "def hello():\n",
    "    print('hello')\n",
    " \n",
    "def world():\n",
    "    print('world')\n",
    " \n",
    "trace_hello = trace(hello)    # 데코레이터에 호출할 함수를 넣음\n",
    "trace_hello()                 # 반환된 함수를 호출\n",
    "trace_world = trace(world)    # 데코레이터에 호출할 함수를 넣음\n",
    "trace_world()                 # 반환된 함수를 호출"
   ]
  },
  {
   "cell_type": "markdown",
   "metadata": {},
   "source": [
    "- 데코레이터 trace는 호출할 함수를 매개변수로 받는다.               \n",
    "- wrapper함수에서는               \n",
    "- 함수의 시작을 알리는 문자열을 출력하고, 호출 시 매개변수로 받은 함수의 원래 이름을 출력할 때는 \\_\\_name__속성을 활용한다.               \n",
    "- trace에서 매개변수로 받은 func를 호출한다.               \n",
    "- 그 다음에 함수의 끝을 알리는 문자열을 출력한다.            \n",
    "- wrapper함수를 다 만들었으며 return을 사용하여 wrapper함수 자체를 반환한다.     \n",
    "- 즉, 함수안에서 함수를 만들고 반환하는 클로저이다. "
   ]
  },
  {
   "cell_type": "markdown",
   "metadata": {},
   "source": [
    "### 42.1.1 @ 데코레이터 사용하기\n",
    "- '@'을 사용하여 좀 더 간편하게 데코레이터 사용하기\n",
    "- 다음과 같이 호출할 함수 위에 @데코레이터 형식으로 지정"
   ]
  },
  {
   "cell_type": "code",
   "execution_count": null,
   "metadata": {},
   "outputs": [],
   "source": [
    "def trace(func):                             # 호출할 함수를 매개변수로 받음\n",
    "    def wrapper():\n",
    "        print(func.__name__, '함수 시작')    # __name__으로 함수 이름 출력\n",
    "        func()                               # 매개변수로 받은 함수를 호출\n",
    "        print(func.__name__, '함수 끝')\n",
    "    return wrapper                           # wrapper 함수 반환\n",
    " \n",
    "@trace    # @데코레이터\n",
    "def hello():\n",
    "    print('hello')\n",
    " \n",
    "@trace    # @데코레이터\n",
    "def world():\n",
    "    print('world')\n",
    " \n",
    "hello()    # 함수를 그대로 호출\n",
    "world()    # 함수를 그대로 호출"
   ]
  },
  {
   "cell_type": "markdown",
   "metadata": {},
   "source": [
    "![데코레이터](https://dojang.io/pluginfile.php/14011/mod_page/content/3/042001.png)"
   ]
  },
  {
   "cell_type": "markdown",
   "metadata": {},
   "source": [
    "> <B>참고 > 데코레이터를 여러개 지정하기</b>\n",
    "> - 함수 위에 데코레이터를 여러줄로 지정하여 여러개 지정할 수 있다. \n",
    "> - 데코레이터가 실행되는 순서는 위에서 아래 순이다. "
   ]
  },
  {
   "cell_type": "code",
   "execution_count": null,
   "metadata": {},
   "outputs": [],
   "source": [
    "def decorator1(func) :\n",
    "    def wrapper() :\n",
    "        print('decorator1')\n",
    "        func()\n",
    "    return wrapper\n",
    "    \n",
    "def decorator2(func) :\n",
    "    def wrapper() :\n",
    "        print('decorator2')\n",
    "        func()\n",
    "    return wrapper\n",
    "\n",
    "# 데코레이터 여러개 지정\n",
    "@decorator1\n",
    "@decorator2\n",
    "def hello() :\n",
    "    print('hello')\n",
    "\n",
    "    \n",
    "hello()"
   ]
  },
  {
   "cell_type": "markdown",
   "metadata": {},
   "source": [
    "## 42.2 매개변수와 반환값을 처리하는 데코레이터 만들기\n",
    "- 지금까지 매개변수와 반환값이 없는 함수의 데코레이터를 만들어 보았다.\n",
    "- 이번에는 매개변수와 반환값을 처리하는 데코레이터는 어떻게 만드는지 알아보자."
   ]
  },
  {
   "cell_type": "code",
   "execution_count": null,
   "metadata": {},
   "outputs": [],
   "source": [
    "def trace(func):          # 호출할 함수를 매개변수로 받음\n",
    "    def wrapper(a, b):    # 호출할 함수 add(a, b)의 매개변수와 똑같이 지정\n",
    "        r = func(a, b)    # func에 매개변수 a, b를 넣어서 호출하고 반환값을 변수에 저장\n",
    "        print('{0}(a : {1}, b : {2}) = {3}'.format(func.__name__, a, b, r))  # 매개변수와 반환값 출력\n",
    "        return r          # func의 반환값을 반환\n",
    "    return wrapper        # wrapper 함수 반환\n",
    " \n",
    "@trace              # @데코레이터\n",
    "def add(a, b):      # 매개변수는 두 개\n",
    "    return a + b    # 매개변수 두 개를 더해서 반환\n",
    " \n",
    "print(add(10, 20))"
   ]
  },
  {
   "cell_type": "markdown",
   "metadata": {},
   "source": [
    "### 42.2.1 가변인수 함수 데코레이터\n",
    "- def add(a, b) 는 매개변수의 개수가 고정된 함수이다.\n",
    "- 그러면 매개변수(인수)가 고정되지 않는 함수는 어떻게 처리할까?"
   ]
  },
  {
   "cell_type": "code",
   "execution_count": null,
   "metadata": {},
   "outputs": [],
   "source": [
    "def trace(func):                     # 호출할 함수를 매개변수로 받음\n",
    "    def wrapper(*args, **kwargs):    # 가변 인수 함수로 만듦\n",
    "        r = func(*args, **kwargs)    # func에 args, kwargs를 언패킹하여 넣어줌 : args는 튜플, kwargs는 딕셔너리\n",
    "        print('{0}(args : {1}, kwargs : {2}) -> {3}'.format(func.__name__, args, kwargs, r))\n",
    "                                     # 매개변수와 반환값 출력\n",
    "        return r                     # func의 반환값을 반환 \n",
    "    return wrapper                   # wrapper 함수 반환\n",
    " \n",
    "@trace                   # @데코레이터\n",
    "def get_max(*args):      # 위치 인수를 사용하는 가변 인수 함수\n",
    "    return max(args)\n",
    " \n",
    "@trace                   # @데코레이터\n",
    "def get_min(**kwargs):   # 키워드 인수를 사용하는 가변 인수 함수\n",
    "    return min(kwargs.values())\n",
    " \n",
    "print(get_max(10, 20))\n",
    "print(get_min(x=10, y=20, z=30))\\"
   ]
  },
  {
   "cell_type": "markdown",
   "metadata": {},
   "source": [
    "> <b>참고 > 메서드에 데코레이터 사용하기</b>\n",
    "> - 클래스를 만들면서 메서드에 데코레이터를 사용할 때는 self를 주의해야 한다.\n",
    "> - 인스턴스 메서드는 항상 self를 받으므로 데코레이터를 만들때좆 wrapper함수의 첫번째 매개변수는 self로 지정\n",
    "> - 클래스 메서드는 cls로 지정 \n",
    "> - 마찬가지로 func를 호출 할때도 self와 매개변수를 그대로 넣어야 한다."
   ]
  },
  {
   "cell_type": "code",
   "execution_count": null,
   "metadata": {},
   "outputs": [],
   "source": [
    "def trace(func):\n",
    "    def wrapper(self, a, b):   # 호출할 함수가 인스턴스 메서드이므로 첫 번째 매개변수는 self로 지정\n",
    "        r = func(self, a, b)   # self와 매개변수를 그대로 넣어줌\n",
    "        print('{0}(a={1}, b={2}) -> {3}'.format(func.__name__, a, b, r))   # 매개변수와 반환값 출력\n",
    "        return r               # func의 반환값을 반환\n",
    "    return wrapper\n",
    " \n",
    "class Calc:\n",
    "    @trace\n",
    "    def add(self, a, b):    # add는 인스턴스 메서드\n",
    "        return a + b\n",
    " \n",
    "c = Calc()\n",
    "print(c.add(10, 20))"
   ]
  },
  {
   "cell_type": "markdown",
   "metadata": {},
   "source": [
    "## 42.3 매개변수가 있는 데코레이터 만들기\n",
    "- 이번에는 매개변수가 있는 데코레이터를 만들어보자. \n",
    "- 데코레이터는 값을 지정해 동작을 바꿀 수 있다. "
   ]
  },
  {
   "cell_type": "code",
   "execution_count": null,
   "metadata": {},
   "outputs": [],
   "source": [
    "# 함수의 반환값이 특정 수의 배수인지 확인하는 데코레이터 \n",
    "def is_multiple(x):              # 데코레이터가 사용할 매개변수를 지정\n",
    "    def real_decorator(func):    # 호출할 함수를 매개변수로 받음\n",
    "        def wrapper(a, b):       # 호출할 함수의 매개변수와 똑같이 지정\n",
    "            r = func(a, b)       # func를 호출하고 반환값을 변수에 저장\n",
    "            if r % x == 0:       # func의 반환값이 x의 배수인지 확인\n",
    "                print('{0}의 반환값은 {1}의 배수입니다.'.format(func.__name__, x))\n",
    "            else:\n",
    "                print('{0}의 반환값은 {1}의 배수가 아닙니다.'.format(func.__name__, x))\n",
    "            return r             # func의 반환값을 반환 \n",
    "        return wrapper           # wrapper 함수 반환\n",
    "    return real_decorator        # real_decorator 함수 반환\n",
    " \n",
    "@is_multiple(3)     # @데코레이터(인수)\n",
    "def add(a, b):\n",
    "    return a + b\n",
    " \n",
    "print(add(10, 20))\n",
    "print(add(2, 5))"
   ]
  },
  {
   "cell_type": "markdown",
   "metadata": {},
   "source": [
    "> <b>참고 > 원래 함수 이름이 안나온다면?</b>\n",
    "> - 함수의 원래 이름을 출력하고 싶다면 functools 모듈의  wraps 데코레이터를 사용해야 한다.\n",
    "> - @functools.wraps에 func를 넣은 뒤 wrapper 함수 위에 지정해준다. \n",
    "> - @functools.wraps 는 원래 함수의 정보를 유지시켜준다. \n",
    "> - 따라서 디버깅할 때 유용하므로 데코레이터를 만들때 @functools.wraps를 사용하는 것이 좋다."
   ]
  },
  {
   "cell_type": "code",
   "execution_count": null,
   "metadata": {},
   "outputs": [],
   "source": [
    "import functools\n",
    " \n",
    "def is_multiple(x):\n",
    "    def real_decorator(func):\n",
    "        @functools.wraps(func)    # @functools.wraps에 func를 넣은 뒤 wrapper 함수 위에 지정\n",
    "        def wrapper(a, b):\n",
    "            r = func(a, b)\n",
    "            if r % x == 0:\n",
    "                print('{0}의 반환값은 {1}의 배수입니다.'.format(func.__name__, x))\n",
    "            else:\n",
    "                print('{0}의 반환값은 {1}의 배수가 아닙니다.'.format(func.__name__, x))\n",
    "            return r\n",
    "        return wrapper\n",
    "    return real_decorator\n",
    " \n",
    "@is_multiple(3)\n",
    "@is_multiple(7)\n",
    "def add(a, b):\n",
    "    return a + b\n",
    " \n",
    "add(10, 20)"
   ]
  },
  {
   "cell_type": "markdown",
   "metadata": {},
   "source": [
    "## 42.4 클래스로 데코레이터 만들기\n",
    "- 이번에는 클래스로 데코레이터를 만드는 방법에 대해 알아보자\n",
    "- 클래스를 활용할 때는 인스턴스를 함수처럼 호출하게 해주는 \\_\\_call__메서드를 구현해야 한다."
   ]
  },
  {
   "cell_type": "code",
   "execution_count": null,
   "metadata": {},
   "outputs": [],
   "source": [
    "# 함수의 시작과 끝을 출력하는 데코레이터 \n",
    "class Trace:\n",
    "    def __init__(self, func):    # 호출할 함수를 인스턴스의 초깃값으로 받음\n",
    "        self.func = func         # 호출할 함수를 속성 func에 저장\n",
    " \n",
    "    def __call__(self):\n",
    "        print(self.func.__name__, '함수 시작')    # __name__으로 함수 이름 출력\n",
    "        self.func()                               # 속성 func에 저장된 함수를 호출\n",
    "        print(self.func.__name__, '함수 끝')\n",
    " \n",
    "@Trace    # @데코레이터\n",
    "def hello():\n",
    "    print('hello')\n",
    " \n",
    "hello()    # 함수를 그대로 호출"
   ]
  },
  {
   "cell_type": "markdown",
   "metadata": {},
   "source": [
    "- 데코레이터를 만들 때는 먼저 \\_\\_init__ 메서드를 만들고 호출할 함수를 초깃값으로 받는다.\n",
    "- 그리고 매개변수로 받은 함수를 속성으로 저장한다.\n",
    "- 인스턴스를 호출할 수 있도록 \\_\\_call__메서드를 만든다.\n",
    "-  \\_\\_call메서드에 함수의 시작을 알리는 문자열을 출력하고, 속성 func에 저장된 함수를 호출한다. 그리고 끝을 알리는 문자열을 출력한다.\n",
    "- 데코레이터를 사용하는 방법은 클로저 형태의 데코레이터와 같다.\n",
    "- 호출할 함수위에 @를 붙이고 데코레이터를 지정하면 된다. "
   ]
  },
  {
   "cell_type": "markdown",
   "metadata": {},
   "source": [
    "- 참고로 클래스로 만든 데코레이터는 @을 지정하지 않고, 데코레이터의 반환값을 호출하는 방식으로도 사용 가능\n",
    "- 데코레이터레 호출할 함수를 넣어서 인스턴스를 생성한 뒤 인스턴스를 호출해 준다.\n",
    "- 즉, 클래스에 \\_\\_call__ 메서드를 정의했으므로 함수처럼 괄호()를 붙여서 호출할 수 있다."
   ]
  },
  {
   "cell_type": "code",
   "execution_count": null,
   "metadata": {},
   "outputs": [],
   "source": [
    "# @데코레이터를 지정하지 않음\n",
    "def hello():    \n",
    "    print('hello')\n",
    " \n",
    "trace_hello = Trace(hello)    # 데코레이터에 호출할 함수를 넣어서 인스턴스 생성\n",
    "trace_hello()                 # 인스턴스를 호출. __call__ 메서드가 호출됨"
   ]
  },
  {
   "cell_type": "markdown",
   "metadata": {},
   "source": [
    "## 42.5 클래스로 매개변수와 반환값을 처리하는 데코레이터 만들기\n",
    "- 클래스로 만든 데코레이터도 매개변수와 반환값을 처리 할 수 있다."
   ]
  },
  {
   "cell_type": "code",
   "execution_count": null,
   "metadata": {},
   "outputs": [],
   "source": [
    "class Trace:\n",
    "    def __init__(self, func):    # 호출할 함수를 인스턴스의 초깃값으로 받음\n",
    "        self.func = func         # 호출할 함수를 속성 func에 저장\n",
    " \n",
    "    def __call__(self, *args, **kwargs):    # 호출할 함수의 매개변수를 처리\n",
    "        r = self.func(*args, **kwargs) # self.func에 매개변수를 넣어서 호출하고 반환값을 변수에 저장\n",
    "        print('{0}(args={1}, kwargs={2}) -> {3}'.format(self.func.__name__, args, kwargs, r))\n",
    "                                            # 매개변수와 반환값 출력\n",
    "        return r                            # self.func의 반환값을 반환\n",
    " \n",
    "@Trace    # @데코레이터\n",
    "def add(a, b):\n",
    "    return a + b\n",
    " \n",
    "print(add(10, 20))\n",
    "print(add(a=10, b=20))"
   ]
  },
  {
   "cell_type": "markdown",
   "metadata": {},
   "source": [
    "- 클래스로 매개변수와 반환값을 처리하는 데코레이터를 만들때는 \\_\\_call__ 메서드에 매개변수를 지정한다. \n",
    "- self.func에 매개변수를 넣어서 호출한 뒤에 반환값을 반환해 준다. \n",
    "- 여기서 매개변수를 *args, *\\*kwargs로 지정했으므로 self.func에 넣을 때는 언패킹한다. \n",
    "- 고정된 매개변수를 사용할 때는 def \\_\\_call__(self, a, b) : 처럼 만들어도 된다."
   ]
  },
  {
   "cell_type": "markdown",
   "metadata": {},
   "source": [
    "### 42.5.1 클래스로 매개변수가 있는 데코레이터 만들기\n",
    "- 매개변수가 있는 데코레이터를 만들어보자"
   ]
  },
  {
   "cell_type": "code",
   "execution_count": null,
   "metadata": {},
   "outputs": [],
   "source": [
    "# 함수의 반환값이 특정 수의 배수인지 확인하는 데코레이터 \n",
    "class IsMultiple:\n",
    "    def __init__(self, x):         # 데코레이터가 사용할 매개변수를 초깃값으로 받음\n",
    "        self.x = x                 # 매개변수를 속성 x에 저장\n",
    " \n",
    "    def __call__(self, func):      # 호출할 함수를 매개변수로 받음\n",
    "        def wrapper(a, b):         # 호출할 함수의 매개변수와 똑같이 지정(가변 인수로 작성해도 됨)\n",
    "            r = func(a, b)         # func를 호출하고 반환값을 변수에 저장\n",
    "            if r % self.x == 0:    # func의 반환값이 self.x의 배수인지 확인\n",
    "                print('{0}의 반환값은 {1}의 배수입니다.'.format(func.__name__, self.x))\n",
    "            else:\n",
    "                print('{0}의 반환값은 {1}의 배수가 아닙니다.'.format(func.__name__, self.x))\n",
    "            return r               # func의 반환값을 반환\n",
    "        return wrapper             # wrapper 함수 반환\n",
    " \n",
    "@IsMultiple(3)    # 데코레이터(인수)\n",
    "def add(a, b):\n",
    "    return a + b\n",
    " \n",
    "print(add(10, 20))\n",
    "print(add(2, 5))\n"
   ]
  },
  {
   "cell_type": "markdown",
   "metadata": {},
   "source": [
    "- \\_\\_init__메서드에서 데코레이터가 사용할 매개별수를 초깃값으로 받는다.\n",
    "- 그리고 매개변수를 \\_\\_call__메서드에 사용할 수 있도록 속성에 저장한다. \n",
    "- 지금까지 \\_\\_init__에서 호출할 함수를 매개변수로 받았는데, 여기서는 **데코레이터가 사용할 매개변수**를 받는다는 점.\n",
    "- \\_\\_call__메서드에서 호출할 함수를 매개변수로 받는다. \n",
    "- 그리고 \\_\\_call_-메서드 안에 wrapper함수를 만들어 준다. 이때 wrapper함수의 매개변수는 호출할 함수의 매개변수와 똑같이 지정한다.\n",
    "- wrapper함수안에서는 func의 반환값이 데코레이터 매개변수 x의 배수인지 확인한다.\n",
    "- 이때, 데코레이터 매개변수 x 는 속성에 저장되어 있으므로 self.x로 사용해야 한다.\n",
    "- 배수확인이 끝났으면 func의 반환값을 반환한다. \n",
    "- 마지막으로 wrapper함수를 다 만들었으면 return값으로 wrapper함수를 반환한다."
   ]
  },
  {
   "cell_type": "markdown",
   "metadata": {},
   "source": [
    "- 데코레이터는 기존 함수를 수정하지 않으면서 추가 기능을 구현할 때 사용한다. \n",
    "- 보통 데코레이터는 프로그램의 버그를 찾는 디버깅, 함수의 성능 측정, 함수 실행 전에 데이터를 확인하는 등에 활용"
   ]
  },
  {
   "cell_type": "markdown",
   "metadata": {},
   "source": [
    "## 42.6 퀴즈"
   ]
  },
  {
   "cell_type": "code",
   "execution_count": null,
   "metadata": {},
   "outputs": [],
   "source": [
    "# 1. 다음 중 함수 sub에 데코레이터 trace를 지정하는 방식으로 올바른 것을 고르세요. (d)\n",
    "\n",
    "a) \n",
    "def sub(a, b): @trace\n",
    "    return a - b\n",
    "\n",
    "b) \n",
    "def sub(a, b): trace\n",
    "    return a - b\n",
    "\n",
    "c)\n",
    "@sub\n",
    "def trace(a, b):\n",
    "    return a - b\n",
    "\n",
    "d)\n",
    "@trace\n",
    "def sub(a, b):\n",
    "    return a - b\n",
    "\n",
    "e)\n",
    "def sub(trace, a, b):\n",
    "    return a - b"
   ]
  },
  {
   "cell_type": "code",
   "execution_count": null,
   "metadata": {},
   "outputs": [],
   "source": [
    "2. 클래스로 데코레이터를 만들 때 구현해야 하는 메서드는 무엇인가요? (메서드 뒤의 괄호는 생략하고 메서드 이름만 입력)\n",
    "__call__"
   ]
  },
  {
   "cell_type": "markdown",
   "metadata": {},
   "source": [
    "## 42.7 연습문제\n",
    "> 데코레이터로 매개변수의 자료형 검사하기 \n",
    "\n",
    "- 데코레이터 type_check를 작성하세요.\n",
    "- type_check는 함수의 매개변수가 지정된 자료형(클래스)이면 함수를 정상적으로 호출하고, \n",
    "- 지정된 자료형과 다르면 RuntimeError 예외를 발생시키면서 '자료형이 다릅니다.' 에러메시지를 출력해야 합니다.\n",
    "- 여기서 type_check에 지정된 첫번째 int는 호출할 함수에서 첫번째 매개변수의 자료형을 뜻하고 \n",
    "- 두번째 int는 호출할 함수에서 두번째 매개변수의 자료형을 뜻합니다. "
   ]
  },
  {
   "cell_type": "code",
   "execution_count": null,
   "metadata": {},
   "outputs": [],
   "source": [
    "def type_check(type_a, type_b):\n",
    "    def real_decorator(func):\n",
    "        def wrapper(a, b):\n",
    "            if isinstance(a, type_a) and isinstance(b, type_b):\n",
    "                return func(a, b)\n",
    "            else:\n",
    "                raise RuntimeError('자료형이 올바르지 않습니다.')\n",
    "        return wrapper\n",
    "    return real_decorator\n",
    "\n",
    "@type_check(int, int)\n",
    "def add(a, b):\n",
    "    return a + b\n",
    " \n",
    "print(add(10, 20))\n",
    "print(add('hello', 'world'))"
   ]
  },
  {
   "cell_type": "markdown",
   "metadata": {},
   "source": [
    "## 42.8 심사문제\n",
    "> HTML 태그 데코레이션 만들기\n",
    "\n",
    "- 표준입력으로 HTML 태그 이름 두개가 입력된다.\n",
    "- 다음 소스 코드에서 함수의 반환값을 HTML 태그로 감싸는 데코레이터를 만들기\n",
    "- HTML태그는 웹 페이지에 사용하는 문법이며 \\<span> 문자열 \\</span>, \\<p> 문자열 \\</p> 처럼\n",
    "- <태그이름>으로 시작하며 </태그이름>으로 끝난다"
   ]
  },
  {
   "cell_type": "code",
   "execution_count": 1,
   "metadata": {},
   "outputs": [
    {
     "name": "stdout",
     "output_type": "stream",
     "text": [
      "p span\n",
      "<p><span>Hello, world!</span></p>\n"
     ]
    }
   ],
   "source": [
    "# 메서드로 데코레이터 만들기\n",
    "def html_tag(tag) :\n",
    "    def real_decorator(func) :\n",
    "        def wrapper() : \n",
    "            return '<{0}>{1}</{0}>'.format(tag, func())\n",
    "        return wrapper \n",
    "    return real_decorator\n",
    "                     \n",
    "a, b = input().split()\n",
    "\n",
    "@html_tag(a)\n",
    "@html_tag(b)\n",
    "def hello() :\n",
    "    return 'Hello, world!'\n",
    "\n",
    "print(hello())"
   ]
  },
  {
   "cell_type": "markdown",
   "metadata": {},
   "source": [
    "- return을 사용한 이유 : \n",
    "- print()를 사용하면 안되는 이유 : 띄어쓰기, 순서가 뒤바뀜"
   ]
  },
  {
   "cell_type": "code",
   "execution_count": null,
   "metadata": {},
   "outputs": [],
   "source": [
    "# 클래스로 데코레이터 만들기\n",
    "class html_tag : \n",
    "    def __init__(self, tag) : \n",
    "        self.tag = tag\n",
    "        \n",
    "    def __call__(self, func) :\n",
    "        def wrapper() : \n",
    "            return f'<{self.tag}>{func()}</{self.tag}>'\n",
    "        return wrapper \n",
    "    \n",
    "a, b = input().split()\n",
    "\n",
    "@html_tag(a)\n",
    "@html_tag(b)\n",
    "def hello() :\n",
    "    return 'Hello, world!'\n",
    "\n",
    "print(hello())"
   ]
  }
 ],
 "metadata": {
  "kernelspec": {
   "display_name": "Python 3",
   "language": "python",
   "name": "python3"
  },
  "language_info": {
   "codemirror_mode": {
    "name": "ipython",
    "version": 3
   },
   "file_extension": ".py",
   "mimetype": "text/x-python",
   "name": "python",
   "nbconvert_exporter": "python",
   "pygments_lexer": "ipython3",
   "version": "3.8.5"
  }
 },
 "nbformat": 4,
 "nbformat_minor": 4
}
