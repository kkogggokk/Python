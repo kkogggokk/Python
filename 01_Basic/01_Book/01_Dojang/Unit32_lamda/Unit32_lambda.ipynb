{
 "cells": [
  {
   "cell_type": "markdown",
   "metadata": {},
   "source": [
    "## Unit32.1 람다 표현식으로 함수 만들기 \n",
    "- lambda 매개변수들 : 식 "
   ]
  },
  {
   "cell_type": "code",
   "execution_count": 1,
   "metadata": {},
   "outputs": [
    {
     "data": {
      "text/plain": [
       "11"
      ]
     },
     "execution_count": 1,
     "metadata": {},
     "output_type": "execute_result"
    }
   ],
   "source": [
    "# 숫자를 받은 뒤10을 더해서 반환하는 함수 \n",
    "def plus_ten(x) :\n",
    "    return x+10\n",
    "\n",
    "plus_ten(1)"
   ]
  },
  {
   "cell_type": "code",
   "execution_count": 2,
   "metadata": {},
   "outputs": [
    {
     "data": {
      "text/plain": [
       "<function __main__.<lambda>(x)>"
      ]
     },
     "execution_count": 2,
     "metadata": {},
     "output_type": "execute_result"
    }
   ],
   "source": [
    "# plus_ten 람다 표현식으로 작성 \n",
    "lambda x : x+10"
   ]
  },
  {
   "cell_type": "code",
   "execution_count": 4,
   "metadata": {},
   "outputs": [
    {
     "data": {
      "text/plain": [
       "11"
      ]
     },
     "execution_count": 4,
     "metadata": {},
     "output_type": "execute_result"
    }
   ],
   "source": [
    "# 람다로 만든 익명 함수를 호출하려면 다음과 같이 람다 표현식을 변수에 할당해야 한다. \n",
    "plus_ten = lambda x : x + 10 \n",
    "plus_ten(1)"
   ]
  },
  {
   "cell_type": "markdown",
   "metadata": {},
   "source": [
    "### 32.1.1 람다 표현식 자체를 호출하기 \n",
    "- 람다표현식을 괄호로 묵은 뒤 다시 ()를 붙이고 인수를 넣어서 호출\n",
    "- (lambda 매개변수들 : 식) (인수들)"
   ]
  },
  {
   "cell_type": "code",
   "execution_count": 5,
   "metadata": {},
   "outputs": [
    {
     "data": {
      "text/plain": [
       "11"
      ]
     },
     "execution_count": 5,
     "metadata": {},
     "output_type": "execute_result"
    }
   ],
   "source": [
    "(lambda x : x + 10)(1)"
   ]
  },
  {
   "cell_type": "markdown",
   "metadata": {},
   "source": [
    "### 32.1.2 람다 표현식 안에서는 변수를 만들 수 없다. \n",
    "- 람다표현식에서 주의할 점 : 람다 표현식안에서는 새 변수를 만들 수 없다. \n",
    "- 따라서 반환값 부분은 변수 없이 식 한줄로 표현할 수 있어야 한다. "
   ]
  },
  {
   "cell_type": "code",
   "execution_count": 6,
   "metadata": {},
   "outputs": [
    {
     "ename": "SyntaxError",
     "evalue": "invalid syntax (<ipython-input-6-6fad9ef94148>, line 1)",
     "output_type": "error",
     "traceback": [
      "\u001b[0;36m  File \u001b[0;32m\"<ipython-input-6-6fad9ef94148>\"\u001b[0;36m, line \u001b[0;32m1\u001b[0m\n\u001b[0;31m    (lambda x : y = 10; x + y)(1)\u001b[0m\n\u001b[0m                  ^\u001b[0m\n\u001b[0;31mSyntaxError\u001b[0m\u001b[0;31m:\u001b[0m invalid syntax\n"
     ]
    }
   ],
   "source": [
    "(lambda x : y = 10; x + y)(1) # error \n",
    "# 람다 표현식안에서는 새 변수를 만들 수 없다. "
   ]
  },
  {
   "cell_type": "code",
   "execution_count": 7,
   "metadata": {},
   "outputs": [
    {
     "data": {
      "text/plain": [
       "11"
      ]
     },
     "execution_count": 7,
     "metadata": {},
     "output_type": "execute_result"
    }
   ],
   "source": [
    "y = 10 \n",
    "(lambda x : x + y)(1)"
   ]
  },
  {
   "cell_type": "markdown",
   "metadata": {},
   "source": [
    "### 32.1.3 람다 표현식을 인수로 사용하기 \n",
    "- 람다 표현식을 사용하는 이유 : 함수의 인수 부분에서 간단하게 함수를 만들기 위해서 \n",
    "    - 대표적인 예 : map "
   ]
  },
  {
   "cell_type": "code",
   "execution_count": 13,
   "metadata": {},
   "outputs": [
    {
     "data": {
      "text/plain": [
       "[11, 12, 13]"
      ]
     },
     "execution_count": 13,
     "metadata": {},
     "output_type": "execute_result"
    }
   ],
   "source": [
    "def plus_ten(x) :\n",
    "    return x + 10\n",
    "\n",
    "list(map(plus_ten,[1, 2, 3]))"
   ]
  },
  {
   "cell_type": "code",
   "execution_count": 12,
   "metadata": {},
   "outputs": [
    {
     "data": {
      "text/plain": [
       "[11, 12, 13]"
      ]
     },
     "execution_count": 12,
     "metadata": {},
     "output_type": "execute_result"
    }
   ],
   "source": [
    "# 람다 표현식으로 함수를 만들어서 map에 넣어보기 \n",
    "list(map(lambda x : x + 10, [1, 2, 3 ]))"
   ]
  },
  {
   "cell_type": "markdown",
   "metadata": {},
   "source": [
    "## <참고> 람다 표현식으로 매개변수가 없는 함수 만들기 \n",
    "- 람다 표현식으로 매개변수가 없는 함수를 만들 때는 lambda뒤에 아무것도 지정하지 않고 콜론(:)을 붙입니다. \n",
    "- 단, 콜론 뒤에는 반드시 반환 값이 있어야 합니다.\n",
    "- 왜냐하면 표현식은 반드시 값으로 평가 되어야 하기 때문에"
   ]
  },
  {
   "cell_type": "code",
   "execution_count": 14,
   "metadata": {},
   "outputs": [
    {
     "data": {
      "text/plain": [
       "1"
      ]
     },
     "execution_count": 14,
     "metadata": {},
     "output_type": "execute_result"
    }
   ],
   "source": [
    "(lambda : 1)()"
   ]
  },
  {
   "cell_type": "code",
   "execution_count": 15,
   "metadata": {},
   "outputs": [
    {
     "data": {
      "text/plain": [
       "10"
      ]
     },
     "execution_count": 15,
     "metadata": {},
     "output_type": "execute_result"
    }
   ],
   "source": [
    "x = 10 \n",
    "(lambda : x)()"
   ]
  },
  {
   "cell_type": "markdown",
   "metadata": {},
   "source": [
    "## 32.2 람다 표현식과 map, filter, reduce 함수 활용하기 \n",
    "### 32.2.1 람다 표현식에 조건부 표현식 사용하기 \n",
    "- lambda 매개변수들 : 식1 if 조건식 else 식2 "
   ]
  },
  {
   "cell_type": "code",
   "execution_count": 17,
   "metadata": {},
   "outputs": [
    {
     "data": {
      "text/plain": [
       "[1, 2, '3', 4, 5, '6', 7, 8, '9', 10]"
      ]
     },
     "execution_count": 17,
     "metadata": {},
     "output_type": "execute_result"
    }
   ],
   "source": [
    "# map을 사용하여 리스트 a에서 3의 배수를 문자열로 변환 \n",
    "a = [1, 2, 3, 4, 5, 6, 7, 8, 9, 10]\n",
    "list(map(lambda x : str(x) if x % 3 == 0 else x , a))\n",
    "#3의 배수일 때는 str(x)로 요소를 문자열로 만들어서 반환. "
   ]
  },
  {
   "cell_type": "code",
   "execution_count": 19,
   "metadata": {},
   "outputs": [
    {
     "ename": "SyntaxError",
     "evalue": "invalid syntax (<ipython-input-19-ab0a28b409ef>, line 4)",
     "output_type": "error",
     "traceback": [
      "\u001b[0;36m  File \u001b[0;32m\"<ipython-input-19-ab0a28b409ef>\"\u001b[0;36m, line \u001b[0;32m4\u001b[0m\n\u001b[0;31m    list(map(lambda x : str(x) if x % 3 == 0, a)) #error\u001b[0m\n\u001b[0m                                            ^\u001b[0m\n\u001b[0;31mSyntaxError\u001b[0m\u001b[0;31m:\u001b[0m invalid syntax\n"
     ]
    }
   ],
   "source": [
    "# 람다 표현식안에서 조건부 표현식 if, else를 사용할 때는 콜로(:)을 붙이지 않는다. \n",
    "# 람다 표현식에서 if를 사용했다면 반드시 else를 사용해야 한다. \n",
    "# if만 사용하면 문법에러가 발생하므로 주의해야 한다. \n",
    "list(map(lambda x : str(x) if x % 3 == 0, a)) #error"
   ]
  },
  {
   "cell_type": "code",
   "execution_count": 20,
   "metadata": {},
   "outputs": [
    {
     "data": {
      "text/plain": [
       "['1', 2.0, 13, 14, 15, 16, 17, 18, 19, 20]"
      ]
     },
     "execution_count": 20,
     "metadata": {},
     "output_type": "execute_result"
    }
   ],
   "source": [
    "# 람다 표현식안에는 elif를 사용할 수 없다. \n",
    "# 따라서 조건부 표현식은 식1 if 조건식1 else 식2if 조건식2 else 식 3  형식 처럼 if 를 연속으로 사용. \n",
    "# 예, 리스트에서 1은 문자열로 변환하고, 2는 실루로 변환, 3이상은 10을 더한 식. \n",
    "a = [1, 2, 3, 4, 5, 6, 7, 8, 9, 10]\n",
    "\n",
    "list(map(lambda x : str(x) if x == 1 else float(x) if x == 2 else x + 10, a))"
   ]
  },
  {
   "cell_type": "markdown",
   "metadata": {},
   "source": [
    "### 32.2.2 map에 객체를 여러개 넣기 \n",
    "- map은 리스트 등으 ㅣ반복 가능한 객체를 여러개 넣을 수 있다. "
   ]
  },
  {
   "cell_type": "code",
   "execution_count": 21,
   "metadata": {},
   "outputs": [
    {
     "data": {
      "text/plain": [
       "[2, 8, 18, 32, 50]"
      ]
     },
     "execution_count": 21,
     "metadata": {},
     "output_type": "execute_result"
    }
   ],
   "source": [
    "a = [1, 2, 3, 4, 5]\n",
    "b = [2, 4, 6, 8, 10]\n",
    "list(map(lambda x, y : x * y , a, b))"
   ]
  },
  {
   "cell_type": "markdown",
   "metadata": {},
   "source": [
    "### 32.2.3 filter 사용하기 \n",
    "- filter는 반복 가능한 객체에서 특정 조건에 맞는 요소만 가져옴\n",
    "- filter에 지정한 함수의 반환값이 True일때만 해당 요소를 가져옴\n",
    "- filter(함수, 반복가능한 객체 )"
   ]
  },
  {
   "cell_type": "code",
   "execution_count": 22,
   "metadata": {},
   "outputs": [
    {
     "data": {
      "text/plain": [
       "[8, 7, 9]"
      ]
     },
     "execution_count": 22,
     "metadata": {},
     "output_type": "execute_result"
    }
   ],
   "source": [
    "# 리스트에서 5보다 크면서 10보다 작은 숫자를 가져오기 \n",
    "def f(x) :\n",
    "    return x > 5 and x < 10 \n",
    "\n",
    "a = [8, 3, 2, 10, 15, 7, 1, 9, 0 , 11]\n",
    "list(filter(f, a))"
   ]
  },
  {
   "cell_type": "code",
   "execution_count": 25,
   "metadata": {},
   "outputs": [
    {
     "data": {
      "text/plain": [
       "[True, False, False, False, False, True, False, True, False, False]"
      ]
     },
     "execution_count": 25,
     "metadata": {},
     "output_type": "execute_result"
    }
   ],
   "source": [
    "list(map(lambda x : x > 5 and x < 10, a ))"
   ]
  },
  {
   "cell_type": "code",
   "execution_count": 26,
   "metadata": {},
   "outputs": [
    {
     "data": {
      "text/plain": [
       "[8, 7, 9]"
      ]
     },
     "execution_count": 26,
     "metadata": {},
     "output_type": "execute_result"
    }
   ],
   "source": [
    "list(filter(lambda x : x > 5 and x < 10,a))"
   ]
  },
  {
   "cell_type": "markdown",
   "metadata": {},
   "source": [
    "## 32.2.4 reduce 사용하기 \n",
    "- reduce : 반복 가능한 객체와 각 요소를 지정한 함수로 처리 한 뒤 이전 결과와 누적해서 반환하는 함수 \n",
    "- reduce는 파이썬 3부터 내장함수가 아니기 때문에 fuctools 모듈에서 가져와야함\n",
    "    - from functools import reduce\n",
    "    - reduce(함수, 반복가능한 객체)"
   ]
  },
  {
   "cell_type": "code",
   "execution_count": 28,
   "metadata": {},
   "outputs": [
    {
     "data": {
      "text/plain": [
       "15"
      ]
     },
     "execution_count": 28,
     "metadata": {},
     "output_type": "execute_result"
    }
   ],
   "source": [
    "def f(x, y) :\n",
    "    return x + y \n",
    "\n",
    "a = [1, 2, 3, 4, 5]\n",
    "from functools import reduce \n",
    "reduce(f, a)"
   ]
  },
  {
   "cell_type": "code",
   "execution_count": 29,
   "metadata": {},
   "outputs": [
    {
     "data": {
      "text/plain": [
       "<function __main__.<lambda>(a, b, c)>"
      ]
     },
     "execution_count": 29,
     "metadata": {},
     "output_type": "execute_result"
    }
   ],
   "source": [
    "lambda a, b, c : a * b * c"
   ]
  },
  {
   "cell_type": "code",
   "execution_count": 30,
   "metadata": {},
   "outputs": [
    {
     "ename": "SyntaxError",
     "evalue": "invalid syntax (<ipython-input-30-bb5f851356aa>, line 1)",
     "output_type": "error",
     "traceback": [
      "\u001b[0;36m  File \u001b[0;32m\"<ipython-input-30-bb5f851356aa>\"\u001b[0;36m, line \u001b[0;32m1\u001b[0m\n\u001b[0;31m    lambda (a, b, c) : a * b * c\u001b[0m\n\u001b[0m           ^\u001b[0m\n\u001b[0;31mSyntaxError\u001b[0m\u001b[0;31m:\u001b[0m invalid syntax\n"
     ]
    }
   ],
   "source": [
    "lambda (a, b, c) : a * b * c"
   ]
  },
  {
   "cell_type": "code",
   "execution_count": null,
   "metadata": {},
   "outputs": [],
   "source": [
    "list()"
   ]
  }
 ],
 "metadata": {
  "kernelspec": {
   "display_name": "Python 3",
   "language": "python",
   "name": "python3"
  },
  "language_info": {
   "codemirror_mode": {
    "name": "ipython",
    "version": 3
   },
   "file_extension": ".py",
   "mimetype": "text/x-python",
   "name": "python",
   "nbconvert_exporter": "python",
   "pygments_lexer": "ipython3",
   "version": "3.8.5"
  }
 },
 "nbformat": 4,
 "nbformat_minor": 4
}
