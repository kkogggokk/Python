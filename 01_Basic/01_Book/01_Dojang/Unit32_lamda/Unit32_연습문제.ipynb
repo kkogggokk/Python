{
 "cells": [
  {
   "cell_type": "markdown",
   "metadata": {},
   "source": [
    "## 32.4 연습문제 : 이미지 파일만 가져오기 \n",
    "- .jpg, .png이니 이미지 파일만 출력되게 만드세요.\n",
    "- 여기서는 람다 표현식을 사용해야 하며 출력 결과는 리스트 형태라야 합니다. \n",
    "- 람다 표현식에서 확장자 검사 할 때는 문자열 메서드를 잘 활용하세요. "
   ]
  },
  {
   "cell_type": "code",
   "execution_count": null,
   "metadata": {},
   "outputs": [],
   "source": [
    "files = ['', '', '', '', '', '', '', '',]"
   ]
  }
 ],
 "metadata": {
  "kernelspec": {
   "display_name": "Python 3",
   "language": "python",
   "name": "python3"
  },
  "language_info": {
   "codemirror_mode": {
    "name": "ipython",
    "version": 3
   },
   "file_extension": ".py",
   "mimetype": "text/x-python",
   "name": "python",
   "nbconvert_exporter": "python",
   "pygments_lexer": "ipython3",
   "version": "3.8.5"
  }
 },
 "nbformat": 4,
 "nbformat_minor": 4
}
