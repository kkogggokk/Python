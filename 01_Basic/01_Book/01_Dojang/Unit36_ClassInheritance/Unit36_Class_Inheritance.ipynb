{
 "cells": [
  {
   "cell_type": "markdown",
   "metadata": {},
   "source": [
    "# Unit36 클래스 상속하기\n",
    "- 클래스 상속 : 기능을 유지한 채 다른 기능을 추가할 때 사용하는 기능\n",
    "- 기능을 물려주는 클래스 : 기반클래스(base class), 부모클래스(parent class), 슈퍼클래스(super class)\n",
    "- 상속을 받아 새롭게 만드는 클래스 : 파생클래스(derived class), 자식클래스(child class), 서브클래스(sub class)\n",
    "- why ? \n",
    "    - 새로운 기능이 필요할 때마다 계속 클래스를 만든다면 중복되는 부분을 반복해서 만들어야 하기때문에 \n",
    "    - 상속을 사용하면 중복된 기능을 만들지 않아도 된다 \n",
    "    - 상속은 기존 기능을 재사용할 수 있어서 효율적\n",
    "- 클래스 상속\n",
    "```python\n",
    "class 기반클래스이름 :\n",
    "    코드\n",
    "class 파생클래스이름(기반클래스이름) :\n",
    "    코드\n",
    "```"
   ]
  },
  {
   "cell_type": "code",
   "execution_count": 2,
   "metadata": {},
   "outputs": [
    {
     "name": "stdout",
     "output_type": "stream",
     "text": [
      "hello\n",
      "study\n"
     ]
    }
   ],
   "source": [
    "class Person :\n",
    "    def greeting(self) :\n",
    "        print('hello')\n",
    "    \n",
    "class Student(Person) :\n",
    "    def study(self) :\n",
    "        print('study')\n",
    "        \n",
    "james = Student()\n",
    "james.greeting() # 기반클래스 Person의 greeting메서드 호출가능 (상속받았기때문) \n",
    "james.study() # 파생클래스 student의 study 메서드 호출"
   ]
  },
  {
   "cell_type": "markdown",
   "metadata": {},
   "source": [
    "- 클래스 상속은 기반클래스의 기능을 유지하면서 새로운 기능을 추가\n",
    "- 클래스 상속은 연관되면서 동등한 기능일 때 사용\n",
    "- 학생은 사람이므로 연관된 개념, 학생은 사람에서 역할만 확장되었을 뿐 동등한 기능"
   ]
  },
  {
   "cell_type": "markdown",
   "metadata": {},
   "source": [
    "### <참고> 상속관계 확인하기\n",
    "- issubclass (자식클래스, 부모클래스)\n",
    "    - 맞으면 True\n",
    "    - 아니면 False"
   ]
  },
  {
   "cell_type": "code",
   "execution_count": 3,
   "metadata": {},
   "outputs": [
    {
     "data": {
      "text/plain": [
       "True"
      ]
     },
     "execution_count": 3,
     "metadata": {},
     "output_type": "execute_result"
    }
   ],
   "source": [
    "class Person :\n",
    "    pass\n",
    "\n",
    "class Student(Person) :\n",
    "    pass\n",
    "\n",
    "issubclass(Student, Person)"
   ]
  },
  {
   "cell_type": "code",
   "execution_count": null,
   "metadata": {},
   "outputs": [],
   "source": []
  },
  {
   "cell_type": "markdown",
   "metadata": {},
   "source": [
    "## 36.2 상속관계와 포함관계 알아보기\n",
    "### 36.2.1 상속관계\n",
    "- 상속은 명확하게 같은 종류이며 동등한 관계일 때 사용한다.\n",
    "- 즉, 학생은 사람이다 했을때 말이 되면 동등한 관계\n",
    "- 상속관계를 영어로 is-a관계라고 한다. (Student is a Person) "
   ]
  },
  {
   "cell_type": "markdown",
   "metadata": {},
   "source": [
    "### 36.2.2 포함관계 "
   ]
  },
  {
   "cell_type": "code",
   "execution_count": null,
   "metadata": {},
   "outputs": [],
   "source": [
    "class Person :\n",
    "    def greeting(self) :\n",
    "        print('hello')\n",
    "        \n",
    "class PersonList :\n",
    "    def __init__(self) :\n",
    "        # 리스트 속성에 Person 인스턴스를 넣어서 관리 \n",
    "        self.person_list = [] \n",
    "        \n",
    "    #리스트 속성에 Person 인스턴스를 추가\n",
    "    def append_person(self, person) :\n",
    "        self.person_list.append(person)"
   ]
  },
  {
   "cell_type": "markdown",
   "metadata": {},
   "source": [
    "- 여기서는 상속을 하지 않고 속성에 인스턴스를 넣어서 관리하므로 PersonList가 Person을 포함하고 있ㄷ.\n",
    "- PersonList와 Person은 동등한 관계가 아니라 포함관계이다.\n",
    "- 즉, 사람목록은 사람을 가지고 있다. \n",
    "- 그래서 포함관계를 has-a관계라고 부른다. \n",
    "- 따라서 같은 종류에 동등한 관계일 때 ⇒ 상속사용\n",
    "- 그 이외에는 속성에 인스턴스를 넣은 포함 방식을 사용"
   ]
  },
  {
   "cell_type": "markdown",
   "metadata": {},
   "source": [
    "## 36.3 기반(부모)클래스의 속성 사용하기\n",
    "- "
   ]
  },
  {
   "cell_type": "code",
   "execution_count": 5,
   "metadata": {},
   "outputs": [
    {
     "name": "stdout",
     "output_type": "stream",
     "text": [
      "Student __init__\n",
      "python coding\n"
     ]
    },
    {
     "ename": "AttributeError",
     "evalue": "'Student' object has no attribute 'hello'",
     "output_type": "error",
     "traceback": [
      "\u001b[0;31m---------------------------------------------------------------------------\u001b[0m",
      "\u001b[0;31mAttributeError\u001b[0m                            Traceback (most recent call last)",
      "\u001b[0;32m<ipython-input-5-14b3765d8f1a>\u001b[0m in \u001b[0;36m<module>\u001b[0;34m\u001b[0m\n\u001b[1;32m     11\u001b[0m \u001b[0mjames\u001b[0m \u001b[0;34m=\u001b[0m \u001b[0mStudent\u001b[0m\u001b[0;34m(\u001b[0m\u001b[0;34m)\u001b[0m\u001b[0;34m\u001b[0m\u001b[0;34m\u001b[0m\u001b[0m\n\u001b[1;32m     12\u001b[0m \u001b[0mprint\u001b[0m\u001b[0;34m(\u001b[0m\u001b[0mjames\u001b[0m\u001b[0;34m.\u001b[0m \u001b[0mschool\u001b[0m\u001b[0;34m)\u001b[0m\u001b[0;34m\u001b[0m\u001b[0;34m\u001b[0m\u001b[0m\n\u001b[0;32m---> 13\u001b[0;31m \u001b[0mprint\u001b[0m\u001b[0;34m(\u001b[0m\u001b[0mjames\u001b[0m\u001b[0;34m.\u001b[0m\u001b[0mhello\u001b[0m\u001b[0;34m)\u001b[0m \u001b[0;31m# error : 부모클래스 Person의 __init__메서드가 호출되지 않았기 때문\u001b[0m\u001b[0;34m\u001b[0m\u001b[0;34m\u001b[0m\u001b[0m\n\u001b[0m",
      "\u001b[0;31mAttributeError\u001b[0m: 'Student' object has no attribute 'hello'"
     ]
    }
   ],
   "source": [
    "class Person :\n",
    "    def __init__(self) :\n",
    "        print('Person __init__')\n",
    "        self.hello = 'hello'\n",
    "        \n",
    "class Student(Person) :\n",
    "    def __init__(self) :\n",
    "        print('Student __init__')\n",
    "        self.school = 'python coding'\n",
    "        \n",
    "james = Student()\n",
    "print(james. school)\n",
    "print(james.hello) # error : 부모클래스 Person의 __init__메서드가 호출되지 않았기 때문"
   ]
  },
  {
   "cell_type": "markdown",
   "metadata": {},
   "source": [
    "### 36.3.1 super()로 부모클래스 초기화 하기 \n",
    "- 이때 super()를 사용해서 기반클래스의 \\_\\_init__메서드를 호출해준다. \n",
    "- super().메서드()"
   ]
  },
  {
   "cell_type": "code",
   "execution_count": 14,
   "metadata": {},
   "outputs": [
    {
     "name": "stdout",
     "output_type": "stream",
     "text": [
      "Student __init__\n",
      "Person __init__\n",
      "python coding\n",
      "hello\n"
     ]
    }
   ],
   "source": [
    "class Person :\n",
    "    def __init__(self) :\n",
    "        print('Person __init__')\n",
    "        self.hello = 'hello'\n",
    "        \n",
    "class Student(Person) :\n",
    "    def __init__(self) :\n",
    "        print('Student __init__')\n",
    "        self.school = 'python coding'\n",
    "        super().__init__() # super()로 부모클래스의 __init__메서드 호출\n",
    "        \n",
    "james = Student() # 출력 : Student __init__, Person __init__\n",
    "print(james. school) # python coding 출력 \n",
    "print(james.hello) # error : 부모클래스 Person의 __init__메서드가 호출되지 않았기 때문"
   ]
  },
  {
   "cell_type": "markdown",
   "metadata": {},
   "source": [
    "### 기반클래스의 속성을 찾는 과정"
   ]
  },
  {
   "cell_type": "code",
   "execution_count": null,
   "metadata": {},
   "outputs": [],
   "source": []
  },
  {
   "cell_type": "markdown",
   "metadata": {},
   "source": [
    "### 36.3.2 기반클래스를 초기화 하지 않아도 되는 경우 \n",
    "- 만약 자식클래스에서 \\_\\_init__ 메서드를 생략한다면 부모클래스의 \\_\\_init__이 자동으로 호출되므로 super()는 사용하지 않아도 된다. "
   ]
  },
  {
   "cell_type": "code",
   "execution_count": 17,
   "metadata": {},
   "outputs": [
    {
     "name": "stdout",
     "output_type": "stream",
     "text": [
      "Person __init__\n",
      "hello\n"
     ]
    }
   ],
   "source": [
    "class Person :\n",
    "    def __init__(self) :\n",
    "        print('Person __init__')\n",
    "        self.hello = 'hello'\n",
    "        \n",
    "class Student(Person) :\n",
    "    pass\n",
    "\n",
    "james = Student() # 'Person __init__' 출력\n",
    "print(james.hello) #'hello' 출력"
   ]
  },
  {
   "cell_type": "markdown",
   "metadata": {},
   "source": [
    "- 파생(자식)클래스에 \\_\\_init__ 메서드가 없다면 기반 클래스의 \\_\\_init__이 자동으로 호출되므로 부모클래스의 속성을 사용할 수 있다. "
   ]
  },
  {
   "cell_type": "markdown",
   "metadata": {},
   "source": [
    "#### <참고> 좀 더 명확하게 super() 사용하기 \n",
    "- super(자식클래스, self).메서드\n",
    "- 자식클래스와 self를 넣어서 현재 클래스가 어떤 클래스인지 명확하기 표시하는 방법이 있다."
   ]
  },
  {
   "cell_type": "code",
   "execution_count": 18,
   "metadata": {},
   "outputs": [],
   "source": [
    "class Student(Person) : \n",
    "    def __init__(self) :\n",
    "        print('Student __init__')\n",
    "        super(Student, self).__init__()\n",
    "        self.school = 'python coding'"
   ]
  },
  {
   "cell_type": "code",
   "execution_count": null,
   "metadata": {},
   "outputs": [],
   "source": []
  },
  {
   "cell_type": "markdown",
   "metadata": {},
   "source": [
    "## 36.4 메서드 오버라이딩 사용하기\n",
    "- 파생(자식)클래스에서 기반(부모)클래스의 메소드를 새로 정의하는 메서드 오버라이딩에 대해 알아보자. \n",
    "- overrinding : 무시하다. 우선하다 라는 뜻을 가지고 있음. 말 그대로 기반(부모)클래스의 메서드를 무시하고 새로운 메서드를 만든다는 뜻. \n",
    "- 언제사용? 중복되는 기능은 파생 클래스에서 다시 만들지 않고, 기반 클래스의 기능을 사용하면 된다. \n",
    "- 메서드 오버라이딩은 원래 기능을 유지하면서 새로운 기능을 덧 붙일때 사용"
   ]
  },
  {
   "cell_type": "code",
   "execution_count": 4,
   "metadata": {},
   "outputs": [
    {
     "name": "stdout",
     "output_type": "stream",
     "text": [
      "hello, I'm a student.\n"
     ]
    }
   ],
   "source": [
    "class Person : \n",
    "    def greeting(self) : \n",
    "        print('hello')\n",
    "        \n",
    "    \n",
    "class Student(Person) : \n",
    "    def greeting(self) : \n",
    "        print(\"hello, I'm a student.\")\n",
    "        \n",
    "\n",
    "james = Student()\n",
    "james.greeting()\n",
    "# 여기서 Person클래스의 greeting메서드를 무시하고 Student클래스의 greeting메서드 "
   ]
  },
  {
   "cell_type": "markdown",
   "metadata": {},
   "source": [
    "- 오버라이딩 왜 사용할까? 어떤 기능이 같은 메서드 이름으로 계속 사용되어야 할 때 메서드 오버라이딩을 활용한다. \n",
    "- 예시의 Person클래스의 greeting 메서드와 Student클래스의 greeting 메서드를 보면 '안녕하세요'가 중복된다. 이럴때 부모클래스의 메서드를 재활용하면 중복을 줄일 수 있다. \n",
    "- 오버라이딩된 메서드에서 super()로 기반클래스의 메서드를 호출해보자."
   ]
  },
  {
   "cell_type": "code",
   "execution_count": 6,
   "metadata": {},
   "outputs": [
    {
     "name": "stdout",
     "output_type": "stream",
     "text": [
      "hello,\n",
      "I'm a student.\n"
     ]
    }
   ],
   "source": [
    "class Person :\n",
    "    def greeting(self) :\n",
    "        print('hello,')\n",
    "        \n",
    "class Student(Person) :\n",
    "    def greeting(self) :\n",
    "        super().greeting()\n",
    "        print(\"I'm a student.\")\n",
    "        \n",
    "james = Student()\n",
    "james.greeting()"
   ]
  },
  {
   "cell_type": "markdown",
   "metadata": {},
   "source": [
    "- 중복되는 기능은 파생 클래스에서 다시 만들지 않고, 기반 클래스의 기능을 사용하면 된다. \n",
    "- 메서드 오버라이딩은 원래 기능을 유지하면서 새로운 기능을 덧 붙일때 사용"
   ]
  },
  {
   "cell_type": "markdown",
   "metadata": {},
   "source": [
    "## 36.5 다중 상속 사용하기\n",
    "- 다중상속 : 여러 부모클래스로부터 상속을 받아서 자식클래스를 만드는 방법.\n",
    "- 클래스를 만들때 괄호()안에 클래스 이름을 ,(콤마)로 구분해서 넣는다.\n",
    "```python \n",
    "class 기반클래스이름1 :\n",
    "    코드\n",
    "class 기반클래스이름2 : \n",
    "    코드\n",
    "class 파생클래스이름(기반클래스이름1, 기반클래스이름2) :\n",
    "    코드 \n",
    "```"
   ]
  },
  {
   "cell_type": "code",
   "execution_count": 7,
   "metadata": {},
   "outputs": [
    {
     "name": "stdout",
     "output_type": "stream",
     "text": [
      "안녕하세요,\n",
      "학점관리\n",
      "공부하기\n"
     ]
    }
   ],
   "source": [
    "class Person :\n",
    "    def greeting(self) :\n",
    "        print('안녕하세요,')\n",
    "        \n",
    "class University :\n",
    "    def manage_credit(self) :\n",
    "        print('학점관리')\n",
    "        \n",
    "class Undergraduate(Person, University) :\n",
    "    def study(self) :\n",
    "        print('공부하기')\n",
    "        \n",
    "\n",
    "# Undergraduate클래스의 인스턴스로 Person의 greeting, University의 manage_credit을 호출가능\n",
    "james = Undergraduate()\n",
    "james.greeting()\n",
    "james.manage_credit()\n",
    "james.study()"
   ]
  },
  {
   "cell_type": "markdown",
   "metadata": {},
   "source": [
    "### 36.5.1 다이아몬드 상속 "
   ]
  },
  {
   "cell_type": "code",
   "execution_count": 10,
   "metadata": {},
   "outputs": [
    {
     "name": "stdout",
     "output_type": "stream",
     "text": [
      "hello, B\n"
     ]
    }
   ],
   "source": [
    "class A :\n",
    "    def greeting(self) :\n",
    "        print('hello, A')\n",
    "        \n",
    "class B(A) :\n",
    "    def greeting(self) :\n",
    "        print('hello, B')\n",
    "\n",
    "class C(A) :\n",
    "    def greeting(self) :\n",
    "        print('hello, C')\n",
    "        \n",
    "class D (B, C) :\n",
    "    pass \n",
    "\n",
    "x = D()\n",
    "x.greeting()"
   ]
  },
  {
   "cell_type": "markdown",
   "metadata": {},
   "source": [
    "- 부모클래스 A가 있고, B와 C는 A를 상속받는다. 그리고 D는 B와 C를 상속받는다. \n",
    "- 클래스 간 관계가 다이아몬드 같이 생겨서 객체지향 프로그래밍에서는 이런 상속관계를 다이아몬드 상속이라 부른다. \n",
    "- 이 경우 D는 어떤 클래스의 메서드를 호출할까요? 프로그래밍에서는 명확하지 않고 애매한 상태를 좋아하지 않는다."
   ]
  },
  {
   "cell_type": "markdown",
   "metadata": {},
   "source": [
    "### 36.5.2 메서드 탐색순서 확인하기 \n",
    "- 다이아몬드 상속에 대한 해결을 위해 메서드 탐색순서(MRO : Method Resoultion Order)를 따른다. \n",
    "- .\\_\\_mro\\_\\_ 를 사용해보면 메서드 탐색 순서가 나온다. "
   ]
  },
  {
   "cell_type": "code",
   "execution_count": 11,
   "metadata": {},
   "outputs": [
    {
     "data": {
      "text/plain": [
       "[__main__.D, __main__.B, __main__.C, __main__.A, object]"
      ]
     },
     "execution_count": 11,
     "metadata": {},
     "output_type": "execute_result"
    }
   ],
   "source": [
    "D.mro()"
   ]
  },
  {
   "cell_type": "markdown",
   "metadata": {},
   "source": [
    "## 36.6 추상클래스 사용하기 \n",
    "- 추상클래스 (abstract class) : 메서드의 목록만 가진 클래스이며 상속받는 클래스에서 메서드 구현을 강제하기 위해 사용\n",
    "- 추상클래스를 만들려면 import로 abc모듈을 가져와야 한다. \n",
    "- abc(Abstrct Base Class)의 약자 \n",
    "- 클래스의 괄호안에 metaclass = ABCMeta를 지정하고, 메서드를 만들 때 위에 @abstractmethod를 붙여서 추상 메서드로 지정한다.\n",
    "```python\n",
    "from abc import * \n",
    "class 추상클래스이름(metaclass=ABCMeta) :\n",
    "    @abstractmethod\n",
    "    def 메서드이름(sefl) :\n",
    "        코드\n",
    "```"
   ]
  },
  {
   "cell_type": "code",
   "execution_count": 12,
   "metadata": {},
   "outputs": [
    {
     "ename": "TypeError",
     "evalue": "Can't instantiate abstract class Student with abstract methods go_to_school",
     "output_type": "error",
     "traceback": [
      "\u001b[0;31m---------------------------------------------------------------------------\u001b[0m",
      "\u001b[0;31mTypeError\u001b[0m                                 Traceback (most recent call last)",
      "\u001b[0;32m<ipython-input-12-5dd8fe33d454>\u001b[0m in \u001b[0;36m<module>\u001b[0;34m\u001b[0m\n\u001b[1;32m     16\u001b[0m         \u001b[0mprint\u001b[0m\u001b[0;34m(\u001b[0m\u001b[0;34m'study'\u001b[0m\u001b[0;34m)\u001b[0m\u001b[0;34m\u001b[0m\u001b[0;34m\u001b[0m\u001b[0m\n\u001b[1;32m     17\u001b[0m \u001b[0;34m\u001b[0m\u001b[0m\n\u001b[0;32m---> 18\u001b[0;31m \u001b[0mjames\u001b[0m \u001b[0;34m=\u001b[0m \u001b[0mStudent\u001b[0m\u001b[0;34m(\u001b[0m\u001b[0;34m)\u001b[0m\u001b[0;34m\u001b[0m\u001b[0;34m\u001b[0m\u001b[0m\n\u001b[0m\u001b[1;32m     19\u001b[0m \u001b[0mjames\u001b[0m\u001b[0;34m.\u001b[0m\u001b[0mstudy\u001b[0m\u001b[0;34m(\u001b[0m\u001b[0;34m)\u001b[0m\u001b[0;34m\u001b[0m\u001b[0;34m\u001b[0m\u001b[0m\n",
      "\u001b[0;31mTypeError\u001b[0m: Can't instantiate abstract class Student with abstract methods go_to_school"
     ]
    }
   ],
   "source": [
    "# 학생추상클래스 StudentBase를 만들고 , \n",
    "# 이 추상클래스를 상속받아 학생클래스 Student를 만들어 보겠다.\n",
    "from abc import * \n",
    "\n",
    "class StudentBase(metaclass=ABCMeta) :\n",
    "    @abstractmethod \n",
    "    def study(self) :\n",
    "        pass\n",
    "    \n",
    "    @abstractmethod\n",
    "    def go_to_school(self) :\n",
    "        pass\n",
    "    \n",
    "class Student(StudentBase) :\n",
    "    def study(self) :\n",
    "        print('study')\n",
    "        \n",
    "james = Student()\n",
    "james.study() # error : \n",
    "\n"
   ]
  },
  {
   "cell_type": "markdown",
   "metadata": {},
   "source": [
    "- 추상클래스 StudentBase클래스에서 추상메서드로 study, go_to_school정의\n",
    "- StudentBase를 상속받은 Student클래스에서는 study메서드만 구현하고, go_to_school 메서드는 구현하지 않았으므로 에러 발생 \n",
    "- 따라서 추상클래스를 상속받았다면 @abstractmethod가 붙은 추상메서드를 모두 구현해야 한다. "
   ]
  },
  {
   "cell_type": "code",
   "execution_count": 13,
   "metadata": {},
   "outputs": [
    {
     "name": "stdout",
     "output_type": "stream",
     "text": [
      "공부하기\n",
      "학교가기\n"
     ]
    }
   ],
   "source": [
    "from abc import * \n",
    "\n",
    "class StudentBase(metaclass=ABCMeta) :\n",
    "    @abstractmethod\n",
    "    def study(self) :\n",
    "        pass\n",
    "    \n",
    "    @abstractmethod\n",
    "    def go_to_school(self) :\n",
    "        pass\n",
    "    \n",
    "class Student(StudentBase) :\n",
    "    def study(self) :\n",
    "        print('공부하기')\n",
    "        \n",
    "    def go_to_school(self) :\n",
    "        print('학교가기')\n",
    "    \n",
    "james = Student()\n",
    "james.study()\n",
    "james.go_to_school()"
   ]
  },
  {
   "cell_type": "markdown",
   "metadata": {},
   "source": [
    "- 근데 이렇게 해야하는 이유는 뭘까? 추상클래스? 왜 쓰지? \n",
    "\n",
    "- StudentBase는 학생이 반드시 해야하는 일들을 추상 메서드로 만들었습니다. \n",
    "- Student에는 추상클래스 StudenBase의 모든 추상 메서드를 구현하여 학생클래스를 작성했습니다.\n",
    "- 이처럼 추상클래스는 파생 클래스가 반드시 구현해야 하는 메서드를 정해줄 수 있습니다. \n",
    "- 참고로 추상클래스의 추상메서드를 모두 구현했는지 확인하는 시점은 자식클래스가 인스턴스를 만들때 입니다. \n",
    "- 따라서 james = Studnet()에서 확인합니다. "
   ]
  },
  {
   "cell_type": "markdown",
   "metadata": {},
   "source": [
    "### 36.6.1 추상메서드를 빈 메서드로 만드는 이유 \n",
    "- 한가지 중요한 점 추상 클래스는 인스턴스로 만들수 없다는 점이다. \n",
    "- 추상클래스 StudentBase로 인스턴스를 만들면 에러가 발생한다.\n",
    "- 그래서 추상메서드를 만들 때 pass만 넣어서 빈 메서드를 만든것이다. \n",
    "- 왜냐하면 추상클래스는 인스턴스를 만들 수 없으니 추상메서드도 호출할 일이 없기때문이다. "
   ]
  },
  {
   "cell_type": "code",
   "execution_count": 14,
   "metadata": {},
   "outputs": [
    {
     "ename": "TypeError",
     "evalue": "Can't instantiate abstract class StudentBase with abstract methods go_to_school, study",
     "output_type": "error",
     "traceback": [
      "\u001b[0;31m---------------------------------------------------------------------------\u001b[0m",
      "\u001b[0;31mTypeError\u001b[0m                                 Traceback (most recent call last)",
      "\u001b[0;32m<ipython-input-14-fcffb19d946f>\u001b[0m in \u001b[0;36m<module>\u001b[0;34m\u001b[0m\n\u001b[0;32m----> 1\u001b[0;31m \u001b[0mjames\u001b[0m \u001b[0;34m=\u001b[0m \u001b[0mStudentBase\u001b[0m\u001b[0;34m(\u001b[0m\u001b[0;34m)\u001b[0m\u001b[0;34m\u001b[0m\u001b[0;34m\u001b[0m\u001b[0m\n\u001b[0m",
      "\u001b[0;31mTypeError\u001b[0m: Can't instantiate abstract class StudentBase with abstract methods go_to_school, study"
     ]
    }
   ],
   "source": [
    "james = StudentBase()"
   ]
  },
  {
   "cell_type": "markdown",
   "metadata": {},
   "source": [
    "- 추상클래스는 인스턴스로 만들때는 사용하지 않으며 오로지 상속에만 사용한다. \n",
    "- 자식클래스에서 반드시 구현해야할 메서드를 정해줄 때 사용한다. "
   ]
  },
  {
   "cell_type": "code",
   "execution_count": null,
   "metadata": {},
   "outputs": [],
   "source": []
  },
  {
   "cell_type": "code",
   "execution_count": null,
   "metadata": {},
   "outputs": [],
   "source": []
  },
  {
   "cell_type": "code",
   "execution_count": null,
   "metadata": {},
   "outputs": [],
   "source": []
  },
  {
   "cell_type": "code",
   "execution_count": null,
   "metadata": {},
   "outputs": [],
   "source": []
  },
  {
   "cell_type": "code",
   "execution_count": null,
   "metadata": {},
   "outputs": [],
   "source": []
  },
  {
   "cell_type": "code",
   "execution_count": null,
   "metadata": {},
   "outputs": [],
   "source": []
  },
  {
   "cell_type": "code",
   "execution_count": null,
   "metadata": {},
   "outputs": [],
   "source": []
  },
  {
   "cell_type": "code",
   "execution_count": null,
   "metadata": {},
   "outputs": [],
   "source": []
  },
  {
   "cell_type": "code",
   "execution_count": null,
   "metadata": {},
   "outputs": [],
   "source": []
  },
  {
   "cell_type": "code",
   "execution_count": null,
   "metadata": {},
   "outputs": [],
   "source": []
  }
 ],
 "metadata": {
  "kernelspec": {
   "display_name": "Python 3",
   "language": "python",
   "name": "python3"
  },
  "language_info": {
   "codemirror_mode": {
    "name": "ipython",
    "version": 3
   },
   "file_extension": ".py",
   "mimetype": "text/x-python",
   "name": "python",
   "nbconvert_exporter": "python",
   "pygments_lexer": "ipython3",
   "version": "3.8.5"
  }
 },
 "nbformat": 4,
 "nbformat_minor": 4
}
