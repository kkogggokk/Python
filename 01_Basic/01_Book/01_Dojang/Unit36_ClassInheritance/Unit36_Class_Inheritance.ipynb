{
 "cells": [
  {
   "cell_type": "markdown",
   "metadata": {},
   "source": [
    "# Unit36 클래스 상속하기\n",
    "- 클래스 상속 : 기능을 유지한 채 다른 기능을 추가할 때 사용하는 기능\n",
    "- 기능을 물려주는 클래스 : 기반클래스(base class), 부모클래스(parent class), 슈퍼클래스(super class)\n",
    "- 상속을 받아 새롭게 만드는 클래스 : 파생클래스(derived class), 자식클래스(child class), 서브클래스(sub class)\n",
    "- why ? \n",
    "    - 새로운 기능이 필요할 때마다 계속 클래스를 만든다면 중복되는 부분을 반복해서 만들어야 하기때문에 \n",
    "    - 상속을 사용하면 중복된 기능을 만들지 않아도 된다 \n",
    "    - 상속은 기존 기능을 재사용할 수 있어서 효율적\n",
    "- 클래스 상속\n",
    "```python\n",
    "class 기반클래스이름 :\n",
    "    코드\n",
    "class 파생클래스이름(기반클래스이름) :\n",
    "    코드\n",
    "```"
   ]
  },
  {
   "cell_type": "code",
   "execution_count": 2,
   "metadata": {},
   "outputs": [
    {
     "name": "stdout",
     "output_type": "stream",
     "text": [
      "hello\n",
      "study\n"
     ]
    }
   ],
   "source": [
    "class Person :\n",
    "    def greeting(self) :\n",
    "        print('hello')\n",
    "    \n",
    "class Student(Person) :\n",
    "    def study(self) :\n",
    "        print('study')\n",
    "        \n",
    "james = Student()\n",
    "james.greeting() # 기반클래스 Person의 greeting메서드 호출가능 (상속받았기때문) \n",
    "james.study() # 파생클래스 student의 study 메서드 호출"
   ]
  },
  {
   "cell_type": "markdown",
   "metadata": {},
   "source": [
    "- 클래스 상속은 기반클래스의 기능을 유지하면서 새로운 기능을 추가\n",
    "- 클래스 상속은 연관되면서 동등한 기능일 때 사용\n",
    "- 학생은 사람이므로 연관된 개념, 학생은 사람에서 역할만 확장되었을 뿐 동등한 기능"
   ]
  },
  {
   "cell_type": "markdown",
   "metadata": {},
   "source": [
    "### <참고> 상속관계 확인하기\n",
    "- issubclass (자식클래스, 부모클래스)\n",
    "    - 맞으면 True\n",
    "    - 아니면 False"
   ]
  },
  {
   "cell_type": "code",
   "execution_count": 3,
   "metadata": {},
   "outputs": [
    {
     "data": {
      "text/plain": [
       "True"
      ]
     },
     "execution_count": 3,
     "metadata": {},
     "output_type": "execute_result"
    }
   ],
   "source": [
    "class Person :\n",
    "    pass\n",
    "\n",
    "class Student(Person) :\n",
    "    pass\n",
    "\n",
    "issubclass(Student, Person)"
   ]
  },
  {
   "cell_type": "code",
   "execution_count": null,
   "metadata": {},
   "outputs": [],
   "source": []
  },
  {
   "cell_type": "markdown",
   "metadata": {},
   "source": [
    "## 36.2 상속관계와 포함관계 알아보기\n",
    "### 36.2.1 상속관계\n",
    "- 상속은 명확하게 같은 종류이며 동등한 관계일 때 사용한다.\n",
    "- 즉, 학생은 사람이다 했을때 말이 되면 동등한 관계\n",
    "- 상속관계를 영어로 is-a관계라고 한다. (Student is a Person) "
   ]
  },
  {
   "cell_type": "markdown",
   "metadata": {},
   "source": [
    "### 36.2.2 포함관계 "
   ]
  },
  {
   "cell_type": "code",
   "execution_count": null,
   "metadata": {},
   "outputs": [],
   "source": [
    "class Person :\n",
    "    def greeting(self) :\n",
    "        print('hello')\n",
    "        \n",
    "class PersonList :\n",
    "    def __init__(self) :\n",
    "        # 리스트 속성에 Person 인스턴스를 넣어서 관리 \n",
    "        self.person_list = [] \n",
    "        \n",
    "    #리스트 속성에 Person 인스턴스를 추가\n",
    "    def append_person(self, person) :\n",
    "        self.person_list.append(person)"
   ]
  },
  {
   "cell_type": "markdown",
   "metadata": {},
   "source": [
    "- 여기서는 상속을 하지 않고 속성에 인스턴스를 넣어서 관리하므로 PersonList가 Person을 포함하고 있ㄷ.\n",
    "- PersonList와 Person은 동등한 관계가 아니라 포함관계이다.\n",
    "- 즉, 사람목록은 사람을 가지고 있다. \n",
    "- 그래서 포함관계를 has-a관계라고 부른다. \n",
    "- 따라서 같은 종류에 동등한 관계일 때 ⇒ 상속사용\n",
    "- 그 이외에는 속성에 인스턴스를 넣은 포함 방식을 사용"
   ]
  },
  {
   "cell_type": "markdown",
   "metadata": {},
   "source": [
    "## 36.3 기반(부모)클래스의 속성 사용하기\n",
    "- "
   ]
  },
  {
   "cell_type": "code",
   "execution_count": 5,
   "metadata": {},
   "outputs": [
    {
     "name": "stdout",
     "output_type": "stream",
     "text": [
      "Student __init__\n",
      "python coding\n"
     ]
    },
    {
     "ename": "AttributeError",
     "evalue": "'Student' object has no attribute 'hello'",
     "output_type": "error",
     "traceback": [
      "\u001b[0;31m---------------------------------------------------------------------------\u001b[0m",
      "\u001b[0;31mAttributeError\u001b[0m                            Traceback (most recent call last)",
      "\u001b[0;32m<ipython-input-5-14b3765d8f1a>\u001b[0m in \u001b[0;36m<module>\u001b[0;34m\u001b[0m\n\u001b[1;32m     11\u001b[0m \u001b[0mjames\u001b[0m \u001b[0;34m=\u001b[0m \u001b[0mStudent\u001b[0m\u001b[0;34m(\u001b[0m\u001b[0;34m)\u001b[0m\u001b[0;34m\u001b[0m\u001b[0;34m\u001b[0m\u001b[0m\n\u001b[1;32m     12\u001b[0m \u001b[0mprint\u001b[0m\u001b[0;34m(\u001b[0m\u001b[0mjames\u001b[0m\u001b[0;34m.\u001b[0m \u001b[0mschool\u001b[0m\u001b[0;34m)\u001b[0m\u001b[0;34m\u001b[0m\u001b[0;34m\u001b[0m\u001b[0m\n\u001b[0;32m---> 13\u001b[0;31m \u001b[0mprint\u001b[0m\u001b[0;34m(\u001b[0m\u001b[0mjames\u001b[0m\u001b[0;34m.\u001b[0m\u001b[0mhello\u001b[0m\u001b[0;34m)\u001b[0m \u001b[0;31m# error : 부모클래스 Person의 __init__메서드가 호출되지 않았기 때문\u001b[0m\u001b[0;34m\u001b[0m\u001b[0;34m\u001b[0m\u001b[0m\n\u001b[0m",
      "\u001b[0;31mAttributeError\u001b[0m: 'Student' object has no attribute 'hello'"
     ]
    }
   ],
   "source": [
    "class Person :\n",
    "    def __init__(self) :\n",
    "        print('Person __init__')\n",
    "        self.hello = 'hello'\n",
    "        \n",
    "class Student(Person) :\n",
    "    def __init__(self) :\n",
    "        print('Student __init__')\n",
    "        self.school = 'python coding'\n",
    "        \n",
    "james = Student()\n",
    "print(james. school)\n",
    "print(james.hello) # error : 부모클래스 Person의 __init__메서드가 호출되지 않았기 때문"
   ]
  },
  {
   "cell_type": "markdown",
   "metadata": {},
   "source": [
    "### 36.3.1 super()로 부모클래스 초기화 하기 \n",
    "- 이때 super()를 사용해서 기반클래스의 \\_\\_init__메서드를 호출해준다. \n",
    "- super().메서드()"
   ]
  },
  {
   "cell_type": "code",
   "execution_count": 14,
   "metadata": {},
   "outputs": [
    {
     "name": "stdout",
     "output_type": "stream",
     "text": [
      "Student __init__\n",
      "Person __init__\n",
      "python coding\n",
      "hello\n"
     ]
    }
   ],
   "source": [
    "class Person :\n",
    "    def __init__(self) :\n",
    "        print('Person __init__')\n",
    "        self.hello = 'hello'\n",
    "        \n",
    "class Student(Person) :\n",
    "    def __init__(self) :\n",
    "        print('Student __init__')\n",
    "        self.school = 'python coding'\n",
    "        super().__init__() # super()로 부모클래스의 __init__메서드 호출\n",
    "        \n",
    "james = Student() # 출력 : Student __init__, Person __init__\n",
    "print(james. school) # python coding 출력 \n",
    "print(james.hello) # error : 부모클래스 Person의 __init__메서드가 호출되지 않았기 때문"
   ]
  },
  {
   "cell_type": "markdown",
   "metadata": {},
   "source": [
    "### 기반클래스의 속성을 찾는 과정"
   ]
  },
  {
   "cell_type": "code",
   "execution_count": null,
   "metadata": {},
   "outputs": [],
   "source": []
  },
  {
   "cell_type": "markdown",
   "metadata": {},
   "source": [
    "### 36.3.2 기반클래스를 초기화 하지 않아도 되는 경우 \n",
    "- 만약 자식클래스에서 \\_\\_init__ 메서드를 생략한다면 부모클래스의 \\_\\_init__이 자동으로 호출되므로 super()는 사용하지 않아도 된다. "
   ]
  },
  {
   "cell_type": "code",
   "execution_count": 17,
   "metadata": {},
   "outputs": [
    {
     "name": "stdout",
     "output_type": "stream",
     "text": [
      "Person __init__\n",
      "hello\n"
     ]
    }
   ],
   "source": [
    "class Person :\n",
    "    def __init__(self) :\n",
    "        print('Person __init__')\n",
    "        self.hello = 'hello'\n",
    "        \n",
    "class Student(Person) :\n",
    "    pass\n",
    "\n",
    "james = Student() # 'Person __init__' 출력\n",
    "print(james.hello) #'hello' 출력"
   ]
  },
  {
   "cell_type": "markdown",
   "metadata": {},
   "source": [
    "- 파생(자식)클래스에 \\_\\_init__ 메서드가 없다면 기반 클래스의 \\_\\_init__이 자동으로 호출되므로 부모클래스의 속성을 사용할 수 있다. "
   ]
  },
  {
   "cell_type": "markdown",
   "metadata": {},
   "source": [
    "#### <참고> 좀 더 명확하게 super() 사용하기 \n",
    "- super(자식클래스, self).메서드\n",
    "- 자식클래스와 self를 넣어서 현재 클래스가 어떤 클래스인지 명확하기 표시하는 방법이 있다."
   ]
  },
  {
   "cell_type": "code",
   "execution_count": 18,
   "metadata": {},
   "outputs": [],
   "source": [
    "class Student(Person) : \n",
    "    def __init__(self) :\n",
    "        print('Student __init__')\n",
    "        super(Student, self).__init__()\n",
    "        self.school = 'python coding'"
   ]
  },
  {
   "cell_type": "code",
   "execution_count": null,
   "metadata": {},
   "outputs": [],
   "source": []
  },
  {
   "cell_type": "markdown",
   "metadata": {},
   "source": [
    "# 36.4부터 해야함"
   ]
  },
  {
   "cell_type": "code",
   "execution_count": null,
   "metadata": {},
   "outputs": [],
   "source": []
  },
  {
   "cell_type": "code",
   "execution_count": null,
   "metadata": {},
   "outputs": [],
   "source": []
  },
  {
   "cell_type": "code",
   "execution_count": null,
   "metadata": {},
   "outputs": [],
   "source": []
  }
 ],
 "metadata": {
  "kernelspec": {
   "display_name": "Python 3",
   "language": "python",
   "name": "python3"
  },
  "language_info": {
   "codemirror_mode": {
    "name": "ipython",
    "version": 3
   },
   "file_extension": ".py",
   "mimetype": "text/x-python",
   "name": "python",
   "nbconvert_exporter": "python",
   "pygments_lexer": "ipython3",
   "version": "3.8.5"
  }
 },
 "nbformat": 4,
 "nbformat_minor": 4
}
