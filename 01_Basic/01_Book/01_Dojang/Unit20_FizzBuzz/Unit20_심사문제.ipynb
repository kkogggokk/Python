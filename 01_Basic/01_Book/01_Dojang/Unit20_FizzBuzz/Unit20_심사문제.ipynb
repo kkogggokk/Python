{
 "cells": [
  {
   "cell_type": "markdown",
   "metadata": {},
   "source": [
    "## 20.8 심사문제 : 5와 7의 배수, 공배수 처리하기 \n",
    "- 표준입력으로 정수 2개가 입력됩니다. \n",
    "- (첫번째 입력값의 범위는 1 ~ 1000, 두번째 입력값의 범위는 10~1000이며, \n",
    "   - 첫번째 입력값은 두번째 입력값 보다 항상 작다)\n",
    "- 첫번째 정수부터 두번째 정수까지 숫자를 출력하면서 \n",
    "- 5의 배수일때는 'Fizz', 7의 배수일때 'Buzz', 5와 7의 공배수일때 'FizzBuzz'\n"
   ]
  },
  {
   "cell_type": "code",
   "execution_count": 2,
   "metadata": {},
   "outputs": [
    {
     "name": "stdout",
     "output_type": "stream",
     "text": [
      "35 40\n",
      "FizzBuzz\n",
      "36\n",
      "37\n",
      "38\n",
      "39\n",
      "Fizz\n"
     ]
    }
   ],
   "source": [
    "num1, num2 = map(int,input().split())\n",
    "\n",
    "if num1 < num2 : \n",
    "    for i in range(num1, num2+1) : \n",
    "        if i % 35 == 0 :\n",
    "            print('FizzBuzz')\n",
    "        elif i % 5 == 0 :\n",
    "            print('Fizz')\n",
    "        elif i % 7 == 0 :\n",
    "            print('Buzz')\n",
    "        else :\n",
    "            print(i)\n",
    "else :\n",
    "    print('num1이 더 작아야 합니다.')"
   ]
  },
  {
   "cell_type": "code",
   "execution_count": null,
   "metadata": {},
   "outputs": [],
   "source": []
  }
 ],
 "metadata": {
  "kernelspec": {
   "display_name": "Python 3",
   "language": "python",
   "name": "python3"
  },
  "language_info": {
   "codemirror_mode": {
    "name": "ipython",
    "version": 3
   },
   "file_extension": ".py",
   "mimetype": "text/x-python",
   "name": "python",
   "nbconvert_exporter": "python",
   "pygments_lexer": "ipython3",
   "version": "3.8.5"
  }
 },
 "nbformat": 4,
 "nbformat_minor": 4
}
