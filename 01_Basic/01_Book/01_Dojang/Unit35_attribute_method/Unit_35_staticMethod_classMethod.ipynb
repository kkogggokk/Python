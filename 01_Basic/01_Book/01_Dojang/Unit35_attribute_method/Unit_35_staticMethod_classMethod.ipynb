{
 "cells": [
  {
   "cell_type": "markdown",
   "metadata": {},
   "source": [
    "### 35. 클래스 속성과 정적, 클래스 메서드 사용하기\n",
    "## 35.1 클래스 속성과 인스턴스 속성 알아보기\n",
    "- 클래스 속성\n",
    "- 인스턴스 속성 "
   ]
  },
  {
   "cell_type": "markdown",
   "metadata": {},
   "source": [
    "### 35.1.1 클래스 속성 사용하기 \n",
    "- 클래스 속성\n",
    "```python\n",
    "class 클래스이름 :\n",
    "    속성 = 값\n",
    "```"
   ]
  },
  {
   "cell_type": "code",
   "execution_count": 4,
   "metadata": {},
   "outputs": [
    {
     "name": "stdout",
     "output_type": "stream",
     "text": [
      "['book', 'key']\n",
      "['book', 'key']\n"
     ]
    }
   ],
   "source": [
    "# Person클래스에 bag속성을 넣고, put_bag메서드를 만들어 사용\n",
    "\n",
    "class Person :\n",
    "    bag = []\n",
    "    \n",
    "    def put_bag(self, stuff) :\n",
    "        self. bag.append(stuff)\n",
    "        \n",
    "james = Person()\n",
    "james.put_bag('book')\n",
    "\n",
    "maria = Person()\n",
    "maria.put_bag('key')\n",
    "\n",
    "print(james.bag)\n",
    "print(maria.bag)\n",
    "\n",
    "# 결과는 james, maria의 book, key 가 합쳐서 나온다. \n",
    "# 클래스 속성은 클래스에 속해 있으며 모든 인스턴스에서 공유한다. \n",
    "# put_bag 메서드에서 클래스 속성 bag에 접근할 때 self를 사용\n",
    "# self는 현재 인스턴스를 뜻하므로 클래스 속성을 지칭하기에는 모호. "
   ]
  },
  {
   "cell_type": "markdown",
   "metadata": {},
   "source": [
    "#### <참고> 속성, 메서드 이름을 찾는 순서\n",
    "- 파이썬에서는 속성, 메서드 이름을 찾을 때 인스턴스, 클래스 순으로 찾는다. \n",
    "- 인스턴스 속성이 없으면 클래스 속성을 찾게됨 \n",
    "- 인스턴스.\\_\\_dict__ \n",
    "- 클래스.\\_\\_dict__ \n",
    "- 현재 인스턴스와 클래스의 속성을 딕셔너리로 확인할 수 있다."
   ]
  },
  {
   "cell_type": "code",
   "execution_count": 8,
   "metadata": {},
   "outputs": [
    {
     "data": {
      "text/plain": [
       "{}"
      ]
     },
     "execution_count": 8,
     "metadata": {},
     "output_type": "execute_result"
    }
   ],
   "source": [
    "james.__dict__ # 인스턴스 속성? "
   ]
  },
  {
   "cell_type": "code",
   "execution_count": 7,
   "metadata": {},
   "outputs": [
    {
     "data": {
      "text/plain": [
       "mappingproxy({'__module__': '__main__',\n",
       "              'bag': ['book', 'key'],\n",
       "              'put_bag': <function __main__.Person.put_bag(self, stuff)>,\n",
       "              '__dict__': <attribute '__dict__' of 'Person' objects>,\n",
       "              '__weakref__': <attribute '__weakref__' of 'Person' objects>,\n",
       "              '__doc__': None})"
      ]
     },
     "execution_count": 7,
     "metadata": {},
     "output_type": "execute_result"
    }
   ],
   "source": [
    "Person.__dict__ # 클래스 속성"
   ]
  },
  {
   "cell_type": "markdown",
   "metadata": {},
   "source": [
    "- 클래스 속성을 찾는과정\n",
    "\n",
    "\n",
    "\\>\\>\\> james.bag\n",
    "- james.\\_\\_dict__에 bag이 있는지?\n",
    "   - YES : return james.\\_\\_dict__['bag']\n",
    "   - NO :Person.\\_\\_dict__에 bag이 있는지?\n",
    "       - YES : return Person.\\_\\_dict__['bag'] \n",
    "       - NO : AttributeError"
   ]
  },
  {
   "cell_type": "markdown",
   "metadata": {},
   "source": [
    "### 35.1.2 인스턴스 속성 사용하기 \n",
    "- 가방을 여러 사람이 공유 하지 않으려면 어떻게 해야할까?\n",
    "- bag을 인스턴스 속성으로 만들면 된다."
   ]
  },
  {
   "cell_type": "code",
   "execution_count": 9,
   "metadata": {},
   "outputs": [
    {
     "name": "stdout",
     "output_type": "stream",
     "text": [
      "['book']\n",
      "['key']\n"
     ]
    }
   ],
   "source": [
    "class Person :\n",
    "    def __init__(self) :\n",
    "        self.bag = []\n",
    "        \n",
    "    def put_bag(self,stuff) :\n",
    "        self.bag.append(stuff)\n",
    "        \n",
    "james = Person()\n",
    "james.put_bag('book')\n",
    "\n",
    "maria = Person()\n",
    "maria.put_bag('key')\n",
    "\n",
    "print(james.bag)\n",
    "print(maria.bag)"
   ]
  },
  {
   "cell_type": "markdown",
   "metadata": {},
   "source": [
    "- james.bag, maria.bag을 출력하면 각자 넣은 물건만 출력한다.\n",
    "- 인스턴스 속성은 인스턴스 별 독립되어 서로 영향을 주지 않는다.\n",
    "- 클래스 속성 : 모든 인스턴스가 공유. 인스턴스 전체가 사용해야 하는 값을 저장할 때 사용.\n",
    "- 인스턴스 속성 : 인스턴스 별로 독립되어 있음. 각 인스턴스가 값을 따로 저장해야할 때 사용"
   ]
  },
  {
   "cell_type": "markdown",
   "metadata": {},
   "source": [
    "### 35.1.5 비공개 클래스 속성 사용하기\n",
    "- 클래스 속성도 비공개 속성을 만들 수 있다.\n",
    "- 클래스 속성을 만들떼 \\_\\_속성 으로 시작하면 비공개 속성이 된다.\n",
    "- 클래스 안에서만 접근할 수 있고, 클래스 바깥에서는 접근할 수 없다.\n",
    "- 클래스에서 공개하고 싶지 않은 속성이 있다면 비공개 클래스를 사용\n",
    "```python\n",
    "class 클래스이름 :\n",
    "    __속성 = 값\n",
    "```"
   ]
  },
  {
   "cell_type": "code",
   "execution_count": 12,
   "metadata": {},
   "outputs": [
    {
     "name": "stdout",
     "output_type": "stream",
     "text": [
      "10\n"
     ]
    },
    {
     "ename": "AttributeError",
     "evalue": "type object 'Knight' has no attribute '__item_list'",
     "output_type": "error",
     "traceback": [
      "\u001b[0;31m---------------------------------------------------------------------------\u001b[0m",
      "\u001b[0;31mAttributeError\u001b[0m                            Traceback (most recent call last)",
      "\u001b[0;32m<ipython-input-12-31ef98f6f933>\u001b[0m in \u001b[0;36m<module>\u001b[0;34m\u001b[0m\n\u001b[1;32m      8\u001b[0m \u001b[0mx\u001b[0m\u001b[0;34m.\u001b[0m\u001b[0mprint_item_limit\u001b[0m\u001b[0;34m(\u001b[0m\u001b[0;34m)\u001b[0m \u001b[0;31m# 10\u001b[0m\u001b[0;34m\u001b[0m\u001b[0;34m\u001b[0m\u001b[0m\n\u001b[1;32m      9\u001b[0m \u001b[0;34m\u001b[0m\u001b[0m\n\u001b[0;32m---> 10\u001b[0;31m \u001b[0mprint\u001b[0m\u001b[0;34m(\u001b[0m\u001b[0mKnight\u001b[0m\u001b[0;34m.\u001b[0m\u001b[0m__item_list\u001b[0m\u001b[0;34m)\u001b[0m \u001b[0;31m# 클래스 바깥에서는 접근할 수 없음\u001b[0m\u001b[0;34m\u001b[0m\u001b[0;34m\u001b[0m\u001b[0m\n\u001b[0m",
      "\u001b[0;31mAttributeError\u001b[0m: type object 'Knight' has no attribute '__item_list'"
     ]
    }
   ],
   "source": [
    "class Knight :\n",
    "    __item_limit = 10 # 비공개 클래스 속성\n",
    "    \n",
    "    def print_item_limit(self) :\n",
    "        print(Knight.__item_limit) # 클래스 안에서만 접근할 수 있음\n",
    "        \n",
    "x = Knight()\n",
    "x.print_item_limit() # 10\n",
    "\n",
    "print(Knight.__item_list) # 클래스 바깥에서는 접근할 수 없음"
   ]
  },
  {
   "cell_type": "markdown",
   "metadata": {},
   "source": [
    "## 35.2 정적메서드 사용하기\n",
    "- 지금까지 클래스의메서드를 사용할 때 인스턴스를 통해 호출했다.\n",
    "- 이번에는 인스턴스를 통하지 않고 클래스에서 바로 호출할 수 있는 정적메서드와 클래스 메서드에 대해 알아보자.\n",
    "\n",
    "> 정적메서드 \n",
    "- 메서드위에 @staticmethod를 붙인다.\n",
    "- 이때 정적 메서드는 매개변수에 self를 지정하지 않는다.\n",
    "```python\n",
    "class 클래스이름 :\n",
    "    @staticmethod\n",
    "    def 메서드(매개변수1, 매개변수2) : \n",
    "        코드\n",
    "```\n",
    "- @이 붙은 것을 데코레이터라고 한다. "
   ]
  },
  {
   "cell_type": "code",
   "execution_count": 13,
   "metadata": {},
   "outputs": [
    {
     "name": "stdout",
     "output_type": "stream",
     "text": [
      "30\n",
      "200\n"
     ]
    }
   ],
   "source": [
    "# 덧셈과 곱셈을 하는 클래스\n",
    "class Calc :\n",
    "    @staticmethod\n",
    "    def add(a, b) :\n",
    "        print(a + b)\n",
    "        \n",
    "    @staticmethod\n",
    "    def mul(a, b) :\n",
    "        print(a * b)\n",
    "        \n",
    "Calc.add(10, 20) # 클래스에서 바로 메서드 호출\n",
    "Calc.mul(10, 20)"
   ]
  },
  {
   "cell_type": "markdown",
   "metadata": {},
   "source": [
    "- 정적메서드를 호출할 때는 클래스에서 바로 메서드를 호출하면 된다.\n",
    "    - 클래스.메서드()\n",
    "- 정적메서드는 self를 받지 않으므로 인스턴스 속성에는 접근할 수 없다.\n",
    "- 그래서 보통 정적메서드는 인스턴스 속성, 인스턴스 메서드가 필요 없을 때 사용한다. \n",
    "- 무엇으로 정적메서드로 만들어야 할까? 정적 메서드는 메서드의 실행이 외부상태에 영향을 끼치지 않는 순수함수(pure function)를 만들때 사용한다.\n",
    "- 순수함수는 부수효과(side effect)가 없고 입력값이 같으면 언제나 같은 출력 값을 반환한다.\n",
    "- 즉, 정적메서드는 인스턴스의 상태를 변화시키지 않는 메서드를 만들때 사용한다."
   ]
  },
  {
   "cell_type": "code",
   "execution_count": 14,
   "metadata": {},
   "outputs": [
    {
     "data": {
      "text/plain": [
       "{1, 2, 3, 4, 5}"
      ]
     },
     "execution_count": 14,
     "metadata": {},
     "output_type": "execute_result"
    }
   ],
   "source": [
    "a = {1, 2, 3, 4}\n",
    "a.update({5}) # instance method\n",
    "a"
   ]
  },
  {
   "cell_type": "code",
   "execution_count": 15,
   "metadata": {},
   "outputs": [
    {
     "data": {
      "text/plain": [
       "{1, 2, 3, 4, 5}"
      ]
     },
     "execution_count": 15,
     "metadata": {},
     "output_type": "execute_result"
    }
   ],
   "source": [
    "set.union({1, 2, 3, 4},{5}) #정적(클래스) 메서드"
   ]
  },
  {
   "cell_type": "markdown",
   "metadata": {},
   "source": [
    "- 인스턴스의 내용을 변경할 때는 update와 같이 인스턴스 메서드로 작성하면 되고,\n",
    "- 인스턴스 내용과 상관없이 결과만 구하면 될 때는 set.union과 같이 정적메서드로 사용하면 된다. \n",
    "\n",
    "-?? 무슨말??"
   ]
  },
  {
   "cell_type": "markdown",
   "metadata": {},
   "source": [
    "## 35.3 클래스 메서드 사용하기\n",
    "- 클래스메서드는 메서드 위에 @classmethod를 붙인다.\n",
    "- 이때 클래스 메서드는 첫번째 매개변수에 cls를 지정해야 한다. \n",
    "```python\n",
    "class 클래스이름 :\n",
    "    @classmethod\n",
    "    def 메서드(cls, 매개변수1, 매개변수2) :\n",
    "        코드\n",
    "```"
   ]
  },
  {
   "cell_type": "code",
   "execution_count": 16,
   "metadata": {},
   "outputs": [
    {
     "name": "stdout",
     "output_type": "stream",
     "text": [
      "2명 생성되었습니다.\n"
     ]
    }
   ],
   "source": [
    "class Person :\n",
    "    count = 0 #클래스 속성 \n",
    "    \n",
    "    def __init__(self) :\n",
    "        Person.count += 1 #인스턴스가 만들어 질때 클래스 속성 count에 1를 더함\n",
    "        \n",
    "    @classmethod\n",
    "    def print_count(cls) :\n",
    "        print('{0}명 생성되었습니다.'.format(cls.count)) # cls로 클래스 속성에 접근 \n",
    "        \n",
    "james = Person()\n",
    "maris = Person()\n",
    "\n",
    "Person.print_count()"
   ]
  },
  {
   "cell_type": "markdown",
   "metadata": {},
   "source": [
    "- 클래스 메서드는 정적 메서드 처럼 인스턴스 없이 호출할 수 있다는 점은 같습니다. \n",
    "- 하지만 클래스 메서드는 메서드 안에서 클래스 속성, 클래스 메서드에 접근해야할 때 사용합니다.\n",
    "- 특히 cls를 사용하면 메서드 안에서 현태 클래스의 인스턴스를 만들 수도 있습니다.\n",
    "- 즉, cls는 클래스이므로 cls()는 Person()과 같습니다"
   ]
  },
  {
   "cell_type": "code",
   "execution_count": null,
   "metadata": {},
   "outputs": [],
   "source": []
  },
  {
   "cell_type": "code",
   "execution_count": null,
   "metadata": {},
   "outputs": [],
   "source": []
  },
  {
   "cell_type": "code",
   "execution_count": null,
   "metadata": {},
   "outputs": [],
   "source": []
  },
  {
   "cell_type": "code",
   "execution_count": null,
   "metadata": {},
   "outputs": [],
   "source": []
  },
  {
   "cell_type": "code",
   "execution_count": null,
   "metadata": {},
   "outputs": [],
   "source": []
  },
  {
   "cell_type": "code",
   "execution_count": null,
   "metadata": {},
   "outputs": [],
   "source": []
  },
  {
   "cell_type": "code",
   "execution_count": null,
   "metadata": {},
   "outputs": [],
   "source": []
  },
  {
   "cell_type": "code",
   "execution_count": null,
   "metadata": {},
   "outputs": [],
   "source": []
  },
  {
   "cell_type": "code",
   "execution_count": null,
   "metadata": {},
   "outputs": [],
   "source": []
  }
 ],
 "metadata": {
  "kernelspec": {
   "display_name": "Python 3",
   "language": "python",
   "name": "python3"
  },
  "language_info": {
   "codemirror_mode": {
    "name": "ipython",
    "version": 3
   },
   "file_extension": ".py",
   "mimetype": "text/x-python",
   "name": "python",
   "nbconvert_exporter": "python",
   "pygments_lexer": "ipython3",
   "version": "3.8.5"
  }
 },
 "nbformat": 4,
 "nbformat_minor": 4
}
