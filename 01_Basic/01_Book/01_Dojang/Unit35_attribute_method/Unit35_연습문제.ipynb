{
 "cells": [
  {
   "cell_type": "markdown",
   "metadata": {},
   "source": [
    "### 35.5 연습문제 : 날짜 클래스 만들기\n",
    "- is_date_valis는 문자열이 올바른 날짜인지 검사하는 메서드이다.\n",
    "- 날짜에서는 12월까지 일은31일까지 있어야 한다."
   ]
  },
  {
   "cell_type": "code",
   "execution_count": 1,
   "metadata": {},
   "outputs": [
    {
     "name": "stdout",
     "output_type": "stream",
     "text": [
      "올바른 날짜 형식입니다.\n"
     ]
    }
   ],
   "source": [
    "class Date :\n",
    "    def is_date_valid(date_string) :\n",
    "        year, month, day = map(int,date_string.split('-'))\n",
    "        return month <= 12 and day <= 31        \n",
    "    \n",
    "if Date.is_date_valid('2000-10-31') : \n",
    "    print('올바른 날짜 형식입니다.')\n",
    "else : \n",
    "    print('잘못된 날짜 형식입니다.')"
   ]
  },
  {
   "cell_type": "code",
   "execution_count": null,
   "metadata": {},
   "outputs": [],
   "source": []
  },
  {
   "cell_type": "code",
   "execution_count": null,
   "metadata": {},
   "outputs": [],
   "source": []
  }
 ],
 "metadata": {
  "kernelspec": {
   "display_name": "Python 3",
   "language": "python",
   "name": "python3"
  },
  "language_info": {
   "codemirror_mode": {
    "name": "ipython",
    "version": 3
   },
   "file_extension": ".py",
   "mimetype": "text/x-python",
   "name": "python",
   "nbconvert_exporter": "python",
   "pygments_lexer": "ipython3",
   "version": "3.8.5"
  }
 },
 "nbformat": 4,
 "nbformat_minor": 4
}
