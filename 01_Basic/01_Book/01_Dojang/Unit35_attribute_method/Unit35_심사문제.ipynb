{
 "cells": [
  {
   "cell_type": "markdown",
   "metadata": {},
   "source": [
    "표준 입력으로 시:분:초 형식의 시간이 입력됩니다. 다음 소스 코드에서 Time 클래스를 완성하여 시, 분, 초가 출력되게 만드세요. from_string은 문자열로 인스턴스를 만드는 메서드이며 is_time_valid는 문자열이 올바른 시간인지 검사하는 메서드입니다. 시간은 24시까지, 분은 59분까지, 초는 60초까지 있어야 합니다. 정답에 코드를 작성할 때는 class Time:에 맞춰서 들여쓰기를 해주세요."
   ]
  },
  {
   "cell_type": "code",
   "execution_count": 12,
   "metadata": {},
   "outputs": [
    {
     "name": "stdout",
     "output_type": "stream",
     "text": [
      "23:35:59\n",
      "23 35 59\n"
     ]
    }
   ],
   "source": [
    "class Time :\n",
    "    def __init__(self, hour, minute, second) :\n",
    "        self.hour = hour \n",
    "        self.minute = minute\n",
    "        self.second = second \n",
    "    \n",
    "    @staticmethod\n",
    "    def is_time_valid(time_string) : \n",
    "        hour, minute, second = map(int,time_string.split(':'))\n",
    "        return hour <= 24 and minute <= 59 and second <= 60\n",
    "    \n",
    "    @classmethod\n",
    "    def from_string(cls, time_string) :\n",
    "        hour, minute, second = map(int, time_string.split(':'))\n",
    "        time = cls(hour, minute, second)\n",
    "        return time         \n",
    "        \n",
    "time_string = input()\n",
    "if Time.is_time_valid(time_string) :\n",
    "    t = Time.from_string(time_string)\n",
    "    print(t.hour, t.minute, t.second) \n",
    "else :\n",
    "    print('잘못된 시간 형식입니다.')"
   ]
  },
  {
   "cell_type": "markdown",
   "metadata": {},
   "source": [
    "## 해설 \n",
    "Time 클래스에는 인스턴스 속성이 hour, minute, second가 있습니다. Time에 숫자를 넣어서 인스턴스를 만들면 되지만 여기서는 from_string 메서드를 사용하여 문자열로 인스턴스를 만들어야 합니다.\n",
    "\n",
    "from_string 메서드는 Time.from_string처럼 호출하고 있고, 현재 클래스로 인스턴스를 만들어야 하므로 클래스 메서드로 만듭니다. 따라서 메서드 위에 @classmethod를 붙여준 뒤 첫 번째 매개변수에 cls를 지정하고, 두 번째 매개변수로 날짜 문자열 time_string을 지정합니다. 메서드 안에서는 hour, minute, second = map(int, time_string.split(':'))와 같이 ':'로 문자열을 분리한 뒤 int로 변환해서 각 변수에 넣어줍니다. 그다음에는 time = cls(hour, minute, second)와 같이 클래스에 변수를 넣어서 인스턴스를 만듭니다. 여기서 cls(hour, minute, second)는 Time(hour, minute, second)와 같습니다. 그리고 인스턴스는 바깥에서 사용할 수 있도록 return으로 반환해줍니다. 만약 정적 메서드로 만들었다면 cls를 받지 않았으므로 인스턴스를 만들 때는 Time(hour, minute, second)로 만들면 됩니다.\n",
    "\n",
    "is_time_valid 메서드도 Date.is_time_valid처럼 호출하고 있지만, 문자열이 올바른 시간인지 검사만 하면 되고, 클래스에 접근할 필요는 없습니다. 그러므로 정적 메서드로 만듭니다. 먼저 메서드 위에 @staticmethod를 붙여준 뒤 첫 번째 매개변수로 날짜 문자열 time_string을 지정합니다. 메서드 안에서는 hour, minute, second = map(int, time_string.split(':'))와 같이 ':'로 문자열을 분리한 뒤 int로 변환해서 각 변수에 넣어줍니다. 그다음에는 return hour <= 24 and minute <= 59 and second <= 60과 같이 시간이 24 이하이고 분이 59 이하이면서 초가 60 이하인지 검사하고 결과를 반환하도록 만들면 됩니다. 즉, 시, 분, 초 모두 만족하면 True가 반환되고 하나라도 만족하지 않으면 False가 반환됩니다."
   ]
  },
  {
   "cell_type": "code",
   "execution_count": null,
   "metadata": {},
   "outputs": [],
   "source": []
  }
 ],
 "metadata": {
  "kernelspec": {
   "display_name": "Python 3",
   "language": "python",
   "name": "python3"
  },
  "language_info": {
   "codemirror_mode": {
    "name": "ipython",
    "version": 3
   },
   "file_extension": ".py",
   "mimetype": "text/x-python",
   "name": "python",
   "nbconvert_exporter": "python",
   "pygments_lexer": "ipython3",
   "version": "3.8.5"
  }
 },
 "nbformat": 4,
 "nbformat_minor": 4
}
