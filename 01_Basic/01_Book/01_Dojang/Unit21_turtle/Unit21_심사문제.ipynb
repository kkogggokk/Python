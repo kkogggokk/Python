{
 "cells": [
  {
   "cell_type": "markdown",
   "metadata": {},
   "source": [
    "## 21.1 심사문제 : 별그리기 \n",
    "- 표준입력으로 꼭짓점 개수(정수)와 선의길이(정수)가 입력 \n",
    "- 꼭지점 개수의 입력 범위 : 5 ~ 10\n",
    "- 선의 길이 입력범위 : 50 ~ 150\n",
    "- 다음 소스코드를 완성하여 꼭짓점 개수와 선의 길이에 맞는 별이 그려지게 만드세요. \n",
    "- 별을 그릴때는 현재 위치부터 오른쪽으로 이동해서 시작해야 하며 시계방향으로 그려야 합니다. "
   ]
  },
  {
   "cell_type": "code",
   "execution_count": 1,
   "metadata": {},
   "outputs": [
    {
     "name": "stdout",
     "output_type": "stream",
     "text": [
      "6 100\n"
     ]
    }
   ],
   "source": [
    "import turtle as t \n",
    "\n",
    "n, line = map(int,input().split())\n",
    "t.shape('turtle')\n",
    "t.speed('fastest')\n",
    "\n",
    "for i in range(n) : \n",
    "    t.forward(line)\n",
    "    t.right((360/n)*2)\n",
    "    \n",
    "    t.forward(line)\n",
    "    t.left(360/n)"
   ]
  },
  {
   "cell_type": "code",
   "execution_count": null,
   "metadata": {},
   "outputs": [],
   "source": []
  }
 ],
 "metadata": {
  "kernelspec": {
   "display_name": "Python 3",
   "language": "python",
   "name": "python3"
  },
  "language_info": {
   "codemirror_mode": {
    "name": "ipython",
    "version": 3
   },
   "file_extension": ".py",
   "mimetype": "text/x-python",
   "name": "python",
   "nbconvert_exporter": "python",
   "pygments_lexer": "ipython3",
   "version": "3.8.5"
  }
 },
 "nbformat": 4,
 "nbformat_minor": 4
}
