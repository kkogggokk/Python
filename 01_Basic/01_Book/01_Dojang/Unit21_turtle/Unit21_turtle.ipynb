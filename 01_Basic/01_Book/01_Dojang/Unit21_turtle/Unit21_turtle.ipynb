{
 "cells": [
  {
   "cell_type": "markdown",
   "metadata": {},
   "source": [
    "# Unit21. 터틀 그래픽스로 그림그리기\n",
    "## 21.1 사각형 그리기"
   ]
  },
  {
   "cell_type": "code",
   "execution_count": 11,
   "metadata": {},
   "outputs": [],
   "source": [
    "import turtle as t \n",
    "t.shape('turtle')\n",
    "\n",
    "t. forward(100)\n",
    "t.right(90)\n",
    "\n",
    "t.forward(100)\n",
    "t.right(90)\n",
    "\n",
    "t.forward(100)\n",
    "t.right(90)\n",
    "\n",
    "t.forward(100)\n",
    "t.right(90)"
   ]
  },
  {
   "cell_type": "markdown",
   "metadata": {},
   "source": [
    "## 21.2 다각형 그리기"
   ]
  },
  {
   "cell_type": "code",
   "execution_count": 5,
   "metadata": {},
   "outputs": [],
   "source": [
    "import turtle as t \n",
    "\n",
    "t.shape('turtle')\n",
    "for i in range(4) :\n",
    "    t.forward(100)\n",
    "    t.right(90)"
   ]
  },
  {
   "cell_type": "markdown",
   "metadata": {},
   "source": [
    "### 21.2.1 오각형 그리기\n",
    "- 다각형에서 외각의 합은 항상 360 \n",
    "- 오각형은 360/5 "
   ]
  },
  {
   "cell_type": "code",
   "execution_count": 1,
   "metadata": {},
   "outputs": [],
   "source": [
    "import turtle as t \n",
    "\n",
    "t.shape('turtle')\n",
    "\n",
    "for i in range(5) :\n",
    "    t.forward(100)\n",
    "    t.right(360/5)"
   ]
  },
  {
   "cell_type": "markdown",
   "metadata": {},
   "source": [
    "### 21.2.2 다각형 그리기 \n",
    "- 사용자가 숫자를 입력하면 해당 숫자에 해당하는 다각형 그리보기"
   ]
  },
  {
   "cell_type": "code",
   "execution_count": 3,
   "metadata": {},
   "outputs": [
    {
     "name": "stdout",
     "output_type": "stream",
     "text": [
      "12\n"
     ]
    }
   ],
   "source": [
    "import turtle as t \n",
    "\n",
    "t.shape('turtle')\n",
    "\n",
    "n = int(input())\n",
    "\n",
    "for i in range(n):\n",
    "    t.forward(100)\n",
    "    t.right(360/n)"
   ]
  },
  {
   "cell_type": "markdown",
   "metadata": {},
   "source": [
    "### 21.2.3 다각형에 색칠하기 "
   ]
  },
  {
   "cell_type": "code",
   "execution_count": 5,
   "metadata": {},
   "outputs": [],
   "source": [
    "#육각형 만들어 색칠하기 \n",
    "import turtle as t \n",
    "\n",
    "n = 6 \n",
    "t.shape('turtle')\n",
    "t.color('red')\n",
    "t.begin_fill() #색칠할 영역 표시 시작\n",
    "\n",
    "for i in range(n) :\n",
    "    t.forward(100)\n",
    "    t.right(360/n)\n",
    "t.end_fill() # 색칠할 영역 표시 끝 "
   ]
  },
  {
   "cell_type": "markdown",
   "metadata": {},
   "source": [
    "## 21.3 복잡한 도형그리기 "
   ]
  },
  {
   "cell_type": "code",
   "execution_count": 7,
   "metadata": {},
   "outputs": [],
   "source": [
    "# 원그리기 : circle \n",
    "t.circle(120)"
   ]
  },
  {
   "cell_type": "markdown",
   "metadata": {},
   "source": [
    "### 21.3.1 원을 반복해서 그리기"
   ]
  },
  {
   "cell_type": "code",
   "execution_count": 9,
   "metadata": {},
   "outputs": [],
   "source": [
    "import turtle as t \n",
    "\n",
    "n = 60 # 원을 60번 그림 \n",
    "t.shape('turtle')\n",
    "t.speed('fastest')\n",
    "for i in range(n) :\n",
    "    t.circle(120) \n",
    "    t.right(360/n)"
   ]
  },
  {
   "cell_type": "markdown",
   "metadata": {},
   "source": [
    "### 21.3.2 선으로 복잡한 무늬 그리기 "
   ]
  },
  {
   "cell_type": "code",
   "execution_count": 12,
   "metadata": {},
   "outputs": [],
   "source": [
    "import turtle as t \n",
    "\n",
    "t.shape('turtle')\n",
    "t.speed('fastest')\n",
    "\n",
    "t.color('blue')\n",
    "\n",
    "for i in range(300) :\n",
    "    t.forward(i)\n",
    "    t.right(91)"
   ]
  },
  {
   "cell_type": "code",
   "execution_count": null,
   "metadata": {},
   "outputs": [],
   "source": [
    "t.color('green')\n",
    "t.begin_fill"
   ]
  },
  {
   "cell_type": "code",
   "execution_count": null,
   "metadata": {},
   "outputs": [],
   "source": []
  }
 ],
 "metadata": {
  "kernelspec": {
   "display_name": "Python 3",
   "language": "python",
   "name": "python3"
  },
  "language_info": {
   "codemirror_mode": {
    "name": "ipython",
    "version": 3
   },
   "file_extension": ".py",
   "mimetype": "text/x-python",
   "name": "python",
   "nbconvert_exporter": "python",
   "pygments_lexer": "ipython3",
   "version": "3.8.5"
  }
 },
 "nbformat": 4,
 "nbformat_minor": 4
}
