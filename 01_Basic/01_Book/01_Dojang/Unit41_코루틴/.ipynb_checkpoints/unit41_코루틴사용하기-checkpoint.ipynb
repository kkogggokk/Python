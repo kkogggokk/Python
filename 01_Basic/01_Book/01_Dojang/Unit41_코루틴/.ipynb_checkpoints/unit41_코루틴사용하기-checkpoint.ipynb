{
 "cells": [
  {
   "cell_type": "code",
   "execution_count": 2,
   "metadata": {},
   "outputs": [
    {
     "name": "stdout",
     "output_type": "stream",
     "text": [
      "50 100\n",
      "<class 'generator'>\n"
     ]
    }
   ],
   "source": [
    "def prime_number_generator(start, stop) :\n",
    "   \n",
    "    for n in range(start, stop) :\n",
    "         is_prime = True \n",
    "            \n",
    "        for i in range(2, n+1) :\n",
    "            if n % i == 0 :\n",
    "                is_prime = False\n",
    "        if is_prime == True :\n",
    "            yield n\n",
    "\n",
    "start, stop = map(int, input().split())\n",
    "\n",
    "g = prime_number_generator(start, stop)\n",
    "print(type(g))\n",
    "for i in g :\n",
    "    print(i, end=' ')"
   ]
  },
  {
   "cell_type": "code",
   "execution_count": null,
   "metadata": {},
   "outputs": [],
   "source": []
  }
 ],
 "metadata": {
  "kernelspec": {
   "display_name": "Python 3",
   "language": "python",
   "name": "python3"
  },
  "language_info": {
   "codemirror_mode": {
    "name": "ipython",
    "version": 3
   },
   "file_extension": ".py",
   "mimetype": "text/x-python",
   "name": "python",
   "nbconvert_exporter": "python",
   "pygments_lexer": "ipython3",
   "version": "3.8.5"
  }
 },
 "nbformat": 4,
 "nbformat_minor": 4
}
