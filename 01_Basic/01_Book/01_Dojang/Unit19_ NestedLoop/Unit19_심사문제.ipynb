{
 "cells": [
  {
   "cell_type": "markdown",
   "metadata": {},
   "source": [
    "## 19.6 심사문제 : 산 모양으로 별 출력하기\n",
    "- 표준입력으로 삼각형의 높이가 입력됩니다.\n",
    "- 입력된 높이만큼 산 모양으로 별을 출력하는 프로그램을 만드세요.\n",
    "- 이때 출력 결과는 예제와 정확히 일치해야 합니다.\n",
    "- 모양이 같더라도 공백이나 빈 줄이 더 들어가면 틀린것으로 처리됩니다."
   ]
  },
  {
   "cell_type": "code",
   "execution_count": null,
   "metadata": {},
   "outputs": [],
   "source": [
    "h = int(input())\n",
    "\n",
    "for i in range(h) : \n",
    "    for j in range(j) :\n",
    "        if                                                                                      "
   ]
  }
 ],
 "metadata": {
  "kernelspec": {
   "display_name": "Python 3",
   "language": "python",
   "name": "python3"
  },
  "language_info": {
   "codemirror_mode": {
    "name": "ipython",
    "version": 3
   },
   "file_extension": ".py",
   "mimetype": "text/x-python",
   "name": "python",
   "nbconvert_exporter": "python",
   "pygments_lexer": "ipython3",
   "version": "3.8.5"
  }
 },
 "nbformat": 4,
 "nbformat_minor": 4
}
