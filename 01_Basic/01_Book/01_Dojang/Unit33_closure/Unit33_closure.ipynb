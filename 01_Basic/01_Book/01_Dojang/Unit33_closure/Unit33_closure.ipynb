{
 "cells": [
  {
   "cell_type": "markdown",
   "metadata": {},
   "source": [
    "# 33.클로저 사용하기 \n",
    "## 33.1 변수의 사용범위 알아보기 \n",
    "- 전역변수 (global variable) : 함수를 포함하여 스크립트 전체에서 접근 할 수 있는 변수\n",
    "    - 전역범위(global scope) : 전역변수에 접근할 수 있는 범위"
   ]
  },
  {
   "cell_type": "code",
   "execution_count": 3,
   "metadata": {},
   "outputs": [
    {
     "name": "stdout",
     "output_type": "stream",
     "text": [
      "10\n",
      "10\n"
     ]
    }
   ],
   "source": [
    "x = 10  # 전역변수 \n",
    "def foo() : \n",
    "    print(x) # 전역변수 출력 \n",
    "    \n",
    "foo()\n",
    "print(x)"
   ]
  },
  {
   "cell_type": "code",
   "execution_count": 1,
   "metadata": {},
   "outputs": [
    {
     "name": "stdout",
     "output_type": "stream",
     "text": [
      "10\n"
     ]
    },
    {
     "ename": "NameError",
     "evalue": "name 'x' is not defined",
     "output_type": "error",
     "traceback": [
      "\u001b[0;31m---------------------------------------------------------------------------\u001b[0m",
      "\u001b[0;31mNameError\u001b[0m                                 Traceback (most recent call last)",
      "\u001b[0;32m<ipython-input-1-abd375a75551>\u001b[0m in \u001b[0;36m<module>\u001b[0;34m\u001b[0m\n\u001b[1;32m      5\u001b[0m \u001b[0;34m\u001b[0m\u001b[0m\n\u001b[1;32m      6\u001b[0m \u001b[0mfoo\u001b[0m\u001b[0;34m(\u001b[0m\u001b[0;34m)\u001b[0m\u001b[0;34m\u001b[0m\u001b[0;34m\u001b[0m\u001b[0m\n\u001b[0;32m----> 7\u001b[0;31m \u001b[0mprint\u001b[0m\u001b[0;34m(\u001b[0m\u001b[0mx\u001b[0m\u001b[0;34m)\u001b[0m \u001b[0;31m# error : foo의 지역변수는 출력할 수 없음\u001b[0m\u001b[0;34m\u001b[0m\u001b[0;34m\u001b[0m\u001b[0m\n\u001b[0m",
      "\u001b[0;31mNameError\u001b[0m: name 'x' is not defined"
     ]
    }
   ],
   "source": [
    "# 변수 x를 함수 foo안에서 만들면 어떻게 될까?\n",
    "def foo() :\n",
    "    x = 10 #\n",
    "    print(x) \n",
    "    \n",
    "foo()\n",
    "print(x) # error : foo의 지역변수는 출력할 수 없음 "
   ]
  },
  {
   "cell_type": "code",
   "execution_count": 2,
   "metadata": {},
   "outputs": [
    {
     "name": "stdout",
     "output_type": "stream",
     "text": [
      "20\n",
      "10\n"
     ]
    }
   ],
   "source": [
    "### 33.1.1 함수 안에서 전역변수 변경하기 \n",
    "x = 10 \n",
    "def foo() : \n",
    "    x = 20 \n",
    "    print(x) \n",
    "    \n",
    "foo()\n",
    "print(x)"
   ]
  },
  {
   "cell_type": "markdown",
   "metadata": {},
   "source": [
    "- 함수안에서 전역변수의 값을 변경하려면 global 키워드를 사용해야 한다. \n",
    "- global 전역변수 "
   ]
  },
  {
   "cell_type": "code",
   "execution_count": 3,
   "metadata": {},
   "outputs": [
    {
     "name": "stdout",
     "output_type": "stream",
     "text": [
      "20\n",
      "20\n"
     ]
    }
   ],
   "source": [
    "x = 10 \n",
    "def foo() :\n",
    "    global x \n",
    "    x = 20 \n",
    "    print(x)\n",
    "    \n",
    "foo()\n",
    "print(x) # 전역변수 x=20 출력 "
   ]
  },
  {
   "cell_type": "markdown",
   "metadata": {},
   "source": [
    "#### 네임스페이스 \n",
    "- 변수는 네임스페이스(이름공간)에 저장된다.\n",
    "- locals함수를 사용하면 현재 네임스페이스를 딕셔너리 형태로 출력 할 수 있다. "
   ]
  },
  {
   "cell_type": "code",
   "execution_count": 5,
   "metadata": {},
   "outputs": [
    {
     "data": {
      "text/plain": [
       "{'__name__': '__main__',\n",
       " '__doc__': 'Automatically created module for IPython interactive environment',\n",
       " '__package__': None,\n",
       " '__loader__': None,\n",
       " '__spec__': None,\n",
       " '__builtin__': <module 'builtins' (built-in)>,\n",
       " '__builtins__': <module 'builtins' (built-in)>,\n",
       " '_ih': ['',\n",
       "  '# 변수 x를 함수 foo안에서 만들면 어떻게 될까?\\ndef foo() :\\n    x = 10 #\\n    print(x) \\n    \\nfoo()\\nprint(x) # error : foo의 지역변수는 출력할 수 없음 ',\n",
       "  '### 33.1.1 함수 안에서 전역변수 변경하기 \\nx = 10 \\ndef foo() : \\n    x = 20 \\n    print(x) \\n    \\nfoo()\\nprint(x)',\n",
       "  'x = 10 \\ndef foo() :\\n    global x \\n    x = 20 \\n    print(x)\\n    \\nfoo()\\nprint(x) # 전역변수 x=20 출력 ',\n",
       "  '#네임스페이스 \\n- 변수는 네임스페이스(이름공간)에 저장된다.\\n- locals함수를 사용하면 현재 네임스페이스를 딕셔너리 형태로 출력 할 수 있다. ',\n",
       "  'x = 10 \\nlocals()'],\n",
       " '_oh': {},\n",
       " '_dh': ['/Users/master90/Github/Python/01_Basic/01_Book/01_Dojang/Unit33_closure'],\n",
       " 'In': ['',\n",
       "  '# 변수 x를 함수 foo안에서 만들면 어떻게 될까?\\ndef foo() :\\n    x = 10 #\\n    print(x) \\n    \\nfoo()\\nprint(x) # error : foo의 지역변수는 출력할 수 없음 ',\n",
       "  '### 33.1.1 함수 안에서 전역변수 변경하기 \\nx = 10 \\ndef foo() : \\n    x = 20 \\n    print(x) \\n    \\nfoo()\\nprint(x)',\n",
       "  'x = 10 \\ndef foo() :\\n    global x \\n    x = 20 \\n    print(x)\\n    \\nfoo()\\nprint(x) # 전역변수 x=20 출력 ',\n",
       "  '#네임스페이스 \\n- 변수는 네임스페이스(이름공간)에 저장된다.\\n- locals함수를 사용하면 현재 네임스페이스를 딕셔너리 형태로 출력 할 수 있다. ',\n",
       "  'x = 10 \\nlocals()'],\n",
       " 'Out': {},\n",
       " 'get_ipython': <bound method InteractiveShell.get_ipython of <ipykernel.zmqshell.ZMQInteractiveShell object at 0x7fd80b77a9d0>>,\n",
       " 'exit': <IPython.core.autocall.ZMQExitAutocall at 0x7fd80b7ded60>,\n",
       " 'quit': <IPython.core.autocall.ZMQExitAutocall at 0x7fd80b7ded60>,\n",
       " '_': '',\n",
       " '__': '',\n",
       " '___': '',\n",
       " '_i': '#네임스페이스 \\n- 변수는 네임스페이스(이름공간)에 저장된다.\\n- locals함수를 사용하면 현재 네임스페이스를 딕셔너리 형태로 출력 할 수 있다. ',\n",
       " '_ii': 'x = 10 \\ndef foo() :\\n    global x \\n    x = 20 \\n    print(x)\\n    \\nfoo()\\nprint(x) # 전역변수 x=20 출력 ',\n",
       " '_iii': '### 33.1.1 함수 안에서 전역변수 변경하기 \\nx = 10 \\ndef foo() : \\n    x = 20 \\n    print(x) \\n    \\nfoo()\\nprint(x)',\n",
       " '_i1': '# 변수 x를 함수 foo안에서 만들면 어떻게 될까?\\ndef foo() :\\n    x = 10 #\\n    print(x) \\n    \\nfoo()\\nprint(x) # error : foo의 지역변수는 출력할 수 없음 ',\n",
       " 'foo': <function __main__.foo()>,\n",
       " '_i2': '### 33.1.1 함수 안에서 전역변수 변경하기 \\nx = 10 \\ndef foo() : \\n    x = 20 \\n    print(x) \\n    \\nfoo()\\nprint(x)',\n",
       " 'x': 10,\n",
       " '_i3': 'x = 10 \\ndef foo() :\\n    global x \\n    x = 20 \\n    print(x)\\n    \\nfoo()\\nprint(x) # 전역변수 x=20 출력 ',\n",
       " '_i4': '#네임스페이스 \\n- 변수는 네임스페이스(이름공간)에 저장된다.\\n- locals함수를 사용하면 현재 네임스페이스를 딕셔너리 형태로 출력 할 수 있다. ',\n",
       " '_i5': 'x = 10 \\nlocals()'}"
      ]
     },
     "execution_count": 5,
     "metadata": {},
     "output_type": "execute_result"
    }
   ],
   "source": [
    "x = 10 \n",
    "locals()"
   ]
  },
  {
   "cell_type": "code",
   "execution_count": 7,
   "metadata": {},
   "outputs": [],
   "source": [
    "def foo() : \n",
    "    x = 10 \n",
    "    print(locals())"
   ]
  },
  {
   "cell_type": "code",
   "execution_count": 8,
   "metadata": {},
   "outputs": [
    {
     "name": "stdout",
     "output_type": "stream",
     "text": [
      "{'x': 10}\n"
     ]
    }
   ],
   "source": [
    "foo()"
   ]
  },
  {
   "cell_type": "markdown",
   "metadata": {},
   "source": [
    "## 33.2 함수 안에서 함수 만들기 "
   ]
  },
  {
   "cell_type": "code",
   "execution_count": 9,
   "metadata": {},
   "outputs": [
    {
     "name": "stdout",
     "output_type": "stream",
     "text": [
      "hello,world!\n"
     ]
    }
   ],
   "source": [
    "def print_hello() : \n",
    "    hello = 'hello,world!'\n",
    "    \n",
    "    def print_message() :\n",
    "        print(hello)\n",
    "    print_message()\n",
    "    \n",
    "print_hello()"
   ]
  },
  {
   "cell_type": "code",
   "execution_count": null,
   "metadata": {},
   "outputs": [],
   "source": []
  }
 ],
 "metadata": {
  "kernelspec": {
   "display_name": "Python 3",
   "language": "python",
   "name": "python3"
  },
  "language_info": {
   "codemirror_mode": {
    "name": "ipython",
    "version": 3
   },
   "file_extension": ".py",
   "mimetype": "text/x-python",
   "name": "python",
   "nbconvert_exporter": "python",
   "pygments_lexer": "ipython3",
   "version": "3.8.5"
  }
 },
 "nbformat": 4,
 "nbformat_minor": 4
}
