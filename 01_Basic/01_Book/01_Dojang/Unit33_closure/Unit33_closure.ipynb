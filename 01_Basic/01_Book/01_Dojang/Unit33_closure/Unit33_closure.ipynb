{
 "cells": [
  {
   "cell_type": "markdown",
   "metadata": {},
   "source": [
    "# 33.클로저 사용하기 \n",
    "## 33.1 변수의 사용범위 알아보기 \n",
    "- 전역변수 (global variable) : 함수를 포함하여 스크립트 전체에서 접근 할 수 있는 변수\n",
    "    - 전역범위(global scope) : 전역변수에 접근할 수 있는 범위"
   ]
  },
  {
   "cell_type": "code",
   "execution_count": 3,
   "metadata": {},
   "outputs": [
    {
     "name": "stdout",
     "output_type": "stream",
     "text": [
      "10\n",
      "10\n"
     ]
    }
   ],
   "source": [
    "x = 10  # 전역변수 \n",
    "def foo() : \n",
    "    print(x) # 전역변수 출력 \n",
    "    \n",
    "foo()\n",
    "print(x)"
   ]
  },
  {
   "cell_type": "code",
   "execution_count": 1,
   "metadata": {},
   "outputs": [
    {
     "name": "stdout",
     "output_type": "stream",
     "text": [
      "10\n"
     ]
    },
    {
     "ename": "NameError",
     "evalue": "name 'x' is not defined",
     "output_type": "error",
     "traceback": [
      "\u001b[0;31m---------------------------------------------------------------------------\u001b[0m",
      "\u001b[0;31mNameError\u001b[0m                                 Traceback (most recent call last)",
      "\u001b[0;32m<ipython-input-1-abd375a75551>\u001b[0m in \u001b[0;36m<module>\u001b[0;34m\u001b[0m\n\u001b[1;32m      5\u001b[0m \u001b[0;34m\u001b[0m\u001b[0m\n\u001b[1;32m      6\u001b[0m \u001b[0mfoo\u001b[0m\u001b[0;34m(\u001b[0m\u001b[0;34m)\u001b[0m\u001b[0;34m\u001b[0m\u001b[0;34m\u001b[0m\u001b[0m\n\u001b[0;32m----> 7\u001b[0;31m \u001b[0mprint\u001b[0m\u001b[0;34m(\u001b[0m\u001b[0mx\u001b[0m\u001b[0;34m)\u001b[0m \u001b[0;31m# error : foo의 지역변수는 출력할 수 없음\u001b[0m\u001b[0;34m\u001b[0m\u001b[0;34m\u001b[0m\u001b[0m\n\u001b[0m",
      "\u001b[0;31mNameError\u001b[0m: name 'x' is not defined"
     ]
    }
   ],
   "source": [
    "# 변수 x를 함수 foo안에서 만들면 어떻게 될까?\n",
    "def foo() :\n",
    "    x = 10 #\n",
    "    print(x) \n",
    "    \n",
    "foo()\n",
    "print(x) # error : foo의 지역변수는 출력할 수 없음 "
   ]
  },
  {
   "cell_type": "code",
   "execution_count": 2,
   "metadata": {},
   "outputs": [
    {
     "name": "stdout",
     "output_type": "stream",
     "text": [
      "20\n",
      "10\n"
     ]
    }
   ],
   "source": [
    "### 33.1.1 함수 안에서 전역변수 변경하기 \n",
    "x = 10 \n",
    "def foo() : \n",
    "    x = 20 \n",
    "    print(x) \n",
    "    \n",
    "foo()\n",
    "print(x)"
   ]
  },
  {
   "cell_type": "markdown",
   "metadata": {},
   "source": [
    "- 함수안에서 전역변수의 값을 변경하려면 global 키워드를 사용해야 한다. \n",
    "- global 전역변수 "
   ]
  },
  {
   "cell_type": "code",
   "execution_count": 3,
   "metadata": {},
   "outputs": [
    {
     "name": "stdout",
     "output_type": "stream",
     "text": [
      "20\n",
      "20\n"
     ]
    }
   ],
   "source": [
    "x = 10 \n",
    "def foo() :\n",
    "    global x \n",
    "    x = 20 \n",
    "    print(x)\n",
    "    \n",
    "foo()\n",
    "print(x) # 전역변수 x=20 출력 "
   ]
  },
  {
   "cell_type": "markdown",
   "metadata": {},
   "source": [
    "#### 네임스페이스 \n",
    "- 변수는 네임스페이스(이름공간)에 저장된다.\n",
    "- locals함수를 사용하면 현재 네임스페이스를 딕셔너리 형태로 출력 할 수 있다. "
   ]
  },
  {
   "cell_type": "code",
   "execution_count": 5,
   "metadata": {},
   "outputs": [
    {
     "data": {
      "text/plain": [
       "{'__name__': '__main__',\n",
       " '__doc__': 'Automatically created module for IPython interactive environment',\n",
       " '__package__': None,\n",
       " '__loader__': None,\n",
       " '__spec__': None,\n",
       " '__builtin__': <module 'builtins' (built-in)>,\n",
       " '__builtins__': <module 'builtins' (built-in)>,\n",
       " '_ih': ['',\n",
       "  '# 변수 x를 함수 foo안에서 만들면 어떻게 될까?\\ndef foo() :\\n    x = 10 #\\n    print(x) \\n    \\nfoo()\\nprint(x) # error : foo의 지역변수는 출력할 수 없음 ',\n",
       "  '### 33.1.1 함수 안에서 전역변수 변경하기 \\nx = 10 \\ndef foo() : \\n    x = 20 \\n    print(x) \\n    \\nfoo()\\nprint(x)',\n",
       "  'x = 10 \\ndef foo() :\\n    global x \\n    x = 20 \\n    print(x)\\n    \\nfoo()\\nprint(x) # 전역변수 x=20 출력 ',\n",
       "  '#네임스페이스 \\n- 변수는 네임스페이스(이름공간)에 저장된다.\\n- locals함수를 사용하면 현재 네임스페이스를 딕셔너리 형태로 출력 할 수 있다. ',\n",
       "  'x = 10 \\nlocals()'],\n",
       " '_oh': {},\n",
       " '_dh': ['/Users/master90/Github/Python/01_Basic/01_Book/01_Dojang/Unit33_closure'],\n",
       " 'In': ['',\n",
       "  '# 변수 x를 함수 foo안에서 만들면 어떻게 될까?\\ndef foo() :\\n    x = 10 #\\n    print(x) \\n    \\nfoo()\\nprint(x) # error : foo의 지역변수는 출력할 수 없음 ',\n",
       "  '### 33.1.1 함수 안에서 전역변수 변경하기 \\nx = 10 \\ndef foo() : \\n    x = 20 \\n    print(x) \\n    \\nfoo()\\nprint(x)',\n",
       "  'x = 10 \\ndef foo() :\\n    global x \\n    x = 20 \\n    print(x)\\n    \\nfoo()\\nprint(x) # 전역변수 x=20 출력 ',\n",
       "  '#네임스페이스 \\n- 변수는 네임스페이스(이름공간)에 저장된다.\\n- locals함수를 사용하면 현재 네임스페이스를 딕셔너리 형태로 출력 할 수 있다. ',\n",
       "  'x = 10 \\nlocals()'],\n",
       " 'Out': {},\n",
       " 'get_ipython': <bound method InteractiveShell.get_ipython of <ipykernel.zmqshell.ZMQInteractiveShell object at 0x7fd80b77a9d0>>,\n",
       " 'exit': <IPython.core.autocall.ZMQExitAutocall at 0x7fd80b7ded60>,\n",
       " 'quit': <IPython.core.autocall.ZMQExitAutocall at 0x7fd80b7ded60>,\n",
       " '_': '',\n",
       " '__': '',\n",
       " '___': '',\n",
       " '_i': '#네임스페이스 \\n- 변수는 네임스페이스(이름공간)에 저장된다.\\n- locals함수를 사용하면 현재 네임스페이스를 딕셔너리 형태로 출력 할 수 있다. ',\n",
       " '_ii': 'x = 10 \\ndef foo() :\\n    global x \\n    x = 20 \\n    print(x)\\n    \\nfoo()\\nprint(x) # 전역변수 x=20 출력 ',\n",
       " '_iii': '### 33.1.1 함수 안에서 전역변수 변경하기 \\nx = 10 \\ndef foo() : \\n    x = 20 \\n    print(x) \\n    \\nfoo()\\nprint(x)',\n",
       " '_i1': '# 변수 x를 함수 foo안에서 만들면 어떻게 될까?\\ndef foo() :\\n    x = 10 #\\n    print(x) \\n    \\nfoo()\\nprint(x) # error : foo의 지역변수는 출력할 수 없음 ',\n",
       " 'foo': <function __main__.foo()>,\n",
       " '_i2': '### 33.1.1 함수 안에서 전역변수 변경하기 \\nx = 10 \\ndef foo() : \\n    x = 20 \\n    print(x) \\n    \\nfoo()\\nprint(x)',\n",
       " 'x': 10,\n",
       " '_i3': 'x = 10 \\ndef foo() :\\n    global x \\n    x = 20 \\n    print(x)\\n    \\nfoo()\\nprint(x) # 전역변수 x=20 출력 ',\n",
       " '_i4': '#네임스페이스 \\n- 변수는 네임스페이스(이름공간)에 저장된다.\\n- locals함수를 사용하면 현재 네임스페이스를 딕셔너리 형태로 출력 할 수 있다. ',\n",
       " '_i5': 'x = 10 \\nlocals()'}"
      ]
     },
     "execution_count": 5,
     "metadata": {},
     "output_type": "execute_result"
    }
   ],
   "source": [
    "x = 10 \n",
    "locals()"
   ]
  },
  {
   "cell_type": "code",
   "execution_count": 7,
   "metadata": {},
   "outputs": [],
   "source": [
    "def foo() : \n",
    "    x = 10 \n",
    "    print(locals())"
   ]
  },
  {
   "cell_type": "code",
   "execution_count": 8,
   "metadata": {},
   "outputs": [
    {
     "name": "stdout",
     "output_type": "stream",
     "text": [
      "{'x': 10}\n"
     ]
    }
   ],
   "source": [
    "foo()"
   ]
  },
  {
   "cell_type": "markdown",
   "metadata": {},
   "source": [
    "## 33.2 함수 안에서 함수 만들기 "
   ]
  },
  {
   "cell_type": "code",
   "execution_count": 9,
   "metadata": {},
   "outputs": [
    {
     "name": "stdout",
     "output_type": "stream",
     "text": [
      "hello,world!\n"
     ]
    }
   ],
   "source": [
    "def print_hello() : \n",
    "    hello = 'hello,world!'\n",
    "    \n",
    "    def print_message() :\n",
    "        print(hello)\n",
    "    print_message() # ? \n",
    "    \n",
    "print_hello()"
   ]
  },
  {
   "cell_type": "markdown",
   "metadata": {},
   "source": [
    "### 33.2.1 지역변수의 범위 "
   ]
  },
  {
   "cell_type": "code",
   "execution_count": 10,
   "metadata": {},
   "outputs": [],
   "source": [
    "def print_all() : \n",
    "    hello = 'hello,world'\n",
    "    \n",
    "    def print_message() :\n",
    "        print(hello) #바깥함수의 지역변수를 사용 "
   ]
  },
  {
   "cell_type": "markdown",
   "metadata": {},
   "source": [
    "### 33.2.2 지역변수 변경하기 \n",
    "- 바깥쪽 함수의 지역변수를 안쪽 함수에서 변경하면 어떻게 될까?\n",
    "- 파이썬에서는 함수에서 변수를 만들면 항상 현재 함수의 지역변수가 됩니다."
   ]
  },
  {
   "cell_type": "code",
   "execution_count": 11,
   "metadata": {},
   "outputs": [
    {
     "name": "stdout",
     "output_type": "stream",
     "text": [
      "10\n"
     ]
    }
   ],
   "source": [
    "def A() :\n",
    "    x = 10\n",
    "    def B() :\n",
    "        x = 20 \n",
    "        \n",
    "    B()\n",
    "    print(x) #  A()지역변수 x = 10 출력 \n",
    "\n",
    "A()"
   ]
  },
  {
   "cell_type": "markdown",
   "metadata": {},
   "source": [
    "- 현재 함수의 바깥쪽에 있는 지역변수의 값을 변경하려면 : nonlocal 키워드 사용 \n",
    "- nonlocal 지역변수 "
   ]
  },
  {
   "cell_type": "code",
   "execution_count": 12,
   "metadata": {},
   "outputs": [
    {
     "name": "stdout",
     "output_type": "stream",
     "text": [
      "20\n"
     ]
    }
   ],
   "source": [
    "def A() :\n",
    "    x = 10 \n",
    "    def B() :\n",
    "        nonlocal x \n",
    "        x = 20 #A() x = 20 할당 \n",
    "    \n",
    "    B()\n",
    "    print(x) # A() 지역변수 출력 x  = 20 \n",
    "\n",
    "A() "
   ]
  },
  {
   "cell_type": "markdown",
   "metadata": {},
   "source": [
    "### 33.2.3 nonlocal이 변수를 찾는 순서 \n",
    "- nonlocal은 현재함수의 바깥쪽에 있는 지역변수를 찾을 때 가장 가까운 함수부터 먼저 찾습니다.\n",
    "- 가까운 함수부터 지역변수를 찾고, 지역변수가 없으면 계속 바깥쪽으로 나가서 찾습니다."
   ]
  },
  {
   "cell_type": "code",
   "execution_count": 14,
   "metadata": {},
   "outputs": [
    {
     "name": "stdout",
     "output_type": "stream",
     "text": [
      "50\n",
      "400\n"
     ]
    }
   ],
   "source": [
    "def A() : \n",
    "    x = 10\n",
    "    y = 100\n",
    "    \n",
    "    def B() : \n",
    "        x = 20\n",
    "        \n",
    "        def C() :\n",
    "            nonlocal x \n",
    "            nonlocal y \n",
    "            \n",
    "            x = x + 30\n",
    "            y = y + 300 \n",
    "            \n",
    "            print(x)\n",
    "            print(y)\n",
    "            \n",
    "        C()\n",
    "    B()\n",
    "A()"
   ]
  },
  {
   "cell_type": "markdown",
   "metadata": {},
   "source": [
    "### 3.2.4 global로 전역변수 사용하기 \n",
    "- global키워드를 사용하면 무조건 전역변수를 사용하게 된다. \n",
    "- 함수에서 값을 주고 받을때는 매개변수와 반환값을 사용하는 것이 좋다.\n",
    "- 전역변수는 코드가 복잡해졌을 때 변수의 값을 어디서 바꾸는지 알기 어렵다.\n",
    "- 따라서 전역변수는 가급적이면 사용하지 않는 것을 권장"
   ]
  },
  {
   "cell_type": "code",
   "execution_count": 15,
   "metadata": {},
   "outputs": [
    {
     "name": "stdout",
     "output_type": "stream",
     "text": [
      "31\n"
     ]
    }
   ],
   "source": [
    "x = 1 # 함수 전체 전역변수 \n",
    "def A() :\n",
    "    x = 10 #A()의 지역변수 \n",
    "    \n",
    "    def B() :\n",
    "        x = 20 # B()의 지역변수 \n",
    "        \n",
    "        def C() :\n",
    "            global x  # x =1\n",
    "            x = x + 30 # x=31\n",
    "            print(x)\n",
    "            \n",
    "        C()\n",
    "    B()\n",
    "A()"
   ]
  },
  {
   "cell_type": "markdown",
   "metadata": {},
   "source": [
    "## 33.3 클로저 사용하기 "
   ]
  },
  {
   "cell_type": "code",
   "execution_count": 16,
   "metadata": {},
   "outputs": [
    {
     "name": "stdout",
     "output_type": "stream",
     "text": [
      "8 11 14 17 20\n"
     ]
    }
   ],
   "source": [
    "def calc() :\n",
    "    a = 3 \n",
    "    b = 5 \n",
    "    \n",
    "    def mul_add(x) :\n",
    "        return a * x + b \n",
    "    \n",
    "    return mul_add # 함수를 바로 호출하지 않고  return함수 자체를 반환. 함수반환할때는 괄호를 붙이면 안됨 \n",
    "\n",
    "c = calc()\n",
    "print(c(1), c(2), c(3), c(4), c(5))\n",
    "# c(1) : 3 * 1 + 5 = 8 \n",
    "# C(2) : 3 * 2 + 5 = 11 "
   ]
  },
  {
   "cell_type": "markdown",
   "metadata": {},
   "source": [
    "### 33.3.1 lambda로 클로저 만들기 \n",
    "- 람다를 사용하면 클로저를 좀 더 간단하게 만들 수 있다.\n",
    "- 콜로저는 람다표현식과 함께 사용하는 경우 많아 둘을 혼동하기 쉬움 \n",
    "- 람다 : 이름없는 익명 함수 \n",
    "- 클로저 : 함수를 둘러싼 환경을 유지했다가 나중에 다시 사용하는 함수 "
   ]
  },
  {
   "cell_type": "code",
   "execution_count": 18,
   "metadata": {},
   "outputs": [
    {
     "name": "stdout",
     "output_type": "stream",
     "text": [
      "8 11 14 17 20\n"
     ]
    }
   ],
   "source": [
    "def calc() :\n",
    "    a = 3 \n",
    "    b = 5 \n",
    "    return lambda x : a * x + b \n",
    "\n",
    "c = calc()\n",
    "print(c(1), c(2), c(3), c(4), c(5))"
   ]
  },
  {
   "cell_type": "markdown",
   "metadata": {},
   "source": [
    "### 33.3.2 클로저의 지역변수 변경하기 \n",
    "- 클로저의 지역변수를 변경하고 싶다면 nonlocal을 사용하면 된다. "
   ]
  },
  {
   "cell_type": "code",
   "execution_count": 20,
   "metadata": {},
   "outputs": [
    {
     "name": "stdout",
     "output_type": "stream",
     "text": [
      "8\n",
      "19\n",
      "33\n"
     ]
    }
   ],
   "source": [
    "def calc() : \n",
    "    a = 3 \n",
    "    b = 5 \n",
    "    total = 0 \n",
    "    \n",
    "    def mul_add(x) : \n",
    "        nonlocal total \n",
    "        total = total + a * x + b \n",
    "        print(total) \n",
    "    return mul_add\n",
    "\n",
    "c = calc()\n",
    "c(1) # 0 + 3 * 1 + 5\n",
    "c(2) # 8 + 3 * 2 + 5 \n",
    "c(3) # 19 + 3 * 3 + 5 "
   ]
  },
  {
   "cell_type": "code",
   "execution_count": null,
   "metadata": {},
   "outputs": [],
   "source": []
  }
 ],
 "metadata": {
  "kernelspec": {
   "display_name": "Python 3",
   "language": "python",
   "name": "python3"
  },
  "language_info": {
   "codemirror_mode": {
    "name": "ipython",
    "version": 3
   },
   "file_extension": ".py",
   "mimetype": "text/x-python",
   "name": "python",
   "nbconvert_exporter": "python",
   "pygments_lexer": "ipython3",
   "version": "3.8.5"
  }
 },
 "nbformat": 4,
 "nbformat_minor": 4
}
