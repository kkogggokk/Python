{
 "cells": [
  {
   "cell_type": "markdown",
   "metadata": {},
   "source": [
    "## 33.6 심사문제 : 카운트 다운 함수 만들기 \n",
    "- 표준입력으로 정수가 입력된다.\n",
    "- c를 호출할 때 마다 숫자가 1씩 줄어들게 만드세요\n",
    "- 여기서는 함수를 클로저로 만들어야 합니다.\n",
    "- 정답에 코드를 작성할 때는 def countdown(n) : 에 맞춰서 들여쓰기를 해주세요."
   ]
  },
  {
   "cell_type": "code",
   "execution_count": 10,
   "metadata": {},
   "outputs": [
    {
     "name": "stdout",
     "output_type": "stream",
     "text": [
      "10\n",
      "10 9 8 7 6 5 4 3 2 1 "
     ]
    }
   ],
   "source": [
    "def countdown(n) : \n",
    "    n += 1\n",
    "    def down() :\n",
    "        nonlocal n \n",
    "        n -= 1 \n",
    "        return n\n",
    "        \n",
    "    return down\n",
    "        \n",
    "\n",
    "\n",
    "n = int(input())\n",
    "c = countdown(n)\n",
    "for i in range(n) :\n",
    "    print(c(), end=' ')"
   ]
  },
  {
   "cell_type": "code",
   "execution_count": null,
   "metadata": {},
   "outputs": [],
   "source": []
  }
 ],
 "metadata": {
  "kernelspec": {
   "display_name": "Python 3",
   "language": "python",
   "name": "python3"
  },
  "language_info": {
   "codemirror_mode": {
    "name": "ipython",
    "version": 3
   },
   "file_extension": ".py",
   "mimetype": "text/x-python",
   "name": "python",
   "nbconvert_exporter": "python",
   "pygments_lexer": "ipython3",
   "version": "3.8.5"
  }
 },
 "nbformat": 4,
 "nbformat_minor": 4
}
