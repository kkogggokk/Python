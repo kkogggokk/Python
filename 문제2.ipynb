{
 "cells": [
  {
   "cell_type": "markdown",
   "metadata": {},
   "source": [
    "- 이중 포문 써야 할듯? \n",
    "    - i 는 첫번째 부터 2n길이 만큼 앞에서 더해지는 수 , s길이의 1/2까지 \n",
    "    - j 는 오른쪽에서부터 2n앞까지 \n",
    "- 길이 2n씩\n",
    "- 왼쪽부터 더하는 함수 \n",
    "- 오른쪽 부터 더하는 함수 \n",
    "    - 왼쪽값을 리벌스 하면 됨\n",
    "- 왼쪽, 오른쪽 비교하는 함수 \n",
    "    - 매개변수 : n, i \n",
    "\n",
    "\n",
    "s = \"123231\"    \n",
    "리턴(정답): 6\n",
    "\n",
    "\n",
    "s = \"74233285\"        \n",
    "리턴(정답): 4"
   ]
  },
  {
   "cell_type": "code",
   "execution_count": 79,
   "metadata": {},
   "outputs": [
    {
     "name": "stdout",
     "output_type": "stream",
     "text": [
      "2 0 [1, 2] 3\n",
      "2 1 [2, 3] 5\n",
      "3 0 [1, 2, 3] 6\n",
      "3 1 [2, 3, 2] 7\n"
     ]
    }
   ],
   "source": [
    "# 왼쪽부터  2n 길이만큼 더하는 함수 \n",
    "# 한글자씩 리스트에 넣어서 계산하기 \n",
    "# 2n씩 뽑아내기 \n",
    "s = \"123231\"\n",
    "\n",
    "r_lst = list(map(int,s))\n",
    "# print(r_lst)\n",
    "# print(len(r_lst)/2) # 더하려면 언제까지? 절반 길이까지\n",
    "# print(len(r_lst)/2-1) # 절반길이 인덱스 까지 \n",
    "\n",
    "half_len = int(len(r_lst)/2)      \n",
    "\n",
    "n = 2 #길이가 2인수 \n",
    "# print(r_lst[0:2],sum(r_lst[0:2])) # 0 ~ 0+2 \n",
    "# print(r_lst[1:3],sum(r_lst[1:3])) # 1 ~ 1+2\n",
    "# print(r_lst[2:4],sum(r_lst[2:4])) # 2 ~ 2+2 범위 넘어감 \n",
    "\n",
    "for n in range(2,half_len+1) :\n",
    "    for i in range(0,half_len-1) :\n",
    "        print(n,i,r_lst[i:i+n],sum(r_lst[i:i+n]))\n",
    "\n",
    "# n = 3 \n",
    "# print(r_lst[0:3],sum(r_lst[0:3])) # 0 ~ 0+3 ok\n",
    "# print(r_lst[1:4],sum(r_lst[1:4])) # 1 ~ 4 : 길이가 넘어감 \n",
    "# print(r_lst[2:5],sum(r_lst[2:5])) # 2 ~ 5 : 길이가 넘어감 \n",
    "\n",
    "# n = 2 ~ len(r_lst)/2 까지 \n",
    "# i = 0 ~ len(r_lst)/2-1 까지 \n",
    "# j = i+n ~ len(r_lst)/2-1 까지 \n"
   ]
  },
  {
   "cell_type": "code",
   "execution_count": 94,
   "metadata": {},
   "outputs": [
    {
     "data": {
      "text/plain": [
       "7"
      ]
     },
     "execution_count": 94,
     "metadata": {},
     "output_type": "execute_result"
    }
   ],
   "source": [
    "# 왼쪽부터 더하는 함수 \n",
    "def l_sum(s) : \n",
    "    r_lst = list(map(int,s))\n",
    "    half_len = int(len(r_lst)/2) \n",
    "    \n",
    "    for n in range(2,half_len+1) :\n",
    "        for i in range(0,half_len-1) :\n",
    "            result = sum(r_lst[i:i+n])\n",
    "    return result\n",
    "            \n",
    "r_sum(\"123231\")"
   ]
  },
  {
   "cell_type": "code",
   "execution_count": 109,
   "metadata": {},
   "outputs": [
    {
     "data": {
      "text/plain": [
       "10"
      ]
     },
     "execution_count": 109,
     "metadata": {},
     "output_type": "execute_result"
    }
   ],
   "source": [
    "# 오른쪽 부터 더하는 함수 \n",
    "def r_sum(s) : \n",
    "    reversed(s)\n",
    "    \n",
    "    r_lst = list(map(int,s))\n",
    "    half_len = int(len(r_lst)/2) \n",
    "    \n",
    "    for n in range(2,half_len+1) :\n",
    "        for i in range(0,half_len-1) :\n",
    "#             print(r_lst[i:i+n],sum(r_lst[i:i+n]))\n",
    "            result = sum(r_lst[i:i+n])\n",
    "\n",
    "    return result\n",
    "\n",
    "s1 = \"123231\"\n",
    "s2 = \"74233285\"\n",
    "r_sum(s1)\n",
    "r_sum(s2)"
   ]
  },
  {
   "cell_type": "code",
   "execution_count": 104,
   "metadata": {},
   "outputs": [
    {
     "name": "stdout",
     "output_type": "stream",
     "text": [
      "123231\n"
     ]
    }
   ],
   "source": [
    "s = \"123231\"\n",
    "reversed(s)\n",
    "print(s)"
   ]
  },
  {
   "cell_type": "code",
   "execution_count": null,
   "metadata": {},
   "outputs": [],
   "source": []
  },
  {
   "cell_type": "code",
   "execution_count": 131,
   "metadata": {},
   "outputs": [
    {
     "name": "stdout",
     "output_type": "stream",
     "text": [
      "4\n"
     ]
    }
   ],
   "source": [
    "# 조건 1: s의 길이가 2 이상이여야 한다. -> s의 길이가 2 이상이 안되면 return 0 \n",
    "# 조건 2 : \n",
    "class Solution:\n",
    "    \n",
    "    def sum_check(self, s, half_len) : \n",
    "        half_len = int(len(s)/2) \n",
    "        \n",
    "        for n in range(2,half_len+1) :\n",
    "            for i in range(0,half_len-1) :\n",
    "                result = sum(r_lst[i:i+n])\n",
    "        return result\n",
    "\n",
    "    def solution(self, s):\n",
    "        if len(s) < 2 :\n",
    "            return 0\n",
    "        \n",
    "        r_lst = list(map(int,s))\n",
    "        l_lst = list(map(int,reversed(s)))\n",
    "#         print(r_lst, l_lst)\n",
    "        \n",
    "        half_len = int(len(s)/2) \n",
    "        print(half_len)\n",
    "        \n",
    "#         print(Solution.sum_check(r_lst,half_len))\n",
    "#         print(sum_check(l_lst,half_len))\n",
    "\n",
    "        \n",
    "        \n",
    "        \n",
    "\n",
    "s1 = \"123231\"\n",
    "s2 = \"74233285\"\n",
    "s3 = \"1\"\n",
    "test = Solution()\n",
    "test.solution(s2)"
   ]
  },
  {
   "cell_type": "code",
   "execution_count": null,
   "metadata": {},
   "outputs": [],
   "source": []
  },
  {
   "cell_type": "code",
   "execution_count": null,
   "metadata": {},
   "outputs": [],
   "source": []
  },
  {
   "cell_type": "markdown",
   "metadata": {},
   "source": [
    "- 클래스 사용 익숙해 지기\n",
    "- 전역변수, 지역변수 익숙해지기"
   ]
  },
  {
   "cell_type": "code",
   "execution_count": null,
   "metadata": {},
   "outputs": [],
   "source": []
  }
 ],
 "metadata": {
  "kernelspec": {
   "display_name": "Python 3",
   "language": "python",
   "name": "python3"
  },
  "language_info": {
   "codemirror_mode": {
    "name": "ipython",
    "version": 3
   },
   "file_extension": ".py",
   "mimetype": "text/x-python",
   "name": "python",
   "nbconvert_exporter": "python",
   "pygments_lexer": "ipython3",
   "version": "3.8.5"
  }
 },
 "nbformat": 4,
 "nbformat_minor": 4
}
