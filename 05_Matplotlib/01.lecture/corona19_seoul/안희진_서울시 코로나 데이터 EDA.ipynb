{
 "cells": [
  {
   "cell_type": "markdown",
   "metadata": {},
   "source": [
    "# 0. 데이터 파일 읽기\n",
    "\n",
    "- [서울시 코로나19 확진자 현황](http://data.seoul.go.kr/dataList/OA-20279/S/1/datasetView.do)\n",
    "## 컬럼\n",
    "- ID : 확진자 ID. 발생순서대로 1씩증가하는 값\n",
    "- 확진일: 확진 날짜\n",
    "- 자치구: 확진 결과를 받은 지역구.\n",
    "- 여행력: 해외유입의 경우 국가명\n",
    "- 접촉력: 감염된 경로. \n",
    "- 현재상태: 퇴원, 사망, NA: 치료중"
   ]
  },
  {
   "cell_type": "code",
   "execution_count": 1,
   "metadata": {},
   "outputs": [],
   "source": [
    "import numpy as np\n",
    "import pandas as pd\n",
    "import matplotlib.pyplot as plt"
   ]
  },
  {
   "cell_type": "code",
   "execution_count": 2,
   "metadata": {},
   "outputs": [
    {
     "data": {
      "text/html": [
       "<div>\n",
       "<style scoped>\n",
       "    .dataframe tbody tr th:only-of-type {\n",
       "        vertical-align: middle;\n",
       "    }\n",
       "\n",
       "    .dataframe tbody tr th {\n",
       "        vertical-align: top;\n",
       "    }\n",
       "\n",
       "    .dataframe thead th {\n",
       "        text-align: right;\n",
       "    }\n",
       "</style>\n",
       "<table border=\"1\" class=\"dataframe\">\n",
       "  <thead>\n",
       "    <tr style=\"text-align: right;\">\n",
       "      <th></th>\n",
       "      <th>ID</th>\n",
       "      <th>확진일</th>\n",
       "      <th>자치구</th>\n",
       "      <th>여행력</th>\n",
       "      <th>접촉력</th>\n",
       "      <th>현재상태</th>\n",
       "    </tr>\n",
       "  </thead>\n",
       "  <tbody>\n",
       "    <tr>\n",
       "      <th>0</th>\n",
       "      <td>30061</td>\n",
       "      <td>2021-03-14</td>\n",
       "      <td>동대문구</td>\n",
       "      <td>NaN</td>\n",
       "      <td>동대문구 소재 병원 관련(\\'21.2.)</td>\n",
       "      <td>사망</td>\n",
       "    </tr>\n",
       "    <tr>\n",
       "      <th>1</th>\n",
       "      <td>30060</td>\n",
       "      <td>2021-03-14</td>\n",
       "      <td>강동구</td>\n",
       "      <td>NaN</td>\n",
       "      <td>감염경로 조사중</td>\n",
       "      <td>NaN</td>\n",
       "    </tr>\n",
       "    <tr>\n",
       "      <th>2</th>\n",
       "      <td>30059</td>\n",
       "      <td>2021-03-14</td>\n",
       "      <td>타시도</td>\n",
       "      <td>NaN</td>\n",
       "      <td>관악구 소재 미용업 관련</td>\n",
       "      <td>NaN</td>\n",
       "    </tr>\n",
       "    <tr>\n",
       "      <th>3</th>\n",
       "      <td>30058</td>\n",
       "      <td>2021-03-14</td>\n",
       "      <td>마포구</td>\n",
       "      <td>NaN</td>\n",
       "      <td>감염경로 조사중</td>\n",
       "      <td>NaN</td>\n",
       "    </tr>\n",
       "    <tr>\n",
       "      <th>4</th>\n",
       "      <td>30057</td>\n",
       "      <td>2021-03-14</td>\n",
       "      <td>서대문구</td>\n",
       "      <td>NaN</td>\n",
       "      <td>타시도 확진자 접촉</td>\n",
       "      <td>NaN</td>\n",
       "    </tr>\n",
       "    <tr>\n",
       "      <th>...</th>\n",
       "      <td>...</td>\n",
       "      <td>...</td>\n",
       "      <td>...</td>\n",
       "      <td>...</td>\n",
       "      <td>...</td>\n",
       "      <td>...</td>\n",
       "    </tr>\n",
       "    <tr>\n",
       "      <th>30056</th>\n",
       "      <td>5</td>\n",
       "      <td>2020-01-31</td>\n",
       "      <td>마포구</td>\n",
       "      <td>NaN</td>\n",
       "      <td>기타 확진자 접촉</td>\n",
       "      <td>퇴원</td>\n",
       "    </tr>\n",
       "    <tr>\n",
       "      <th>30057</th>\n",
       "      <td>4</td>\n",
       "      <td>2020-01-30</td>\n",
       "      <td>종로구</td>\n",
       "      <td>중국</td>\n",
       "      <td>해외유입</td>\n",
       "      <td>퇴원</td>\n",
       "    </tr>\n",
       "    <tr>\n",
       "      <th>30058</th>\n",
       "      <td>3</td>\n",
       "      <td>2020-01-30</td>\n",
       "      <td>중랑구</td>\n",
       "      <td>NaN</td>\n",
       "      <td>종로구 집단발병</td>\n",
       "      <td>퇴원</td>\n",
       "    </tr>\n",
       "    <tr>\n",
       "      <th>30059</th>\n",
       "      <td>2</td>\n",
       "      <td>2020-01-30</td>\n",
       "      <td>강서구</td>\n",
       "      <td>중국</td>\n",
       "      <td>해외유입</td>\n",
       "      <td>퇴원</td>\n",
       "    </tr>\n",
       "    <tr>\n",
       "      <th>30060</th>\n",
       "      <td>1</td>\n",
       "      <td>2020-01-24</td>\n",
       "      <td>강서구</td>\n",
       "      <td>중국</td>\n",
       "      <td>해외유입</td>\n",
       "      <td>퇴원</td>\n",
       "    </tr>\n",
       "  </tbody>\n",
       "</table>\n",
       "<p>30061 rows × 6 columns</p>\n",
       "</div>"
      ],
      "text/plain": [
       "          ID         확진일   자치구  여행력                     접촉력 현재상태\n",
       "0      30061  2021-03-14  동대문구  NaN  동대문구 소재 병원 관련(\\'21.2.)   사망\n",
       "1      30060  2021-03-14   강동구  NaN                감염경로 조사중  NaN\n",
       "2      30059  2021-03-14   타시도  NaN           관악구 소재 미용업 관련  NaN\n",
       "3      30058  2021-03-14   마포구  NaN                감염경로 조사중  NaN\n",
       "4      30057  2021-03-14  서대문구  NaN              타시도 확진자 접촉  NaN\n",
       "...      ...         ...   ...  ...                     ...  ...\n",
       "30056      5  2020-01-31   마포구  NaN               기타 확진자 접촉   퇴원\n",
       "30057      4  2020-01-30   종로구   중국                    해외유입   퇴원\n",
       "30058      3  2020-01-30   중랑구  NaN                종로구 집단발병   퇴원\n",
       "30059      2  2020-01-30   강서구   중국                    해외유입   퇴원\n",
       "30060      1  2020-01-24   강서구   중국                    해외유입   퇴원\n",
       "\n",
       "[30061 rows x 6 columns]"
      ]
     },
     "execution_count": 2,
     "metadata": {},
     "output_type": "execute_result"
    }
   ],
   "source": [
    "df = pd.read_csv('data/corona19_seoul_2021-03-15.csv', encoding = 'utf-8')\n",
    "df"
   ]
  },
  {
   "cell_type": "markdown",
   "metadata": {},
   "source": [
    "# 1. DataFrame 기본정보 조회"
   ]
  },
  {
   "cell_type": "code",
   "execution_count": 3,
   "metadata": {},
   "outputs": [
    {
     "data": {
      "text/plain": [
       "(30061, 6)"
      ]
     },
     "execution_count": 3,
     "metadata": {},
     "output_type": "execute_result"
    }
   ],
   "source": [
    "df.shape"
   ]
  },
  {
   "cell_type": "code",
   "execution_count": 4,
   "metadata": {},
   "outputs": [
    {
     "name": "stdout",
     "output_type": "stream",
     "text": [
      "<class 'pandas.core.frame.DataFrame'>\n",
      "RangeIndex: 30061 entries, 0 to 30060\n",
      "Data columns (total 6 columns):\n",
      " #   Column  Non-Null Count  Dtype \n",
      "---  ------  --------------  ----- \n",
      " 0   ID      30061 non-null  int64 \n",
      " 1   확진일     30061 non-null  object\n",
      " 2   자치구     30061 non-null  object\n",
      " 3   여행력     976 non-null    object\n",
      " 4   접촉력     30061 non-null  object\n",
      " 5   현재상태    27143 non-null  object\n",
      "dtypes: int64(1), object(5)\n",
      "memory usage: 1.4+ MB\n"
     ]
    }
   ],
   "source": [
    "df.info()"
   ]
  },
  {
   "cell_type": "code",
   "execution_count": 5,
   "metadata": {},
   "outputs": [
    {
     "data": {
      "text/html": [
       "<div>\n",
       "<style scoped>\n",
       "    .dataframe tbody tr th:only-of-type {\n",
       "        vertical-align: middle;\n",
       "    }\n",
       "\n",
       "    .dataframe tbody tr th {\n",
       "        vertical-align: top;\n",
       "    }\n",
       "\n",
       "    .dataframe thead th {\n",
       "        text-align: right;\n",
       "    }\n",
       "</style>\n",
       "<table border=\"1\" class=\"dataframe\">\n",
       "  <thead>\n",
       "    <tr style=\"text-align: right;\">\n",
       "      <th></th>\n",
       "      <th>확진일</th>\n",
       "      <th>자치구</th>\n",
       "      <th>여행력</th>\n",
       "      <th>접촉력</th>\n",
       "      <th>현재상태</th>\n",
       "    </tr>\n",
       "  </thead>\n",
       "  <tbody>\n",
       "    <tr>\n",
       "      <th>count</th>\n",
       "      <td>30061</td>\n",
       "      <td>30061</td>\n",
       "      <td>976</td>\n",
       "      <td>30061</td>\n",
       "      <td>27143</td>\n",
       "    </tr>\n",
       "    <tr>\n",
       "      <th>unique</th>\n",
       "      <td>384</td>\n",
       "      <td>27</td>\n",
       "      <td>120</td>\n",
       "      <td>512</td>\n",
       "      <td>2</td>\n",
       "    </tr>\n",
       "    <tr>\n",
       "      <th>top</th>\n",
       "      <td>2020-12-17</td>\n",
       "      <td>기타</td>\n",
       "      <td>미국</td>\n",
       "      <td>기타 확진자 접촉</td>\n",
       "      <td>퇴원</td>\n",
       "    </tr>\n",
       "    <tr>\n",
       "      <th>freq</th>\n",
       "      <td>588</td>\n",
       "      <td>2000</td>\n",
       "      <td>329</td>\n",
       "      <td>9660</td>\n",
       "      <td>26738</td>\n",
       "    </tr>\n",
       "  </tbody>\n",
       "</table>\n",
       "</div>"
      ],
      "text/plain": [
       "               확진일    자치구  여행력        접촉력   현재상태\n",
       "count        30061  30061  976      30061  27143\n",
       "unique         384     27  120        512      2\n",
       "top     2020-12-17     기타   미국  기타 확진자 접촉     퇴원\n",
       "freq           588   2000  329       9660  26738"
      ]
     },
     "execution_count": 5,
     "metadata": {},
     "output_type": "execute_result"
    }
   ],
   "source": [
    "df.describe(include = 'object')\n",
    "# 질문 : freq 이건 뭐를 의미하지? "
   ]
  },
  {
   "cell_type": "code",
   "execution_count": 6,
   "metadata": {},
   "outputs": [
    {
     "data": {
      "text/html": [
       "<div>\n",
       "<style scoped>\n",
       "    .dataframe tbody tr th:only-of-type {\n",
       "        vertical-align: middle;\n",
       "    }\n",
       "\n",
       "    .dataframe tbody tr th {\n",
       "        vertical-align: top;\n",
       "    }\n",
       "\n",
       "    .dataframe thead th {\n",
       "        text-align: right;\n",
       "    }\n",
       "</style>\n",
       "<table border=\"1\" class=\"dataframe\">\n",
       "  <thead>\n",
       "    <tr style=\"text-align: right;\">\n",
       "      <th></th>\n",
       "      <th>ID</th>\n",
       "      <th>확진일</th>\n",
       "      <th>자치구</th>\n",
       "      <th>여행력</th>\n",
       "      <th>접촉력</th>\n",
       "      <th>현재상태</th>\n",
       "    </tr>\n",
       "  </thead>\n",
       "  <tbody>\n",
       "    <tr>\n",
       "      <th>0</th>\n",
       "      <td>30061</td>\n",
       "      <td>2021-03-14</td>\n",
       "      <td>동대문구</td>\n",
       "      <td>NaN</td>\n",
       "      <td>동대문구 소재 병원 관련(\\'21.2.)</td>\n",
       "      <td>사망</td>\n",
       "    </tr>\n",
       "    <tr>\n",
       "      <th>1</th>\n",
       "      <td>30060</td>\n",
       "      <td>2021-03-14</td>\n",
       "      <td>강동구</td>\n",
       "      <td>NaN</td>\n",
       "      <td>감염경로 조사중</td>\n",
       "      <td>NaN</td>\n",
       "    </tr>\n",
       "    <tr>\n",
       "      <th>2</th>\n",
       "      <td>30059</td>\n",
       "      <td>2021-03-14</td>\n",
       "      <td>타시도</td>\n",
       "      <td>NaN</td>\n",
       "      <td>관악구 소재 미용업 관련</td>\n",
       "      <td>NaN</td>\n",
       "    </tr>\n",
       "    <tr>\n",
       "      <th>3</th>\n",
       "      <td>30058</td>\n",
       "      <td>2021-03-14</td>\n",
       "      <td>마포구</td>\n",
       "      <td>NaN</td>\n",
       "      <td>감염경로 조사중</td>\n",
       "      <td>NaN</td>\n",
       "    </tr>\n",
       "    <tr>\n",
       "      <th>4</th>\n",
       "      <td>30057</td>\n",
       "      <td>2021-03-14</td>\n",
       "      <td>서대문구</td>\n",
       "      <td>NaN</td>\n",
       "      <td>타시도 확진자 접촉</td>\n",
       "      <td>NaN</td>\n",
       "    </tr>\n",
       "  </tbody>\n",
       "</table>\n",
       "</div>"
      ],
      "text/plain": [
       "      ID         확진일   자치구  여행력                     접촉력 현재상태\n",
       "0  30061  2021-03-14  동대문구  NaN  동대문구 소재 병원 관련(\\'21.2.)   사망\n",
       "1  30060  2021-03-14   강동구  NaN                감염경로 조사중  NaN\n",
       "2  30059  2021-03-14   타시도  NaN           관악구 소재 미용업 관련  NaN\n",
       "3  30058  2021-03-14   마포구  NaN                감염경로 조사중  NaN\n",
       "4  30057  2021-03-14  서대문구  NaN              타시도 확진자 접촉  NaN"
      ]
     },
     "execution_count": 6,
     "metadata": {},
     "output_type": "execute_result"
    }
   ],
   "source": [
    "df.head()"
   ]
  },
  {
   "cell_type": "code",
   "execution_count": 7,
   "metadata": {},
   "outputs": [
    {
     "data": {
      "text/html": [
       "<div>\n",
       "<style scoped>\n",
       "    .dataframe tbody tr th:only-of-type {\n",
       "        vertical-align: middle;\n",
       "    }\n",
       "\n",
       "    .dataframe tbody tr th {\n",
       "        vertical-align: top;\n",
       "    }\n",
       "\n",
       "    .dataframe thead th {\n",
       "        text-align: right;\n",
       "    }\n",
       "</style>\n",
       "<table border=\"1\" class=\"dataframe\">\n",
       "  <thead>\n",
       "    <tr style=\"text-align: right;\">\n",
       "      <th></th>\n",
       "      <th>ID</th>\n",
       "      <th>확진일</th>\n",
       "      <th>자치구</th>\n",
       "      <th>여행력</th>\n",
       "      <th>접촉력</th>\n",
       "      <th>현재상태</th>\n",
       "    </tr>\n",
       "  </thead>\n",
       "  <tbody>\n",
       "    <tr>\n",
       "      <th>30056</th>\n",
       "      <td>5</td>\n",
       "      <td>2020-01-31</td>\n",
       "      <td>마포구</td>\n",
       "      <td>NaN</td>\n",
       "      <td>기타 확진자 접촉</td>\n",
       "      <td>퇴원</td>\n",
       "    </tr>\n",
       "    <tr>\n",
       "      <th>30057</th>\n",
       "      <td>4</td>\n",
       "      <td>2020-01-30</td>\n",
       "      <td>종로구</td>\n",
       "      <td>중국</td>\n",
       "      <td>해외유입</td>\n",
       "      <td>퇴원</td>\n",
       "    </tr>\n",
       "    <tr>\n",
       "      <th>30058</th>\n",
       "      <td>3</td>\n",
       "      <td>2020-01-30</td>\n",
       "      <td>중랑구</td>\n",
       "      <td>NaN</td>\n",
       "      <td>종로구 집단발병</td>\n",
       "      <td>퇴원</td>\n",
       "    </tr>\n",
       "    <tr>\n",
       "      <th>30059</th>\n",
       "      <td>2</td>\n",
       "      <td>2020-01-30</td>\n",
       "      <td>강서구</td>\n",
       "      <td>중국</td>\n",
       "      <td>해외유입</td>\n",
       "      <td>퇴원</td>\n",
       "    </tr>\n",
       "    <tr>\n",
       "      <th>30060</th>\n",
       "      <td>1</td>\n",
       "      <td>2020-01-24</td>\n",
       "      <td>강서구</td>\n",
       "      <td>중국</td>\n",
       "      <td>해외유입</td>\n",
       "      <td>퇴원</td>\n",
       "    </tr>\n",
       "  </tbody>\n",
       "</table>\n",
       "</div>"
      ],
      "text/plain": [
       "       ID         확진일  자치구  여행력        접촉력 현재상태\n",
       "30056   5  2020-01-31  마포구  NaN  기타 확진자 접촉   퇴원\n",
       "30057   4  2020-01-30  종로구   중국       해외유입   퇴원\n",
       "30058   3  2020-01-30  중랑구  NaN   종로구 집단발병   퇴원\n",
       "30059   2  2020-01-30  강서구   중국       해외유입   퇴원\n",
       "30060   1  2020-01-24  강서구   중국       해외유입   퇴원"
      ]
     },
     "execution_count": 7,
     "metadata": {},
     "output_type": "execute_result"
    }
   ],
   "source": [
    "df.tail()"
   ]
  },
  {
   "cell_type": "code",
   "execution_count": 8,
   "metadata": {},
   "outputs": [
    {
     "name": "stdout",
     "output_type": "stream",
     "text": [
      "<class 'pandas.core.frame.DataFrame'>\n",
      "RangeIndex: 30061 entries, 0 to 30060\n",
      "Data columns (total 6 columns):\n",
      " #   Column  Non-Null Count  Dtype \n",
      "---  ------  --------------  ----- \n",
      " 0   ID      30061 non-null  int64 \n",
      " 1   확진일     30061 non-null  object\n",
      " 2   자치구     30061 non-null  object\n",
      " 3   여행력     976 non-null    object\n",
      " 4   접촉력     30061 non-null  object\n",
      " 5   현재상태    27143 non-null  object\n",
      "dtypes: int64(1), object(5)\n",
      "memory usage: 1.4+ MB\n"
     ]
    },
    {
     "data": {
      "text/html": [
       "<div>\n",
       "<style scoped>\n",
       "    .dataframe tbody tr th:only-of-type {\n",
       "        vertical-align: middle;\n",
       "    }\n",
       "\n",
       "    .dataframe tbody tr th {\n",
       "        vertical-align: top;\n",
       "    }\n",
       "\n",
       "    .dataframe thead th {\n",
       "        text-align: right;\n",
       "    }\n",
       "</style>\n",
       "<table border=\"1\" class=\"dataframe\">\n",
       "  <thead>\n",
       "    <tr style=\"text-align: right;\">\n",
       "      <th></th>\n",
       "      <th>ID</th>\n",
       "      <th>확진일</th>\n",
       "      <th>자치구</th>\n",
       "      <th>여행력</th>\n",
       "      <th>접촉력</th>\n",
       "      <th>현재상태</th>\n",
       "    </tr>\n",
       "  </thead>\n",
       "  <tbody>\n",
       "    <tr>\n",
       "      <th>30056</th>\n",
       "      <td>5</td>\n",
       "      <td>2020-01-31</td>\n",
       "      <td>마포구</td>\n",
       "      <td>NaN</td>\n",
       "      <td>기타 확진자 접촉</td>\n",
       "      <td>퇴원</td>\n",
       "    </tr>\n",
       "    <tr>\n",
       "      <th>30057</th>\n",
       "      <td>4</td>\n",
       "      <td>2020-01-30</td>\n",
       "      <td>종로구</td>\n",
       "      <td>중국</td>\n",
       "      <td>해외유입</td>\n",
       "      <td>퇴원</td>\n",
       "    </tr>\n",
       "    <tr>\n",
       "      <th>30058</th>\n",
       "      <td>3</td>\n",
       "      <td>2020-01-30</td>\n",
       "      <td>중랑구</td>\n",
       "      <td>NaN</td>\n",
       "      <td>종로구 집단발병</td>\n",
       "      <td>퇴원</td>\n",
       "    </tr>\n",
       "    <tr>\n",
       "      <th>30059</th>\n",
       "      <td>2</td>\n",
       "      <td>2020-01-30</td>\n",
       "      <td>강서구</td>\n",
       "      <td>중국</td>\n",
       "      <td>해외유입</td>\n",
       "      <td>퇴원</td>\n",
       "    </tr>\n",
       "    <tr>\n",
       "      <th>30060</th>\n",
       "      <td>1</td>\n",
       "      <td>2020-01-24</td>\n",
       "      <td>강서구</td>\n",
       "      <td>중국</td>\n",
       "      <td>해외유입</td>\n",
       "      <td>퇴원</td>\n",
       "    </tr>\n",
       "  </tbody>\n",
       "</table>\n",
       "</div>"
      ],
      "text/plain": [
       "       ID         확진일  자치구  여행력        접촉력 현재상태\n",
       "30056   5  2020-01-31  마포구  NaN  기타 확진자 접촉   퇴원\n",
       "30057   4  2020-01-30  종로구   중국       해외유입   퇴원\n",
       "30058   3  2020-01-30  중랑구  NaN   종로구 집단발병   퇴원\n",
       "30059   2  2020-01-30  강서구   중국       해외유입   퇴원\n",
       "30060   1  2020-01-24  강서구   중국       해외유입   퇴원"
      ]
     },
     "execution_count": 8,
     "metadata": {},
     "output_type": "execute_result"
    }
   ],
   "source": [
    "# 강사님 풀이 \n",
    "df.info() # 오브젝트 타입이고, 아이디만 숫자형태, 여행력, 현재상태 결측치가 있는 것을 확인. 결측치가 몇개정도 있는지 확인해보자\n",
    "df.isna().sum() # 결측치 몇개정도 있는지 확인해보기 , 여행력 : 29085, 현재상태 : 2918 (진료중) \n",
    "\n",
    "df.head()\n",
    "df.tail()\n",
    "# 확진일이 날짜인데 인트값이니 데이터타입을 변경해야한다. \n",
    "# 순번과 ID는 관계는 리버스 된 형태다"
   ]
  },
  {
   "cell_type": "markdown",
   "metadata": {},
   "source": [
    "##  1.1 범주형 컬럼들의 고유값들 조회"
   ]
  },
  {
   "cell_type": "code",
   "execution_count": 9,
   "metadata": {},
   "outputs": [
    {
     "data": {
      "text/plain": [
       "기타      2000\n",
       "강서구     1704\n",
       "송파구     1658\n",
       "타시도     1413\n",
       "관악구     1408\n",
       "강남구     1376\n",
       "노원구     1322\n",
       "성북구     1298\n",
       "은평구     1262\n",
       "중랑구     1250\n",
       "동작구     1238\n",
       "서초구     1148\n",
       "양천구     1144\n",
       "영등포구    1122\n",
       "구로구     1094\n",
       "동대문구    1087\n",
       "강동구     1036\n",
       "마포구      990\n",
       "도봉구      954\n",
       "광진구      876\n",
       "용산구      815\n",
       "서대문구     786\n",
       "강북구      785\n",
       "성동구      763\n",
       "종로구      579\n",
       "금천구      478\n",
       "중구       475\n",
       "Name: 자치구, dtype: int64"
      ]
     },
     "execution_count": 9,
     "metadata": {},
     "output_type": "execute_result"
    }
   ],
   "source": [
    "# 자치구 고유값 조회\n",
    "df['자치구'].unique()\n",
    "df['자치구'].value_counts()"
   ]
  },
  {
   "cell_type": "code",
   "execution_count": 10,
   "metadata": {},
   "outputs": [
    {
     "data": {
      "text/plain": [
       "미국                   329\n",
       "영국                    63\n",
       "러시아                   36\n",
       "인도네시아                 34\n",
       "필리핀                   33\n",
       "                    ... \n",
       "아르헨티나                  1\n",
       "튀니지                    1\n",
       "키르기즈스탄                 1\n",
       "브라질,아르헨티아,칠레,볼리비아      1\n",
       "미국, 브라질                1\n",
       "Name: 여행력, Length: 120, dtype: int64"
      ]
     },
     "execution_count": 10,
     "metadata": {},
     "output_type": "execute_result"
    }
   ],
   "source": [
    "# 여행력 고유값 조회\n",
    "df['여행력'].unique()\n",
    "df['여행력'].value_counts()"
   ]
  },
  {
   "cell_type": "code",
   "execution_count": 11,
   "metadata": {},
   "outputs": [
    {
     "data": {
      "text/plain": [
       "기타 확진자 접촉         9660\n",
       "감염경로 조사중          6994\n",
       "타시도 확진자 접촉        1304\n",
       "동부구치소 관련          1175\n",
       "해외유입               965\n",
       "                  ... \n",
       "용산구 음식점 관련           1\n",
       "서초구 LG 유플러스          1\n",
       "역조실 일보 반영            1\n",
       "동대문구 소재 아동시설관련       1\n",
       "삼성물산                 1\n",
       "Name: 접촉력, Length: 512, dtype: int64"
      ]
     },
     "execution_count": 11,
     "metadata": {},
     "output_type": "execute_result"
    }
   ],
   "source": [
    "# 접촉력 고유값 조회\n",
    "df['접촉력'].unique()\n",
    "df['접촉력'].value_counts()"
   ]
  },
  {
   "cell_type": "code",
   "execution_count": 12,
   "metadata": {},
   "outputs": [
    {
     "data": {
      "text/plain": [
       "퇴원    26738\n",
       "사망      405\n",
       "Name: 현재상태, dtype: int64"
      ]
     },
     "execution_count": 12,
     "metadata": {},
     "output_type": "execute_result"
    }
   ],
   "source": [
    "#현재상태 고유값 조회\n",
    "df['현재상태'].unique()\n",
    "df['현재상태'].value_counts()"
   ]
  },
  {
   "cell_type": "code",
   "execution_count": 13,
   "metadata": {},
   "outputs": [
    {
     "data": {
      "text/plain": [
       "array(['사망', nan, '퇴원'], dtype=object)"
      ]
     },
     "execution_count": 13,
     "metadata": {},
     "output_type": "execute_result"
    }
   ],
   "source": [
    "# 강사님 풀이 1) 유니크를 써도 되고, 2) 밸류카운트를 써도 된다. \n",
    "# 밸류카운트는 뒤에서 나오니 유니크를 사용해보도록하자. \n",
    "df['자치구'].unique()\n",
    "df['여행력'].unique()\n",
    "df['접촉력'].unique() \n",
    "df['현재상태'].unique() # 3가지 : 사망, 퇴원, 결측치(진료중)"
   ]
  },
  {
   "cell_type": "markdown",
   "metadata": {},
   "source": [
    "# 2. 확진일 확진자수 정보 조회"
   ]
  },
  {
   "cell_type": "markdown",
   "metadata": {
    "ExecuteTime": {
     "end_time": "2021-03-10T10:40:05.771434Z",
     "start_time": "2021-03-10T10:40:05.742438Z"
    }
   },
   "source": [
    "## 2.1 확진일의 빈도수"
   ]
  },
  {
   "cell_type": "code",
   "execution_count": 14,
   "metadata": {},
   "outputs": [
    {
     "data": {
      "text/plain": [
       "2020-12-17    588\n",
       "2020-12-24    566\n",
       "2020-12-28    524\n",
       "2020-12-25    430\n",
       "2020-12-16    427\n",
       "             ... \n",
       "2020-04-24      1\n",
       "2020-04-15      1\n",
       "2020-04-18      1\n",
       "2020-04-30      1\n",
       "2020-04-19      1\n",
       "Name: 확진일, Length: 384, dtype: int64"
      ]
     },
     "execution_count": 14,
     "metadata": {},
     "output_type": "execute_result"
    }
   ],
   "source": [
    "day_count = df['확진일'].value_counts()\n",
    "day_count"
   ]
  },
  {
   "cell_type": "code",
   "execution_count": 15,
   "metadata": {},
   "outputs": [
    {
     "data": {
      "text/plain": [
       "2020-12-17    588\n",
       "2020-12-24    566\n",
       "2020-12-28    524\n",
       "2020-12-25    430\n",
       "2020-12-16    427\n",
       "             ... \n",
       "2020-04-24      1\n",
       "2020-04-15      1\n",
       "2020-04-18      1\n",
       "2020-04-30      1\n",
       "2020-04-19      1\n",
       "Name: 확진일, Length: 384, dtype: int64"
      ]
     },
     "execution_count": 15,
     "metadata": {},
     "output_type": "execute_result"
    }
   ],
   "source": [
    "# 강사님 풀이 \n",
    "df['확진일'].value_counts()\n",
    "# 확진일이 object타입(문자열)으로 되어 있기때문에 날짜 형태로 변경하는것이 좋다. \n",
    "# 왜? 2020-1-20, 2020-2-10, 2020-10-5 날짜가 문자열로 저장되어 있으면 순서가 1월 -> 10월 -> 2월 순으로 정렬된다. 따라서 날짜타입으로 관리하는 것이 편하다. "
   ]
  },
  {
   "cell_type": "markdown",
   "metadata": {},
   "source": [
    "> ### datetime으로 변환\n",
    "> - `pd.to_datetime(변환할 Series)`\n",
    "> - x 또는 y 축이 날짜 일 경우 datetime 타입으로 처리하는 것이 좋다.\n",
    "> - datetime을 변환하면 날짜만의 기능을 다룰 수 있다.\n",
    ">     - dt accessor를 이용해 datetime의 속성값들을(년, 월, 일 등) 추출할 수 있다.\n",
    ">     - https://pandas.pydata.org/pandas-docs/stable/reference/api/pandas.Series.dt.html"
   ]
  },
  {
   "cell_type": "markdown",
   "metadata": {
    "ExecuteTime": {
     "end_time": "2021-03-11T05:05:25.449264Z",
     "start_time": "2021-03-11T05:05:25.433269Z"
    }
   },
   "source": [
    "## 2.2 확진일을 datetime으로 변환"
   ]
  },
  {
   "cell_type": "code",
   "execution_count": 16,
   "metadata": {},
   "outputs": [
    {
     "data": {
      "text/plain": [
       "0        2021-03-14\n",
       "1        2021-03-14\n",
       "2        2021-03-14\n",
       "3        2021-03-14\n",
       "4        2021-03-14\n",
       "            ...    \n",
       "30056    2020-01-31\n",
       "30057    2020-01-30\n",
       "30058    2020-01-30\n",
       "30059    2020-01-30\n",
       "30060    2020-01-24\n",
       "Name: 확진일, Length: 30061, dtype: object"
      ]
     },
     "execution_count": 16,
     "metadata": {},
     "output_type": "execute_result"
    }
   ],
   "source": [
    "df['확진일']"
   ]
  },
  {
   "cell_type": "code",
   "execution_count": 17,
   "metadata": {},
   "outputs": [
    {
     "name": "stdout",
     "output_type": "stream",
     "text": [
      "<class 'pandas.core.frame.DataFrame'>\n",
      "RangeIndex: 30061 entries, 0 to 30060\n",
      "Data columns (total 6 columns):\n",
      " #   Column  Non-Null Count  Dtype         \n",
      "---  ------  --------------  -----         \n",
      " 0   ID      30061 non-null  int64         \n",
      " 1   확진일     30061 non-null  datetime64[ns]\n",
      " 2   자치구     30061 non-null  object        \n",
      " 3   여행력     976 non-null    object        \n",
      " 4   접촉력     30061 non-null  object        \n",
      " 5   현재상태    27143 non-null  object        \n",
      "dtypes: datetime64[ns](1), int64(1), object(4)\n",
      "memory usage: 1.4+ MB\n"
     ]
    },
    {
     "data": {
      "text/html": [
       "<div>\n",
       "<style scoped>\n",
       "    .dataframe tbody tr th:only-of-type {\n",
       "        vertical-align: middle;\n",
       "    }\n",
       "\n",
       "    .dataframe tbody tr th {\n",
       "        vertical-align: top;\n",
       "    }\n",
       "\n",
       "    .dataframe thead th {\n",
       "        text-align: right;\n",
       "    }\n",
       "</style>\n",
       "<table border=\"1\" class=\"dataframe\">\n",
       "  <thead>\n",
       "    <tr style=\"text-align: right;\">\n",
       "      <th></th>\n",
       "      <th>ID</th>\n",
       "      <th>확진일</th>\n",
       "      <th>자치구</th>\n",
       "      <th>여행력</th>\n",
       "      <th>접촉력</th>\n",
       "      <th>현재상태</th>\n",
       "    </tr>\n",
       "  </thead>\n",
       "  <tbody>\n",
       "    <tr>\n",
       "      <th>0</th>\n",
       "      <td>30061</td>\n",
       "      <td>2021-03-14</td>\n",
       "      <td>동대문구</td>\n",
       "      <td>NaN</td>\n",
       "      <td>동대문구 소재 병원 관련(\\'21.2.)</td>\n",
       "      <td>사망</td>\n",
       "    </tr>\n",
       "    <tr>\n",
       "      <th>1</th>\n",
       "      <td>30060</td>\n",
       "      <td>2021-03-14</td>\n",
       "      <td>강동구</td>\n",
       "      <td>NaN</td>\n",
       "      <td>감염경로 조사중</td>\n",
       "      <td>NaN</td>\n",
       "    </tr>\n",
       "    <tr>\n",
       "      <th>2</th>\n",
       "      <td>30059</td>\n",
       "      <td>2021-03-14</td>\n",
       "      <td>타시도</td>\n",
       "      <td>NaN</td>\n",
       "      <td>관악구 소재 미용업 관련</td>\n",
       "      <td>NaN</td>\n",
       "    </tr>\n",
       "    <tr>\n",
       "      <th>3</th>\n",
       "      <td>30058</td>\n",
       "      <td>2021-03-14</td>\n",
       "      <td>마포구</td>\n",
       "      <td>NaN</td>\n",
       "      <td>감염경로 조사중</td>\n",
       "      <td>NaN</td>\n",
       "    </tr>\n",
       "    <tr>\n",
       "      <th>4</th>\n",
       "      <td>30057</td>\n",
       "      <td>2021-03-14</td>\n",
       "      <td>서대문구</td>\n",
       "      <td>NaN</td>\n",
       "      <td>타시도 확진자 접촉</td>\n",
       "      <td>NaN</td>\n",
       "    </tr>\n",
       "  </tbody>\n",
       "</table>\n",
       "</div>"
      ],
      "text/plain": [
       "      ID        확진일   자치구  여행력                     접촉력 현재상태\n",
       "0  30061 2021-03-14  동대문구  NaN  동대문구 소재 병원 관련(\\'21.2.)   사망\n",
       "1  30060 2021-03-14   강동구  NaN                감염경로 조사중  NaN\n",
       "2  30059 2021-03-14   타시도  NaN           관악구 소재 미용업 관련  NaN\n",
       "3  30058 2021-03-14   마포구  NaN                감염경로 조사중  NaN\n",
       "4  30057 2021-03-14  서대문구  NaN              타시도 확진자 접촉  NaN"
      ]
     },
     "execution_count": 17,
     "metadata": {},
     "output_type": "execute_result"
    }
   ],
   "source": [
    "# 방법1. 기존에 로드된 csv파일내 '확진일' 컬럼을 datetime으로 변환 \n",
    "df['확진일'] = pd.to_datetime(df['확진일'], format = '%Y-%m-%d')\n",
    "df.info()\n",
    "df.head(5)"
   ]
  },
  {
   "cell_type": "code",
   "execution_count": 18,
   "metadata": {},
   "outputs": [
    {
     "name": "stdout",
     "output_type": "stream",
     "text": [
      "<class 'pandas.core.frame.DataFrame'>\n",
      "RangeIndex: 30061 entries, 0 to 30060\n",
      "Data columns (total 6 columns):\n",
      " #   Column  Non-Null Count  Dtype         \n",
      "---  ------  --------------  -----         \n",
      " 0   ID      30061 non-null  int64         \n",
      " 1   확진일     30061 non-null  datetime64[ns]\n",
      " 2   자치구     30061 non-null  object        \n",
      " 3   여행력     976 non-null    object        \n",
      " 4   접촉력     30061 non-null  object        \n",
      " 5   현재상태    27143 non-null  object        \n",
      "dtypes: datetime64[ns](1), int64(1), object(4)\n",
      "memory usage: 1.4+ MB\n"
     ]
    },
    {
     "data": {
      "text/html": [
       "<div>\n",
       "<style scoped>\n",
       "    .dataframe tbody tr th:only-of-type {\n",
       "        vertical-align: middle;\n",
       "    }\n",
       "\n",
       "    .dataframe tbody tr th {\n",
       "        vertical-align: top;\n",
       "    }\n",
       "\n",
       "    .dataframe thead th {\n",
       "        text-align: right;\n",
       "    }\n",
       "</style>\n",
       "<table border=\"1\" class=\"dataframe\">\n",
       "  <thead>\n",
       "    <tr style=\"text-align: right;\">\n",
       "      <th></th>\n",
       "      <th>ID</th>\n",
       "      <th>확진일</th>\n",
       "      <th>자치구</th>\n",
       "      <th>여행력</th>\n",
       "      <th>접촉력</th>\n",
       "      <th>현재상태</th>\n",
       "    </tr>\n",
       "  </thead>\n",
       "  <tbody>\n",
       "    <tr>\n",
       "      <th>0</th>\n",
       "      <td>30061</td>\n",
       "      <td>2021-03-14</td>\n",
       "      <td>동대문구</td>\n",
       "      <td>NaN</td>\n",
       "      <td>동대문구 소재 병원 관련(\\'21.2.)</td>\n",
       "      <td>사망</td>\n",
       "    </tr>\n",
       "    <tr>\n",
       "      <th>1</th>\n",
       "      <td>30060</td>\n",
       "      <td>2021-03-14</td>\n",
       "      <td>강동구</td>\n",
       "      <td>NaN</td>\n",
       "      <td>감염경로 조사중</td>\n",
       "      <td>NaN</td>\n",
       "    </tr>\n",
       "    <tr>\n",
       "      <th>2</th>\n",
       "      <td>30059</td>\n",
       "      <td>2021-03-14</td>\n",
       "      <td>타시도</td>\n",
       "      <td>NaN</td>\n",
       "      <td>관악구 소재 미용업 관련</td>\n",
       "      <td>NaN</td>\n",
       "    </tr>\n",
       "    <tr>\n",
       "      <th>3</th>\n",
       "      <td>30058</td>\n",
       "      <td>2021-03-14</td>\n",
       "      <td>마포구</td>\n",
       "      <td>NaN</td>\n",
       "      <td>감염경로 조사중</td>\n",
       "      <td>NaN</td>\n",
       "    </tr>\n",
       "    <tr>\n",
       "      <th>4</th>\n",
       "      <td>30057</td>\n",
       "      <td>2021-03-14</td>\n",
       "      <td>서대문구</td>\n",
       "      <td>NaN</td>\n",
       "      <td>타시도 확진자 접촉</td>\n",
       "      <td>NaN</td>\n",
       "    </tr>\n",
       "  </tbody>\n",
       "</table>\n",
       "</div>"
      ],
      "text/plain": [
       "      ID        확진일   자치구  여행력                     접촉력 현재상태\n",
       "0  30061 2021-03-14  동대문구  NaN  동대문구 소재 병원 관련(\\'21.2.)   사망\n",
       "1  30060 2021-03-14   강동구  NaN                감염경로 조사중  NaN\n",
       "2  30059 2021-03-14   타시도  NaN           관악구 소재 미용업 관련  NaN\n",
       "3  30058 2021-03-14   마포구  NaN                감염경로 조사중  NaN\n",
       "4  30057 2021-03-14  서대문구  NaN              타시도 확진자 접촉  NaN"
      ]
     },
     "execution_count": 18,
     "metadata": {},
     "output_type": "execute_result"
    }
   ],
   "source": [
    "# 방법2. csv파일 로드 시 '확진일'컬럼을 datetime으로 변환\n",
    "from datetime import datetime\n",
    "df = pd.read_csv('data/corona19_seoul_2021-03-15.csv',\n",
    "                parse_dates = ['확진일'],\n",
    "                date_parser = lambda x : datetime.strptime(x,'%Y-%m-%d'))\n",
    "df.info()\n",
    "df.head(5)"
   ]
  },
  {
   "cell_type": "code",
   "execution_count": 19,
   "metadata": {},
   "outputs": [
    {
     "name": "stdout",
     "output_type": "stream",
     "text": [
      "<class 'pandas.core.frame.DataFrame'>\n",
      "RangeIndex: 30061 entries, 0 to 30060\n",
      "Data columns (total 6 columns):\n",
      " #   Column  Non-Null Count  Dtype         \n",
      "---  ------  --------------  -----         \n",
      " 0   ID      30061 non-null  int64         \n",
      " 1   확진일     30061 non-null  datetime64[ns]\n",
      " 2   자치구     30061 non-null  object        \n",
      " 3   여행력     976 non-null    object        \n",
      " 4   접촉력     30061 non-null  object        \n",
      " 5   현재상태    27143 non-null  object        \n",
      "dtypes: datetime64[ns](1), int64(1), object(4)\n",
      "memory usage: 1.4+ MB\n"
     ]
    }
   ],
   "source": [
    "# 강사님 풀이 \n",
    "df['확진일'] = pd.to_datetime(df['확진일']) # -로 년-월-일 이 구별이 되어 잇으니 포맷을 하지 않아도 데이트타입으로 변환이 된다. 지정을 해도 되긴하다. \n",
    "df.info()"
   ]
  },
  {
   "cell_type": "markdown",
   "metadata": {
    "ExecuteTime": {
     "end_time": "2021-03-10T10:40:10.759659Z",
     "start_time": "2021-03-10T10:40:10.731664Z"
    }
   },
   "source": [
    "## 2.3 확진일 관련 파생변수 추가\n",
    "- 확진일에서 년을 추출해서 **'년'** 컬럼을 생성\n",
    "- 확진일에서 월을 추출해서 **'월'** 컬럼을 생성\n",
    "- 확진일에서 주(1년 중 몇번째 주)를 추출해서 **'주'** 컬럼을 생성\n",
    "- 확진일에서 요일을 추출해서 **'요일'** 컬럼을 생성. "
   ]
  },
  {
   "cell_type": "code",
   "execution_count": 40,
   "metadata": {
    "scrolled": true
   },
   "outputs": [
    {
     "ename": "IndexError",
     "evalue": "only integers, slices (`:`), ellipsis (`...`), numpy.newaxis (`None`) and integer or boolean arrays are valid indices",
     "output_type": "error",
     "traceback": [
      "\u001b[0;31m---------------------------------------------------------------------------\u001b[0m",
      "\u001b[0;31mIndexError\u001b[0m                                Traceback (most recent call last)",
      "\u001b[0;32m<ipython-input-40-3c4f7b960656>\u001b[0m in \u001b[0;36m<module>\u001b[0;34m\u001b[0m\n\u001b[0;32m----> 1\u001b[0;31m \u001b[0mdf\u001b[0m\u001b[0;34m[\u001b[0m\u001b[0;34m'년'\u001b[0m\u001b[0;34m]\u001b[0m \u001b[0;34m=\u001b[0m \u001b[0mdf\u001b[0m\u001b[0;34m[\u001b[0m\u001b[0;34m'확진일'\u001b[0m\u001b[0;34m]\u001b[0m\u001b[0;34m.\u001b[0m\u001b[0mdt\u001b[0m\u001b[0;34m.\u001b[0m\u001b[0myear\u001b[0m\u001b[0;34m\u001b[0m\u001b[0;34m\u001b[0m\u001b[0m\n\u001b[0m\u001b[1;32m      2\u001b[0m \u001b[0mdf\u001b[0m\u001b[0;34m[\u001b[0m\u001b[0;34m'월'\u001b[0m\u001b[0;34m]\u001b[0m \u001b[0;34m=\u001b[0m \u001b[0mdf\u001b[0m\u001b[0;34m[\u001b[0m\u001b[0;34m'확진일'\u001b[0m\u001b[0;34m]\u001b[0m\u001b[0;34m.\u001b[0m\u001b[0mdt\u001b[0m\u001b[0;34m.\u001b[0m\u001b[0mmonth\u001b[0m\u001b[0;34m\u001b[0m\u001b[0;34m\u001b[0m\u001b[0m\n\u001b[1;32m      3\u001b[0m \u001b[0mdf\u001b[0m\u001b[0;34m[\u001b[0m\u001b[0;34m'주'\u001b[0m\u001b[0;34m]\u001b[0m \u001b[0;34m=\u001b[0m \u001b[0mdf\u001b[0m\u001b[0;34m[\u001b[0m\u001b[0;34m'확진일'\u001b[0m\u001b[0;34m]\u001b[0m\u001b[0;34m.\u001b[0m\u001b[0mdt\u001b[0m\u001b[0;34m.\u001b[0m\u001b[0misocalendar\u001b[0m\u001b[0;34m(\u001b[0m\u001b[0;34m)\u001b[0m\u001b[0;34m.\u001b[0m\u001b[0mweek\u001b[0m\u001b[0;34m\u001b[0m\u001b[0;34m\u001b[0m\u001b[0m\n\u001b[1;32m      4\u001b[0m \u001b[0mdf\u001b[0m\u001b[0;34m[\u001b[0m\u001b[0;34m'요일'\u001b[0m\u001b[0;34m]\u001b[0m \u001b[0;34m=\u001b[0m \u001b[0mdf\u001b[0m\u001b[0;34m[\u001b[0m\u001b[0;34m'확진일'\u001b[0m\u001b[0;34m]\u001b[0m\u001b[0;34m.\u001b[0m\u001b[0mdt\u001b[0m\u001b[0;34m.\u001b[0m\u001b[0mdayofweek\u001b[0m\u001b[0;34m\u001b[0m\u001b[0;34m\u001b[0m\u001b[0m\n\u001b[1;32m      5\u001b[0m \u001b[0mdf\u001b[0m\u001b[0;34m[\u001b[0m\u001b[0;34m'확진일'\u001b[0m\u001b[0;34m]\u001b[0m\u001b[0;34m.\u001b[0m\u001b[0mdt\u001b[0m\u001b[0;34m.\u001b[0m\u001b[0misocalendar\u001b[0m\u001b[0;34m(\u001b[0m\u001b[0;34m)\u001b[0m\u001b[0;34m.\u001b[0m\u001b[0mgroupby\u001b[0m\u001b[0;34m(\u001b[0m\u001b[0;34m[\u001b[0m\u001b[0;34m'year'\u001b[0m\u001b[0;34m,\u001b[0m \u001b[0;34m'week'\u001b[0m\u001b[0;34m]\u001b[0m\u001b[0;34m)\u001b[0m\u001b[0;34m[\u001b[0m\u001b[0;34m'year'\u001b[0m\u001b[0;34m]\u001b[0m\u001b[0;34m.\u001b[0m\u001b[0mcount\u001b[0m\u001b[0;34m(\u001b[0m\u001b[0;34m)\u001b[0m \u001b[0;31m# 여기서는 잘 나오는데\u001b[0m\u001b[0;34m\u001b[0m\u001b[0;34m\u001b[0m\u001b[0m\n",
      "\u001b[0;32m/opt/anaconda3/lib/python3.8/site-packages/pandas/core/arrays/categorical.py\u001b[0m in \u001b[0;36m__getitem__\u001b[0;34m(self, key)\u001b[0m\n\u001b[1;32m   1968\u001b[0m         \u001b[0mkey\u001b[0m \u001b[0;34m=\u001b[0m \u001b[0mcheck_array_indexer\u001b[0m\u001b[0;34m(\u001b[0m\u001b[0mself\u001b[0m\u001b[0;34m,\u001b[0m \u001b[0mkey\u001b[0m\u001b[0;34m)\u001b[0m\u001b[0;34m\u001b[0m\u001b[0;34m\u001b[0m\u001b[0m\n\u001b[1;32m   1969\u001b[0m \u001b[0;34m\u001b[0m\u001b[0m\n\u001b[0;32m-> 1970\u001b[0;31m         \u001b[0mresult\u001b[0m \u001b[0;34m=\u001b[0m \u001b[0mself\u001b[0m\u001b[0;34m.\u001b[0m\u001b[0m_codes\u001b[0m\u001b[0;34m[\u001b[0m\u001b[0mkey\u001b[0m\u001b[0;34m]\u001b[0m\u001b[0;34m\u001b[0m\u001b[0;34m\u001b[0m\u001b[0m\n\u001b[0m\u001b[1;32m   1971\u001b[0m         \u001b[0;32mif\u001b[0m \u001b[0mresult\u001b[0m\u001b[0;34m.\u001b[0m\u001b[0mndim\u001b[0m \u001b[0;34m>\u001b[0m \u001b[0;36m1\u001b[0m\u001b[0;34m:\u001b[0m\u001b[0;34m\u001b[0m\u001b[0;34m\u001b[0m\u001b[0m\n\u001b[1;32m   1972\u001b[0m             \u001b[0mdeprecate_ndim_indexing\u001b[0m\u001b[0;34m(\u001b[0m\u001b[0mresult\u001b[0m\u001b[0;34m)\u001b[0m\u001b[0;34m\u001b[0m\u001b[0;34m\u001b[0m\u001b[0m\n",
      "\u001b[0;31mIndexError\u001b[0m: only integers, slices (`:`), ellipsis (`...`), numpy.newaxis (`None`) and integer or boolean arrays are valid indices"
     ]
    }
   ],
   "source": [
    "df['년'] = df['확진일'].dt.year\n",
    "df['월'] = df['확진일'].dt.month\n",
    "df['주'] = df['확진일'].dt.isocalendar().week\n",
    "df['요일'] = df['확진일'].dt.dayofweek\n",
    "df['확진일'].dt.isocalendar().groupby(['year', 'week'])['year'].count() # 여기서는 잘 나오는데\n",
    "df.groupby(['년','주'])['ID'].count() # 여기서는 왜 2021년 53주로 나오는거야 "
   ]
  },
  {
   "cell_type": "code",
   "execution_count": 21,
   "metadata": {},
   "outputs": [
    {
     "data": {
      "text/html": [
       "<div>\n",
       "<style scoped>\n",
       "    .dataframe tbody tr th:only-of-type {\n",
       "        vertical-align: middle;\n",
       "    }\n",
       "\n",
       "    .dataframe tbody tr th {\n",
       "        vertical-align: top;\n",
       "    }\n",
       "\n",
       "    .dataframe thead th {\n",
       "        text-align: right;\n",
       "    }\n",
       "</style>\n",
       "<table border=\"1\" class=\"dataframe\">\n",
       "  <thead>\n",
       "    <tr style=\"text-align: right;\">\n",
       "      <th></th>\n",
       "      <th>ID</th>\n",
       "      <th>확진일</th>\n",
       "      <th>자치구</th>\n",
       "      <th>여행력</th>\n",
       "      <th>접촉력</th>\n",
       "      <th>현재상태</th>\n",
       "      <th>년</th>\n",
       "      <th>월</th>\n",
       "      <th>주</th>\n",
       "      <th>요일</th>\n",
       "    </tr>\n",
       "  </thead>\n",
       "  <tbody>\n",
       "    <tr>\n",
       "      <th>0</th>\n",
       "      <td>30061</td>\n",
       "      <td>2021-03-14</td>\n",
       "      <td>동대문구</td>\n",
       "      <td>NaN</td>\n",
       "      <td>동대문구 소재 병원 관련(\\'21.2.)</td>\n",
       "      <td>사망</td>\n",
       "      <td>2021</td>\n",
       "      <td>3</td>\n",
       "      <td>10</td>\n",
       "      <td>7</td>\n",
       "    </tr>\n",
       "    <tr>\n",
       "      <th>1</th>\n",
       "      <td>30060</td>\n",
       "      <td>2021-03-14</td>\n",
       "      <td>강동구</td>\n",
       "      <td>NaN</td>\n",
       "      <td>감염경로 조사중</td>\n",
       "      <td>NaN</td>\n",
       "      <td>2021</td>\n",
       "      <td>3</td>\n",
       "      <td>10</td>\n",
       "      <td>7</td>\n",
       "    </tr>\n",
       "    <tr>\n",
       "      <th>2</th>\n",
       "      <td>30059</td>\n",
       "      <td>2021-03-14</td>\n",
       "      <td>타시도</td>\n",
       "      <td>NaN</td>\n",
       "      <td>관악구 소재 미용업 관련</td>\n",
       "      <td>NaN</td>\n",
       "      <td>2021</td>\n",
       "      <td>3</td>\n",
       "      <td>10</td>\n",
       "      <td>7</td>\n",
       "    </tr>\n",
       "    <tr>\n",
       "      <th>3</th>\n",
       "      <td>30058</td>\n",
       "      <td>2021-03-14</td>\n",
       "      <td>마포구</td>\n",
       "      <td>NaN</td>\n",
       "      <td>감염경로 조사중</td>\n",
       "      <td>NaN</td>\n",
       "      <td>2021</td>\n",
       "      <td>3</td>\n",
       "      <td>10</td>\n",
       "      <td>7</td>\n",
       "    </tr>\n",
       "    <tr>\n",
       "      <th>4</th>\n",
       "      <td>30057</td>\n",
       "      <td>2021-03-14</td>\n",
       "      <td>서대문구</td>\n",
       "      <td>NaN</td>\n",
       "      <td>타시도 확진자 접촉</td>\n",
       "      <td>NaN</td>\n",
       "      <td>2021</td>\n",
       "      <td>3</td>\n",
       "      <td>10</td>\n",
       "      <td>7</td>\n",
       "    </tr>\n",
       "    <tr>\n",
       "      <th>...</th>\n",
       "      <td>...</td>\n",
       "      <td>...</td>\n",
       "      <td>...</td>\n",
       "      <td>...</td>\n",
       "      <td>...</td>\n",
       "      <td>...</td>\n",
       "      <td>...</td>\n",
       "      <td>...</td>\n",
       "      <td>...</td>\n",
       "      <td>...</td>\n",
       "    </tr>\n",
       "    <tr>\n",
       "      <th>30056</th>\n",
       "      <td>5</td>\n",
       "      <td>2020-01-31</td>\n",
       "      <td>마포구</td>\n",
       "      <td>NaN</td>\n",
       "      <td>기타 확진자 접촉</td>\n",
       "      <td>퇴원</td>\n",
       "      <td>2020</td>\n",
       "      <td>1</td>\n",
       "      <td>5</td>\n",
       "      <td>5</td>\n",
       "    </tr>\n",
       "    <tr>\n",
       "      <th>30057</th>\n",
       "      <td>4</td>\n",
       "      <td>2020-01-30</td>\n",
       "      <td>종로구</td>\n",
       "      <td>중국</td>\n",
       "      <td>해외유입</td>\n",
       "      <td>퇴원</td>\n",
       "      <td>2020</td>\n",
       "      <td>1</td>\n",
       "      <td>5</td>\n",
       "      <td>4</td>\n",
       "    </tr>\n",
       "    <tr>\n",
       "      <th>30058</th>\n",
       "      <td>3</td>\n",
       "      <td>2020-01-30</td>\n",
       "      <td>중랑구</td>\n",
       "      <td>NaN</td>\n",
       "      <td>종로구 집단발병</td>\n",
       "      <td>퇴원</td>\n",
       "      <td>2020</td>\n",
       "      <td>1</td>\n",
       "      <td>5</td>\n",
       "      <td>4</td>\n",
       "    </tr>\n",
       "    <tr>\n",
       "      <th>30059</th>\n",
       "      <td>2</td>\n",
       "      <td>2020-01-30</td>\n",
       "      <td>강서구</td>\n",
       "      <td>중국</td>\n",
       "      <td>해외유입</td>\n",
       "      <td>퇴원</td>\n",
       "      <td>2020</td>\n",
       "      <td>1</td>\n",
       "      <td>5</td>\n",
       "      <td>4</td>\n",
       "    </tr>\n",
       "    <tr>\n",
       "      <th>30060</th>\n",
       "      <td>1</td>\n",
       "      <td>2020-01-24</td>\n",
       "      <td>강서구</td>\n",
       "      <td>중국</td>\n",
       "      <td>해외유입</td>\n",
       "      <td>퇴원</td>\n",
       "      <td>2020</td>\n",
       "      <td>1</td>\n",
       "      <td>4</td>\n",
       "      <td>5</td>\n",
       "    </tr>\n",
       "  </tbody>\n",
       "</table>\n",
       "<p>30061 rows × 10 columns</p>\n",
       "</div>"
      ],
      "text/plain": [
       "          ID        확진일   자치구  여행력                     접촉력 현재상태     년  월   주  \\\n",
       "0      30061 2021-03-14  동대문구  NaN  동대문구 소재 병원 관련(\\'21.2.)   사망  2021  3  10   \n",
       "1      30060 2021-03-14   강동구  NaN                감염경로 조사중  NaN  2021  3  10   \n",
       "2      30059 2021-03-14   타시도  NaN           관악구 소재 미용업 관련  NaN  2021  3  10   \n",
       "3      30058 2021-03-14   마포구  NaN                감염경로 조사중  NaN  2021  3  10   \n",
       "4      30057 2021-03-14  서대문구  NaN              타시도 확진자 접촉  NaN  2021  3  10   \n",
       "...      ...        ...   ...  ...                     ...  ...   ... ..  ..   \n",
       "30056      5 2020-01-31   마포구  NaN               기타 확진자 접촉   퇴원  2020  1   5   \n",
       "30057      4 2020-01-30   종로구   중국                    해외유입   퇴원  2020  1   5   \n",
       "30058      3 2020-01-30   중랑구  NaN                종로구 집단발병   퇴원  2020  1   5   \n",
       "30059      2 2020-01-30   강서구   중국                    해외유입   퇴원  2020  1   5   \n",
       "30060      1 2020-01-24   강서구   중국                    해외유입   퇴원  2020  1   4   \n",
       "\n",
       "       요일  \n",
       "0       7  \n",
       "1       7  \n",
       "2       7  \n",
       "3       7  \n",
       "4       7  \n",
       "...    ..  \n",
       "30056   5  \n",
       "30057   4  \n",
       "30058   4  \n",
       "30059   4  \n",
       "30060   5  \n",
       "\n",
       "[30061 rows x 10 columns]"
      ]
     },
     "execution_count": 21,
     "metadata": {},
     "output_type": "execute_result"
    }
   ],
   "source": [
    "# 강사님 풀이\n",
    "tmp = df['확진일'].dt.isocalendar()\n",
    "\n",
    "df['년'] = tmp['year'] # 1년중 몇번째 주인가? \n",
    "df['월'] = df['확진일'].dt.month\n",
    "df['주'] = tmp['week']\n",
    "df['요일'] = tmp['day']\n",
    "\n",
    "df"
   ]
  },
  {
   "cell_type": "markdown",
   "metadata": {
    "ExecuteTime": {
     "end_time": "2020-08-22T14:17:12.955322Z",
     "start_time": "2020-08-22T14:17:12.947343Z"
    }
   },
   "source": [
    "## 2.4 요일 정수를 문자열(월,화,수,목,금,토,일)로 변경\n",
    "- datetime에서 요일을 추출하면 정수로 반환된다.\n",
    "    - dt.week 로 조회시 - 월요일: 0, 일요일: 6\n",
    "    - dt.isocalendar()['week']로 조회시 - 월요일 : 1, 일요일: 7"
   ]
  },
  {
   "cell_type": "code",
   "execution_count": 39,
   "metadata": {},
   "outputs": [
    {
     "ename": "IndexError",
     "evalue": "only integers, slices (`:`), ellipsis (`...`), numpy.newaxis (`None`) and integer or boolean arrays are valid indices",
     "output_type": "error",
     "traceback": [
      "\u001b[0;31m---------------------------------------------------------------------------\u001b[0m",
      "\u001b[0;31mIndexError\u001b[0m                                Traceback (most recent call last)",
      "\u001b[0;32m<ipython-input-39-7569ce3be70f>\u001b[0m in \u001b[0;36m<module>\u001b[0;34m\u001b[0m\n\u001b[1;32m     16\u001b[0m         \u001b[0;32mreturn\u001b[0m \u001b[0;34m'일'\u001b[0m\u001b[0;34m\u001b[0m\u001b[0;34m\u001b[0m\u001b[0m\n\u001b[1;32m     17\u001b[0m \u001b[0;34m\u001b[0m\u001b[0m\n\u001b[0;32m---> 18\u001b[0;31m \u001b[0mdf\u001b[0m\u001b[0;34m[\u001b[0m\u001b[0;34m'요일'\u001b[0m\u001b[0;34m]\u001b[0m \u001b[0;34m=\u001b[0m \u001b[0mdf\u001b[0m\u001b[0;34m[\u001b[0m\u001b[0;34m'요일'\u001b[0m\u001b[0;34m]\u001b[0m\u001b[0;34m.\u001b[0m\u001b[0mapply\u001b[0m\u001b[0;34m(\u001b[0m\u001b[0mchange_day_str\u001b[0m\u001b[0;34m)\u001b[0m\u001b[0;34m\u001b[0m\u001b[0;34m\u001b[0m\u001b[0m\n\u001b[0m",
      "\u001b[0;32m/opt/anaconda3/lib/python3.8/site-packages/pandas/core/arrays/categorical.py\u001b[0m in \u001b[0;36m__getitem__\u001b[0;34m(self, key)\u001b[0m\n\u001b[1;32m   1968\u001b[0m         \u001b[0mkey\u001b[0m \u001b[0;34m=\u001b[0m \u001b[0mcheck_array_indexer\u001b[0m\u001b[0;34m(\u001b[0m\u001b[0mself\u001b[0m\u001b[0;34m,\u001b[0m \u001b[0mkey\u001b[0m\u001b[0;34m)\u001b[0m\u001b[0;34m\u001b[0m\u001b[0;34m\u001b[0m\u001b[0m\n\u001b[1;32m   1969\u001b[0m \u001b[0;34m\u001b[0m\u001b[0m\n\u001b[0;32m-> 1970\u001b[0;31m         \u001b[0mresult\u001b[0m \u001b[0;34m=\u001b[0m \u001b[0mself\u001b[0m\u001b[0;34m.\u001b[0m\u001b[0m_codes\u001b[0m\u001b[0;34m[\u001b[0m\u001b[0mkey\u001b[0m\u001b[0;34m]\u001b[0m\u001b[0;34m\u001b[0m\u001b[0;34m\u001b[0m\u001b[0m\n\u001b[0m\u001b[1;32m   1971\u001b[0m         \u001b[0;32mif\u001b[0m \u001b[0mresult\u001b[0m\u001b[0;34m.\u001b[0m\u001b[0mndim\u001b[0m \u001b[0;34m>\u001b[0m \u001b[0;36m1\u001b[0m\u001b[0;34m:\u001b[0m\u001b[0;34m\u001b[0m\u001b[0;34m\u001b[0m\u001b[0m\n\u001b[1;32m   1972\u001b[0m             \u001b[0mdeprecate_ndim_indexing\u001b[0m\u001b[0;34m(\u001b[0m\u001b[0mresult\u001b[0m\u001b[0;34m)\u001b[0m\u001b[0;34m\u001b[0m\u001b[0;34m\u001b[0m\u001b[0m\n",
      "\u001b[0;31mIndexError\u001b[0m: only integers, slices (`:`), ellipsis (`...`), numpy.newaxis (`None`) and integer or boolean arrays are valid indices"
     ]
    }
   ],
   "source": [
    "# dayofweek으로 조회시 \n",
    "def change_day_str(x) :\n",
    "    if x == 0 :\n",
    "        return '월'\n",
    "    if x == 1 :\n",
    "        return '화'\n",
    "    if x == 2 :\n",
    "        return '수'\n",
    "    if x == 3 :\n",
    "        return '목'\n",
    "    if x == 4 :\n",
    "        return '금'\n",
    "    if x == 5 :\n",
    "        return '토'\n",
    "    if x == 6 :\n",
    "        return '일'\n",
    "\n",
    "df['요일'] = df['요일'].apply(change_day_str)"
   ]
  },
  {
   "cell_type": "code",
   "execution_count": 38,
   "metadata": {},
   "outputs": [
    {
     "ename": "IndexError",
     "evalue": "only integers, slices (`:`), ellipsis (`...`), numpy.newaxis (`None`) and integer or boolean arrays are valid indices",
     "output_type": "error",
     "traceback": [
      "\u001b[0;31m---------------------------------------------------------------------------\u001b[0m",
      "\u001b[0;31mIndexError\u001b[0m                                Traceback (most recent call last)",
      "\u001b[0;32m<ipython-input-38-d1e5d36f93e0>\u001b[0m in \u001b[0;36m<module>\u001b[0;34m\u001b[0m\n\u001b[1;32m     16\u001b[0m         \u001b[0;32mreturn\u001b[0m \u001b[0;34m'일'\u001b[0m\u001b[0;34m\u001b[0m\u001b[0;34m\u001b[0m\u001b[0m\n\u001b[1;32m     17\u001b[0m \u001b[0;34m\u001b[0m\u001b[0m\n\u001b[0;32m---> 18\u001b[0;31m \u001b[0mdf\u001b[0m\u001b[0;34m[\u001b[0m\u001b[0;34m'요일'\u001b[0m\u001b[0;34m]\u001b[0m \u001b[0;34m=\u001b[0m \u001b[0mdf\u001b[0m\u001b[0;34m[\u001b[0m\u001b[0;34m'요일'\u001b[0m\u001b[0;34m]\u001b[0m\u001b[0;34m.\u001b[0m\u001b[0mapply\u001b[0m\u001b[0;34m(\u001b[0m\u001b[0mchange_week_str\u001b[0m\u001b[0;34m)\u001b[0m\u001b[0;34m\u001b[0m\u001b[0;34m\u001b[0m\u001b[0m\n\u001b[0m\u001b[1;32m     19\u001b[0m \u001b[0mdf\u001b[0m\u001b[0;34m.\u001b[0m\u001b[0mhead\u001b[0m\u001b[0;34m(\u001b[0m\u001b[0;34m)\u001b[0m\u001b[0;34m\u001b[0m\u001b[0;34m\u001b[0m\u001b[0m\n",
      "\u001b[0;32m/opt/anaconda3/lib/python3.8/site-packages/pandas/core/arrays/categorical.py\u001b[0m in \u001b[0;36m__getitem__\u001b[0;34m(self, key)\u001b[0m\n\u001b[1;32m   1968\u001b[0m         \u001b[0mkey\u001b[0m \u001b[0;34m=\u001b[0m \u001b[0mcheck_array_indexer\u001b[0m\u001b[0;34m(\u001b[0m\u001b[0mself\u001b[0m\u001b[0;34m,\u001b[0m \u001b[0mkey\u001b[0m\u001b[0;34m)\u001b[0m\u001b[0;34m\u001b[0m\u001b[0;34m\u001b[0m\u001b[0m\n\u001b[1;32m   1969\u001b[0m \u001b[0;34m\u001b[0m\u001b[0m\n\u001b[0;32m-> 1970\u001b[0;31m         \u001b[0mresult\u001b[0m \u001b[0;34m=\u001b[0m \u001b[0mself\u001b[0m\u001b[0;34m.\u001b[0m\u001b[0m_codes\u001b[0m\u001b[0;34m[\u001b[0m\u001b[0mkey\u001b[0m\u001b[0;34m]\u001b[0m\u001b[0;34m\u001b[0m\u001b[0;34m\u001b[0m\u001b[0m\n\u001b[0m\u001b[1;32m   1971\u001b[0m         \u001b[0;32mif\u001b[0m \u001b[0mresult\u001b[0m\u001b[0;34m.\u001b[0m\u001b[0mndim\u001b[0m \u001b[0;34m>\u001b[0m \u001b[0;36m1\u001b[0m\u001b[0;34m:\u001b[0m\u001b[0;34m\u001b[0m\u001b[0;34m\u001b[0m\u001b[0m\n\u001b[1;32m   1972\u001b[0m             \u001b[0mdeprecate_ndim_indexing\u001b[0m\u001b[0;34m(\u001b[0m\u001b[0mresult\u001b[0m\u001b[0;34m)\u001b[0m\u001b[0;34m\u001b[0m\u001b[0;34m\u001b[0m\u001b[0m\n",
      "\u001b[0;31mIndexError\u001b[0m: only integers, slices (`:`), ellipsis (`...`), numpy.newaxis (`None`) and integer or boolean arrays are valid indices"
     ]
    }
   ],
   "source": [
    "# 강사님 풀이 \n",
    "def change_week_str(x):\n",
    "    if x == 1 :\n",
    "        return '월'\n",
    "    if x == 2 :\n",
    "        return '화'\n",
    "    if x == 3 :\n",
    "        return '수'\n",
    "    if x == 4 :\n",
    "        return '목'\n",
    "    if x == 5 :\n",
    "        return '금'\n",
    "    if x == 6 :\n",
    "        return '토'\n",
    "    if x == 7 :\n",
    "        return '일'\n",
    "    \n",
    "df['요일'] = df['요일'].apply(change_week_str)\n",
    "df.head()"
   ]
  },
  {
   "cell_type": "markdown",
   "metadata": {},
   "source": [
    "### 참고 > Categorical Data 타입\n",
    "> - 범주형 타입\n",
    "> - 문자열과 차이점\n",
    ">     - 내부적으로 정수로 관리되기 때문에 메모리를 절약 할 수 있다. \n",
    ">     - 사전적 순서와 논리적 순서가 다를 경우 논리적 순서로 정렬되도록 정의 할 수 있다.\n",
    ">         - 사전적순서: Four One Three Two\n",
    ">         - 논리적순서: One Two Three Four\n",
    "> - str 타입 Series를 Categorical 타입으로 변환\n",
    ">     - `pandas.categorical(변환할Series), [categories=[고유값 리스트], ordered=None])`\n",
    "    - categories: 고유값 리스트를 지정한다. 생략할 경우 Series의 고유값들을 가지고 만든다.\n",
    "        - 원하는 순서대로 지정하기 위해서는 설정한다.\n",
    "    - ordered: 순성형 여부 설정"
   ]
  },
  {
   "cell_type": "markdown",
   "metadata": {},
   "source": [
    "## 2.5 요일을 Categorical Type으로 변환\n",
    "# TODO : 이해가 안된다 우선은 패스"
   ]
  },
  {
   "cell_type": "code",
   "execution_count": 24,
   "metadata": {},
   "outputs": [
    {
     "data": {
      "text/plain": [
       "0        NaN\n",
       "1        NaN\n",
       "2        NaN\n",
       "3        NaN\n",
       "4        NaN\n",
       "        ... \n",
       "30056    NaN\n",
       "30057    NaN\n",
       "30058    NaN\n",
       "30059    NaN\n",
       "30060    NaN\n",
       "Name: 요일, Length: 30061, dtype: category\n",
       "Categories (0, object): []"
      ]
     },
     "execution_count": 24,
     "metadata": {},
     "output_type": "execute_result"
    }
   ],
   "source": [
    "# 시리즈의 개념이 아직 제대로 들어오지가 않아.. \n",
    "day_week_cat = df['요일'].astype('category')\n",
    "day_week_cat"
   ]
  },
  {
   "cell_type": "code",
   "execution_count": 25,
   "metadata": {},
   "outputs": [
    {
     "data": {
      "text/plain": [
       "Index([], dtype='object')"
      ]
     },
     "execution_count": 25,
     "metadata": {},
     "output_type": "execute_result"
    }
   ],
   "source": [
    "day_week_cat.values.categories"
   ]
  },
  {
   "cell_type": "code",
   "execution_count": 26,
   "metadata": {},
   "outputs": [
    {
     "data": {
      "text/plain": [
       "array([-1, -1, -1, ..., -1, -1, -1], dtype=int8)"
      ]
     },
     "execution_count": 26,
     "metadata": {},
     "output_type": "execute_result"
    }
   ],
   "source": [
    "day_week_cat.values.codes"
   ]
  },
  {
   "cell_type": "markdown",
   "metadata": {},
   "source": [
    "- 정해진 범주 안의 값을 갖을때 \n",
    "- 예를 들어 월이면 1~12까지, 요일이면 월~일까지 정해져 있는 것 처럼 \n",
    "- 주소, 이름 들도 각각의 정해져 있는 형태로 있을 때 범주형이다. \n",
    "- 타입으로 보면 주로 문자열로 사용했다. 판다스에서는 이를 나눠서해서 사용할 수 있다. \n",
    "- 요일은 월~ 일 값을 가질수 있다. 이를 범주형 타입으로 만들어서 보면 보기에는 크게 달라지는 것은 없을것이다. \n",
    "- 하지만 장점1) 메모리상에서 정수로 저장이 되기 때문에 메모리를 저장할 수 있다. \n",
    "- 딕셔너리 형태로 관리를 한다. 화면상에 출력해야할때는 1대신 월요일로 매칭해서 출력. \n",
    "- 장점2) 순서에 대한 문제 \n",
    "- 문자열을 사용하게 되면 정렬 할때 사전식으로 정렬하게 된다. \n",
    "- 실제 그 값이 가지는 의미적인 순서가 다를 수 있다. 월, 화, 수, 목, 금 --> 사전식 정렬은 금 부터 시작된다. \n",
    "- 초, 중, 고, 대 -> 나이순으로 출력하고 싶은데 사전적으로 출력하면 고부터 나온다. \n",
    "- 즉, 사전식 정렬과 논리적 정렬이 다를 때 논리적 순서를 정렬할 수 있다. \n",
    "\n",
    "즉,\n",
    "1) 메모리 절약\n",
    "2) 논리적 순서"
   ]
  },
  {
   "cell_type": "markdown",
   "metadata": {},
   "source": [
    "# =======6교시 ==========="
   ]
  },
  {
   "cell_type": "code",
   "execution_count": 37,
   "metadata": {},
   "outputs": [
    {
     "ename": "IndexError",
     "evalue": "only integers, slices (`:`), ellipsis (`...`), numpy.newaxis (`None`) and integer or boolean arrays are valid indices",
     "output_type": "error",
     "traceback": [
      "\u001b[0;31m---------------------------------------------------------------------------\u001b[0m",
      "\u001b[0;31mIndexError\u001b[0m                                Traceback (most recent call last)",
      "\u001b[0;32m<ipython-input-37-6f34fe907608>\u001b[0m in \u001b[0;36m<module>\u001b[0;34m\u001b[0m\n\u001b[1;32m      1\u001b[0m \u001b[0;31m# 강사님 풀이\u001b[0m\u001b[0;34m\u001b[0m\u001b[0;34m\u001b[0m\u001b[0;34m\u001b[0m\u001b[0m\n\u001b[1;32m      2\u001b[0m \u001b[0;31m# 요일을 카테고리컬을 적용해보자\u001b[0m\u001b[0;34m\u001b[0m\u001b[0;34m\u001b[0m\u001b[0;34m\u001b[0m\u001b[0m\n\u001b[0;32m----> 3\u001b[0;31m \u001b[0mpd\u001b[0m\u001b[0;34m.\u001b[0m\u001b[0mCategorical\u001b[0m\u001b[0;34m(\u001b[0m\u001b[0mdf\u001b[0m\u001b[0;34m[\u001b[0m\u001b[0;34m'요일'\u001b[0m\u001b[0;34m]\u001b[0m\u001b[0;34m,\u001b[0m \u001b[0mcategories\u001b[0m \u001b[0;34m=\u001b[0m \u001b[0mlist\u001b[0m\u001b[0;34m(\u001b[0m\u001b[0;34m\"월화수목금토일\"\u001b[0m\u001b[0;34m)\u001b[0m\u001b[0;34m)\u001b[0m\u001b[0;34m\u001b[0m\u001b[0;34m\u001b[0m\u001b[0m\n\u001b[0m\u001b[1;32m      4\u001b[0m \u001b[0;34m\u001b[0m\u001b[0m\n\u001b[1;32m      5\u001b[0m \u001b[0;31m# df['요일'] = pd.Categorical(df['요일'], categories = list('월화수목금토일'))\u001b[0m\u001b[0;34m\u001b[0m\u001b[0;34m\u001b[0m\u001b[0;34m\u001b[0m\u001b[0m\n",
      "\u001b[0;32m/opt/anaconda3/lib/python3.8/site-packages/pandas/core/arrays/categorical.py\u001b[0m in \u001b[0;36m__getitem__\u001b[0;34m(self, key)\u001b[0m\n\u001b[1;32m   1968\u001b[0m         \u001b[0mkey\u001b[0m \u001b[0;34m=\u001b[0m \u001b[0mcheck_array_indexer\u001b[0m\u001b[0;34m(\u001b[0m\u001b[0mself\u001b[0m\u001b[0;34m,\u001b[0m \u001b[0mkey\u001b[0m\u001b[0;34m)\u001b[0m\u001b[0;34m\u001b[0m\u001b[0;34m\u001b[0m\u001b[0m\n\u001b[1;32m   1969\u001b[0m \u001b[0;34m\u001b[0m\u001b[0m\n\u001b[0;32m-> 1970\u001b[0;31m         \u001b[0mresult\u001b[0m \u001b[0;34m=\u001b[0m \u001b[0mself\u001b[0m\u001b[0;34m.\u001b[0m\u001b[0m_codes\u001b[0m\u001b[0;34m[\u001b[0m\u001b[0mkey\u001b[0m\u001b[0;34m]\u001b[0m\u001b[0;34m\u001b[0m\u001b[0;34m\u001b[0m\u001b[0m\n\u001b[0m\u001b[1;32m   1971\u001b[0m         \u001b[0;32mif\u001b[0m \u001b[0mresult\u001b[0m\u001b[0;34m.\u001b[0m\u001b[0mndim\u001b[0m \u001b[0;34m>\u001b[0m \u001b[0;36m1\u001b[0m\u001b[0;34m:\u001b[0m\u001b[0;34m\u001b[0m\u001b[0;34m\u001b[0m\u001b[0m\n\u001b[1;32m   1972\u001b[0m             \u001b[0mdeprecate_ndim_indexing\u001b[0m\u001b[0;34m(\u001b[0m\u001b[0mresult\u001b[0m\u001b[0;34m)\u001b[0m\u001b[0;34m\u001b[0m\u001b[0;34m\u001b[0m\u001b[0m\n",
      "\u001b[0;31mIndexError\u001b[0m: only integers, slices (`:`), ellipsis (`...`), numpy.newaxis (`None`) and integer or boolean arrays are valid indices"
     ]
    }
   ],
   "source": [
    "# 강사님 풀이 \n",
    "# 요일을 카테고리컬을 적용해보자\n",
    "pd.Categorical(df['요일'], categories = list(\"월화수목금토일\"))\n",
    "\n",
    "# df['요일'] = pd.Categorical(df['요일'], categories = list('월화수목금토일'))\n",
    "# todo : 여기 어떻게 바꿨지? \n",
    "# 궁금한게, 확인은? 그치. 보여지는 값은 바뀌지 않는데. 그럼 내부적으로 변경됐다라는 카테고리컬을 적용했다라는 것은 어떻게 확인? df.info\n",
    "df.info()\n"
   ]
  },
  {
   "cell_type": "markdown",
   "metadata": {},
   "source": [
    "## 2.6 확진자 수 변화 추이 시각화"
   ]
  },
  {
   "cell_type": "code",
   "execution_count": null,
   "metadata": {},
   "outputs": [],
   "source": [
    "day_count.plot(kind = 'line', figsize = (20,10), label = '확진자 수')\n",
    "\n",
    "plt.title('날짜별 확진자 수')\n",
    "plt.xlabel('날짜')\n",
    "\n",
    "plt.legend()\n",
    "plt.grid(True)\n",
    "\n",
    "plt.show()"
   ]
  },
  {
   "cell_type": "code",
   "execution_count": null,
   "metadata": {},
   "outputs": [],
   "source": [
    "# 강사님 풀이 : 날자별로 확진자 변화 추이 -> 선그래프 \n",
    "일자별_확진자수 = df['확진일'].value_counts()\n",
    "일자별_확진자수.plot(kind = 'line', figsize = (15,5))\n",
    "plt.axhline(y = 200, color = 'r', linestyle = ':', label = '200명')\n",
    "\n",
    "plt.legend()\n",
    "plt.grid(True)\n",
    "plt.show()"
   ]
  },
  {
   "cell_type": "markdown",
   "metadata": {},
   "source": [
    "- 데이트타입으로 바꿨기때문에 날짜 정렬 순으로 잘 나오고 있다. \n",
    "- 8-9월이라던지, 11-1월 사이라던지 변화량이 큰 부분만 따로 뽑아서 보는 것도 좋다.\n",
    "- 왜 저렇게 변화했는지에 대해서 따로 알아보는 것도 좋다. "
   ]
  },
  {
   "cell_type": "markdown",
   "metadata": {},
   "source": [
    "## 2.7 2020년 12월 이후 확진일 기준으로 확진자 수 변화 추이 시각화"
   ]
  },
  {
   "cell_type": "code",
   "execution_count": null,
   "metadata": {},
   "outputs": [],
   "source": [
    "After_12 = df[df['확진일'] >= '2020-12-01']['확진일'].value_counts()\n",
    "After_12\n",
    "# After_12.sort_values()"
   ]
  },
  {
   "cell_type": "code",
   "execution_count": null,
   "metadata": {},
   "outputs": [],
   "source": [
    "After_12.plot(kind = 'line', figsize = (20,10), label = '확진자 수')\n",
    "\n",
    "plt.title('2020년 12월 이후 확진자 수')\n",
    "plt.xlabel('날짜')\n",
    "\n",
    "plt.legend()\n",
    "plt.grid(True)\n",
    "plt.show()"
   ]
  },
  {
   "cell_type": "code",
   "execution_count": null,
   "metadata": {},
   "outputs": [],
   "source": [
    "# 강사님 풀이 \n",
    "일자별확진자수_12월이후 = df.loc[df['확진일'] >= '2020-12-01', '확진일'].value_counts()\n",
    "일자별확진자수_12월이후\n",
    "\n",
    "일자별확진자수_12월이후.plot(kind = 'line', figsize = (15,5))\n",
    "plt.grid(True)\n",
    "plt.axhline(300, color = 'r', linestyle = ':', label = '300명')\n",
    "plt.legend()\n",
    "plt.show()"
   ]
  },
  {
   "cell_type": "markdown",
   "metadata": {},
   "source": [
    "## 2.8 년도-주 단위 확진자 수 변화 추이 시각화\n",
    "- ex) 2020년 1주차, 2020년 2주차 ... "
   ]
  },
  {
   "cell_type": "code",
   "execution_count": null,
   "metadata": {},
   "outputs": [],
   "source": [
    "# 묶을 대상 -> 년, 주 를 기준으로 묶어보자\n",
    "년도_주_확진자수 = df.pivot_table(values = ['ID'], index = ['년','주'], aggfunc = 'count')\n",
    "년도_주_확진자수"
   ]
  },
  {
   "cell_type": "code",
   "execution_count": null,
   "metadata": {},
   "outputs": [],
   "source": [
    "년도_주_확진자수.plot(kind = 'line', figsize = (20,10), label = '확진자수')\n",
    "\n",
    "plt.legend(bbox_to_anchor = (1,1), loc = 'upper left')\n",
    "plt.grid(True)\n",
    "plt.show()"
   ]
  },
  {
   "cell_type": "code",
   "execution_count": null,
   "metadata": {},
   "outputs": [],
   "source": [
    "df.groupby(['년','주'])['ID'].count()"
   ]
  },
  {
   "cell_type": "code",
   "execution_count": null,
   "metadata": {},
   "outputs": [],
   "source": [
    "# 강사님풀이 \n",
    "년도_주_별확진자수 = df.groupby(['년','주'])['ID'].count()\n",
    "년도_주_별확진자수\n",
    "\n",
    "년도_주_별확진자수.plot(kind = 'line', figsize = (15,5))\n",
    "plt.xticks(ticks = range(0, 년도_주_별확진자수.size, 10), # 틱과 라벨 갯수 맞추기 위해서 10  \n",
    "            labels = [f'{year}년 {week}주차' for i, (year, week) in enumerate(년도_주_별확진자수.index) if i % 10 == 0], # 10주차로 나눠서 \n",
    "            rotation = 45)\n",
    "plt.grid()\n",
    "plt.show()"
   ]
  },
  {
   "cell_type": "markdown",
   "metadata": {},
   "source": [
    "- 틱이 튜플형태로 들어가 있다. \n",
    "- *년, *주차 형태로 보고싶다면? \n",
    "- 53주차는 무엇? 2020.12월 마지막주에서 2021.1월 넘어가는 부분때문에 53주로 출력된거임. --> 데이터 뽑을때 오류난거 : 버그 \n",
    "- df['주'] = df['확진일'].dt.isocalendar().week 이렇게 설정했는데도 53주가 출려됨"
   ]
  },
  {
   "cell_type": "markdown",
   "metadata": {},
   "source": [
    "## 2.9 년-월 단위  확진자수 조회 및 시각화"
   ]
  },
  {
   "cell_type": "code",
   "execution_count": null,
   "metadata": {},
   "outputs": [],
   "source": [
    "년도_월_확진자수 = df.pivot_table(values = ['ID'], index = ['년','월'], aggfunc = 'count')\n",
    "년도_월_확진자수"
   ]
  },
  {
   "cell_type": "code",
   "execution_count": null,
   "metadata": {},
   "outputs": [],
   "source": [
    "년도_월_확진자수.plot(kind = 'line', figsize = (20,10), label = '확진자수')\n",
    "\n",
    "plt.legend(bbox_to_anchor = (1,1), loc = 'upper left')\n",
    "plt.grid(True)\n",
    "plt.show()"
   ]
  },
  {
   "cell_type": "code",
   "execution_count": null,
   "metadata": {},
   "outputs": [],
   "source": [
    "# 강사님 풀이 \n",
    "# 흐름적으로 볼때는 선그래프 \n",
    "년_월별_확진자수 = df.groupby(['년','월'])['ID'].count()\n",
    "년_월별_확진자수\n",
    "\n",
    "년_월별_확진자수.plot(kind = 'line', figsize = (15,5))\n",
    "plt.show()"
   ]
  },
  {
   "cell_type": "code",
   "execution_count": null,
   "metadata": {},
   "outputs": [],
   "source": [
    "# 강사님 풀이, 수가 얼마 안될때 이렇게 막대로 표현해도 괜찮다.수량 확인\n",
    "년_월별_확진자수.plot(kind = 'bar', figsize =(15,5), rot = 45)\n",
    "plt.show()"
   ]
  },
  {
   "cell_type": "markdown",
   "metadata": {},
   "source": [
    "## 2.10 월-요일별 확진자수 조회 및 시각화"
   ]
  },
  {
   "cell_type": "code",
   "execution_count": null,
   "metadata": {},
   "outputs": [],
   "source": [
    "#todo : 요일을 월, 화, 수, 목, 금, 토, 일 순으로 할수 없나. \n",
    "월_요일_확진자수 = df.pivot_table(values = ['ID'], index = ['월','요일'], aggfunc = 'count')\n",
    "월_요일_확진자수"
   ]
  },
  {
   "cell_type": "code",
   "execution_count": null,
   "metadata": {},
   "outputs": [],
   "source": [
    "# 강사님 풀이 \n",
    "월_요일_확진자수 = df.groupby(['월','요일'])['ID'].count()\n",
    "월_요일_확진자수\n",
    "\n",
    "# 정확하게 보려면 년도를 나누는게 좋다. \n",
    "월_요일_확진자수_2020 = df[df['년'] == 2020].groupby(['월','요일'])['ID'].count()\n",
    "월_요일_확진자수_2020\n",
    "# todo : 왜 나는 요일이 숫자형태로 보이지? 확인하기. "
   ]
  },
  {
   "cell_type": "code",
   "execution_count": null,
   "metadata": {},
   "outputs": [],
   "source": [
    "# 강사님 풀이 \n",
    "월_요일_확진자수_2020.plot(kind = 'barh', figsize = (15,15))\n",
    "plt.show()"
   ]
  },
  {
   "cell_type": "code",
   "execution_count": null,
   "metadata": {},
   "outputs": [],
   "source": [
    "# 강사님 풀이 : 월-요일별 피봇을 사용하는 것이 더 낫다\n",
    "월_요일별_확진자수2 = df[df['년'] == 2020].pivot_table(values = 'ID',\n",
    "                                             index = '월',\n",
    "                                             columns = '요일',\n",
    "                                             aggfunc = 'count',\n",
    "                                             fill_value = 0) # 결측치 0으로 처리해주자\n",
    "월_요일별_확진자수2 # 요일이 금목수월 이렇게 나오니 카테고리컬을 적용해보자 \n",
    "월_요일별_확진자수2.plot(kind = 'bar', figsize = (10,5))\n",
    "plt.show()"
   ]
  },
  {
   "cell_type": "code",
   "execution_count": null,
   "metadata": {},
   "outputs": [],
   "source": [
    "# 히트맵으로도 가능? YES \n",
    "import seaborn as sns\n",
    "plt.figure(figsize = (10,10))\n",
    "sns.heatmap(월_요일별_확진자수2, cmap = 'Blues', annot = True, fmt ='d') # 'd' error : 왜? 피봇테이블에 0 자리 결측치 때문\n",
    "plt.show()"
   ]
  },
  {
   "cell_type": "markdown",
   "metadata": {},
   "source": [
    "# 3. 누적 확진자수 조회 및 변화 흐름 시각화 -- todo : 여기 다시 확인\n",
    "- Series/DataFrame.cumsum()\n",
    "    - 누적 합계\n",
    "- Series.to_frame()\n",
    "    - Series를 DataFrame으로 변환"
   ]
  },
  {
   "cell_type": "markdown",
   "metadata": {},
   "source": [
    "## 3.1 일별(확진일) 누적 확진자수 조회"
   ]
  },
  {
   "cell_type": "code",
   "execution_count": null,
   "metadata": {},
   "outputs": [],
   "source": [
    "df.groupby('확진일')['ID'].cumsum()"
   ]
  },
  {
   "cell_type": "code",
   "execution_count": null,
   "metadata": {},
   "outputs": [],
   "source": [
    "# 강사님 풀이 \n",
    "df['확진일'].value_counts()\n",
    "df['확진일'].value_counts().sort_index()\n",
    "df['확진일'].value_counts().sort_index().cumsum()\n",
    "cumsum_df = df['확진일'].value_counts().sort_index().cumsum().to_frame() #데이터프레임으로 변환한다.\n",
    "cumsum_df.columns = ['누적확진자수']\n",
    "cumsum_df"
   ]
  },
  {
   "cell_type": "markdown",
   "metadata": {},
   "source": [
    "## 3.2 확진자수 파생변수 생성"
   ]
  },
  {
   "cell_type": "code",
   "execution_count": null,
   "metadata": {},
   "outputs": [],
   "source": [
    "df['누적확진자수'] = df.groupby('확진일')['ID'].cumsum()\n",
    "df"
   ]
  },
  {
   "cell_type": "code",
   "execution_count": null,
   "metadata": {},
   "outputs": [],
   "source": [
    "누적확진자수 = df.groupby('확진일')['ID'].cumsum().sort_values(ascending = False)\n",
    "누적확진자수"
   ]
  },
  {
   "cell_type": "code",
   "execution_count": null,
   "metadata": {},
   "outputs": [],
   "source": [
    "# 강사님 풀이 \n",
    "cumsum_df['확진자수'] = df['확진일'].value_counts().sort_index()\n",
    "cumsum_df.head()"
   ]
  },
  {
   "cell_type": "markdown",
   "metadata": {},
   "source": [
    "## 3.3 누적 확진자수 선그래프"
   ]
  },
  {
   "cell_type": "code",
   "execution_count": null,
   "metadata": {},
   "outputs": [],
   "source": [
    "누적확진자수.plot(kind = 'line')\n",
    "plt.show()"
   ]
  },
  {
   "cell_type": "code",
   "execution_count": null,
   "metadata": {},
   "outputs": [],
   "source": [
    "# 강사님 풀이 \n",
    "cumsum_df['누적확진자수'].plot(kind = 'line', figsize = (15,5))\n",
    "cumsum_df.plot(kind ='line', figsize = (15,5)) # 그래프가 2개 그래짐 -> 근데 노란색이 변화가 거의 없다 보니 트윈엑스 통해서 표현가능\n",
    "plt.show()"
   ]
  },
  {
   "cell_type": "markdown",
   "metadata": {},
   "source": [
    "# 4. 자치구 기준 확진자 조회"
   ]
  },
  {
   "cell_type": "markdown",
   "metadata": {},
   "source": [
    "## 4.1 자치구별 확진자수 조회"
   ]
  },
  {
   "cell_type": "code",
   "execution_count": null,
   "metadata": {},
   "outputs": [],
   "source": [
    "df['자치구'].unique()"
   ]
  },
  {
   "cell_type": "code",
   "execution_count": null,
   "metadata": {
    "scrolled": true
   },
   "outputs": [],
   "source": [
    "자치구별_확진자수 = df.pivot_table(index = '자치구', values = ('ID') ,aggfunc = 'count').sort_values('ID')\n",
    "자치구별_확진자수\n",
    "자치구별_확진자수.mean()"
   ]
  },
  {
   "cell_type": "code",
   "execution_count": null,
   "metadata": {
    "scrolled": true
   },
   "outputs": [],
   "source": [
    "# 강사님 풀이\n",
    "자치구별_확진자수 = df['자치구'].value_counts()\n",
    "자치구별_확진자수"
   ]
  },
  {
   "cell_type": "markdown",
   "metadata": {
    "ExecuteTime": {
     "end_time": "2020-08-22T14:19:41.422028Z",
     "start_time": "2020-08-22T14:19:40.632144Z"
    }
   },
   "source": [
    "## 4.2 자치구별 확진자수 시각화"
   ]
  },
  {
   "cell_type": "code",
   "execution_count": null,
   "metadata": {},
   "outputs": [],
   "source": [
    "자치구별_확진자수.plot(kind = 'bar', figsize = (20,10))\n",
    "\n",
    "plt.axhline(y=1113.37037, color = 'r', label = '자치구별 평균 확진자수')\n",
    "\n",
    "plt.title('자치구별 확진자수')\n",
    "plt.legend()\n",
    "plt.grid(True)\n",
    "plt.show()"
   ]
  },
  {
   "cell_type": "code",
   "execution_count": null,
   "metadata": {},
   "outputs": [],
   "source": [
    "# 강사님 풀이 \n",
    "자치구별_확진자수.sort_values().plot(kind = 'barh',figsize = (20,10)) #  컬럼이 많으면 바보다 바에이치가 더 낫다. # 화면상 큰것 부터 보기위해 정렬\n"
   ]
  },
  {
   "cell_type": "markdown",
   "metadata": {},
   "source": [
    "# 5. 접촉력 관련 확진자 조회"
   ]
  },
  {
   "cell_type": "markdown",
   "metadata": {},
   "source": [
    "## 5.1 가장 많은 집단 감염자를 낸 접촉력 상위 15개 조회"
   ]
  },
  {
   "cell_type": "code",
   "execution_count": null,
   "metadata": {},
   "outputs": [],
   "source": [
    "접촉력_상위15 = df.groupby('접촉력')['ID'].count().sort_values(ascending = False).head(15)\n",
    "접촉력_상위15\n",
    "접촉력_상위15.index"
   ]
  },
  {
   "cell_type": "code",
   "execution_count": null,
   "metadata": {},
   "outputs": [],
   "source": [
    "# 강사님 풀이 \n",
    "# df['접촉력'].nuique() # 512 값이 너무 많다. 범주치고는 \n",
    "df['접촉력'].value_counts().head(15)"
   ]
  },
  {
   "cell_type": "markdown",
   "metadata": {
    "ExecuteTime": {
     "end_time": "2020-08-22T14:21:14.842511Z",
     "start_time": "2020-08-22T14:21:14.814585Z"
    }
   },
   "source": [
    "## 5.2 가장 많은 집단 감염자를 낸 접촉력 하위 15 "
   ]
  },
  {
   "cell_type": "code",
   "execution_count": null,
   "metadata": {},
   "outputs": [],
   "source": [
    "접촉력_하위15 = df.groupby('접촉력')['ID'].count().sort_values().head(30)\n",
    "접촉력_하위15\n",
    "#TOdo : 1로 중복되는 경우가 많은데 이건 어떻게 하지? "
   ]
  },
  {
   "cell_type": "code",
   "execution_count": null,
   "metadata": {},
   "outputs": [],
   "source": [
    "# 강사님 풀이 \n",
    "df['접촉력'].value_counts().tail(15)"
   ]
  },
  {
   "cell_type": "markdown",
   "metadata": {
    "ExecuteTime": {
     "end_time": "2020-08-22T14:21:15.511336Z",
     "start_time": "2020-08-22T14:21:15.499366Z"
    }
   },
   "source": [
    "## 5.3 접촉력 상위 15개만 시각화"
   ]
  },
  {
   "cell_type": "code",
   "execution_count": null,
   "metadata": {},
   "outputs": [],
   "source": [
    "접촉력_상위15.plot(kind = 'bar', figsize = (20,10))\n",
    "\n",
    "plt.title('접촉력 상위 15', fontsize = 20)\n",
    "plt.xlabel('접촉력', )\n",
    "plt.grid(True)\n",
    "plt.show()"
   ]
  },
  {
   "cell_type": "code",
   "execution_count": null,
   "metadata": {},
   "outputs": [],
   "source": [
    "# 강사님 \n",
    "df['접촉력'].value_counts().head(15).sort_values().plot(kind = 'barh', figsize = (5, 10))\n",
    "plt.show()"
   ]
  },
  {
   "cell_type": "markdown",
   "metadata": {},
   "source": [
    "## 5.4 확진자를 가장 많이 발생시킨 접촉력 상위 15개를 기준으로  월별 빈도수를 집계\n",
    "- 몇 월에 발생했는지 확인 (년도는 무시)"
   ]
  },
  {
   "cell_type": "code",
   "execution_count": null,
   "metadata": {},
   "outputs": [],
   "source": [
    "접촉력_상위_15_월별 = df.loc[df['접촉력'].isin(접촉력_상위15.index),['ID','월','접촉력']]\n",
    "접촉력_상위_15_월별.groupby(['월'])['ID'].count()"
   ]
  },
  {
   "cell_type": "code",
   "execution_count": null,
   "metadata": {},
   "outputs": [],
   "source": [
    "# 강사님 풀이 \n",
    "idx = df['접촉력'].value_counts().head(15).index\n",
    "idx\n",
    "\n",
    "df.loc[df['접촉력'].isin(idx)].pivot_table(values = 'ID', \n",
    "                                        index = '접촉력',\n",
    "                                       columns = '월',\n",
    "                                       aggfunc = 'count',\n",
    "                                       fill_value = 0)\n"
   ]
  },
  {
   "cell_type": "markdown",
   "metadata": {},
   "source": [
    "# 6. 현재상태 관련조회"
   ]
  },
  {
   "cell_type": "markdown",
   "metadata": {},
   "source": [
    "## 6.1 사망자 수/비율 조회"
   ]
  },
  {
   "cell_type": "code",
   "execution_count": null,
   "metadata": {},
   "outputs": [],
   "source": [
    "df['현재상태'].unique() # 사망, 퇴원, nan(치료중)\n",
    "status_count = df['현재상태'].value_counts()\n",
    "status_count[0] # 사망자수 \n",
    "status_count[1] # 퇴원자수 \n",
    "\n",
    "\n",
    "# 컬럼별 결측 값 개수 구하기 : df.isnull().sum()\n",
    "df['현재상태'].isnull().sum() # 치료중 : 2918\n",
    "\n",
    "# NaN값을 '치료중'으로 df.fillna()\n",
    "df['현재상태'].fillna('치료중')\n",
    "\n",
    "print(type(status_count))\n",
    "\n",
    "# 치료중 추가하기 \n",
    "status_count.loc['치료중'] = df['현재상태'].isnull().sum()\n",
    "status_count"
   ]
  },
  {
   "cell_type": "code",
   "execution_count": null,
   "metadata": {},
   "outputs": [],
   "source": [
    "status_df = df.replace({'현재상태':np.nan},{'현재상태':'치료중'})\n",
    "status_df"
   ]
  },
  {
   "cell_type": "code",
   "execution_count": null,
   "metadata": {},
   "outputs": [],
   "source": [
    "status_df['현재상태'].unique()\n",
    "현재상태_수 = status_df['현재상태'].value_counts()\n",
    "현재상태_수"
   ]
  },
  {
   "cell_type": "code",
   "execution_count": null,
   "metadata": {},
   "outputs": [],
   "source": [
    "status_df.groupby('현재상태')['ID'].count()"
   ]
  },
  {
   "cell_type": "code",
   "execution_count": null,
   "metadata": {},
   "outputs": [],
   "source": [
    "# 강사님 풀이 \n",
    "df['현재상태'].value_counts()['사망'] # 사망자수 \n",
    "df['현재상태'].value_counts()['퇴원'] # 퇴원자수 \n",
    "\n",
    "(df['현재상태'] == '사망').mean()\n",
    "(df['현재상태'] == '퇴원').mean()"
   ]
  },
  {
   "cell_type": "markdown",
   "metadata": {},
   "source": [
    "## 6.2 퇴원, 사망자, 치료중(NA)의 비율을 시각화"
   ]
  },
  {
   "cell_type": "code",
   "execution_count": null,
   "metadata": {},
   "outputs": [],
   "source": [
    "현재상태_수.plot(kind = 'pie', \n",
    "            autopct = '%.2f%%', \n",
    "            figsize = (10,10), \n",
    "            fontsize = 20,\n",
    "           explode =[0,0.2,0],\n",
    "           shadow = True)\n",
    "\n",
    "plt.title('현재상태 비율')\n",
    "plt.show()"
   ]
  },
  {
   "cell_type": "code",
   "execution_count": null,
   "metadata": {},
   "outputs": [],
   "source": [
    "# 강사님 풀이 \n",
    "df['현재상태'].value_counts(dropna = False)\n",
    "\n",
    "# 치료중으로 표현하고 싶다면\n",
    "df['현재상태'].fillna('치료중').value_counts()\n",
    "\n",
    "df['현재상태'].fillna('치료중').value_counts().plot(\n",
    "    kind = 'pie',\n",
    "    autopct = '%.2f',\n",
    "    figsize = (7,7))\n",
    "plt.show()"
   ]
  },
  {
   "cell_type": "code",
   "execution_count": null,
   "metadata": {},
   "outputs": [],
   "source": []
  }
 ],
 "metadata": {
  "kernelspec": {
   "display_name": "Python 3",
   "language": "python",
   "name": "python3"
  },
  "language_info": {
   "codemirror_mode": {
    "name": "ipython",
    "version": 3
   },
   "file_extension": ".py",
   "mimetype": "text/x-python",
   "name": "python",
   "nbconvert_exporter": "python",
   "pygments_lexer": "ipython3",
   "version": "3.8.5"
  },
  "toc": {
   "base_numbering": 1,
   "nav_menu": {},
   "number_sections": true,
   "sideBar": true,
   "skip_h1_title": false,
   "title_cell": "Table of Contents",
   "title_sidebar": "Contents",
   "toc_cell": false,
   "toc_position": {},
   "toc_section_display": true,
   "toc_window_display": false
  },
  "varInspector": {
   "cols": {
    "lenName": 16,
    "lenType": 16,
    "lenVar": 40
   },
   "kernels_config": {
    "python": {
     "delete_cmd_postfix": "",
     "delete_cmd_prefix": "del ",
     "library": "var_list.py",
     "varRefreshCmd": "print(var_dic_list())"
    },
    "r": {
     "delete_cmd_postfix": ") ",
     "delete_cmd_prefix": "rm(",
     "library": "var_list.r",
     "varRefreshCmd": "cat(var_dic_list()) "
    }
   },
   "types_to_exclude": [
    "module",
    "function",
    "builtin_function_or_method",
    "instance",
    "_Feature"
   ],
   "window_display": false
  }
 },
 "nbformat": 4,
 "nbformat_minor": 4
}
