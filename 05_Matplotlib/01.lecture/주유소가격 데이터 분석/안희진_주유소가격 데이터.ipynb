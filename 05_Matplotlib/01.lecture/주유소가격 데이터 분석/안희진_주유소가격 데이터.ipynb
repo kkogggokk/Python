{
 "cells": [
  {
   "cell_type": "code",
   "execution_count": 1,
   "metadata": {},
   "outputs": [],
   "source": [
    "import numpy as np\n",
    "import pandas as pd\n",
    "import matplotlib.pyplot as plt \n",
    "import seaborn as sns"
   ]
  },
  {
   "cell_type": "markdown",
   "metadata": {},
   "source": [
    "# 데이터 불러오기\n",
    ">- 1번 ) 2019년 주유소들의 일자별 가격 데이터"
   ]
  },
  {
   "cell_type": "code",
   "execution_count": 2,
   "metadata": {
    "ExecuteTime": {
     "end_time": "2020-08-16T12:00:17.372117Z",
     "start_time": "2020-08-16T12:00:16.763745Z"
    }
   },
   "outputs": [
    {
     "name": "stdout",
     "output_type": "stream",
     "text": [
      "<class 'pandas.core.frame.DataFrame'>\n",
      "RangeIndex: 90590 entries, 0 to 90589\n",
      "Data columns (total 11 columns):\n",
      " #   Column  Non-Null Count  Dtype \n",
      "---  ------  --------------  ----- \n",
      " 0   번호      90590 non-null  object\n",
      " 1   지역      90590 non-null  object\n",
      " 2   상호      90590 non-null  object\n",
      " 3   주소      90590 non-null  object\n",
      " 4   기간      90590 non-null  int64 \n",
      " 5   상표      90590 non-null  object\n",
      " 6   셀프여부    90590 non-null  object\n",
      " 7   고급휘발유   90590 non-null  int64 \n",
      " 8   휘발유     90590 non-null  int64 \n",
      " 9   경유      90590 non-null  int64 \n",
      " 10  실내등유    90590 non-null  int64 \n",
      "dtypes: int64(5), object(6)\n",
      "memory usage: 7.6+ MB\n"
     ]
    }
   ],
   "source": [
    "# 상반기, 하반기 주유소 가격 데이터 조회\n",
    "first = pd.read_csv('data/2019년 상반기 주유소 판매가격.csv', encoding = 'utf-8')\n",
    "second = pd.read_csv('data/2019년 하반기 주유소 판매가격.csv', encoding = 'utf-8')\n",
    "\n",
    "first.shape, second.shape\n",
    "first.info()"
   ]
  },
  {
   "cell_type": "code",
   "execution_count": 3,
   "metadata": {
    "ExecuteTime": {
     "end_time": "2020-08-16T12:00:17.419988Z",
     "start_time": "2020-08-16T12:00:17.375108Z"
    }
   },
   "outputs": [
    {
     "data": {
      "text/plain": [
       "(181714, 11)"
      ]
     },
     "execution_count": 3,
     "metadata": {},
     "output_type": "execute_result"
    }
   ],
   "source": [
    "# 상반기, 하반기 DataFrame  합치기\n",
    "'''합치기\n",
    "방법1)concat\n",
    "방법2)join\n",
    "방법3)merge\n",
    "'''\n",
    "df = pd.concat([first, second], axis = 0, ignore_index = True )\n",
    "df.shape"
   ]
  },
  {
   "cell_type": "code",
   "execution_count": 4,
   "metadata": {
    "ExecuteTime": {
     "end_time": "2020-08-16T12:21:48.358526Z",
     "start_time": "2020-08-16T12:21:48.350548Z"
    }
   },
   "outputs": [
    {
     "name": "stdout",
     "output_type": "stream",
     "text": [
      "<class 'pandas.core.frame.DataFrame'>\n",
      "RangeIndex: 181714 entries, 0 to 181713\n",
      "Data columns (total 11 columns):\n",
      " #   Column  Non-Null Count   Dtype \n",
      "---  ------  --------------   ----- \n",
      " 0   번호      181714 non-null  object\n",
      " 1   지역      181714 non-null  object\n",
      " 2   상호      181714 non-null  object\n",
      " 3   주소      181714 non-null  object\n",
      " 4   기간      181714 non-null  int64 \n",
      " 5   상표      181714 non-null  object\n",
      " 6   셀프여부    181714 non-null  object\n",
      " 7   고급휘발유   181714 non-null  int64 \n",
      " 8   휘발유     181714 non-null  int64 \n",
      " 9   경유      181714 non-null  int64 \n",
      " 10  실내등유    181714 non-null  int64 \n",
      "dtypes: int64(5), object(6)\n",
      "memory usage: 15.3+ MB\n"
     ]
    },
    {
     "data": {
      "text/html": [
       "<div>\n",
       "<style scoped>\n",
       "    .dataframe tbody tr th:only-of-type {\n",
       "        vertical-align: middle;\n",
       "    }\n",
       "\n",
       "    .dataframe tbody tr th {\n",
       "        vertical-align: top;\n",
       "    }\n",
       "\n",
       "    .dataframe thead th {\n",
       "        text-align: right;\n",
       "    }\n",
       "</style>\n",
       "<table border=\"1\" class=\"dataframe\">\n",
       "  <thead>\n",
       "    <tr style=\"text-align: right;\">\n",
       "      <th></th>\n",
       "      <th>번호</th>\n",
       "      <th>지역</th>\n",
       "      <th>상호</th>\n",
       "      <th>주소</th>\n",
       "      <th>상표</th>\n",
       "      <th>셀프여부</th>\n",
       "    </tr>\n",
       "  </thead>\n",
       "  <tbody>\n",
       "    <tr>\n",
       "      <th>count</th>\n",
       "      <td>181714</td>\n",
       "      <td>181714</td>\n",
       "      <td>181714</td>\n",
       "      <td>181714</td>\n",
       "      <td>181714</td>\n",
       "      <td>181714</td>\n",
       "    </tr>\n",
       "    <tr>\n",
       "      <th>unique</th>\n",
       "      <td>512</td>\n",
       "      <td>25</td>\n",
       "      <td>507</td>\n",
       "      <td>512</td>\n",
       "      <td>8</td>\n",
       "      <td>2</td>\n",
       "    </tr>\n",
       "    <tr>\n",
       "      <th>top</th>\n",
       "      <td>A0009177</td>\n",
       "      <td>서울 강남구</td>\n",
       "      <td>신성주유소</td>\n",
       "      <td>서울특별시 서초구  효령로 356 (서초동)</td>\n",
       "      <td>SK에너지</td>\n",
       "      <td>일반</td>\n",
       "    </tr>\n",
       "    <tr>\n",
       "      <th>freq</th>\n",
       "      <td>365</td>\n",
       "      <td>14597</td>\n",
       "      <td>1095</td>\n",
       "      <td>365</td>\n",
       "      <td>71062</td>\n",
       "      <td>108492</td>\n",
       "    </tr>\n",
       "  </tbody>\n",
       "</table>\n",
       "</div>"
      ],
      "text/plain": [
       "              번호      지역      상호                        주소      상표    셀프여부\n",
       "count     181714  181714  181714                    181714  181714  181714\n",
       "unique       512      25     507                       512       8       2\n",
       "top     A0009177  서울 강남구   신성주유소  서울특별시 서초구  효령로 356 (서초동)   SK에너지      일반\n",
       "freq         365   14597    1095                       365   71062  108492"
      ]
     },
     "execution_count": 4,
     "metadata": {},
     "output_type": "execute_result"
    }
   ],
   "source": [
    "# DataFrame 기본 정보 조회\n",
    "df.shape\n",
    "df.info()\n",
    "df.head()\n",
    "df.tail()\n",
    "df.describe()\n",
    "df.describe(include ='object') # 문자열 컬럼의 요약 통계"
   ]
  },
  {
   "cell_type": "markdown",
   "metadata": {},
   "source": [
    "- 인덱스가 A, B 두 0 - 9만얼마, 0-9만얼마 로 연속하게 되지 않았기 때문에 콘켓할때 ignore_index를 하게되면 인덱스가 0번부만 18만 으로 붙게된다. \n",
    "- 결측치는 없다. \n",
    "- 데이터타입은 잘 맞는지 확인하기 \n",
    "- 기간컬럼의타입이 int로 되어있는데 int가 편할지 등등 \n",
    "- describe확인하면 고급휘발유인데 값들이 낮다? 0인 부분들이 있다. 이럴때 출처에서 왜 0인지 확인을 해야한다. 수집을못해서 0으로 한거면 결측치이며 잘못된 정보를 기입한거면 이상치. \n",
    "- "
   ]
  },
  {
   "cell_type": "code",
   "execution_count": 5,
   "metadata": {
    "ExecuteTime": {
     "end_time": "2020-08-16T12:00:17.845850Z",
     "start_time": "2020-08-16T12:00:17.818922Z"
    }
   },
   "outputs": [
    {
     "data": {
      "text/plain": [
       "SK에너지     71062\n",
       "GS칼텍스     49494\n",
       "현대오일뱅크    28583\n",
       "S-OIL     27027\n",
       "알뜰주유소      4021\n",
       "자가상표        982\n",
       "알뜰(ex)      365\n",
       "NH-OIL      180\n",
       "Name: 상표, dtype: int64"
      ]
     },
     "execution_count": 5,
     "metadata": {},
     "output_type": "execute_result"
    }
   ],
   "source": [
    "# 상표 컬럼의 고유값 조회\n",
    "df['상표'].unique()\n",
    "df['상표'].value_counts()"
   ]
  },
  {
   "cell_type": "code",
   "execution_count": 6,
   "metadata": {
    "ExecuteTime": {
     "end_time": "2020-08-16T12:00:17.876769Z",
     "start_time": "2020-08-16T12:00:17.848841Z"
    }
   },
   "outputs": [
    {
     "data": {
      "text/plain": [
       "서울 강남구     14597\n",
       "서울 서초구     13762\n",
       "서울 강서구     12572\n",
       "서울 영등포구    11667\n",
       "서울 송파구     11630\n",
       "서울 양천구      9149\n",
       "서울 성북구      8080\n",
       "서울 동대문구     7996\n",
       "서울 구로구      7917\n",
       "서울 도봉구      6711\n",
       "서울 광진구      6450\n",
       "서울 은평구      6199\n",
       "서울 성동구      6192\n",
       "서울 관악구      5997\n",
       "서울 강동구      5897\n",
       "서울 중랑구      5719\n",
       "서울 서대문구     5594\n",
       "서울 노원구      5466\n",
       "서울 용산구      5439\n",
       "서울 금천구      4738\n",
       "서울 강북구      4736\n",
       "서울 중구       4235\n",
       "서울 마포구      4051\n",
       "서울 동작구      3644\n",
       "서울 종로구      3276\n",
       "Name: 지역, dtype: int64"
      ]
     },
     "execution_count": 6,
     "metadata": {},
     "output_type": "execute_result"
    }
   ],
   "source": [
    "# 지역 컬럼의 고유값 조회\n",
    "df['지역'].value_counts()"
   ]
  },
  {
   "cell_type": "code",
   "execution_count": 7,
   "metadata": {},
   "outputs": [
    {
     "data": {
      "text/plain": [
       "일반    108492\n",
       "셀프     73222\n",
       "Name: 셀프여부, dtype: int64"
      ]
     },
     "execution_count": 7,
     "metadata": {},
     "output_type": "execute_result"
    }
   ],
   "source": [
    "df['셀프여부'].value_counts()"
   ]
  },
  {
   "cell_type": "markdown",
   "metadata": {},
   "source": [
    "> ### str accessor\n",
    "> - `Series.str.String메소드()`\n",
    "> - 문자열 타입 Series에 String 메소드들을 사용하여 **일괄처리** 할 수 있도록 한다.\n",
    "> - str accessor 메소드 : https://pandas.pydata.org/pandas-docs/stable/reference/series.html#api-series-str\n",
    "\n",
    "> ### datetime으로 변환\n",
    "> - `pd.to_datetime(변환할 Series)`\n",
    "> - x 또는 y 축이 날짜 일 경우 datetime 타입으로 처리하는 것이 좋다.\n",
    "> - datetime을 변환하면 날짜만의 기능을 다룰 수 있다.\n",
    ">     - dt accessor를 이용해 datetime의 속성값들을(년, 월, 일 등) 추출할 수 있다.\n",
    ">     - https://pandas.pydata.org/pandas-docs/stable/reference/api/pandas.Series.dt.html"
   ]
  },
  {
   "cell_type": "code",
   "execution_count": 8,
   "metadata": {},
   "outputs": [
    {
     "data": {
      "text/plain": [
       "0         강남구\n",
       "1         강남구\n",
       "2         강남구\n",
       "3         강남구\n",
       "4         강남구\n",
       "         ... \n",
       "181709    중랑구\n",
       "181710    중랑구\n",
       "181711    중랑구\n",
       "181712    중랑구\n",
       "181713    중랑구\n",
       "Name: 지역, Length: 181714, dtype: object"
      ]
     },
     "execution_count": 8,
     "metadata": {},
     "output_type": "execute_result"
    }
   ],
   "source": [
    "# apply 예시 \n",
    "def test(s):\n",
    "    return s.split(' ')[1] # 공백을 기준으로 나눔 \n",
    "df['지역'].apply(test)"
   ]
  },
  {
   "cell_type": "code",
   "execution_count": 9,
   "metadata": {
    "ExecuteTime": {
     "end_time": "2020-08-16T12:00:18.289663Z",
     "start_time": "2020-08-16T12:00:17.881760Z"
    }
   },
   "outputs": [
    {
     "data": {
      "text/html": [
       "<div>\n",
       "<style scoped>\n",
       "    .dataframe tbody tr th:only-of-type {\n",
       "        vertical-align: middle;\n",
       "    }\n",
       "\n",
       "    .dataframe tbody tr th {\n",
       "        vertical-align: top;\n",
       "    }\n",
       "\n",
       "    .dataframe thead th {\n",
       "        text-align: right;\n",
       "    }\n",
       "</style>\n",
       "<table border=\"1\" class=\"dataframe\">\n",
       "  <thead>\n",
       "    <tr style=\"text-align: right;\">\n",
       "      <th></th>\n",
       "      <th>번호</th>\n",
       "      <th>지역</th>\n",
       "      <th>상호</th>\n",
       "      <th>주소</th>\n",
       "      <th>기간</th>\n",
       "      <th>상표</th>\n",
       "      <th>셀프여부</th>\n",
       "      <th>고급휘발유</th>\n",
       "      <th>휘발유</th>\n",
       "      <th>경유</th>\n",
       "      <th>실내등유</th>\n",
       "      <th>구</th>\n",
       "    </tr>\n",
       "  </thead>\n",
       "  <tbody>\n",
       "    <tr>\n",
       "      <th>0</th>\n",
       "      <td>A0006039</td>\n",
       "      <td>서울 강남구</td>\n",
       "      <td>(주)동하힐탑셀프주유소</td>\n",
       "      <td>서울 강남구 논현로 640</td>\n",
       "      <td>20190101</td>\n",
       "      <td>SK에너지</td>\n",
       "      <td>셀프</td>\n",
       "      <td>1673</td>\n",
       "      <td>1465</td>\n",
       "      <td>1365</td>\n",
       "      <td>0</td>\n",
       "      <td>강남구</td>\n",
       "    </tr>\n",
       "    <tr>\n",
       "      <th>1</th>\n",
       "      <td>A0006039</td>\n",
       "      <td>서울 강남구</td>\n",
       "      <td>(주)동하힐탑셀프주유소</td>\n",
       "      <td>서울 강남구 논현로 640</td>\n",
       "      <td>20190102</td>\n",
       "      <td>SK에너지</td>\n",
       "      <td>셀프</td>\n",
       "      <td>1673</td>\n",
       "      <td>1465</td>\n",
       "      <td>1365</td>\n",
       "      <td>0</td>\n",
       "      <td>강남구</td>\n",
       "    </tr>\n",
       "    <tr>\n",
       "      <th>2</th>\n",
       "      <td>A0006039</td>\n",
       "      <td>서울 강남구</td>\n",
       "      <td>(주)동하힐탑셀프주유소</td>\n",
       "      <td>서울 강남구 논현로 640</td>\n",
       "      <td>20190103</td>\n",
       "      <td>SK에너지</td>\n",
       "      <td>셀프</td>\n",
       "      <td>1673</td>\n",
       "      <td>1465</td>\n",
       "      <td>1365</td>\n",
       "      <td>0</td>\n",
       "      <td>강남구</td>\n",
       "    </tr>\n",
       "    <tr>\n",
       "      <th>3</th>\n",
       "      <td>A0006039</td>\n",
       "      <td>서울 강남구</td>\n",
       "      <td>(주)동하힐탑셀프주유소</td>\n",
       "      <td>서울 강남구 논현로 640</td>\n",
       "      <td>20190104</td>\n",
       "      <td>SK에너지</td>\n",
       "      <td>셀프</td>\n",
       "      <td>1673</td>\n",
       "      <td>1465</td>\n",
       "      <td>1365</td>\n",
       "      <td>0</td>\n",
       "      <td>강남구</td>\n",
       "    </tr>\n",
       "    <tr>\n",
       "      <th>4</th>\n",
       "      <td>A0006039</td>\n",
       "      <td>서울 강남구</td>\n",
       "      <td>(주)동하힐탑셀프주유소</td>\n",
       "      <td>서울 강남구 논현로 640</td>\n",
       "      <td>20190105</td>\n",
       "      <td>SK에너지</td>\n",
       "      <td>셀프</td>\n",
       "      <td>1673</td>\n",
       "      <td>1465</td>\n",
       "      <td>1365</td>\n",
       "      <td>0</td>\n",
       "      <td>강남구</td>\n",
       "    </tr>\n",
       "  </tbody>\n",
       "</table>\n",
       "</div>"
      ],
      "text/plain": [
       "         번호      지역            상호              주소        기간     상표 셀프여부  \\\n",
       "0  A0006039  서울 강남구  (주)동하힐탑셀프주유소  서울 강남구 논현로 640  20190101  SK에너지   셀프   \n",
       "1  A0006039  서울 강남구  (주)동하힐탑셀프주유소  서울 강남구 논현로 640  20190102  SK에너지   셀프   \n",
       "2  A0006039  서울 강남구  (주)동하힐탑셀프주유소  서울 강남구 논현로 640  20190103  SK에너지   셀프   \n",
       "3  A0006039  서울 강남구  (주)동하힐탑셀프주유소  서울 강남구 논현로 640  20190104  SK에너지   셀프   \n",
       "4  A0006039  서울 강남구  (주)동하힐탑셀프주유소  서울 강남구 논현로 640  20190105  SK에너지   셀프   \n",
       "\n",
       "   고급휘발유   휘발유    경유  실내등유    구  \n",
       "0   1673  1465  1365     0  강남구  \n",
       "1   1673  1465  1365     0  강남구  \n",
       "2   1673  1465  1365     0  강남구  \n",
       "3   1673  1465  1365     0  강남구  \n",
       "4   1673  1465  1365     0  강남구  "
      ]
     },
     "execution_count": 9,
     "metadata": {},
     "output_type": "execute_result"
    }
   ],
   "source": [
    "# 지역 컬럼의 값을 이용하여 \"구\" 컬럼 생성 (지역에서 구만 추출)\n",
    "df['구'] = df['지역'].str.split(' ').str[1]\n",
    "df.head()"
   ]
  },
  {
   "cell_type": "markdown",
   "metadata": {},
   "source": [
    "# =======2교시 ======="
   ]
  },
  {
   "cell_type": "markdown",
   "metadata": {},
   "source": [
    "- 날짜형태는 날짜에 맞춰서 하는것이 좋다. \n",
    "- pd.to_datetime을 사용해서 "
   ]
  },
  {
   "cell_type": "code",
   "execution_count": 10,
   "metadata": {},
   "outputs": [
    {
     "data": {
      "text/plain": [
       "5.507469177246094e-05"
      ]
     },
     "execution_count": 10,
     "metadata": {},
     "output_type": "execute_result"
    }
   ],
   "source": [
    "# 유닉스 타임이란 \n",
    "import time \n",
    "a = time.time()\n",
    "a # 1970.01.01 00:00:00 부터 실행시점 까지 초 단위로 계산값이 나온다. \n",
    "# 언제쓰나? 얼마나 걸리는지 확인할 때 \n",
    "# code\n",
    "b = time.time()\n",
    "b - a"
   ]
  },
  {
   "cell_type": "code",
   "execution_count": 11,
   "metadata": {
    "ExecuteTime": {
     "end_time": "2020-08-16T12:00:18.334543Z",
     "start_time": "2020-08-16T12:00:18.292656Z"
    }
   },
   "outputs": [],
   "source": [
    "# 방법1) 기간 컬럼을 datetime 타입으로 변경\n",
    "pd.to_datetime(df['기간']) # 날짜가 유닉스 타임으로 변경되었다. \n",
    "# 지역마다 시간을 표현하는 방법이 다르다. 그래서 변환할때 연-월-일을 알려줘야 한다.\n",
    "# 20190101 : %Y (), %m (), %d(), %H, %M ,%S \n",
    "df['기간'] = pd.to_datetime(df['기간'], format = '%Y%m%d')"
   ]
  },
  {
   "cell_type": "code",
   "execution_count": 12,
   "metadata": {},
   "outputs": [
    {
     "name": "stdout",
     "output_type": "stream",
     "text": [
      "<class 'pandas.core.frame.DataFrame'>\n",
      "RangeIndex: 181714 entries, 0 to 181713\n",
      "Data columns (total 12 columns):\n",
      " #   Column  Non-Null Count   Dtype         \n",
      "---  ------  --------------   -----         \n",
      " 0   번호      181714 non-null  object        \n",
      " 1   지역      181714 non-null  object        \n",
      " 2   상호      181714 non-null  object        \n",
      " 3   주소      181714 non-null  object        \n",
      " 4   기간      181714 non-null  datetime64[ns]\n",
      " 5   상표      181714 non-null  object        \n",
      " 6   셀프여부    181714 non-null  object        \n",
      " 7   고급휘발유   181714 non-null  int64         \n",
      " 8   휘발유     181714 non-null  int64         \n",
      " 9   경유      181714 non-null  int64         \n",
      " 10  실내등유    181714 non-null  int64         \n",
      " 11  구       181714 non-null  object        \n",
      "dtypes: datetime64[ns](1), int64(4), object(7)\n",
      "memory usage: 16.6+ MB\n"
     ]
    }
   ],
   "source": [
    "df.info()"
   ]
  },
  {
   "cell_type": "code",
   "execution_count": 13,
   "metadata": {
    "collapsed": true
   },
   "outputs": [
    {
     "name": "stdout",
     "output_type": "stream",
     "text": [
      "<class 'pandas.core.frame.DataFrame'>\n",
      "RangeIndex: 90590 entries, 0 to 90589\n",
      "Data columns (total 11 columns):\n",
      " #   Column  Non-Null Count  Dtype         \n",
      "---  ------  --------------  -----         \n",
      " 0   번호      90590 non-null  object        \n",
      " 1   지역      90590 non-null  object        \n",
      " 2   상호      90590 non-null  object        \n",
      " 3   주소      90590 non-null  object        \n",
      " 4   기간      90590 non-null  datetime64[ns]\n",
      " 5   상표      90590 non-null  object        \n",
      " 6   셀프여부    90590 non-null  object        \n",
      " 7   고급휘발유   90590 non-null  int64         \n",
      " 8   휘발유     90590 non-null  int64         \n",
      " 9   경유      90590 non-null  int64         \n",
      " 10  실내등유    90590 non-null  int64         \n",
      "dtypes: datetime64[ns](1), int64(4), object(6)\n",
      "memory usage: 7.6+ MB\n",
      "<class 'pandas.core.frame.DataFrame'>\n",
      "RangeIndex: 90590 entries, 0 to 90589\n",
      "Data columns (total 11 columns):\n",
      " #   Column  Non-Null Count  Dtype         \n",
      "---  ------  --------------  -----         \n",
      " 0   번호      90590 non-null  object        \n",
      " 1   지역      90590 non-null  object        \n",
      " 2   상호      90590 non-null  object        \n",
      " 3   주소      90590 non-null  object        \n",
      " 4   기간      90590 non-null  datetime64[ns]\n",
      " 5   상표      90590 non-null  object        \n",
      " 6   셀프여부    90590 non-null  object        \n",
      " 7   고급휘발유   90590 non-null  int64         \n",
      " 8   휘발유     90590 non-null  int64         \n",
      " 9   경유      90590 non-null  int64         \n",
      " 10  실내등유    90590 non-null  int64         \n",
      "dtypes: datetime64[ns](1), int64(4), object(6)\n",
      "memory usage: 7.6+ MB\n"
     ]
    }
   ],
   "source": [
    "# 방법2) read_csv()로 읽을때 변환하기 \n",
    "# parse_dates = ['datetime 타입으로 읽을 컬럼', ...]\n",
    "# date_parser = 변환함수 \n",
    "\n",
    "from datetime import datetime\n",
    "def parser(x): # 데이터를 받는 매개변수\n",
    "    # strftime() : datetime을 str으로 (to_char())\n",
    "    # strptime() : str -> datetime(to_date())\n",
    "    # x : 컬럼의 원소들을 받음 \n",
    "    return datetime.strptime(x,'%Y%m%d')\n",
    "\n",
    "first2 = pd.read_csv('data/2019년 상반기 주유소 판매가격.csv', \n",
    "                     parse_dates = ['기간'], \n",
    "                     date_parser = parser) # 기간컬럼을 읽어와서 \"parser\"함수를 이용해 datetime으로 변환해라.\n",
    "\n",
    "# 아니면 람다함수를 이용해서 파서를 지정할 수 있다. \n",
    "first3 = pd.read_csv('data/2019년 상반기 주유소 판매가격.csv', \n",
    "                     parse_dates = ['기간'], \n",
    "                     date_parser = lambda x : datetime.strptime(x,'%Y%m%d'))\n",
    "first2.info()\n",
    "first3.info()"
   ]
  },
  {
   "cell_type": "code",
   "execution_count": 14,
   "metadata": {
    "ExecuteTime": {
     "end_time": "2020-08-16T12:00:18.445247Z",
     "start_time": "2020-08-16T12:00:18.338532Z"
    }
   },
   "outputs": [
    {
     "data": {
      "text/html": [
       "<div>\n",
       "<style scoped>\n",
       "    .dataframe tbody tr th:only-of-type {\n",
       "        vertical-align: middle;\n",
       "    }\n",
       "\n",
       "    .dataframe tbody tr th {\n",
       "        vertical-align: top;\n",
       "    }\n",
       "\n",
       "    .dataframe thead th {\n",
       "        text-align: right;\n",
       "    }\n",
       "</style>\n",
       "<table border=\"1\" class=\"dataframe\">\n",
       "  <thead>\n",
       "    <tr style=\"text-align: right;\">\n",
       "      <th></th>\n",
       "      <th>번호</th>\n",
       "      <th>지역</th>\n",
       "      <th>상호</th>\n",
       "      <th>주소</th>\n",
       "      <th>기간</th>\n",
       "      <th>상표</th>\n",
       "      <th>셀프여부</th>\n",
       "      <th>고급휘발유</th>\n",
       "      <th>휘발유</th>\n",
       "      <th>경유</th>\n",
       "      <th>실내등유</th>\n",
       "      <th>구</th>\n",
       "      <th>년</th>\n",
       "      <th>월</th>\n",
       "      <th>일</th>\n",
       "      <th>요일</th>\n",
       "    </tr>\n",
       "  </thead>\n",
       "  <tbody>\n",
       "    <tr>\n",
       "      <th>0</th>\n",
       "      <td>A0006039</td>\n",
       "      <td>서울 강남구</td>\n",
       "      <td>(주)동하힐탑셀프주유소</td>\n",
       "      <td>서울 강남구 논현로 640</td>\n",
       "      <td>2019-01-01</td>\n",
       "      <td>SK에너지</td>\n",
       "      <td>셀프</td>\n",
       "      <td>1673</td>\n",
       "      <td>1465</td>\n",
       "      <td>1365</td>\n",
       "      <td>0</td>\n",
       "      <td>강남구</td>\n",
       "      <td>2019</td>\n",
       "      <td>1</td>\n",
       "      <td>1</td>\n",
       "      <td>1</td>\n",
       "    </tr>\n",
       "    <tr>\n",
       "      <th>1</th>\n",
       "      <td>A0006039</td>\n",
       "      <td>서울 강남구</td>\n",
       "      <td>(주)동하힐탑셀프주유소</td>\n",
       "      <td>서울 강남구 논현로 640</td>\n",
       "      <td>2019-01-02</td>\n",
       "      <td>SK에너지</td>\n",
       "      <td>셀프</td>\n",
       "      <td>1673</td>\n",
       "      <td>1465</td>\n",
       "      <td>1365</td>\n",
       "      <td>0</td>\n",
       "      <td>강남구</td>\n",
       "      <td>2019</td>\n",
       "      <td>1</td>\n",
       "      <td>2</td>\n",
       "      <td>2</td>\n",
       "    </tr>\n",
       "    <tr>\n",
       "      <th>2</th>\n",
       "      <td>A0006039</td>\n",
       "      <td>서울 강남구</td>\n",
       "      <td>(주)동하힐탑셀프주유소</td>\n",
       "      <td>서울 강남구 논현로 640</td>\n",
       "      <td>2019-01-03</td>\n",
       "      <td>SK에너지</td>\n",
       "      <td>셀프</td>\n",
       "      <td>1673</td>\n",
       "      <td>1465</td>\n",
       "      <td>1365</td>\n",
       "      <td>0</td>\n",
       "      <td>강남구</td>\n",
       "      <td>2019</td>\n",
       "      <td>1</td>\n",
       "      <td>3</td>\n",
       "      <td>3</td>\n",
       "    </tr>\n",
       "    <tr>\n",
       "      <th>3</th>\n",
       "      <td>A0006039</td>\n",
       "      <td>서울 강남구</td>\n",
       "      <td>(주)동하힐탑셀프주유소</td>\n",
       "      <td>서울 강남구 논현로 640</td>\n",
       "      <td>2019-01-04</td>\n",
       "      <td>SK에너지</td>\n",
       "      <td>셀프</td>\n",
       "      <td>1673</td>\n",
       "      <td>1465</td>\n",
       "      <td>1365</td>\n",
       "      <td>0</td>\n",
       "      <td>강남구</td>\n",
       "      <td>2019</td>\n",
       "      <td>1</td>\n",
       "      <td>4</td>\n",
       "      <td>4</td>\n",
       "    </tr>\n",
       "    <tr>\n",
       "      <th>4</th>\n",
       "      <td>A0006039</td>\n",
       "      <td>서울 강남구</td>\n",
       "      <td>(주)동하힐탑셀프주유소</td>\n",
       "      <td>서울 강남구 논현로 640</td>\n",
       "      <td>2019-01-05</td>\n",
       "      <td>SK에너지</td>\n",
       "      <td>셀프</td>\n",
       "      <td>1673</td>\n",
       "      <td>1465</td>\n",
       "      <td>1365</td>\n",
       "      <td>0</td>\n",
       "      <td>강남구</td>\n",
       "      <td>2019</td>\n",
       "      <td>1</td>\n",
       "      <td>5</td>\n",
       "      <td>5</td>\n",
       "    </tr>\n",
       "  </tbody>\n",
       "</table>\n",
       "</div>"
      ],
      "text/plain": [
       "         번호      지역            상호              주소         기간     상표 셀프여부  \\\n",
       "0  A0006039  서울 강남구  (주)동하힐탑셀프주유소  서울 강남구 논현로 640 2019-01-01  SK에너지   셀프   \n",
       "1  A0006039  서울 강남구  (주)동하힐탑셀프주유소  서울 강남구 논현로 640 2019-01-02  SK에너지   셀프   \n",
       "2  A0006039  서울 강남구  (주)동하힐탑셀프주유소  서울 강남구 논현로 640 2019-01-03  SK에너지   셀프   \n",
       "3  A0006039  서울 강남구  (주)동하힐탑셀프주유소  서울 강남구 논현로 640 2019-01-04  SK에너지   셀프   \n",
       "4  A0006039  서울 강남구  (주)동하힐탑셀프주유소  서울 강남구 논현로 640 2019-01-05  SK에너지   셀프   \n",
       "\n",
       "   고급휘발유   휘발유    경유  실내등유    구     년  월  일  요일  \n",
       "0   1673  1465  1365     0  강남구  2019  1  1   1  \n",
       "1   1673  1465  1365     0  강남구  2019  1  2   2  \n",
       "2   1673  1465  1365     0  강남구  2019  1  3   3  \n",
       "3   1673  1465  1365     0  강남구  2019  1  4   4  \n",
       "4   1673  1465  1365     0  강남구  2019  1  5   5  "
      ]
     },
     "execution_count": 14,
     "metadata": {},
     "output_type": "execute_result"
    }
   ],
   "source": [
    "# 기간 컬럼을 이용해 \"월\", \"일\", \"요일\" 컬럼 생성\n",
    "df['년'] = df['기간'].dt.year\n",
    "df['월'] = df['기간'].dt.month\n",
    "df['일'] = df['기간'].dt.day\n",
    "df['요일'] = df['기간'].dt.dayofweek # 요일 월(0) - 일(6) \n",
    "\n",
    "df.head()"
   ]
  },
  {
   "cell_type": "code",
   "execution_count": 15,
   "metadata": {},
   "outputs": [],
   "source": [
    "# 년 컬럼 삭제하기 \n",
    "df.drop(labels = '년', axis = 1, inplace = True)"
   ]
  },
  {
   "cell_type": "code",
   "execution_count": 16,
   "metadata": {},
   "outputs": [
    {
     "data": {
      "text/html": [
       "<div>\n",
       "<style scoped>\n",
       "    .dataframe tbody tr th:only-of-type {\n",
       "        vertical-align: middle;\n",
       "    }\n",
       "\n",
       "    .dataframe tbody tr th {\n",
       "        vertical-align: top;\n",
       "    }\n",
       "\n",
       "    .dataframe thead th {\n",
       "        text-align: right;\n",
       "    }\n",
       "</style>\n",
       "<table border=\"1\" class=\"dataframe\">\n",
       "  <thead>\n",
       "    <tr style=\"text-align: right;\">\n",
       "      <th></th>\n",
       "      <th>번호</th>\n",
       "      <th>지역</th>\n",
       "      <th>상호</th>\n",
       "      <th>주소</th>\n",
       "      <th>기간</th>\n",
       "      <th>상표</th>\n",
       "      <th>셀프여부</th>\n",
       "      <th>고급휘발유</th>\n",
       "      <th>휘발유</th>\n",
       "      <th>경유</th>\n",
       "      <th>실내등유</th>\n",
       "      <th>구</th>\n",
       "      <th>월</th>\n",
       "      <th>일</th>\n",
       "      <th>요일</th>\n",
       "    </tr>\n",
       "  </thead>\n",
       "  <tbody>\n",
       "    <tr>\n",
       "      <th>0</th>\n",
       "      <td>A0006039</td>\n",
       "      <td>서울 강남구</td>\n",
       "      <td>(주)동하힐탑셀프주유소</td>\n",
       "      <td>서울 강남구 논현로 640</td>\n",
       "      <td>2019-01-01</td>\n",
       "      <td>SK에너지</td>\n",
       "      <td>셀프</td>\n",
       "      <td>1673</td>\n",
       "      <td>1465</td>\n",
       "      <td>1365</td>\n",
       "      <td>0</td>\n",
       "      <td>강남구</td>\n",
       "      <td>1</td>\n",
       "      <td>1</td>\n",
       "      <td>화</td>\n",
       "    </tr>\n",
       "    <tr>\n",
       "      <th>1</th>\n",
       "      <td>A0006039</td>\n",
       "      <td>서울 강남구</td>\n",
       "      <td>(주)동하힐탑셀프주유소</td>\n",
       "      <td>서울 강남구 논현로 640</td>\n",
       "      <td>2019-01-02</td>\n",
       "      <td>SK에너지</td>\n",
       "      <td>셀프</td>\n",
       "      <td>1673</td>\n",
       "      <td>1465</td>\n",
       "      <td>1365</td>\n",
       "      <td>0</td>\n",
       "      <td>강남구</td>\n",
       "      <td>1</td>\n",
       "      <td>2</td>\n",
       "      <td>수</td>\n",
       "    </tr>\n",
       "    <tr>\n",
       "      <th>2</th>\n",
       "      <td>A0006039</td>\n",
       "      <td>서울 강남구</td>\n",
       "      <td>(주)동하힐탑셀프주유소</td>\n",
       "      <td>서울 강남구 논현로 640</td>\n",
       "      <td>2019-01-03</td>\n",
       "      <td>SK에너지</td>\n",
       "      <td>셀프</td>\n",
       "      <td>1673</td>\n",
       "      <td>1465</td>\n",
       "      <td>1365</td>\n",
       "      <td>0</td>\n",
       "      <td>강남구</td>\n",
       "      <td>1</td>\n",
       "      <td>3</td>\n",
       "      <td>목</td>\n",
       "    </tr>\n",
       "    <tr>\n",
       "      <th>3</th>\n",
       "      <td>A0006039</td>\n",
       "      <td>서울 강남구</td>\n",
       "      <td>(주)동하힐탑셀프주유소</td>\n",
       "      <td>서울 강남구 논현로 640</td>\n",
       "      <td>2019-01-04</td>\n",
       "      <td>SK에너지</td>\n",
       "      <td>셀프</td>\n",
       "      <td>1673</td>\n",
       "      <td>1465</td>\n",
       "      <td>1365</td>\n",
       "      <td>0</td>\n",
       "      <td>강남구</td>\n",
       "      <td>1</td>\n",
       "      <td>4</td>\n",
       "      <td>금</td>\n",
       "    </tr>\n",
       "    <tr>\n",
       "      <th>4</th>\n",
       "      <td>A0006039</td>\n",
       "      <td>서울 강남구</td>\n",
       "      <td>(주)동하힐탑셀프주유소</td>\n",
       "      <td>서울 강남구 논현로 640</td>\n",
       "      <td>2019-01-05</td>\n",
       "      <td>SK에너지</td>\n",
       "      <td>셀프</td>\n",
       "      <td>1673</td>\n",
       "      <td>1465</td>\n",
       "      <td>1365</td>\n",
       "      <td>0</td>\n",
       "      <td>강남구</td>\n",
       "      <td>1</td>\n",
       "      <td>5</td>\n",
       "      <td>토</td>\n",
       "    </tr>\n",
       "  </tbody>\n",
       "</table>\n",
       "</div>"
      ],
      "text/plain": [
       "         번호      지역            상호              주소         기간     상표 셀프여부  \\\n",
       "0  A0006039  서울 강남구  (주)동하힐탑셀프주유소  서울 강남구 논현로 640 2019-01-01  SK에너지   셀프   \n",
       "1  A0006039  서울 강남구  (주)동하힐탑셀프주유소  서울 강남구 논현로 640 2019-01-02  SK에너지   셀프   \n",
       "2  A0006039  서울 강남구  (주)동하힐탑셀프주유소  서울 강남구 논현로 640 2019-01-03  SK에너지   셀프   \n",
       "3  A0006039  서울 강남구  (주)동하힐탑셀프주유소  서울 강남구 논현로 640 2019-01-04  SK에너지   셀프   \n",
       "4  A0006039  서울 강남구  (주)동하힐탑셀프주유소  서울 강남구 논현로 640 2019-01-05  SK에너지   셀프   \n",
       "\n",
       "   고급휘발유   휘발유    경유  실내등유    구  월  일 요일  \n",
       "0   1673  1465  1365     0  강남구  1  1  화  \n",
       "1   1673  1465  1365     0  강남구  1  2  수  \n",
       "2   1673  1465  1365     0  강남구  1  3  목  \n",
       "3   1673  1465  1365     0  강남구  1  4  금  \n",
       "4   1673  1465  1365     0  강남구  1  5  토  "
      ]
     },
     "execution_count": 16,
     "metadata": {},
     "output_type": "execute_result"
    }
   ],
   "source": [
    "# 월-일 로 넣고 싶다면? 요일을 문자열로 변환 월(0) - 일(6) \n",
    "# 함수를 만들어서 어플라이를 하면된다. \n",
    "# 람다를 쓰기에는 좀 별로임? 왜? \n",
    "def change_day_str(x) :\n",
    "    if x == 0 :\n",
    "        return '월'\n",
    "    if x == 1 : \n",
    "        return '화'\n",
    "    if x == 2 : \n",
    "        return '수'\n",
    "    if x == 3 : \n",
    "        return '목'\n",
    "    if x == 4 : \n",
    "        return '금'\n",
    "    if x == 5 : \n",
    "        return '토'\n",
    "    if x == 6 : \n",
    "        return '일'\n",
    "    \n",
    "df['요일'] = df['요일'].apply(change_day_str)\n",
    "df.head()"
   ]
  },
  {
   "cell_type": "code",
   "execution_count": 17,
   "metadata": {
    "ExecuteTime": {
     "end_time": "2020-08-16T12:00:18.691588Z",
     "start_time": "2020-08-16T12:00:18.585871Z"
    }
   },
   "outputs": [
    {
     "data": {
      "text/html": [
       "<div>\n",
       "<style scoped>\n",
       "    .dataframe tbody tr th:only-of-type {\n",
       "        vertical-align: middle;\n",
       "    }\n",
       "\n",
       "    .dataframe tbody tr th {\n",
       "        vertical-align: top;\n",
       "    }\n",
       "\n",
       "    .dataframe thead th {\n",
       "        text-align: right;\n",
       "    }\n",
       "</style>\n",
       "<table border=\"1\" class=\"dataframe\">\n",
       "  <thead>\n",
       "    <tr style=\"text-align: right;\">\n",
       "      <th></th>\n",
       "      <th>번호</th>\n",
       "      <th>지역</th>\n",
       "      <th>상호</th>\n",
       "      <th>주소</th>\n",
       "      <th>기간</th>\n",
       "      <th>상표</th>\n",
       "      <th>셀프여부</th>\n",
       "      <th>고급휘발유</th>\n",
       "      <th>휘발유</th>\n",
       "      <th>경유</th>\n",
       "      <th>실내등유</th>\n",
       "      <th>구</th>\n",
       "      <th>월</th>\n",
       "      <th>일</th>\n",
       "      <th>요일</th>\n",
       "    </tr>\n",
       "  </thead>\n",
       "  <tbody>\n",
       "    <tr>\n",
       "      <th>177210</th>\n",
       "      <td>A0000767</td>\n",
       "      <td>서울 중구</td>\n",
       "      <td>서남주유소</td>\n",
       "      <td>서울 중구 통일로 30</td>\n",
       "      <td>2019-09-24</td>\n",
       "      <td>SK에너지</td>\n",
       "      <td>일반</td>\n",
       "      <td>2649</td>\n",
       "      <td>2356</td>\n",
       "      <td>2196</td>\n",
       "      <td>0</td>\n",
       "      <td>중구</td>\n",
       "      <td>9</td>\n",
       "      <td>24</td>\n",
       "      <td>화</td>\n",
       "    </tr>\n",
       "    <tr>\n",
       "      <th>177211</th>\n",
       "      <td>A0000767</td>\n",
       "      <td>서울 중구</td>\n",
       "      <td>서남주유소</td>\n",
       "      <td>서울 중구 통일로 30</td>\n",
       "      <td>2019-09-25</td>\n",
       "      <td>SK에너지</td>\n",
       "      <td>일반</td>\n",
       "      <td>2649</td>\n",
       "      <td>2356</td>\n",
       "      <td>2196</td>\n",
       "      <td>0</td>\n",
       "      <td>중구</td>\n",
       "      <td>9</td>\n",
       "      <td>25</td>\n",
       "      <td>수</td>\n",
       "    </tr>\n",
       "    <tr>\n",
       "      <th>177212</th>\n",
       "      <td>A0000767</td>\n",
       "      <td>서울 중구</td>\n",
       "      <td>서남주유소</td>\n",
       "      <td>서울 중구 통일로 30</td>\n",
       "      <td>2019-09-26</td>\n",
       "      <td>SK에너지</td>\n",
       "      <td>일반</td>\n",
       "      <td>2699</td>\n",
       "      <td>2356</td>\n",
       "      <td>2196</td>\n",
       "      <td>0</td>\n",
       "      <td>중구</td>\n",
       "      <td>9</td>\n",
       "      <td>26</td>\n",
       "      <td>목</td>\n",
       "    </tr>\n",
       "    <tr>\n",
       "      <th>177213</th>\n",
       "      <td>A0000767</td>\n",
       "      <td>서울 중구</td>\n",
       "      <td>서남주유소</td>\n",
       "      <td>서울 중구 통일로 30</td>\n",
       "      <td>2019-09-27</td>\n",
       "      <td>SK에너지</td>\n",
       "      <td>일반</td>\n",
       "      <td>2699</td>\n",
       "      <td>2356</td>\n",
       "      <td>2196</td>\n",
       "      <td>0</td>\n",
       "      <td>중구</td>\n",
       "      <td>9</td>\n",
       "      <td>27</td>\n",
       "      <td>금</td>\n",
       "    </tr>\n",
       "    <tr>\n",
       "      <th>177214</th>\n",
       "      <td>A0000767</td>\n",
       "      <td>서울 중구</td>\n",
       "      <td>서남주유소</td>\n",
       "      <td>서울 중구 통일로 30</td>\n",
       "      <td>2019-09-28</td>\n",
       "      <td>SK에너지</td>\n",
       "      <td>일반</td>\n",
       "      <td>2699</td>\n",
       "      <td>2356</td>\n",
       "      <td>2196</td>\n",
       "      <td>0</td>\n",
       "      <td>중구</td>\n",
       "      <td>9</td>\n",
       "      <td>28</td>\n",
       "      <td>토</td>\n",
       "    </tr>\n",
       "  </tbody>\n",
       "</table>\n",
       "</div>"
      ],
      "text/plain": [
       "              번호     지역     상호            주소         기간     상표 셀프여부  고급휘발유  \\\n",
       "177210  A0000767  서울 중구  서남주유소  서울 중구 통일로 30 2019-09-24  SK에너지   일반   2649   \n",
       "177211  A0000767  서울 중구  서남주유소  서울 중구 통일로 30 2019-09-25  SK에너지   일반   2649   \n",
       "177212  A0000767  서울 중구  서남주유소  서울 중구 통일로 30 2019-09-26  SK에너지   일반   2699   \n",
       "177213  A0000767  서울 중구  서남주유소  서울 중구 통일로 30 2019-09-27  SK에너지   일반   2699   \n",
       "177214  A0000767  서울 중구  서남주유소  서울 중구 통일로 30 2019-09-28  SK에너지   일반   2699   \n",
       "\n",
       "         휘발유    경유  실내등유   구  월   일 요일  \n",
       "177210  2356  2196     0  중구  9  24  화  \n",
       "177211  2356  2196     0  중구  9  25  수  \n",
       "177212  2356  2196     0  중구  9  26  목  \n",
       "177213  2356  2196     0  중구  9  27  금  \n",
       "177214  2356  2196     0  중구  9  28  토  "
      ]
     },
     "execution_count": 17,
     "metadata": {},
     "output_type": "execute_result"
    }
   ],
   "source": [
    "# 휘발유 가격이 가장 비싼 5개 행 조회\n",
    "df.sort_values('휘발유', ascending = False).head(5)\n",
    "# 응용 : 2차 정렬\n",
    "df.sort_values(['휘발유', '월'], ascending = [False, True]).head(5)"
   ]
  },
  {
   "cell_type": "markdown",
   "metadata": {},
   "source": [
    "- 상위, 하위 n개 조회는 정렬 후에 head(n)으로 지정한다\n",
    "- "
   ]
  },
  {
   "cell_type": "code",
   "execution_count": 18,
   "metadata": {
    "ExecuteTime": {
     "end_time": "2020-08-16T12:00:18.816253Z",
     "start_time": "2020-08-16T12:00:18.694578Z"
    }
   },
   "outputs": [
    {
     "data": {
      "text/html": [
       "<div>\n",
       "<style scoped>\n",
       "    .dataframe tbody tr th:only-of-type {\n",
       "        vertical-align: middle;\n",
       "    }\n",
       "\n",
       "    .dataframe tbody tr th {\n",
       "        vertical-align: top;\n",
       "    }\n",
       "\n",
       "    .dataframe thead th {\n",
       "        text-align: right;\n",
       "    }\n",
       "</style>\n",
       "<table border=\"1\" class=\"dataframe\">\n",
       "  <thead>\n",
       "    <tr style=\"text-align: right;\">\n",
       "      <th></th>\n",
       "      <th>번호</th>\n",
       "      <th>지역</th>\n",
       "      <th>상호</th>\n",
       "      <th>주소</th>\n",
       "      <th>기간</th>\n",
       "      <th>상표</th>\n",
       "      <th>셀프여부</th>\n",
       "      <th>고급휘발유</th>\n",
       "      <th>휘발유</th>\n",
       "      <th>경유</th>\n",
       "      <th>실내등유</th>\n",
       "      <th>구</th>\n",
       "      <th>월</th>\n",
       "      <th>일</th>\n",
       "      <th>요일</th>\n",
       "    </tr>\n",
       "  </thead>\n",
       "  <tbody>\n",
       "    <tr>\n",
       "      <th>13148</th>\n",
       "      <td>A0033328</td>\n",
       "      <td>서울 강서구</td>\n",
       "      <td>KH에너지(주)직영 KH외발산주유소</td>\n",
       "      <td>서울 강서구 방화대로 30</td>\n",
       "      <td>2019-02-07</td>\n",
       "      <td>SK에너지</td>\n",
       "      <td>셀프</td>\n",
       "      <td>1788</td>\n",
       "      <td>1255</td>\n",
       "      <td>1155</td>\n",
       "      <td>0</td>\n",
       "      <td>강서구</td>\n",
       "      <td>2</td>\n",
       "      <td>7</td>\n",
       "      <td>목</td>\n",
       "    </tr>\n",
       "    <tr>\n",
       "      <th>82475</th>\n",
       "      <td>A0000605</td>\n",
       "      <td>서울 은평구</td>\n",
       "      <td>삼융주유소</td>\n",
       "      <td>서울 은평구 수색로 299 (수색동)</td>\n",
       "      <td>2019-01-31</td>\n",
       "      <td>SK에너지</td>\n",
       "      <td>일반</td>\n",
       "      <td>0</td>\n",
       "      <td>1260</td>\n",
       "      <td>1160</td>\n",
       "      <td>0</td>\n",
       "      <td>은평구</td>\n",
       "      <td>1</td>\n",
       "      <td>31</td>\n",
       "      <td>목</td>\n",
       "    </tr>\n",
       "    <tr>\n",
       "      <th>82474</th>\n",
       "      <td>A0000605</td>\n",
       "      <td>서울 은평구</td>\n",
       "      <td>삼융주유소</td>\n",
       "      <td>서울 은평구 수색로 299 (수색동)</td>\n",
       "      <td>2019-01-30</td>\n",
       "      <td>SK에너지</td>\n",
       "      <td>일반</td>\n",
       "      <td>0</td>\n",
       "      <td>1260</td>\n",
       "      <td>1160</td>\n",
       "      <td>0</td>\n",
       "      <td>은평구</td>\n",
       "      <td>1</td>\n",
       "      <td>30</td>\n",
       "      <td>수</td>\n",
       "    </tr>\n",
       "    <tr>\n",
       "      <th>82476</th>\n",
       "      <td>A0000605</td>\n",
       "      <td>서울 은평구</td>\n",
       "      <td>삼융주유소</td>\n",
       "      <td>서울 은평구 수색로 299 (수색동)</td>\n",
       "      <td>2019-02-01</td>\n",
       "      <td>SK에너지</td>\n",
       "      <td>일반</td>\n",
       "      <td>0</td>\n",
       "      <td>1260</td>\n",
       "      <td>1160</td>\n",
       "      <td>0</td>\n",
       "      <td>은평구</td>\n",
       "      <td>2</td>\n",
       "      <td>1</td>\n",
       "      <td>금</td>\n",
       "    </tr>\n",
       "    <tr>\n",
       "      <th>82998</th>\n",
       "      <td>A0000690</td>\n",
       "      <td>서울 은평구</td>\n",
       "      <td>지에스칼텍스(주)수색뉴타운주유소</td>\n",
       "      <td>서울 은평구 수색로 350 (수색동)</td>\n",
       "      <td>2019-01-26</td>\n",
       "      <td>GS칼텍스</td>\n",
       "      <td>셀프</td>\n",
       "      <td>0</td>\n",
       "      <td>1265</td>\n",
       "      <td>1165</td>\n",
       "      <td>0</td>\n",
       "      <td>은평구</td>\n",
       "      <td>1</td>\n",
       "      <td>26</td>\n",
       "      <td>토</td>\n",
       "    </tr>\n",
       "  </tbody>\n",
       "</table>\n",
       "</div>"
      ],
      "text/plain": [
       "             번호      지역                   상호                    주소         기간  \\\n",
       "13148  A0033328  서울 강서구  KH에너지(주)직영 KH외발산주유소        서울 강서구 방화대로 30 2019-02-07   \n",
       "82475  A0000605  서울 은평구                삼융주유소  서울 은평구 수색로 299 (수색동) 2019-01-31   \n",
       "82474  A0000605  서울 은평구                삼융주유소  서울 은평구 수색로 299 (수색동) 2019-01-30   \n",
       "82476  A0000605  서울 은평구                삼융주유소  서울 은평구 수색로 299 (수색동) 2019-02-01   \n",
       "82998  A0000690  서울 은평구    지에스칼텍스(주)수색뉴타운주유소  서울 은평구 수색로 350 (수색동) 2019-01-26   \n",
       "\n",
       "          상표 셀프여부  고급휘발유   휘발유    경유  실내등유    구  월   일 요일  \n",
       "13148  SK에너지   셀프   1788  1255  1155     0  강서구  2   7  목  \n",
       "82475  SK에너지   일반      0  1260  1160     0  은평구  1  31  목  \n",
       "82474  SK에너지   일반      0  1260  1160     0  은평구  1  30  수  \n",
       "82476  SK에너지   일반      0  1260  1160     0  은평구  2   1  금  \n",
       "82998  GS칼텍스   셀프      0  1265  1165     0  은평구  1  26  토  "
      ]
     },
     "execution_count": 18,
     "metadata": {},
     "output_type": "execute_result"
    }
   ],
   "source": [
    "# 휘발유 가격이 가장 저렴한 5개 행 조회 (단 0원인 주유소 제외)\n",
    "# 휘발유가 0이 아닌 가격 조회\n",
    "# df[df['휘발유'] != 0].\n",
    "\n",
    "df[df['휘발유'] != 0].sort_values('휘발유').head(5)"
   ]
  },
  {
   "cell_type": "code",
   "execution_count": 19,
   "metadata": {
    "ExecuteTime": {
     "end_time": "2020-08-16T12:00:18.893049Z",
     "start_time": "2020-08-16T12:00:18.820243Z"
    }
   },
   "outputs": [
    {
     "data": {
      "text/html": [
       "<div>\n",
       "<style scoped>\n",
       "    .dataframe tbody tr th:only-of-type {\n",
       "        vertical-align: middle;\n",
       "    }\n",
       "\n",
       "    .dataframe tbody tr th {\n",
       "        vertical-align: top;\n",
       "    }\n",
       "\n",
       "    .dataframe thead th {\n",
       "        text-align: right;\n",
       "    }\n",
       "</style>\n",
       "<table border=\"1\" class=\"dataframe\">\n",
       "  <thead>\n",
       "    <tr style=\"text-align: right;\">\n",
       "      <th></th>\n",
       "      <th>번호</th>\n",
       "      <th>지역</th>\n",
       "      <th>상호</th>\n",
       "      <th>주소</th>\n",
       "      <th>기간</th>\n",
       "      <th>상표</th>\n",
       "      <th>셀프여부</th>\n",
       "      <th>고급휘발유</th>\n",
       "      <th>휘발유</th>\n",
       "      <th>경유</th>\n",
       "      <th>실내등유</th>\n",
       "      <th>구</th>\n",
       "      <th>월</th>\n",
       "      <th>일</th>\n",
       "      <th>요일</th>\n",
       "    </tr>\n",
       "  </thead>\n",
       "  <tbody>\n",
       "    <tr>\n",
       "      <th>177217</th>\n",
       "      <td>A0000767</td>\n",
       "      <td>서울 중구</td>\n",
       "      <td>서남주유소</td>\n",
       "      <td>서울 중구 통일로 30</td>\n",
       "      <td>2019-10-01</td>\n",
       "      <td>SK에너지</td>\n",
       "      <td>일반</td>\n",
       "      <td>2699</td>\n",
       "      <td>2356</td>\n",
       "      <td>2196</td>\n",
       "      <td>0</td>\n",
       "      <td>중구</td>\n",
       "      <td>10</td>\n",
       "      <td>1</td>\n",
       "      <td>화</td>\n",
       "    </tr>\n",
       "    <tr>\n",
       "      <th>177212</th>\n",
       "      <td>A0000767</td>\n",
       "      <td>서울 중구</td>\n",
       "      <td>서남주유소</td>\n",
       "      <td>서울 중구 통일로 30</td>\n",
       "      <td>2019-09-26</td>\n",
       "      <td>SK에너지</td>\n",
       "      <td>일반</td>\n",
       "      <td>2699</td>\n",
       "      <td>2356</td>\n",
       "      <td>2196</td>\n",
       "      <td>0</td>\n",
       "      <td>중구</td>\n",
       "      <td>9</td>\n",
       "      <td>26</td>\n",
       "      <td>목</td>\n",
       "    </tr>\n",
       "    <tr>\n",
       "      <th>177213</th>\n",
       "      <td>A0000767</td>\n",
       "      <td>서울 중구</td>\n",
       "      <td>서남주유소</td>\n",
       "      <td>서울 중구 통일로 30</td>\n",
       "      <td>2019-09-27</td>\n",
       "      <td>SK에너지</td>\n",
       "      <td>일반</td>\n",
       "      <td>2699</td>\n",
       "      <td>2356</td>\n",
       "      <td>2196</td>\n",
       "      <td>0</td>\n",
       "      <td>중구</td>\n",
       "      <td>9</td>\n",
       "      <td>27</td>\n",
       "      <td>금</td>\n",
       "    </tr>\n",
       "    <tr>\n",
       "      <th>177214</th>\n",
       "      <td>A0000767</td>\n",
       "      <td>서울 중구</td>\n",
       "      <td>서남주유소</td>\n",
       "      <td>서울 중구 통일로 30</td>\n",
       "      <td>2019-09-28</td>\n",
       "      <td>SK에너지</td>\n",
       "      <td>일반</td>\n",
       "      <td>2699</td>\n",
       "      <td>2356</td>\n",
       "      <td>2196</td>\n",
       "      <td>0</td>\n",
       "      <td>중구</td>\n",
       "      <td>9</td>\n",
       "      <td>28</td>\n",
       "      <td>토</td>\n",
       "    </tr>\n",
       "    <tr>\n",
       "      <th>177215</th>\n",
       "      <td>A0000767</td>\n",
       "      <td>서울 중구</td>\n",
       "      <td>서남주유소</td>\n",
       "      <td>서울 중구 통일로 30</td>\n",
       "      <td>2019-09-29</td>\n",
       "      <td>SK에너지</td>\n",
       "      <td>일반</td>\n",
       "      <td>2699</td>\n",
       "      <td>2356</td>\n",
       "      <td>2196</td>\n",
       "      <td>0</td>\n",
       "      <td>중구</td>\n",
       "      <td>9</td>\n",
       "      <td>29</td>\n",
       "      <td>일</td>\n",
       "    </tr>\n",
       "  </tbody>\n",
       "</table>\n",
       "</div>"
      ],
      "text/plain": [
       "              번호     지역     상호            주소         기간     상표 셀프여부  고급휘발유  \\\n",
       "177217  A0000767  서울 중구  서남주유소  서울 중구 통일로 30 2019-10-01  SK에너지   일반   2699   \n",
       "177212  A0000767  서울 중구  서남주유소  서울 중구 통일로 30 2019-09-26  SK에너지   일반   2699   \n",
       "177213  A0000767  서울 중구  서남주유소  서울 중구 통일로 30 2019-09-27  SK에너지   일반   2699   \n",
       "177214  A0000767  서울 중구  서남주유소  서울 중구 통일로 30 2019-09-28  SK에너지   일반   2699   \n",
       "177215  A0000767  서울 중구  서남주유소  서울 중구 통일로 30 2019-09-29  SK에너지   일반   2699   \n",
       "\n",
       "         휘발유    경유  실내등유   구   월   일 요일  \n",
       "177217  2356  2196     0  중구  10   1  화  \n",
       "177212  2356  2196     0  중구   9  26  목  \n",
       "177213  2356  2196     0  중구   9  27  금  \n",
       "177214  2356  2196     0  중구   9  28  토  \n",
       "177215  2356  2196     0  중구   9  29  일  "
      ]
     },
     "execution_count": 19,
     "metadata": {},
     "output_type": "execute_result"
    }
   ],
   "source": [
    "# 고급휘발유 가격이 가장 비싼 5개 행 조회\n",
    "\n",
    "df.sort_values('고급휘발유', ascending = False).head(5)"
   ]
  },
  {
   "cell_type": "code",
   "execution_count": 20,
   "metadata": {
    "ExecuteTime": {
     "end_time": "2020-08-16T12:00:18.971841Z",
     "start_time": "2020-08-16T12:00:18.896042Z"
    }
   },
   "outputs": [
    {
     "data": {
      "text/html": [
       "<div>\n",
       "<style scoped>\n",
       "    .dataframe tbody tr th:only-of-type {\n",
       "        vertical-align: middle;\n",
       "    }\n",
       "\n",
       "    .dataframe tbody tr th {\n",
       "        vertical-align: top;\n",
       "    }\n",
       "\n",
       "    .dataframe thead th {\n",
       "        text-align: right;\n",
       "    }\n",
       "</style>\n",
       "<table border=\"1\" class=\"dataframe\">\n",
       "  <thead>\n",
       "    <tr style=\"text-align: right;\">\n",
       "      <th></th>\n",
       "      <th>번호</th>\n",
       "      <th>지역</th>\n",
       "      <th>상호</th>\n",
       "      <th>주소</th>\n",
       "      <th>기간</th>\n",
       "      <th>상표</th>\n",
       "      <th>셀프여부</th>\n",
       "      <th>고급휘발유</th>\n",
       "      <th>휘발유</th>\n",
       "      <th>경유</th>\n",
       "      <th>실내등유</th>\n",
       "      <th>구</th>\n",
       "      <th>월</th>\n",
       "      <th>일</th>\n",
       "      <th>요일</th>\n",
       "    </tr>\n",
       "  </thead>\n",
       "  <tbody>\n",
       "    <tr>\n",
       "      <th>17460</th>\n",
       "      <td>A0000520</td>\n",
       "      <td>서울 강서구</td>\n",
       "      <td>하이웨이주유소</td>\n",
       "      <td>서울특별시 강서구 공항대로 432(화곡동)</td>\n",
       "      <td>2019-01-15</td>\n",
       "      <td>S-OIL</td>\n",
       "      <td>셀프</td>\n",
       "      <td>1397</td>\n",
       "      <td>1275</td>\n",
       "      <td>1175</td>\n",
       "      <td>0</td>\n",
       "      <td>강서구</td>\n",
       "      <td>1</td>\n",
       "      <td>15</td>\n",
       "      <td>화</td>\n",
       "    </tr>\n",
       "    <tr>\n",
       "      <th>17459</th>\n",
       "      <td>A0000520</td>\n",
       "      <td>서울 강서구</td>\n",
       "      <td>하이웨이주유소</td>\n",
       "      <td>서울특별시 강서구 공항대로 432(화곡동)</td>\n",
       "      <td>2019-01-14</td>\n",
       "      <td>S-OIL</td>\n",
       "      <td>셀프</td>\n",
       "      <td>1397</td>\n",
       "      <td>1275</td>\n",
       "      <td>1175</td>\n",
       "      <td>0</td>\n",
       "      <td>강서구</td>\n",
       "      <td>1</td>\n",
       "      <td>14</td>\n",
       "      <td>월</td>\n",
       "    </tr>\n",
       "    <tr>\n",
       "      <th>17458</th>\n",
       "      <td>A0000520</td>\n",
       "      <td>서울 강서구</td>\n",
       "      <td>하이웨이주유소</td>\n",
       "      <td>서울특별시 강서구 공항대로 432(화곡동)</td>\n",
       "      <td>2019-01-13</td>\n",
       "      <td>S-OIL</td>\n",
       "      <td>셀프</td>\n",
       "      <td>1397</td>\n",
       "      <td>1275</td>\n",
       "      <td>1175</td>\n",
       "      <td>0</td>\n",
       "      <td>강서구</td>\n",
       "      <td>1</td>\n",
       "      <td>13</td>\n",
       "      <td>일</td>\n",
       "    </tr>\n",
       "    <tr>\n",
       "      <th>17457</th>\n",
       "      <td>A0000520</td>\n",
       "      <td>서울 강서구</td>\n",
       "      <td>하이웨이주유소</td>\n",
       "      <td>서울특별시 강서구 공항대로 432(화곡동)</td>\n",
       "      <td>2019-01-12</td>\n",
       "      <td>S-OIL</td>\n",
       "      <td>셀프</td>\n",
       "      <td>1397</td>\n",
       "      <td>1275</td>\n",
       "      <td>1175</td>\n",
       "      <td>0</td>\n",
       "      <td>강서구</td>\n",
       "      <td>1</td>\n",
       "      <td>12</td>\n",
       "      <td>토</td>\n",
       "    </tr>\n",
       "    <tr>\n",
       "      <th>17456</th>\n",
       "      <td>A0000520</td>\n",
       "      <td>서울 강서구</td>\n",
       "      <td>하이웨이주유소</td>\n",
       "      <td>서울특별시 강서구 공항대로 432(화곡동)</td>\n",
       "      <td>2019-01-11</td>\n",
       "      <td>S-OIL</td>\n",
       "      <td>셀프</td>\n",
       "      <td>1397</td>\n",
       "      <td>1275</td>\n",
       "      <td>1175</td>\n",
       "      <td>0</td>\n",
       "      <td>강서구</td>\n",
       "      <td>1</td>\n",
       "      <td>11</td>\n",
       "      <td>금</td>\n",
       "    </tr>\n",
       "  </tbody>\n",
       "</table>\n",
       "</div>"
      ],
      "text/plain": [
       "             번호      지역       상호                       주소         기간     상표  \\\n",
       "17460  A0000520  서울 강서구  하이웨이주유소  서울특별시 강서구 공항대로 432(화곡동) 2019-01-15  S-OIL   \n",
       "17459  A0000520  서울 강서구  하이웨이주유소  서울특별시 강서구 공항대로 432(화곡동) 2019-01-14  S-OIL   \n",
       "17458  A0000520  서울 강서구  하이웨이주유소  서울특별시 강서구 공항대로 432(화곡동) 2019-01-13  S-OIL   \n",
       "17457  A0000520  서울 강서구  하이웨이주유소  서울특별시 강서구 공항대로 432(화곡동) 2019-01-12  S-OIL   \n",
       "17456  A0000520  서울 강서구  하이웨이주유소  서울특별시 강서구 공항대로 432(화곡동) 2019-01-11  S-OIL   \n",
       "\n",
       "      셀프여부  고급휘발유   휘발유    경유  실내등유    구  월   일 요일  \n",
       "17460   셀프   1397  1275  1175     0  강서구  1  15  화  \n",
       "17459   셀프   1397  1275  1175     0  강서구  1  14  월  \n",
       "17458   셀프   1397  1275  1175     0  강서구  1  13  일  \n",
       "17457   셀프   1397  1275  1175     0  강서구  1  12  토  \n",
       "17456   셀프   1397  1275  1175     0  강서구  1  11  금  "
      ]
     },
     "execution_count": 20,
     "metadata": {},
     "output_type": "execute_result"
    }
   ],
   "source": [
    "# 고급휘발유 가격이 가장 저렴한 5개 행 조회 (단 0원인 주유소 제외)\n",
    "\n",
    "df[df['고급휘발유'] != 0].sort_values('고급휘발유').head(5)"
   ]
  },
  {
   "cell_type": "code",
   "execution_count": 21,
   "metadata": {
    "ExecuteTime": {
     "end_time": "2020-08-16T12:00:19.051630Z",
     "start_time": "2020-08-16T12:00:18.975826Z"
    }
   },
   "outputs": [
    {
     "data": {
      "text/html": [
       "<div>\n",
       "<style scoped>\n",
       "    .dataframe tbody tr th:only-of-type {\n",
       "        vertical-align: middle;\n",
       "    }\n",
       "\n",
       "    .dataframe tbody tr th {\n",
       "        vertical-align: top;\n",
       "    }\n",
       "\n",
       "    .dataframe thead th {\n",
       "        text-align: right;\n",
       "    }\n",
       "</style>\n",
       "<table border=\"1\" class=\"dataframe\">\n",
       "  <thead>\n",
       "    <tr style=\"text-align: right;\">\n",
       "      <th></th>\n",
       "      <th>번호</th>\n",
       "      <th>지역</th>\n",
       "      <th>상호</th>\n",
       "      <th>주소</th>\n",
       "      <th>기간</th>\n",
       "      <th>상표</th>\n",
       "      <th>셀프여부</th>\n",
       "      <th>고급휘발유</th>\n",
       "      <th>휘발유</th>\n",
       "      <th>경유</th>\n",
       "      <th>실내등유</th>\n",
       "      <th>구</th>\n",
       "      <th>월</th>\n",
       "      <th>일</th>\n",
       "      <th>요일</th>\n",
       "    </tr>\n",
       "  </thead>\n",
       "  <tbody>\n",
       "    <tr>\n",
       "      <th>177211</th>\n",
       "      <td>A0000767</td>\n",
       "      <td>서울 중구</td>\n",
       "      <td>서남주유소</td>\n",
       "      <td>서울 중구 통일로 30</td>\n",
       "      <td>2019-09-25</td>\n",
       "      <td>SK에너지</td>\n",
       "      <td>일반</td>\n",
       "      <td>2649</td>\n",
       "      <td>2356</td>\n",
       "      <td>2196</td>\n",
       "      <td>0</td>\n",
       "      <td>중구</td>\n",
       "      <td>9</td>\n",
       "      <td>25</td>\n",
       "      <td>수</td>\n",
       "    </tr>\n",
       "    <tr>\n",
       "      <th>177212</th>\n",
       "      <td>A0000767</td>\n",
       "      <td>서울 중구</td>\n",
       "      <td>서남주유소</td>\n",
       "      <td>서울 중구 통일로 30</td>\n",
       "      <td>2019-09-26</td>\n",
       "      <td>SK에너지</td>\n",
       "      <td>일반</td>\n",
       "      <td>2699</td>\n",
       "      <td>2356</td>\n",
       "      <td>2196</td>\n",
       "      <td>0</td>\n",
       "      <td>중구</td>\n",
       "      <td>9</td>\n",
       "      <td>26</td>\n",
       "      <td>목</td>\n",
       "    </tr>\n",
       "    <tr>\n",
       "      <th>177217</th>\n",
       "      <td>A0000767</td>\n",
       "      <td>서울 중구</td>\n",
       "      <td>서남주유소</td>\n",
       "      <td>서울 중구 통일로 30</td>\n",
       "      <td>2019-10-01</td>\n",
       "      <td>SK에너지</td>\n",
       "      <td>일반</td>\n",
       "      <td>2699</td>\n",
       "      <td>2356</td>\n",
       "      <td>2196</td>\n",
       "      <td>0</td>\n",
       "      <td>중구</td>\n",
       "      <td>10</td>\n",
       "      <td>1</td>\n",
       "      <td>화</td>\n",
       "    </tr>\n",
       "    <tr>\n",
       "      <th>177216</th>\n",
       "      <td>A0000767</td>\n",
       "      <td>서울 중구</td>\n",
       "      <td>서남주유소</td>\n",
       "      <td>서울 중구 통일로 30</td>\n",
       "      <td>2019-09-30</td>\n",
       "      <td>SK에너지</td>\n",
       "      <td>일반</td>\n",
       "      <td>2699</td>\n",
       "      <td>2356</td>\n",
       "      <td>2196</td>\n",
       "      <td>0</td>\n",
       "      <td>중구</td>\n",
       "      <td>9</td>\n",
       "      <td>30</td>\n",
       "      <td>월</td>\n",
       "    </tr>\n",
       "    <tr>\n",
       "      <th>177215</th>\n",
       "      <td>A0000767</td>\n",
       "      <td>서울 중구</td>\n",
       "      <td>서남주유소</td>\n",
       "      <td>서울 중구 통일로 30</td>\n",
       "      <td>2019-09-29</td>\n",
       "      <td>SK에너지</td>\n",
       "      <td>일반</td>\n",
       "      <td>2699</td>\n",
       "      <td>2356</td>\n",
       "      <td>2196</td>\n",
       "      <td>0</td>\n",
       "      <td>중구</td>\n",
       "      <td>9</td>\n",
       "      <td>29</td>\n",
       "      <td>일</td>\n",
       "    </tr>\n",
       "  </tbody>\n",
       "</table>\n",
       "</div>"
      ],
      "text/plain": [
       "              번호     지역     상호            주소         기간     상표 셀프여부  고급휘발유  \\\n",
       "177211  A0000767  서울 중구  서남주유소  서울 중구 통일로 30 2019-09-25  SK에너지   일반   2649   \n",
       "177212  A0000767  서울 중구  서남주유소  서울 중구 통일로 30 2019-09-26  SK에너지   일반   2699   \n",
       "177217  A0000767  서울 중구  서남주유소  서울 중구 통일로 30 2019-10-01  SK에너지   일반   2699   \n",
       "177216  A0000767  서울 중구  서남주유소  서울 중구 통일로 30 2019-09-30  SK에너지   일반   2699   \n",
       "177215  A0000767  서울 중구  서남주유소  서울 중구 통일로 30 2019-09-29  SK에너지   일반   2699   \n",
       "\n",
       "         휘발유    경유  실내등유   구   월   일 요일  \n",
       "177211  2356  2196     0  중구   9  25  수  \n",
       "177212  2356  2196     0  중구   9  26  목  \n",
       "177217  2356  2196     0  중구  10   1  화  \n",
       "177216  2356  2196     0  중구   9  30  월  \n",
       "177215  2356  2196     0  중구   9  29  일  "
      ]
     },
     "execution_count": 21,
     "metadata": {},
     "output_type": "execute_result"
    }
   ],
   "source": [
    "#경유 가격이 가장 비싼 5개 행 조회\n",
    "df.sort_values('경유', ascending = False).head(5)"
   ]
  },
  {
   "cell_type": "code",
   "execution_count": 22,
   "metadata": {
    "ExecuteTime": {
     "end_time": "2020-08-16T12:00:19.178286Z",
     "start_time": "2020-08-16T12:00:19.055613Z"
    },
    "scrolled": true
   },
   "outputs": [
    {
     "data": {
      "text/html": [
       "<div>\n",
       "<style scoped>\n",
       "    .dataframe tbody tr th:only-of-type {\n",
       "        vertical-align: middle;\n",
       "    }\n",
       "\n",
       "    .dataframe tbody tr th {\n",
       "        vertical-align: top;\n",
       "    }\n",
       "\n",
       "    .dataframe thead th {\n",
       "        text-align: right;\n",
       "    }\n",
       "</style>\n",
       "<table border=\"1\" class=\"dataframe\">\n",
       "  <thead>\n",
       "    <tr style=\"text-align: right;\">\n",
       "      <th></th>\n",
       "      <th>번호</th>\n",
       "      <th>지역</th>\n",
       "      <th>상호</th>\n",
       "      <th>주소</th>\n",
       "      <th>기간</th>\n",
       "      <th>상표</th>\n",
       "      <th>셀프여부</th>\n",
       "      <th>고급휘발유</th>\n",
       "      <th>휘발유</th>\n",
       "      <th>경유</th>\n",
       "      <th>실내등유</th>\n",
       "      <th>구</th>\n",
       "      <th>월</th>\n",
       "      <th>일</th>\n",
       "      <th>요일</th>\n",
       "    </tr>\n",
       "  </thead>\n",
       "  <tbody>\n",
       "    <tr>\n",
       "      <th>13148</th>\n",
       "      <td>A0033328</td>\n",
       "      <td>서울 강서구</td>\n",
       "      <td>KH에너지(주)직영 KH외발산주유소</td>\n",
       "      <td>서울 강서구 방화대로 30</td>\n",
       "      <td>2019-02-07</td>\n",
       "      <td>SK에너지</td>\n",
       "      <td>셀프</td>\n",
       "      <td>1788</td>\n",
       "      <td>1255</td>\n",
       "      <td>1155</td>\n",
       "      <td>0</td>\n",
       "      <td>강서구</td>\n",
       "      <td>2</td>\n",
       "      <td>7</td>\n",
       "      <td>목</td>\n",
       "    </tr>\n",
       "    <tr>\n",
       "      <th>50707</th>\n",
       "      <td>A0011826</td>\n",
       "      <td>서울 서초구</td>\n",
       "      <td>만남의광장주유소</td>\n",
       "      <td>서울 서초구 양재대로12길 73-71</td>\n",
       "      <td>2019-01-13</td>\n",
       "      <td>알뜰(ex)</td>\n",
       "      <td>셀프</td>\n",
       "      <td>0</td>\n",
       "      <td>1297</td>\n",
       "      <td>1157</td>\n",
       "      <td>0</td>\n",
       "      <td>서초구</td>\n",
       "      <td>1</td>\n",
       "      <td>13</td>\n",
       "      <td>일</td>\n",
       "    </tr>\n",
       "    <tr>\n",
       "      <th>82476</th>\n",
       "      <td>A0000605</td>\n",
       "      <td>서울 은평구</td>\n",
       "      <td>삼융주유소</td>\n",
       "      <td>서울 은평구 수색로 299 (수색동)</td>\n",
       "      <td>2019-02-01</td>\n",
       "      <td>SK에너지</td>\n",
       "      <td>일반</td>\n",
       "      <td>0</td>\n",
       "      <td>1260</td>\n",
       "      <td>1160</td>\n",
       "      <td>0</td>\n",
       "      <td>은평구</td>\n",
       "      <td>2</td>\n",
       "      <td>1</td>\n",
       "      <td>금</td>\n",
       "    </tr>\n",
       "    <tr>\n",
       "      <th>82475</th>\n",
       "      <td>A0000605</td>\n",
       "      <td>서울 은평구</td>\n",
       "      <td>삼융주유소</td>\n",
       "      <td>서울 은평구 수색로 299 (수색동)</td>\n",
       "      <td>2019-01-31</td>\n",
       "      <td>SK에너지</td>\n",
       "      <td>일반</td>\n",
       "      <td>0</td>\n",
       "      <td>1260</td>\n",
       "      <td>1160</td>\n",
       "      <td>0</td>\n",
       "      <td>은평구</td>\n",
       "      <td>1</td>\n",
       "      <td>31</td>\n",
       "      <td>목</td>\n",
       "    </tr>\n",
       "    <tr>\n",
       "      <th>82474</th>\n",
       "      <td>A0000605</td>\n",
       "      <td>서울 은평구</td>\n",
       "      <td>삼융주유소</td>\n",
       "      <td>서울 은평구 수색로 299 (수색동)</td>\n",
       "      <td>2019-01-30</td>\n",
       "      <td>SK에너지</td>\n",
       "      <td>일반</td>\n",
       "      <td>0</td>\n",
       "      <td>1260</td>\n",
       "      <td>1160</td>\n",
       "      <td>0</td>\n",
       "      <td>은평구</td>\n",
       "      <td>1</td>\n",
       "      <td>30</td>\n",
       "      <td>수</td>\n",
       "    </tr>\n",
       "  </tbody>\n",
       "</table>\n",
       "</div>"
      ],
      "text/plain": [
       "             번호      지역                   상호                    주소         기간  \\\n",
       "13148  A0033328  서울 강서구  KH에너지(주)직영 KH외발산주유소        서울 강서구 방화대로 30 2019-02-07   \n",
       "50707  A0011826  서울 서초구             만남의광장주유소  서울 서초구 양재대로12길 73-71 2019-01-13   \n",
       "82476  A0000605  서울 은평구                삼융주유소  서울 은평구 수색로 299 (수색동) 2019-02-01   \n",
       "82475  A0000605  서울 은평구                삼융주유소  서울 은평구 수색로 299 (수색동) 2019-01-31   \n",
       "82474  A0000605  서울 은평구                삼융주유소  서울 은평구 수색로 299 (수색동) 2019-01-30   \n",
       "\n",
       "           상표 셀프여부  고급휘발유   휘발유    경유  실내등유    구  월   일 요일  \n",
       "13148   SK에너지   셀프   1788  1255  1155     0  강서구  2   7  목  \n",
       "50707  알뜰(ex)   셀프      0  1297  1157     0  서초구  1  13  일  \n",
       "82476   SK에너지   일반      0  1260  1160     0  은평구  2   1  금  \n",
       "82475   SK에너지   일반      0  1260  1160     0  은평구  1  31  목  \n",
       "82474   SK에너지   일반      0  1260  1160     0  은평구  1  30  수  "
      ]
     },
     "execution_count": 22,
     "metadata": {},
     "output_type": "execute_result"
    }
   ],
   "source": [
    "# 경유 가격이 가장 저렴한 5개 행 조회 (단 0원인 주유소 제외)\n",
    "df[df['경유']!=0].sort_values('경유').head(5)"
   ]
  },
  {
   "cell_type": "code",
   "execution_count": 23,
   "metadata": {
    "ExecuteTime": {
     "end_time": "2020-08-16T12:00:19.223166Z",
     "start_time": "2020-08-16T12:00:19.181279Z"
    }
   },
   "outputs": [
    {
     "data": {
      "text/plain": [
       "상표\n",
       "GS칼텍스     1564.313469\n",
       "NH-OIL    1449.088889\n",
       "S-OIL     1532.472987\n",
       "SK에너지     1612.782625\n",
       "알뜰(ex)    1431.347945\n",
       "알뜰주유소     1447.875902\n",
       "자가상표      1492.085540\n",
       "현대오일뱅크    1515.670352\n",
       "Name: 휘발유, dtype: float64"
      ]
     },
     "execution_count": 23,
     "metadata": {},
     "output_type": "execute_result"
    }
   ],
   "source": [
    "# 상표별 휘발유 평균가격 조회\n",
    "df.loc[df['휘발유'] != 0, '휘발유'].mean() # 전체평균 (0은 제외)\n",
    "상표_mean = df.loc[df['휘발유'] != 0].groupby('상표')['휘발유'].mean()\n",
    "상표_mean"
   ]
  },
  {
   "cell_type": "markdown",
   "metadata": {},
   "source": [
    "# ====== 3교시 ======"
   ]
  },
  {
   "cell_type": "code",
   "execution_count": 24,
   "metadata": {},
   "outputs": [
    {
     "name": "stdout",
     "output_type": "stream",
     "text": [
      "0 1564.3\n",
      "1 1449.1\n",
      "2 1532.5\n",
      "3 1612.8\n",
      "4 1431.3\n",
      "5 1447.9\n",
      "6 1492.1\n",
      "7 1515.7\n"
     ]
    }
   ],
   "source": [
    "for i in range(상표_mean.size):\n",
    "    print(i, np.round(상표_mean[i], 1))"
   ]
  },
  {
   "cell_type": "code",
   "execution_count": 25,
   "metadata": {
    "ExecuteTime": {
     "end_time": "2020-08-16T12:18:33.837103Z",
     "start_time": "2020-08-16T12:18:33.625672Z"
    }
   },
   "outputs": [
    {
     "data": {
      "image/png": "[encoded data removed]",
      "text/plain": [
       "<Figure size 720x432 with 1 Axes>"
      ]
     },
     "metadata": {
      "needs_background": "light"
     },
     "output_type": "display_data"
    }
   ],
   "source": [
    "# 상표별 휘발유 평균가격 시각화\n",
    "plt.figure(figsize = (10, 6))\n",
    "상표_mean.plot.bar(rot = 45)\n",
    "\n",
    "# 텍스트로 각 막대에 값을 출력\n",
    "for i in range(상표_mean.size):\n",
    "    plt.text(i, # x\n",
    "             상표_mean[i], # y\n",
    "             np.round(상표_mean[i],1), # txt\n",
    "             fontsize = 12)\n",
    "# 기준선 넣기 \n",
    "plt.axhline(y = 1500, color = 'r', linestyle = '--', label = '1500원 기준선')\n",
    "\n",
    "plt.legend(bbox_to_anchor = (1,1), loc = 'upper left') \n",
    "    \n",
    "plt.show()"
   ]
  },
  {
   "cell_type": "markdown",
   "metadata": {},
   "source": [
    "- 기준선을 넣고 싶다면? \n",
    "    - 방법1) axhline 수평기준선\n",
    "       : y축을 \n",
    "    - 방법2) axvline 수직기준선"
   ]
  },
  {
   "cell_type": "code",
   "execution_count": 26,
   "metadata": {
    "ExecuteTime": {
     "end_time": "2020-08-16T12:00:19.596166Z",
     "start_time": "2020-08-16T12:00:19.555280Z"
    }
   },
   "outputs": [
    {
     "data": {
      "text/plain": [
       "일반    108492\n",
       "셀프     73222\n",
       "Name: 셀프여부, dtype: int64"
      ]
     },
     "execution_count": 26,
     "metadata": {},
     "output_type": "execute_result"
    }
   ],
   "source": [
    "# 셀프주유소와 일반주유소 개수 확인\n",
    "self_count = df['셀프여부'].value_counts()\n",
    "self_count"
   ]
  },
  {
   "cell_type": "code",
   "execution_count": 27,
   "metadata": {
    "ExecuteTime": {
     "end_time": "2020-08-16T12:00:19.819570Z",
     "start_time": "2020-08-16T12:00:19.598165Z"
    }
   },
   "outputs": [
    {
     "data": {
      "image/png": "[encoded data removed]",
      "text/plain": [
       "<Figure size 432x288 with 1 Axes>"
      ]
     },
     "metadata": {
      "needs_background": "light"
     },
     "output_type": "display_data"
    }
   ],
   "source": [
    "# 셀프주유소와 일반주유소 개수 시각화\n",
    "self_count.plot(kind = 'bar')\n",
    "plt.show()"
   ]
  },
  {
   "cell_type": "code",
   "execution_count": 28,
   "metadata": {
    "ExecuteTime": {
     "end_time": "2020-08-16T12:00:19.851487Z",
     "start_time": "2020-08-16T12:00:19.822565Z"
    }
   },
   "outputs": [
    {
     "data": {
      "text/plain": [
       "셀프여부\n",
       "셀프    1490.262029\n",
       "일반    1619.690059\n",
       "Name: 휘발유, dtype: float64"
      ]
     },
     "execution_count": 28,
     "metadata": {},
     "output_type": "execute_result"
    }
   ],
   "source": [
    "# 셀프 여부에 따른 휘발유 평균 가격 비교\n",
    "df[df['휘발유']!=0].groupby('셀프여부')['휘발유'].mean() # 0값은 제외 "
   ]
  },
  {
   "cell_type": "code",
   "execution_count": 29,
   "metadata": {
    "ExecuteTime": {
     "end_time": "2020-08-16T12:00:19.943273Z",
     "start_time": "2020-08-16T12:00:19.856472Z"
    }
   },
   "outputs": [
    {
     "data": {
      "text/plain": [
       "셀프여부  상표    \n",
       "셀프    GS칼텍스     1481.410074\n",
       "      S-OIL     1481.437428\n",
       "      SK에너지     1505.054771\n",
       "      알뜰(ex)    1431.347945\n",
       "      알뜰주유소     1434.726027\n",
       "      자가상표      1494.409449\n",
       "      현대오일뱅크    1483.686804\n",
       "일반    GS칼텍스     1610.516144\n",
       "      NH-OIL    1449.088889\n",
       "      S-OIL     1579.789061\n",
       "      SK에너지     1691.365496\n",
       "      알뜰주유소     1455.372511\n",
       "      자가상표      1491.740351\n",
       "      현대오일뱅크    1534.510147\n",
       "Name: 휘발유, dtype: float64"
      ]
     },
     "execution_count": 29,
     "metadata": {},
     "output_type": "execute_result"
    }
   ],
   "source": [
    "# 상표별 일반/셀프 주유소의 휘발유 가격 평균 비교\n",
    "df[df['휘발유']!=0].groupby(['셀프여부','상표'])['휘발유'].mean() # 방법1."
   ]
  },
  {
   "cell_type": "code",
   "execution_count": 30,
   "metadata": {},
   "outputs": [
    {
     "ename": "TypeError",
     "evalue": "pivot_table() got an unexpected keyword argument 'vlues'",
     "output_type": "error",
     "traceback": [
      "\u001b[0;31m---------------------------------------------------------------------------\u001b[0m",
      "\u001b[0;31mTypeError\u001b[0m                                 Traceback (most recent call last)",
      "\u001b[0;32m<ipython-input-30-3910dc310333>\u001b[0m in \u001b[0;36m<module>\u001b[0;34m\u001b[0m\n\u001b[1;32m      1\u001b[0m \u001b[0;31m#방법2. 피봇테이블로\u001b[0m\u001b[0;34m\u001b[0m\u001b[0;34m\u001b[0m\u001b[0;34m\u001b[0m\u001b[0m\n\u001b[0;32m----> 2\u001b[0;31m 셀프여부_휘발유_mean = df[df['휘발유']!=0].pivot_table(\n\u001b[0m\u001b[1;32m      3\u001b[0m     \u001b[0mvlues\u001b[0m \u001b[0;34m=\u001b[0m \u001b[0;34m'휘발유'\u001b[0m\u001b[0;34m,\u001b[0m\u001b[0;34m\u001b[0m\u001b[0;34m\u001b[0m\u001b[0m\n\u001b[1;32m      4\u001b[0m     \u001b[0mindex\u001b[0m \u001b[0;34m=\u001b[0m \u001b[0;34m'상표'\u001b[0m\u001b[0;34m,\u001b[0m\u001b[0;34m\u001b[0m\u001b[0;34m\u001b[0m\u001b[0m\n\u001b[1;32m      5\u001b[0m     \u001b[0mcolumns\u001b[0m \u001b[0;34m=\u001b[0m \u001b[0;34m'설프여부'\u001b[0m\u001b[0;34m,\u001b[0m\u001b[0;34m\u001b[0m\u001b[0;34m\u001b[0m\u001b[0m\n",
      "\u001b[0;31mTypeError\u001b[0m: pivot_table() got an unexpected keyword argument 'vlues'"
     ]
    }
   ],
   "source": [
    "#방법2. 피봇테이블로 \n",
    "셀프여부_휘발유_mean = df[df['휘발유']!=0].pivot_table(\n",
    "    vlues = '휘발유',\n",
    "    index = '상표',\n",
    "    columns = '설프여부', \n",
    "    aggfunc = 'mean')"
   ]
  },
  {
   "cell_type": "code",
   "execution_count": null,
   "metadata": {
    "ExecuteTime": {
     "end_time": "2020-08-16T12:00:20.228476Z",
     "start_time": "2020-08-16T12:00:19.946232Z"
    }
   },
   "outputs": [],
   "source": [
    "# 상표별 일반/셀프 주유소의 휘발유 가격 평균 비교 시각화\n",
    "셀프여부_휘발유_mean.plot(kind = 'bar', figsize = (10,6))\n",
    "plt.legend(bbox_to_anchor = (1,1), loc = 'upper left)\n",
    "plt.show()"
   ]
  },
  {
   "cell_type": "code",
   "execution_count": null,
   "metadata": {
    "ExecuteTime": {
     "end_time": "2020-08-16T12:00:21.282664Z",
     "start_time": "2020-08-16T12:00:20.231469Z"
    }
   },
   "outputs": [],
   "source": [
    "# 상표별 일반/셀프 주유소의 휘발유 가격에 대한 분포 확인 - boxplot으로 시각화\n",
    "# seaborn 쓰면 편하다 일반&휘발유, 셀프&휘발유 그룹바이를 씨본을쓰면 편해져\n",
    "plt.figure(figsize = (10,10))\n",
    "# sns.boxplot(x = '셀프여부',y ='휘발유', data = df)\n",
    "sns.boxplot(x = '셀프여부',y ='휘발유', data = df[df['휘발유'!=0]]) # 0값을 제외하고싶다면\n",
    "sns.boxplot(x = '상표',y ='휘발유', hue ='셀프여부', data = df[df['휘발유'!=0]])\n",
    "plt.show()\n"
   ]
  },
  {
   "cell_type": "markdown",
   "metadata": {},
   "source": [
    "# === 4교시 ======"
   ]
  },
  {
   "cell_type": "code",
   "execution_count": null,
   "metadata": {
    "ExecuteTime": {
     "end_time": "2020-08-16T12:00:22.417164Z",
     "start_time": "2020-08-16T12:00:21.994261Z"
    }
   },
   "outputs": [],
   "source": [
    "# 상표별 휘발유 가격의 분포를 boxplot으로 시각화\n",
    "plt.figure(figsize =(15,10) )\n",
    "sns.boxplot(x='상표', y='휘발유', data=df[df['휘발유'!=0]])\n",
    "plt.show()"
   ]
  },
  {
   "cell_type": "code",
   "execution_count": null,
   "metadata": {},
   "outputs": [],
   "source": [
    "plt.figure(figsize = (15,10))\n",
    "sns.violinplot(x='상표', y='휘발유', data=df[df['휘발유'!=0]])\n",
    "plt.show()"
   ]
  },
  {
   "cell_type": "code",
   "execution_count": null,
   "metadata": {
    "ExecuteTime": {
     "end_time": "2020-08-16T12:00:23.046447Z",
     "start_time": "2020-08-16T12:00:22.419127Z"
    }
   },
   "outputs": [],
   "source": [
    "# 상표별 휘발유 가격의 분포를 셀프여부로 나눠 boxplot으로 시각화\n",
    "#위에서 봄 "
   ]
  },
  {
   "cell_type": "code",
   "execution_count": null,
   "metadata": {
    "ExecuteTime": {
     "end_time": "2020-08-16T12:00:23.092358Z",
     "start_time": "2020-08-16T12:00:23.049440Z"
    }
   },
   "outputs": [],
   "source": [
    "# 구별 휘발유 가격의 평균\n",
    "df.groupby('구')['휘발유'].mean()\n",
    "구_휘발유_평균 = df.groupby('구')['휘발유'].mean().sort_values()"
   ]
  },
  {
   "cell_type": "code",
   "execution_count": null,
   "metadata": {
    "ExecuteTime": {
     "end_time": "2020-08-16T12:00:23.406484Z",
     "start_time": "2020-08-16T12:00:23.094319Z"
    }
   },
   "outputs": [],
   "source": [
    "# 구별 휘발유 가격의 평균 시각화\n",
    "구_휘발유_평균.plot(kind = 'bar', figsize = (15,10), rot = 40)\n",
    "\n",
    "# 평균가격 기준선 추가 : \n",
    "plt.axhline(y = 구_휘발유_평균.mean(), color = 'r', label = '휘발유 평균')\n",
    "\n",
    "# plt.legend(labels = ['a','b']) # 레전드에 라벨을 직접 지정할수 있다.\n",
    "plt.legend()\n",
    "plt.show()"
   ]
  },
  {
   "cell_type": "code",
   "execution_count": null,
   "metadata": {
    "ExecuteTime": {
     "end_time": "2020-08-16T12:00:23.454390Z",
     "start_time": "2020-08-16T12:00:23.408479Z"
    },
    "scrolled": true
   },
   "outputs": [],
   "source": [
    "# 중구(평균이 가장높음)의 상표별 휘발유 평균가격\n",
    "df[df['구'] == '중구'].groupby('상표')['휘발유'].mean()\n",
    "# df[df['구'] == '중구'].groupby('상표')[['고급휘발유','휘발유','경유']].mean()"
   ]
  },
  {
   "cell_type": "code",
   "execution_count": null,
   "metadata": {
    "ExecuteTime": {
     "end_time": "2020-08-16T12:00:23.485274Z",
     "start_time": "2020-08-16T12:00:23.456351Z"
    }
   },
   "outputs": [],
   "source": [
    "# 월 평균 휘발유 가격의 평균\n",
    "월_휘발유_평균 = df.groupby('월')['휘발유'].mean()\n",
    "월_휘발유_평균"
   ]
  },
  {
   "cell_type": "code",
   "execution_count": null,
   "metadata": {
    "ExecuteTime": {
     "end_time": "2020-08-16T12:00:23.668816Z",
     "start_time": "2020-08-16T12:00:23.487268Z"
    }
   },
   "outputs": [],
   "source": [
    "# 월별 휘발유 가격 변화 추세 시각화\n",
    "# 월_휘발유_평균.plot.bar()\n",
    "월_휘발유_평균.plot(kind = 'line', figsize = (10,5))\n",
    "\n",
    "#1-12월 다 보고싶다면 틱을 설정한다\n",
    "plt.xticks(range(1,13), label = [f'{m}월' for m in range(1,13)]) #틱위치, 라벨(생략가능, 생략시 틱의 위치가 라벨)\n",
    "\n",
    "plt.show()"
   ]
  },
  {
   "cell_type": "markdown",
   "metadata": {},
   "source": [
    "# ==== 5교시 ====== 점심 이후, 여기 들어야함"
   ]
  },
  {
   "cell_type": "code",
   "execution_count": null,
   "metadata": {
    "ExecuteTime": {
     "end_time": "2020-08-16T12:00:23.844341Z",
     "start_time": "2020-08-16T12:00:23.671775Z"
    }
   },
   "outputs": [],
   "source": [
    "# 각 구의 월별 평균 휘발유 가격 \n",
    "구_월별_휘발유_평균 = df.pivot_table(\n",
    "    values = '',\n",
    "    index = '',\n",
    "    columns = '구',\n",
    "    aggfunc = 'mean'\n",
    ")\n",
    "구_월별_휘발유_평균"
   ]
  },
  {
   "cell_type": "code",
   "execution_count": null,
   "metadata": {
    "ExecuteTime": {
     "end_time": "2020-08-16T12:00:24.291151Z",
     "start_time": "2020-08-16T12:00:23.846309Z"
    }
   },
   "outputs": [],
   "source": [
    "# 각 구의 월별 평균가격의 변화추이 시각화\n",
    "# 컬럼단위별로 선그래프를 그린다. \n",
    "구_월별_휘발유_평균.plot(kind = 'line', figsize = (20,10))\n",
    "\n",
    "plt.legend(bbox_to_anchor = (1,1), loc = 'upper left', ncol = 2)\n",
    "\n",
    "\n",
    "plt.show()"
   ]
  },
  {
   "cell_type": "code",
   "execution_count": null,
   "metadata": {
    "ExecuteTime": {
     "end_time": "2020-08-16T12:00:24.339023Z",
     "start_time": "2020-08-16T12:00:24.293112Z"
    },
    "scrolled": true
   },
   "outputs": [],
   "source": [
    "# 가장 휘발유가격이 비싼 주유소 상위 5 \n",
    "# 서남주유소가 계속 나오기 때문에 다른 주유소 5개를 추출해보자. 주유소 단위로 보기\n",
    "비싼주유소 = df.groupby('상호')['휘발유'].mean().sort_values(ascending = False).head(5)\n",
    "비싼주유소"
   ]
  },
  {
   "cell_type": "code",
   "execution_count": null,
   "metadata": {
    "ExecuteTime": {
     "end_time": "2020-08-16T12:00:24.434734Z",
     "start_time": "2020-08-16T12:00:24.340986Z"
    },
    "scrolled": true
   },
   "outputs": [],
   "source": [
    "# 가장 휘발유가격이 저렴한 주유소 상위 5 \n",
    "저렴한주유소 = df.groupby('상호')['휘발유'].mean().sort_values().head(5)\n",
    "저렴한주유소"
   ]
  },
  {
   "cell_type": "code",
   "execution_count": null,
   "metadata": {
    "ExecuteTime": {
     "end_time": "2020-08-16T12:00:24.510531Z",
     "start_time": "2020-08-16T12:00:24.439725Z"
    }
   },
   "outputs": [],
   "source": [
    "# 휘발유 비싼 주유소의 상위 5개의 상호, 지역, 주소 조회(중복제거-drop_duplicates())\n",
    "df.loc[(df['상호']=='서남주유소')|(df['상호']=='장충주유소'),['상호','지역','주소']].drop_duplicates()\n",
    "# 이렇게 해서 언제 연산해.. ==> isin \n",
    "df['상호'].isin(['서남주유소','장충주유소'])\n",
    "df.loc[df['상호'].isin(비싼주유소.index),['상호','지역','주소']].drop_duplicates()"
   ]
  },
  {
   "cell_type": "code",
   "execution_count": null,
   "metadata": {
    "ExecuteTime": {
     "end_time": "2020-08-16T12:00:24.587326Z",
     "start_time": "2020-08-16T12:00:24.515518Z"
    }
   },
   "outputs": [],
   "source": [
    "# 휘발유 저렴한 주유소의 상위 5개의 상호, 지역, 주소 조회(중복제거)\n",
    "df.loc[df['상호'].isin(저렴한주유소.index),['상호','지역','주소']].drop_duplicates()"
   ]
  },
  {
   "cell_type": "code",
   "execution_count": null,
   "metadata": {},
   "outputs": [],
   "source": []
  }
 ],
 "metadata": {
  "kernelspec": {
   "display_name": "Python 3",
   "language": "python",
   "name": "python3"
  },
  "language_info": {
   "codemirror_mode": {
    "name": "ipython",
    "version": 3
   },
   "file_extension": ".py",
   "mimetype": "text/x-python",
   "name": "python",
   "nbconvert_exporter": "python",
   "pygments_lexer": "ipython3",
   "version": "3.8.5"
  },
  "toc": {
   "base_numbering": 1,
   "nav_menu": {},
   "number_sections": true,
   "sideBar": true,
   "skip_h1_title": false,
   "title_cell": "Table of Contents",
   "title_sidebar": "Contents",
   "toc_cell": false,
   "toc_position": {},
   "toc_section_display": true,
   "toc_window_display": false
  },
  "varInspector": {
   "cols": {
    "lenName": 16,
    "lenType": 16,
    "lenVar": 40
   },
   "kernels_config": {
    "python": {
     "delete_cmd_postfix": "",
     "delete_cmd_prefix": "del ",
     "library": "var_list.py",
     "varRefreshCmd": "print(var_dic_list())"
    },
    "r": {
     "delete_cmd_postfix": ") ",
     "delete_cmd_prefix": "rm(",
     "library": "var_list.r",
     "varRefreshCmd": "cat(var_dic_list()) "
    }
   },
   "types_to_exclude": [
    "module",
    "function",
    "builtin_function_or_method",
    "instance",
    "_Feature"
   ],
   "window_display": false
  }
 },
 "nbformat": 4,
 "nbformat_minor": 4
}
