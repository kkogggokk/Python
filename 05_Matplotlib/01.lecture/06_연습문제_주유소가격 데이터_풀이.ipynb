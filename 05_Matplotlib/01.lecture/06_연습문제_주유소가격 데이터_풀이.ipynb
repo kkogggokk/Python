{
 "cells": [
  {
   "cell_type": "markdown",
   "metadata": {},
   "source": [
    "kgmyh@naver.com"
   ]
  },
  {
   "cell_type": "markdown",
   "metadata": {},
   "source": [
    "# 데이터 불러오기\n",
    "- 2019년 주유소들의 일자별 가격 데이터"
   ]
  },
  {
   "cell_type": "code",
   "execution_count": 1,
   "metadata": {},
   "outputs": [],
   "source": [
    "import numpy as np\n",
    "import pandas as pd\n",
    "import matplotlib.pyplot as plt\n",
    "import seaborn as sns"
   ]
  },
  {
   "cell_type": "code",
   "execution_count": 2,
   "metadata": {
    "ExecuteTime": {
     "end_time": "2020-08-16T12:00:17.372117Z",
     "start_time": "2020-08-16T12:00:16.763745Z"
    }
   },
   "outputs": [
    {
     "data": {
      "text/plain": [
       "((90590, 11), (91124, 11))"
      ]
     },
     "execution_count": 2,
     "metadata": {},
     "output_type": "execute_result"
    }
   ],
   "source": [
    "# 상반기, 하반기 주유소 가격 데이터 조회\n",
    "first = pd.read_csv('data/2019년 상반기 주유소 판매가격.csv', encoding='utf-8')\n",
    "second = pd.read_csv('data/2019년 하반기 주유소 판매가격.csv', encoding='utf-8')\n",
    "first.shape, second.shape"
   ]
  },
  {
   "cell_type": "code",
   "execution_count": 10,
   "metadata": {
    "ExecuteTime": {
     "end_time": "2020-08-16T12:00:17.419988Z",
     "start_time": "2020-08-16T12:00:17.375108Z"
    }
   },
   "outputs": [
    {
     "data": {
      "text/plain": [
       "(181714, 11)"
      ]
     },
     "execution_count": 10,
     "metadata": {},
     "output_type": "execute_result"
    }
   ],
   "source": [
    "# 상반기, 하반기 DataFrame 합치기 (concat, join, merge)\n",
    "df = pd.concat([first, second], ignore_index=True)#, axis=0)\n",
    "df.shape"
   ]
  },
  {
   "cell_type": "code",
   "execution_count": 12,
   "metadata": {
    "ExecuteTime": {
     "end_time": "2020-08-16T12:21:48.358526Z",
     "start_time": "2020-08-16T12:21:48.350548Z"
    }
   },
   "outputs": [
    {
     "name": "stdout",
     "output_type": "stream",
     "text": [
      "<class 'pandas.core.frame.DataFrame'>\n",
      "RangeIndex: 181714 entries, 0 to 181713\n",
      "Data columns (total 11 columns):\n",
      " #   Column  Non-Null Count   Dtype \n",
      "---  ------  --------------   ----- \n",
      " 0   번호      181714 non-null  object\n",
      " 1   지역      181714 non-null  object\n",
      " 2   상호      181714 non-null  object\n",
      " 3   주소      181714 non-null  object\n",
      " 4   기간      181714 non-null  int64 \n",
      " 5   상표      181714 non-null  object\n",
      " 6   셀프여부    181714 non-null  object\n",
      " 7   고급휘발유   181714 non-null  int64 \n",
      " 8   휘발유     181714 non-null  int64 \n",
      " 9   경유      181714 non-null  int64 \n",
      " 10  실내등유    181714 non-null  int64 \n",
      "dtypes: int64(5), object(6)\n",
      "memory usage: 15.3+ MB\n"
     ]
    }
   ],
   "source": [
    "# DataFrame 기본 정보 조회\n",
    "df.info()"
   ]
  },
  {
   "cell_type": "code",
   "execution_count": 13,
   "metadata": {},
   "outputs": [
    {
     "data": {
      "text/html": [
       "<div>\n",
       "<style scoped>\n",
       "    .dataframe tbody tr th:only-of-type {\n",
       "        vertical-align: middle;\n",
       "    }\n",
       "\n",
       "    .dataframe tbody tr th {\n",
       "        vertical-align: top;\n",
       "    }\n",
       "\n",
       "    .dataframe thead th {\n",
       "        text-align: right;\n",
       "    }\n",
       "</style>\n",
       "<table border=\"1\" class=\"dataframe\">\n",
       "  <thead>\n",
       "    <tr style=\"text-align: right;\">\n",
       "      <th></th>\n",
       "      <th>번호</th>\n",
       "      <th>지역</th>\n",
       "      <th>상호</th>\n",
       "      <th>주소</th>\n",
       "      <th>기간</th>\n",
       "      <th>상표</th>\n",
       "      <th>셀프여부</th>\n",
       "      <th>고급휘발유</th>\n",
       "      <th>휘발유</th>\n",
       "      <th>경유</th>\n",
       "      <th>실내등유</th>\n",
       "    </tr>\n",
       "  </thead>\n",
       "  <tbody>\n",
       "    <tr>\n",
       "      <th>0</th>\n",
       "      <td>A0006039</td>\n",
       "      <td>서울 강남구</td>\n",
       "      <td>(주)동하힐탑셀프주유소</td>\n",
       "      <td>서울 강남구 논현로 640</td>\n",
       "      <td>20190101</td>\n",
       "      <td>SK에너지</td>\n",
       "      <td>셀프</td>\n",
       "      <td>1673</td>\n",
       "      <td>1465</td>\n",
       "      <td>1365</td>\n",
       "      <td>0</td>\n",
       "    </tr>\n",
       "    <tr>\n",
       "      <th>1</th>\n",
       "      <td>A0006039</td>\n",
       "      <td>서울 강남구</td>\n",
       "      <td>(주)동하힐탑셀프주유소</td>\n",
       "      <td>서울 강남구 논현로 640</td>\n",
       "      <td>20190102</td>\n",
       "      <td>SK에너지</td>\n",
       "      <td>셀프</td>\n",
       "      <td>1673</td>\n",
       "      <td>1465</td>\n",
       "      <td>1365</td>\n",
       "      <td>0</td>\n",
       "    </tr>\n",
       "    <tr>\n",
       "      <th>2</th>\n",
       "      <td>A0006039</td>\n",
       "      <td>서울 강남구</td>\n",
       "      <td>(주)동하힐탑셀프주유소</td>\n",
       "      <td>서울 강남구 논현로 640</td>\n",
       "      <td>20190103</td>\n",
       "      <td>SK에너지</td>\n",
       "      <td>셀프</td>\n",
       "      <td>1673</td>\n",
       "      <td>1465</td>\n",
       "      <td>1365</td>\n",
       "      <td>0</td>\n",
       "    </tr>\n",
       "    <tr>\n",
       "      <th>3</th>\n",
       "      <td>A0006039</td>\n",
       "      <td>서울 강남구</td>\n",
       "      <td>(주)동하힐탑셀프주유소</td>\n",
       "      <td>서울 강남구 논현로 640</td>\n",
       "      <td>20190104</td>\n",
       "      <td>SK에너지</td>\n",
       "      <td>셀프</td>\n",
       "      <td>1673</td>\n",
       "      <td>1465</td>\n",
       "      <td>1365</td>\n",
       "      <td>0</td>\n",
       "    </tr>\n",
       "    <tr>\n",
       "      <th>4</th>\n",
       "      <td>A0006039</td>\n",
       "      <td>서울 강남구</td>\n",
       "      <td>(주)동하힐탑셀프주유소</td>\n",
       "      <td>서울 강남구 논현로 640</td>\n",
       "      <td>20190105</td>\n",
       "      <td>SK에너지</td>\n",
       "      <td>셀프</td>\n",
       "      <td>1673</td>\n",
       "      <td>1465</td>\n",
       "      <td>1365</td>\n",
       "      <td>0</td>\n",
       "    </tr>\n",
       "  </tbody>\n",
       "</table>\n",
       "</div>"
      ],
      "text/plain": [
       "         번호      지역            상호              주소        기간     상표 셀프여부  \\\n",
       "0  A0006039  서울 강남구  (주)동하힐탑셀프주유소  서울 강남구 논현로 640  20190101  SK에너지   셀프   \n",
       "1  A0006039  서울 강남구  (주)동하힐탑셀프주유소  서울 강남구 논현로 640  20190102  SK에너지   셀프   \n",
       "2  A0006039  서울 강남구  (주)동하힐탑셀프주유소  서울 강남구 논현로 640  20190103  SK에너지   셀프   \n",
       "3  A0006039  서울 강남구  (주)동하힐탑셀프주유소  서울 강남구 논현로 640  20190104  SK에너지   셀프   \n",
       "4  A0006039  서울 강남구  (주)동하힐탑셀프주유소  서울 강남구 논현로 640  20190105  SK에너지   셀프   \n",
       "\n",
       "   고급휘발유   휘발유    경유  실내등유  \n",
       "0   1673  1465  1365     0  \n",
       "1   1673  1465  1365     0  \n",
       "2   1673  1465  1365     0  \n",
       "3   1673  1465  1365     0  \n",
       "4   1673  1465  1365     0  "
      ]
     },
     "execution_count": 13,
     "metadata": {},
     "output_type": "execute_result"
    }
   ],
   "source": [
    "df.head()"
   ]
  },
  {
   "cell_type": "code",
   "execution_count": 14,
   "metadata": {},
   "outputs": [
    {
     "data": {
      "text/html": [
       "<div>\n",
       "<style scoped>\n",
       "    .dataframe tbody tr th:only-of-type {\n",
       "        vertical-align: middle;\n",
       "    }\n",
       "\n",
       "    .dataframe tbody tr th {\n",
       "        vertical-align: top;\n",
       "    }\n",
       "\n",
       "    .dataframe thead th {\n",
       "        text-align: right;\n",
       "    }\n",
       "</style>\n",
       "<table border=\"1\" class=\"dataframe\">\n",
       "  <thead>\n",
       "    <tr style=\"text-align: right;\">\n",
       "      <th></th>\n",
       "      <th>번호</th>\n",
       "      <th>지역</th>\n",
       "      <th>상호</th>\n",
       "      <th>주소</th>\n",
       "      <th>기간</th>\n",
       "      <th>상표</th>\n",
       "      <th>셀프여부</th>\n",
       "      <th>고급휘발유</th>\n",
       "      <th>휘발유</th>\n",
       "      <th>경유</th>\n",
       "      <th>실내등유</th>\n",
       "    </tr>\n",
       "  </thead>\n",
       "  <tbody>\n",
       "    <tr>\n",
       "      <th>181709</th>\n",
       "      <td>A0032659</td>\n",
       "      <td>서울 중랑구</td>\n",
       "      <td>지에스칼텍스㈜ 소망주유소</td>\n",
       "      <td>서울 중랑구 망우로 475</td>\n",
       "      <td>20191227</td>\n",
       "      <td>GS칼텍스</td>\n",
       "      <td>셀프</td>\n",
       "      <td>0</td>\n",
       "      <td>1540</td>\n",
       "      <td>1389</td>\n",
       "      <td>1100</td>\n",
       "    </tr>\n",
       "    <tr>\n",
       "      <th>181710</th>\n",
       "      <td>A0032659</td>\n",
       "      <td>서울 중랑구</td>\n",
       "      <td>지에스칼텍스㈜ 소망주유소</td>\n",
       "      <td>서울 중랑구 망우로 475</td>\n",
       "      <td>20191228</td>\n",
       "      <td>GS칼텍스</td>\n",
       "      <td>셀프</td>\n",
       "      <td>0</td>\n",
       "      <td>1540</td>\n",
       "      <td>1389</td>\n",
       "      <td>1100</td>\n",
       "    </tr>\n",
       "    <tr>\n",
       "      <th>181711</th>\n",
       "      <td>A0032659</td>\n",
       "      <td>서울 중랑구</td>\n",
       "      <td>지에스칼텍스㈜ 소망주유소</td>\n",
       "      <td>서울 중랑구 망우로 475</td>\n",
       "      <td>20191229</td>\n",
       "      <td>GS칼텍스</td>\n",
       "      <td>셀프</td>\n",
       "      <td>0</td>\n",
       "      <td>1540</td>\n",
       "      <td>1389</td>\n",
       "      <td>1100</td>\n",
       "    </tr>\n",
       "    <tr>\n",
       "      <th>181712</th>\n",
       "      <td>A0032659</td>\n",
       "      <td>서울 중랑구</td>\n",
       "      <td>지에스칼텍스㈜ 소망주유소</td>\n",
       "      <td>서울 중랑구 망우로 475</td>\n",
       "      <td>20191230</td>\n",
       "      <td>GS칼텍스</td>\n",
       "      <td>셀프</td>\n",
       "      <td>0</td>\n",
       "      <td>1540</td>\n",
       "      <td>1389</td>\n",
       "      <td>1100</td>\n",
       "    </tr>\n",
       "    <tr>\n",
       "      <th>181713</th>\n",
       "      <td>A0032659</td>\n",
       "      <td>서울 중랑구</td>\n",
       "      <td>지에스칼텍스㈜ 소망주유소</td>\n",
       "      <td>서울 중랑구 망우로 475</td>\n",
       "      <td>20191231</td>\n",
       "      <td>GS칼텍스</td>\n",
       "      <td>셀프</td>\n",
       "      <td>0</td>\n",
       "      <td>1540</td>\n",
       "      <td>1389</td>\n",
       "      <td>1100</td>\n",
       "    </tr>\n",
       "  </tbody>\n",
       "</table>\n",
       "</div>"
      ],
      "text/plain": [
       "              번호      지역             상호              주소        기간     상표 셀프여부  \\\n",
       "181709  A0032659  서울 중랑구  지에스칼텍스㈜ 소망주유소  서울 중랑구 망우로 475  20191227  GS칼텍스   셀프   \n",
       "181710  A0032659  서울 중랑구  지에스칼텍스㈜ 소망주유소  서울 중랑구 망우로 475  20191228  GS칼텍스   셀프   \n",
       "181711  A0032659  서울 중랑구  지에스칼텍스㈜ 소망주유소  서울 중랑구 망우로 475  20191229  GS칼텍스   셀프   \n",
       "181712  A0032659  서울 중랑구  지에스칼텍스㈜ 소망주유소  서울 중랑구 망우로 475  20191230  GS칼텍스   셀프   \n",
       "181713  A0032659  서울 중랑구  지에스칼텍스㈜ 소망주유소  서울 중랑구 망우로 475  20191231  GS칼텍스   셀프   \n",
       "\n",
       "        고급휘발유   휘발유    경유  실내등유  \n",
       "181709      0  1540  1389  1100  \n",
       "181710      0  1540  1389  1100  \n",
       "181711      0  1540  1389  1100  \n",
       "181712      0  1540  1389  1100  \n",
       "181713      0  1540  1389  1100  "
      ]
     },
     "execution_count": 14,
     "metadata": {},
     "output_type": "execute_result"
    }
   ],
   "source": [
    "df.tail()"
   ]
  },
  {
   "cell_type": "code",
   "execution_count": 16,
   "metadata": {},
   "outputs": [
    {
     "data": {
      "text/html": [
       "<div>\n",
       "<style scoped>\n",
       "    .dataframe tbody tr th:only-of-type {\n",
       "        vertical-align: middle;\n",
       "    }\n",
       "\n",
       "    .dataframe tbody tr th {\n",
       "        vertical-align: top;\n",
       "    }\n",
       "\n",
       "    .dataframe thead th {\n",
       "        text-align: right;\n",
       "    }\n",
       "</style>\n",
       "<table border=\"1\" class=\"dataframe\">\n",
       "  <thead>\n",
       "    <tr style=\"text-align: right;\">\n",
       "      <th></th>\n",
       "      <th>기간</th>\n",
       "      <th>고급휘발유</th>\n",
       "      <th>휘발유</th>\n",
       "      <th>경유</th>\n",
       "      <th>실내등유</th>\n",
       "    </tr>\n",
       "  </thead>\n",
       "  <tbody>\n",
       "    <tr>\n",
       "      <th>count</th>\n",
       "      <td>1.817140e+05</td>\n",
       "      <td>181714.000000</td>\n",
       "      <td>181714.000000</td>\n",
       "      <td>181714.000000</td>\n",
       "      <td>181714.000000</td>\n",
       "    </tr>\n",
       "    <tr>\n",
       "      <th>mean</th>\n",
       "      <td>2.019067e+07</td>\n",
       "      <td>763.284139</td>\n",
       "      <td>1567.148161</td>\n",
       "      <td>1435.564816</td>\n",
       "      <td>454.800412</td>\n",
       "    </tr>\n",
       "    <tr>\n",
       "      <th>std</th>\n",
       "      <td>3.453131e+02</td>\n",
       "      <td>937.368150</td>\n",
       "      <td>182.942737</td>\n",
       "      <td>171.892815</td>\n",
       "      <td>572.002790</td>\n",
       "    </tr>\n",
       "    <tr>\n",
       "      <th>min</th>\n",
       "      <td>2.019010e+07</td>\n",
       "      <td>0.000000</td>\n",
       "      <td>0.000000</td>\n",
       "      <td>0.000000</td>\n",
       "      <td>0.000000</td>\n",
       "    </tr>\n",
       "    <tr>\n",
       "      <th>25%</th>\n",
       "      <td>2.019040e+07</td>\n",
       "      <td>0.000000</td>\n",
       "      <td>1459.000000</td>\n",
       "      <td>1333.000000</td>\n",
       "      <td>0.000000</td>\n",
       "    </tr>\n",
       "    <tr>\n",
       "      <th>50%</th>\n",
       "      <td>2.019070e+07</td>\n",
       "      <td>0.000000</td>\n",
       "      <td>1529.000000</td>\n",
       "      <td>1389.000000</td>\n",
       "      <td>0.000000</td>\n",
       "    </tr>\n",
       "    <tr>\n",
       "      <th>75%</th>\n",
       "      <td>2.019093e+07</td>\n",
       "      <td>1768.000000</td>\n",
       "      <td>1599.000000</td>\n",
       "      <td>1478.000000</td>\n",
       "      <td>1100.000000</td>\n",
       "    </tr>\n",
       "    <tr>\n",
       "      <th>max</th>\n",
       "      <td>2.019123e+07</td>\n",
       "      <td>2699.000000</td>\n",
       "      <td>2356.000000</td>\n",
       "      <td>2196.000000</td>\n",
       "      <td>1640.000000</td>\n",
       "    </tr>\n",
       "  </tbody>\n",
       "</table>\n",
       "</div>"
      ],
      "text/plain": [
       "                 기간          고급휘발유            휘발유             경유  \\\n",
       "count  1.817140e+05  181714.000000  181714.000000  181714.000000   \n",
       "mean   2.019067e+07     763.284139    1567.148161    1435.564816   \n",
       "std    3.453131e+02     937.368150     182.942737     171.892815   \n",
       "min    2.019010e+07       0.000000       0.000000       0.000000   \n",
       "25%    2.019040e+07       0.000000    1459.000000    1333.000000   \n",
       "50%    2.019070e+07       0.000000    1529.000000    1389.000000   \n",
       "75%    2.019093e+07    1768.000000    1599.000000    1478.000000   \n",
       "max    2.019123e+07    2699.000000    2356.000000    2196.000000   \n",
       "\n",
       "                실내등유  \n",
       "count  181714.000000  \n",
       "mean      454.800412  \n",
       "std       572.002790  \n",
       "min         0.000000  \n",
       "25%         0.000000  \n",
       "50%         0.000000  \n",
       "75%      1100.000000  \n",
       "max      1640.000000  "
      ]
     },
     "execution_count": 16,
     "metadata": {},
     "output_type": "execute_result"
    }
   ],
   "source": [
    "df.describe() #숫자형 요약통계"
   ]
  },
  {
   "cell_type": "code",
   "execution_count": 17,
   "metadata": {},
   "outputs": [
    {
     "data": {
      "text/html": [
       "<div>\n",
       "<style scoped>\n",
       "    .dataframe tbody tr th:only-of-type {\n",
       "        vertical-align: middle;\n",
       "    }\n",
       "\n",
       "    .dataframe tbody tr th {\n",
       "        vertical-align: top;\n",
       "    }\n",
       "\n",
       "    .dataframe thead th {\n",
       "        text-align: right;\n",
       "    }\n",
       "</style>\n",
       "<table border=\"1\" class=\"dataframe\">\n",
       "  <thead>\n",
       "    <tr style=\"text-align: right;\">\n",
       "      <th></th>\n",
       "      <th>번호</th>\n",
       "      <th>지역</th>\n",
       "      <th>상호</th>\n",
       "      <th>주소</th>\n",
       "      <th>상표</th>\n",
       "      <th>셀프여부</th>\n",
       "    </tr>\n",
       "  </thead>\n",
       "  <tbody>\n",
       "    <tr>\n",
       "      <th>count</th>\n",
       "      <td>181714</td>\n",
       "      <td>181714</td>\n",
       "      <td>181714</td>\n",
       "      <td>181714</td>\n",
       "      <td>181714</td>\n",
       "      <td>181714</td>\n",
       "    </tr>\n",
       "    <tr>\n",
       "      <th>unique</th>\n",
       "      <td>512</td>\n",
       "      <td>25</td>\n",
       "      <td>507</td>\n",
       "      <td>512</td>\n",
       "      <td>8</td>\n",
       "      <td>2</td>\n",
       "    </tr>\n",
       "    <tr>\n",
       "      <th>top</th>\n",
       "      <td>A0009827</td>\n",
       "      <td>서울 강남구</td>\n",
       "      <td>신성주유소</td>\n",
       "      <td>서울특별시 강북구  삼양로 217 (미아동)</td>\n",
       "      <td>SK에너지</td>\n",
       "      <td>일반</td>\n",
       "    </tr>\n",
       "    <tr>\n",
       "      <th>freq</th>\n",
       "      <td>365</td>\n",
       "      <td>14597</td>\n",
       "      <td>1095</td>\n",
       "      <td>365</td>\n",
       "      <td>71062</td>\n",
       "      <td>108492</td>\n",
       "    </tr>\n",
       "  </tbody>\n",
       "</table>\n",
       "</div>"
      ],
      "text/plain": [
       "              번호      지역      상호                        주소      상표    셀프여부\n",
       "count     181714  181714  181714                    181714  181714  181714\n",
       "unique       512      25     507                       512       8       2\n",
       "top     A0009827  서울 강남구   신성주유소  서울특별시 강북구  삼양로 217 (미아동)   SK에너지      일반\n",
       "freq         365   14597    1095                       365   71062  108492"
      ]
     },
     "execution_count": 17,
     "metadata": {},
     "output_type": "execute_result"
    }
   ],
   "source": [
    "df.describe(include='object') #문자열 컬럼의 요약통계"
   ]
  },
  {
   "cell_type": "code",
   "execution_count": 19,
   "metadata": {
    "ExecuteTime": {
     "end_time": "2020-08-16T12:00:17.845850Z",
     "start_time": "2020-08-16T12:00:17.818922Z"
    }
   },
   "outputs": [
    {
     "data": {
      "text/plain": [
       "SK에너지     71062\n",
       "GS칼텍스     49494\n",
       "현대오일뱅크    28583\n",
       "S-OIL     27027\n",
       "알뜰주유소      4021\n",
       "자가상표        982\n",
       "알뜰(ex)      365\n",
       "NH-OIL      180\n",
       "Name: 상표, dtype: int64"
      ]
     },
     "execution_count": 19,
     "metadata": {},
     "output_type": "execute_result"
    }
   ],
   "source": [
    "# 상표 컬럼의 고유값 조회\n",
    "df['상표'].unique()\n",
    "df['상표'].value_counts()"
   ]
  },
  {
   "cell_type": "code",
   "execution_count": 21,
   "metadata": {
    "ExecuteTime": {
     "end_time": "2020-08-16T12:00:17.876769Z",
     "start_time": "2020-08-16T12:00:17.848841Z"
    },
    "collapsed": true
   },
   "outputs": [
    {
     "data": {
      "text/plain": [
       "서울 강남구     14597\n",
       "서울 서초구     13762\n",
       "서울 강서구     12572\n",
       "서울 영등포구    11667\n",
       "서울 송파구     11630\n",
       "서울 양천구      9149\n",
       "서울 성북구      8080\n",
       "서울 동대문구     7996\n",
       "서울 구로구      7917\n",
       "서울 도봉구      6711\n",
       "서울 광진구      6450\n",
       "서울 은평구      6199\n",
       "서울 성동구      6192\n",
       "서울 관악구      5997\n",
       "서울 강동구      5897\n",
       "서울 중랑구      5719\n",
       "서울 서대문구     5594\n",
       "서울 노원구      5466\n",
       "서울 용산구      5439\n",
       "서울 금천구      4738\n",
       "서울 강북구      4736\n",
       "서울 중구       4235\n",
       "서울 마포구      4051\n",
       "서울 동작구      3644\n",
       "서울 종로구      3276\n",
       "Name: 지역, dtype: int64"
      ]
     },
     "execution_count": 21,
     "metadata": {},
     "output_type": "execute_result"
    }
   ],
   "source": [
    "# 지역 컬럼의 고유값 조회\n",
    "df['지역'].value_counts()"
   ]
  },
  {
   "cell_type": "code",
   "execution_count": 23,
   "metadata": {},
   "outputs": [
    {
     "data": {
      "text/plain": [
       "일반    108492\n",
       "셀프     73222\n",
       "Name: 셀프여부, dtype: int64"
      ]
     },
     "execution_count": 23,
     "metadata": {},
     "output_type": "execute_result"
    }
   ],
   "source": [
    "df['셀프여부'].value_counts()"
   ]
  },
  {
   "cell_type": "markdown",
   "metadata": {},
   "source": [
    "> ### str accessor\n",
    "> - `Series.str.String메소드()`\n",
    "> - 문자열 타입 Series에 String 메소드들을 사용하여 일괄처리 할 수 있도록 한다.\n",
    "> - str accessor 메소드 : https://pandas.pydata.org/pandas-docs/stable/reference/series.html#api-series-str\n",
    "\n",
    "> ### datetime으로 변환\n",
    "> - `pd.to_datetime(변환할 Series)`\n",
    "> - x 또는 y 축이 날짜 일 경우 datetime 타입으로 처리하는 것이 좋다.\n",
    "> - datetime을 변환하면 날짜만의 기능을 다룰 수 있다.\n",
    ">     - dt accessor를 이용해 datetime의 속성값들을(년, 월, 일 등) 추출할 수 있다.\n",
    ">     - https://pandas.pydata.org/pandas-docs/stable/reference/api/pandas.Series.dt.html"
   ]
  },
  {
   "cell_type": "code",
   "execution_count": 24,
   "metadata": {},
   "outputs": [
    {
     "data": {
      "text/html": [
       "<div>\n",
       "<style scoped>\n",
       "    .dataframe tbody tr th:only-of-type {\n",
       "        vertical-align: middle;\n",
       "    }\n",
       "\n",
       "    .dataframe tbody tr th {\n",
       "        vertical-align: top;\n",
       "    }\n",
       "\n",
       "    .dataframe thead th {\n",
       "        text-align: right;\n",
       "    }\n",
       "</style>\n",
       "<table border=\"1\" class=\"dataframe\">\n",
       "  <thead>\n",
       "    <tr style=\"text-align: right;\">\n",
       "      <th></th>\n",
       "      <th>번호</th>\n",
       "      <th>지역</th>\n",
       "      <th>상호</th>\n",
       "      <th>주소</th>\n",
       "      <th>기간</th>\n",
       "      <th>상표</th>\n",
       "      <th>셀프여부</th>\n",
       "      <th>고급휘발유</th>\n",
       "      <th>휘발유</th>\n",
       "      <th>경유</th>\n",
       "      <th>실내등유</th>\n",
       "    </tr>\n",
       "  </thead>\n",
       "  <tbody>\n",
       "    <tr>\n",
       "      <th>0</th>\n",
       "      <td>A0006039</td>\n",
       "      <td>서울 강남구</td>\n",
       "      <td>(주)동하힐탑셀프주유소</td>\n",
       "      <td>서울 강남구 논현로 640</td>\n",
       "      <td>20190101</td>\n",
       "      <td>SK에너지</td>\n",
       "      <td>셀프</td>\n",
       "      <td>1673</td>\n",
       "      <td>1465</td>\n",
       "      <td>1365</td>\n",
       "      <td>0</td>\n",
       "    </tr>\n",
       "    <tr>\n",
       "      <th>1</th>\n",
       "      <td>A0006039</td>\n",
       "      <td>서울 강남구</td>\n",
       "      <td>(주)동하힐탑셀프주유소</td>\n",
       "      <td>서울 강남구 논현로 640</td>\n",
       "      <td>20190102</td>\n",
       "      <td>SK에너지</td>\n",
       "      <td>셀프</td>\n",
       "      <td>1673</td>\n",
       "      <td>1465</td>\n",
       "      <td>1365</td>\n",
       "      <td>0</td>\n",
       "    </tr>\n",
       "    <tr>\n",
       "      <th>2</th>\n",
       "      <td>A0006039</td>\n",
       "      <td>서울 강남구</td>\n",
       "      <td>(주)동하힐탑셀프주유소</td>\n",
       "      <td>서울 강남구 논현로 640</td>\n",
       "      <td>20190103</td>\n",
       "      <td>SK에너지</td>\n",
       "      <td>셀프</td>\n",
       "      <td>1673</td>\n",
       "      <td>1465</td>\n",
       "      <td>1365</td>\n",
       "      <td>0</td>\n",
       "    </tr>\n",
       "  </tbody>\n",
       "</table>\n",
       "</div>"
      ],
      "text/plain": [
       "         번호      지역            상호              주소        기간     상표 셀프여부  \\\n",
       "0  A0006039  서울 강남구  (주)동하힐탑셀프주유소  서울 강남구 논현로 640  20190101  SK에너지   셀프   \n",
       "1  A0006039  서울 강남구  (주)동하힐탑셀프주유소  서울 강남구 논현로 640  20190102  SK에너지   셀프   \n",
       "2  A0006039  서울 강남구  (주)동하힐탑셀프주유소  서울 강남구 논현로 640  20190103  SK에너지   셀프   \n",
       "\n",
       "   고급휘발유   휘발유    경유  실내등유  \n",
       "0   1673  1465  1365     0  \n",
       "1   1673  1465  1365     0  \n",
       "2   1673  1465  1365     0  "
      ]
     },
     "execution_count": 24,
     "metadata": {},
     "output_type": "execute_result"
    }
   ],
   "source": [
    "df.head(3)"
   ]
  },
  {
   "cell_type": "code",
   "execution_count": 25,
   "metadata": {
    "collapsed": true
   },
   "outputs": [
    {
     "data": {
      "text/plain": [
       "0         강남구\n",
       "1         강남구\n",
       "2         강남구\n",
       "3         강남구\n",
       "4         강남구\n",
       "         ... \n",
       "181709    중랑구\n",
       "181710    중랑구\n",
       "181711    중랑구\n",
       "181712    중랑구\n",
       "181713    중랑구\n",
       "Name: 지역, Length: 181714, dtype: object"
      ]
     },
     "execution_count": 25,
     "metadata": {},
     "output_type": "execute_result"
    }
   ],
   "source": [
    "def test(s):\n",
    "    return s.split(' ')[1]\n",
    "\n",
    "df['지역'].apply(test)"
   ]
  },
  {
   "cell_type": "code",
   "execution_count": 30,
   "metadata": {
    "ExecuteTime": {
     "end_time": "2020-08-16T12:00:18.289663Z",
     "start_time": "2020-08-16T12:00:17.881760Z"
    },
    "collapsed": true
   },
   "outputs": [
    {
     "data": {
      "text/html": [
       "<div>\n",
       "<style scoped>\n",
       "    .dataframe tbody tr th:only-of-type {\n",
       "        vertical-align: middle;\n",
       "    }\n",
       "\n",
       "    .dataframe tbody tr th {\n",
       "        vertical-align: top;\n",
       "    }\n",
       "\n",
       "    .dataframe thead th {\n",
       "        text-align: right;\n",
       "    }\n",
       "</style>\n",
       "<table border=\"1\" class=\"dataframe\">\n",
       "  <thead>\n",
       "    <tr style=\"text-align: right;\">\n",
       "      <th></th>\n",
       "      <th>번호</th>\n",
       "      <th>지역</th>\n",
       "      <th>상호</th>\n",
       "      <th>주소</th>\n",
       "      <th>기간</th>\n",
       "      <th>상표</th>\n",
       "      <th>셀프여부</th>\n",
       "      <th>고급휘발유</th>\n",
       "      <th>휘발유</th>\n",
       "      <th>경유</th>\n",
       "      <th>실내등유</th>\n",
       "      <th>구</th>\n",
       "    </tr>\n",
       "  </thead>\n",
       "  <tbody>\n",
       "    <tr>\n",
       "      <th>0</th>\n",
       "      <td>A0006039</td>\n",
       "      <td>서울 강남구</td>\n",
       "      <td>(주)동하힐탑셀프주유소</td>\n",
       "      <td>서울 강남구 논현로 640</td>\n",
       "      <td>20190101</td>\n",
       "      <td>SK에너지</td>\n",
       "      <td>셀프</td>\n",
       "      <td>1673</td>\n",
       "      <td>1465</td>\n",
       "      <td>1365</td>\n",
       "      <td>0</td>\n",
       "      <td>강남구</td>\n",
       "    </tr>\n",
       "    <tr>\n",
       "      <th>1</th>\n",
       "      <td>A0006039</td>\n",
       "      <td>서울 강남구</td>\n",
       "      <td>(주)동하힐탑셀프주유소</td>\n",
       "      <td>서울 강남구 논현로 640</td>\n",
       "      <td>20190102</td>\n",
       "      <td>SK에너지</td>\n",
       "      <td>셀프</td>\n",
       "      <td>1673</td>\n",
       "      <td>1465</td>\n",
       "      <td>1365</td>\n",
       "      <td>0</td>\n",
       "      <td>강남구</td>\n",
       "    </tr>\n",
       "    <tr>\n",
       "      <th>2</th>\n",
       "      <td>A0006039</td>\n",
       "      <td>서울 강남구</td>\n",
       "      <td>(주)동하힐탑셀프주유소</td>\n",
       "      <td>서울 강남구 논현로 640</td>\n",
       "      <td>20190103</td>\n",
       "      <td>SK에너지</td>\n",
       "      <td>셀프</td>\n",
       "      <td>1673</td>\n",
       "      <td>1465</td>\n",
       "      <td>1365</td>\n",
       "      <td>0</td>\n",
       "      <td>강남구</td>\n",
       "    </tr>\n",
       "    <tr>\n",
       "      <th>3</th>\n",
       "      <td>A0006039</td>\n",
       "      <td>서울 강남구</td>\n",
       "      <td>(주)동하힐탑셀프주유소</td>\n",
       "      <td>서울 강남구 논현로 640</td>\n",
       "      <td>20190104</td>\n",
       "      <td>SK에너지</td>\n",
       "      <td>셀프</td>\n",
       "      <td>1673</td>\n",
       "      <td>1465</td>\n",
       "      <td>1365</td>\n",
       "      <td>0</td>\n",
       "      <td>강남구</td>\n",
       "    </tr>\n",
       "    <tr>\n",
       "      <th>4</th>\n",
       "      <td>A0006039</td>\n",
       "      <td>서울 강남구</td>\n",
       "      <td>(주)동하힐탑셀프주유소</td>\n",
       "      <td>서울 강남구 논현로 640</td>\n",
       "      <td>20190105</td>\n",
       "      <td>SK에너지</td>\n",
       "      <td>셀프</td>\n",
       "      <td>1673</td>\n",
       "      <td>1465</td>\n",
       "      <td>1365</td>\n",
       "      <td>0</td>\n",
       "      <td>강남구</td>\n",
       "    </tr>\n",
       "  </tbody>\n",
       "</table>\n",
       "</div>"
      ],
      "text/plain": [
       "         번호      지역            상호              주소        기간     상표 셀프여부  \\\n",
       "0  A0006039  서울 강남구  (주)동하힐탑셀프주유소  서울 강남구 논현로 640  20190101  SK에너지   셀프   \n",
       "1  A0006039  서울 강남구  (주)동하힐탑셀프주유소  서울 강남구 논현로 640  20190102  SK에너지   셀프   \n",
       "2  A0006039  서울 강남구  (주)동하힐탑셀프주유소  서울 강남구 논현로 640  20190103  SK에너지   셀프   \n",
       "3  A0006039  서울 강남구  (주)동하힐탑셀프주유소  서울 강남구 논현로 640  20190104  SK에너지   셀프   \n",
       "4  A0006039  서울 강남구  (주)동하힐탑셀프주유소  서울 강남구 논현로 640  20190105  SK에너지   셀프   \n",
       "\n",
       "   고급휘발유   휘발유    경유  실내등유    구  \n",
       "0   1673  1465  1365     0  강남구  \n",
       "1   1673  1465  1365     0  강남구  \n",
       "2   1673  1465  1365     0  강남구  \n",
       "3   1673  1465  1365     0  강남구  \n",
       "4   1673  1465  1365     0  강남구  "
      ]
     },
     "execution_count": 30,
     "metadata": {},
     "output_type": "execute_result"
    }
   ],
   "source": [
    "# 지역 컬럼의 값을 이용하여 \"구\" 컬럼 생성 (지역에서 구만 추출)\n",
    "df['구'] = df['지역'].str.split(' ').str[1]\n",
    "df.head()"
   ]
  },
  {
   "cell_type": "code",
   "execution_count": 35,
   "metadata": {},
   "outputs": [
    {
     "name": "stdout",
     "output_type": "stream",
     "text": [
      "1615770918.7016704\n"
     ]
    }
   ],
   "source": [
    "import time\n",
    "a = time.time() #1970.01.01 00:00:00 실행시점까지 초단위로 계산한 값.\n",
    "#코드\n",
    "b = time.time()\n",
    "b-a #몇초\n",
    "print(a)"
   ]
  },
  {
   "cell_type": "code",
   "execution_count": 37,
   "metadata": {
    "ExecuteTime": {
     "end_time": "2020-08-16T12:00:18.334543Z",
     "start_time": "2020-08-16T12:00:18.292656Z"
    }
   },
   "outputs": [],
   "source": [
    "# 기간 컬럼을 datetime 타입으로 변경\n",
    "# 20190101  %Y:년도(4자리), %m:월, %d:일, %H:시간, %M:분, %S: 초 (2자리 - 10,03)\n",
    "df['기간'] = pd.to_datetime(df['기간'], format='%Y%m%d')"
   ]
  },
  {
   "cell_type": "code",
   "execution_count": 38,
   "metadata": {
    "collapsed": true
   },
   "outputs": [
    {
     "name": "stdout",
     "output_type": "stream",
     "text": [
      "<class 'pandas.core.frame.DataFrame'>\n",
      "RangeIndex: 181714 entries, 0 to 181713\n",
      "Data columns (total 12 columns):\n",
      " #   Column  Non-Null Count   Dtype         \n",
      "---  ------  --------------   -----         \n",
      " 0   번호      181714 non-null  object        \n",
      " 1   지역      181714 non-null  object        \n",
      " 2   상호      181714 non-null  object        \n",
      " 3   주소      181714 non-null  object        \n",
      " 4   기간      181714 non-null  datetime64[ns]\n",
      " 5   상표      181714 non-null  object        \n",
      " 6   셀프여부    181714 non-null  object        \n",
      " 7   고급휘발유   181714 non-null  int64         \n",
      " 8   휘발유     181714 non-null  int64         \n",
      " 9   경유      181714 non-null  int64         \n",
      " 10  실내등유    181714 non-null  int64         \n",
      " 11  구       181714 non-null  object        \n",
      "dtypes: datetime64[ns](1), int64(4), object(7)\n",
      "memory usage: 16.6+ MB\n"
     ]
    }
   ],
   "source": [
    "df.info()"
   ]
  },
  {
   "cell_type": "code",
   "execution_count": 40,
   "metadata": {
    "collapsed": true
   },
   "outputs": [
    {
     "name": "stdout",
     "output_type": "stream",
     "text": [
      "<class 'pandas.core.frame.DataFrame'>\n",
      "RangeIndex: 90590 entries, 0 to 90589\n",
      "Data columns (total 11 columns):\n",
      " #   Column  Non-Null Count  Dtype         \n",
      "---  ------  --------------  -----         \n",
      " 0   번호      90590 non-null  object        \n",
      " 1   지역      90590 non-null  object        \n",
      " 2   상호      90590 non-null  object        \n",
      " 3   주소      90590 non-null  object        \n",
      " 4   기간      90590 non-null  datetime64[ns]\n",
      " 5   상표      90590 non-null  object        \n",
      " 6   셀프여부    90590 non-null  object        \n",
      " 7   고급휘발유   90590 non-null  int64         \n",
      " 8   휘발유     90590 non-null  int64         \n",
      " 9   경유      90590 non-null  int64         \n",
      " 10  실내등유    90590 non-null  int64         \n",
      "dtypes: datetime64[ns](1), int64(4), object(6)\n",
      "memory usage: 7.6+ MB\n"
     ]
    }
   ],
   "source": [
    "# read_csv() 로 읽을때 변환. \n",
    "# parse_dates=['datetime 타입으로 읽을 컬럼', ...]\n",
    "# date_parser=변환함수\n",
    "from datetime import datetime\n",
    "def parser(x):\n",
    "    # strftime(): datetime->str (to_char())\n",
    "    # strptime(): str -> datetime (to_date())\n",
    "    # x: 컬럼의 원소들\n",
    "    return datetime.strptime(x, '%Y%m%d')\n",
    "first2 = pd.read_csv('data/2019년 상반기 주유소 판매가격.csv',\n",
    "                     parse_dates=['기간'],\n",
    "                     date_parser=lambda x: datetime.strptime(x, '%Y%m%d'))\n",
    "#                      date_parser=parser)  #'기간' 컬럼의 값을 읽어올때 parser함수를 이용해 datetime 타입으로 변환해라.\n",
    "first2.info()"
   ]
  },
  {
   "cell_type": "code",
   "execution_count": 48,
   "metadata": {
    "ExecuteTime": {
     "end_time": "2020-08-16T12:00:18.445247Z",
     "start_time": "2020-08-16T12:00:18.338532Z"
    }
   },
   "outputs": [],
   "source": [
    "# 기간 컬럼을 이용해 \"월\", \"일\", \"요일\" 컬럼 생성\n",
    "# df['년'] = df['기간'].dt.year\n",
    "df['월'] = df['기간'].dt.month\n",
    "df['일'] = df['기간'].dt.day\n",
    "df['요일'] = df['기간'].dt.dayofweek #요일 (0:월, 6:일)"
   ]
  },
  {
   "cell_type": "code",
   "execution_count": 52,
   "metadata": {
    "collapsed": true
   },
   "outputs": [
    {
     "data": {
      "text/html": [
       "<div>\n",
       "<style scoped>\n",
       "    .dataframe tbody tr th:only-of-type {\n",
       "        vertical-align: middle;\n",
       "    }\n",
       "\n",
       "    .dataframe tbody tr th {\n",
       "        vertical-align: top;\n",
       "    }\n",
       "\n",
       "    .dataframe thead th {\n",
       "        text-align: right;\n",
       "    }\n",
       "</style>\n",
       "<table border=\"1\" class=\"dataframe\">\n",
       "  <thead>\n",
       "    <tr style=\"text-align: right;\">\n",
       "      <th></th>\n",
       "      <th>번호</th>\n",
       "      <th>지역</th>\n",
       "      <th>상호</th>\n",
       "      <th>주소</th>\n",
       "      <th>기간</th>\n",
       "      <th>상표</th>\n",
       "      <th>셀프여부</th>\n",
       "      <th>고급휘발유</th>\n",
       "      <th>휘발유</th>\n",
       "      <th>경유</th>\n",
       "      <th>실내등유</th>\n",
       "      <th>구</th>\n",
       "      <th>월</th>\n",
       "      <th>요일</th>\n",
       "      <th>일</th>\n",
       "    </tr>\n",
       "  </thead>\n",
       "  <tbody>\n",
       "    <tr>\n",
       "      <th>0</th>\n",
       "      <td>A0006039</td>\n",
       "      <td>서울 강남구</td>\n",
       "      <td>(주)동하힐탑셀프주유소</td>\n",
       "      <td>서울 강남구 논현로 640</td>\n",
       "      <td>2019-01-01</td>\n",
       "      <td>SK에너지</td>\n",
       "      <td>셀프</td>\n",
       "      <td>1673</td>\n",
       "      <td>1465</td>\n",
       "      <td>1365</td>\n",
       "      <td>0</td>\n",
       "      <td>강남구</td>\n",
       "      <td>1</td>\n",
       "      <td>1</td>\n",
       "      <td>1</td>\n",
       "    </tr>\n",
       "    <tr>\n",
       "      <th>1</th>\n",
       "      <td>A0006039</td>\n",
       "      <td>서울 강남구</td>\n",
       "      <td>(주)동하힐탑셀프주유소</td>\n",
       "      <td>서울 강남구 논현로 640</td>\n",
       "      <td>2019-01-02</td>\n",
       "      <td>SK에너지</td>\n",
       "      <td>셀프</td>\n",
       "      <td>1673</td>\n",
       "      <td>1465</td>\n",
       "      <td>1365</td>\n",
       "      <td>0</td>\n",
       "      <td>강남구</td>\n",
       "      <td>1</td>\n",
       "      <td>2</td>\n",
       "      <td>2</td>\n",
       "    </tr>\n",
       "    <tr>\n",
       "      <th>2</th>\n",
       "      <td>A0006039</td>\n",
       "      <td>서울 강남구</td>\n",
       "      <td>(주)동하힐탑셀프주유소</td>\n",
       "      <td>서울 강남구 논현로 640</td>\n",
       "      <td>2019-01-03</td>\n",
       "      <td>SK에너지</td>\n",
       "      <td>셀프</td>\n",
       "      <td>1673</td>\n",
       "      <td>1465</td>\n",
       "      <td>1365</td>\n",
       "      <td>0</td>\n",
       "      <td>강남구</td>\n",
       "      <td>1</td>\n",
       "      <td>3</td>\n",
       "      <td>3</td>\n",
       "    </tr>\n",
       "    <tr>\n",
       "      <th>3</th>\n",
       "      <td>A0006039</td>\n",
       "      <td>서울 강남구</td>\n",
       "      <td>(주)동하힐탑셀프주유소</td>\n",
       "      <td>서울 강남구 논현로 640</td>\n",
       "      <td>2019-01-04</td>\n",
       "      <td>SK에너지</td>\n",
       "      <td>셀프</td>\n",
       "      <td>1673</td>\n",
       "      <td>1465</td>\n",
       "      <td>1365</td>\n",
       "      <td>0</td>\n",
       "      <td>강남구</td>\n",
       "      <td>1</td>\n",
       "      <td>4</td>\n",
       "      <td>4</td>\n",
       "    </tr>\n",
       "    <tr>\n",
       "      <th>4</th>\n",
       "      <td>A0006039</td>\n",
       "      <td>서울 강남구</td>\n",
       "      <td>(주)동하힐탑셀프주유소</td>\n",
       "      <td>서울 강남구 논현로 640</td>\n",
       "      <td>2019-01-05</td>\n",
       "      <td>SK에너지</td>\n",
       "      <td>셀프</td>\n",
       "      <td>1673</td>\n",
       "      <td>1465</td>\n",
       "      <td>1365</td>\n",
       "      <td>0</td>\n",
       "      <td>강남구</td>\n",
       "      <td>1</td>\n",
       "      <td>5</td>\n",
       "      <td>5</td>\n",
       "    </tr>\n",
       "  </tbody>\n",
       "</table>\n",
       "</div>"
      ],
      "text/plain": [
       "         번호      지역            상호              주소         기간     상표 셀프여부  \\\n",
       "0  A0006039  서울 강남구  (주)동하힐탑셀프주유소  서울 강남구 논현로 640 2019-01-01  SK에너지   셀프   \n",
       "1  A0006039  서울 강남구  (주)동하힐탑셀프주유소  서울 강남구 논현로 640 2019-01-02  SK에너지   셀프   \n",
       "2  A0006039  서울 강남구  (주)동하힐탑셀프주유소  서울 강남구 논현로 640 2019-01-03  SK에너지   셀프   \n",
       "3  A0006039  서울 강남구  (주)동하힐탑셀프주유소  서울 강남구 논현로 640 2019-01-04  SK에너지   셀프   \n",
       "4  A0006039  서울 강남구  (주)동하힐탑셀프주유소  서울 강남구 논현로 640 2019-01-05  SK에너지   셀프   \n",
       "\n",
       "   고급휘발유   휘발유    경유  실내등유    구  월  요일  일  \n",
       "0   1673  1465  1365     0  강남구  1   1  1  \n",
       "1   1673  1465  1365     0  강남구  1   2  2  \n",
       "2   1673  1465  1365     0  강남구  1   3  3  \n",
       "3   1673  1465  1365     0  강남구  1   4  4  \n",
       "4   1673  1465  1365     0  강남구  1   5  5  "
      ]
     },
     "execution_count": 52,
     "metadata": {},
     "output_type": "execute_result"
    }
   ],
   "source": [
    "# df.drop(labels='년', axis=1, inplace=True)\n",
    "df.head()"
   ]
  },
  {
   "cell_type": "code",
   "execution_count": 53,
   "metadata": {},
   "outputs": [],
   "source": [
    "# 요일을 문자열로 변환((0:월, 6:일))\n",
    "def change_month_str(x):\n",
    "    if x==0:\n",
    "        return '월'\n",
    "    elif x==1:\n",
    "        return '화'\n",
    "    elif x==2:\n",
    "        return '수'\n",
    "    elif x==3:\n",
    "        return '목'\n",
    "    elif x==4:\n",
    "        return '금'\n",
    "    elif x==5:\n",
    "        return '토'\n",
    "    elif x==6:\n",
    "        return '일'"
   ]
  },
  {
   "cell_type": "code",
   "execution_count": 56,
   "metadata": {
    "collapsed": true
   },
   "outputs": [
    {
     "data": {
      "text/html": [
       "<div>\n",
       "<style scoped>\n",
       "    .dataframe tbody tr th:only-of-type {\n",
       "        vertical-align: middle;\n",
       "    }\n",
       "\n",
       "    .dataframe tbody tr th {\n",
       "        vertical-align: top;\n",
       "    }\n",
       "\n",
       "    .dataframe thead th {\n",
       "        text-align: right;\n",
       "    }\n",
       "</style>\n",
       "<table border=\"1\" class=\"dataframe\">\n",
       "  <thead>\n",
       "    <tr style=\"text-align: right;\">\n",
       "      <th></th>\n",
       "      <th>번호</th>\n",
       "      <th>지역</th>\n",
       "      <th>상호</th>\n",
       "      <th>주소</th>\n",
       "      <th>기간</th>\n",
       "      <th>상표</th>\n",
       "      <th>셀프여부</th>\n",
       "      <th>고급휘발유</th>\n",
       "      <th>휘발유</th>\n",
       "      <th>경유</th>\n",
       "      <th>실내등유</th>\n",
       "      <th>구</th>\n",
       "      <th>월</th>\n",
       "      <th>요일</th>\n",
       "      <th>일</th>\n",
       "    </tr>\n",
       "  </thead>\n",
       "  <tbody>\n",
       "    <tr>\n",
       "      <th>0</th>\n",
       "      <td>A0006039</td>\n",
       "      <td>서울 강남구</td>\n",
       "      <td>(주)동하힐탑셀프주유소</td>\n",
       "      <td>서울 강남구 논현로 640</td>\n",
       "      <td>2019-01-01</td>\n",
       "      <td>SK에너지</td>\n",
       "      <td>셀프</td>\n",
       "      <td>1673</td>\n",
       "      <td>1465</td>\n",
       "      <td>1365</td>\n",
       "      <td>0</td>\n",
       "      <td>강남구</td>\n",
       "      <td>1</td>\n",
       "      <td>화</td>\n",
       "      <td>1</td>\n",
       "    </tr>\n",
       "    <tr>\n",
       "      <th>1</th>\n",
       "      <td>A0006039</td>\n",
       "      <td>서울 강남구</td>\n",
       "      <td>(주)동하힐탑셀프주유소</td>\n",
       "      <td>서울 강남구 논현로 640</td>\n",
       "      <td>2019-01-02</td>\n",
       "      <td>SK에너지</td>\n",
       "      <td>셀프</td>\n",
       "      <td>1673</td>\n",
       "      <td>1465</td>\n",
       "      <td>1365</td>\n",
       "      <td>0</td>\n",
       "      <td>강남구</td>\n",
       "      <td>1</td>\n",
       "      <td>수</td>\n",
       "      <td>2</td>\n",
       "    </tr>\n",
       "    <tr>\n",
       "      <th>2</th>\n",
       "      <td>A0006039</td>\n",
       "      <td>서울 강남구</td>\n",
       "      <td>(주)동하힐탑셀프주유소</td>\n",
       "      <td>서울 강남구 논현로 640</td>\n",
       "      <td>2019-01-03</td>\n",
       "      <td>SK에너지</td>\n",
       "      <td>셀프</td>\n",
       "      <td>1673</td>\n",
       "      <td>1465</td>\n",
       "      <td>1365</td>\n",
       "      <td>0</td>\n",
       "      <td>강남구</td>\n",
       "      <td>1</td>\n",
       "      <td>목</td>\n",
       "      <td>3</td>\n",
       "    </tr>\n",
       "    <tr>\n",
       "      <th>3</th>\n",
       "      <td>A0006039</td>\n",
       "      <td>서울 강남구</td>\n",
       "      <td>(주)동하힐탑셀프주유소</td>\n",
       "      <td>서울 강남구 논현로 640</td>\n",
       "      <td>2019-01-04</td>\n",
       "      <td>SK에너지</td>\n",
       "      <td>셀프</td>\n",
       "      <td>1673</td>\n",
       "      <td>1465</td>\n",
       "      <td>1365</td>\n",
       "      <td>0</td>\n",
       "      <td>강남구</td>\n",
       "      <td>1</td>\n",
       "      <td>금</td>\n",
       "      <td>4</td>\n",
       "    </tr>\n",
       "    <tr>\n",
       "      <th>4</th>\n",
       "      <td>A0006039</td>\n",
       "      <td>서울 강남구</td>\n",
       "      <td>(주)동하힐탑셀프주유소</td>\n",
       "      <td>서울 강남구 논현로 640</td>\n",
       "      <td>2019-01-05</td>\n",
       "      <td>SK에너지</td>\n",
       "      <td>셀프</td>\n",
       "      <td>1673</td>\n",
       "      <td>1465</td>\n",
       "      <td>1365</td>\n",
       "      <td>0</td>\n",
       "      <td>강남구</td>\n",
       "      <td>1</td>\n",
       "      <td>토</td>\n",
       "      <td>5</td>\n",
       "    </tr>\n",
       "  </tbody>\n",
       "</table>\n",
       "</div>"
      ],
      "text/plain": [
       "         번호      지역            상호              주소         기간     상표 셀프여부  \\\n",
       "0  A0006039  서울 강남구  (주)동하힐탑셀프주유소  서울 강남구 논현로 640 2019-01-01  SK에너지   셀프   \n",
       "1  A0006039  서울 강남구  (주)동하힐탑셀프주유소  서울 강남구 논현로 640 2019-01-02  SK에너지   셀프   \n",
       "2  A0006039  서울 강남구  (주)동하힐탑셀프주유소  서울 강남구 논현로 640 2019-01-03  SK에너지   셀프   \n",
       "3  A0006039  서울 강남구  (주)동하힐탑셀프주유소  서울 강남구 논현로 640 2019-01-04  SK에너지   셀프   \n",
       "4  A0006039  서울 강남구  (주)동하힐탑셀프주유소  서울 강남구 논현로 640 2019-01-05  SK에너지   셀프   \n",
       "\n",
       "   고급휘발유   휘발유    경유  실내등유    구  월 요일  일  \n",
       "0   1673  1465  1365     0  강남구  1  화  1  \n",
       "1   1673  1465  1365     0  강남구  1  수  2  \n",
       "2   1673  1465  1365     0  강남구  1  목  3  \n",
       "3   1673  1465  1365     0  강남구  1  금  4  \n",
       "4   1673  1465  1365     0  강남구  1  토  5  "
      ]
     },
     "execution_count": 56,
     "metadata": {},
     "output_type": "execute_result"
    }
   ],
   "source": [
    "df['요일'] = df['요일'].apply(change_month_str)\n",
    "df.head()"
   ]
  },
  {
   "cell_type": "code",
   "execution_count": 64,
   "metadata": {
    "ExecuteTime": {
     "end_time": "2020-08-16T12:00:18.691588Z",
     "start_time": "2020-08-16T12:00:18.585871Z"
    }
   },
   "outputs": [
    {
     "data": {
      "text/html": [
       "<div>\n",
       "<style scoped>\n",
       "    .dataframe tbody tr th:only-of-type {\n",
       "        vertical-align: middle;\n",
       "    }\n",
       "\n",
       "    .dataframe tbody tr th {\n",
       "        vertical-align: top;\n",
       "    }\n",
       "\n",
       "    .dataframe thead th {\n",
       "        text-align: right;\n",
       "    }\n",
       "</style>\n",
       "<table border=\"1\" class=\"dataframe\">\n",
       "  <thead>\n",
       "    <tr style=\"text-align: right;\">\n",
       "      <th></th>\n",
       "      <th>번호</th>\n",
       "      <th>지역</th>\n",
       "      <th>상호</th>\n",
       "      <th>주소</th>\n",
       "      <th>기간</th>\n",
       "      <th>상표</th>\n",
       "      <th>셀프여부</th>\n",
       "      <th>고급휘발유</th>\n",
       "      <th>휘발유</th>\n",
       "      <th>경유</th>\n",
       "      <th>실내등유</th>\n",
       "      <th>구</th>\n",
       "      <th>월</th>\n",
       "      <th>요일</th>\n",
       "      <th>일</th>\n",
       "    </tr>\n",
       "  </thead>\n",
       "  <tbody>\n",
       "    <tr>\n",
       "      <th>177210</th>\n",
       "      <td>A0000767</td>\n",
       "      <td>서울 중구</td>\n",
       "      <td>서남주유소</td>\n",
       "      <td>서울 중구 통일로 30</td>\n",
       "      <td>2019-09-24</td>\n",
       "      <td>SK에너지</td>\n",
       "      <td>일반</td>\n",
       "      <td>2649</td>\n",
       "      <td>2356</td>\n",
       "      <td>2196</td>\n",
       "      <td>0</td>\n",
       "      <td>중구</td>\n",
       "      <td>9</td>\n",
       "      <td>화</td>\n",
       "      <td>24</td>\n",
       "    </tr>\n",
       "    <tr>\n",
       "      <th>177216</th>\n",
       "      <td>A0000767</td>\n",
       "      <td>서울 중구</td>\n",
       "      <td>서남주유소</td>\n",
       "      <td>서울 중구 통일로 30</td>\n",
       "      <td>2019-09-30</td>\n",
       "      <td>SK에너지</td>\n",
       "      <td>일반</td>\n",
       "      <td>2699</td>\n",
       "      <td>2356</td>\n",
       "      <td>2196</td>\n",
       "      <td>0</td>\n",
       "      <td>중구</td>\n",
       "      <td>9</td>\n",
       "      <td>월</td>\n",
       "      <td>30</td>\n",
       "    </tr>\n",
       "    <tr>\n",
       "      <th>177217</th>\n",
       "      <td>A0000767</td>\n",
       "      <td>서울 중구</td>\n",
       "      <td>서남주유소</td>\n",
       "      <td>서울 중구 통일로 30</td>\n",
       "      <td>2019-10-01</td>\n",
       "      <td>SK에너지</td>\n",
       "      <td>일반</td>\n",
       "      <td>2699</td>\n",
       "      <td>2356</td>\n",
       "      <td>2196</td>\n",
       "      <td>0</td>\n",
       "      <td>중구</td>\n",
       "      <td>10</td>\n",
       "      <td>화</td>\n",
       "      <td>1</td>\n",
       "    </tr>\n",
       "    <tr>\n",
       "      <th>177211</th>\n",
       "      <td>A0000767</td>\n",
       "      <td>서울 중구</td>\n",
       "      <td>서남주유소</td>\n",
       "      <td>서울 중구 통일로 30</td>\n",
       "      <td>2019-09-25</td>\n",
       "      <td>SK에너지</td>\n",
       "      <td>일반</td>\n",
       "      <td>2649</td>\n",
       "      <td>2356</td>\n",
       "      <td>2196</td>\n",
       "      <td>0</td>\n",
       "      <td>중구</td>\n",
       "      <td>9</td>\n",
       "      <td>수</td>\n",
       "      <td>25</td>\n",
       "    </tr>\n",
       "    <tr>\n",
       "      <th>177212</th>\n",
       "      <td>A0000767</td>\n",
       "      <td>서울 중구</td>\n",
       "      <td>서남주유소</td>\n",
       "      <td>서울 중구 통일로 30</td>\n",
       "      <td>2019-09-26</td>\n",
       "      <td>SK에너지</td>\n",
       "      <td>일반</td>\n",
       "      <td>2699</td>\n",
       "      <td>2356</td>\n",
       "      <td>2196</td>\n",
       "      <td>0</td>\n",
       "      <td>중구</td>\n",
       "      <td>9</td>\n",
       "      <td>목</td>\n",
       "      <td>26</td>\n",
       "    </tr>\n",
       "  </tbody>\n",
       "</table>\n",
       "</div>"
      ],
      "text/plain": [
       "              번호     지역     상호            주소         기간     상표 셀프여부  고급휘발유  \\\n",
       "177210  A0000767  서울 중구  서남주유소  서울 중구 통일로 30 2019-09-24  SK에너지   일반   2649   \n",
       "177216  A0000767  서울 중구  서남주유소  서울 중구 통일로 30 2019-09-30  SK에너지   일반   2699   \n",
       "177217  A0000767  서울 중구  서남주유소  서울 중구 통일로 30 2019-10-01  SK에너지   일반   2699   \n",
       "177211  A0000767  서울 중구  서남주유소  서울 중구 통일로 30 2019-09-25  SK에너지   일반   2649   \n",
       "177212  A0000767  서울 중구  서남주유소  서울 중구 통일로 30 2019-09-26  SK에너지   일반   2699   \n",
       "\n",
       "         휘발유    경유  실내등유   구   월 요일   일  \n",
       "177210  2356  2196     0  중구   9  화  24  \n",
       "177216  2356  2196     0  중구   9  월  30  \n",
       "177217  2356  2196     0  중구  10  화   1  \n",
       "177211  2356  2196     0  중구   9  수  25  \n",
       "177212  2356  2196     0  중구   9  목  26  "
      ]
     },
     "execution_count": 64,
     "metadata": {},
     "output_type": "execute_result"
    }
   ],
   "source": [
    "# 휘발유 가격이 가장 비싼 5개 행 조회\n",
    "df.sort_values('휘발유', ascending=False).head()\n",
    "# df.sort_values(['휘발유','월'], ascending=[False, True]).head()"
   ]
  },
  {
   "cell_type": "code",
   "execution_count": 71,
   "metadata": {
    "ExecuteTime": {
     "end_time": "2020-08-16T12:00:18.816253Z",
     "start_time": "2020-08-16T12:00:18.694578Z"
    },
    "scrolled": true
   },
   "outputs": [
    {
     "data": {
      "text/html": [
       "<div>\n",
       "<style scoped>\n",
       "    .dataframe tbody tr th:only-of-type {\n",
       "        vertical-align: middle;\n",
       "    }\n",
       "\n",
       "    .dataframe tbody tr th {\n",
       "        vertical-align: top;\n",
       "    }\n",
       "\n",
       "    .dataframe thead th {\n",
       "        text-align: right;\n",
       "    }\n",
       "</style>\n",
       "<table border=\"1\" class=\"dataframe\">\n",
       "  <thead>\n",
       "    <tr style=\"text-align: right;\">\n",
       "      <th></th>\n",
       "      <th>번호</th>\n",
       "      <th>지역</th>\n",
       "      <th>상호</th>\n",
       "      <th>주소</th>\n",
       "      <th>기간</th>\n",
       "      <th>상표</th>\n",
       "      <th>셀프여부</th>\n",
       "      <th>고급휘발유</th>\n",
       "      <th>휘발유</th>\n",
       "      <th>경유</th>\n",
       "      <th>실내등유</th>\n",
       "      <th>구</th>\n",
       "      <th>월</th>\n",
       "      <th>요일</th>\n",
       "      <th>일</th>\n",
       "    </tr>\n",
       "  </thead>\n",
       "  <tbody>\n",
       "    <tr>\n",
       "      <th>13148</th>\n",
       "      <td>A0033328</td>\n",
       "      <td>서울 강서구</td>\n",
       "      <td>KH에너지(주)직영 KH외발산주유소</td>\n",
       "      <td>서울 강서구 방화대로 30</td>\n",
       "      <td>2019-02-07</td>\n",
       "      <td>SK에너지</td>\n",
       "      <td>셀프</td>\n",
       "      <td>1788</td>\n",
       "      <td>1255</td>\n",
       "      <td>1155</td>\n",
       "      <td>0</td>\n",
       "      <td>강서구</td>\n",
       "      <td>2</td>\n",
       "      <td>목</td>\n",
       "      <td>7</td>\n",
       "    </tr>\n",
       "    <tr>\n",
       "      <th>82475</th>\n",
       "      <td>A0000605</td>\n",
       "      <td>서울 은평구</td>\n",
       "      <td>삼융주유소</td>\n",
       "      <td>서울 은평구 수색로 299 (수색동)</td>\n",
       "      <td>2019-01-31</td>\n",
       "      <td>SK에너지</td>\n",
       "      <td>일반</td>\n",
       "      <td>0</td>\n",
       "      <td>1260</td>\n",
       "      <td>1160</td>\n",
       "      <td>0</td>\n",
       "      <td>은평구</td>\n",
       "      <td>1</td>\n",
       "      <td>목</td>\n",
       "      <td>31</td>\n",
       "    </tr>\n",
       "    <tr>\n",
       "      <th>82474</th>\n",
       "      <td>A0000605</td>\n",
       "      <td>서울 은평구</td>\n",
       "      <td>삼융주유소</td>\n",
       "      <td>서울 은평구 수색로 299 (수색동)</td>\n",
       "      <td>2019-01-30</td>\n",
       "      <td>SK에너지</td>\n",
       "      <td>일반</td>\n",
       "      <td>0</td>\n",
       "      <td>1260</td>\n",
       "      <td>1160</td>\n",
       "      <td>0</td>\n",
       "      <td>은평구</td>\n",
       "      <td>1</td>\n",
       "      <td>수</td>\n",
       "      <td>30</td>\n",
       "    </tr>\n",
       "    <tr>\n",
       "      <th>82476</th>\n",
       "      <td>A0000605</td>\n",
       "      <td>서울 은평구</td>\n",
       "      <td>삼융주유소</td>\n",
       "      <td>서울 은평구 수색로 299 (수색동)</td>\n",
       "      <td>2019-02-01</td>\n",
       "      <td>SK에너지</td>\n",
       "      <td>일반</td>\n",
       "      <td>0</td>\n",
       "      <td>1260</td>\n",
       "      <td>1160</td>\n",
       "      <td>0</td>\n",
       "      <td>은평구</td>\n",
       "      <td>2</td>\n",
       "      <td>금</td>\n",
       "      <td>1</td>\n",
       "    </tr>\n",
       "    <tr>\n",
       "      <th>82998</th>\n",
       "      <td>A0000690</td>\n",
       "      <td>서울 은평구</td>\n",
       "      <td>지에스칼텍스(주)수색뉴타운주유소</td>\n",
       "      <td>서울 은평구 수색로 350 (수색동)</td>\n",
       "      <td>2019-01-26</td>\n",
       "      <td>GS칼텍스</td>\n",
       "      <td>셀프</td>\n",
       "      <td>0</td>\n",
       "      <td>1265</td>\n",
       "      <td>1165</td>\n",
       "      <td>0</td>\n",
       "      <td>은평구</td>\n",
       "      <td>1</td>\n",
       "      <td>토</td>\n",
       "      <td>26</td>\n",
       "    </tr>\n",
       "  </tbody>\n",
       "</table>\n",
       "</div>"
      ],
      "text/plain": [
       "             번호      지역                   상호                    주소         기간  \\\n",
       "13148  A0033328  서울 강서구  KH에너지(주)직영 KH외발산주유소        서울 강서구 방화대로 30 2019-02-07   \n",
       "82475  A0000605  서울 은평구                삼융주유소  서울 은평구 수색로 299 (수색동) 2019-01-31   \n",
       "82474  A0000605  서울 은평구                삼융주유소  서울 은평구 수색로 299 (수색동) 2019-01-30   \n",
       "82476  A0000605  서울 은평구                삼융주유소  서울 은평구 수색로 299 (수색동) 2019-02-01   \n",
       "82998  A0000690  서울 은평구    지에스칼텍스(주)수색뉴타운주유소  서울 은평구 수색로 350 (수색동) 2019-01-26   \n",
       "\n",
       "          상표 셀프여부  고급휘발유   휘발유    경유  실내등유    구  월 요일   일  \n",
       "13148  SK에너지   셀프   1788  1255  1155     0  강서구  2  목   7  \n",
       "82475  SK에너지   일반      0  1260  1160     0  은평구  1  목  31  \n",
       "82474  SK에너지   일반      0  1260  1160     0  은평구  1  수  30  \n",
       "82476  SK에너지   일반      0  1260  1160     0  은평구  2  금   1  \n",
       "82998  GS칼텍스   셀프      0  1265  1165     0  은평구  1  토  26  "
      ]
     },
     "execution_count": 71,
     "metadata": {},
     "output_type": "execute_result"
    }
   ],
   "source": [
    "# 휘발유 가격이 가장 저렴한 5개 행 조회 (단 0원인 주유소 제외)\n",
    "# 상위, 하위 N개 조회=>정렬후에 head(N)\n",
    "\n",
    "df[df['휘발유']!=0].sort_values('휘발유').head()\n",
    "\n",
    "# df.sort_values('휘발유').head()"
   ]
  },
  {
   "cell_type": "code",
   "execution_count": 74,
   "metadata": {
    "ExecuteTime": {
     "end_time": "2020-08-16T12:00:18.893049Z",
     "start_time": "2020-08-16T12:00:18.820243Z"
    },
    "scrolled": true
   },
   "outputs": [
    {
     "data": {
      "text/html": [
       "<div>\n",
       "<style scoped>\n",
       "    .dataframe tbody tr th:only-of-type {\n",
       "        vertical-align: middle;\n",
       "    }\n",
       "\n",
       "    .dataframe tbody tr th {\n",
       "        vertical-align: top;\n",
       "    }\n",
       "\n",
       "    .dataframe thead th {\n",
       "        text-align: right;\n",
       "    }\n",
       "</style>\n",
       "<table border=\"1\" class=\"dataframe\">\n",
       "  <thead>\n",
       "    <tr style=\"text-align: right;\">\n",
       "      <th></th>\n",
       "      <th>번호</th>\n",
       "      <th>지역</th>\n",
       "      <th>상호</th>\n",
       "      <th>주소</th>\n",
       "      <th>기간</th>\n",
       "      <th>상표</th>\n",
       "      <th>셀프여부</th>\n",
       "      <th>고급휘발유</th>\n",
       "      <th>휘발유</th>\n",
       "      <th>경유</th>\n",
       "      <th>실내등유</th>\n",
       "      <th>구</th>\n",
       "      <th>월</th>\n",
       "      <th>요일</th>\n",
       "      <th>일</th>\n",
       "    </tr>\n",
       "  </thead>\n",
       "  <tbody>\n",
       "    <tr>\n",
       "      <th>177217</th>\n",
       "      <td>A0000767</td>\n",
       "      <td>서울 중구</td>\n",
       "      <td>서남주유소</td>\n",
       "      <td>서울 중구 통일로 30</td>\n",
       "      <td>2019-10-01</td>\n",
       "      <td>SK에너지</td>\n",
       "      <td>일반</td>\n",
       "      <td>2699</td>\n",
       "      <td>2356</td>\n",
       "      <td>2196</td>\n",
       "      <td>0</td>\n",
       "      <td>중구</td>\n",
       "      <td>10</td>\n",
       "      <td>화</td>\n",
       "      <td>1</td>\n",
       "    </tr>\n",
       "    <tr>\n",
       "      <th>177212</th>\n",
       "      <td>A0000767</td>\n",
       "      <td>서울 중구</td>\n",
       "      <td>서남주유소</td>\n",
       "      <td>서울 중구 통일로 30</td>\n",
       "      <td>2019-09-26</td>\n",
       "      <td>SK에너지</td>\n",
       "      <td>일반</td>\n",
       "      <td>2699</td>\n",
       "      <td>2356</td>\n",
       "      <td>2196</td>\n",
       "      <td>0</td>\n",
       "      <td>중구</td>\n",
       "      <td>9</td>\n",
       "      <td>목</td>\n",
       "      <td>26</td>\n",
       "    </tr>\n",
       "    <tr>\n",
       "      <th>177213</th>\n",
       "      <td>A0000767</td>\n",
       "      <td>서울 중구</td>\n",
       "      <td>서남주유소</td>\n",
       "      <td>서울 중구 통일로 30</td>\n",
       "      <td>2019-09-27</td>\n",
       "      <td>SK에너지</td>\n",
       "      <td>일반</td>\n",
       "      <td>2699</td>\n",
       "      <td>2356</td>\n",
       "      <td>2196</td>\n",
       "      <td>0</td>\n",
       "      <td>중구</td>\n",
       "      <td>9</td>\n",
       "      <td>금</td>\n",
       "      <td>27</td>\n",
       "    </tr>\n",
       "    <tr>\n",
       "      <th>177214</th>\n",
       "      <td>A0000767</td>\n",
       "      <td>서울 중구</td>\n",
       "      <td>서남주유소</td>\n",
       "      <td>서울 중구 통일로 30</td>\n",
       "      <td>2019-09-28</td>\n",
       "      <td>SK에너지</td>\n",
       "      <td>일반</td>\n",
       "      <td>2699</td>\n",
       "      <td>2356</td>\n",
       "      <td>2196</td>\n",
       "      <td>0</td>\n",
       "      <td>중구</td>\n",
       "      <td>9</td>\n",
       "      <td>토</td>\n",
       "      <td>28</td>\n",
       "    </tr>\n",
       "    <tr>\n",
       "      <th>177215</th>\n",
       "      <td>A0000767</td>\n",
       "      <td>서울 중구</td>\n",
       "      <td>서남주유소</td>\n",
       "      <td>서울 중구 통일로 30</td>\n",
       "      <td>2019-09-29</td>\n",
       "      <td>SK에너지</td>\n",
       "      <td>일반</td>\n",
       "      <td>2699</td>\n",
       "      <td>2356</td>\n",
       "      <td>2196</td>\n",
       "      <td>0</td>\n",
       "      <td>중구</td>\n",
       "      <td>9</td>\n",
       "      <td>일</td>\n",
       "      <td>29</td>\n",
       "    </tr>\n",
       "  </tbody>\n",
       "</table>\n",
       "</div>"
      ],
      "text/plain": [
       "              번호     지역     상호            주소         기간     상표 셀프여부  고급휘발유  \\\n",
       "177217  A0000767  서울 중구  서남주유소  서울 중구 통일로 30 2019-10-01  SK에너지   일반   2699   \n",
       "177212  A0000767  서울 중구  서남주유소  서울 중구 통일로 30 2019-09-26  SK에너지   일반   2699   \n",
       "177213  A0000767  서울 중구  서남주유소  서울 중구 통일로 30 2019-09-27  SK에너지   일반   2699   \n",
       "177214  A0000767  서울 중구  서남주유소  서울 중구 통일로 30 2019-09-28  SK에너지   일반   2699   \n",
       "177215  A0000767  서울 중구  서남주유소  서울 중구 통일로 30 2019-09-29  SK에너지   일반   2699   \n",
       "\n",
       "         휘발유    경유  실내등유   구   월 요일   일  \n",
       "177217  2356  2196     0  중구  10  화   1  \n",
       "177212  2356  2196     0  중구   9  목  26  \n",
       "177213  2356  2196     0  중구   9  금  27  \n",
       "177214  2356  2196     0  중구   9  토  28  \n",
       "177215  2356  2196     0  중구   9  일  29  "
      ]
     },
     "execution_count": 74,
     "metadata": {},
     "output_type": "execute_result"
    }
   ],
   "source": [
    "# 고급휘발유 가격이 비싼 5개 조회\n",
    "df.sort_values('고급휘발유', ascending=False).head()"
   ]
  },
  {
   "cell_type": "code",
   "execution_count": 77,
   "metadata": {
    "ExecuteTime": {
     "end_time": "2020-08-16T12:00:18.971841Z",
     "start_time": "2020-08-16T12:00:18.896042Z"
    },
    "scrolled": true
   },
   "outputs": [
    {
     "data": {
      "text/html": [
       "<div>\n",
       "<style scoped>\n",
       "    .dataframe tbody tr th:only-of-type {\n",
       "        vertical-align: middle;\n",
       "    }\n",
       "\n",
       "    .dataframe tbody tr th {\n",
       "        vertical-align: top;\n",
       "    }\n",
       "\n",
       "    .dataframe thead th {\n",
       "        text-align: right;\n",
       "    }\n",
       "</style>\n",
       "<table border=\"1\" class=\"dataframe\">\n",
       "  <thead>\n",
       "    <tr style=\"text-align: right;\">\n",
       "      <th></th>\n",
       "      <th>번호</th>\n",
       "      <th>지역</th>\n",
       "      <th>상호</th>\n",
       "      <th>주소</th>\n",
       "      <th>기간</th>\n",
       "      <th>상표</th>\n",
       "      <th>셀프여부</th>\n",
       "      <th>고급휘발유</th>\n",
       "      <th>휘발유</th>\n",
       "      <th>경유</th>\n",
       "      <th>실내등유</th>\n",
       "      <th>구</th>\n",
       "      <th>월</th>\n",
       "      <th>요일</th>\n",
       "      <th>일</th>\n",
       "    </tr>\n",
       "  </thead>\n",
       "  <tbody>\n",
       "    <tr>\n",
       "      <th>17460</th>\n",
       "      <td>A0000520</td>\n",
       "      <td>서울 강서구</td>\n",
       "      <td>하이웨이주유소</td>\n",
       "      <td>서울특별시 강서구 공항대로 432(화곡동)</td>\n",
       "      <td>2019-01-15</td>\n",
       "      <td>S-OIL</td>\n",
       "      <td>셀프</td>\n",
       "      <td>1397</td>\n",
       "      <td>1275</td>\n",
       "      <td>1175</td>\n",
       "      <td>0</td>\n",
       "      <td>강서구</td>\n",
       "      <td>1</td>\n",
       "      <td>화</td>\n",
       "      <td>15</td>\n",
       "    </tr>\n",
       "    <tr>\n",
       "      <th>17459</th>\n",
       "      <td>A0000520</td>\n",
       "      <td>서울 강서구</td>\n",
       "      <td>하이웨이주유소</td>\n",
       "      <td>서울특별시 강서구 공항대로 432(화곡동)</td>\n",
       "      <td>2019-01-14</td>\n",
       "      <td>S-OIL</td>\n",
       "      <td>셀프</td>\n",
       "      <td>1397</td>\n",
       "      <td>1275</td>\n",
       "      <td>1175</td>\n",
       "      <td>0</td>\n",
       "      <td>강서구</td>\n",
       "      <td>1</td>\n",
       "      <td>월</td>\n",
       "      <td>14</td>\n",
       "    </tr>\n",
       "    <tr>\n",
       "      <th>17458</th>\n",
       "      <td>A0000520</td>\n",
       "      <td>서울 강서구</td>\n",
       "      <td>하이웨이주유소</td>\n",
       "      <td>서울특별시 강서구 공항대로 432(화곡동)</td>\n",
       "      <td>2019-01-13</td>\n",
       "      <td>S-OIL</td>\n",
       "      <td>셀프</td>\n",
       "      <td>1397</td>\n",
       "      <td>1275</td>\n",
       "      <td>1175</td>\n",
       "      <td>0</td>\n",
       "      <td>강서구</td>\n",
       "      <td>1</td>\n",
       "      <td>일</td>\n",
       "      <td>13</td>\n",
       "    </tr>\n",
       "    <tr>\n",
       "      <th>17457</th>\n",
       "      <td>A0000520</td>\n",
       "      <td>서울 강서구</td>\n",
       "      <td>하이웨이주유소</td>\n",
       "      <td>서울특별시 강서구 공항대로 432(화곡동)</td>\n",
       "      <td>2019-01-12</td>\n",
       "      <td>S-OIL</td>\n",
       "      <td>셀프</td>\n",
       "      <td>1397</td>\n",
       "      <td>1275</td>\n",
       "      <td>1175</td>\n",
       "      <td>0</td>\n",
       "      <td>강서구</td>\n",
       "      <td>1</td>\n",
       "      <td>토</td>\n",
       "      <td>12</td>\n",
       "    </tr>\n",
       "    <tr>\n",
       "      <th>17456</th>\n",
       "      <td>A0000520</td>\n",
       "      <td>서울 강서구</td>\n",
       "      <td>하이웨이주유소</td>\n",
       "      <td>서울특별시 강서구 공항대로 432(화곡동)</td>\n",
       "      <td>2019-01-11</td>\n",
       "      <td>S-OIL</td>\n",
       "      <td>셀프</td>\n",
       "      <td>1397</td>\n",
       "      <td>1275</td>\n",
       "      <td>1175</td>\n",
       "      <td>0</td>\n",
       "      <td>강서구</td>\n",
       "      <td>1</td>\n",
       "      <td>금</td>\n",
       "      <td>11</td>\n",
       "    </tr>\n",
       "  </tbody>\n",
       "</table>\n",
       "</div>"
      ],
      "text/plain": [
       "             번호      지역       상호                       주소         기간     상표  \\\n",
       "17460  A0000520  서울 강서구  하이웨이주유소  서울특별시 강서구 공항대로 432(화곡동) 2019-01-15  S-OIL   \n",
       "17459  A0000520  서울 강서구  하이웨이주유소  서울특별시 강서구 공항대로 432(화곡동) 2019-01-14  S-OIL   \n",
       "17458  A0000520  서울 강서구  하이웨이주유소  서울특별시 강서구 공항대로 432(화곡동) 2019-01-13  S-OIL   \n",
       "17457  A0000520  서울 강서구  하이웨이주유소  서울특별시 강서구 공항대로 432(화곡동) 2019-01-12  S-OIL   \n",
       "17456  A0000520  서울 강서구  하이웨이주유소  서울특별시 강서구 공항대로 432(화곡동) 2019-01-11  S-OIL   \n",
       "\n",
       "      셀프여부  고급휘발유   휘발유    경유  실내등유    구  월 요일   일  \n",
       "17460   셀프   1397  1275  1175     0  강서구  1  화  15  \n",
       "17459   셀프   1397  1275  1175     0  강서구  1  월  14  \n",
       "17458   셀프   1397  1275  1175     0  강서구  1  일  13  \n",
       "17457   셀프   1397  1275  1175     0  강서구  1  토  12  \n",
       "17456   셀프   1397  1275  1175     0  강서구  1  금  11  "
      ]
     },
     "execution_count": 77,
     "metadata": {},
     "output_type": "execute_result"
    }
   ],
   "source": [
    "# 고급휘발유 가격이 가장 저렴한 5개 행 조회 (단 0원인 주유소 제외)\n",
    "df[df['고급휘발유']!=0].sort_values('고급휘발유').head()"
   ]
  },
  {
   "cell_type": "code",
   "execution_count": 78,
   "metadata": {
    "ExecuteTime": {
     "end_time": "2020-08-16T12:00:19.051630Z",
     "start_time": "2020-08-16T12:00:18.975826Z"
    }
   },
   "outputs": [
    {
     "data": {
      "text/html": [
       "<div>\n",
       "<style scoped>\n",
       "    .dataframe tbody tr th:only-of-type {\n",
       "        vertical-align: middle;\n",
       "    }\n",
       "\n",
       "    .dataframe tbody tr th {\n",
       "        vertical-align: top;\n",
       "    }\n",
       "\n",
       "    .dataframe thead th {\n",
       "        text-align: right;\n",
       "    }\n",
       "</style>\n",
       "<table border=\"1\" class=\"dataframe\">\n",
       "  <thead>\n",
       "    <tr style=\"text-align: right;\">\n",
       "      <th></th>\n",
       "      <th>번호</th>\n",
       "      <th>지역</th>\n",
       "      <th>상호</th>\n",
       "      <th>주소</th>\n",
       "      <th>기간</th>\n",
       "      <th>상표</th>\n",
       "      <th>셀프여부</th>\n",
       "      <th>고급휘발유</th>\n",
       "      <th>휘발유</th>\n",
       "      <th>경유</th>\n",
       "      <th>실내등유</th>\n",
       "      <th>구</th>\n",
       "      <th>월</th>\n",
       "      <th>요일</th>\n",
       "      <th>일</th>\n",
       "    </tr>\n",
       "  </thead>\n",
       "  <tbody>\n",
       "    <tr>\n",
       "      <th>177211</th>\n",
       "      <td>A0000767</td>\n",
       "      <td>서울 중구</td>\n",
       "      <td>서남주유소</td>\n",
       "      <td>서울 중구 통일로 30</td>\n",
       "      <td>2019-09-25</td>\n",
       "      <td>SK에너지</td>\n",
       "      <td>일반</td>\n",
       "      <td>2649</td>\n",
       "      <td>2356</td>\n",
       "      <td>2196</td>\n",
       "      <td>0</td>\n",
       "      <td>중구</td>\n",
       "      <td>9</td>\n",
       "      <td>수</td>\n",
       "      <td>25</td>\n",
       "    </tr>\n",
       "    <tr>\n",
       "      <th>177212</th>\n",
       "      <td>A0000767</td>\n",
       "      <td>서울 중구</td>\n",
       "      <td>서남주유소</td>\n",
       "      <td>서울 중구 통일로 30</td>\n",
       "      <td>2019-09-26</td>\n",
       "      <td>SK에너지</td>\n",
       "      <td>일반</td>\n",
       "      <td>2699</td>\n",
       "      <td>2356</td>\n",
       "      <td>2196</td>\n",
       "      <td>0</td>\n",
       "      <td>중구</td>\n",
       "      <td>9</td>\n",
       "      <td>목</td>\n",
       "      <td>26</td>\n",
       "    </tr>\n",
       "    <tr>\n",
       "      <th>177217</th>\n",
       "      <td>A0000767</td>\n",
       "      <td>서울 중구</td>\n",
       "      <td>서남주유소</td>\n",
       "      <td>서울 중구 통일로 30</td>\n",
       "      <td>2019-10-01</td>\n",
       "      <td>SK에너지</td>\n",
       "      <td>일반</td>\n",
       "      <td>2699</td>\n",
       "      <td>2356</td>\n",
       "      <td>2196</td>\n",
       "      <td>0</td>\n",
       "      <td>중구</td>\n",
       "      <td>10</td>\n",
       "      <td>화</td>\n",
       "      <td>1</td>\n",
       "    </tr>\n",
       "    <tr>\n",
       "      <th>177216</th>\n",
       "      <td>A0000767</td>\n",
       "      <td>서울 중구</td>\n",
       "      <td>서남주유소</td>\n",
       "      <td>서울 중구 통일로 30</td>\n",
       "      <td>2019-09-30</td>\n",
       "      <td>SK에너지</td>\n",
       "      <td>일반</td>\n",
       "      <td>2699</td>\n",
       "      <td>2356</td>\n",
       "      <td>2196</td>\n",
       "      <td>0</td>\n",
       "      <td>중구</td>\n",
       "      <td>9</td>\n",
       "      <td>월</td>\n",
       "      <td>30</td>\n",
       "    </tr>\n",
       "    <tr>\n",
       "      <th>177215</th>\n",
       "      <td>A0000767</td>\n",
       "      <td>서울 중구</td>\n",
       "      <td>서남주유소</td>\n",
       "      <td>서울 중구 통일로 30</td>\n",
       "      <td>2019-09-29</td>\n",
       "      <td>SK에너지</td>\n",
       "      <td>일반</td>\n",
       "      <td>2699</td>\n",
       "      <td>2356</td>\n",
       "      <td>2196</td>\n",
       "      <td>0</td>\n",
       "      <td>중구</td>\n",
       "      <td>9</td>\n",
       "      <td>일</td>\n",
       "      <td>29</td>\n",
       "    </tr>\n",
       "  </tbody>\n",
       "</table>\n",
       "</div>"
      ],
      "text/plain": [
       "              번호     지역     상호            주소         기간     상표 셀프여부  고급휘발유  \\\n",
       "177211  A0000767  서울 중구  서남주유소  서울 중구 통일로 30 2019-09-25  SK에너지   일반   2649   \n",
       "177212  A0000767  서울 중구  서남주유소  서울 중구 통일로 30 2019-09-26  SK에너지   일반   2699   \n",
       "177217  A0000767  서울 중구  서남주유소  서울 중구 통일로 30 2019-10-01  SK에너지   일반   2699   \n",
       "177216  A0000767  서울 중구  서남주유소  서울 중구 통일로 30 2019-09-30  SK에너지   일반   2699   \n",
       "177215  A0000767  서울 중구  서남주유소  서울 중구 통일로 30 2019-09-29  SK에너지   일반   2699   \n",
       "\n",
       "         휘발유    경유  실내등유   구   월 요일   일  \n",
       "177211  2356  2196     0  중구   9  수  25  \n",
       "177212  2356  2196     0  중구   9  목  26  \n",
       "177217  2356  2196     0  중구  10  화   1  \n",
       "177216  2356  2196     0  중구   9  월  30  \n",
       "177215  2356  2196     0  중구   9  일  29  "
      ]
     },
     "execution_count": 78,
     "metadata": {},
     "output_type": "execute_result"
    }
   ],
   "source": [
    "# 경유 가격이 가장 비싼 5개 행 조회\n",
    "df.sort_values('경유', ascending=False).head(5)"
   ]
  },
  {
   "cell_type": "code",
   "execution_count": 79,
   "metadata": {
    "ExecuteTime": {
     "end_time": "2020-08-16T12:00:19.178286Z",
     "start_time": "2020-08-16T12:00:19.055613Z"
    },
    "scrolled": true
   },
   "outputs": [
    {
     "data": {
      "text/html": [
       "<div>\n",
       "<style scoped>\n",
       "    .dataframe tbody tr th:only-of-type {\n",
       "        vertical-align: middle;\n",
       "    }\n",
       "\n",
       "    .dataframe tbody tr th {\n",
       "        vertical-align: top;\n",
       "    }\n",
       "\n",
       "    .dataframe thead th {\n",
       "        text-align: right;\n",
       "    }\n",
       "</style>\n",
       "<table border=\"1\" class=\"dataframe\">\n",
       "  <thead>\n",
       "    <tr style=\"text-align: right;\">\n",
       "      <th></th>\n",
       "      <th>번호</th>\n",
       "      <th>지역</th>\n",
       "      <th>상호</th>\n",
       "      <th>주소</th>\n",
       "      <th>기간</th>\n",
       "      <th>상표</th>\n",
       "      <th>셀프여부</th>\n",
       "      <th>고급휘발유</th>\n",
       "      <th>휘발유</th>\n",
       "      <th>경유</th>\n",
       "      <th>실내등유</th>\n",
       "      <th>구</th>\n",
       "      <th>월</th>\n",
       "      <th>요일</th>\n",
       "      <th>일</th>\n",
       "    </tr>\n",
       "  </thead>\n",
       "  <tbody>\n",
       "    <tr>\n",
       "      <th>13148</th>\n",
       "      <td>A0033328</td>\n",
       "      <td>서울 강서구</td>\n",
       "      <td>KH에너지(주)직영 KH외발산주유소</td>\n",
       "      <td>서울 강서구 방화대로 30</td>\n",
       "      <td>2019-02-07</td>\n",
       "      <td>SK에너지</td>\n",
       "      <td>셀프</td>\n",
       "      <td>1788</td>\n",
       "      <td>1255</td>\n",
       "      <td>1155</td>\n",
       "      <td>0</td>\n",
       "      <td>강서구</td>\n",
       "      <td>2</td>\n",
       "      <td>목</td>\n",
       "      <td>7</td>\n",
       "    </tr>\n",
       "    <tr>\n",
       "      <th>50707</th>\n",
       "      <td>A0011826</td>\n",
       "      <td>서울 서초구</td>\n",
       "      <td>만남의광장주유소</td>\n",
       "      <td>서울 서초구 양재대로12길 73-71</td>\n",
       "      <td>2019-01-13</td>\n",
       "      <td>알뜰(ex)</td>\n",
       "      <td>셀프</td>\n",
       "      <td>0</td>\n",
       "      <td>1297</td>\n",
       "      <td>1157</td>\n",
       "      <td>0</td>\n",
       "      <td>서초구</td>\n",
       "      <td>1</td>\n",
       "      <td>일</td>\n",
       "      <td>13</td>\n",
       "    </tr>\n",
       "    <tr>\n",
       "      <th>82476</th>\n",
       "      <td>A0000605</td>\n",
       "      <td>서울 은평구</td>\n",
       "      <td>삼융주유소</td>\n",
       "      <td>서울 은평구 수색로 299 (수색동)</td>\n",
       "      <td>2019-02-01</td>\n",
       "      <td>SK에너지</td>\n",
       "      <td>일반</td>\n",
       "      <td>0</td>\n",
       "      <td>1260</td>\n",
       "      <td>1160</td>\n",
       "      <td>0</td>\n",
       "      <td>은평구</td>\n",
       "      <td>2</td>\n",
       "      <td>금</td>\n",
       "      <td>1</td>\n",
       "    </tr>\n",
       "    <tr>\n",
       "      <th>82475</th>\n",
       "      <td>A0000605</td>\n",
       "      <td>서울 은평구</td>\n",
       "      <td>삼융주유소</td>\n",
       "      <td>서울 은평구 수색로 299 (수색동)</td>\n",
       "      <td>2019-01-31</td>\n",
       "      <td>SK에너지</td>\n",
       "      <td>일반</td>\n",
       "      <td>0</td>\n",
       "      <td>1260</td>\n",
       "      <td>1160</td>\n",
       "      <td>0</td>\n",
       "      <td>은평구</td>\n",
       "      <td>1</td>\n",
       "      <td>목</td>\n",
       "      <td>31</td>\n",
       "    </tr>\n",
       "    <tr>\n",
       "      <th>82474</th>\n",
       "      <td>A0000605</td>\n",
       "      <td>서울 은평구</td>\n",
       "      <td>삼융주유소</td>\n",
       "      <td>서울 은평구 수색로 299 (수색동)</td>\n",
       "      <td>2019-01-30</td>\n",
       "      <td>SK에너지</td>\n",
       "      <td>일반</td>\n",
       "      <td>0</td>\n",
       "      <td>1260</td>\n",
       "      <td>1160</td>\n",
       "      <td>0</td>\n",
       "      <td>은평구</td>\n",
       "      <td>1</td>\n",
       "      <td>수</td>\n",
       "      <td>30</td>\n",
       "    </tr>\n",
       "  </tbody>\n",
       "</table>\n",
       "</div>"
      ],
      "text/plain": [
       "             번호      지역                   상호                    주소         기간  \\\n",
       "13148  A0033328  서울 강서구  KH에너지(주)직영 KH외발산주유소        서울 강서구 방화대로 30 2019-02-07   \n",
       "50707  A0011826  서울 서초구             만남의광장주유소  서울 서초구 양재대로12길 73-71 2019-01-13   \n",
       "82476  A0000605  서울 은평구                삼융주유소  서울 은평구 수색로 299 (수색동) 2019-02-01   \n",
       "82475  A0000605  서울 은평구                삼융주유소  서울 은평구 수색로 299 (수색동) 2019-01-31   \n",
       "82474  A0000605  서울 은평구                삼융주유소  서울 은평구 수색로 299 (수색동) 2019-01-30   \n",
       "\n",
       "           상표 셀프여부  고급휘발유   휘발유    경유  실내등유    구  월 요일   일  \n",
       "13148   SK에너지   셀프   1788  1255  1155     0  강서구  2  목   7  \n",
       "50707  알뜰(ex)   셀프      0  1297  1157     0  서초구  1  일  13  \n",
       "82476   SK에너지   일반      0  1260  1160     0  은평구  2  금   1  \n",
       "82475   SK에너지   일반      0  1260  1160     0  은평구  1  목  31  \n",
       "82474   SK에너지   일반      0  1260  1160     0  은평구  1  수  30  "
      ]
     },
     "execution_count": 79,
     "metadata": {},
     "output_type": "execute_result"
    }
   ],
   "source": [
    "# 경유 가격이 가장 저렴한 5개 행 조회 (단 0원인 주유소 제외)\n",
    "df[df['경유']!=0].sort_values('경유').head()"
   ]
  },
  {
   "cell_type": "code",
   "execution_count": 87,
   "metadata": {
    "ExecuteTime": {
     "end_time": "2020-08-16T12:00:19.223166Z",
     "start_time": "2020-08-16T12:00:19.181279Z"
    }
   },
   "outputs": [
    {
     "data": {
      "text/plain": [
       "상표\n",
       "GS칼텍스     1564.313469\n",
       "NH-OIL    1449.088889\n",
       "S-OIL     1532.472987\n",
       "SK에너지     1612.782625\n",
       "알뜰(ex)    1431.347945\n",
       "알뜰주유소     1447.875902\n",
       "자가상표      1492.085540\n",
       "현대오일뱅크    1515.670352\n",
       "Name: 휘발유, dtype: float64"
      ]
     },
     "execution_count": 87,
     "metadata": {},
     "output_type": "execute_result"
    }
   ],
   "source": [
    "# 상표별 휘발유 평균가격 조회\n",
    "# df.loc[df['휘발유']!=0, '휘발유'].mean()# 전체 평균(0은 제외) \n",
    "상표_mean = df.loc[df['휘발유']!=0].groupby('상표')['휘발유'].mean()\n",
    "상표_mean"
   ]
  },
  {
   "cell_type": "code",
   "execution_count": 86,
   "metadata": {
    "collapsed": true
   },
   "outputs": [
    {
     "data": {
      "text/plain": [
       "상표\n",
       "GS칼텍스     1564.029014\n",
       "NH-OIL    1449.088889\n",
       "S-OIL     1532.302882\n",
       "SK에너지     1612.147153\n",
       "알뜰(ex)    1431.347945\n",
       "알뜰주유소     1447.875902\n",
       "자가상표      1492.085540\n",
       "현대오일뱅크    1515.458244\n",
       "Name: 휘발유, dtype: float64"
      ]
     },
     "execution_count": 86,
     "metadata": {},
     "output_type": "execute_result"
    }
   ],
   "source": [
    "df.groupby('상표')['휘발유'].mean()"
   ]
  },
  {
   "cell_type": "code",
   "execution_count": 109,
   "metadata": {},
   "outputs": [
    {
     "data": {
      "text/plain": [
       "상표\n",
       "GS칼텍스     1564.313469\n",
       "NH-OIL    1449.088889\n",
       "S-OIL     1532.472987\n",
       "SK에너지     1612.782625\n",
       "알뜰(ex)    1431.347945\n",
       "알뜰주유소     1447.875902\n",
       "자가상표      1492.085540\n",
       "현대오일뱅크    1515.670352\n",
       "Name: 휘발유, dtype: float64"
      ]
     },
     "execution_count": 109,
     "metadata": {},
     "output_type": "execute_result"
    }
   ],
   "source": [
    "상표_mean"
   ]
  },
  {
   "cell_type": "code",
   "execution_count": 98,
   "metadata": {
    "scrolled": true
   },
   "outputs": [
    {
     "name": "stdout",
     "output_type": "stream",
     "text": [
      "0 1564.0\n",
      "1 1449.0\n",
      "2 1532.0\n",
      "3 1613.0\n",
      "4 1431.0\n",
      "5 1448.0\n",
      "6 1492.0\n",
      "7 1516.0\n"
     ]
    }
   ],
   "source": [
    "for i in range(상표_mean.size):\n",
    "    print(i, np.round(상표_mean[i],1))"
   ]
  },
  {
   "cell_type": "code",
   "execution_count": 115,
   "metadata": {
    "ExecuteTime": {
     "end_time": "2020-08-16T12:18:33.837103Z",
     "start_time": "2020-08-16T12:18:33.625672Z"
    }
   },
   "outputs": [
    {
     "data": {
      "image/png": "[encoded data removed]",
      "text/plain": [
       "<Figure size 720x432 with 1 Axes>"
      ]
     },
     "metadata": {
      "needs_background": "light"
     },
     "output_type": "display_data"
    }
   ],
   "source": [
    "# 상표별 휘발유 평균가격 시각화\n",
    "plt.figure(figsize=(10,6))\n",
    "상표_mean.plot.bar(rot=45)#, label='휘발유가격')#figsize=(10,6))\n",
    "\n",
    "#텍스트로 각 막대에 값을 출력\n",
    "for i in range(상표_mean.size):\n",
    "    plt.text(i-0.22, #X축 좌표\n",
    "             상표_mean[i]+10,  #Y축 좌표\n",
    "             np.round(상표_mean[i],1), #출력할 text\n",
    "             fontsize=12)\n",
    "plt.axhline(y=1500, color='r', linestyle='--', label='1500원 기준선')\n",
    "\n",
    "plt.legend(bbox_to_anchor=(1,1), loc='upper left')\n",
    "\n",
    "plt.show()"
   ]
  },
  {
   "cell_type": "code",
   "execution_count": 121,
   "metadata": {
    "ExecuteTime": {
     "end_time": "2020-08-16T12:00:19.596166Z",
     "start_time": "2020-08-16T12:00:19.555280Z"
    }
   },
   "outputs": [
    {
     "data": {
      "text/plain": [
       "일반    108492\n",
       "셀프     73222\n",
       "Name: 셀프여부, dtype: int64"
      ]
     },
     "execution_count": 121,
     "metadata": {},
     "output_type": "execute_result"
    }
   ],
   "source": [
    "# 셀프주유소와 일반주유소 개수 확인\n",
    "self_count = df['셀프여부'].value_counts()#normalize=True)\n",
    "self_count"
   ]
  },
  {
   "cell_type": "code",
   "execution_count": 123,
   "metadata": {
    "ExecuteTime": {
     "end_time": "2020-08-16T12:00:19.819570Z",
     "start_time": "2020-08-16T12:00:19.598165Z"
    }
   },
   "outputs": [
    {
     "data": {
      "image/png": "[encoded data removed]",
      "text/plain": [
       "<Figure size 432x288 with 1 Axes>"
      ]
     },
     "metadata": {
      "needs_background": "light"
     },
     "output_type": "display_data"
    }
   ],
   "source": [
    "# 셀프주유소와 일반주유소 개수 시각화\n",
    "self_count.plot(kind='bar')\n",
    "plt.show()"
   ]
  },
  {
   "cell_type": "code",
   "execution_count": 125,
   "metadata": {
    "ExecuteTime": {
     "end_time": "2020-08-16T12:00:19.851487Z",
     "start_time": "2020-08-16T12:00:19.822565Z"
    }
   },
   "outputs": [
    {
     "data": {
      "text/plain": [
       "셀프여부\n",
       "셀프    1490.262029\n",
       "일반    1619.690059\n",
       "Name: 휘발유, dtype: float64"
      ]
     },
     "execution_count": 125,
     "metadata": {},
     "output_type": "execute_result"
    }
   ],
   "source": [
    "# 셀프 여부에 따른 휘발유 평균 가격 비교\n",
    "df[df['휘발유']!=0].groupby('셀프여부')['휘발유'].mean()"
   ]
  },
  {
   "cell_type": "code",
   "execution_count": 126,
   "metadata": {
    "ExecuteTime": {
     "end_time": "2020-08-16T12:00:19.943273Z",
     "start_time": "2020-08-16T12:00:19.856472Z"
    }
   },
   "outputs": [
    {
     "data": {
      "text/plain": [
       "셀프여부  상표    \n",
       "셀프    GS칼텍스     1481.410074\n",
       "      S-OIL     1481.437428\n",
       "      SK에너지     1505.054771\n",
       "      알뜰(ex)    1431.347945\n",
       "      알뜰주유소     1434.726027\n",
       "      자가상표      1494.409449\n",
       "      현대오일뱅크    1483.686804\n",
       "일반    GS칼텍스     1610.516144\n",
       "      NH-OIL    1449.088889\n",
       "      S-OIL     1579.789061\n",
       "      SK에너지     1691.365496\n",
       "      알뜰주유소     1455.372511\n",
       "      자가상표      1491.740351\n",
       "      현대오일뱅크    1534.510147\n",
       "Name: 휘발유, dtype: float64"
      ]
     },
     "execution_count": 126,
     "metadata": {},
     "output_type": "execute_result"
    }
   ],
   "source": [
    "# 상표별 일반/셀프 주유소의 휘발유 가격 평균 비교\n",
    "df[df['휘발유']!=0].groupby(['셀프여부', '상표'])['휘발유'].mean()"
   ]
  },
  {
   "cell_type": "code",
   "execution_count": 129,
   "metadata": {
    "scrolled": false
   },
   "outputs": [
    {
     "data": {
      "text/html": [
       "<div>\n",
       "<style scoped>\n",
       "    .dataframe tbody tr th:only-of-type {\n",
       "        vertical-align: middle;\n",
       "    }\n",
       "\n",
       "    .dataframe tbody tr th {\n",
       "        vertical-align: top;\n",
       "    }\n",
       "\n",
       "    .dataframe thead th {\n",
       "        text-align: right;\n",
       "    }\n",
       "</style>\n",
       "<table border=\"1\" class=\"dataframe\">\n",
       "  <thead>\n",
       "    <tr style=\"text-align: right;\">\n",
       "      <th>셀프여부</th>\n",
       "      <th>셀프</th>\n",
       "      <th>일반</th>\n",
       "    </tr>\n",
       "    <tr>\n",
       "      <th>상표</th>\n",
       "      <th></th>\n",
       "      <th></th>\n",
       "    </tr>\n",
       "  </thead>\n",
       "  <tbody>\n",
       "    <tr>\n",
       "      <th>GS칼텍스</th>\n",
       "      <td>1481.410074</td>\n",
       "      <td>1610.516144</td>\n",
       "    </tr>\n",
       "    <tr>\n",
       "      <th>NH-OIL</th>\n",
       "      <td>NaN</td>\n",
       "      <td>1449.088889</td>\n",
       "    </tr>\n",
       "    <tr>\n",
       "      <th>S-OIL</th>\n",
       "      <td>1481.437428</td>\n",
       "      <td>1579.789061</td>\n",
       "    </tr>\n",
       "    <tr>\n",
       "      <th>SK에너지</th>\n",
       "      <td>1505.054771</td>\n",
       "      <td>1691.365496</td>\n",
       "    </tr>\n",
       "    <tr>\n",
       "      <th>알뜰(ex)</th>\n",
       "      <td>1431.347945</td>\n",
       "      <td>NaN</td>\n",
       "    </tr>\n",
       "    <tr>\n",
       "      <th>알뜰주유소</th>\n",
       "      <td>1434.726027</td>\n",
       "      <td>1455.372511</td>\n",
       "    </tr>\n",
       "    <tr>\n",
       "      <th>자가상표</th>\n",
       "      <td>1494.409449</td>\n",
       "      <td>1491.740351</td>\n",
       "    </tr>\n",
       "    <tr>\n",
       "      <th>현대오일뱅크</th>\n",
       "      <td>1483.686804</td>\n",
       "      <td>1534.510147</td>\n",
       "    </tr>\n",
       "  </tbody>\n",
       "</table>\n",
       "</div>"
      ],
      "text/plain": [
       "셀프여부             셀프           일반\n",
       "상표                              \n",
       "GS칼텍스   1481.410074  1610.516144\n",
       "NH-OIL          NaN  1449.088889\n",
       "S-OIL   1481.437428  1579.789061\n",
       "SK에너지   1505.054771  1691.365496\n",
       "알뜰(ex)  1431.347945          NaN\n",
       "알뜰주유소   1434.726027  1455.372511\n",
       "자가상표    1494.409449  1491.740351\n",
       "현대오일뱅크  1483.686804  1534.510147"
      ]
     },
     "execution_count": 129,
     "metadata": {},
     "output_type": "execute_result"
    }
   ],
   "source": [
    " 셀프여부_휘발유_mean = df[df['휘발유']!=0].pivot_table(values='휘발유',\n",
    "                                                   index='상표',\n",
    "                                                   columns='셀프여부',\n",
    "                                                   aggfunc='mean')\n",
    "셀프여부_휘발유_mean    "
   ]
  },
  {
   "cell_type": "code",
   "execution_count": 131,
   "metadata": {
    "ExecuteTime": {
     "end_time": "2020-08-16T12:00:20.228476Z",
     "start_time": "2020-08-16T12:00:19.946232Z"
    }
   },
   "outputs": [
    {
     "data": {
      "image/png": "[encoded data removed]",
      "text/plain": [
       "<Figure size 720x432 with 1 Axes>"
      ]
     },
     "metadata": {
      "needs_background": "light"
     },
     "output_type": "display_data"
    }
   ],
   "source": [
    "# 상표별 일반/셀프 주유소의 휘발유 가격 평균 비교 시각화\n",
    "셀프여부_휘발유_mean.plot(kind='bar', figsize=(10,6))\n",
    "plt.legend(bbox_to_anchor=(1,1), loc='upper left')\n",
    "plt.show()"
   ]
  },
  {
   "cell_type": "code",
   "execution_count": 134,
   "metadata": {},
   "outputs": [
    {
     "data": {
      "text/html": [
       "<div>\n",
       "<style scoped>\n",
       "    .dataframe tbody tr th:only-of-type {\n",
       "        vertical-align: middle;\n",
       "    }\n",
       "\n",
       "    .dataframe tbody tr th {\n",
       "        vertical-align: top;\n",
       "    }\n",
       "\n",
       "    .dataframe thead th {\n",
       "        text-align: right;\n",
       "    }\n",
       "</style>\n",
       "<table border=\"1\" class=\"dataframe\">\n",
       "  <thead>\n",
       "    <tr style=\"text-align: right;\">\n",
       "      <th></th>\n",
       "      <th>셀프여부</th>\n",
       "      <th>휘발유</th>\n",
       "    </tr>\n",
       "  </thead>\n",
       "  <tbody>\n",
       "    <tr>\n",
       "      <th>0</th>\n",
       "      <td>셀프</td>\n",
       "      <td>1465</td>\n",
       "    </tr>\n",
       "    <tr>\n",
       "      <th>1</th>\n",
       "      <td>셀프</td>\n",
       "      <td>1465</td>\n",
       "    </tr>\n",
       "    <tr>\n",
       "      <th>2</th>\n",
       "      <td>셀프</td>\n",
       "      <td>1465</td>\n",
       "    </tr>\n",
       "    <tr>\n",
       "      <th>3</th>\n",
       "      <td>셀프</td>\n",
       "      <td>1465</td>\n",
       "    </tr>\n",
       "    <tr>\n",
       "      <th>4</th>\n",
       "      <td>셀프</td>\n",
       "      <td>1465</td>\n",
       "    </tr>\n",
       "  </tbody>\n",
       "</table>\n",
       "</div>"
      ],
      "text/plain": [
       "  셀프여부   휘발유\n",
       "0   셀프  1465\n",
       "1   셀프  1465\n",
       "2   셀프  1465\n",
       "3   셀프  1465\n",
       "4   셀프  1465"
      ]
     },
     "execution_count": 134,
     "metadata": {},
     "output_type": "execute_result"
    }
   ],
   "source": [
    "df[['셀프여부', '휘발유']].head()"
   ]
  },
  {
   "cell_type": "code",
   "execution_count": 138,
   "metadata": {
    "ExecuteTime": {
     "end_time": "2020-08-16T12:00:21.282664Z",
     "start_time": "2020-08-16T12:00:20.231469Z"
    }
   },
   "outputs": [
    {
     "data": {
      "image/png": "[encoded data removed]",
      "text/plain": [
       "<Figure size 1080x720 with 1 Axes>"
      ]
     },
     "metadata": {
      "needs_background": "light"
     },
     "output_type": "display_data"
    }
   ],
   "source": [
    "# 상표별 일반/셀프 주유소의 휘발유 가격에 대한 분포 확인 - boxplot으로 시각화\n",
    "plt.figure(figsize=(15,10))\n",
    "# sns.boxplot(x='셀프여부', y='휘발유', data=df)\n",
    "# sns.boxplot(x='셀프여부', y='휘발유', data=df[df['휘발유']!=0]) #0원 빼고 #셀프여부변 휘발유가격의 분포\n",
    "sns.boxplot(x='상표', y='휘발유', hue='셀프여부', data=df[df['휘발유']!=0])\n",
    "plt.show()"
   ]
  },
  {
   "cell_type": "code",
   "execution_count": 141,
   "metadata": {
    "ExecuteTime": {
     "end_time": "2020-08-16T12:00:22.417164Z",
     "start_time": "2020-08-16T12:00:21.994261Z"
    }
   },
   "outputs": [
    {
     "data": {
      "image/png": "[encoded data removed]",
      "text/plain": [
       "<Figure size 1080x504 with 1 Axes>"
      ]
     },
     "metadata": {
      "needs_background": "light"
     },
     "output_type": "display_data"
    }
   ],
   "source": [
    "# 상표별 휘발유 가격의 분포를 boxplot으로 시각화\n",
    "plt.figure(figsize=(15,7))\n",
    "sns.boxplot(x='상표', y='휘발유', data=df[df['휘발유']!=0])\n",
    "plt.show()"
   ]
  },
  {
   "cell_type": "code",
   "execution_count": 142,
   "metadata": {},
   "outputs": [
    {
     "data": {
      "image/png": "[encoded data removed]",
      "text/plain": [
       "<Figure size 1080x504 with 1 Axes>"
      ]
     },
     "metadata": {
      "needs_background": "light"
     },
     "output_type": "display_data"
    }
   ],
   "source": [
    "plt.figure(figsize=(15,7))\n",
    "sns.violinplot(x='상표', y='휘발유', data=df[df['휘발유']!=0])\n",
    "plt.show()"
   ]
  },
  {
   "cell_type": "code",
   "execution_count": 148,
   "metadata": {
    "ExecuteTime": {
     "end_time": "2020-08-16T12:00:23.092358Z",
     "start_time": "2020-08-16T12:00:23.049440Z"
    },
    "collapsed": true
   },
   "outputs": [
    {
     "data": {
      "text/plain": [
       "구\n",
       "강북구     1453.517525\n",
       "중랑구     1469.009092\n",
       "금천구     1477.121992\n",
       "은평구     1481.964026\n",
       "강서구     1488.818088\n",
       "광진구     1490.597054\n",
       "도봉구     1494.171062\n",
       "동대문구    1506.833542\n",
       "성북구     1507.948267\n",
       "동작구     1512.470911\n",
       "양천구     1512.890261\n",
       "관악구     1518.128564\n",
       "송파구     1518.957954\n",
       "구로구     1525.410383\n",
       "서대문구    1528.943332\n",
       "노원구     1531.221551\n",
       "영등포구    1568.279506\n",
       "강동구     1576.685264\n",
       "서초구     1577.131304\n",
       "성동구     1583.659561\n",
       "마포구     1689.755616\n",
       "강남구     1713.093581\n",
       "종로구     1838.554945\n",
       "용산구     1882.049825\n",
       "중구      1976.948052\n",
       "Name: 휘발유, dtype: float64"
      ]
     },
     "execution_count": 148,
     "metadata": {},
     "output_type": "execute_result"
    }
   ],
   "source": [
    "# 구별 휘발유 가격의 평균\n",
    "구_휘발유_평균 = df.groupby('구')['휘발유'].mean().sort_values()\n",
    "구_휘발유_평균"
   ]
  },
  {
   "cell_type": "code",
   "execution_count": 151,
   "metadata": {},
   "outputs": [
    {
     "data": {
      "text/plain": [
       "1576.966450406335"
      ]
     },
     "execution_count": 151,
     "metadata": {},
     "output_type": "execute_result"
    }
   ],
   "source": [
    "구_휘발유_평균.mean()"
   ]
  },
  {
   "cell_type": "code",
   "execution_count": 156,
   "metadata": {
    "ExecuteTime": {
     "end_time": "2020-08-16T12:00:23.406484Z",
     "start_time": "2020-08-16T12:00:23.094319Z"
    }
   },
   "outputs": [
    {
     "data": {
      "image/png": "[encoded data removed]",
      "text/plain": [
       "<Figure size 1080x504 with 1 Axes>"
      ]
     },
     "metadata": {
      "needs_background": "light"
     },
     "output_type": "display_data"
    }
   ],
   "source": [
    "# 구별 휘발유 가격의 평균 시각화\n",
    "구_휘발유_평균.plot(kind='bar', figsize=(15,7), rot=40)\n",
    "\n",
    "# 평균가격을 기준선\n",
    "plt.axhline(y=구_휘발유_평균.mean(), color='r', label='휘발유 평균 기준선')\n",
    "plt.legend()\n",
    "plt.show()"
   ]
  },
  {
   "cell_type": "code",
   "execution_count": 161,
   "metadata": {
    "ExecuteTime": {
     "end_time": "2020-08-16T12:00:23.454390Z",
     "start_time": "2020-08-16T12:00:23.408479Z"
    },
    "collapsed": true
   },
   "outputs": [
    {
     "data": {
      "text/html": [
       "<div>\n",
       "<style scoped>\n",
       "    .dataframe tbody tr th:only-of-type {\n",
       "        vertical-align: middle;\n",
       "    }\n",
       "\n",
       "    .dataframe tbody tr th {\n",
       "        vertical-align: top;\n",
       "    }\n",
       "\n",
       "    .dataframe thead th {\n",
       "        text-align: right;\n",
       "    }\n",
       "</style>\n",
       "<table border=\"1\" class=\"dataframe\">\n",
       "  <thead>\n",
       "    <tr style=\"text-align: right;\">\n",
       "      <th></th>\n",
       "      <th>고급휘발유</th>\n",
       "      <th>휘발유</th>\n",
       "      <th>경유</th>\n",
       "    </tr>\n",
       "    <tr>\n",
       "      <th>상표</th>\n",
       "      <th></th>\n",
       "      <th></th>\n",
       "      <th></th>\n",
       "    </tr>\n",
       "  </thead>\n",
       "  <tbody>\n",
       "    <tr>\n",
       "      <th>GS칼텍스</th>\n",
       "      <td>2328.073288</td>\n",
       "      <td>2091.866438</td>\n",
       "      <td>1944.754795</td>\n",
       "    </tr>\n",
       "    <tr>\n",
       "      <th>S-OIL</th>\n",
       "      <td>0.000000</td>\n",
       "      <td>1783.369863</td>\n",
       "      <td>1647.369863</td>\n",
       "    </tr>\n",
       "    <tr>\n",
       "      <th>SK에너지</th>\n",
       "      <td>2302.150922</td>\n",
       "      <td>2060.617512</td>\n",
       "      <td>1922.905530</td>\n",
       "    </tr>\n",
       "    <tr>\n",
       "      <th>알뜰주유소</th>\n",
       "      <td>0.000000</td>\n",
       "      <td>1601.552743</td>\n",
       "      <td>1431.907173</td>\n",
       "    </tr>\n",
       "    <tr>\n",
       "      <th>자가상표</th>\n",
       "      <td>0.000000</td>\n",
       "      <td>1418.859375</td>\n",
       "      <td>1300.648438</td>\n",
       "    </tr>\n",
       "    <tr>\n",
       "      <th>현대오일뱅크</th>\n",
       "      <td>1127.669903</td>\n",
       "      <td>1711.669903</td>\n",
       "      <td>1587.766990</td>\n",
       "    </tr>\n",
       "  </tbody>\n",
       "</table>\n",
       "</div>"
      ],
      "text/plain": [
       "              고급휘발유          휘발유           경유\n",
       "상표                                           \n",
       "GS칼텍스   2328.073288  2091.866438  1944.754795\n",
       "S-OIL      0.000000  1783.369863  1647.369863\n",
       "SK에너지   2302.150922  2060.617512  1922.905530\n",
       "알뜰주유소      0.000000  1601.552743  1431.907173\n",
       "자가상표       0.000000  1418.859375  1300.648438\n",
       "현대오일뱅크  1127.669903  1711.669903  1587.766990"
      ]
     },
     "execution_count": 161,
     "metadata": {},
     "output_type": "execute_result"
    }
   ],
   "source": [
    "# 중구(평균이 가장높음)의 상표별 휘발유 평균가격\n",
    "df[df['구']=='중구'].groupby('상표')[['고급휘발유','휘발유','경유']].mean()"
   ]
  },
  {
   "cell_type": "code",
   "execution_count": 163,
   "metadata": {
    "ExecuteTime": {
     "end_time": "2020-08-16T12:00:23.485274Z",
     "start_time": "2020-08-16T12:00:23.456351Z"
    },
    "collapsed": true
   },
   "outputs": [
    {
     "data": {
      "text/plain": [
       "월\n",
       "1     1466.554672\n",
       "2     1446.624956\n",
       "3     1465.159889\n",
       "4     1519.481056\n",
       "5     1606.096255\n",
       "6     1605.343367\n",
       "7     1585.726529\n",
       "8     1589.339464\n",
       "9     1633.125891\n",
       "10    1634.464547\n",
       "11    1620.687606\n",
       "12    1630.535819\n",
       "Name: 휘발유, dtype: float64"
      ]
     },
     "execution_count": 163,
     "metadata": {},
     "output_type": "execute_result"
    }
   ],
   "source": [
    "# 월 평균 휘발유 가격의 평균\n",
    "월_휘발유_평균 = df.groupby('월')['휘발유'].mean()\n",
    "월_휘발유_평균"
   ]
  },
  {
   "cell_type": "code",
   "execution_count": 168,
   "metadata": {},
   "outputs": [
    {
     "data": {
      "text/plain": [
       "['1월', '2월', '3월', '4월', '5월', '6월', '7월', '8월', '9월', '10월', '11월', '12월']"
      ]
     },
     "execution_count": 168,
     "metadata": {},
     "output_type": "execute_result"
    }
   ],
   "source": [
    "[f'{m}월' for m in range(1,13)]"
   ]
  },
  {
   "cell_type": "code",
   "execution_count": 169,
   "metadata": {
    "ExecuteTime": {
     "end_time": "2020-08-16T12:00:23.668816Z",
     "start_time": "2020-08-16T12:00:23.487268Z"
    },
    "collapsed": true
   },
   "outputs": [
    {
     "data": {
      "image/png": "[encoded data removed]",
      "text/plain": [
       "<Figure size 720x360 with 1 Axes>"
      ]
     },
     "metadata": {
      "needs_background": "light"
     },
     "output_type": "display_data"
    }
   ],
   "source": [
    "# 월_휘발유_평균.plot.bar()\n",
    "# 월별 휘발유 가격 변화 추세 시각화\n",
    "월_휘발유_평균.plot(kind='line', figsize=(10,5))\n",
    "\n",
    "plt.xticks(range(1,13), labels=[f'{m}월' for m in range(1,13)])  #ticks위치, label(생략-tick의 위치가 label)\n",
    "plt.show()"
   ]
  },
  {
   "cell_type": "code",
   "execution_count": 171,
   "metadata": {
    "ExecuteTime": {
     "end_time": "2020-08-16T12:00:23.844341Z",
     "start_time": "2020-08-16T12:00:23.671775Z"
    },
    "scrolled": true
   },
   "outputs": [
    {
     "data": {
      "text/html": [
       "<div>\n",
       "<style scoped>\n",
       "    .dataframe tbody tr th:only-of-type {\n",
       "        vertical-align: middle;\n",
       "    }\n",
       "\n",
       "    .dataframe tbody tr th {\n",
       "        vertical-align: top;\n",
       "    }\n",
       "\n",
       "    .dataframe thead th {\n",
       "        text-align: right;\n",
       "    }\n",
       "</style>\n",
       "<table border=\"1\" class=\"dataframe\">\n",
       "  <thead>\n",
       "    <tr style=\"text-align: right;\">\n",
       "      <th>구</th>\n",
       "      <th>강남구</th>\n",
       "      <th>강동구</th>\n",
       "      <th>강북구</th>\n",
       "      <th>강서구</th>\n",
       "      <th>관악구</th>\n",
       "      <th>광진구</th>\n",
       "      <th>구로구</th>\n",
       "      <th>금천구</th>\n",
       "      <th>노원구</th>\n",
       "      <th>도봉구</th>\n",
       "      <th>...</th>\n",
       "      <th>성동구</th>\n",
       "      <th>성북구</th>\n",
       "      <th>송파구</th>\n",
       "      <th>양천구</th>\n",
       "      <th>영등포구</th>\n",
       "      <th>용산구</th>\n",
       "      <th>은평구</th>\n",
       "      <th>종로구</th>\n",
       "      <th>중구</th>\n",
       "      <th>중랑구</th>\n",
       "    </tr>\n",
       "    <tr>\n",
       "      <th>월</th>\n",
       "      <th></th>\n",
       "      <th></th>\n",
       "      <th></th>\n",
       "      <th></th>\n",
       "      <th></th>\n",
       "      <th></th>\n",
       "      <th></th>\n",
       "      <th></th>\n",
       "      <th></th>\n",
       "      <th></th>\n",
       "      <th></th>\n",
       "      <th></th>\n",
       "      <th></th>\n",
       "      <th></th>\n",
       "      <th></th>\n",
       "      <th></th>\n",
       "      <th></th>\n",
       "      <th></th>\n",
       "      <th></th>\n",
       "      <th></th>\n",
       "      <th></th>\n",
       "    </tr>\n",
       "  </thead>\n",
       "  <tbody>\n",
       "    <tr>\n",
       "      <th>1</th>\n",
       "      <td>1619.865825</td>\n",
       "      <td>1503.383302</td>\n",
       "      <td>1357.002488</td>\n",
       "      <td>1376.357474</td>\n",
       "      <td>1429.822262</td>\n",
       "      <td>1379.168459</td>\n",
       "      <td>1418.589124</td>\n",
       "      <td>1360.297767</td>\n",
       "      <td>1406.245161</td>\n",
       "      <td>1373.606112</td>\n",
       "      <td>...</td>\n",
       "      <td>1479.271347</td>\n",
       "      <td>1403.604488</td>\n",
       "      <td>1417.573361</td>\n",
       "      <td>1404.158915</td>\n",
       "      <td>1486.227823</td>\n",
       "      <td>1781.412903</td>\n",
       "      <td>1363.895636</td>\n",
       "      <td>1749.433692</td>\n",
       "      <td>1848.913978</td>\n",
       "      <td>1360.405242</td>\n",
       "    </tr>\n",
       "    <tr>\n",
       "      <th>2</th>\n",
       "      <td>1600.945536</td>\n",
       "      <td>1478.109244</td>\n",
       "      <td>1345.565934</td>\n",
       "      <td>1370.397959</td>\n",
       "      <td>1405.984127</td>\n",
       "      <td>1362.851190</td>\n",
       "      <td>1408.949675</td>\n",
       "      <td>1337.986264</td>\n",
       "      <td>1397.600000</td>\n",
       "      <td>1365.634951</td>\n",
       "      <td>...</td>\n",
       "      <td>1466.242105</td>\n",
       "      <td>1386.097027</td>\n",
       "      <td>1406.561503</td>\n",
       "      <td>1389.676991</td>\n",
       "      <td>1454.418527</td>\n",
       "      <td>1739.352645</td>\n",
       "      <td>1330.018908</td>\n",
       "      <td>1730.007937</td>\n",
       "      <td>1848.380952</td>\n",
       "      <td>1343.332589</td>\n",
       "    </tr>\n",
       "    <tr>\n",
       "      <th>3</th>\n",
       "      <td>1616.143548</td>\n",
       "      <td>1468.138277</td>\n",
       "      <td>1342.990074</td>\n",
       "      <td>1392.716129</td>\n",
       "      <td>1403.370510</td>\n",
       "      <td>1388.360215</td>\n",
       "      <td>1427.221408</td>\n",
       "      <td>1371.192982</td>\n",
       "      <td>1421.683871</td>\n",
       "      <td>1390.093190</td>\n",
       "      <td>...</td>\n",
       "      <td>1480.578748</td>\n",
       "      <td>1397.505865</td>\n",
       "      <td>1421.064581</td>\n",
       "      <td>1415.321622</td>\n",
       "      <td>1466.712551</td>\n",
       "      <td>1806.438710</td>\n",
       "      <td>1367.174573</td>\n",
       "      <td>1741.992832</td>\n",
       "      <td>1870.634409</td>\n",
       "      <td>1364.818376</td>\n",
       "    </tr>\n",
       "    <tr>\n",
       "      <th>4</th>\n",
       "      <td>1666.350000</td>\n",
       "      <td>1526.341667</td>\n",
       "      <td>1414.246154</td>\n",
       "      <td>1447.910749</td>\n",
       "      <td>1456.301230</td>\n",
       "      <td>1451.507407</td>\n",
       "      <td>1477.038052</td>\n",
       "      <td>1438.646154</td>\n",
       "      <td>1484.722222</td>\n",
       "      <td>1451.424861</td>\n",
       "      <td>...</td>\n",
       "      <td>1528.055118</td>\n",
       "      <td>1450.840909</td>\n",
       "      <td>1464.520334</td>\n",
       "      <td>1479.093793</td>\n",
       "      <td>1522.575000</td>\n",
       "      <td>1836.563474</td>\n",
       "      <td>1439.952941</td>\n",
       "      <td>1779.411111</td>\n",
       "      <td>1904.650000</td>\n",
       "      <td>1429.393333</td>\n",
       "    </tr>\n",
       "    <tr>\n",
       "      <th>5</th>\n",
       "      <td>1739.208232</td>\n",
       "      <td>1605.267206</td>\n",
       "      <td>1500.025126</td>\n",
       "      <td>1543.218433</td>\n",
       "      <td>1548.151210</td>\n",
       "      <td>1547.330341</td>\n",
       "      <td>1566.923642</td>\n",
       "      <td>1529.620347</td>\n",
       "      <td>1586.740175</td>\n",
       "      <td>1545.358423</td>\n",
       "      <td>...</td>\n",
       "      <td>1617.527514</td>\n",
       "      <td>1546.357771</td>\n",
       "      <td>1553.783620</td>\n",
       "      <td>1558.715561</td>\n",
       "      <td>1602.545363</td>\n",
       "      <td>1893.453362</td>\n",
       "      <td>1539.197343</td>\n",
       "      <td>1856.232975</td>\n",
       "      <td>1985.540845</td>\n",
       "      <td>1518.455914</td>\n",
       "    </tr>\n",
       "    <tr>\n",
       "      <th>6</th>\n",
       "      <td>1744.065833</td>\n",
       "      <td>1608.388309</td>\n",
       "      <td>1491.889744</td>\n",
       "      <td>1522.746425</td>\n",
       "      <td>1564.633333</td>\n",
       "      <td>1540.320370</td>\n",
       "      <td>1562.271212</td>\n",
       "      <td>1510.461538</td>\n",
       "      <td>1569.823661</td>\n",
       "      <td>1548.606679</td>\n",
       "      <td>...</td>\n",
       "      <td>1626.147348</td>\n",
       "      <td>1554.769697</td>\n",
       "      <td>1554.568300</td>\n",
       "      <td>1548.231283</td>\n",
       "      <td>1586.283473</td>\n",
       "      <td>1901.231111</td>\n",
       "      <td>1531.676529</td>\n",
       "      <td>1863.500000</td>\n",
       "      <td>2011.624242</td>\n",
       "      <td>1512.642222</td>\n",
       "    </tr>\n",
       "    <tr>\n",
       "      <th>7</th>\n",
       "      <td>1734.204712</td>\n",
       "      <td>1588.002020</td>\n",
       "      <td>1469.147132</td>\n",
       "      <td>1502.133396</td>\n",
       "      <td>1543.155242</td>\n",
       "      <td>1508.003584</td>\n",
       "      <td>1542.331378</td>\n",
       "      <td>1491.776675</td>\n",
       "      <td>1552.664516</td>\n",
       "      <td>1523.568696</td>\n",
       "      <td>...</td>\n",
       "      <td>1600.178368</td>\n",
       "      <td>1534.840176</td>\n",
       "      <td>1540.997980</td>\n",
       "      <td>1525.377261</td>\n",
       "      <td>1570.332659</td>\n",
       "      <td>1901.079570</td>\n",
       "      <td>1507.068311</td>\n",
       "      <td>1860.078853</td>\n",
       "      <td>2004.487603</td>\n",
       "      <td>1480.929293</td>\n",
       "    </tr>\n",
       "    <tr>\n",
       "      <th>8</th>\n",
       "      <td>1735.209040</td>\n",
       "      <td>1589.324597</td>\n",
       "      <td>1468.318408</td>\n",
       "      <td>1508.055028</td>\n",
       "      <td>1543.354839</td>\n",
       "      <td>1512.141818</td>\n",
       "      <td>1543.788856</td>\n",
       "      <td>1491.372208</td>\n",
       "      <td>1556.690323</td>\n",
       "      <td>1526.870968</td>\n",
       "      <td>...</td>\n",
       "      <td>1601.345420</td>\n",
       "      <td>1544.298969</td>\n",
       "      <td>1545.417339</td>\n",
       "      <td>1532.414729</td>\n",
       "      <td>1574.178427</td>\n",
       "      <td>1902.374194</td>\n",
       "      <td>1508.076046</td>\n",
       "      <td>1863.913978</td>\n",
       "      <td>2006.897849</td>\n",
       "      <td>1493.768145</td>\n",
       "    </tr>\n",
       "    <tr>\n",
       "      <th>9</th>\n",
       "      <td>1773.644167</td>\n",
       "      <td>1638.926931</td>\n",
       "      <td>1514.569231</td>\n",
       "      <td>1554.135693</td>\n",
       "      <td>1586.991649</td>\n",
       "      <td>1558.492278</td>\n",
       "      <td>1585.204545</td>\n",
       "      <td>1539.167526</td>\n",
       "      <td>1601.920000</td>\n",
       "      <td>1570.620387</td>\n",
       "      <td>...</td>\n",
       "      <td>1646.283730</td>\n",
       "      <td>1581.690363</td>\n",
       "      <td>1597.801463</td>\n",
       "      <td>1576.305195</td>\n",
       "      <td>1629.180396</td>\n",
       "      <td>1946.780761</td>\n",
       "      <td>1549.731373</td>\n",
       "      <td>1917.268199</td>\n",
       "      <td>2056.847222</td>\n",
       "      <td>1530.306250</td>\n",
       "    </tr>\n",
       "    <tr>\n",
       "      <th>10</th>\n",
       "      <td>1780.519355</td>\n",
       "      <td>1650.838710</td>\n",
       "      <td>1515.558313</td>\n",
       "      <td>1549.533207</td>\n",
       "      <td>1586.917339</td>\n",
       "      <td>1552.318868</td>\n",
       "      <td>1587.740061</td>\n",
       "      <td>1544.684864</td>\n",
       "      <td>1595.741935</td>\n",
       "      <td>1560.635739</td>\n",
       "      <td>...</td>\n",
       "      <td>1657.366224</td>\n",
       "      <td>1575.673021</td>\n",
       "      <td>1594.889463</td>\n",
       "      <td>1571.376398</td>\n",
       "      <td>1641.407669</td>\n",
       "      <td>1954.552688</td>\n",
       "      <td>1550.986692</td>\n",
       "      <td>1903.379928</td>\n",
       "      <td>2078.927326</td>\n",
       "      <td>1523.586694</td>\n",
       "    </tr>\n",
       "    <tr>\n",
       "      <th>11</th>\n",
       "      <td>1768.602500</td>\n",
       "      <td>1632.787500</td>\n",
       "      <td>1505.035897</td>\n",
       "      <td>1537.513725</td>\n",
       "      <td>1582.785417</td>\n",
       "      <td>1534.260784</td>\n",
       "      <td>1584.300000</td>\n",
       "      <td>1540.884319</td>\n",
       "      <td>1590.946667</td>\n",
       "      <td>1532.264815</td>\n",
       "      <td>...</td>\n",
       "      <td>1643.568627</td>\n",
       "      <td>1556.253049</td>\n",
       "      <td>1553.281412</td>\n",
       "      <td>1556.754839</td>\n",
       "      <td>1635.982292</td>\n",
       "      <td>1953.608889</td>\n",
       "      <td>1538.811395</td>\n",
       "      <td>1892.740741</td>\n",
       "      <td>2057.848485</td>\n",
       "      <td>1520.824635</td>\n",
       "    </tr>\n",
       "    <tr>\n",
       "      <th>12</th>\n",
       "      <td>1773.900082</td>\n",
       "      <td>1635.522177</td>\n",
       "      <td>1511.468983</td>\n",
       "      <td>1560.121673</td>\n",
       "      <td>1591.328629</td>\n",
       "      <td>1556.163188</td>\n",
       "      <td>1597.913978</td>\n",
       "      <td>1559.215881</td>\n",
       "      <td>1601.903226</td>\n",
       "      <td>1532.709677</td>\n",
       "      <td>...</td>\n",
       "      <td>1649.977230</td>\n",
       "      <td>1564.967697</td>\n",
       "      <td>1564.572825</td>\n",
       "      <td>1571.936409</td>\n",
       "      <td>1641.550403</td>\n",
       "      <td>1951.595652</td>\n",
       "      <td>1547.113852</td>\n",
       "      <td>1899.917563</td>\n",
       "      <td>2065.598240</td>\n",
       "      <td>1538.842742</td>\n",
       "    </tr>\n",
       "  </tbody>\n",
       "</table>\n",
       "<p>12 rows × 25 columns</p>\n",
       "</div>"
      ],
      "text/plain": [
       "구           강남구          강동구          강북구          강서구          관악구  \\\n",
       "월                                                                     \n",
       "1   1619.865825  1503.383302  1357.002488  1376.357474  1429.822262   \n",
       "2   1600.945536  1478.109244  1345.565934  1370.397959  1405.984127   \n",
       "3   1616.143548  1468.138277  1342.990074  1392.716129  1403.370510   \n",
       "4   1666.350000  1526.341667  1414.246154  1447.910749  1456.301230   \n",
       "5   1739.208232  1605.267206  1500.025126  1543.218433  1548.151210   \n",
       "6   1744.065833  1608.388309  1491.889744  1522.746425  1564.633333   \n",
       "7   1734.204712  1588.002020  1469.147132  1502.133396  1543.155242   \n",
       "8   1735.209040  1589.324597  1468.318408  1508.055028  1543.354839   \n",
       "9   1773.644167  1638.926931  1514.569231  1554.135693  1586.991649   \n",
       "10  1780.519355  1650.838710  1515.558313  1549.533207  1586.917339   \n",
       "11  1768.602500  1632.787500  1505.035897  1537.513725  1582.785417   \n",
       "12  1773.900082  1635.522177  1511.468983  1560.121673  1591.328629   \n",
       "\n",
       "구           광진구          구로구          금천구          노원구          도봉구  ...  \\\n",
       "월                                                                    ...   \n",
       "1   1379.168459  1418.589124  1360.297767  1406.245161  1373.606112  ...   \n",
       "2   1362.851190  1408.949675  1337.986264  1397.600000  1365.634951  ...   \n",
       "3   1388.360215  1427.221408  1371.192982  1421.683871  1390.093190  ...   \n",
       "4   1451.507407  1477.038052  1438.646154  1484.722222  1451.424861  ...   \n",
       "5   1547.330341  1566.923642  1529.620347  1586.740175  1545.358423  ...   \n",
       "6   1540.320370  1562.271212  1510.461538  1569.823661  1548.606679  ...   \n",
       "7   1508.003584  1542.331378  1491.776675  1552.664516  1523.568696  ...   \n",
       "8   1512.141818  1543.788856  1491.372208  1556.690323  1526.870968  ...   \n",
       "9   1558.492278  1585.204545  1539.167526  1601.920000  1570.620387  ...   \n",
       "10  1552.318868  1587.740061  1544.684864  1595.741935  1560.635739  ...   \n",
       "11  1534.260784  1584.300000  1540.884319  1590.946667  1532.264815  ...   \n",
       "12  1556.163188  1597.913978  1559.215881  1601.903226  1532.709677  ...   \n",
       "\n",
       "구           성동구          성북구          송파구          양천구         영등포구  \\\n",
       "월                                                                     \n",
       "1   1479.271347  1403.604488  1417.573361  1404.158915  1486.227823   \n",
       "2   1466.242105  1386.097027  1406.561503  1389.676991  1454.418527   \n",
       "3   1480.578748  1397.505865  1421.064581  1415.321622  1466.712551   \n",
       "4   1528.055118  1450.840909  1464.520334  1479.093793  1522.575000   \n",
       "5   1617.527514  1546.357771  1553.783620  1558.715561  1602.545363   \n",
       "6   1626.147348  1554.769697  1554.568300  1548.231283  1586.283473   \n",
       "7   1600.178368  1534.840176  1540.997980  1525.377261  1570.332659   \n",
       "8   1601.345420  1544.298969  1545.417339  1532.414729  1574.178427   \n",
       "9   1646.283730  1581.690363  1597.801463  1576.305195  1629.180396   \n",
       "10  1657.366224  1575.673021  1594.889463  1571.376398  1641.407669   \n",
       "11  1643.568627  1556.253049  1553.281412  1556.754839  1635.982292   \n",
       "12  1649.977230  1564.967697  1564.572825  1571.936409  1641.550403   \n",
       "\n",
       "구           용산구          은평구          종로구           중구          중랑구  \n",
       "월                                                                    \n",
       "1   1781.412903  1363.895636  1749.433692  1848.913978  1360.405242  \n",
       "2   1739.352645  1330.018908  1730.007937  1848.380952  1343.332589  \n",
       "3   1806.438710  1367.174573  1741.992832  1870.634409  1364.818376  \n",
       "4   1836.563474  1439.952941  1779.411111  1904.650000  1429.393333  \n",
       "5   1893.453362  1539.197343  1856.232975  1985.540845  1518.455914  \n",
       "6   1901.231111  1531.676529  1863.500000  2011.624242  1512.642222  \n",
       "7   1901.079570  1507.068311  1860.078853  2004.487603  1480.929293  \n",
       "8   1902.374194  1508.076046  1863.913978  2006.897849  1493.768145  \n",
       "9   1946.780761  1549.731373  1917.268199  2056.847222  1530.306250  \n",
       "10  1954.552688  1550.986692  1903.379928  2078.927326  1523.586694  \n",
       "11  1953.608889  1538.811395  1892.740741  2057.848485  1520.824635  \n",
       "12  1951.595652  1547.113852  1899.917563  2065.598240  1538.842742  \n",
       "\n",
       "[12 rows x 25 columns]"
      ]
     },
     "execution_count": 171,
     "metadata": {},
     "output_type": "execute_result"
    }
   ],
   "source": [
    "# 각 구의 월별 평균 휘발유 가격 \n",
    "구_월별_휘발유_평균 = df.pivot_table(values='휘발유',\n",
    "                                    index='월',\n",
    "                                    columns='구',\n",
    "                                    aggfunc='mean')\n",
    "구_월별_휘발유_평균"
   ]
  },
  {
   "cell_type": "code",
   "execution_count": 178,
   "metadata": {
    "ExecuteTime": {
     "end_time": "2020-08-16T12:00:24.291151Z",
     "start_time": "2020-08-16T12:00:23.846309Z"
    }
   },
   "outputs": [
    {
     "data": {
      "image/png": "[encoded data removed]",
      "text/plain": [
       "<Figure size 1440x504 with 1 Axes>"
      ]
     },
     "metadata": {
      "needs_background": "light"
     },
     "output_type": "display_data"
    }
   ],
   "source": [
    "# 각 구의 월별 평균가격의 변화추이 시각화\n",
    "구_월별_휘발유_평균.plot(kind='line', figsize=(20,7))\n",
    "plt.legend(bbox_to_anchor=(1,1), \n",
    "           loc='upper left',\n",
    "           ncol=2)\n",
    "plt.show()"
   ]
  },
  {
   "cell_type": "code",
   "execution_count": 187,
   "metadata": {},
   "outputs": [
    {
     "data": {
      "text/html": [
       "<div>\n",
       "<style scoped>\n",
       "    .dataframe tbody tr th:only-of-type {\n",
       "        vertical-align: middle;\n",
       "    }\n",
       "\n",
       "    .dataframe tbody tr th {\n",
       "        vertical-align: top;\n",
       "    }\n",
       "\n",
       "    .dataframe thead th {\n",
       "        text-align: right;\n",
       "    }\n",
       "</style>\n",
       "<table border=\"1\" class=\"dataframe\">\n",
       "  <thead>\n",
       "    <tr style=\"text-align: right;\">\n",
       "      <th></th>\n",
       "      <th>번호</th>\n",
       "      <th>지역</th>\n",
       "      <th>상호</th>\n",
       "      <th>주소</th>\n",
       "      <th>기간</th>\n",
       "      <th>상표</th>\n",
       "      <th>셀프여부</th>\n",
       "      <th>고급휘발유</th>\n",
       "      <th>휘발유</th>\n",
       "      <th>경유</th>\n",
       "      <th>실내등유</th>\n",
       "      <th>구</th>\n",
       "      <th>월</th>\n",
       "      <th>요일</th>\n",
       "      <th>일</th>\n",
       "    </tr>\n",
       "  </thead>\n",
       "  <tbody>\n",
       "    <tr>\n",
       "      <th>0</th>\n",
       "      <td>A0006039</td>\n",
       "      <td>서울 강남구</td>\n",
       "      <td>(주)동하힐탑셀프주유소</td>\n",
       "      <td>서울 강남구 논현로 640</td>\n",
       "      <td>2019-01-01</td>\n",
       "      <td>SK에너지</td>\n",
       "      <td>셀프</td>\n",
       "      <td>1673</td>\n",
       "      <td>1465</td>\n",
       "      <td>1365</td>\n",
       "      <td>0</td>\n",
       "      <td>강남구</td>\n",
       "      <td>1</td>\n",
       "      <td>화</td>\n",
       "      <td>1</td>\n",
       "    </tr>\n",
       "    <tr>\n",
       "      <th>1</th>\n",
       "      <td>A0006039</td>\n",
       "      <td>서울 강남구</td>\n",
       "      <td>(주)동하힐탑셀프주유소</td>\n",
       "      <td>서울 강남구 논현로 640</td>\n",
       "      <td>2019-01-02</td>\n",
       "      <td>SK에너지</td>\n",
       "      <td>셀프</td>\n",
       "      <td>1673</td>\n",
       "      <td>1465</td>\n",
       "      <td>1365</td>\n",
       "      <td>0</td>\n",
       "      <td>강남구</td>\n",
       "      <td>1</td>\n",
       "      <td>수</td>\n",
       "      <td>2</td>\n",
       "    </tr>\n",
       "    <tr>\n",
       "      <th>2</th>\n",
       "      <td>A0006039</td>\n",
       "      <td>서울 강남구</td>\n",
       "      <td>(주)동하힐탑셀프주유소</td>\n",
       "      <td>서울 강남구 논현로 640</td>\n",
       "      <td>2019-01-03</td>\n",
       "      <td>SK에너지</td>\n",
       "      <td>셀프</td>\n",
       "      <td>1673</td>\n",
       "      <td>1465</td>\n",
       "      <td>1365</td>\n",
       "      <td>0</td>\n",
       "      <td>강남구</td>\n",
       "      <td>1</td>\n",
       "      <td>목</td>\n",
       "      <td>3</td>\n",
       "    </tr>\n",
       "    <tr>\n",
       "      <th>3</th>\n",
       "      <td>A0006039</td>\n",
       "      <td>서울 강남구</td>\n",
       "      <td>(주)동하힐탑셀프주유소</td>\n",
       "      <td>서울 강남구 논현로 640</td>\n",
       "      <td>2019-01-04</td>\n",
       "      <td>SK에너지</td>\n",
       "      <td>셀프</td>\n",
       "      <td>1673</td>\n",
       "      <td>1465</td>\n",
       "      <td>1365</td>\n",
       "      <td>0</td>\n",
       "      <td>강남구</td>\n",
       "      <td>1</td>\n",
       "      <td>금</td>\n",
       "      <td>4</td>\n",
       "    </tr>\n",
       "    <tr>\n",
       "      <th>4</th>\n",
       "      <td>A0006039</td>\n",
       "      <td>서울 강남구</td>\n",
       "      <td>(주)동하힐탑셀프주유소</td>\n",
       "      <td>서울 강남구 논현로 640</td>\n",
       "      <td>2019-01-05</td>\n",
       "      <td>SK에너지</td>\n",
       "      <td>셀프</td>\n",
       "      <td>1673</td>\n",
       "      <td>1465</td>\n",
       "      <td>1365</td>\n",
       "      <td>0</td>\n",
       "      <td>강남구</td>\n",
       "      <td>1</td>\n",
       "      <td>토</td>\n",
       "      <td>5</td>\n",
       "    </tr>\n",
       "  </tbody>\n",
       "</table>\n",
       "</div>"
      ],
      "text/plain": [
       "         번호      지역            상호              주소         기간     상표 셀프여부  \\\n",
       "0  A0006039  서울 강남구  (주)동하힐탑셀프주유소  서울 강남구 논현로 640 2019-01-01  SK에너지   셀프   \n",
       "1  A0006039  서울 강남구  (주)동하힐탑셀프주유소  서울 강남구 논현로 640 2019-01-02  SK에너지   셀프   \n",
       "2  A0006039  서울 강남구  (주)동하힐탑셀프주유소  서울 강남구 논현로 640 2019-01-03  SK에너지   셀프   \n",
       "3  A0006039  서울 강남구  (주)동하힐탑셀프주유소  서울 강남구 논현로 640 2019-01-04  SK에너지   셀프   \n",
       "4  A0006039  서울 강남구  (주)동하힐탑셀프주유소  서울 강남구 논현로 640 2019-01-05  SK에너지   셀프   \n",
       "\n",
       "   고급휘발유   휘발유    경유  실내등유    구  월 요일  일  \n",
       "0   1673  1465  1365     0  강남구  1  화  1  \n",
       "1   1673  1465  1365     0  강남구  1  수  2  \n",
       "2   1673  1465  1365     0  강남구  1  목  3  \n",
       "3   1673  1465  1365     0  강남구  1  금  4  \n",
       "4   1673  1465  1365     0  강남구  1  토  5  "
      ]
     },
     "execution_count": 187,
     "metadata": {},
     "output_type": "execute_result"
    }
   ],
   "source": [
    "df.head()"
   ]
  },
  {
   "cell_type": "code",
   "execution_count": 183,
   "metadata": {
    "ExecuteTime": {
     "end_time": "2020-08-16T12:00:24.339023Z",
     "start_time": "2020-08-16T12:00:24.293112Z"
    },
    "scrolled": true
   },
   "outputs": [
    {
     "data": {
      "text/plain": [
       "상호\n",
       "서남주유소          2207.252055\n",
       "장충주유소          2139.323288\n",
       "뉴서울(강남)        2130.060274\n",
       "SC(주) 역전주유소    2125.778082\n",
       "필동주유소          2098.095890\n",
       "Name: 휘발유, dtype: float64"
      ]
     },
     "execution_count": 183,
     "metadata": {},
     "output_type": "execute_result"
    }
   ],
   "source": [
    "# 가장 휘발유가격이 비싼 주유소 상위 5 \n",
    "# df.sort_values('휘발유',ascending=False).head()\n",
    "# - 각 주유소별 평균 => 정렬\n",
    "비싼주유소 = df.groupby('상호')['휘발유'].mean().sort_values(ascending=False).head()\n",
    "비싼주유소"
   ]
  },
  {
   "cell_type": "code",
   "execution_count": 186,
   "metadata": {
    "ExecuteTime": {
     "end_time": "2020-08-16T12:00:24.434734Z",
     "start_time": "2020-08-16T12:00:24.340986Z"
    },
    "scrolled": true
   },
   "outputs": [
    {
     "data": {
      "text/plain": [
       "상호\n",
       "(주)창원현대주유소           1362.553719\n",
       "엘스카운티(주)천동주유소        1397.306452\n",
       "SK네트웍스(주) 서울셀프주유소    1407.505051\n",
       "KH에너지(주)직영 수명산주유소    1416.021739\n",
       "이케이에너지㈜ 강산주유소        1416.290909\n",
       "Name: 휘발유, dtype: float64"
      ]
     },
     "execution_count": 186,
     "metadata": {},
     "output_type": "execute_result"
    }
   ],
   "source": [
    "# 가장 휘발유가격이 저렴한 주유소 상위 5 \n",
    "저렴한주유소 = df.groupby('상호')['휘발유'].mean().sort_values().head()\n",
    "저렴한주유소"
   ]
  },
  {
   "cell_type": "code",
   "execution_count": 191,
   "metadata": {
    "ExecuteTime": {
     "end_time": "2020-08-16T12:00:24.510531Z",
     "start_time": "2020-08-16T12:00:24.439725Z"
    }
   },
   "outputs": [
    {
     "data": {
      "text/html": [
       "<div>\n",
       "<style scoped>\n",
       "    .dataframe tbody tr th:only-of-type {\n",
       "        vertical-align: middle;\n",
       "    }\n",
       "\n",
       "    .dataframe tbody tr th {\n",
       "        vertical-align: top;\n",
       "    }\n",
       "\n",
       "    .dataframe thead th {\n",
       "        text-align: right;\n",
       "    }\n",
       "</style>\n",
       "<table border=\"1\" class=\"dataframe\">\n",
       "  <thead>\n",
       "    <tr style=\"text-align: right;\">\n",
       "      <th></th>\n",
       "      <th>상호</th>\n",
       "      <th>지역</th>\n",
       "      <th>주소</th>\n",
       "    </tr>\n",
       "  </thead>\n",
       "  <tbody>\n",
       "    <tr>\n",
       "      <th>86231</th>\n",
       "      <td>서남주유소</td>\n",
       "      <td>서울 중구</td>\n",
       "      <td>서울 중구 통일로 30</td>\n",
       "    </tr>\n",
       "    <tr>\n",
       "      <th>86955</th>\n",
       "      <td>장충주유소</td>\n",
       "      <td>서울 중구</td>\n",
       "      <td>서울 중구 장충단로 202 (장충동1가)</td>\n",
       "    </tr>\n",
       "  </tbody>\n",
       "</table>\n",
       "</div>"
      ],
      "text/plain": [
       "          상호     지역                      주소\n",
       "86231  서남주유소  서울 중구            서울 중구 통일로 30\n",
       "86955  장충주유소  서울 중구  서울 중구 장충단로 202 (장충동1가)"
      ]
     },
     "execution_count": 191,
     "metadata": {},
     "output_type": "execute_result"
    }
   ],
   "source": [
    "# 휘발유 비싼 주유소의 상위 5개의 상호, 지역, 주소 조회(중복제거-drop_duplicates())\n",
    "df.loc[(df['상호'] == '서남주유소') | (df['상호'] == '장충주유소') , ['상호','지역','주소']].drop_duplicates()"
   ]
  },
  {
   "cell_type": "code",
   "execution_count": 195,
   "metadata": {},
   "outputs": [
    {
     "data": {
      "text/plain": [
       "Index(['서남주유소', '장충주유소', '뉴서울(강남)', 'SC(주) 역전주유소', '필동주유소'], dtype='object', name='상호')"
      ]
     },
     "execution_count": 195,
     "metadata": {},
     "output_type": "execute_result"
    }
   ],
   "source": [
    "비싼주유소.index"
   ]
  },
  {
   "cell_type": "code",
   "execution_count": 198,
   "metadata": {},
   "outputs": [
    {
     "data": {
      "text/html": [
       "<div>\n",
       "<style scoped>\n",
       "    .dataframe tbody tr th:only-of-type {\n",
       "        vertical-align: middle;\n",
       "    }\n",
       "\n",
       "    .dataframe tbody tr th {\n",
       "        vertical-align: top;\n",
       "    }\n",
       "\n",
       "    .dataframe thead th {\n",
       "        text-align: right;\n",
       "    }\n",
       "</style>\n",
       "<table border=\"1\" class=\"dataframe\">\n",
       "  <thead>\n",
       "    <tr style=\"text-align: right;\">\n",
       "      <th></th>\n",
       "      <th>상호</th>\n",
       "      <th>지역</th>\n",
       "      <th>주소</th>\n",
       "    </tr>\n",
       "  </thead>\n",
       "  <tbody>\n",
       "    <tr>\n",
       "      <th>2896</th>\n",
       "      <td>뉴서울(강남)</td>\n",
       "      <td>서울 강남구</td>\n",
       "      <td>서울 강남구 언주로 716 (논현동)</td>\n",
       "    </tr>\n",
       "    <tr>\n",
       "      <th>85869</th>\n",
       "      <td>SC(주) 역전주유소</td>\n",
       "      <td>서울 중구</td>\n",
       "      <td>서울 중구 퇴계로 15</td>\n",
       "    </tr>\n",
       "    <tr>\n",
       "      <th>86231</th>\n",
       "      <td>서남주유소</td>\n",
       "      <td>서울 중구</td>\n",
       "      <td>서울 중구 통일로 30</td>\n",
       "    </tr>\n",
       "    <tr>\n",
       "      <th>86955</th>\n",
       "      <td>장충주유소</td>\n",
       "      <td>서울 중구</td>\n",
       "      <td>서울 중구 장충단로 202 (장충동1가)</td>\n",
       "    </tr>\n",
       "    <tr>\n",
       "      <th>87317</th>\n",
       "      <td>필동주유소</td>\n",
       "      <td>서울 중구</td>\n",
       "      <td>서울 중구  퇴계로 196 (필동2가)</td>\n",
       "    </tr>\n",
       "  </tbody>\n",
       "</table>\n",
       "</div>"
      ],
      "text/plain": [
       "                상호      지역                      주소\n",
       "2896       뉴서울(강남)  서울 강남구    서울 강남구 언주로 716 (논현동)\n",
       "85869  SC(주) 역전주유소   서울 중구            서울 중구 퇴계로 15\n",
       "86231        서남주유소   서울 중구            서울 중구 통일로 30\n",
       "86955        장충주유소   서울 중구  서울 중구 장충단로 202 (장충동1가)\n",
       "87317        필동주유소   서울 중구   서울 중구  퇴계로 196 (필동2가)"
      ]
     },
     "execution_count": 198,
     "metadata": {},
     "output_type": "execute_result"
    }
   ],
   "source": [
    "df.loc[df['상호'].isin(비싼주유소.index), ['상호','지역','주소']].drop_duplicates()"
   ]
  },
  {
   "cell_type": "code",
   "execution_count": 199,
   "metadata": {
    "ExecuteTime": {
     "end_time": "2020-08-16T12:00:24.587326Z",
     "start_time": "2020-08-16T12:00:24.515518Z"
    }
   },
   "outputs": [
    {
     "data": {
      "text/html": [
       "<div>\n",
       "<style scoped>\n",
       "    .dataframe tbody tr th:only-of-type {\n",
       "        vertical-align: middle;\n",
       "    }\n",
       "\n",
       "    .dataframe tbody tr th {\n",
       "        vertical-align: top;\n",
       "    }\n",
       "\n",
       "    .dataframe thead th {\n",
       "        text-align: right;\n",
       "    }\n",
       "</style>\n",
       "<table border=\"1\" class=\"dataframe\">\n",
       "  <thead>\n",
       "    <tr style=\"text-align: right;\">\n",
       "      <th></th>\n",
       "      <th>상호</th>\n",
       "      <th>지역</th>\n",
       "      <th>주소</th>\n",
       "    </tr>\n",
       "  </thead>\n",
       "  <tbody>\n",
       "    <tr>\n",
       "      <th>9436</th>\n",
       "      <td>엘스카운티(주)천동주유소</td>\n",
       "      <td>서울 강동구</td>\n",
       "      <td>서울 강동구 천호대로 987 (천호동)</td>\n",
       "    </tr>\n",
       "    <tr>\n",
       "      <th>13472</th>\n",
       "      <td>KH에너지(주)직영 수명산주유소</td>\n",
       "      <td>서울 강서구</td>\n",
       "      <td>서울 강서구 남부순환로 195 (내발산동)</td>\n",
       "    </tr>\n",
       "    <tr>\n",
       "      <th>19607</th>\n",
       "      <td>SK네트웍스(주) 서울셀프주유소</td>\n",
       "      <td>서울 관악구</td>\n",
       "      <td>서울 관악구 신림로 183 (신림동)</td>\n",
       "    </tr>\n",
       "    <tr>\n",
       "      <th>46052</th>\n",
       "      <td>(주)창원현대주유소</td>\n",
       "      <td>서울 서대문구</td>\n",
       "      <td>서울 서대문구 통일로 537</td>\n",
       "    </tr>\n",
       "    <tr>\n",
       "      <th>61061</th>\n",
       "      <td>이케이에너지㈜ 강산주유소</td>\n",
       "      <td>서울 성북구</td>\n",
       "      <td>서울 성북구 보문로 27 (보문동7가)</td>\n",
       "    </tr>\n",
       "  </tbody>\n",
       "</table>\n",
       "</div>"
      ],
      "text/plain": [
       "                      상호       지역                       주소\n",
       "9436       엘스카운티(주)천동주유소   서울 강동구    서울 강동구 천호대로 987 (천호동)\n",
       "13472  KH에너지(주)직영 수명산주유소   서울 강서구  서울 강서구 남부순환로 195 (내발산동)\n",
       "19607  SK네트웍스(주) 서울셀프주유소   서울 관악구     서울 관악구 신림로 183 (신림동)\n",
       "46052         (주)창원현대주유소  서울 서대문구          서울 서대문구 통일로 537\n",
       "61061      이케이에너지㈜ 강산주유소   서울 성북구    서울 성북구 보문로 27 (보문동7가)"
      ]
     },
     "execution_count": 199,
     "metadata": {},
     "output_type": "execute_result"
    }
   ],
   "source": [
    "# 휘발유 저렴한 주유소의 상위 5개의 상호, 지역, 주소 조회(중복제거)\n",
    "df.loc[df['상호'].isin(저렴한주유소.index), ['상호','지역','주소']].drop_duplicates()"
   ]
  },
  {
   "cell_type": "code",
   "execution_count": null,
   "metadata": {},
   "outputs": [],
   "source": []
  },
  {
   "cell_type": "code",
   "execution_count": null,
   "metadata": {},
   "outputs": [],
   "source": []
  },
  {
   "cell_type": "code",
   "execution_count": null,
   "metadata": {},
   "outputs": [],
   "source": []
  },
  {
   "cell_type": "code",
   "execution_count": null,
   "metadata": {},
   "outputs": [],
   "source": []
  },
  {
   "cell_type": "code",
   "execution_count": null,
   "metadata": {},
   "outputs": [],
   "source": []
  },
  {
   "cell_type": "code",
   "execution_count": null,
   "metadata": {},
   "outputs": [],
   "source": []
  }
 ],
 "metadata": {
  "kernelspec": {
   "display_name": "Python 3",
   "language": "python",
   "name": "python3"
  },
  "language_info": {
   "codemirror_mode": {
    "name": "ipython",
    "version": 3
   },
   "file_extension": ".py",
   "mimetype": "text/x-python",
   "name": "python",
   "nbconvert_exporter": "python",
   "pygments_lexer": "ipython3",
   "version": "3.8.5"
  },
  "toc": {
   "base_numbering": 1,
   "nav_menu": {},
   "number_sections": true,
   "sideBar": true,
   "skip_h1_title": false,
   "title_cell": "Table of Contents",
   "title_sidebar": "Contents",
   "toc_cell": false,
   "toc_position": {},
   "toc_section_display": true,
   "toc_window_display": false
  },
  "varInspector": {
   "cols": {
    "lenName": 16,
    "lenType": 16,
    "lenVar": 40
   },
   "kernels_config": {
    "python": {
     "delete_cmd_postfix": "",
     "delete_cmd_prefix": "del ",
     "library": "var_list.py",
     "varRefreshCmd": "print(var_dic_list())"
    },
    "r": {
     "delete_cmd_postfix": ") ",
     "delete_cmd_prefix": "rm(",
     "library": "var_list.r",
     "varRefreshCmd": "cat(var_dic_list()) "
    }
   },
   "types_to_exclude": [
    "module",
    "function",
    "builtin_function_or_method",
    "instance",
    "_Feature"
   ],
   "window_display": false
  }
 },
 "nbformat": 4,
 "nbformat_minor": 4
}
